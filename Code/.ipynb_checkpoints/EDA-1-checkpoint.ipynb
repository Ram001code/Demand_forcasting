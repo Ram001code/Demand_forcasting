{
 "cells": [
  {
   "cell_type": "code",
   "execution_count": 1,
   "id": "2bdbae0e",
   "metadata": {},
   "outputs": [],
   "source": [
    "import pandas as pd\n",
    "import numpy as np"
   ]
  },
  {
   "cell_type": "code",
   "execution_count": 47,
   "id": "bcc719cf",
   "metadata": {},
   "outputs": [],
   "source": [
    "# loc= 'C:\\\\Users\\\\Ramshankar\\\\OneDrive - iLink Systems Inc\\\\Documents\\\\Costco\\\\Dataset'\n",
    "\n",
    "data_Inline = pd.read_excel('C:\\\\Users\\\\Ramshankar\\\\OneDrive - iLink Systems Inc\\\\Documents\\\\Costco\\\\Dataset\\\\Inventory Visibility - Dataset Updated.xlsx', sheet_name= 'Inline On-Hand')"
   ]
  },
  {
   "cell_type": "code",
   "execution_count": 48,
   "id": "12c5d802",
   "metadata": {},
   "outputs": [
    {
     "data": {
      "text/html": [
       "<div>\n",
       "<style scoped>\n",
       "    .dataframe tbody tr th:only-of-type {\n",
       "        vertical-align: middle;\n",
       "    }\n",
       "\n",
       "    .dataframe tbody tr th {\n",
       "        vertical-align: top;\n",
       "    }\n",
       "\n",
       "    .dataframe thead th {\n",
       "        text-align: right;\n",
       "    }\n",
       "</style>\n",
       "<table border=\"1\" class=\"dataframe\">\n",
       "  <thead>\n",
       "    <tr style=\"text-align: right;\">\n",
       "      <th></th>\n",
       "      <th>CALENDAR_YR_NUM</th>\n",
       "      <th>CALENDAR_MO_NUM</th>\n",
       "      <th>COMPANY_CODE</th>\n",
       "      <th>BI_RPT_STATE_CODE</th>\n",
       "      <th>BI_RPT_REGION_DESC</th>\n",
       "      <th>BI_RPT_DISTRICT_DESC</th>\n",
       "      <th>LOCATION_LONG_NAME</th>\n",
       "      <th>MAJOR_DEPT_GRP_LONG_DESC</th>\n",
       "      <th>BI_DEPARTMENT_NUM_LDESC</th>\n",
       "      <th>BI_MAJOR_CATEGORY_CODE_DESC</th>\n",
       "      <th>...</th>\n",
       "      <th>BI_ITEM_CATEGORY_CODE_DESC</th>\n",
       "      <th>ITEM_DESC_1</th>\n",
       "      <th>OnHand_QTY</th>\n",
       "      <th>OnHand_AMT</th>\n",
       "      <th>OnOrder_QTY</th>\n",
       "      <th>OnOrder_AMT</th>\n",
       "      <th>InTransit_QTY</th>\n",
       "      <th>InTransit_AMT</th>\n",
       "      <th>Non-Saleable-Items_QTY</th>\n",
       "      <th>Non-Saleable-Items_AMT</th>\n",
       "    </tr>\n",
       "  </thead>\n",
       "  <tbody>\n",
       "    <tr>\n",
       "      <th>0</th>\n",
       "      <td>2021</td>\n",
       "      <td>4</td>\n",
       "      <td>US</td>\n",
       "      <td>SC</td>\n",
       "      <td>SOUTHEAST</td>\n",
       "      <td>SE4</td>\n",
       "      <td>MT PLEASANT</td>\n",
       "      <td>FOOD</td>\n",
       "      <td>13 FOOD</td>\n",
       "      <td>T BREAD</td>\n",
       "      <td>...</td>\n",
       "      <td>TAD SPECIALTY BREAD</td>\n",
       "      <td>IRISH SODA BREAD 2.5 LBS</td>\n",
       "      <td>10</td>\n",
       "      <td>59.90</td>\n",
       "      <td>0</td>\n",
       "      <td>0.00</td>\n",
       "      <td>0</td>\n",
       "      <td>0.00</td>\n",
       "      <td>0</td>\n",
       "      <td>0.0</td>\n",
       "    </tr>\n",
       "    <tr>\n",
       "      <th>1</th>\n",
       "      <td>2021</td>\n",
       "      <td>11</td>\n",
       "      <td>US</td>\n",
       "      <td>KS</td>\n",
       "      <td>MID WEST</td>\n",
       "      <td>MW5</td>\n",
       "      <td>OVERLAND PARK</td>\n",
       "      <td>OTHER BUS.</td>\n",
       "      <td>94 OPTICAL</td>\n",
       "      <td>F FRAMES</td>\n",
       "      <td>...</td>\n",
       "      <td>FSR FRAME SUN RXABLE</td>\n",
       "      <td>VIA SPIGA VS424S (I)</td>\n",
       "      <td>18</td>\n",
       "      <td>1079.82</td>\n",
       "      <td>8</td>\n",
       "      <td>479.92</td>\n",
       "      <td>4</td>\n",
       "      <td>239.96</td>\n",
       "      <td>0</td>\n",
       "      <td>0.0</td>\n",
       "    </tr>\n",
       "    <tr>\n",
       "      <th>2</th>\n",
       "      <td>2022</td>\n",
       "      <td>4</td>\n",
       "      <td>US</td>\n",
       "      <td>MI</td>\n",
       "      <td>MID WEST</td>\n",
       "      <td>MW1</td>\n",
       "      <td>BLOOMFIELD</td>\n",
       "      <td>FRESH FOOD</td>\n",
       "      <td>65 PRODUCE</td>\n",
       "      <td>1 PRODUCE</td>\n",
       "      <td>...</td>\n",
       "      <td>1K1 SALAD KITS ORGANIC</td>\n",
       "      <td>ORGANIC CAESAR SALAD KIT</td>\n",
       "      <td>7031</td>\n",
       "      <td>63208.69</td>\n",
       "      <td>3672</td>\n",
       "      <td>33011.28</td>\n",
       "      <td>648</td>\n",
       "      <td>5825.52</td>\n",
       "      <td>0</td>\n",
       "      <td>0.0</td>\n",
       "    </tr>\n",
       "    <tr>\n",
       "      <th>3</th>\n",
       "      <td>2021</td>\n",
       "      <td>3</td>\n",
       "      <td>US</td>\n",
       "      <td>HI</td>\n",
       "      <td>LA REGION</td>\n",
       "      <td>LA4</td>\n",
       "      <td>KAPOLEI</td>\n",
       "      <td>SOFTLINES</td>\n",
       "      <td>32 HOUSEWARES</td>\n",
       "      <td>J DINNERWARE</td>\n",
       "      <td>...</td>\n",
       "      <td>JAB CASUAL 20PC OR LESS SETS</td>\n",
       "      <td>GIBSON MONTEREY 16PC BLUE</td>\n",
       "      <td>284</td>\n",
       "      <td>11357.16</td>\n",
       "      <td>0</td>\n",
       "      <td>0.00</td>\n",
       "      <td>0</td>\n",
       "      <td>0.00</td>\n",
       "      <td>0</td>\n",
       "      <td>0.0</td>\n",
       "    </tr>\n",
       "    <tr>\n",
       "      <th>4</th>\n",
       "      <td>2021</td>\n",
       "      <td>12</td>\n",
       "      <td>US</td>\n",
       "      <td>IA</td>\n",
       "      <td>MID WEST</td>\n",
       "      <td>MW4</td>\n",
       "      <td>WEST DES MOINES</td>\n",
       "      <td>SOFTLINES</td>\n",
       "      <td>35 JEWELRY</td>\n",
       "      <td>D COLORED GEMS</td>\n",
       "      <td>...</td>\n",
       "      <td>DSB SEMI PREC PENDANTS OR NECKLACE</td>\n",
       "      <td>NJ597-1-98 14KYG RD 10MM</td>\n",
       "      <td>34</td>\n",
       "      <td>13599.66</td>\n",
       "      <td>16</td>\n",
       "      <td>6399.84</td>\n",
       "      <td>2</td>\n",
       "      <td>799.98</td>\n",
       "      <td>0</td>\n",
       "      <td>0.0</td>\n",
       "    </tr>\n",
       "  </tbody>\n",
       "</table>\n",
       "<p>5 rows × 21 columns</p>\n",
       "</div>"
      ],
      "text/plain": [
       "   CALENDAR_YR_NUM  CALENDAR_MO_NUM COMPANY_CODE BI_RPT_STATE_CODE  \\\n",
       "0             2021                4           US                SC   \n",
       "1             2021               11           US                KS   \n",
       "2             2022                4           US                MI   \n",
       "3             2021                3           US                HI   \n",
       "4             2021               12           US                IA   \n",
       "\n",
       "  BI_RPT_REGION_DESC BI_RPT_DISTRICT_DESC LOCATION_LONG_NAME  \\\n",
       "0          SOUTHEAST                  SE4        MT PLEASANT   \n",
       "1           MID WEST                  MW5      OVERLAND PARK   \n",
       "2           MID WEST                  MW1         BLOOMFIELD   \n",
       "3          LA REGION                  LA4            KAPOLEI   \n",
       "4           MID WEST                  MW4    WEST DES MOINES   \n",
       "\n",
       "  MAJOR_DEPT_GRP_LONG_DESC BI_DEPARTMENT_NUM_LDESC  \\\n",
       "0                     FOOD                 13 FOOD   \n",
       "1               OTHER BUS.              94 OPTICAL   \n",
       "2               FRESH FOOD              65 PRODUCE   \n",
       "3                SOFTLINES           32 HOUSEWARES   \n",
       "4                SOFTLINES              35 JEWELRY   \n",
       "\n",
       "  BI_MAJOR_CATEGORY_CODE_DESC  ...          BI_ITEM_CATEGORY_CODE_DESC  \\\n",
       "0                     T BREAD  ...                 TAD SPECIALTY BREAD   \n",
       "1                    F FRAMES  ...                FSR FRAME SUN RXABLE   \n",
       "2                   1 PRODUCE  ...              1K1 SALAD KITS ORGANIC   \n",
       "3                J DINNERWARE  ...        JAB CASUAL 20PC OR LESS SETS   \n",
       "4              D COLORED GEMS  ...  DSB SEMI PREC PENDANTS OR NECKLACE   \n",
       "\n",
       "                 ITEM_DESC_1 OnHand_QTY  OnHand_AMT  OnOrder_QTY  OnOrder_AMT  \\\n",
       "0   IRISH SODA BREAD 2.5 LBS         10       59.90            0         0.00   \n",
       "1       VIA SPIGA VS424S (I)         18     1079.82            8       479.92   \n",
       "2   ORGANIC CAESAR SALAD KIT       7031    63208.69         3672     33011.28   \n",
       "3  GIBSON MONTEREY 16PC BLUE        284    11357.16            0         0.00   \n",
       "4   NJ597-1-98 14KYG RD 10MM         34    13599.66           16      6399.84   \n",
       "\n",
       "   InTransit_QTY  InTransit_AMT  Non-Saleable-Items_QTY  \\\n",
       "0              0           0.00                       0   \n",
       "1              4         239.96                       0   \n",
       "2            648        5825.52                       0   \n",
       "3              0           0.00                       0   \n",
       "4              2         799.98                       0   \n",
       "\n",
       "   Non-Saleable-Items_AMT  \n",
       "0                     0.0  \n",
       "1                     0.0  \n",
       "2                     0.0  \n",
       "3                     0.0  \n",
       "4                     0.0  \n",
       "\n",
       "[5 rows x 21 columns]"
      ]
     },
     "execution_count": 48,
     "metadata": {},
     "output_type": "execute_result"
    }
   ],
   "source": [
    "data_Inline.head()"
   ]
  },
  {
   "cell_type": "code",
   "execution_count": 49,
   "id": "f15b17f7",
   "metadata": {},
   "outputs": [],
   "source": [
    "data_Inline['Data_type']= 'Inline'"
   ]
  },
  {
   "cell_type": "code",
   "execution_count": 50,
   "id": "2d660689",
   "metadata": {},
   "outputs": [
    {
     "data": {
      "text/html": [
       "<div>\n",
       "<style scoped>\n",
       "    .dataframe tbody tr th:only-of-type {\n",
       "        vertical-align: middle;\n",
       "    }\n",
       "\n",
       "    .dataframe tbody tr th {\n",
       "        vertical-align: top;\n",
       "    }\n",
       "\n",
       "    .dataframe thead th {\n",
       "        text-align: right;\n",
       "    }\n",
       "</style>\n",
       "<table border=\"1\" class=\"dataframe\">\n",
       "  <thead>\n",
       "    <tr style=\"text-align: right;\">\n",
       "      <th></th>\n",
       "      <th>CALENDAR_YR_NUM</th>\n",
       "      <th>CALENDAR_MO_NUM</th>\n",
       "      <th>COMPANY_CODE</th>\n",
       "      <th>BI_RPT_STATE_CODE</th>\n",
       "      <th>BI_RPT_REGION_DESC</th>\n",
       "      <th>BI_RPT_DISTRICT_DESC</th>\n",
       "      <th>LOCATION_LONG_NAME</th>\n",
       "      <th>MAJOR_DEPT_GRP_LONG_DESC</th>\n",
       "      <th>BI_DEPARTMENT_NUM_LDESC</th>\n",
       "      <th>BI_MAJOR_CATEGORY_CODE_DESC</th>\n",
       "      <th>...</th>\n",
       "      <th>ITEM_DESC_1</th>\n",
       "      <th>OnHand_QTY</th>\n",
       "      <th>OnHand_AMT</th>\n",
       "      <th>OnOrder_QTY</th>\n",
       "      <th>OnOrder_AMT</th>\n",
       "      <th>InTransit_QTY</th>\n",
       "      <th>InTransit_AMT</th>\n",
       "      <th>Non-Saleable-Items_QTY</th>\n",
       "      <th>Non-Saleable-Items_AMT</th>\n",
       "      <th>Data_type</th>\n",
       "    </tr>\n",
       "  </thead>\n",
       "  <tbody>\n",
       "    <tr>\n",
       "      <th>0</th>\n",
       "      <td>2021</td>\n",
       "      <td>4</td>\n",
       "      <td>US</td>\n",
       "      <td>SC</td>\n",
       "      <td>SOUTHEAST</td>\n",
       "      <td>SE4</td>\n",
       "      <td>MT PLEASANT</td>\n",
       "      <td>FOOD</td>\n",
       "      <td>13 FOOD</td>\n",
       "      <td>T BREAD</td>\n",
       "      <td>...</td>\n",
       "      <td>IRISH SODA BREAD 2.5 LBS</td>\n",
       "      <td>10</td>\n",
       "      <td>59.90</td>\n",
       "      <td>0</td>\n",
       "      <td>0.00</td>\n",
       "      <td>0</td>\n",
       "      <td>0.00</td>\n",
       "      <td>0</td>\n",
       "      <td>0.0</td>\n",
       "      <td>Inline</td>\n",
       "    </tr>\n",
       "    <tr>\n",
       "      <th>1</th>\n",
       "      <td>2021</td>\n",
       "      <td>11</td>\n",
       "      <td>US</td>\n",
       "      <td>KS</td>\n",
       "      <td>MID WEST</td>\n",
       "      <td>MW5</td>\n",
       "      <td>OVERLAND PARK</td>\n",
       "      <td>OTHER BUS.</td>\n",
       "      <td>94 OPTICAL</td>\n",
       "      <td>F FRAMES</td>\n",
       "      <td>...</td>\n",
       "      <td>VIA SPIGA VS424S (I)</td>\n",
       "      <td>18</td>\n",
       "      <td>1079.82</td>\n",
       "      <td>8</td>\n",
       "      <td>479.92</td>\n",
       "      <td>4</td>\n",
       "      <td>239.96</td>\n",
       "      <td>0</td>\n",
       "      <td>0.0</td>\n",
       "      <td>Inline</td>\n",
       "    </tr>\n",
       "    <tr>\n",
       "      <th>2</th>\n",
       "      <td>2022</td>\n",
       "      <td>4</td>\n",
       "      <td>US</td>\n",
       "      <td>MI</td>\n",
       "      <td>MID WEST</td>\n",
       "      <td>MW1</td>\n",
       "      <td>BLOOMFIELD</td>\n",
       "      <td>FRESH FOOD</td>\n",
       "      <td>65 PRODUCE</td>\n",
       "      <td>1 PRODUCE</td>\n",
       "      <td>...</td>\n",
       "      <td>ORGANIC CAESAR SALAD KIT</td>\n",
       "      <td>7031</td>\n",
       "      <td>63208.69</td>\n",
       "      <td>3672</td>\n",
       "      <td>33011.28</td>\n",
       "      <td>648</td>\n",
       "      <td>5825.52</td>\n",
       "      <td>0</td>\n",
       "      <td>0.0</td>\n",
       "      <td>Inline</td>\n",
       "    </tr>\n",
       "    <tr>\n",
       "      <th>3</th>\n",
       "      <td>2021</td>\n",
       "      <td>3</td>\n",
       "      <td>US</td>\n",
       "      <td>HI</td>\n",
       "      <td>LA REGION</td>\n",
       "      <td>LA4</td>\n",
       "      <td>KAPOLEI</td>\n",
       "      <td>SOFTLINES</td>\n",
       "      <td>32 HOUSEWARES</td>\n",
       "      <td>J DINNERWARE</td>\n",
       "      <td>...</td>\n",
       "      <td>GIBSON MONTEREY 16PC BLUE</td>\n",
       "      <td>284</td>\n",
       "      <td>11357.16</td>\n",
       "      <td>0</td>\n",
       "      <td>0.00</td>\n",
       "      <td>0</td>\n",
       "      <td>0.00</td>\n",
       "      <td>0</td>\n",
       "      <td>0.0</td>\n",
       "      <td>Inline</td>\n",
       "    </tr>\n",
       "    <tr>\n",
       "      <th>4</th>\n",
       "      <td>2021</td>\n",
       "      <td>12</td>\n",
       "      <td>US</td>\n",
       "      <td>IA</td>\n",
       "      <td>MID WEST</td>\n",
       "      <td>MW4</td>\n",
       "      <td>WEST DES MOINES</td>\n",
       "      <td>SOFTLINES</td>\n",
       "      <td>35 JEWELRY</td>\n",
       "      <td>D COLORED GEMS</td>\n",
       "      <td>...</td>\n",
       "      <td>NJ597-1-98 14KYG RD 10MM</td>\n",
       "      <td>34</td>\n",
       "      <td>13599.66</td>\n",
       "      <td>16</td>\n",
       "      <td>6399.84</td>\n",
       "      <td>2</td>\n",
       "      <td>799.98</td>\n",
       "      <td>0</td>\n",
       "      <td>0.0</td>\n",
       "      <td>Inline</td>\n",
       "    </tr>\n",
       "  </tbody>\n",
       "</table>\n",
       "<p>5 rows × 22 columns</p>\n",
       "</div>"
      ],
      "text/plain": [
       "   CALENDAR_YR_NUM  CALENDAR_MO_NUM COMPANY_CODE BI_RPT_STATE_CODE  \\\n",
       "0             2021                4           US                SC   \n",
       "1             2021               11           US                KS   \n",
       "2             2022                4           US                MI   \n",
       "3             2021                3           US                HI   \n",
       "4             2021               12           US                IA   \n",
       "\n",
       "  BI_RPT_REGION_DESC BI_RPT_DISTRICT_DESC LOCATION_LONG_NAME  \\\n",
       "0          SOUTHEAST                  SE4        MT PLEASANT   \n",
       "1           MID WEST                  MW5      OVERLAND PARK   \n",
       "2           MID WEST                  MW1         BLOOMFIELD   \n",
       "3          LA REGION                  LA4            KAPOLEI   \n",
       "4           MID WEST                  MW4    WEST DES MOINES   \n",
       "\n",
       "  MAJOR_DEPT_GRP_LONG_DESC BI_DEPARTMENT_NUM_LDESC  \\\n",
       "0                     FOOD                 13 FOOD   \n",
       "1               OTHER BUS.              94 OPTICAL   \n",
       "2               FRESH FOOD              65 PRODUCE   \n",
       "3                SOFTLINES           32 HOUSEWARES   \n",
       "4                SOFTLINES              35 JEWELRY   \n",
       "\n",
       "  BI_MAJOR_CATEGORY_CODE_DESC  ...                ITEM_DESC_1 OnHand_QTY  \\\n",
       "0                     T BREAD  ...   IRISH SODA BREAD 2.5 LBS         10   \n",
       "1                    F FRAMES  ...       VIA SPIGA VS424S (I)         18   \n",
       "2                   1 PRODUCE  ...   ORGANIC CAESAR SALAD KIT       7031   \n",
       "3                J DINNERWARE  ...  GIBSON MONTEREY 16PC BLUE        284   \n",
       "4              D COLORED GEMS  ...   NJ597-1-98 14KYG RD 10MM         34   \n",
       "\n",
       "  OnHand_AMT  OnOrder_QTY  OnOrder_AMT  InTransit_QTY  InTransit_AMT  \\\n",
       "0      59.90            0         0.00              0           0.00   \n",
       "1    1079.82            8       479.92              4         239.96   \n",
       "2   63208.69         3672     33011.28            648        5825.52   \n",
       "3   11357.16            0         0.00              0           0.00   \n",
       "4   13599.66           16      6399.84              2         799.98   \n",
       "\n",
       "   Non-Saleable-Items_QTY  Non-Saleable-Items_AMT  Data_type  \n",
       "0                       0                     0.0     Inline  \n",
       "1                       0                     0.0     Inline  \n",
       "2                       0                     0.0     Inline  \n",
       "3                       0                     0.0     Inline  \n",
       "4                       0                     0.0     Inline  \n",
       "\n",
       "[5 rows x 22 columns]"
      ]
     },
     "execution_count": 50,
     "metadata": {},
     "output_type": "execute_result"
    }
   ],
   "source": [
    "data_Inline.head()"
   ]
  },
  {
   "cell_type": "code",
   "execution_count": 53,
   "id": "164b6148",
   "metadata": {},
   "outputs": [
    {
     "data": {
      "text/plain": [
       "array([2021, 2022], dtype=int64)"
      ]
     },
     "execution_count": 53,
     "metadata": {},
     "output_type": "execute_result"
    }
   ],
   "source": [
    "data_Inline['CALENDAR_YR_NUM'].unique()"
   ]
  },
  {
   "cell_type": "code",
   "execution_count": 56,
   "id": "82ba597e",
   "metadata": {},
   "outputs": [
    {
     "data": {
      "text/plain": [
       "array([ 4, 11,  3, 12,  7,  6,  1,  9,  8,  2, 10,  5], dtype=int64)"
      ]
     },
     "execution_count": 56,
     "metadata": {},
     "output_type": "execute_result"
    }
   ],
   "source": [
    "data_Inline['CALENDAR_MO_NUM'].unique()"
   ]
  },
  {
   "cell_type": "code",
   "execution_count": 57,
   "id": "ee1d6d77",
   "metadata": {},
   "outputs": [
    {
     "data": {
      "text/plain": [
       "array(['US', 'CN'], dtype=object)"
      ]
     },
     "execution_count": 57,
     "metadata": {},
     "output_type": "execute_result"
    }
   ],
   "source": [
    "data_Inline['COMPANY_CODE'].unique()       #We can drop \"CN\" from location "
   ]
  },
  {
   "cell_type": "code",
   "execution_count": 59,
   "id": "d931236f",
   "metadata": {},
   "outputs": [
    {
     "data": {
      "text/plain": [
       "57"
      ]
     },
     "execution_count": 59,
     "metadata": {},
     "output_type": "execute_result"
    }
   ],
   "source": [
    "data_Inline['BI_RPT_STATE_CODE'].nunique()      #There are only 50 states in US but here it is 57"
   ]
  },
  {
   "cell_type": "code",
   "execution_count": 60,
   "id": "0d0fd162",
   "metadata": {},
   "outputs": [
    {
     "data": {
      "text/plain": [
       "12"
      ]
     },
     "execution_count": 60,
     "metadata": {},
     "output_type": "execute_result"
    }
   ],
   "source": [
    "data_Inline['BI_RPT_REGION_DESC'].nunique() #In powerBI We have used 10 regions only "
   ]
  },
  {
   "cell_type": "code",
   "execution_count": 61,
   "id": "0b8f1e88",
   "metadata": {},
   "outputs": [
    {
     "data": {
      "text/plain": [
       "array(['SOUTHEAST', 'MID WEST', 'LA REGION', 'NORTHEAST',\n",
       "       'CANADIAN BCTR/DLVRY', 'NORTHWEST', 'SD REGION', 'WESTERN CANADA',\n",
       "       'TEXAS REGION', 'EASTERN CANADA', 'BAY AREA', 'BUSINESS CENTERS'],\n",
       "      dtype=object)"
      ]
     },
     "execution_count": 61,
     "metadata": {},
     "output_type": "execute_result"
    }
   ],
   "source": [
    "data_Inline['BI_RPT_REGION_DESC'].unique()"
   ]
  },
  {
   "cell_type": "code",
   "execution_count": 62,
   "id": "710e55d1",
   "metadata": {},
   "outputs": [
    {
     "data": {
      "text/plain": [
       "44"
      ]
     },
     "execution_count": 62,
     "metadata": {},
     "output_type": "execute_result"
    }
   ],
   "source": [
    "data_Inline['BI_RPT_DISTRICT_DESC'].nunique() #44 Unique districs "
   ]
  },
  {
   "cell_type": "code",
   "execution_count": 63,
   "id": "393a08f9",
   "metadata": {},
   "outputs": [
    {
     "data": {
      "text/plain": [
       "Index(['CALENDAR_YR_NUM', 'CALENDAR_MO_NUM', 'COMPANY_CODE',\n",
       "       'BI_RPT_STATE_CODE', 'BI_RPT_REGION_DESC', 'BI_RPT_DISTRICT_DESC',\n",
       "       'LOCATION_LONG_NAME', 'MAJOR_DEPT_GRP_LONG_DESC',\n",
       "       'BI_DEPARTMENT_NUM_LDESC', 'BI_MAJOR_CATEGORY_CODE_DESC',\n",
       "       'BI_GROUP_CATEGORY_CODE_DESC', 'BI_ITEM_CATEGORY_CODE_DESC',\n",
       "       'ITEM_DESC_1', 'OnHand_QTY', 'OnHand_AMT', 'OnOrder_QTY', 'OnOrder_AMT',\n",
       "       'InTransit_QTY', 'InTransit_AMT', 'Non-Saleable-Items_QTY',\n",
       "       'Non-Saleable-Items_AMT', 'Data_type'],\n",
       "      dtype='object')"
      ]
     },
     "execution_count": 63,
     "metadata": {},
     "output_type": "execute_result"
    }
   ],
   "source": [
    "data_Inline.columns"
   ]
  },
  {
   "cell_type": "code",
   "execution_count": 64,
   "id": "d5df9bcc",
   "metadata": {},
   "outputs": [
    {
     "data": {
      "text/plain": [
       "668"
      ]
     },
     "execution_count": 64,
     "metadata": {},
     "output_type": "execute_result"
    }
   ],
   "source": [
    "data_Inline['LOCATION_LONG_NAME'].nunique()   # Location Name      675 in powerbi "
   ]
  },
  {
   "cell_type": "code",
   "execution_count": 65,
   "id": "e03860b4",
   "metadata": {},
   "outputs": [
    {
     "data": {
      "text/plain": [
       "6"
      ]
     },
     "execution_count": 65,
     "metadata": {},
     "output_type": "execute_result"
    }
   ],
   "source": [
    "data_Inline['MAJOR_DEPT_GRP_LONG_DESC'].nunique()    #4 ware in PowerBI \"Major Department\""
   ]
  },
  {
   "cell_type": "code",
   "execution_count": 67,
   "id": "9b8c859d",
   "metadata": {},
   "outputs": [
    {
     "data": {
      "text/plain": [
       "array(['FOOD', 'OTHER BUS.', 'FRESH FOOD', 'SOFTLINES', 'HARDLINES',\n",
       "       'NOT APPLICABLE MAJOR DEPARTMENT GROUP LONG DESCRIPTION'],\n",
       "      dtype=object)"
      ]
     },
     "execution_count": 67,
     "metadata": {},
     "output_type": "execute_result"
    }
   ],
   "source": [
    "data_Inline['MAJOR_DEPT_GRP_LONG_DESC'].unique()    # 'OTHER BUS.' and 'NOT APPLICABLE MAJOR DEPARTMENT GROUP LONG DESCRIPTION' not there"
   ]
  },
  {
   "cell_type": "code",
   "execution_count": 68,
   "id": "79e1c987",
   "metadata": {},
   "outputs": [
    {
     "data": {
      "text/plain": [
       "array(['13 FOOD', '94 OPTICAL', '65 PRODUCE', '32 HOUSEWARES',\n",
       "       '35 JEWELRY', '19 DELI', '12 CANDY', '31 WOMENS APPAREL',\n",
       "       '14 SUNDRIES', '24 MAJOR APPLIANCES', '16 LIQUOR',\n",
       "       '39 MENS APPAREL', '21 OFFICE SUPPLIES', '26 SPORTING GOODS',\n",
       "       '87 TIRE BALANCE FEE', '93 PHARMACY (OTC)', '22 TIRES',\n",
       "       '34 DOMESTICS', '80 MISCELLANEOUS', '83 COUPONS', '36 MEDIA',\n",
       "       '33 SMALL APPLIANCES', '11 TOBACCO', '20 HEALTH & BEAUTY AIDS',\n",
       "       '23 HARDWARE', '96 HEARING AIDS', '18 FROZEN FOOD',\n",
       "       '25 AUTOMOTIVE', '17 COOLER', '27 GARDEN', '38 HOME FURNISHINGS',\n",
       "       '44 SPECIAL EVENTS', '95 MEMBERSHIP', '28 TOYS/SEASONAL',\n",
       "       '70 1HR PHOTO LAB', '75 NON-FOODS TICKETS',\n",
       "       '45 SPECIAL ORDER KIOSK', '29 STAMPS', '53 GASOLINE',\n",
       "       '48 SUPPLIES'], dtype=object)"
      ]
     },
     "execution_count": 68,
     "metadata": {},
     "output_type": "execute_result"
    }
   ],
   "source": [
    "data_Inline['BI_DEPARTMENT_NUM_LDESC'].unique()     # \"Department\""
   ]
  },
  {
   "cell_type": "code",
   "execution_count": 72,
   "id": "92f750fe",
   "metadata": {},
   "outputs": [
    {
     "data": {
      "text/plain": [
       "40"
      ]
     },
     "execution_count": 72,
     "metadata": {},
     "output_type": "execute_result"
    }
   ],
   "source": [
    "len(data_Inline['BI_DEPARTMENT_NUM_LDESC'].unique())"
   ]
  },
  {
   "cell_type": "code",
   "execution_count": 71,
   "id": "6b131b0e",
   "metadata": {},
   "outputs": [
    {
     "data": {
      "text/plain": [
       "524"
      ]
     },
     "execution_count": 71,
     "metadata": {},
     "output_type": "execute_result"
    }
   ],
   "source": [
    "data_Inline['BI_MAJOR_CATEGORY_CODE_DESC'].nunique()   # \"Major Category\""
   ]
  },
  {
   "cell_type": "code",
   "execution_count": 73,
   "id": "8b7df524",
   "metadata": {},
   "outputs": [
    {
     "data": {
      "text/plain": [
       "1383"
      ]
     },
     "execution_count": 73,
     "metadata": {},
     "output_type": "execute_result"
    }
   ],
   "source": [
    "data_Inline['BI_GROUP_CATEGORY_CODE_DESC'].nunique()   #Not Used in PowerBI "
   ]
  },
  {
   "cell_type": "code",
   "execution_count": 74,
   "id": "a3fe6f59",
   "metadata": {},
   "outputs": [
    {
     "data": {
      "text/plain": [
       "2545"
      ]
     },
     "execution_count": 74,
     "metadata": {},
     "output_type": "execute_result"
    }
   ],
   "source": [
    "data_Inline['BI_ITEM_CATEGORY_CODE_DESC'].nunique()   #Not Used in PowerBI "
   ]
  },
  {
   "cell_type": "code",
   "execution_count": 75,
   "id": "30ad246c",
   "metadata": {},
   "outputs": [
    {
     "data": {
      "text/plain": [
       "7996"
      ]
     },
     "execution_count": 75,
     "metadata": {},
     "output_type": "execute_result"
    }
   ],
   "source": [
    "data_Inline['ITEM_DESC_1'].nunique()      # \"Item\""
   ]
  },
  {
   "cell_type": "markdown",
   "id": "9f58b63f",
   "metadata": {},
   "source": [
    "__EDA on Inline-OH__"
   ]
  },
  {
   "cell_type": "code",
   "execution_count": null,
   "id": "793c10ac",
   "metadata": {},
   "outputs": [],
   "source": []
  },
  {
   "cell_type": "code",
   "execution_count": null,
   "id": "b94b1af7",
   "metadata": {},
   "outputs": [],
   "source": []
  },
  {
   "cell_type": "code",
   "execution_count": null,
   "id": "f6db57e4",
   "metadata": {},
   "outputs": [],
   "source": []
  },
  {
   "cell_type": "code",
   "execution_count": null,
   "id": "73d89a01",
   "metadata": {},
   "outputs": [],
   "source": []
  },
  {
   "cell_type": "code",
   "execution_count": null,
   "id": "0e19f666",
   "metadata": {},
   "outputs": [],
   "source": []
  },
  {
   "cell_type": "code",
   "execution_count": null,
   "id": "87370234",
   "metadata": {},
   "outputs": [],
   "source": []
  },
  {
   "cell_type": "code",
   "execution_count": 26,
   "id": "6f646303",
   "metadata": {},
   "outputs": [],
   "source": [
    "# loc= 'C:\\\\Users\\\\Ramshankar\\\\OneDrive - iLink Systems Inc\\\\Documents\\\\Costco\\\\Dataset'\n",
    "\n",
    "data_Online = pd.read_excel('C:\\\\Users\\\\Ramshankar\\\\OneDrive - iLink Systems Inc\\\\Documents\\\\Costco\\\\Dataset\\\\Inventory Visibility - Dataset Updated.xlsx', sheet_name= 'Online On-Hand')"
   ]
  },
  {
   "cell_type": "code",
   "execution_count": 27,
   "id": "d478ee24",
   "metadata": {},
   "outputs": [
    {
     "data": {
      "text/html": [
       "<div>\n",
       "<style scoped>\n",
       "    .dataframe tbody tr th:only-of-type {\n",
       "        vertical-align: middle;\n",
       "    }\n",
       "\n",
       "    .dataframe tbody tr th {\n",
       "        vertical-align: top;\n",
       "    }\n",
       "\n",
       "    .dataframe thead th {\n",
       "        text-align: right;\n",
       "    }\n",
       "</style>\n",
       "<table border=\"1\" class=\"dataframe\">\n",
       "  <thead>\n",
       "    <tr style=\"text-align: right;\">\n",
       "      <th></th>\n",
       "      <th>CALENDAR_YR_NUM</th>\n",
       "      <th>CALENDAR_MO_NUM</th>\n",
       "      <th>COMPANY_CODE</th>\n",
       "      <th>BI_RPT_STATE_CODE</th>\n",
       "      <th>BI_RPT_REGION_DESC</th>\n",
       "      <th>BI_RPT_DISTRICT_DESC</th>\n",
       "      <th>LOCATION_LONG_NAME</th>\n",
       "      <th>MAJOR_DEPT_GRP_LONG_DESC</th>\n",
       "      <th>BI_DEPARTMENT_NUM_LDESC</th>\n",
       "      <th>BI_MAJOR_CATEGORY_CODE_DESC</th>\n",
       "      <th>...</th>\n",
       "      <th>BI_ITEM_CATEGORY_CODE_DESC</th>\n",
       "      <th>ITEM_DESC_1</th>\n",
       "      <th>OnHand_QTY</th>\n",
       "      <th>OnHand_AMT</th>\n",
       "      <th>OnOrder_QTY</th>\n",
       "      <th>OnOrder_AMT</th>\n",
       "      <th>InTransit_QTY</th>\n",
       "      <th>InTransit_AMT</th>\n",
       "      <th>Non-Saleable-Items_QTY</th>\n",
       "      <th>Non-Saleable-Items_AMT</th>\n",
       "    </tr>\n",
       "  </thead>\n",
       "  <tbody>\n",
       "    <tr>\n",
       "      <th>0</th>\n",
       "      <td>2021</td>\n",
       "      <td>6</td>\n",
       "      <td>US</td>\n",
       "      <td>OH</td>\n",
       "      <td>BUSINESS DELIV-OTHER</td>\n",
       "      <td>DEPOT</td>\n",
       "      <td>DDC ECOM COLUMBUS OH</td>\n",
       "      <td>HARDLINES</td>\n",
       "      <td>24 MAJOR APPLIANCES</td>\n",
       "      <td>A TVS</td>\n",
       "      <td>...</td>\n",
       "      <td>AGA 65 IN ULTRA PREMIUM TVS</td>\n",
       "      <td>LG OLEDCX 65OLEDCXAUA 65\"</td>\n",
       "      <td>3534</td>\n",
       "      <td>6587664.66</td>\n",
       "      <td>350</td>\n",
       "      <td>647496.5</td>\n",
       "      <td>0</td>\n",
       "      <td>0.0</td>\n",
       "      <td>42</td>\n",
       "      <td>78099.58</td>\n",
       "    </tr>\n",
       "    <tr>\n",
       "      <th>1</th>\n",
       "      <td>2022</td>\n",
       "      <td>10</td>\n",
       "      <td>US</td>\n",
       "      <td>FL</td>\n",
       "      <td>BUSINESS DELIV-OTHER</td>\n",
       "      <td>DEPOT</td>\n",
       "      <td>DDC ECOM OCALA FL</td>\n",
       "      <td>SOFTLINES</td>\n",
       "      <td>38 HOME FURNISHINGS</td>\n",
       "      <td>J UPHOLSTERY</td>\n",
       "      <td>...</td>\n",
       "      <td>JBA LEATHER SOFAS</td>\n",
       "      <td>MITCH LEATHER SOFA</td>\n",
       "      <td>1167</td>\n",
       "      <td>2100588.33</td>\n",
       "      <td>0</td>\n",
       "      <td>0.0</td>\n",
       "      <td>0</td>\n",
       "      <td>0.0</td>\n",
       "      <td>0</td>\n",
       "      <td>0.00</td>\n",
       "    </tr>\n",
       "    <tr>\n",
       "      <th>2</th>\n",
       "      <td>2022</td>\n",
       "      <td>10</td>\n",
       "      <td>US</td>\n",
       "      <td>CA</td>\n",
       "      <td>BUSINESS DELIV-OTHER</td>\n",
       "      <td>DEPOT</td>\n",
       "      <td>MDO ECOM W SACRAMENTO CA</td>\n",
       "      <td>HARDLINES</td>\n",
       "      <td>24 MAJOR APPLIANCES</td>\n",
       "      <td>H MAJOR APPLIANCES</td>\n",
       "      <td>...</td>\n",
       "      <td>HAE FRENCH 4 DOOR DRAWER</td>\n",
       "      <td>LG 22CFT CD 4D FRNCH DR</td>\n",
       "      <td>3</td>\n",
       "      <td>9299.97</td>\n",
       "      <td>0</td>\n",
       "      <td>0.0</td>\n",
       "      <td>0</td>\n",
       "      <td>0.0</td>\n",
       "      <td>0</td>\n",
       "      <td>0.00</td>\n",
       "    </tr>\n",
       "    <tr>\n",
       "      <th>3</th>\n",
       "      <td>2021</td>\n",
       "      <td>2</td>\n",
       "      <td>US</td>\n",
       "      <td>GA</td>\n",
       "      <td>BUSINESS DELIV-OTHER</td>\n",
       "      <td>DEPOT</td>\n",
       "      <td>DDC ECOM ATLANTA GA</td>\n",
       "      <td>SOFTLINES</td>\n",
       "      <td>38 HOME FURNISHINGS</td>\n",
       "      <td>T ELECTRIC FIREPLACES</td>\n",
       "      <td>...</td>\n",
       "      <td>TUN FIREPLACE CONSOLE</td>\n",
       "      <td>GABLES 74\" FIREPLACE CNSL</td>\n",
       "      <td>8</td>\n",
       "      <td>5599.92</td>\n",
       "      <td>0</td>\n",
       "      <td>0.0</td>\n",
       "      <td>0</td>\n",
       "      <td>0.0</td>\n",
       "      <td>0</td>\n",
       "      <td>0.00</td>\n",
       "    </tr>\n",
       "    <tr>\n",
       "      <th>4</th>\n",
       "      <td>2022</td>\n",
       "      <td>6</td>\n",
       "      <td>US</td>\n",
       "      <td>IL</td>\n",
       "      <td>BUSINESS DELIV-OTHER</td>\n",
       "      <td>DEPOT</td>\n",
       "      <td>MDO ECOM ITASCA IL</td>\n",
       "      <td>SOFTLINES</td>\n",
       "      <td>38 HOME FURNISHINGS</td>\n",
       "      <td>M GENERAL HOME DISPLAY AND HALL</td>\n",
       "      <td>...</td>\n",
       "      <td>MAF HALL CHESTS CONSOLES AND BOMBE</td>\n",
       "      <td>CONRAD 55\" CONSOLE BLUE</td>\n",
       "      <td>2</td>\n",
       "      <td>1159.98</td>\n",
       "      <td>0</td>\n",
       "      <td>0.0</td>\n",
       "      <td>0</td>\n",
       "      <td>0.0</td>\n",
       "      <td>0</td>\n",
       "      <td>0.00</td>\n",
       "    </tr>\n",
       "  </tbody>\n",
       "</table>\n",
       "<p>5 rows × 21 columns</p>\n",
       "</div>"
      ],
      "text/plain": [
       "   CALENDAR_YR_NUM  CALENDAR_MO_NUM COMPANY_CODE BI_RPT_STATE_CODE  \\\n",
       "0             2021                6           US                OH   \n",
       "1             2022               10           US                FL   \n",
       "2             2022               10           US                CA   \n",
       "3             2021                2           US                GA   \n",
       "4             2022                6           US                IL   \n",
       "\n",
       "     BI_RPT_REGION_DESC BI_RPT_DISTRICT_DESC        LOCATION_LONG_NAME  \\\n",
       "0  BUSINESS DELIV-OTHER                DEPOT      DDC ECOM COLUMBUS OH   \n",
       "1  BUSINESS DELIV-OTHER                DEPOT         DDC ECOM OCALA FL   \n",
       "2  BUSINESS DELIV-OTHER                DEPOT  MDO ECOM W SACRAMENTO CA   \n",
       "3  BUSINESS DELIV-OTHER                DEPOT       DDC ECOM ATLANTA GA   \n",
       "4  BUSINESS DELIV-OTHER                DEPOT        MDO ECOM ITASCA IL   \n",
       "\n",
       "  MAJOR_DEPT_GRP_LONG_DESC BI_DEPARTMENT_NUM_LDESC  \\\n",
       "0                HARDLINES     24 MAJOR APPLIANCES   \n",
       "1                SOFTLINES     38 HOME FURNISHINGS   \n",
       "2                HARDLINES     24 MAJOR APPLIANCES   \n",
       "3                SOFTLINES     38 HOME FURNISHINGS   \n",
       "4                SOFTLINES     38 HOME FURNISHINGS   \n",
       "\n",
       "       BI_MAJOR_CATEGORY_CODE_DESC  ...          BI_ITEM_CATEGORY_CODE_DESC  \\\n",
       "0                            A TVS  ...         AGA 65 IN ULTRA PREMIUM TVS   \n",
       "1                     J UPHOLSTERY  ...                   JBA LEATHER SOFAS   \n",
       "2               H MAJOR APPLIANCES  ...            HAE FRENCH 4 DOOR DRAWER   \n",
       "3            T ELECTRIC FIREPLACES  ...               TUN FIREPLACE CONSOLE   \n",
       "4  M GENERAL HOME DISPLAY AND HALL  ...  MAF HALL CHESTS CONSOLES AND BOMBE   \n",
       "\n",
       "                 ITEM_DESC_1 OnHand_QTY  OnHand_AMT  OnOrder_QTY  OnOrder_AMT  \\\n",
       "0  LG OLEDCX 65OLEDCXAUA 65\"       3534  6587664.66          350     647496.5   \n",
       "1         MITCH LEATHER SOFA       1167  2100588.33            0          0.0   \n",
       "2    LG 22CFT CD 4D FRNCH DR          3     9299.97            0          0.0   \n",
       "3  GABLES 74\" FIREPLACE CNSL          8     5599.92            0          0.0   \n",
       "4    CONRAD 55\" CONSOLE BLUE          2     1159.98            0          0.0   \n",
       "\n",
       "   InTransit_QTY  InTransit_AMT  Non-Saleable-Items_QTY  \\\n",
       "0              0            0.0                      42   \n",
       "1              0            0.0                       0   \n",
       "2              0            0.0                       0   \n",
       "3              0            0.0                       0   \n",
       "4              0            0.0                       0   \n",
       "\n",
       "   Non-Saleable-Items_AMT  \n",
       "0                78099.58  \n",
       "1                    0.00  \n",
       "2                    0.00  \n",
       "3                    0.00  \n",
       "4                    0.00  \n",
       "\n",
       "[5 rows x 21 columns]"
      ]
     },
     "execution_count": 27,
     "metadata": {},
     "output_type": "execute_result"
    }
   ],
   "source": [
    "data_Online.head()"
   ]
  },
  {
   "cell_type": "code",
   "execution_count": 28,
   "id": "765b2376",
   "metadata": {},
   "outputs": [],
   "source": [
    "data_Online['Data_type']= 'Online'"
   ]
  },
  {
   "cell_type": "code",
   "execution_count": 77,
   "id": "8ffac813",
   "metadata": {},
   "outputs": [
    {
     "data": {
      "text/plain": [
       "array([2021, 2022], dtype=int64)"
      ]
     },
     "execution_count": 77,
     "metadata": {},
     "output_type": "execute_result"
    }
   ],
   "source": [
    "data_Online['CALENDAR_YR_NUM'].unique()       "
   ]
  },
  {
   "cell_type": "code",
   "execution_count": 78,
   "id": "a407d725",
   "metadata": {},
   "outputs": [
    {
     "data": {
      "text/plain": [
       "array([ 6, 10,  2,  9,  8,  3,  7, 11,  1,  4,  5, 12], dtype=int64)"
      ]
     },
     "execution_count": 78,
     "metadata": {},
     "output_type": "execute_result"
    }
   ],
   "source": [
    "data_Online['CALENDAR_MO_NUM'].unique()"
   ]
  },
  {
   "cell_type": "code",
   "execution_count": 79,
   "id": "44ad4978",
   "metadata": {},
   "outputs": [
    {
     "data": {
      "text/plain": [
       "array(['US', 'CN'], dtype=object)"
      ]
     },
     "execution_count": 79,
     "metadata": {},
     "output_type": "execute_result"
    }
   ],
   "source": [
    "data_Online['COMPANY_CODE'].unique()       #We can drop \"CN\" from location "
   ]
  },
  {
   "cell_type": "code",
   "execution_count": 80,
   "id": "40db6eb8",
   "metadata": {},
   "outputs": [
    {
     "data": {
      "text/plain": [
       "23"
      ]
     },
     "execution_count": 80,
     "metadata": {},
     "output_type": "execute_result"
    }
   ],
   "source": [
    "data_Online['BI_RPT_STATE_CODE'].nunique()      #57 in Inline-OH and 23 in Online-OH"
   ]
  },
  {
   "cell_type": "code",
   "execution_count": 81,
   "id": "5480c413",
   "metadata": {},
   "outputs": [
    {
     "data": {
      "text/plain": [
       "5"
      ]
     },
     "execution_count": 81,
     "metadata": {},
     "output_type": "execute_result"
    }
   ],
   "source": [
    "data_Online['BI_RPT_REGION_DESC'].nunique() #10 regions in Inline-OH and 5 in Online-OH "
   ]
  },
  {
   "cell_type": "code",
   "execution_count": 82,
   "id": "69ce4331",
   "metadata": {},
   "outputs": [
    {
     "data": {
      "text/plain": [
       "array(['BUSINESS DELIV-OTHER', 'WESTERN CANADA', 'OTHER BUSINESS CN',\n",
       "       'SD REGION', 'NORTHWEST'], dtype=object)"
      ]
     },
     "execution_count": 82,
     "metadata": {},
     "output_type": "execute_result"
    }
   ],
   "source": [
    "data_Online['BI_RPT_REGION_DESC'].unique()         #Only two are in Inline-OH"
   ]
  },
  {
   "cell_type": "code",
   "execution_count": 83,
   "id": "6a26ab4f",
   "metadata": {},
   "outputs": [
    {
     "data": {
      "text/plain": [
       "1"
      ]
     },
     "execution_count": 83,
     "metadata": {},
     "output_type": "execute_result"
    }
   ],
   "source": [
    "data_Online['BI_RPT_DISTRICT_DESC'].nunique() #44 Unique districs in Online and 1 in online"
   ]
  },
  {
   "cell_type": "code",
   "execution_count": 84,
   "id": "30d8ccb1",
   "metadata": {},
   "outputs": [
    {
     "data": {
      "text/plain": [
       "array(['DEPOT'], dtype=object)"
      ]
     },
     "execution_count": 84,
     "metadata": {},
     "output_type": "execute_result"
    }
   ],
   "source": [
    "data_Online['BI_RPT_DISTRICT_DESC'].unique()    #Depot only b"
   ]
  },
  {
   "cell_type": "code",
   "execution_count": 88,
   "id": "db135035",
   "metadata": {},
   "outputs": [
    {
     "data": {
      "text/plain": [
       "array(['SE4', 'MW5', 'MW1', 'LA4', 'MW4', 'SE2', 'NE3', 'CB1', 'MW3',\n",
       "       'NW3', 'SE3', 'SD1', 'WC1', 'NW2', 'MW6', 'NE6', 'MW2', 'TE1',\n",
       "       'EC2', 'NW1', 'SD2', 'EC1', 'SE5', 'SD3', 'NW4', 'WC3', 'BA2',\n",
       "       'NE2', 'WC2', 'EC3', 'NE5', 'NE4', 'TE3', 'NE1', 'TE2', 'SE1',\n",
       "       'EC4', 'BD1', 'LA2', 'BA3', 'LA3', 'LA1', 'BA1', 'BD2'],\n",
       "      dtype=object)"
      ]
     },
     "execution_count": 88,
     "metadata": {},
     "output_type": "execute_result"
    }
   ],
   "source": [
    "#Checking weather 'Depot' is present in inline-OH\n",
    "\n",
    "#data_Inline['BI_RPT_DISTRICT_DESC'].unique()"
   ]
  },
  {
   "cell_type": "code",
   "execution_count": 89,
   "id": "4d8c3747",
   "metadata": {},
   "outputs": [
    {
     "data": {
      "text/plain": [
       "Index(['CALENDAR_YR_NUM', 'CALENDAR_MO_NUM', 'COMPANY_CODE',\n",
       "       'BI_RPT_STATE_CODE', 'BI_RPT_REGION_DESC', 'BI_RPT_DISTRICT_DESC',\n",
       "       'LOCATION_LONG_NAME', 'MAJOR_DEPT_GRP_LONG_DESC',\n",
       "       'BI_DEPARTMENT_NUM_LDESC', 'BI_MAJOR_CATEGORY_CODE_DESC',\n",
       "       'BI_GROUP_CATEGORY_CODE_DESC', 'BI_ITEM_CATEGORY_CODE_DESC',\n",
       "       'ITEM_DESC_1', 'OnHand_QTY', 'OnHand_AMT', 'OnOrder_QTY', 'OnOrder_AMT',\n",
       "       'InTransit_QTY', 'InTransit_AMT', 'Non-Saleable-Items_QTY',\n",
       "       'Non-Saleable-Items_AMT', 'Data_type'],\n",
       "      dtype='object')"
      ]
     },
     "execution_count": 89,
     "metadata": {},
     "output_type": "execute_result"
    }
   ],
   "source": [
    "data_Online.columns"
   ]
  },
  {
   "cell_type": "code",
   "execution_count": 90,
   "id": "1556d5ae",
   "metadata": {},
   "outputs": [
    {
     "data": {
      "text/plain": [
       "48"
      ]
     },
     "execution_count": 90,
     "metadata": {},
     "output_type": "execute_result"
    }
   ],
   "source": [
    "data_Online['LOCATION_LONG_NAME'].nunique()   # Location Name      675 in powerbi & 668 in Inline and 48 in online "
   ]
  },
  {
   "cell_type": "code",
   "execution_count": 91,
   "id": "e564787d",
   "metadata": {},
   "outputs": [
    {
     "data": {
      "text/plain": [
       "array(['DDC ECOM COLUMBUS OH', 'DDC ECOM OCALA FL',\n",
       "       'MDO ECOM W SACRAMENTO CA', 'DDC ECOM ATLANTA GA',\n",
       "       'MDO ECOM ITASCA IL', 'MDO ECOM BENICIA CA',\n",
       "       'BOISBRIAND OPTICAL DIST', 'MDO ECOM KENT II WA',\n",
       "       'MDO ECOM COLUMBIA MD', 'AIRDRIE ECOMMERCE', 'MDO ECOM NEWARK NJ',\n",
       "       'MDO ECOM TAMPA FL', 'DDC ECOM MORRIS IL', 'LANGLEY ECOMMERCE',\n",
       "       'MORRIS ECOMMERCE', 'FREDERICK ECOMMERCE', 'VARENNES ECOMMERCE',\n",
       "       'MDO ECOM JANESVILLE WI', 'DDC ECOM DUPONT WA',\n",
       "       'MDO ECOM SYOSSET NY', 'DDC ECOM GOULDSBORO PA', 'KATY ECOMMERCE',\n",
       "       'DDC ECOM RIO PIEDRAS PR', 'NATIONAL CITY OPT DISTR',\n",
       "       'MDO ECOM SYLMAR CA', 'MIRA LOMA ECOMMERCE',\n",
       "       'DDC ECOM STOCKTON CA', 'SUMNER ECOMMERCE', 'MDO ECOM HOUSTON TX',\n",
       "       'TRACY ECOMMERCE', 'MDO ECOM JACKSONVILLE FL',\n",
       "       'MDO ECOM PORTLAND OR', 'MIRA LOMA ANNEX ECOMMERCE',\n",
       "       'PEARL CITY MDO ECM', 'DDC ECOM ONTARIO CA', 'ATLANTA ECOMMERCE',\n",
       "       'DDC ECOM GARLAND TX', 'MDO ECOM GRAPEVINE TX',\n",
       "       'VAUGHAN ECOMMERCE', 'DDC ECOM AURORA CO', 'DDC ECOM MEMPHIS TN',\n",
       "       'ECOMMERCE CWT MX', 'MDO ECOM PHOENIX AZ', 'MDO ECOM CERRITOS CA',\n",
       "       'MONROE TOWNSHIP ECOMMERCE', 'MDO ECOM PFLUGERVILLE TX',\n",
       "       'MDO ECOM SUNRISE FL', 'DDC ECOM ANCHORAGE AK'], dtype=object)"
      ]
     },
     "execution_count": 91,
     "metadata": {},
     "output_type": "execute_result"
    }
   ],
   "source": [
    "data_Online['LOCATION_LONG_NAME'].unique()"
   ]
  },
  {
   "cell_type": "code",
   "execution_count": 92,
   "id": "9f483db7",
   "metadata": {},
   "outputs": [
    {
     "data": {
      "text/plain": [
       "5"
      ]
     },
     "execution_count": 92,
     "metadata": {},
     "output_type": "execute_result"
    }
   ],
   "source": [
    "data_Online['MAJOR_DEPT_GRP_LONG_DESC'].nunique()    #4 ware in PowerBI \"Major Department\""
   ]
  },
  {
   "cell_type": "code",
   "execution_count": 93,
   "id": "1e8d0cfc",
   "metadata": {},
   "outputs": [
    {
     "data": {
      "text/plain": [
       "array(['HARDLINES', 'SOFTLINES', 'OTHER BUS.', 'FOOD',\n",
       "       'NOT APPLICABLE MAJOR DEPARTMENT GROUP LONG DESCRIPTION'],\n",
       "      dtype=object)"
      ]
     },
     "execution_count": 93,
     "metadata": {},
     "output_type": "execute_result"
    }
   ],
   "source": [
    "data_Online['MAJOR_DEPT_GRP_LONG_DESC'].unique()    # 'OTHER BUS.' and 'NOT APPLICABLE MAJOR DEPARTMENT GROUP LONG DESCRIPTION' not there\n",
    "                                                    #only 3 present \"Fresh Food\" is not present\n"
   ]
  },
  {
   "cell_type": "code",
   "execution_count": 94,
   "id": "48ff86c0",
   "metadata": {},
   "outputs": [
    {
     "data": {
      "text/plain": [
       "array(['24 MAJOR APPLIANCES', '38 HOME FURNISHINGS', '94 OPTICAL',\n",
       "       '34 DOMESTICS', '13 FOOD', '39 MENS APPAREL', '23 HARDWARE',\n",
       "       '26 SPORTING GOODS', '29 STAMPS', '27 GARDEN',\n",
       "       '20 HEALTH & BEAUTY AIDS', '32 HOUSEWARES', '33 SMALL APPLIANCES',\n",
       "       '28 TOYS/SEASONAL', '93 PHARMACY (OTC)', '31 WOMENS APPAREL',\n",
       "       '14 SUNDRIES', '12 CANDY', '25 AUTOMOTIVE', '80 MISCELLANEOUS',\n",
       "       '96 HEARING AIDS', '21 OFFICE SUPPLIES', '75 NON-FOODS TICKETS',\n",
       "       '35 JEWELRY', '36 MEDIA', '44 SPECIAL EVENTS', '22 TIRES'],\n",
       "      dtype=object)"
      ]
     },
     "execution_count": 94,
     "metadata": {},
     "output_type": "execute_result"
    }
   ],
   "source": [
    "data_Online['BI_DEPARTMENT_NUM_LDESC'].unique()     # \"Department\""
   ]
  },
  {
   "cell_type": "code",
   "execution_count": 95,
   "id": "cbb2d53b",
   "metadata": {},
   "outputs": [
    {
     "data": {
      "text/plain": [
       "27"
      ]
     },
     "execution_count": 95,
     "metadata": {},
     "output_type": "execute_result"
    }
   ],
   "source": [
    "len(data_Online['BI_DEPARTMENT_NUM_LDESC'].unique())    #  Departement: 40 in Inline and 27 in Online  "
   ]
  },
  {
   "cell_type": "code",
   "execution_count": 96,
   "id": "6a4d65b2",
   "metadata": {},
   "outputs": [
    {
     "data": {
      "text/plain": [
       "338"
      ]
     },
     "execution_count": 96,
     "metadata": {},
     "output_type": "execute_result"
    }
   ],
   "source": [
    "data_Online['BI_MAJOR_CATEGORY_CODE_DESC'].nunique()   # \"Major Category\": 524 in Inline and 338 in online "
   ]
  },
  {
   "cell_type": "code",
   "execution_count": 97,
   "id": "bcb4a337",
   "metadata": {},
   "outputs": [
    {
     "data": {
      "text/plain": [
       "847"
      ]
     },
     "execution_count": 97,
     "metadata": {},
     "output_type": "execute_result"
    }
   ],
   "source": [
    "data_Online['BI_GROUP_CATEGORY_CODE_DESC'].nunique()   #Not Used in PowerBI: 1383 in Inline  and 847 online"
   ]
  },
  {
   "cell_type": "code",
   "execution_count": 99,
   "id": "6a6c9f5f",
   "metadata": {},
   "outputs": [
    {
     "data": {
      "text/plain": [
       "1524"
      ]
     },
     "execution_count": 99,
     "metadata": {},
     "output_type": "execute_result"
    }
   ],
   "source": [
    "data_Online['BI_ITEM_CATEGORY_CODE_DESC'].nunique()   #Not Used in PowerBI: 2545 in Inline and  1524 online "
   ]
  },
  {
   "cell_type": "code",
   "execution_count": 100,
   "id": "f34a16cc",
   "metadata": {},
   "outputs": [
    {
     "data": {
      "text/plain": [
       "5305"
      ]
     },
     "execution_count": 100,
     "metadata": {},
     "output_type": "execute_result"
    }
   ],
   "source": [
    "data_Online['ITEM_DESC_1'].nunique()      # \"Item\" 7996 in Online and 5305"
   ]
  },
  {
   "cell_type": "markdown",
   "id": "c2a1768d",
   "metadata": {},
   "source": [
    "### Appending Inline and online Data "
   ]
  },
  {
   "cell_type": "code",
   "execution_count": 29,
   "id": "068b72c5",
   "metadata": {},
   "outputs": [
    {
     "name": "stderr",
     "output_type": "stream",
     "text": [
      "C:\\Users\\Ramshankar\\AppData\\Local\\Temp\\ipykernel_20364\\446111615.py:1: FutureWarning: The frame.append method is deprecated and will be removed from pandas in a future version. Use pandas.concat instead.\n",
      "  data_combine= data_Inline.append(data_Online, ignore_index=True)\n"
     ]
    }
   ],
   "source": [
    "data_combine= data_Inline.append(data_Online, ignore_index=True)"
   ]
  },
  {
   "cell_type": "code",
   "execution_count": 30,
   "id": "ec0b7882",
   "metadata": {},
   "outputs": [
    {
     "data": {
      "text/html": [
       "<div>\n",
       "<style scoped>\n",
       "    .dataframe tbody tr th:only-of-type {\n",
       "        vertical-align: middle;\n",
       "    }\n",
       "\n",
       "    .dataframe tbody tr th {\n",
       "        vertical-align: top;\n",
       "    }\n",
       "\n",
       "    .dataframe thead th {\n",
       "        text-align: right;\n",
       "    }\n",
       "</style>\n",
       "<table border=\"1\" class=\"dataframe\">\n",
       "  <thead>\n",
       "    <tr style=\"text-align: right;\">\n",
       "      <th></th>\n",
       "      <th>CALENDAR_YR_NUM</th>\n",
       "      <th>CALENDAR_MO_NUM</th>\n",
       "      <th>COMPANY_CODE</th>\n",
       "      <th>BI_RPT_STATE_CODE</th>\n",
       "      <th>BI_RPT_REGION_DESC</th>\n",
       "      <th>BI_RPT_DISTRICT_DESC</th>\n",
       "      <th>LOCATION_LONG_NAME</th>\n",
       "      <th>MAJOR_DEPT_GRP_LONG_DESC</th>\n",
       "      <th>BI_DEPARTMENT_NUM_LDESC</th>\n",
       "      <th>BI_MAJOR_CATEGORY_CODE_DESC</th>\n",
       "      <th>...</th>\n",
       "      <th>ITEM_DESC_1</th>\n",
       "      <th>OnHand_QTY</th>\n",
       "      <th>OnHand_AMT</th>\n",
       "      <th>OnOrder_QTY</th>\n",
       "      <th>OnOrder_AMT</th>\n",
       "      <th>InTransit_QTY</th>\n",
       "      <th>InTransit_AMT</th>\n",
       "      <th>Non-Saleable-Items_QTY</th>\n",
       "      <th>Non-Saleable-Items_AMT</th>\n",
       "      <th>Data_type</th>\n",
       "    </tr>\n",
       "  </thead>\n",
       "  <tbody>\n",
       "    <tr>\n",
       "      <th>0</th>\n",
       "      <td>2021</td>\n",
       "      <td>4</td>\n",
       "      <td>US</td>\n",
       "      <td>SC</td>\n",
       "      <td>SOUTHEAST</td>\n",
       "      <td>SE4</td>\n",
       "      <td>MT PLEASANT</td>\n",
       "      <td>FOOD</td>\n",
       "      <td>13 FOOD</td>\n",
       "      <td>T BREAD</td>\n",
       "      <td>...</td>\n",
       "      <td>IRISH SODA BREAD 2.5 LBS</td>\n",
       "      <td>10</td>\n",
       "      <td>59.90</td>\n",
       "      <td>0</td>\n",
       "      <td>0.00</td>\n",
       "      <td>0</td>\n",
       "      <td>0.00</td>\n",
       "      <td>0</td>\n",
       "      <td>0.0</td>\n",
       "      <td>Inline</td>\n",
       "    </tr>\n",
       "    <tr>\n",
       "      <th>1</th>\n",
       "      <td>2021</td>\n",
       "      <td>11</td>\n",
       "      <td>US</td>\n",
       "      <td>KS</td>\n",
       "      <td>MID WEST</td>\n",
       "      <td>MW5</td>\n",
       "      <td>OVERLAND PARK</td>\n",
       "      <td>OTHER BUS.</td>\n",
       "      <td>94 OPTICAL</td>\n",
       "      <td>F FRAMES</td>\n",
       "      <td>...</td>\n",
       "      <td>VIA SPIGA VS424S (I)</td>\n",
       "      <td>18</td>\n",
       "      <td>1079.82</td>\n",
       "      <td>8</td>\n",
       "      <td>479.92</td>\n",
       "      <td>4</td>\n",
       "      <td>239.96</td>\n",
       "      <td>0</td>\n",
       "      <td>0.0</td>\n",
       "      <td>Inline</td>\n",
       "    </tr>\n",
       "    <tr>\n",
       "      <th>2</th>\n",
       "      <td>2022</td>\n",
       "      <td>4</td>\n",
       "      <td>US</td>\n",
       "      <td>MI</td>\n",
       "      <td>MID WEST</td>\n",
       "      <td>MW1</td>\n",
       "      <td>BLOOMFIELD</td>\n",
       "      <td>FRESH FOOD</td>\n",
       "      <td>65 PRODUCE</td>\n",
       "      <td>1 PRODUCE</td>\n",
       "      <td>...</td>\n",
       "      <td>ORGANIC CAESAR SALAD KIT</td>\n",
       "      <td>7031</td>\n",
       "      <td>63208.69</td>\n",
       "      <td>3672</td>\n",
       "      <td>33011.28</td>\n",
       "      <td>648</td>\n",
       "      <td>5825.52</td>\n",
       "      <td>0</td>\n",
       "      <td>0.0</td>\n",
       "      <td>Inline</td>\n",
       "    </tr>\n",
       "    <tr>\n",
       "      <th>3</th>\n",
       "      <td>2021</td>\n",
       "      <td>3</td>\n",
       "      <td>US</td>\n",
       "      <td>HI</td>\n",
       "      <td>LA REGION</td>\n",
       "      <td>LA4</td>\n",
       "      <td>KAPOLEI</td>\n",
       "      <td>SOFTLINES</td>\n",
       "      <td>32 HOUSEWARES</td>\n",
       "      <td>J DINNERWARE</td>\n",
       "      <td>...</td>\n",
       "      <td>GIBSON MONTEREY 16PC BLUE</td>\n",
       "      <td>284</td>\n",
       "      <td>11357.16</td>\n",
       "      <td>0</td>\n",
       "      <td>0.00</td>\n",
       "      <td>0</td>\n",
       "      <td>0.00</td>\n",
       "      <td>0</td>\n",
       "      <td>0.0</td>\n",
       "      <td>Inline</td>\n",
       "    </tr>\n",
       "    <tr>\n",
       "      <th>4</th>\n",
       "      <td>2021</td>\n",
       "      <td>12</td>\n",
       "      <td>US</td>\n",
       "      <td>IA</td>\n",
       "      <td>MID WEST</td>\n",
       "      <td>MW4</td>\n",
       "      <td>WEST DES MOINES</td>\n",
       "      <td>SOFTLINES</td>\n",
       "      <td>35 JEWELRY</td>\n",
       "      <td>D COLORED GEMS</td>\n",
       "      <td>...</td>\n",
       "      <td>NJ597-1-98 14KYG RD 10MM</td>\n",
       "      <td>34</td>\n",
       "      <td>13599.66</td>\n",
       "      <td>16</td>\n",
       "      <td>6399.84</td>\n",
       "      <td>2</td>\n",
       "      <td>799.98</td>\n",
       "      <td>0</td>\n",
       "      <td>0.0</td>\n",
       "      <td>Inline</td>\n",
       "    </tr>\n",
       "  </tbody>\n",
       "</table>\n",
       "<p>5 rows × 22 columns</p>\n",
       "</div>"
      ],
      "text/plain": [
       "   CALENDAR_YR_NUM  CALENDAR_MO_NUM COMPANY_CODE BI_RPT_STATE_CODE  \\\n",
       "0             2021                4           US                SC   \n",
       "1             2021               11           US                KS   \n",
       "2             2022                4           US                MI   \n",
       "3             2021                3           US                HI   \n",
       "4             2021               12           US                IA   \n",
       "\n",
       "  BI_RPT_REGION_DESC BI_RPT_DISTRICT_DESC LOCATION_LONG_NAME  \\\n",
       "0          SOUTHEAST                  SE4        MT PLEASANT   \n",
       "1           MID WEST                  MW5      OVERLAND PARK   \n",
       "2           MID WEST                  MW1         BLOOMFIELD   \n",
       "3          LA REGION                  LA4            KAPOLEI   \n",
       "4           MID WEST                  MW4    WEST DES MOINES   \n",
       "\n",
       "  MAJOR_DEPT_GRP_LONG_DESC BI_DEPARTMENT_NUM_LDESC  \\\n",
       "0                     FOOD                 13 FOOD   \n",
       "1               OTHER BUS.              94 OPTICAL   \n",
       "2               FRESH FOOD              65 PRODUCE   \n",
       "3                SOFTLINES           32 HOUSEWARES   \n",
       "4                SOFTLINES              35 JEWELRY   \n",
       "\n",
       "  BI_MAJOR_CATEGORY_CODE_DESC  ...                ITEM_DESC_1 OnHand_QTY  \\\n",
       "0                     T BREAD  ...   IRISH SODA BREAD 2.5 LBS         10   \n",
       "1                    F FRAMES  ...       VIA SPIGA VS424S (I)         18   \n",
       "2                   1 PRODUCE  ...   ORGANIC CAESAR SALAD KIT       7031   \n",
       "3                J DINNERWARE  ...  GIBSON MONTEREY 16PC BLUE        284   \n",
       "4              D COLORED GEMS  ...   NJ597-1-98 14KYG RD 10MM         34   \n",
       "\n",
       "  OnHand_AMT  OnOrder_QTY  OnOrder_AMT  InTransit_QTY  InTransit_AMT  \\\n",
       "0      59.90            0         0.00              0           0.00   \n",
       "1    1079.82            8       479.92              4         239.96   \n",
       "2   63208.69         3672     33011.28            648        5825.52   \n",
       "3   11357.16            0         0.00              0           0.00   \n",
       "4   13599.66           16      6399.84              2         799.98   \n",
       "\n",
       "   Non-Saleable-Items_QTY  Non-Saleable-Items_AMT  Data_type  \n",
       "0                       0                     0.0     Inline  \n",
       "1                       0                     0.0     Inline  \n",
       "2                       0                     0.0     Inline  \n",
       "3                       0                     0.0     Inline  \n",
       "4                       0                     0.0     Inline  \n",
       "\n",
       "[5 rows x 22 columns]"
      ]
     },
     "execution_count": 30,
     "metadata": {},
     "output_type": "execute_result"
    }
   ],
   "source": [
    "data_combine.head()"
   ]
  },
  {
   "cell_type": "code",
   "execution_count": 32,
   "id": "fce251fc",
   "metadata": {},
   "outputs": [],
   "source": [
    "#data_combine.to_excel('Output\\\\OnIn_combine.xlsx', index=False)"
   ]
  },
  {
   "cell_type": "code",
   "execution_count": 36,
   "id": "a367ba69",
   "metadata": {
    "scrolled": true
   },
   "outputs": [
    {
     "data": {
      "text/plain": [
       "22"
      ]
     },
     "execution_count": 36,
     "metadata": {},
     "output_type": "execute_result"
    }
   ],
   "source": [
    "len(data_combine.columns)"
   ]
  },
  {
   "cell_type": "code",
   "execution_count": 103,
   "id": "7e038585",
   "metadata": {},
   "outputs": [],
   "source": [
    "data_combine['year_month'] = pd.to_datetime(data_combine['CALENDAR_YR_NUM'].astype(str) + \" - \" + data_combine['CALENDAR_MO_NUM'].astype(str))\n",
    "data_combine['year_month'] = data_combine['year_month'].dt.to_period('M')"
   ]
  },
  {
   "cell_type": "code",
   "execution_count": 104,
   "id": "55f24b2c",
   "metadata": {},
   "outputs": [
    {
     "data": {
      "text/html": [
       "<div>\n",
       "<style scoped>\n",
       "    .dataframe tbody tr th:only-of-type {\n",
       "        vertical-align: middle;\n",
       "    }\n",
       "\n",
       "    .dataframe tbody tr th {\n",
       "        vertical-align: top;\n",
       "    }\n",
       "\n",
       "    .dataframe thead th {\n",
       "        text-align: right;\n",
       "    }\n",
       "</style>\n",
       "<table border=\"1\" class=\"dataframe\">\n",
       "  <thead>\n",
       "    <tr style=\"text-align: right;\">\n",
       "      <th></th>\n",
       "      <th>CALENDAR_YR_NUM</th>\n",
       "      <th>CALENDAR_MO_NUM</th>\n",
       "      <th>COMPANY_CODE</th>\n",
       "      <th>BI_RPT_STATE_CODE</th>\n",
       "      <th>BI_RPT_REGION_DESC</th>\n",
       "      <th>BI_RPT_DISTRICT_DESC</th>\n",
       "      <th>LOCATION_LONG_NAME</th>\n",
       "      <th>MAJOR_DEPT_GRP_LONG_DESC</th>\n",
       "      <th>BI_DEPARTMENT_NUM_LDESC</th>\n",
       "      <th>BI_MAJOR_CATEGORY_CODE_DESC</th>\n",
       "      <th>...</th>\n",
       "      <th>OnHand_QTY</th>\n",
       "      <th>OnHand_AMT</th>\n",
       "      <th>OnOrder_QTY</th>\n",
       "      <th>OnOrder_AMT</th>\n",
       "      <th>InTransit_QTY</th>\n",
       "      <th>InTransit_AMT</th>\n",
       "      <th>Non-Saleable-Items_QTY</th>\n",
       "      <th>Non-Saleable-Items_AMT</th>\n",
       "      <th>Data_type</th>\n",
       "      <th>year_month</th>\n",
       "    </tr>\n",
       "  </thead>\n",
       "  <tbody>\n",
       "    <tr>\n",
       "      <th>0</th>\n",
       "      <td>2021</td>\n",
       "      <td>4</td>\n",
       "      <td>US</td>\n",
       "      <td>SC</td>\n",
       "      <td>SOUTHEAST</td>\n",
       "      <td>SE4</td>\n",
       "      <td>MT PLEASANT</td>\n",
       "      <td>FOOD</td>\n",
       "      <td>13 FOOD</td>\n",
       "      <td>T BREAD</td>\n",
       "      <td>...</td>\n",
       "      <td>10</td>\n",
       "      <td>59.90</td>\n",
       "      <td>0</td>\n",
       "      <td>0.00</td>\n",
       "      <td>0</td>\n",
       "      <td>0.00</td>\n",
       "      <td>0</td>\n",
       "      <td>0.0</td>\n",
       "      <td>Inline</td>\n",
       "      <td>2021-04</td>\n",
       "    </tr>\n",
       "    <tr>\n",
       "      <th>1</th>\n",
       "      <td>2021</td>\n",
       "      <td>11</td>\n",
       "      <td>US</td>\n",
       "      <td>KS</td>\n",
       "      <td>MID WEST</td>\n",
       "      <td>MW5</td>\n",
       "      <td>OVERLAND PARK</td>\n",
       "      <td>OTHER BUS.</td>\n",
       "      <td>94 OPTICAL</td>\n",
       "      <td>F FRAMES</td>\n",
       "      <td>...</td>\n",
       "      <td>18</td>\n",
       "      <td>1079.82</td>\n",
       "      <td>8</td>\n",
       "      <td>479.92</td>\n",
       "      <td>4</td>\n",
       "      <td>239.96</td>\n",
       "      <td>0</td>\n",
       "      <td>0.0</td>\n",
       "      <td>Inline</td>\n",
       "      <td>2021-11</td>\n",
       "    </tr>\n",
       "    <tr>\n",
       "      <th>2</th>\n",
       "      <td>2022</td>\n",
       "      <td>4</td>\n",
       "      <td>US</td>\n",
       "      <td>MI</td>\n",
       "      <td>MID WEST</td>\n",
       "      <td>MW1</td>\n",
       "      <td>BLOOMFIELD</td>\n",
       "      <td>FRESH FOOD</td>\n",
       "      <td>65 PRODUCE</td>\n",
       "      <td>1 PRODUCE</td>\n",
       "      <td>...</td>\n",
       "      <td>7031</td>\n",
       "      <td>63208.69</td>\n",
       "      <td>3672</td>\n",
       "      <td>33011.28</td>\n",
       "      <td>648</td>\n",
       "      <td>5825.52</td>\n",
       "      <td>0</td>\n",
       "      <td>0.0</td>\n",
       "      <td>Inline</td>\n",
       "      <td>2022-04</td>\n",
       "    </tr>\n",
       "    <tr>\n",
       "      <th>3</th>\n",
       "      <td>2021</td>\n",
       "      <td>3</td>\n",
       "      <td>US</td>\n",
       "      <td>HI</td>\n",
       "      <td>LA REGION</td>\n",
       "      <td>LA4</td>\n",
       "      <td>KAPOLEI</td>\n",
       "      <td>SOFTLINES</td>\n",
       "      <td>32 HOUSEWARES</td>\n",
       "      <td>J DINNERWARE</td>\n",
       "      <td>...</td>\n",
       "      <td>284</td>\n",
       "      <td>11357.16</td>\n",
       "      <td>0</td>\n",
       "      <td>0.00</td>\n",
       "      <td>0</td>\n",
       "      <td>0.00</td>\n",
       "      <td>0</td>\n",
       "      <td>0.0</td>\n",
       "      <td>Inline</td>\n",
       "      <td>2021-03</td>\n",
       "    </tr>\n",
       "    <tr>\n",
       "      <th>4</th>\n",
       "      <td>2021</td>\n",
       "      <td>12</td>\n",
       "      <td>US</td>\n",
       "      <td>IA</td>\n",
       "      <td>MID WEST</td>\n",
       "      <td>MW4</td>\n",
       "      <td>WEST DES MOINES</td>\n",
       "      <td>SOFTLINES</td>\n",
       "      <td>35 JEWELRY</td>\n",
       "      <td>D COLORED GEMS</td>\n",
       "      <td>...</td>\n",
       "      <td>34</td>\n",
       "      <td>13599.66</td>\n",
       "      <td>16</td>\n",
       "      <td>6399.84</td>\n",
       "      <td>2</td>\n",
       "      <td>799.98</td>\n",
       "      <td>0</td>\n",
       "      <td>0.0</td>\n",
       "      <td>Inline</td>\n",
       "      <td>2021-12</td>\n",
       "    </tr>\n",
       "    <tr>\n",
       "      <th>...</th>\n",
       "      <td>...</td>\n",
       "      <td>...</td>\n",
       "      <td>...</td>\n",
       "      <td>...</td>\n",
       "      <td>...</td>\n",
       "      <td>...</td>\n",
       "      <td>...</td>\n",
       "      <td>...</td>\n",
       "      <td>...</td>\n",
       "      <td>...</td>\n",
       "      <td>...</td>\n",
       "      <td>...</td>\n",
       "      <td>...</td>\n",
       "      <td>...</td>\n",
       "      <td>...</td>\n",
       "      <td>...</td>\n",
       "      <td>...</td>\n",
       "      <td>...</td>\n",
       "      <td>...</td>\n",
       "      <td>...</td>\n",
       "      <td>...</td>\n",
       "    </tr>\n",
       "    <tr>\n",
       "      <th>19995</th>\n",
       "      <td>2022</td>\n",
       "      <td>3</td>\n",
       "      <td>US</td>\n",
       "      <td>OH</td>\n",
       "      <td>BUSINESS DELIV-OTHER</td>\n",
       "      <td>DEPOT</td>\n",
       "      <td>DDC ECOM COLUMBUS OH</td>\n",
       "      <td>HARDLINES</td>\n",
       "      <td>24 MAJOR APPLIANCES</td>\n",
       "      <td>H MAJOR APPLIANCES</td>\n",
       "      <td>...</td>\n",
       "      <td>961</td>\n",
       "      <td>28820.39</td>\n",
       "      <td>0</td>\n",
       "      <td>0.00</td>\n",
       "      <td>0</td>\n",
       "      <td>0.00</td>\n",
       "      <td>0</td>\n",
       "      <td>0.0</td>\n",
       "      <td>Online</td>\n",
       "      <td>2022-03</td>\n",
       "    </tr>\n",
       "    <tr>\n",
       "      <th>19996</th>\n",
       "      <td>2022</td>\n",
       "      <td>2</td>\n",
       "      <td>US</td>\n",
       "      <td>FL</td>\n",
       "      <td>BUSINESS DELIV-OTHER</td>\n",
       "      <td>DEPOT</td>\n",
       "      <td>DDC ECOM OCALA FL</td>\n",
       "      <td>HARDLINES</td>\n",
       "      <td>24 MAJOR APPLIANCES</td>\n",
       "      <td>H MAJOR APPLIANCES</td>\n",
       "      <td>...</td>\n",
       "      <td>1738</td>\n",
       "      <td>5561582.62</td>\n",
       "      <td>1596</td>\n",
       "      <td>5107184.04</td>\n",
       "      <td>0</td>\n",
       "      <td>0.00</td>\n",
       "      <td>0</td>\n",
       "      <td>0.0</td>\n",
       "      <td>Online</td>\n",
       "      <td>2022-02</td>\n",
       "    </tr>\n",
       "    <tr>\n",
       "      <th>19997</th>\n",
       "      <td>2022</td>\n",
       "      <td>8</td>\n",
       "      <td>US</td>\n",
       "      <td>CA</td>\n",
       "      <td>BUSINESS DELIV-OTHER</td>\n",
       "      <td>DEPOT</td>\n",
       "      <td>MDO ECOM W SACRAMENTO CA</td>\n",
       "      <td>HARDLINES</td>\n",
       "      <td>24 MAJOR APPLIANCES</td>\n",
       "      <td>H MAJOR APPLIANCES</td>\n",
       "      <td>...</td>\n",
       "      <td>11</td>\n",
       "      <td>14299.89</td>\n",
       "      <td>0</td>\n",
       "      <td>0.00</td>\n",
       "      <td>0</td>\n",
       "      <td>0.00</td>\n",
       "      <td>0</td>\n",
       "      <td>0.0</td>\n",
       "      <td>Online</td>\n",
       "      <td>2022-08</td>\n",
       "    </tr>\n",
       "    <tr>\n",
       "      <th>19998</th>\n",
       "      <td>2021</td>\n",
       "      <td>7</td>\n",
       "      <td>US</td>\n",
       "      <td>GA</td>\n",
       "      <td>BUSINESS DELIV-OTHER</td>\n",
       "      <td>DEPOT</td>\n",
       "      <td>DDC ECOM ATLANTA GA</td>\n",
       "      <td>HARDLINES</td>\n",
       "      <td>27 GARDEN</td>\n",
       "      <td>M PATIO</td>\n",
       "      <td>...</td>\n",
       "      <td>9</td>\n",
       "      <td>20699.91</td>\n",
       "      <td>0</td>\n",
       "      <td>0.00</td>\n",
       "      <td>0</td>\n",
       "      <td>0.00</td>\n",
       "      <td>0</td>\n",
       "      <td>0.0</td>\n",
       "      <td>Online</td>\n",
       "      <td>2021-07</td>\n",
       "    </tr>\n",
       "    <tr>\n",
       "      <th>19999</th>\n",
       "      <td>2022</td>\n",
       "      <td>9</td>\n",
       "      <td>US</td>\n",
       "      <td>IL</td>\n",
       "      <td>BUSINESS DELIV-OTHER</td>\n",
       "      <td>DEPOT</td>\n",
       "      <td>MDO ECOM ITASCA IL</td>\n",
       "      <td>HARDLINES</td>\n",
       "      <td>24 MAJOR APPLIANCES</td>\n",
       "      <td>H MAJOR APPLIANCES</td>\n",
       "      <td>...</td>\n",
       "      <td>15</td>\n",
       "      <td>9449.85</td>\n",
       "      <td>0</td>\n",
       "      <td>0.00</td>\n",
       "      <td>0</td>\n",
       "      <td>0.00</td>\n",
       "      <td>0</td>\n",
       "      <td>0.0</td>\n",
       "      <td>Online</td>\n",
       "      <td>2022-09</td>\n",
       "    </tr>\n",
       "  </tbody>\n",
       "</table>\n",
       "<p>20000 rows × 23 columns</p>\n",
       "</div>"
      ],
      "text/plain": [
       "       CALENDAR_YR_NUM  CALENDAR_MO_NUM COMPANY_CODE BI_RPT_STATE_CODE  \\\n",
       "0                 2021                4           US                SC   \n",
       "1                 2021               11           US                KS   \n",
       "2                 2022                4           US                MI   \n",
       "3                 2021                3           US                HI   \n",
       "4                 2021               12           US                IA   \n",
       "...                ...              ...          ...               ...   \n",
       "19995             2022                3           US                OH   \n",
       "19996             2022                2           US                FL   \n",
       "19997             2022                8           US                CA   \n",
       "19998             2021                7           US                GA   \n",
       "19999             2022                9           US                IL   \n",
       "\n",
       "         BI_RPT_REGION_DESC BI_RPT_DISTRICT_DESC        LOCATION_LONG_NAME  \\\n",
       "0                 SOUTHEAST                  SE4               MT PLEASANT   \n",
       "1                  MID WEST                  MW5             OVERLAND PARK   \n",
       "2                  MID WEST                  MW1                BLOOMFIELD   \n",
       "3                 LA REGION                  LA4                   KAPOLEI   \n",
       "4                  MID WEST                  MW4           WEST DES MOINES   \n",
       "...                     ...                  ...                       ...   \n",
       "19995  BUSINESS DELIV-OTHER                DEPOT      DDC ECOM COLUMBUS OH   \n",
       "19996  BUSINESS DELIV-OTHER                DEPOT         DDC ECOM OCALA FL   \n",
       "19997  BUSINESS DELIV-OTHER                DEPOT  MDO ECOM W SACRAMENTO CA   \n",
       "19998  BUSINESS DELIV-OTHER                DEPOT       DDC ECOM ATLANTA GA   \n",
       "19999  BUSINESS DELIV-OTHER                DEPOT        MDO ECOM ITASCA IL   \n",
       "\n",
       "      MAJOR_DEPT_GRP_LONG_DESC BI_DEPARTMENT_NUM_LDESC  \\\n",
       "0                         FOOD                 13 FOOD   \n",
       "1                   OTHER BUS.              94 OPTICAL   \n",
       "2                   FRESH FOOD              65 PRODUCE   \n",
       "3                    SOFTLINES           32 HOUSEWARES   \n",
       "4                    SOFTLINES              35 JEWELRY   \n",
       "...                        ...                     ...   \n",
       "19995                HARDLINES     24 MAJOR APPLIANCES   \n",
       "19996                HARDLINES     24 MAJOR APPLIANCES   \n",
       "19997                HARDLINES     24 MAJOR APPLIANCES   \n",
       "19998                HARDLINES               27 GARDEN   \n",
       "19999                HARDLINES     24 MAJOR APPLIANCES   \n",
       "\n",
       "      BI_MAJOR_CATEGORY_CODE_DESC  ... OnHand_QTY  OnHand_AMT OnOrder_QTY  \\\n",
       "0                         T BREAD  ...         10       59.90           0   \n",
       "1                        F FRAMES  ...         18     1079.82           8   \n",
       "2                       1 PRODUCE  ...       7031    63208.69        3672   \n",
       "3                    J DINNERWARE  ...        284    11357.16           0   \n",
       "4                  D COLORED GEMS  ...         34    13599.66          16   \n",
       "...                           ...  ...        ...         ...         ...   \n",
       "19995          H MAJOR APPLIANCES  ...        961    28820.39           0   \n",
       "19996          H MAJOR APPLIANCES  ...       1738  5561582.62        1596   \n",
       "19997          H MAJOR APPLIANCES  ...         11    14299.89           0   \n",
       "19998                     M PATIO  ...          9    20699.91           0   \n",
       "19999          H MAJOR APPLIANCES  ...         15     9449.85           0   \n",
       "\n",
       "       OnOrder_AMT  InTransit_QTY  InTransit_AMT  Non-Saleable-Items_QTY  \\\n",
       "0             0.00              0           0.00                       0   \n",
       "1           479.92              4         239.96                       0   \n",
       "2         33011.28            648        5825.52                       0   \n",
       "3             0.00              0           0.00                       0   \n",
       "4          6399.84              2         799.98                       0   \n",
       "...            ...            ...            ...                     ...   \n",
       "19995         0.00              0           0.00                       0   \n",
       "19996   5107184.04              0           0.00                       0   \n",
       "19997         0.00              0           0.00                       0   \n",
       "19998         0.00              0           0.00                       0   \n",
       "19999         0.00              0           0.00                       0   \n",
       "\n",
       "       Non-Saleable-Items_AMT  Data_type  year_month  \n",
       "0                         0.0     Inline     2021-04  \n",
       "1                         0.0     Inline     2021-11  \n",
       "2                         0.0     Inline     2022-04  \n",
       "3                         0.0     Inline     2021-03  \n",
       "4                         0.0     Inline     2021-12  \n",
       "...                       ...        ...         ...  \n",
       "19995                     0.0     Online     2022-03  \n",
       "19996                     0.0     Online     2022-02  \n",
       "19997                     0.0     Online     2022-08  \n",
       "19998                     0.0     Online     2021-07  \n",
       "19999                     0.0     Online     2022-09  \n",
       "\n",
       "[20000 rows x 23 columns]"
      ]
     },
     "execution_count": 104,
     "metadata": {},
     "output_type": "execute_result"
    }
   ],
   "source": [
    "data_combine"
   ]
  },
  {
   "cell_type": "code",
   "execution_count": 106,
   "id": "0548ad1d",
   "metadata": {},
   "outputs": [
    {
     "data": {
      "text/html": [
       "<div>\n",
       "<style scoped>\n",
       "    .dataframe tbody tr th:only-of-type {\n",
       "        vertical-align: middle;\n",
       "    }\n",
       "\n",
       "    .dataframe tbody tr th {\n",
       "        vertical-align: top;\n",
       "    }\n",
       "\n",
       "    .dataframe thead th {\n",
       "        text-align: right;\n",
       "    }\n",
       "</style>\n",
       "<table border=\"1\" class=\"dataframe\">\n",
       "  <thead>\n",
       "    <tr style=\"text-align: right;\">\n",
       "      <th></th>\n",
       "      <th>CALENDAR_YR_NUM</th>\n",
       "      <th>CALENDAR_MO_NUM</th>\n",
       "      <th>COMPANY_CODE</th>\n",
       "      <th>BI_RPT_STATE_CODE</th>\n",
       "      <th>BI_RPT_REGION_DESC</th>\n",
       "      <th>BI_RPT_DISTRICT_DESC</th>\n",
       "      <th>LOCATION_LONG_NAME</th>\n",
       "      <th>MAJOR_DEPT_GRP_LONG_DESC</th>\n",
       "      <th>BI_DEPARTMENT_NUM_LDESC</th>\n",
       "      <th>BI_MAJOR_CATEGORY_CODE_DESC</th>\n",
       "      <th>...</th>\n",
       "      <th>OnHand_QTY</th>\n",
       "      <th>OnHand_AMT</th>\n",
       "      <th>OnOrder_QTY</th>\n",
       "      <th>OnOrder_AMT</th>\n",
       "      <th>InTransit_QTY</th>\n",
       "      <th>InTransit_AMT</th>\n",
       "      <th>Non-Saleable-Items_QTY</th>\n",
       "      <th>Non-Saleable-Items_AMT</th>\n",
       "      <th>Data_type</th>\n",
       "      <th>year_month</th>\n",
       "    </tr>\n",
       "  </thead>\n",
       "  <tbody>\n",
       "    <tr>\n",
       "      <th>0</th>\n",
       "      <td>2021</td>\n",
       "      <td>4</td>\n",
       "      <td>US</td>\n",
       "      <td>SC</td>\n",
       "      <td>SOUTHEAST</td>\n",
       "      <td>SE4</td>\n",
       "      <td>MT PLEASANT</td>\n",
       "      <td>FOOD</td>\n",
       "      <td>13 FOOD</td>\n",
       "      <td>T BREAD</td>\n",
       "      <td>...</td>\n",
       "      <td>10</td>\n",
       "      <td>59.90</td>\n",
       "      <td>0</td>\n",
       "      <td>0.00</td>\n",
       "      <td>0</td>\n",
       "      <td>0.00</td>\n",
       "      <td>0</td>\n",
       "      <td>0.0</td>\n",
       "      <td>Inline</td>\n",
       "      <td>2021-04</td>\n",
       "    </tr>\n",
       "    <tr>\n",
       "      <th>1</th>\n",
       "      <td>2021</td>\n",
       "      <td>11</td>\n",
       "      <td>US</td>\n",
       "      <td>KS</td>\n",
       "      <td>MID WEST</td>\n",
       "      <td>MW5</td>\n",
       "      <td>OVERLAND PARK</td>\n",
       "      <td>OTHER BUS.</td>\n",
       "      <td>94 OPTICAL</td>\n",
       "      <td>F FRAMES</td>\n",
       "      <td>...</td>\n",
       "      <td>18</td>\n",
       "      <td>1079.82</td>\n",
       "      <td>8</td>\n",
       "      <td>479.92</td>\n",
       "      <td>4</td>\n",
       "      <td>239.96</td>\n",
       "      <td>0</td>\n",
       "      <td>0.0</td>\n",
       "      <td>Inline</td>\n",
       "      <td>2021-11</td>\n",
       "    </tr>\n",
       "    <tr>\n",
       "      <th>2</th>\n",
       "      <td>2022</td>\n",
       "      <td>4</td>\n",
       "      <td>US</td>\n",
       "      <td>MI</td>\n",
       "      <td>MID WEST</td>\n",
       "      <td>MW1</td>\n",
       "      <td>BLOOMFIELD</td>\n",
       "      <td>FRESH FOOD</td>\n",
       "      <td>65 PRODUCE</td>\n",
       "      <td>1 PRODUCE</td>\n",
       "      <td>...</td>\n",
       "      <td>7031</td>\n",
       "      <td>63208.69</td>\n",
       "      <td>3672</td>\n",
       "      <td>33011.28</td>\n",
       "      <td>648</td>\n",
       "      <td>5825.52</td>\n",
       "      <td>0</td>\n",
       "      <td>0.0</td>\n",
       "      <td>Inline</td>\n",
       "      <td>2022-04</td>\n",
       "    </tr>\n",
       "    <tr>\n",
       "      <th>3</th>\n",
       "      <td>2021</td>\n",
       "      <td>3</td>\n",
       "      <td>US</td>\n",
       "      <td>HI</td>\n",
       "      <td>LA REGION</td>\n",
       "      <td>LA4</td>\n",
       "      <td>KAPOLEI</td>\n",
       "      <td>SOFTLINES</td>\n",
       "      <td>32 HOUSEWARES</td>\n",
       "      <td>J DINNERWARE</td>\n",
       "      <td>...</td>\n",
       "      <td>284</td>\n",
       "      <td>11357.16</td>\n",
       "      <td>0</td>\n",
       "      <td>0.00</td>\n",
       "      <td>0</td>\n",
       "      <td>0.00</td>\n",
       "      <td>0</td>\n",
       "      <td>0.0</td>\n",
       "      <td>Inline</td>\n",
       "      <td>2021-03</td>\n",
       "    </tr>\n",
       "    <tr>\n",
       "      <th>4</th>\n",
       "      <td>2021</td>\n",
       "      <td>12</td>\n",
       "      <td>US</td>\n",
       "      <td>IA</td>\n",
       "      <td>MID WEST</td>\n",
       "      <td>MW4</td>\n",
       "      <td>WEST DES MOINES</td>\n",
       "      <td>SOFTLINES</td>\n",
       "      <td>35 JEWELRY</td>\n",
       "      <td>D COLORED GEMS</td>\n",
       "      <td>...</td>\n",
       "      <td>34</td>\n",
       "      <td>13599.66</td>\n",
       "      <td>16</td>\n",
       "      <td>6399.84</td>\n",
       "      <td>2</td>\n",
       "      <td>799.98</td>\n",
       "      <td>0</td>\n",
       "      <td>0.0</td>\n",
       "      <td>Inline</td>\n",
       "      <td>2021-12</td>\n",
       "    </tr>\n",
       "    <tr>\n",
       "      <th>...</th>\n",
       "      <td>...</td>\n",
       "      <td>...</td>\n",
       "      <td>...</td>\n",
       "      <td>...</td>\n",
       "      <td>...</td>\n",
       "      <td>...</td>\n",
       "      <td>...</td>\n",
       "      <td>...</td>\n",
       "      <td>...</td>\n",
       "      <td>...</td>\n",
       "      <td>...</td>\n",
       "      <td>...</td>\n",
       "      <td>...</td>\n",
       "      <td>...</td>\n",
       "      <td>...</td>\n",
       "      <td>...</td>\n",
       "      <td>...</td>\n",
       "      <td>...</td>\n",
       "      <td>...</td>\n",
       "      <td>...</td>\n",
       "      <td>...</td>\n",
       "    </tr>\n",
       "    <tr>\n",
       "      <th>19995</th>\n",
       "      <td>2022</td>\n",
       "      <td>3</td>\n",
       "      <td>US</td>\n",
       "      <td>OH</td>\n",
       "      <td>BUSINESS DELIV-OTHER</td>\n",
       "      <td>DEPOT</td>\n",
       "      <td>DDC ECOM COLUMBUS OH</td>\n",
       "      <td>HARDLINES</td>\n",
       "      <td>24 MAJOR APPLIANCES</td>\n",
       "      <td>H MAJOR APPLIANCES</td>\n",
       "      <td>...</td>\n",
       "      <td>961</td>\n",
       "      <td>28820.39</td>\n",
       "      <td>0</td>\n",
       "      <td>0.00</td>\n",
       "      <td>0</td>\n",
       "      <td>0.00</td>\n",
       "      <td>0</td>\n",
       "      <td>0.0</td>\n",
       "      <td>Online</td>\n",
       "      <td>2022-03</td>\n",
       "    </tr>\n",
       "    <tr>\n",
       "      <th>19996</th>\n",
       "      <td>2022</td>\n",
       "      <td>2</td>\n",
       "      <td>US</td>\n",
       "      <td>FL</td>\n",
       "      <td>BUSINESS DELIV-OTHER</td>\n",
       "      <td>DEPOT</td>\n",
       "      <td>DDC ECOM OCALA FL</td>\n",
       "      <td>HARDLINES</td>\n",
       "      <td>24 MAJOR APPLIANCES</td>\n",
       "      <td>H MAJOR APPLIANCES</td>\n",
       "      <td>...</td>\n",
       "      <td>1738</td>\n",
       "      <td>5561582.62</td>\n",
       "      <td>1596</td>\n",
       "      <td>5107184.04</td>\n",
       "      <td>0</td>\n",
       "      <td>0.00</td>\n",
       "      <td>0</td>\n",
       "      <td>0.0</td>\n",
       "      <td>Online</td>\n",
       "      <td>2022-02</td>\n",
       "    </tr>\n",
       "    <tr>\n",
       "      <th>19997</th>\n",
       "      <td>2022</td>\n",
       "      <td>8</td>\n",
       "      <td>US</td>\n",
       "      <td>CA</td>\n",
       "      <td>BUSINESS DELIV-OTHER</td>\n",
       "      <td>DEPOT</td>\n",
       "      <td>MDO ECOM W SACRAMENTO CA</td>\n",
       "      <td>HARDLINES</td>\n",
       "      <td>24 MAJOR APPLIANCES</td>\n",
       "      <td>H MAJOR APPLIANCES</td>\n",
       "      <td>...</td>\n",
       "      <td>11</td>\n",
       "      <td>14299.89</td>\n",
       "      <td>0</td>\n",
       "      <td>0.00</td>\n",
       "      <td>0</td>\n",
       "      <td>0.00</td>\n",
       "      <td>0</td>\n",
       "      <td>0.0</td>\n",
       "      <td>Online</td>\n",
       "      <td>2022-08</td>\n",
       "    </tr>\n",
       "    <tr>\n",
       "      <th>19998</th>\n",
       "      <td>2021</td>\n",
       "      <td>7</td>\n",
       "      <td>US</td>\n",
       "      <td>GA</td>\n",
       "      <td>BUSINESS DELIV-OTHER</td>\n",
       "      <td>DEPOT</td>\n",
       "      <td>DDC ECOM ATLANTA GA</td>\n",
       "      <td>HARDLINES</td>\n",
       "      <td>27 GARDEN</td>\n",
       "      <td>M PATIO</td>\n",
       "      <td>...</td>\n",
       "      <td>9</td>\n",
       "      <td>20699.91</td>\n",
       "      <td>0</td>\n",
       "      <td>0.00</td>\n",
       "      <td>0</td>\n",
       "      <td>0.00</td>\n",
       "      <td>0</td>\n",
       "      <td>0.0</td>\n",
       "      <td>Online</td>\n",
       "      <td>2021-07</td>\n",
       "    </tr>\n",
       "    <tr>\n",
       "      <th>19999</th>\n",
       "      <td>2022</td>\n",
       "      <td>9</td>\n",
       "      <td>US</td>\n",
       "      <td>IL</td>\n",
       "      <td>BUSINESS DELIV-OTHER</td>\n",
       "      <td>DEPOT</td>\n",
       "      <td>MDO ECOM ITASCA IL</td>\n",
       "      <td>HARDLINES</td>\n",
       "      <td>24 MAJOR APPLIANCES</td>\n",
       "      <td>H MAJOR APPLIANCES</td>\n",
       "      <td>...</td>\n",
       "      <td>15</td>\n",
       "      <td>9449.85</td>\n",
       "      <td>0</td>\n",
       "      <td>0.00</td>\n",
       "      <td>0</td>\n",
       "      <td>0.00</td>\n",
       "      <td>0</td>\n",
       "      <td>0.0</td>\n",
       "      <td>Online</td>\n",
       "      <td>2022-09</td>\n",
       "    </tr>\n",
       "  </tbody>\n",
       "</table>\n",
       "<p>16906 rows × 23 columns</p>\n",
       "</div>"
      ],
      "text/plain": [
       "       CALENDAR_YR_NUM  CALENDAR_MO_NUM COMPANY_CODE BI_RPT_STATE_CODE  \\\n",
       "0                 2021                4           US                SC   \n",
       "1                 2021               11           US                KS   \n",
       "2                 2022                4           US                MI   \n",
       "3                 2021                3           US                HI   \n",
       "4                 2021               12           US                IA   \n",
       "...                ...              ...          ...               ...   \n",
       "19995             2022                3           US                OH   \n",
       "19996             2022                2           US                FL   \n",
       "19997             2022                8           US                CA   \n",
       "19998             2021                7           US                GA   \n",
       "19999             2022                9           US                IL   \n",
       "\n",
       "         BI_RPT_REGION_DESC BI_RPT_DISTRICT_DESC        LOCATION_LONG_NAME  \\\n",
       "0                 SOUTHEAST                  SE4               MT PLEASANT   \n",
       "1                  MID WEST                  MW5             OVERLAND PARK   \n",
       "2                  MID WEST                  MW1                BLOOMFIELD   \n",
       "3                 LA REGION                  LA4                   KAPOLEI   \n",
       "4                  MID WEST                  MW4           WEST DES MOINES   \n",
       "...                     ...                  ...                       ...   \n",
       "19995  BUSINESS DELIV-OTHER                DEPOT      DDC ECOM COLUMBUS OH   \n",
       "19996  BUSINESS DELIV-OTHER                DEPOT         DDC ECOM OCALA FL   \n",
       "19997  BUSINESS DELIV-OTHER                DEPOT  MDO ECOM W SACRAMENTO CA   \n",
       "19998  BUSINESS DELIV-OTHER                DEPOT       DDC ECOM ATLANTA GA   \n",
       "19999  BUSINESS DELIV-OTHER                DEPOT        MDO ECOM ITASCA IL   \n",
       "\n",
       "      MAJOR_DEPT_GRP_LONG_DESC BI_DEPARTMENT_NUM_LDESC  \\\n",
       "0                         FOOD                 13 FOOD   \n",
       "1                   OTHER BUS.              94 OPTICAL   \n",
       "2                   FRESH FOOD              65 PRODUCE   \n",
       "3                    SOFTLINES           32 HOUSEWARES   \n",
       "4                    SOFTLINES              35 JEWELRY   \n",
       "...                        ...                     ...   \n",
       "19995                HARDLINES     24 MAJOR APPLIANCES   \n",
       "19996                HARDLINES     24 MAJOR APPLIANCES   \n",
       "19997                HARDLINES     24 MAJOR APPLIANCES   \n",
       "19998                HARDLINES               27 GARDEN   \n",
       "19999                HARDLINES     24 MAJOR APPLIANCES   \n",
       "\n",
       "      BI_MAJOR_CATEGORY_CODE_DESC  ... OnHand_QTY  OnHand_AMT OnOrder_QTY  \\\n",
       "0                         T BREAD  ...         10       59.90           0   \n",
       "1                        F FRAMES  ...         18     1079.82           8   \n",
       "2                       1 PRODUCE  ...       7031    63208.69        3672   \n",
       "3                    J DINNERWARE  ...        284    11357.16           0   \n",
       "4                  D COLORED GEMS  ...         34    13599.66          16   \n",
       "...                           ...  ...        ...         ...         ...   \n",
       "19995          H MAJOR APPLIANCES  ...        961    28820.39           0   \n",
       "19996          H MAJOR APPLIANCES  ...       1738  5561582.62        1596   \n",
       "19997          H MAJOR APPLIANCES  ...         11    14299.89           0   \n",
       "19998                     M PATIO  ...          9    20699.91           0   \n",
       "19999          H MAJOR APPLIANCES  ...         15     9449.85           0   \n",
       "\n",
       "       OnOrder_AMT  InTransit_QTY  InTransit_AMT  Non-Saleable-Items_QTY  \\\n",
       "0             0.00              0           0.00                       0   \n",
       "1           479.92              4         239.96                       0   \n",
       "2         33011.28            648        5825.52                       0   \n",
       "3             0.00              0           0.00                       0   \n",
       "4          6399.84              2         799.98                       0   \n",
       "...            ...            ...            ...                     ...   \n",
       "19995         0.00              0           0.00                       0   \n",
       "19996   5107184.04              0           0.00                       0   \n",
       "19997         0.00              0           0.00                       0   \n",
       "19998         0.00              0           0.00                       0   \n",
       "19999         0.00              0           0.00                       0   \n",
       "\n",
       "       Non-Saleable-Items_AMT  Data_type  year_month  \n",
       "0                         0.0     Inline     2021-04  \n",
       "1                         0.0     Inline     2021-11  \n",
       "2                         0.0     Inline     2022-04  \n",
       "3                         0.0     Inline     2021-03  \n",
       "4                         0.0     Inline     2021-12  \n",
       "...                       ...        ...         ...  \n",
       "19995                     0.0     Online     2022-03  \n",
       "19996                     0.0     Online     2022-02  \n",
       "19997                     0.0     Online     2022-08  \n",
       "19998                     0.0     Online     2021-07  \n",
       "19999                     0.0     Online     2022-09  \n",
       "\n",
       "[16906 rows x 23 columns]"
      ]
     },
     "execution_count": 106,
     "metadata": {},
     "output_type": "execute_result"
    }
   ],
   "source": [
    "#Flitering US cntry only\n",
    "\n",
    "filter1 = data_combine[data_combine['COMPANY_CODE']=='US']\n"
   ]
  },
  {
   "cell_type": "code",
   "execution_count": 107,
   "id": "74957ca6",
   "metadata": {},
   "outputs": [],
   "source": [
    "filter1 = data_combine[data_combine['COMPANY_CODE']=='US']"
   ]
  },
  {
   "cell_type": "code",
   "execution_count": 108,
   "id": "f82b905f",
   "metadata": {},
   "outputs": [
    {
     "data": {
      "text/plain": [
       "48"
      ]
     },
     "execution_count": 108,
     "metadata": {},
     "output_type": "execute_result"
    }
   ],
   "source": [
    "filter1['BI_RPT_STATE_CODE'].nunique()"
   ]
  },
  {
   "cell_type": "code",
   "execution_count": 109,
   "id": "bcefdfcb",
   "metadata": {},
   "outputs": [
    {
     "data": {
      "text/plain": [
       "array(['SC', 'KS', 'MI', 'HI', 'IA', 'FL', 'VA', 'OH', 'AL', 'ND', 'ID',\n",
       "       'GA', 'NM', 'WA', 'TN', 'NE', 'KY', 'PA', 'SD', 'IL', 'TX', 'NY',\n",
       "       'UT', 'AZ', 'PR', 'CO', 'MT', 'MN', 'CA', 'DE', 'NH', 'NJ', 'MO',\n",
       "       'IN', 'OR', 'LA', 'NV', 'OK', 'AK', 'MA', 'MS', 'NC', 'WI', 'MD',\n",
       "       'DC', 'VT', 'CT', 'AR'], dtype=object)"
      ]
     },
     "execution_count": 109,
     "metadata": {},
     "output_type": "execute_result"
    }
   ],
   "source": [
    "filter1['BI_RPT_STATE_CODE'].unique()"
   ]
  },
  {
   "cell_type": "code",
   "execution_count": 116,
   "id": "93f3b6be",
   "metadata": {},
   "outputs": [
    {
     "ename": "InvalidIndexError",
     "evalue": "(0         True\n1        False\n2        False\n3        False\n4        False\n         ...  \n19995    False\n19996    False\n19997    False\n19998    False\n19999    False\nName: BI_RPT_REGION_DESC, Length: 16906, dtype: bool, 'MID WEST')",
     "output_type": "error",
     "traceback": [
      "\u001b[1;31m---------------------------------------------------------------------------\u001b[0m",
      "\u001b[1;31mTypeError\u001b[0m                                 Traceback (most recent call last)",
      "File \u001b[1;32m~\\anaconda3\\lib\\site-packages\\pandas\\core\\indexes\\base.py:3621\u001b[0m, in \u001b[0;36mIndex.get_loc\u001b[1;34m(self, key, method, tolerance)\u001b[0m\n\u001b[0;32m   3620\u001b[0m \u001b[38;5;28;01mtry\u001b[39;00m:\n\u001b[1;32m-> 3621\u001b[0m     \u001b[38;5;28;01mreturn\u001b[39;00m \u001b[38;5;28;43mself\u001b[39;49m\u001b[38;5;241;43m.\u001b[39;49m\u001b[43m_engine\u001b[49m\u001b[38;5;241;43m.\u001b[39;49m\u001b[43mget_loc\u001b[49m\u001b[43m(\u001b[49m\u001b[43mcasted_key\u001b[49m\u001b[43m)\u001b[49m\n\u001b[0;32m   3622\u001b[0m \u001b[38;5;28;01mexcept\u001b[39;00m \u001b[38;5;167;01mKeyError\u001b[39;00m \u001b[38;5;28;01mas\u001b[39;00m err:\n",
      "File \u001b[1;32m~\\anaconda3\\lib\\site-packages\\pandas\\_libs\\index.pyx:136\u001b[0m, in \u001b[0;36mpandas._libs.index.IndexEngine.get_loc\u001b[1;34m()\u001b[0m\n",
      "File \u001b[1;32m~\\anaconda3\\lib\\site-packages\\pandas\\_libs\\index.pyx:142\u001b[0m, in \u001b[0;36mpandas._libs.index.IndexEngine.get_loc\u001b[1;34m()\u001b[0m\n",
      "\u001b[1;31mTypeError\u001b[0m: '(0         True\n1        False\n2        False\n3        False\n4        False\n         ...  \n19995    False\n19996    False\n19997    False\n19998    False\n19999    False\nName: BI_RPT_REGION_DESC, Length: 16906, dtype: bool, 'MID WEST')' is an invalid key",
      "\nDuring handling of the above exception, another exception occurred:\n",
      "\u001b[1;31mInvalidIndexError\u001b[0m                         Traceback (most recent call last)",
      "Input \u001b[1;32mIn [116]\u001b[0m, in \u001b[0;36m<cell line: 3>\u001b[1;34m()\u001b[0m\n\u001b[0;32m      1\u001b[0m \u001b[38;5;66;03m#Filtering region\u001b[39;00m\n\u001b[1;32m----> 3\u001b[0m \u001b[43mfilter1\u001b[49m\u001b[43m[\u001b[49m\u001b[43mfilter1\u001b[49m\u001b[43m[\u001b[49m\u001b[38;5;124;43m'\u001b[39;49m\u001b[38;5;124;43mBI_RPT_REGION_DESC\u001b[39;49m\u001b[38;5;124;43m'\u001b[39;49m\u001b[43m]\u001b[49m\u001b[43m \u001b[49m\u001b[38;5;241;43m==\u001b[39;49m\u001b[43m \u001b[49m\u001b[38;5;124;43m'\u001b[39;49m\u001b[38;5;124;43mSOUTHEAST\u001b[39;49m\u001b[38;5;124;43m'\u001b[39;49m\u001b[43m,\u001b[49m\u001b[43m \u001b[49m\u001b[38;5;124;43m'\u001b[39;49m\u001b[38;5;124;43mMID WEST\u001b[39;49m\u001b[38;5;124;43m'\u001b[39;49m\u001b[43m]\u001b[49m\n",
      "File \u001b[1;32m~\\anaconda3\\lib\\site-packages\\pandas\\core\\frame.py:3505\u001b[0m, in \u001b[0;36mDataFrame.__getitem__\u001b[1;34m(self, key)\u001b[0m\n\u001b[0;32m   3503\u001b[0m \u001b[38;5;28;01mif\u001b[39;00m \u001b[38;5;28mself\u001b[39m\u001b[38;5;241m.\u001b[39mcolumns\u001b[38;5;241m.\u001b[39mnlevels \u001b[38;5;241m>\u001b[39m \u001b[38;5;241m1\u001b[39m:\n\u001b[0;32m   3504\u001b[0m     \u001b[38;5;28;01mreturn\u001b[39;00m \u001b[38;5;28mself\u001b[39m\u001b[38;5;241m.\u001b[39m_getitem_multilevel(key)\n\u001b[1;32m-> 3505\u001b[0m indexer \u001b[38;5;241m=\u001b[39m \u001b[38;5;28;43mself\u001b[39;49m\u001b[38;5;241;43m.\u001b[39;49m\u001b[43mcolumns\u001b[49m\u001b[38;5;241;43m.\u001b[39;49m\u001b[43mget_loc\u001b[49m\u001b[43m(\u001b[49m\u001b[43mkey\u001b[49m\u001b[43m)\u001b[49m\n\u001b[0;32m   3506\u001b[0m \u001b[38;5;28;01mif\u001b[39;00m is_integer(indexer):\n\u001b[0;32m   3507\u001b[0m     indexer \u001b[38;5;241m=\u001b[39m [indexer]\n",
      "File \u001b[1;32m~\\anaconda3\\lib\\site-packages\\pandas\\core\\indexes\\base.py:3628\u001b[0m, in \u001b[0;36mIndex.get_loc\u001b[1;34m(self, key, method, tolerance)\u001b[0m\n\u001b[0;32m   3623\u001b[0m         \u001b[38;5;28;01mraise\u001b[39;00m \u001b[38;5;167;01mKeyError\u001b[39;00m(key) \u001b[38;5;28;01mfrom\u001b[39;00m \u001b[38;5;21;01merr\u001b[39;00m\n\u001b[0;32m   3624\u001b[0m     \u001b[38;5;28;01mexcept\u001b[39;00m \u001b[38;5;167;01mTypeError\u001b[39;00m:\n\u001b[0;32m   3625\u001b[0m         \u001b[38;5;66;03m# If we have a listlike key, _check_indexing_error will raise\u001b[39;00m\n\u001b[0;32m   3626\u001b[0m         \u001b[38;5;66;03m#  InvalidIndexError. Otherwise we fall through and re-raise\u001b[39;00m\n\u001b[0;32m   3627\u001b[0m         \u001b[38;5;66;03m#  the TypeError.\u001b[39;00m\n\u001b[1;32m-> 3628\u001b[0m         \u001b[38;5;28;43mself\u001b[39;49m\u001b[38;5;241;43m.\u001b[39;49m\u001b[43m_check_indexing_error\u001b[49m\u001b[43m(\u001b[49m\u001b[43mkey\u001b[49m\u001b[43m)\u001b[49m\n\u001b[0;32m   3629\u001b[0m         \u001b[38;5;28;01mraise\u001b[39;00m\n\u001b[0;32m   3631\u001b[0m \u001b[38;5;66;03m# GH#42269\u001b[39;00m\n",
      "File \u001b[1;32m~\\anaconda3\\lib\\site-packages\\pandas\\core\\indexes\\base.py:5637\u001b[0m, in \u001b[0;36mIndex._check_indexing_error\u001b[1;34m(self, key)\u001b[0m\n\u001b[0;32m   5633\u001b[0m \u001b[38;5;28;01mdef\u001b[39;00m \u001b[38;5;21m_check_indexing_error\u001b[39m(\u001b[38;5;28mself\u001b[39m, key):\n\u001b[0;32m   5634\u001b[0m     \u001b[38;5;28;01mif\u001b[39;00m \u001b[38;5;129;01mnot\u001b[39;00m is_scalar(key):\n\u001b[0;32m   5635\u001b[0m         \u001b[38;5;66;03m# if key is not a scalar, directly raise an error (the code below\u001b[39;00m\n\u001b[0;32m   5636\u001b[0m         \u001b[38;5;66;03m# would convert to numpy arrays and raise later any way) - GH29926\u001b[39;00m\n\u001b[1;32m-> 5637\u001b[0m         \u001b[38;5;28;01mraise\u001b[39;00m InvalidIndexError(key)\n",
      "\u001b[1;31mInvalidIndexError\u001b[0m: (0         True\n1        False\n2        False\n3        False\n4        False\n         ...  \n19995    False\n19996    False\n19997    False\n19998    False\n19999    False\nName: BI_RPT_REGION_DESC, Length: 16906, dtype: bool, 'MID WEST')"
     ]
    }
   ],
   "source": [
    "#Filtering region\n",
    "\n",
    "filter1[filter1['BI_RPT_REGION_DESC'] == 'SOUTHEAST', 'MID WEST']"
   ]
  },
  {
   "cell_type": "code",
   "execution_count": null,
   "id": "e5838571",
   "metadata": {},
   "outputs": [],
   "source": []
  },
  {
   "cell_type": "code",
   "execution_count": null,
   "id": "4f083635",
   "metadata": {},
   "outputs": [],
   "source": []
  },
  {
   "cell_type": "code",
   "execution_count": null,
   "id": "28e2d375",
   "metadata": {},
   "outputs": [],
   "source": []
  },
  {
   "cell_type": "code",
   "execution_count": null,
   "id": "c0f0e954",
   "metadata": {},
   "outputs": [],
   "source": []
  },
  {
   "cell_type": "markdown",
   "id": "3df77bbf",
   "metadata": {},
   "source": [
    "## Loading Sales Data"
   ]
  },
  {
   "cell_type": "code",
   "execution_count": 38,
   "id": "e06afdef",
   "metadata": {},
   "outputs": [],
   "source": [
    "\n",
    "data_Sales_Inline = pd.read_excel('C:\\\\Users\\\\Ramshankar\\\\OneDrive - iLink Systems Inc\\\\Documents\\\\Costco\\\\Dataset\\\\Inventory Visibility - Dataset Updated.xlsx', sheet_name= 'Sales Inline')"
   ]
  },
  {
   "cell_type": "code",
   "execution_count": 41,
   "id": "59d2e619",
   "metadata": {},
   "outputs": [
    {
     "data": {
      "text/plain": [
       "21"
      ]
     },
     "execution_count": 41,
     "metadata": {},
     "output_type": "execute_result"
    }
   ],
   "source": [
    "len(data_Sales_Inline.columns)"
   ]
  },
  {
   "cell_type": "code",
   "execution_count": 42,
   "id": "4ba2b1a5",
   "metadata": {},
   "outputs": [],
   "source": [
    "\n",
    "data_Sales_Online = pd.read_excel('C:\\\\Users\\\\Ramshankar\\\\OneDrive - iLink Systems Inc\\\\Documents\\\\Costco\\\\Dataset\\\\Inventory Visibility - Dataset Updated.xlsx', sheet_name= 'Sales Online')"
   ]
  },
  {
   "cell_type": "code",
   "execution_count": 43,
   "id": "1695a547",
   "metadata": {},
   "outputs": [
    {
     "data": {
      "text/html": [
       "<div>\n",
       "<style scoped>\n",
       "    .dataframe tbody tr th:only-of-type {\n",
       "        vertical-align: middle;\n",
       "    }\n",
       "\n",
       "    .dataframe tbody tr th {\n",
       "        vertical-align: top;\n",
       "    }\n",
       "\n",
       "    .dataframe thead th {\n",
       "        text-align: right;\n",
       "    }\n",
       "</style>\n",
       "<table border=\"1\" class=\"dataframe\">\n",
       "  <thead>\n",
       "    <tr style=\"text-align: right;\">\n",
       "      <th></th>\n",
       "      <th>CALENDAR_YR_NUM</th>\n",
       "      <th>CALENDAR_MO_NUM</th>\n",
       "      <th>COMPANY_CODE</th>\n",
       "      <th>BI_RPT_STATE_CODE</th>\n",
       "      <th>BI_RPT_REGION_DESC</th>\n",
       "      <th>BI_RPT_DISTRICT_DESC</th>\n",
       "      <th>LOCATION_LONG_NAME</th>\n",
       "      <th>MAJOR_DEPT_GRP_LONG_DESC</th>\n",
       "      <th>BI_DEPARTMENT_NUM_LDESC</th>\n",
       "      <th>BI_MAJOR_CATEGORY_CODE_DESC</th>\n",
       "      <th>...</th>\n",
       "      <th>BI_ITEM_CATEGORY_CODE_DESC</th>\n",
       "      <th>ITEM_DESC_1</th>\n",
       "      <th>WK1_SALES</th>\n",
       "      <th>WK2_SALES</th>\n",
       "      <th>WK3_SALES</th>\n",
       "      <th>WK4_SALES</th>\n",
       "      <th>WK1_SALES_AMT</th>\n",
       "      <th>WK2_SALES_AMT</th>\n",
       "      <th>WK3_SALES_AMT</th>\n",
       "      <th>WK4_SALES_AMT</th>\n",
       "    </tr>\n",
       "  </thead>\n",
       "  <tbody>\n",
       "    <tr>\n",
       "      <th>0</th>\n",
       "      <td>2022</td>\n",
       "      <td>11</td>\n",
       "      <td>US</td>\n",
       "      <td>OH</td>\n",
       "      <td>BUSINESS DELIV-OTHER</td>\n",
       "      <td>DEPOT</td>\n",
       "      <td>DDC ECOM COLUMBUS OH</td>\n",
       "      <td>SOFTLINES</td>\n",
       "      <td>38 HOME FURNISHINGS</td>\n",
       "      <td>I MATTRESSES</td>\n",
       "      <td>...</td>\n",
       "      <td>IAG FULL MATTRESS ONLY</td>\n",
       "      <td>SEALY CARVER FULL FIRM</td>\n",
       "      <td>0</td>\n",
       "      <td>25</td>\n",
       "      <td>72</td>\n",
       "      <td>43</td>\n",
       "      <td>0.00</td>\n",
       "      <td>14999.75</td>\n",
       "      <td>43199.28</td>\n",
       "      <td>23999.60</td>\n",
       "    </tr>\n",
       "    <tr>\n",
       "      <th>1</th>\n",
       "      <td>2022</td>\n",
       "      <td>10</td>\n",
       "      <td>US</td>\n",
       "      <td>WA</td>\n",
       "      <td>NORTHWEST</td>\n",
       "      <td>DEPOT</td>\n",
       "      <td>AUBURN OPTICAL LAB</td>\n",
       "      <td>OTHER BUS.</td>\n",
       "      <td>94 OPTICAL</td>\n",
       "      <td>F FRAMES</td>\n",
       "      <td>...</td>\n",
       "      <td>FMP FRAME MENS PLASTIC</td>\n",
       "      <td>KS (DS) LUCAS</td>\n",
       "      <td>0</td>\n",
       "      <td>1</td>\n",
       "      <td>0</td>\n",
       "      <td>0</td>\n",
       "      <td>0.00</td>\n",
       "      <td>59.99</td>\n",
       "      <td>0.00</td>\n",
       "      <td>0.00</td>\n",
       "    </tr>\n",
       "    <tr>\n",
       "      <th>2</th>\n",
       "      <td>2022</td>\n",
       "      <td>10</td>\n",
       "      <td>US</td>\n",
       "      <td>FL</td>\n",
       "      <td>BUSINESS DELIV-OTHER</td>\n",
       "      <td>DEPOT</td>\n",
       "      <td>DDC ECOM OCALA FL</td>\n",
       "      <td>HARDLINES</td>\n",
       "      <td>27 GARDEN</td>\n",
       "      <td>Q PATIO MISC</td>\n",
       "      <td>...</td>\n",
       "      <td>QAE CANTILEVER UMBRELLA</td>\n",
       "      <td>ATL 10'X13' SQR NONLED</td>\n",
       "      <td>4</td>\n",
       "      <td>0</td>\n",
       "      <td>0</td>\n",
       "      <td>0</td>\n",
       "      <td>3399.96</td>\n",
       "      <td>0.00</td>\n",
       "      <td>0.00</td>\n",
       "      <td>0.00</td>\n",
       "    </tr>\n",
       "    <tr>\n",
       "      <th>3</th>\n",
       "      <td>2022</td>\n",
       "      <td>10</td>\n",
       "      <td>US</td>\n",
       "      <td>CA</td>\n",
       "      <td>BUSINESS DELIV-OTHER</td>\n",
       "      <td>DEPOT</td>\n",
       "      <td>MDO ECOM W SACRAMENTO CA</td>\n",
       "      <td>HARDLINES</td>\n",
       "      <td>24 MAJOR APPLIANCES</td>\n",
       "      <td>A TVS</td>\n",
       "      <td>...</td>\n",
       "      <td>AGC 65 IN ENTRY TVS</td>\n",
       "      <td>HISENSE 65A65H 65\"</td>\n",
       "      <td>1</td>\n",
       "      <td>0</td>\n",
       "      <td>0</td>\n",
       "      <td>0</td>\n",
       "      <td>399.99</td>\n",
       "      <td>0.00</td>\n",
       "      <td>0.00</td>\n",
       "      <td>0.00</td>\n",
       "    </tr>\n",
       "    <tr>\n",
       "      <th>4</th>\n",
       "      <td>2022</td>\n",
       "      <td>11</td>\n",
       "      <td>US</td>\n",
       "      <td>GA</td>\n",
       "      <td>BUSINESS DELIV-OTHER</td>\n",
       "      <td>DEPOT</td>\n",
       "      <td>DDC ECOM ATLANTA GA</td>\n",
       "      <td>HARDLINES</td>\n",
       "      <td>24 MAJOR APPLIANCES</td>\n",
       "      <td>A TVS</td>\n",
       "      <td>...</td>\n",
       "      <td>AEC 55 IN ENTRY TVS</td>\n",
       "      <td>LG 55UQ8000AUB 55\"</td>\n",
       "      <td>0</td>\n",
       "      <td>23</td>\n",
       "      <td>18</td>\n",
       "      <td>47</td>\n",
       "      <td>0.00</td>\n",
       "      <td>8279.79</td>\n",
       "      <td>6869.82</td>\n",
       "      <td>17389.53</td>\n",
       "    </tr>\n",
       "    <tr>\n",
       "      <th>...</th>\n",
       "      <td>...</td>\n",
       "      <td>...</td>\n",
       "      <td>...</td>\n",
       "      <td>...</td>\n",
       "      <td>...</td>\n",
       "      <td>...</td>\n",
       "      <td>...</td>\n",
       "      <td>...</td>\n",
       "      <td>...</td>\n",
       "      <td>...</td>\n",
       "      <td>...</td>\n",
       "      <td>...</td>\n",
       "      <td>...</td>\n",
       "      <td>...</td>\n",
       "      <td>...</td>\n",
       "      <td>...</td>\n",
       "      <td>...</td>\n",
       "      <td>...</td>\n",
       "      <td>...</td>\n",
       "      <td>...</td>\n",
       "      <td>...</td>\n",
       "    </tr>\n",
       "    <tr>\n",
       "      <th>9995</th>\n",
       "      <td>2022</td>\n",
       "      <td>11</td>\n",
       "      <td>US</td>\n",
       "      <td>TX</td>\n",
       "      <td>BUSINESS DELIV-OTHER</td>\n",
       "      <td>DEPOT</td>\n",
       "      <td>KATY ECOMMERCE</td>\n",
       "      <td>HARDLINES</td>\n",
       "      <td>24 MAJOR APPLIANCES</td>\n",
       "      <td>M COMPUTERS</td>\n",
       "      <td>...</td>\n",
       "      <td>MBB MACBOOKS</td>\n",
       "      <td>MBA 13\" M1 256GB SG</td>\n",
       "      <td>0</td>\n",
       "      <td>0</td>\n",
       "      <td>1</td>\n",
       "      <td>0</td>\n",
       "      <td>0.00</td>\n",
       "      <td>0.00</td>\n",
       "      <td>949.99</td>\n",
       "      <td>0.00</td>\n",
       "    </tr>\n",
       "    <tr>\n",
       "      <th>9996</th>\n",
       "      <td>2022</td>\n",
       "      <td>11</td>\n",
       "      <td>US</td>\n",
       "      <td>TX</td>\n",
       "      <td>BUSINESS DELIV-OTHER</td>\n",
       "      <td>DEPOT</td>\n",
       "      <td>DDC ECOM GARLAND TX</td>\n",
       "      <td>HARDLINES</td>\n",
       "      <td>24 MAJOR APPLIANCES</td>\n",
       "      <td>A TVS</td>\n",
       "      <td>...</td>\n",
       "      <td>AGC 65 IN ENTRY TVS</td>\n",
       "      <td>SAMSUNG 65TU700D 65\"</td>\n",
       "      <td>0</td>\n",
       "      <td>57</td>\n",
       "      <td>106</td>\n",
       "      <td>252</td>\n",
       "      <td>0.00</td>\n",
       "      <td>27439.43</td>\n",
       "      <td>50418.95</td>\n",
       "      <td>115647.48</td>\n",
       "    </tr>\n",
       "    <tr>\n",
       "      <th>9997</th>\n",
       "      <td>2022</td>\n",
       "      <td>10</td>\n",
       "      <td>CN</td>\n",
       "      <td>ON</td>\n",
       "      <td>OTHER BUSINESS CN</td>\n",
       "      <td>DEPOT</td>\n",
       "      <td>VAUGHAN ECOMMERCE</td>\n",
       "      <td>HARDLINES</td>\n",
       "      <td>24 MAJOR APPLIANCES</td>\n",
       "      <td>H WHITEGOODS</td>\n",
       "      <td>...</td>\n",
       "      <td>HKA UPRIGHT FREEZER</td>\n",
       "      <td>FRIGIDAIRE FFUM0623AW</td>\n",
       "      <td>60</td>\n",
       "      <td>17</td>\n",
       "      <td>0</td>\n",
       "      <td>0</td>\n",
       "      <td>28909.41</td>\n",
       "      <td>8329.83</td>\n",
       "      <td>0.00</td>\n",
       "      <td>0.00</td>\n",
       "    </tr>\n",
       "    <tr>\n",
       "      <th>9998</th>\n",
       "      <td>2022</td>\n",
       "      <td>10</td>\n",
       "      <td>US</td>\n",
       "      <td>CA</td>\n",
       "      <td>BUSINESS DELIV-OTHER</td>\n",
       "      <td>DEPOT</td>\n",
       "      <td>DDC ECOM STOCKTON CA</td>\n",
       "      <td>SOFTLINES</td>\n",
       "      <td>38 HOME FURNISHINGS</td>\n",
       "      <td>J UPHOLSTERY</td>\n",
       "      <td>...</td>\n",
       "      <td>JAK FABRIC SECTIONALS</td>\n",
       "      <td>TISDALE 6PC FAB SEC</td>\n",
       "      <td>27</td>\n",
       "      <td>13</td>\n",
       "      <td>0</td>\n",
       "      <td>0</td>\n",
       "      <td>51999.74</td>\n",
       "      <td>25999.87</td>\n",
       "      <td>0.00</td>\n",
       "      <td>0.00</td>\n",
       "    </tr>\n",
       "    <tr>\n",
       "      <th>9999</th>\n",
       "      <td>2022</td>\n",
       "      <td>11</td>\n",
       "      <td>US</td>\n",
       "      <td>CA</td>\n",
       "      <td>BUSINESS DELIV-OTHER</td>\n",
       "      <td>DEPOT</td>\n",
       "      <td>TRACY ECOMMERCE</td>\n",
       "      <td>HARDLINES</td>\n",
       "      <td>24 MAJOR APPLIANCES</td>\n",
       "      <td>B AUDIO</td>\n",
       "      <td>...</td>\n",
       "      <td>BAB IN-EAR HEADPHONES</td>\n",
       "      <td>KLIPSCH KC5 II TRUE</td>\n",
       "      <td>0</td>\n",
       "      <td>0</td>\n",
       "      <td>4</td>\n",
       "      <td>0</td>\n",
       "      <td>0.00</td>\n",
       "      <td>0.00</td>\n",
       "      <td>239.88</td>\n",
       "      <td>0.00</td>\n",
       "    </tr>\n",
       "  </tbody>\n",
       "</table>\n",
       "<p>10000 rows × 21 columns</p>\n",
       "</div>"
      ],
      "text/plain": [
       "      CALENDAR_YR_NUM  CALENDAR_MO_NUM COMPANY_CODE BI_RPT_STATE_CODE  \\\n",
       "0                2022               11           US                OH   \n",
       "1                2022               10           US                WA   \n",
       "2                2022               10           US                FL   \n",
       "3                2022               10           US                CA   \n",
       "4                2022               11           US                GA   \n",
       "...               ...              ...          ...               ...   \n",
       "9995             2022               11           US                TX   \n",
       "9996             2022               11           US                TX   \n",
       "9997             2022               10           CN                ON   \n",
       "9998             2022               10           US                CA   \n",
       "9999             2022               11           US                CA   \n",
       "\n",
       "        BI_RPT_REGION_DESC BI_RPT_DISTRICT_DESC        LOCATION_LONG_NAME  \\\n",
       "0     BUSINESS DELIV-OTHER                DEPOT      DDC ECOM COLUMBUS OH   \n",
       "1                NORTHWEST                DEPOT        AUBURN OPTICAL LAB   \n",
       "2     BUSINESS DELIV-OTHER                DEPOT         DDC ECOM OCALA FL   \n",
       "3     BUSINESS DELIV-OTHER                DEPOT  MDO ECOM W SACRAMENTO CA   \n",
       "4     BUSINESS DELIV-OTHER                DEPOT       DDC ECOM ATLANTA GA   \n",
       "...                    ...                  ...                       ...   \n",
       "9995  BUSINESS DELIV-OTHER                DEPOT            KATY ECOMMERCE   \n",
       "9996  BUSINESS DELIV-OTHER                DEPOT       DDC ECOM GARLAND TX   \n",
       "9997     OTHER BUSINESS CN                DEPOT         VAUGHAN ECOMMERCE   \n",
       "9998  BUSINESS DELIV-OTHER                DEPOT      DDC ECOM STOCKTON CA   \n",
       "9999  BUSINESS DELIV-OTHER                DEPOT           TRACY ECOMMERCE   \n",
       "\n",
       "     MAJOR_DEPT_GRP_LONG_DESC BI_DEPARTMENT_NUM_LDESC  \\\n",
       "0                   SOFTLINES     38 HOME FURNISHINGS   \n",
       "1                  OTHER BUS.              94 OPTICAL   \n",
       "2                   HARDLINES               27 GARDEN   \n",
       "3                   HARDLINES     24 MAJOR APPLIANCES   \n",
       "4                   HARDLINES     24 MAJOR APPLIANCES   \n",
       "...                       ...                     ...   \n",
       "9995                HARDLINES     24 MAJOR APPLIANCES   \n",
       "9996                HARDLINES     24 MAJOR APPLIANCES   \n",
       "9997                HARDLINES     24 MAJOR APPLIANCES   \n",
       "9998                SOFTLINES     38 HOME FURNISHINGS   \n",
       "9999                HARDLINES     24 MAJOR APPLIANCES   \n",
       "\n",
       "     BI_MAJOR_CATEGORY_CODE_DESC  ... BI_ITEM_CATEGORY_CODE_DESC  \\\n",
       "0                   I MATTRESSES  ...     IAG FULL MATTRESS ONLY   \n",
       "1                       F FRAMES  ...     FMP FRAME MENS PLASTIC   \n",
       "2                   Q PATIO MISC  ...    QAE CANTILEVER UMBRELLA   \n",
       "3                          A TVS  ...        AGC 65 IN ENTRY TVS   \n",
       "4                          A TVS  ...        AEC 55 IN ENTRY TVS   \n",
       "...                          ...  ...                        ...   \n",
       "9995                 M COMPUTERS  ...               MBB MACBOOKS   \n",
       "9996                       A TVS  ...        AGC 65 IN ENTRY TVS   \n",
       "9997                H WHITEGOODS  ...        HKA UPRIGHT FREEZER   \n",
       "9998                J UPHOLSTERY  ...      JAK FABRIC SECTIONALS   \n",
       "9999                     B AUDIO  ...      BAB IN-EAR HEADPHONES   \n",
       "\n",
       "                 ITEM_DESC_1 WK1_SALES   WK2_SALES   WK3_SALES   WK4_SALES   \\\n",
       "0     SEALY CARVER FULL FIRM          0          25          72          43   \n",
       "1              KS (DS) LUCAS          0           1           0           0   \n",
       "2     ATL 10'X13' SQR NONLED          4           0           0           0   \n",
       "3         HISENSE 65A65H 65\"          1           0           0           0   \n",
       "4         LG 55UQ8000AUB 55\"          0          23          18          47   \n",
       "...                      ...        ...         ...         ...         ...   \n",
       "9995     MBA 13\" M1 256GB SG          0           0           1           0   \n",
       "9996    SAMSUNG 65TU700D 65\"          0          57         106         252   \n",
       "9997   FRIGIDAIRE FFUM0623AW         60          17           0           0   \n",
       "9998     TISDALE 6PC FAB SEC         27          13           0           0   \n",
       "9999     KLIPSCH KC5 II TRUE          0           0           4           0   \n",
       "\n",
       "      WK1_SALES_AMT   WK2_SALES_AMT   WK3_SALES_AMT   WK4_SALES_AMT   \n",
       "0               0.00        14999.75        43199.28        23999.60  \n",
       "1               0.00           59.99            0.00            0.00  \n",
       "2            3399.96            0.00            0.00            0.00  \n",
       "3             399.99            0.00            0.00            0.00  \n",
       "4               0.00         8279.79         6869.82        17389.53  \n",
       "...              ...             ...             ...             ...  \n",
       "9995            0.00            0.00          949.99            0.00  \n",
       "9996            0.00        27439.43        50418.95       115647.48  \n",
       "9997        28909.41         8329.83            0.00            0.00  \n",
       "9998        51999.74        25999.87            0.00            0.00  \n",
       "9999            0.00            0.00          239.88            0.00  \n",
       "\n",
       "[10000 rows x 21 columns]"
      ]
     },
     "execution_count": 43,
     "metadata": {},
     "output_type": "execute_result"
    }
   ],
   "source": [
    "data_Sales_Online"
   ]
  },
  {
   "cell_type": "code",
   "execution_count": null,
   "id": "310c14fc",
   "metadata": {},
   "outputs": [],
   "source": []
  },
  {
   "cell_type": "code",
   "execution_count": null,
   "id": "120c6b73",
   "metadata": {},
   "outputs": [],
   "source": []
  },
  {
   "cell_type": "code",
   "execution_count": null,
   "id": "239bea6d",
   "metadata": {},
   "outputs": [],
   "source": []
  }
 ],
 "metadata": {
  "kernelspec": {
   "display_name": "Python 3 (ipykernel)",
   "language": "python",
   "name": "python3"
  },
  "language_info": {
   "codemirror_mode": {
    "name": "ipython",
    "version": 3
   },
   "file_extension": ".py",
   "mimetype": "text/x-python",
   "name": "python",
   "nbconvert_exporter": "python",
   "pygments_lexer": "ipython3",
   "version": "3.9.12"
  }
 },
 "nbformat": 4,
 "nbformat_minor": 5
}
