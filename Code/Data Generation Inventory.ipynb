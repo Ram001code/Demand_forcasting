{
 "cells": [
  {
   "cell_type": "code",
   "execution_count": 1,
   "id": "b79653ce",
   "metadata": {},
   "outputs": [],
   "source": [
    "import pandas as pd\n",
    "import numpy as np"
   ]
  },
  {
   "cell_type": "code",
   "execution_count": 2,
   "id": "d828dce9",
   "metadata": {},
   "outputs": [],
   "source": [
    "df_inventry= pd.read_excel('C:\\\\Users\\\\Ramshankar\\\\OneDrive - iLink Systems Inc\\\\Documents\\\\Costco\\\\Dataset\\\\Inventory data\\\\combined_inventory_data20.xlsx')"
   ]
  },
  {
   "cell_type": "code",
   "execution_count": 3,
   "id": "03899f58",
   "metadata": {},
   "outputs": [],
   "source": [
    "df_inventry['Item'] = df_inventry['Item'].replace('Chicken XXXXX-O', 'CHICKEN XXXXX - O')"
   ]
  },
  {
   "cell_type": "code",
   "execution_count": 4,
   "id": "6f0677b9",
   "metadata": {},
   "outputs": [
    {
     "data": {
      "text/plain": [
       "array(['RICHMOND CA', 'HAYWARD', 'LAKEWOOD', 'FREMONT',\n",
       "       'S SAN FRANCISCO BUS CTR'], dtype=object)"
      ]
     },
     "execution_count": 4,
     "metadata": {},
     "output_type": "execute_result"
    }
   ],
   "source": [
    "df_inventry['Location'].unique()"
   ]
  },
  {
   "cell_type": "code",
   "execution_count": 5,
   "id": "7d05431b",
   "metadata": {},
   "outputs": [
    {
     "data": {
      "text/plain": [
       "array(['CHICKEN XXXXX - O', 'DRUMSTICKS NNNN', 'FILLET QQQQ',\n",
       "       'BEEF OOOO - GT'], dtype=object)"
      ]
     },
     "execution_count": 5,
     "metadata": {},
     "output_type": "execute_result"
    }
   ],
   "source": [
    "df_inventry['Item'].unique()"
   ]
  },
  {
   "cell_type": "code",
   "execution_count": 7,
   "id": "098a5c86",
   "metadata": {},
   "outputs": [
    {
     "data": {
      "text/plain": [
       "Index(['Date', 'Location', 'Item', 'OH Quantity', 'OH Amount',\n",
       "       'On Order Quantity', 'On Order Amount', 'In Transit Quantity',\n",
       "       'In Transit Amount', 'NSI Quantity', 'NSI Amount'],\n",
       "      dtype='object')"
      ]
     },
     "execution_count": 7,
     "metadata": {},
     "output_type": "execute_result"
    }
   ],
   "source": [
    "df_inventry.columns"
   ]
  },
  {
   "cell_type": "code",
   "execution_count": 8,
   "id": "431e9f98",
   "metadata": {},
   "outputs": [],
   "source": [
    "data = df_inventry[(df_inventry['Location']=='FREMONT') & (df_inventry['Item']=='CHICKEN XXXXX - O')]"
   ]
  },
  {
   "cell_type": "code",
   "execution_count": 9,
   "id": "ea5e3f5f",
   "metadata": {},
   "outputs": [
    {
     "data": {
      "text/html": [
       "<div>\n",
       "<style scoped>\n",
       "    .dataframe tbody tr th:only-of-type {\n",
       "        vertical-align: middle;\n",
       "    }\n",
       "\n",
       "    .dataframe tbody tr th {\n",
       "        vertical-align: top;\n",
       "    }\n",
       "\n",
       "    .dataframe thead th {\n",
       "        text-align: right;\n",
       "    }\n",
       "</style>\n",
       "<table border=\"1\" class=\"dataframe\">\n",
       "  <thead>\n",
       "    <tr style=\"text-align: right;\">\n",
       "      <th></th>\n",
       "      <th>Date</th>\n",
       "      <th>Location</th>\n",
       "      <th>Item</th>\n",
       "      <th>OH Quantity</th>\n",
       "      <th>OH Amount</th>\n",
       "      <th>On Order Quantity</th>\n",
       "      <th>On Order Amount</th>\n",
       "      <th>In Transit Quantity</th>\n",
       "      <th>In Transit Amount</th>\n",
       "      <th>NSI Quantity</th>\n",
       "      <th>NSI Amount</th>\n",
       "    </tr>\n",
       "  </thead>\n",
       "  <tbody>\n",
       "    <tr>\n",
       "      <th>14</th>\n",
       "      <td>2020-01-01</td>\n",
       "      <td>FREMONT</td>\n",
       "      <td>CHICKEN XXXXX - O</td>\n",
       "      <td>13</td>\n",
       "      <td>64.87</td>\n",
       "      <td>0</td>\n",
       "      <td>0.00</td>\n",
       "      <td>46</td>\n",
       "      <td>229.54</td>\n",
       "      <td>0</td>\n",
       "      <td>0</td>\n",
       "    </tr>\n",
       "    <tr>\n",
       "      <th>19</th>\n",
       "      <td>2020-01-02</td>\n",
       "      <td>FREMONT</td>\n",
       "      <td>CHICKEN XXXXX - O</td>\n",
       "      <td>29</td>\n",
       "      <td>144.71</td>\n",
       "      <td>0</td>\n",
       "      <td>0.00</td>\n",
       "      <td>0</td>\n",
       "      <td>0.00</td>\n",
       "      <td>0</td>\n",
       "      <td>0</td>\n",
       "    </tr>\n",
       "    <tr>\n",
       "      <th>20</th>\n",
       "      <td>2020-01-03</td>\n",
       "      <td>FREMONT</td>\n",
       "      <td>CHICKEN XXXXX - O</td>\n",
       "      <td>7</td>\n",
       "      <td>34.93</td>\n",
       "      <td>135</td>\n",
       "      <td>673.65</td>\n",
       "      <td>0</td>\n",
       "      <td>0.00</td>\n",
       "      <td>0</td>\n",
       "      <td>0</td>\n",
       "    </tr>\n",
       "    <tr>\n",
       "      <th>35</th>\n",
       "      <td>2020-01-04</td>\n",
       "      <td>FREMONT</td>\n",
       "      <td>CHICKEN XXXXX - O</td>\n",
       "      <td>7</td>\n",
       "      <td>34.93</td>\n",
       "      <td>0</td>\n",
       "      <td>0.00</td>\n",
       "      <td>137</td>\n",
       "      <td>683.63</td>\n",
       "      <td>0</td>\n",
       "      <td>0</td>\n",
       "    </tr>\n",
       "    <tr>\n",
       "      <th>40</th>\n",
       "      <td>2020-01-05</td>\n",
       "      <td>FREMONT</td>\n",
       "      <td>CHICKEN XXXXX - O</td>\n",
       "      <td>85</td>\n",
       "      <td>424.15</td>\n",
       "      <td>0</td>\n",
       "      <td>0.00</td>\n",
       "      <td>0</td>\n",
       "      <td>0.00</td>\n",
       "      <td>0</td>\n",
       "      <td>0</td>\n",
       "    </tr>\n",
       "    <tr>\n",
       "      <th>...</th>\n",
       "      <td>...</td>\n",
       "      <td>...</td>\n",
       "      <td>...</td>\n",
       "      <td>...</td>\n",
       "      <td>...</td>\n",
       "      <td>...</td>\n",
       "      <td>...</td>\n",
       "      <td>...</td>\n",
       "      <td>...</td>\n",
       "      <td>...</td>\n",
       "      <td>...</td>\n",
       "    </tr>\n",
       "    <tr>\n",
       "      <th>687</th>\n",
       "      <td>2020-07-30</td>\n",
       "      <td>FREMONT</td>\n",
       "      <td>CHICKEN XXXXX - O</td>\n",
       "      <td>224</td>\n",
       "      <td>1117.76</td>\n",
       "      <td>0</td>\n",
       "      <td>0.00</td>\n",
       "      <td>0</td>\n",
       "      <td>0.00</td>\n",
       "      <td>0</td>\n",
       "      <td>0</td>\n",
       "    </tr>\n",
       "    <tr>\n",
       "      <th>688</th>\n",
       "      <td>2020-08-01</td>\n",
       "      <td>FREMONT</td>\n",
       "      <td>CHICKEN XXXXX - O</td>\n",
       "      <td>16</td>\n",
       "      <td>79.84</td>\n",
       "      <td>0</td>\n",
       "      <td>0.00</td>\n",
       "      <td>219</td>\n",
       "      <td>1092.81</td>\n",
       "      <td>0</td>\n",
       "      <td>0</td>\n",
       "    </tr>\n",
       "    <tr>\n",
       "      <th>689</th>\n",
       "      <td>2020-08-02</td>\n",
       "      <td>FREMONT</td>\n",
       "      <td>CHICKEN XXXXX - O</td>\n",
       "      <td>209</td>\n",
       "      <td>1042.91</td>\n",
       "      <td>0</td>\n",
       "      <td>0.00</td>\n",
       "      <td>0</td>\n",
       "      <td>0.00</td>\n",
       "      <td>0</td>\n",
       "      <td>0</td>\n",
       "    </tr>\n",
       "    <tr>\n",
       "      <th>690</th>\n",
       "      <td>2020-08-07</td>\n",
       "      <td>FREMONT</td>\n",
       "      <td>CHICKEN XXXXX - O</td>\n",
       "      <td>21</td>\n",
       "      <td>104.79</td>\n",
       "      <td>180</td>\n",
       "      <td>898.20</td>\n",
       "      <td>0</td>\n",
       "      <td>0.00</td>\n",
       "      <td>0</td>\n",
       "      <td>0</td>\n",
       "    </tr>\n",
       "    <tr>\n",
       "      <th>691</th>\n",
       "      <td>2020-08-09</td>\n",
       "      <td>FREMONT</td>\n",
       "      <td>CHICKEN XXXXX - O</td>\n",
       "      <td>131</td>\n",
       "      <td>653.69</td>\n",
       "      <td>0</td>\n",
       "      <td>0.00</td>\n",
       "      <td>0</td>\n",
       "      <td>0.00</td>\n",
       "      <td>0</td>\n",
       "      <td>0</td>\n",
       "    </tr>\n",
       "  </tbody>\n",
       "</table>\n",
       "<p>157 rows × 11 columns</p>\n",
       "</div>"
      ],
      "text/plain": [
       "          Date Location               Item  OH Quantity  OH Amount  \\\n",
       "14  2020-01-01  FREMONT  CHICKEN XXXXX - O           13      64.87   \n",
       "19  2020-01-02  FREMONT  CHICKEN XXXXX - O           29     144.71   \n",
       "20  2020-01-03  FREMONT  CHICKEN XXXXX - O            7      34.93   \n",
       "35  2020-01-04  FREMONT  CHICKEN XXXXX - O            7      34.93   \n",
       "40  2020-01-05  FREMONT  CHICKEN XXXXX - O           85     424.15   \n",
       "..         ...      ...                ...          ...        ...   \n",
       "687 2020-07-30  FREMONT  CHICKEN XXXXX - O          224    1117.76   \n",
       "688 2020-08-01  FREMONT  CHICKEN XXXXX - O           16      79.84   \n",
       "689 2020-08-02  FREMONT  CHICKEN XXXXX - O          209    1042.91   \n",
       "690 2020-08-07  FREMONT  CHICKEN XXXXX - O           21     104.79   \n",
       "691 2020-08-09  FREMONT  CHICKEN XXXXX - O          131     653.69   \n",
       "\n",
       "     On Order Quantity  On Order Amount  In Transit Quantity  \\\n",
       "14                   0             0.00                   46   \n",
       "19                   0             0.00                    0   \n",
       "20                 135           673.65                    0   \n",
       "35                   0             0.00                  137   \n",
       "40                   0             0.00                    0   \n",
       "..                 ...              ...                  ...   \n",
       "687                  0             0.00                    0   \n",
       "688                  0             0.00                  219   \n",
       "689                  0             0.00                    0   \n",
       "690                180           898.20                    0   \n",
       "691                  0             0.00                    0   \n",
       "\n",
       "     In Transit Amount  NSI Quantity  NSI Amount  \n",
       "14              229.54             0           0  \n",
       "19                0.00             0           0  \n",
       "20                0.00             0           0  \n",
       "35              683.63             0           0  \n",
       "40                0.00             0           0  \n",
       "..                 ...           ...         ...  \n",
       "687               0.00             0           0  \n",
       "688            1092.81             0           0  \n",
       "689               0.00             0           0  \n",
       "690               0.00             0           0  \n",
       "691               0.00             0           0  \n",
       "\n",
       "[157 rows x 11 columns]"
      ]
     },
     "execution_count": 9,
     "metadata": {},
     "output_type": "execute_result"
    }
   ],
   "source": [
    "data.sort_values(by= 'Date')"
   ]
  },
  {
   "cell_type": "code",
   "execution_count": 14,
   "id": "27639491",
   "metadata": {},
   "outputs": [],
   "source": [
    "for i in df_inventry['Location'].unique():\n",
    "    df= df_inventry[df_inventry['Location']==i]\n",
    "    for j in df['Item'].unique():\n",
    "        item_data= df[df[\"Item\"]==j]\n",
    "        \n",
    "        item_data.sort_values(by='Date')\n",
    "        \n",
    "        loc= 'C:\\\\Users\\\\Ramshankar\\\\OneDrive - iLink Systems Inc\\\\Documents\\\\Costco\\\\Dataset\\\\Inventory data\\\\CSV\\\\' \n",
    "        item_data.to_csv(loc + i+\"-\"+j+\".csv\", index= False)\n",
    "        "
   ]
  },
  {
   "cell_type": "code",
   "execution_count": null,
   "id": "81b8b99f",
   "metadata": {},
   "outputs": [],
   "source": []
  },
  {
   "cell_type": "code",
   "execution_count": null,
   "id": "b314a169",
   "metadata": {},
   "outputs": [],
   "source": []
  },
  {
   "cell_type": "code",
   "execution_count": null,
   "id": "6b74219a",
   "metadata": {},
   "outputs": [],
   "source": []
  },
  {
   "cell_type": "markdown",
   "id": "ce1588e8",
   "metadata": {},
   "source": [
    "## Reading Gretel file(gz xml file ) "
   ]
  },
  {
   "cell_type": "code",
   "execution_count": 1,
   "id": "5f3c172d",
   "metadata": {},
   "outputs": [],
   "source": [
    "import pandas as pd\n",
    "import os"
   ]
  },
  {
   "cell_type": "code",
   "execution_count": 2,
   "id": "8ece81dd",
   "metadata": {},
   "outputs": [
    {
     "name": "stdout",
     "output_type": "stream",
     "text": [
      "False\n"
     ]
    }
   ],
   "source": [
    "loc= 'C:\\\\Users\\\\Ramshankar\\\\Downloads\\\\'\n",
    "print(os.path.isfile(loc))"
   ]
  },
  {
   "cell_type": "code",
   "execution_count": 3,
   "id": "e025768b",
   "metadata": {},
   "outputs": [
    {
     "data": {
      "text/html": [
       "<div>\n",
       "<style scoped>\n",
       "    .dataframe tbody tr th:only-of-type {\n",
       "        vertical-align: middle;\n",
       "    }\n",
       "\n",
       "    .dataframe tbody tr th {\n",
       "        vertical-align: top;\n",
       "    }\n",
       "\n",
       "    .dataframe thead th {\n",
       "        text-align: right;\n",
       "    }\n",
       "</style>\n",
       "<table border=\"1\" class=\"dataframe\">\n",
       "  <thead>\n",
       "    <tr style=\"text-align: right;\">\n",
       "      <th></th>\n",
       "      <th>Date</th>\n",
       "      <th>Location</th>\n",
       "      <th>Item</th>\n",
       "      <th>OH Quantity</th>\n",
       "      <th>OH Amount</th>\n",
       "      <th>On Order Quantity</th>\n",
       "      <th>On Order Amount</th>\n",
       "      <th>In Transit Quantity</th>\n",
       "      <th>In Transit Amount</th>\n",
       "      <th>NSI Quantity</th>\n",
       "      <th>NSI Amount</th>\n",
       "      <th>example_id</th>\n",
       "    </tr>\n",
       "  </thead>\n",
       "  <tbody>\n",
       "    <tr>\n",
       "      <th>0</th>\n",
       "      <td>2020-01-01</td>\n",
       "      <td>FREMONT</td>\n",
       "      <td>CHICKEN XXXXX - O</td>\n",
       "      <td>141.881561</td>\n",
       "      <td>738.935791</td>\n",
       "      <td>179.258728</td>\n",
       "      <td>986.519348</td>\n",
       "      <td>182.341995</td>\n",
       "      <td>896.311035</td>\n",
       "      <td>0.0</td>\n",
       "      <td>0.0</td>\n",
       "      <td>0</td>\n",
       "    </tr>\n",
       "    <tr>\n",
       "      <th>1</th>\n",
       "      <td>2020-01-02</td>\n",
       "      <td>FREMONT</td>\n",
       "      <td>CHICKEN XXXXX - O</td>\n",
       "      <td>91.257202</td>\n",
       "      <td>452.046356</td>\n",
       "      <td>110.984871</td>\n",
       "      <td>786.793091</td>\n",
       "      <td>85.368813</td>\n",
       "      <td>516.650696</td>\n",
       "      <td>0.0</td>\n",
       "      <td>0.0</td>\n",
       "      <td>0</td>\n",
       "    </tr>\n",
       "    <tr>\n",
       "      <th>2</th>\n",
       "      <td>2020-01-03</td>\n",
       "      <td>FREMONT</td>\n",
       "      <td>CHICKEN XXXXX - O</td>\n",
       "      <td>63.474609</td>\n",
       "      <td>208.971985</td>\n",
       "      <td>73.007439</td>\n",
       "      <td>498.690186</td>\n",
       "      <td>44.834782</td>\n",
       "      <td>216.906860</td>\n",
       "      <td>0.0</td>\n",
       "      <td>0.0</td>\n",
       "      <td>0</td>\n",
       "    </tr>\n",
       "    <tr>\n",
       "      <th>3</th>\n",
       "      <td>2020-01-04</td>\n",
       "      <td>FREMONT</td>\n",
       "      <td>CHICKEN XXXXX - O</td>\n",
       "      <td>47.139912</td>\n",
       "      <td>171.347000</td>\n",
       "      <td>40.667198</td>\n",
       "      <td>344.866333</td>\n",
       "      <td>12.641102</td>\n",
       "      <td>55.312950</td>\n",
       "      <td>0.0</td>\n",
       "      <td>0.0</td>\n",
       "      <td>0</td>\n",
       "    </tr>\n",
       "    <tr>\n",
       "      <th>4</th>\n",
       "      <td>2020-01-05</td>\n",
       "      <td>FREMONT</td>\n",
       "      <td>CHICKEN XXXXX - O</td>\n",
       "      <td>38.504013</td>\n",
       "      <td>108.600685</td>\n",
       "      <td>41.204697</td>\n",
       "      <td>205.863678</td>\n",
       "      <td>3.272964</td>\n",
       "      <td>14.895798</td>\n",
       "      <td>0.0</td>\n",
       "      <td>0.0</td>\n",
       "      <td>0</td>\n",
       "    </tr>\n",
       "  </tbody>\n",
       "</table>\n",
       "</div>"
      ],
      "text/plain": [
       "         Date Location               Item  OH Quantity   OH Amount  \\\n",
       "0  2020-01-01  FREMONT  CHICKEN XXXXX - O   141.881561  738.935791   \n",
       "1  2020-01-02  FREMONT  CHICKEN XXXXX - O    91.257202  452.046356   \n",
       "2  2020-01-03  FREMONT  CHICKEN XXXXX - O    63.474609  208.971985   \n",
       "3  2020-01-04  FREMONT  CHICKEN XXXXX - O    47.139912  171.347000   \n",
       "4  2020-01-05  FREMONT  CHICKEN XXXXX - O    38.504013  108.600685   \n",
       "\n",
       "   On Order Quantity  On Order Amount  In Transit Quantity  In Transit Amount  \\\n",
       "0         179.258728       986.519348           182.341995         896.311035   \n",
       "1         110.984871       786.793091            85.368813         516.650696   \n",
       "2          73.007439       498.690186            44.834782         216.906860   \n",
       "3          40.667198       344.866333            12.641102          55.312950   \n",
       "4          41.204697       205.863678             3.272964          14.895798   \n",
       "\n",
       "   NSI Quantity  NSI Amount  example_id  \n",
       "0           0.0         0.0           0  \n",
       "1           0.0         0.0           0  \n",
       "2           0.0         0.0           0  \n",
       "3           0.0         0.0           0  \n",
       "4           0.0         0.0           0  "
      ]
     },
     "execution_count": 3,
     "metadata": {},
     "output_type": "execute_result"
    }
   ],
   "source": [
    "# df = pd.read_json(loc, lines=True, compression='gzip')\n",
    "# df.tail()\n",
    "import gzip\n",
    "with gzip.open(loc+ 'time-series-dgan-Fremont_Chicken.csv.gz') as f:\n",
    "    frmt_ck = pd.read_csv(f)\n",
    "\n",
    "frmt_ck.head()"
   ]
  },
  {
   "cell_type": "code",
   "execution_count": 4,
   "id": "4d867bf9",
   "metadata": {},
   "outputs": [
    {
     "data": {
      "text/plain": [
       "(50000, 12)"
      ]
     },
     "execution_count": 4,
     "metadata": {},
     "output_type": "execute_result"
    }
   ],
   "source": [
    "frmt_ck.shape"
   ]
  },
  {
   "cell_type": "code",
   "execution_count": 5,
   "id": "e58de395",
   "metadata": {},
   "outputs": [],
   "source": [
    "# df= features_train[(features_train['Location']=='FREMONT') & (features_train['Item']=='FILLET QQQQ')]"
   ]
  },
  {
   "cell_type": "code",
   "execution_count": 6,
   "id": "02ba064b",
   "metadata": {},
   "outputs": [],
   "source": [
    "# df.shape"
   ]
  },
  {
   "cell_type": "code",
   "execution_count": 8,
   "id": "c56df2c0",
   "metadata": {},
   "outputs": [
    {
     "data": {
      "text/plain": [
       "'2020-01-01'"
      ]
     },
     "execution_count": 8,
     "metadata": {},
     "output_type": "execute_result"
    }
   ],
   "source": [
    "frmt_ck['Date'].min()"
   ]
  },
  {
   "cell_type": "code",
   "execution_count": 9,
   "id": "c13fe0c8",
   "metadata": {},
   "outputs": [
    {
     "data": {
      "text/plain": [
       "'2020-01-10'"
      ]
     },
     "execution_count": 9,
     "metadata": {},
     "output_type": "execute_result"
    }
   ],
   "source": [
    "frmt_ck['Date'].max()"
   ]
  },
  {
   "cell_type": "code",
   "execution_count": 22,
   "id": "e4ceebf6",
   "metadata": {},
   "outputs": [],
   "source": [
    "# features_train.to_excel('timeseies_gene.xlsx', index=False)"
   ]
  },
  {
   "cell_type": "code",
   "execution_count": 23,
   "id": "2d96e639",
   "metadata": {},
   "outputs": [
    {
     "name": "stdout",
     "output_type": "stream",
     "text": [
      "Collecting faker\n",
      "  Downloading Faker-15.3.4-py3-none-any.whl (1.6 MB)\n",
      "Requirement already satisfied: python-dateutil>=2.4 in c:\\users\\ramshankar\\anaconda3\\lib\\site-packages (from faker) (2.8.2)\n",
      "Requirement already satisfied: six>=1.5 in c:\\users\\ramshankar\\anaconda3\\lib\\site-packages (from python-dateutil>=2.4->faker) (1.16.0)\n",
      "Installing collected packages: faker\n",
      "Successfully installed faker-15.3.4\n"
     ]
    }
   ],
   "source": [
    "# !pip install faker"
   ]
  },
  {
   "cell_type": "code",
   "execution_count": 10,
   "id": "65102e7f",
   "metadata": {},
   "outputs": [],
   "source": [
    "# from faker import Faker\n",
    "# fake = Faker()"
   ]
  },
  {
   "cell_type": "code",
   "execution_count": 35,
   "id": "f6d1876d",
   "metadata": {},
   "outputs": [],
   "source": [
    "# import datetime\n",
    "# start_date = datetime.date(year=2020, month=1, day=1)\n",
    "# # end_date = datetime.date(year=2015, month=1, day=1)\n",
    "\n",
    "# date_time= []\n",
    "# for i in range(750):\n",
    "#     date_time.append(fake.date_time_between_dates(datetime_start=start_date, datetime_end='now'))"
   ]
  },
  {
   "cell_type": "code",
   "execution_count": 11,
   "id": "f40797f4",
   "metadata": {},
   "outputs": [],
   "source": [
    "# date_time"
   ]
  },
  {
   "cell_type": "code",
   "execution_count": 12,
   "id": "af320074",
   "metadata": {},
   "outputs": [],
   "source": [
    "# df_date = pd.DataFrame({'Date':np.array(date_time)})\n",
    "# df_date['Date']=pd.to_datetime(df_date['Date'])"
   ]
  },
  {
   "cell_type": "code",
   "execution_count": 13,
   "id": "ce90ced6",
   "metadata": {},
   "outputs": [],
   "source": [
    "# df_date.sort_values(by='Date')"
   ]
  },
  {
   "cell_type": "code",
   "execution_count": 16,
   "id": "ef586d63",
   "metadata": {},
   "outputs": [],
   "source": [
    "import numpy as np"
   ]
  },
  {
   "cell_type": "code",
   "execution_count": 17,
   "id": "cdfeb534",
   "metadata": {},
   "outputs": [],
   "source": [
    " datee = pd.date_range(start='1/1/2020', end='30/11/2022')"
   ]
  },
  {
   "cell_type": "code",
   "execution_count": 18,
   "id": "121424a7",
   "metadata": {},
   "outputs": [],
   "source": [
    "df_date = pd.DataFrame({'Date':np.array(datee)})\n",
    "df_date['Date']=pd.to_datetime(df_date['Date'])"
   ]
  },
  {
   "cell_type": "code",
   "execution_count": 19,
   "id": "9e07e35e",
   "metadata": {},
   "outputs": [],
   "source": [
    "df_date= df_date.sort_values(by='Date')"
   ]
  },
  {
   "cell_type": "code",
   "execution_count": 20,
   "id": "a7d6a614",
   "metadata": {},
   "outputs": [],
   "source": [
    "frmt_ck['Date']=df_date"
   ]
  },
  {
   "cell_type": "code",
   "execution_count": 21,
   "id": "5b74fc31",
   "metadata": {},
   "outputs": [
    {
     "data": {
      "text/html": [
       "<div>\n",
       "<style scoped>\n",
       "    .dataframe tbody tr th:only-of-type {\n",
       "        vertical-align: middle;\n",
       "    }\n",
       "\n",
       "    .dataframe tbody tr th {\n",
       "        vertical-align: top;\n",
       "    }\n",
       "\n",
       "    .dataframe thead th {\n",
       "        text-align: right;\n",
       "    }\n",
       "</style>\n",
       "<table border=\"1\" class=\"dataframe\">\n",
       "  <thead>\n",
       "    <tr style=\"text-align: right;\">\n",
       "      <th></th>\n",
       "      <th>Date</th>\n",
       "      <th>Location</th>\n",
       "      <th>Item</th>\n",
       "      <th>OH Quantity</th>\n",
       "      <th>OH Amount</th>\n",
       "      <th>On Order Quantity</th>\n",
       "      <th>On Order Amount</th>\n",
       "      <th>In Transit Quantity</th>\n",
       "      <th>In Transit Amount</th>\n",
       "      <th>NSI Quantity</th>\n",
       "      <th>NSI Amount</th>\n",
       "      <th>example_id</th>\n",
       "    </tr>\n",
       "  </thead>\n",
       "  <tbody>\n",
       "    <tr>\n",
       "      <th>0</th>\n",
       "      <td>2020-01-01</td>\n",
       "      <td>FREMONT</td>\n",
       "      <td>CHICKEN XXXXX - O</td>\n",
       "      <td>141.881561</td>\n",
       "      <td>738.935791</td>\n",
       "      <td>179.258728</td>\n",
       "      <td>986.519348</td>\n",
       "      <td>182.341995</td>\n",
       "      <td>896.311035</td>\n",
       "      <td>0.0</td>\n",
       "      <td>0.0</td>\n",
       "      <td>0</td>\n",
       "    </tr>\n",
       "    <tr>\n",
       "      <th>1</th>\n",
       "      <td>2020-01-02</td>\n",
       "      <td>FREMONT</td>\n",
       "      <td>CHICKEN XXXXX - O</td>\n",
       "      <td>91.257202</td>\n",
       "      <td>452.046356</td>\n",
       "      <td>110.984871</td>\n",
       "      <td>786.793091</td>\n",
       "      <td>85.368813</td>\n",
       "      <td>516.650696</td>\n",
       "      <td>0.0</td>\n",
       "      <td>0.0</td>\n",
       "      <td>0</td>\n",
       "    </tr>\n",
       "    <tr>\n",
       "      <th>2</th>\n",
       "      <td>2020-01-03</td>\n",
       "      <td>FREMONT</td>\n",
       "      <td>CHICKEN XXXXX - O</td>\n",
       "      <td>63.474609</td>\n",
       "      <td>208.971985</td>\n",
       "      <td>73.007439</td>\n",
       "      <td>498.690186</td>\n",
       "      <td>44.834782</td>\n",
       "      <td>216.906860</td>\n",
       "      <td>0.0</td>\n",
       "      <td>0.0</td>\n",
       "      <td>0</td>\n",
       "    </tr>\n",
       "    <tr>\n",
       "      <th>3</th>\n",
       "      <td>2020-01-04</td>\n",
       "      <td>FREMONT</td>\n",
       "      <td>CHICKEN XXXXX - O</td>\n",
       "      <td>47.139912</td>\n",
       "      <td>171.347000</td>\n",
       "      <td>40.667198</td>\n",
       "      <td>344.866333</td>\n",
       "      <td>12.641102</td>\n",
       "      <td>55.312950</td>\n",
       "      <td>0.0</td>\n",
       "      <td>0.0</td>\n",
       "      <td>0</td>\n",
       "    </tr>\n",
       "    <tr>\n",
       "      <th>4</th>\n",
       "      <td>2020-01-05</td>\n",
       "      <td>FREMONT</td>\n",
       "      <td>CHICKEN XXXXX - O</td>\n",
       "      <td>38.504013</td>\n",
       "      <td>108.600685</td>\n",
       "      <td>41.204697</td>\n",
       "      <td>205.863678</td>\n",
       "      <td>3.272964</td>\n",
       "      <td>14.895798</td>\n",
       "      <td>0.0</td>\n",
       "      <td>0.0</td>\n",
       "      <td>0</td>\n",
       "    </tr>\n",
       "    <tr>\n",
       "      <th>...</th>\n",
       "      <td>...</td>\n",
       "      <td>...</td>\n",
       "      <td>...</td>\n",
       "      <td>...</td>\n",
       "      <td>...</td>\n",
       "      <td>...</td>\n",
       "      <td>...</td>\n",
       "      <td>...</td>\n",
       "      <td>...</td>\n",
       "      <td>...</td>\n",
       "      <td>...</td>\n",
       "      <td>...</td>\n",
       "    </tr>\n",
       "    <tr>\n",
       "      <th>49995</th>\n",
       "      <td>NaT</td>\n",
       "      <td>FREMONT</td>\n",
       "      <td>CHICKEN XXXXX - O</td>\n",
       "      <td>58.598801</td>\n",
       "      <td>269.305634</td>\n",
       "      <td>57.048683</td>\n",
       "      <td>261.229187</td>\n",
       "      <td>2.533258</td>\n",
       "      <td>9.056885</td>\n",
       "      <td>0.0</td>\n",
       "      <td>0.0</td>\n",
       "      <td>4999</td>\n",
       "    </tr>\n",
       "    <tr>\n",
       "      <th>49996</th>\n",
       "      <td>NaT</td>\n",
       "      <td>FREMONT</td>\n",
       "      <td>CHICKEN XXXXX - O</td>\n",
       "      <td>53.705112</td>\n",
       "      <td>246.169983</td>\n",
       "      <td>56.571381</td>\n",
       "      <td>226.046417</td>\n",
       "      <td>1.498435</td>\n",
       "      <td>6.331045</td>\n",
       "      <td>0.0</td>\n",
       "      <td>0.0</td>\n",
       "      <td>4999</td>\n",
       "    </tr>\n",
       "    <tr>\n",
       "      <th>49997</th>\n",
       "      <td>NaT</td>\n",
       "      <td>FREMONT</td>\n",
       "      <td>CHICKEN XXXXX - O</td>\n",
       "      <td>68.844872</td>\n",
       "      <td>355.593658</td>\n",
       "      <td>78.252815</td>\n",
       "      <td>281.757355</td>\n",
       "      <td>1.515949</td>\n",
       "      <td>5.821615</td>\n",
       "      <td>0.0</td>\n",
       "      <td>0.0</td>\n",
       "      <td>4999</td>\n",
       "    </tr>\n",
       "    <tr>\n",
       "      <th>49998</th>\n",
       "      <td>NaT</td>\n",
       "      <td>FREMONT</td>\n",
       "      <td>CHICKEN XXXXX - O</td>\n",
       "      <td>84.467033</td>\n",
       "      <td>407.779846</td>\n",
       "      <td>81.660950</td>\n",
       "      <td>327.455994</td>\n",
       "      <td>1.646874</td>\n",
       "      <td>6.673431</td>\n",
       "      <td>0.0</td>\n",
       "      <td>0.0</td>\n",
       "      <td>4999</td>\n",
       "    </tr>\n",
       "    <tr>\n",
       "      <th>49999</th>\n",
       "      <td>NaT</td>\n",
       "      <td>FREMONT</td>\n",
       "      <td>CHICKEN XXXXX - O</td>\n",
       "      <td>71.976700</td>\n",
       "      <td>444.137054</td>\n",
       "      <td>96.320755</td>\n",
       "      <td>390.194122</td>\n",
       "      <td>2.310040</td>\n",
       "      <td>7.909273</td>\n",
       "      <td>0.0</td>\n",
       "      <td>0.0</td>\n",
       "      <td>4999</td>\n",
       "    </tr>\n",
       "  </tbody>\n",
       "</table>\n",
       "<p>50000 rows × 12 columns</p>\n",
       "</div>"
      ],
      "text/plain": [
       "            Date Location               Item  OH Quantity   OH Amount  \\\n",
       "0     2020-01-01  FREMONT  CHICKEN XXXXX - O   141.881561  738.935791   \n",
       "1     2020-01-02  FREMONT  CHICKEN XXXXX - O    91.257202  452.046356   \n",
       "2     2020-01-03  FREMONT  CHICKEN XXXXX - O    63.474609  208.971985   \n",
       "3     2020-01-04  FREMONT  CHICKEN XXXXX - O    47.139912  171.347000   \n",
       "4     2020-01-05  FREMONT  CHICKEN XXXXX - O    38.504013  108.600685   \n",
       "...          ...      ...                ...          ...         ...   \n",
       "49995        NaT  FREMONT  CHICKEN XXXXX - O    58.598801  269.305634   \n",
       "49996        NaT  FREMONT  CHICKEN XXXXX - O    53.705112  246.169983   \n",
       "49997        NaT  FREMONT  CHICKEN XXXXX - O    68.844872  355.593658   \n",
       "49998        NaT  FREMONT  CHICKEN XXXXX - O    84.467033  407.779846   \n",
       "49999        NaT  FREMONT  CHICKEN XXXXX - O    71.976700  444.137054   \n",
       "\n",
       "       On Order Quantity  On Order Amount  In Transit Quantity  \\\n",
       "0             179.258728       986.519348           182.341995   \n",
       "1             110.984871       786.793091            85.368813   \n",
       "2              73.007439       498.690186            44.834782   \n",
       "3              40.667198       344.866333            12.641102   \n",
       "4              41.204697       205.863678             3.272964   \n",
       "...                  ...              ...                  ...   \n",
       "49995          57.048683       261.229187             2.533258   \n",
       "49996          56.571381       226.046417             1.498435   \n",
       "49997          78.252815       281.757355             1.515949   \n",
       "49998          81.660950       327.455994             1.646874   \n",
       "49999          96.320755       390.194122             2.310040   \n",
       "\n",
       "       In Transit Amount  NSI Quantity  NSI Amount  example_id  \n",
       "0             896.311035           0.0         0.0           0  \n",
       "1             516.650696           0.0         0.0           0  \n",
       "2             216.906860           0.0         0.0           0  \n",
       "3              55.312950           0.0         0.0           0  \n",
       "4              14.895798           0.0         0.0           0  \n",
       "...                  ...           ...         ...         ...  \n",
       "49995           9.056885           0.0         0.0        4999  \n",
       "49996           6.331045           0.0         0.0        4999  \n",
       "49997           5.821615           0.0         0.0        4999  \n",
       "49998           6.673431           0.0         0.0        4999  \n",
       "49999           7.909273           0.0         0.0        4999  \n",
       "\n",
       "[50000 rows x 12 columns]"
      ]
     },
     "execution_count": 21,
     "metadata": {},
     "output_type": "execute_result"
    }
   ],
   "source": [
    "frmt_ck"
   ]
  },
  {
   "cell_type": "code",
   "execution_count": 22,
   "id": "3c8d3b2f",
   "metadata": {},
   "outputs": [
    {
     "name": "stderr",
     "output_type": "stream",
     "text": [
      "C:\\Users\\Ramshankar\\anaconda3\\lib\\site-packages\\pandas\\core\\arraylike.py:52: UserWarning: Parsing '30/11/2022' in DD/MM/YYYY format. Provide format or specify infer_datetime_format=True for consistent parsing.\n",
      "  return self._cmp_method(other, operator.le)\n"
     ]
    }
   ],
   "source": [
    "frmt_ck= frmt_ck[frmt_ck['Date'] <= '30/11/2022']"
   ]
  },
  {
   "cell_type": "code",
   "execution_count": 24,
   "id": "4c1ee3f6",
   "metadata": {},
   "outputs": [],
   "source": [
    "frmt_ck.to_excel('Output\\\\timeseies_frmt_ck.xlsx', index=False)"
   ]
  },
  {
   "cell_type": "code",
   "execution_count": 25,
   "id": "ee1d5e3c",
   "metadata": {},
   "outputs": [],
   "source": [
    "# for i in range(50):\n",
    "#     print(fake.date_between(start_date =start_date, end_date='now'))"
   ]
  },
  {
   "cell_type": "markdown",
   "id": "a66d2996",
   "metadata": {},
   "source": [
    "### Fremont drumstick"
   ]
  },
  {
   "cell_type": "code",
   "execution_count": 26,
   "id": "ffd2910a",
   "metadata": {},
   "outputs": [
    {
     "data": {
      "text/html": [
       "<div>\n",
       "<style scoped>\n",
       "    .dataframe tbody tr th:only-of-type {\n",
       "        vertical-align: middle;\n",
       "    }\n",
       "\n",
       "    .dataframe tbody tr th {\n",
       "        vertical-align: top;\n",
       "    }\n",
       "\n",
       "    .dataframe thead th {\n",
       "        text-align: right;\n",
       "    }\n",
       "</style>\n",
       "<table border=\"1\" class=\"dataframe\">\n",
       "  <thead>\n",
       "    <tr style=\"text-align: right;\">\n",
       "      <th></th>\n",
       "      <th>Date</th>\n",
       "      <th>Location</th>\n",
       "      <th>Item</th>\n",
       "      <th>OH Quantity</th>\n",
       "      <th>OH Amount</th>\n",
       "      <th>On Order Quantity</th>\n",
       "      <th>On Order Amount</th>\n",
       "      <th>In Transit Quantity</th>\n",
       "      <th>In Transit Amount</th>\n",
       "      <th>NSI Quantity</th>\n",
       "      <th>NSI Amount</th>\n",
       "      <th>example_id</th>\n",
       "    </tr>\n",
       "  </thead>\n",
       "  <tbody>\n",
       "    <tr>\n",
       "      <th>0</th>\n",
       "      <td>2020-01-01</td>\n",
       "      <td>FREMONT</td>\n",
       "      <td>DRUMSTICKS NNNN</td>\n",
       "      <td>1103.230957</td>\n",
       "      <td>1326.753662</td>\n",
       "      <td>1625.467651</td>\n",
       "      <td>1614.772217</td>\n",
       "      <td>979.896240</td>\n",
       "      <td>962.317200</td>\n",
       "      <td>0.0</td>\n",
       "      <td>0.0</td>\n",
       "      <td>0</td>\n",
       "    </tr>\n",
       "    <tr>\n",
       "      <th>1</th>\n",
       "      <td>2020-01-01</td>\n",
       "      <td>FREMONT</td>\n",
       "      <td>DRUMSTICKS NNNN</td>\n",
       "      <td>957.666138</td>\n",
       "      <td>1170.424072</td>\n",
       "      <td>1350.698730</td>\n",
       "      <td>1452.261597</td>\n",
       "      <td>772.858582</td>\n",
       "      <td>782.900269</td>\n",
       "      <td>0.0</td>\n",
       "      <td>0.0</td>\n",
       "      <td>0</td>\n",
       "    </tr>\n",
       "    <tr>\n",
       "      <th>2</th>\n",
       "      <td>2020-01-02</td>\n",
       "      <td>FREMONT</td>\n",
       "      <td>DRUMSTICKS NNNN</td>\n",
       "      <td>752.300598</td>\n",
       "      <td>908.310547</td>\n",
       "      <td>870.317444</td>\n",
       "      <td>1389.232056</td>\n",
       "      <td>535.078003</td>\n",
       "      <td>523.913208</td>\n",
       "      <td>0.0</td>\n",
       "      <td>0.0</td>\n",
       "      <td>0</td>\n",
       "    </tr>\n",
       "    <tr>\n",
       "      <th>3</th>\n",
       "      <td>2020-01-02</td>\n",
       "      <td>FREMONT</td>\n",
       "      <td>DRUMSTICKS NNNN</td>\n",
       "      <td>561.777527</td>\n",
       "      <td>890.706787</td>\n",
       "      <td>571.849182</td>\n",
       "      <td>1064.687744</td>\n",
       "      <td>290.813232</td>\n",
       "      <td>352.735901</td>\n",
       "      <td>0.0</td>\n",
       "      <td>0.0</td>\n",
       "      <td>0</td>\n",
       "    </tr>\n",
       "    <tr>\n",
       "      <th>4</th>\n",
       "      <td>2020-01-03</td>\n",
       "      <td>FREMONT</td>\n",
       "      <td>DRUMSTICKS NNNN</td>\n",
       "      <td>418.709290</td>\n",
       "      <td>505.013428</td>\n",
       "      <td>180.289795</td>\n",
       "      <td>631.473877</td>\n",
       "      <td>117.754807</td>\n",
       "      <td>194.321503</td>\n",
       "      <td>0.0</td>\n",
       "      <td>0.0</td>\n",
       "      <td>0</td>\n",
       "    </tr>\n",
       "  </tbody>\n",
       "</table>\n",
       "</div>"
      ],
      "text/plain": [
       "         Date Location             Item  OH Quantity    OH Amount  \\\n",
       "0  2020-01-01  FREMONT  DRUMSTICKS NNNN  1103.230957  1326.753662   \n",
       "1  2020-01-01  FREMONT  DRUMSTICKS NNNN   957.666138  1170.424072   \n",
       "2  2020-01-02  FREMONT  DRUMSTICKS NNNN   752.300598   908.310547   \n",
       "3  2020-01-02  FREMONT  DRUMSTICKS NNNN   561.777527   890.706787   \n",
       "4  2020-01-03  FREMONT  DRUMSTICKS NNNN   418.709290   505.013428   \n",
       "\n",
       "   On Order Quantity  On Order Amount  In Transit Quantity  In Transit Amount  \\\n",
       "0        1625.467651      1614.772217           979.896240         962.317200   \n",
       "1        1350.698730      1452.261597           772.858582         782.900269   \n",
       "2         870.317444      1389.232056           535.078003         523.913208   \n",
       "3         571.849182      1064.687744           290.813232         352.735901   \n",
       "4         180.289795       631.473877           117.754807         194.321503   \n",
       "\n",
       "   NSI Quantity  NSI Amount  example_id  \n",
       "0           0.0         0.0           0  \n",
       "1           0.0         0.0           0  \n",
       "2           0.0         0.0           0  \n",
       "3           0.0         0.0           0  \n",
       "4           0.0         0.0           0  "
      ]
     },
     "execution_count": 26,
     "metadata": {},
     "output_type": "execute_result"
    }
   ],
   "source": [
    "with gzip.open(loc+ 'time-series-dgan-Fremont_drumstick.csv.gz') as f:\n",
    "    frmt_dumstk = pd.read_csv(f)\n",
    "\n",
    "frmt_dumstk.head()"
   ]
  },
  {
   "cell_type": "code",
   "execution_count": 27,
   "id": "a3954aab",
   "metadata": {},
   "outputs": [
    {
     "data": {
      "text/plain": [
       "(50000, 12)"
      ]
     },
     "execution_count": 27,
     "metadata": {},
     "output_type": "execute_result"
    }
   ],
   "source": [
    "frmt_dumstk.shape"
   ]
  },
  {
   "cell_type": "code",
   "execution_count": 28,
   "id": "2132abc7",
   "metadata": {},
   "outputs": [
    {
     "data": {
      "text/plain": [
       "'2020-01-01'"
      ]
     },
     "execution_count": 28,
     "metadata": {},
     "output_type": "execute_result"
    }
   ],
   "source": [
    "frmt_dumstk['Date'].min()"
   ]
  },
  {
   "cell_type": "code",
   "execution_count": 29,
   "id": "0120ca0c",
   "metadata": {},
   "outputs": [
    {
     "data": {
      "text/plain": [
       "'2020-01-05'"
      ]
     },
     "execution_count": 29,
     "metadata": {},
     "output_type": "execute_result"
    }
   ],
   "source": [
    "frmt_dumstk['Date'].max()"
   ]
  },
  {
   "cell_type": "code",
   "execution_count": 30,
   "id": "9863e84e",
   "metadata": {},
   "outputs": [],
   "source": [
    "frmt_dumstk['Date']=df_date"
   ]
  },
  {
   "cell_type": "code",
   "execution_count": 31,
   "id": "eccd4a7c",
   "metadata": {},
   "outputs": [
    {
     "name": "stderr",
     "output_type": "stream",
     "text": [
      "C:\\Users\\Ramshankar\\anaconda3\\lib\\site-packages\\pandas\\core\\arraylike.py:52: UserWarning: Parsing '30/11/2022' in DD/MM/YYYY format. Provide format or specify infer_datetime_format=True for consistent parsing.\n",
      "  return self._cmp_method(other, operator.le)\n"
     ]
    }
   ],
   "source": [
    "frmt_dumstk= frmt_dumstk[frmt_dumstk['Date'] <= '30/11/2022']"
   ]
  },
  {
   "cell_type": "code",
   "execution_count": 32,
   "id": "9b501752",
   "metadata": {},
   "outputs": [],
   "source": [
    "# frmt_dumstk.to_excel('Output\\\\timeseies_frmt_dumstk.xlsx', index=False)"
   ]
  },
  {
   "cell_type": "markdown",
   "id": "abf5a833",
   "metadata": {},
   "source": [
    "### Fremont Fillet "
   ]
  },
  {
   "cell_type": "code",
   "execution_count": 33,
   "id": "270f15e1",
   "metadata": {},
   "outputs": [
    {
     "data": {
      "text/html": [
       "<div>\n",
       "<style scoped>\n",
       "    .dataframe tbody tr th:only-of-type {\n",
       "        vertical-align: middle;\n",
       "    }\n",
       "\n",
       "    .dataframe tbody tr th {\n",
       "        vertical-align: top;\n",
       "    }\n",
       "\n",
       "    .dataframe thead th {\n",
       "        text-align: right;\n",
       "    }\n",
       "</style>\n",
       "<table border=\"1\" class=\"dataframe\">\n",
       "  <thead>\n",
       "    <tr style=\"text-align: right;\">\n",
       "      <th></th>\n",
       "      <th>Date</th>\n",
       "      <th>Location</th>\n",
       "      <th>Item</th>\n",
       "      <th>OH Quantity</th>\n",
       "      <th>OH Amount</th>\n",
       "      <th>On Order Quantity</th>\n",
       "      <th>On Order Amount</th>\n",
       "      <th>In Transit Quantity</th>\n",
       "      <th>In Transit Amount</th>\n",
       "      <th>NSI Quantity</th>\n",
       "      <th>NSI Amount</th>\n",
       "    </tr>\n",
       "  </thead>\n",
       "  <tbody>\n",
       "    <tr>\n",
       "      <th>0</th>\n",
       "      <td>2020-02-17</td>\n",
       "      <td>FREMONT</td>\n",
       "      <td>FILLET QQQQ</td>\n",
       "      <td>44</td>\n",
       "      <td>259.80</td>\n",
       "      <td>0</td>\n",
       "      <td>0.0</td>\n",
       "      <td>0</td>\n",
       "      <td>0.0</td>\n",
       "      <td>0</td>\n",
       "      <td>0</td>\n",
       "    </tr>\n",
       "    <tr>\n",
       "      <th>1</th>\n",
       "      <td>2020-01-22</td>\n",
       "      <td>FREMONT</td>\n",
       "      <td>FILLET QQQQ</td>\n",
       "      <td>1</td>\n",
       "      <td>16.89</td>\n",
       "      <td>0</td>\n",
       "      <td>0.0</td>\n",
       "      <td>0</td>\n",
       "      <td>0.0</td>\n",
       "      <td>0</td>\n",
       "      <td>0</td>\n",
       "    </tr>\n",
       "    <tr>\n",
       "      <th>2</th>\n",
       "      <td>2020-04-20</td>\n",
       "      <td>FREMONT</td>\n",
       "      <td>FILLET QQQQ</td>\n",
       "      <td>1</td>\n",
       "      <td>314.07</td>\n",
       "      <td>0</td>\n",
       "      <td>0.0</td>\n",
       "      <td>0</td>\n",
       "      <td>0.0</td>\n",
       "      <td>0</td>\n",
       "      <td>0</td>\n",
       "    </tr>\n",
       "    <tr>\n",
       "      <th>3</th>\n",
       "      <td>2020-04-20</td>\n",
       "      <td>FREMONT</td>\n",
       "      <td>FILLET QQQQ</td>\n",
       "      <td>2</td>\n",
       "      <td>7.49</td>\n",
       "      <td>0</td>\n",
       "      <td>0.0</td>\n",
       "      <td>0</td>\n",
       "      <td>0.0</td>\n",
       "      <td>0</td>\n",
       "      <td>0</td>\n",
       "    </tr>\n",
       "    <tr>\n",
       "      <th>4</th>\n",
       "      <td>2020-04-27</td>\n",
       "      <td>FREMONT</td>\n",
       "      <td>FILLET QQQQ</td>\n",
       "      <td>2</td>\n",
       "      <td>7.49</td>\n",
       "      <td>0</td>\n",
       "      <td>0.0</td>\n",
       "      <td>0</td>\n",
       "      <td>0.0</td>\n",
       "      <td>0</td>\n",
       "      <td>0</td>\n",
       "    </tr>\n",
       "  </tbody>\n",
       "</table>\n",
       "</div>"
      ],
      "text/plain": [
       "         Date Location         Item  OH Quantity  OH Amount  \\\n",
       "0  2020-02-17  FREMONT  FILLET QQQQ           44     259.80   \n",
       "1  2020-01-22  FREMONT  FILLET QQQQ            1      16.89   \n",
       "2  2020-04-20  FREMONT  FILLET QQQQ            1     314.07   \n",
       "3  2020-04-20  FREMONT  FILLET QQQQ            2       7.49   \n",
       "4  2020-04-27  FREMONT  FILLET QQQQ            2       7.49   \n",
       "\n",
       "   On Order Quantity  On Order Amount  In Transit Quantity  In Transit Amount  \\\n",
       "0                  0              0.0                    0                0.0   \n",
       "1                  0              0.0                    0                0.0   \n",
       "2                  0              0.0                    0                0.0   \n",
       "3                  0              0.0                    0                0.0   \n",
       "4                  0              0.0                    0                0.0   \n",
       "\n",
       "   NSI Quantity  NSI Amount  \n",
       "0             0           0  \n",
       "1             0           0  \n",
       "2             0           0  \n",
       "3             0           0  \n",
       "4             0           0  "
      ]
     },
     "execution_count": 33,
     "metadata": {},
     "output_type": "execute_result"
    }
   ],
   "source": [
    "with gzip.open(loc+ 'low-record-fremont_fillet.csv.gz') as f:\n",
    "    frmt_fillet = pd.read_csv(f)\n",
    "\n",
    "frmt_fillet.head()"
   ]
  },
  {
   "cell_type": "code",
   "execution_count": 34,
   "id": "1b8f5513",
   "metadata": {},
   "outputs": [
    {
     "data": {
      "text/plain": [
       "'2020-01-06'"
      ]
     },
     "execution_count": 34,
     "metadata": {},
     "output_type": "execute_result"
    }
   ],
   "source": [
    "frmt_fillet['Date'].min()"
   ]
  },
  {
   "cell_type": "code",
   "execution_count": 35,
   "id": "a7a4eaf0",
   "metadata": {},
   "outputs": [
    {
     "data": {
      "text/plain": [
       "'2020-05-26'"
      ]
     },
     "execution_count": 35,
     "metadata": {},
     "output_type": "execute_result"
    }
   ],
   "source": [
    "frmt_fillet['Date'].max()"
   ]
  },
  {
   "cell_type": "code",
   "execution_count": 36,
   "id": "b3d56c24",
   "metadata": {},
   "outputs": [],
   "source": [
    "frmt_fillet['Date']=df_date"
   ]
  },
  {
   "cell_type": "code",
   "execution_count": 37,
   "id": "19c7099d",
   "metadata": {},
   "outputs": [
    {
     "name": "stderr",
     "output_type": "stream",
     "text": [
      "C:\\Users\\Ramshankar\\anaconda3\\lib\\site-packages\\pandas\\core\\arraylike.py:52: UserWarning: Parsing '30/11/2022' in DD/MM/YYYY format. Provide format or specify infer_datetime_format=True for consistent parsing.\n",
      "  return self._cmp_method(other, operator.le)\n"
     ]
    }
   ],
   "source": [
    "frmt_fillet= frmt_fillet[frmt_fillet['Date'] <= '30/11/2022']"
   ]
  },
  {
   "cell_type": "code",
   "execution_count": 38,
   "id": "9e8385f7",
   "metadata": {},
   "outputs": [],
   "source": [
    "# frmt_fillet.to_excel('Output\\\\timeseies_frmt_fillet.xlsx', index=False)"
   ]
  },
  {
   "cell_type": "markdown",
   "id": "c5de730f",
   "metadata": {},
   "source": [
    "### Hayward Chicken "
   ]
  },
  {
   "cell_type": "code",
   "execution_count": 39,
   "id": "6ad7f897",
   "metadata": {},
   "outputs": [
    {
     "data": {
      "text/html": [
       "<div>\n",
       "<style scoped>\n",
       "    .dataframe tbody tr th:only-of-type {\n",
       "        vertical-align: middle;\n",
       "    }\n",
       "\n",
       "    .dataframe tbody tr th {\n",
       "        vertical-align: top;\n",
       "    }\n",
       "\n",
       "    .dataframe thead th {\n",
       "        text-align: right;\n",
       "    }\n",
       "</style>\n",
       "<table border=\"1\" class=\"dataframe\">\n",
       "  <thead>\n",
       "    <tr style=\"text-align: right;\">\n",
       "      <th></th>\n",
       "      <th>Date</th>\n",
       "      <th>Location</th>\n",
       "      <th>Item</th>\n",
       "      <th>OH Quantity</th>\n",
       "      <th>OH Amount</th>\n",
       "      <th>On Order Quantity</th>\n",
       "      <th>On Order Amount</th>\n",
       "      <th>In Transit Quantity</th>\n",
       "      <th>In Transit Amount</th>\n",
       "      <th>NSI Quantity</th>\n",
       "      <th>NSI Amount</th>\n",
       "      <th>example_id</th>\n",
       "    </tr>\n",
       "  </thead>\n",
       "  <tbody>\n",
       "    <tr>\n",
       "      <th>0</th>\n",
       "      <td>2020-01-01</td>\n",
       "      <td>HAYWARD</td>\n",
       "      <td>CHICKEN XXXXX - O</td>\n",
       "      <td>156.593491</td>\n",
       "      <td>715.337585</td>\n",
       "      <td>148.279297</td>\n",
       "      <td>673.288635</td>\n",
       "      <td>167.654785</td>\n",
       "      <td>757.239746</td>\n",
       "      <td>0.0</td>\n",
       "      <td>0.0</td>\n",
       "      <td>0</td>\n",
       "    </tr>\n",
       "    <tr>\n",
       "      <th>1</th>\n",
       "      <td>2020-01-02</td>\n",
       "      <td>HAYWARD</td>\n",
       "      <td>CHICKEN XXXXX - O</td>\n",
       "      <td>101.890923</td>\n",
       "      <td>439.927887</td>\n",
       "      <td>98.825348</td>\n",
       "      <td>338.556854</td>\n",
       "      <td>92.266663</td>\n",
       "      <td>327.255829</td>\n",
       "      <td>0.0</td>\n",
       "      <td>0.0</td>\n",
       "      <td>0</td>\n",
       "    </tr>\n",
       "    <tr>\n",
       "      <th>2</th>\n",
       "      <td>2020-01-03</td>\n",
       "      <td>HAYWARD</td>\n",
       "      <td>CHICKEN XXXXX - O</td>\n",
       "      <td>40.981194</td>\n",
       "      <td>161.898880</td>\n",
       "      <td>29.812311</td>\n",
       "      <td>94.693512</td>\n",
       "      <td>38.380898</td>\n",
       "      <td>92.575432</td>\n",
       "      <td>0.0</td>\n",
       "      <td>0.0</td>\n",
       "      <td>0</td>\n",
       "    </tr>\n",
       "    <tr>\n",
       "      <th>3</th>\n",
       "      <td>2020-01-04</td>\n",
       "      <td>HAYWARD</td>\n",
       "      <td>CHICKEN XXXXX - O</td>\n",
       "      <td>17.308071</td>\n",
       "      <td>26.857952</td>\n",
       "      <td>6.059848</td>\n",
       "      <td>19.245108</td>\n",
       "      <td>9.223862</td>\n",
       "      <td>11.655737</td>\n",
       "      <td>0.0</td>\n",
       "      <td>0.0</td>\n",
       "      <td>0</td>\n",
       "    </tr>\n",
       "    <tr>\n",
       "      <th>4</th>\n",
       "      <td>2020-01-05</td>\n",
       "      <td>HAYWARD</td>\n",
       "      <td>CHICKEN XXXXX - O</td>\n",
       "      <td>5.796494</td>\n",
       "      <td>7.762445</td>\n",
       "      <td>1.183887</td>\n",
       "      <td>2.303692</td>\n",
       "      <td>1.379270</td>\n",
       "      <td>1.309049</td>\n",
       "      <td>0.0</td>\n",
       "      <td>0.0</td>\n",
       "      <td>0</td>\n",
       "    </tr>\n",
       "  </tbody>\n",
       "</table>\n",
       "</div>"
      ],
      "text/plain": [
       "         Date Location               Item  OH Quantity   OH Amount  \\\n",
       "0  2020-01-01  HAYWARD  CHICKEN XXXXX - O   156.593491  715.337585   \n",
       "1  2020-01-02  HAYWARD  CHICKEN XXXXX - O   101.890923  439.927887   \n",
       "2  2020-01-03  HAYWARD  CHICKEN XXXXX - O    40.981194  161.898880   \n",
       "3  2020-01-04  HAYWARD  CHICKEN XXXXX - O    17.308071   26.857952   \n",
       "4  2020-01-05  HAYWARD  CHICKEN XXXXX - O     5.796494    7.762445   \n",
       "\n",
       "   On Order Quantity  On Order Amount  In Transit Quantity  In Transit Amount  \\\n",
       "0         148.279297       673.288635           167.654785         757.239746   \n",
       "1          98.825348       338.556854            92.266663         327.255829   \n",
       "2          29.812311        94.693512            38.380898          92.575432   \n",
       "3           6.059848        19.245108             9.223862          11.655737   \n",
       "4           1.183887         2.303692             1.379270           1.309049   \n",
       "\n",
       "   NSI Quantity  NSI Amount  example_id  \n",
       "0           0.0         0.0           0  \n",
       "1           0.0         0.0           0  \n",
       "2           0.0         0.0           0  \n",
       "3           0.0         0.0           0  \n",
       "4           0.0         0.0           0  "
      ]
     },
     "execution_count": 39,
     "metadata": {},
     "output_type": "execute_result"
    }
   ],
   "source": [
    "with gzip.open(loc+ 'time-series-dgan-Hayward_chicken.csv.gz') as f:\n",
    "    Hayward_ckn = pd.read_csv(f)\n",
    "\n",
    "Hayward_ckn.head()"
   ]
  },
  {
   "cell_type": "code",
   "execution_count": 40,
   "id": "2a10783d",
   "metadata": {},
   "outputs": [],
   "source": [
    "Hayward_ckn['Date']=df_date"
   ]
  },
  {
   "cell_type": "code",
   "execution_count": 41,
   "id": "9ce4aa9d",
   "metadata": {},
   "outputs": [
    {
     "name": "stderr",
     "output_type": "stream",
     "text": [
      "C:\\Users\\Ramshankar\\anaconda3\\lib\\site-packages\\pandas\\core\\arraylike.py:52: UserWarning: Parsing '30/11/2022' in DD/MM/YYYY format. Provide format or specify infer_datetime_format=True for consistent parsing.\n",
      "  return self._cmp_method(other, operator.le)\n"
     ]
    }
   ],
   "source": [
    "Hayward_ckn= Hayward_ckn[Hayward_ckn['Date'] <= '30/11/2022']"
   ]
  },
  {
   "cell_type": "code",
   "execution_count": 42,
   "id": "5f038cec",
   "metadata": {},
   "outputs": [],
   "source": [
    "Hayward_ckn.to_excel('Output\\\\timeseies_Hayward_ckn.xlsx', index=False)"
   ]
  },
  {
   "cell_type": "markdown",
   "id": "df9f92cc",
   "metadata": {},
   "source": [
    "### Hayward Drumstik"
   ]
  },
  {
   "cell_type": "code",
   "execution_count": 43,
   "id": "6f55400c",
   "metadata": {},
   "outputs": [
    {
     "data": {
      "text/html": [
       "<div>\n",
       "<style scoped>\n",
       "    .dataframe tbody tr th:only-of-type {\n",
       "        vertical-align: middle;\n",
       "    }\n",
       "\n",
       "    .dataframe tbody tr th {\n",
       "        vertical-align: top;\n",
       "    }\n",
       "\n",
       "    .dataframe thead th {\n",
       "        text-align: right;\n",
       "    }\n",
       "</style>\n",
       "<table border=\"1\" class=\"dataframe\">\n",
       "  <thead>\n",
       "    <tr style=\"text-align: right;\">\n",
       "      <th></th>\n",
       "      <th>Date</th>\n",
       "      <th>Location</th>\n",
       "      <th>Item</th>\n",
       "      <th>OH Quantity</th>\n",
       "      <th>OH Amount</th>\n",
       "      <th>On Order Quantity</th>\n",
       "      <th>On Order Amount</th>\n",
       "      <th>In Transit Quantity</th>\n",
       "      <th>In Transit Amount</th>\n",
       "      <th>NSI Quantity</th>\n",
       "      <th>NSI Amount</th>\n",
       "      <th>example_id</th>\n",
       "    </tr>\n",
       "  </thead>\n",
       "  <tbody>\n",
       "    <tr>\n",
       "      <th>0</th>\n",
       "      <td>2020-01-01</td>\n",
       "      <td>HAYWARD</td>\n",
       "      <td>DRUMSTICKS NNNN</td>\n",
       "      <td>650.301392</td>\n",
       "      <td>581.812744</td>\n",
       "      <td>779.618835</td>\n",
       "      <td>593.267822</td>\n",
       "      <td>760.651001</td>\n",
       "      <td>436.442596</td>\n",
       "      <td>0.0</td>\n",
       "      <td>0.0</td>\n",
       "      <td>0</td>\n",
       "    </tr>\n",
       "    <tr>\n",
       "      <th>1</th>\n",
       "      <td>2020-01-02</td>\n",
       "      <td>HAYWARD</td>\n",
       "      <td>DRUMSTICKS NNNN</td>\n",
       "      <td>484.482330</td>\n",
       "      <td>466.550171</td>\n",
       "      <td>544.038269</td>\n",
       "      <td>329.410004</td>\n",
       "      <td>477.190979</td>\n",
       "      <td>188.849472</td>\n",
       "      <td>0.0</td>\n",
       "      <td>0.0</td>\n",
       "      <td>0</td>\n",
       "    </tr>\n",
       "    <tr>\n",
       "      <th>2</th>\n",
       "      <td>2020-01-03</td>\n",
       "      <td>HAYWARD</td>\n",
       "      <td>DRUMSTICKS NNNN</td>\n",
       "      <td>392.678131</td>\n",
       "      <td>303.856537</td>\n",
       "      <td>198.007751</td>\n",
       "      <td>142.099091</td>\n",
       "      <td>169.764313</td>\n",
       "      <td>65.091537</td>\n",
       "      <td>0.0</td>\n",
       "      <td>0.0</td>\n",
       "      <td>0</td>\n",
       "    </tr>\n",
       "    <tr>\n",
       "      <th>3</th>\n",
       "      <td>2020-01-04</td>\n",
       "      <td>HAYWARD</td>\n",
       "      <td>DRUMSTICKS NNNN</td>\n",
       "      <td>288.063873</td>\n",
       "      <td>221.498871</td>\n",
       "      <td>99.597595</td>\n",
       "      <td>65.414772</td>\n",
       "      <td>69.663391</td>\n",
       "      <td>22.902037</td>\n",
       "      <td>0.0</td>\n",
       "      <td>0.0</td>\n",
       "      <td>0</td>\n",
       "    </tr>\n",
       "    <tr>\n",
       "      <th>4</th>\n",
       "      <td>2020-01-05</td>\n",
       "      <td>HAYWARD</td>\n",
       "      <td>DRUMSTICKS NNNN</td>\n",
       "      <td>318.989349</td>\n",
       "      <td>283.140411</td>\n",
       "      <td>52.302078</td>\n",
       "      <td>50.881794</td>\n",
       "      <td>27.125429</td>\n",
       "      <td>12.795419</td>\n",
       "      <td>0.0</td>\n",
       "      <td>0.0</td>\n",
       "      <td>0</td>\n",
       "    </tr>\n",
       "  </tbody>\n",
       "</table>\n",
       "</div>"
      ],
      "text/plain": [
       "         Date Location             Item  OH Quantity   OH Amount  \\\n",
       "0  2020-01-01  HAYWARD  DRUMSTICKS NNNN   650.301392  581.812744   \n",
       "1  2020-01-02  HAYWARD  DRUMSTICKS NNNN   484.482330  466.550171   \n",
       "2  2020-01-03  HAYWARD  DRUMSTICKS NNNN   392.678131  303.856537   \n",
       "3  2020-01-04  HAYWARD  DRUMSTICKS NNNN   288.063873  221.498871   \n",
       "4  2020-01-05  HAYWARD  DRUMSTICKS NNNN   318.989349  283.140411   \n",
       "\n",
       "   On Order Quantity  On Order Amount  In Transit Quantity  In Transit Amount  \\\n",
       "0         779.618835       593.267822           760.651001         436.442596   \n",
       "1         544.038269       329.410004           477.190979         188.849472   \n",
       "2         198.007751       142.099091           169.764313          65.091537   \n",
       "3          99.597595        65.414772            69.663391          22.902037   \n",
       "4          52.302078        50.881794            27.125429          12.795419   \n",
       "\n",
       "   NSI Quantity  NSI Amount  example_id  \n",
       "0           0.0         0.0           0  \n",
       "1           0.0         0.0           0  \n",
       "2           0.0         0.0           0  \n",
       "3           0.0         0.0           0  \n",
       "4           0.0         0.0           0  "
      ]
     },
     "execution_count": 43,
     "metadata": {},
     "output_type": "execute_result"
    }
   ],
   "source": [
    "with gzip.open(loc+ 'time-series-dgan-Hayward_drumstick.csv.gz') as f:\n",
    "    Hayward_drum = pd.read_csv(f)\n",
    "\n",
    "Hayward_drum.head()"
   ]
  },
  {
   "cell_type": "code",
   "execution_count": 44,
   "id": "2b168e50",
   "metadata": {},
   "outputs": [],
   "source": [
    "Hayward_drum['Date']=df_date"
   ]
  },
  {
   "cell_type": "code",
   "execution_count": 45,
   "id": "98ecdea8",
   "metadata": {},
   "outputs": [
    {
     "name": "stderr",
     "output_type": "stream",
     "text": [
      "C:\\Users\\Ramshankar\\anaconda3\\lib\\site-packages\\pandas\\core\\arraylike.py:52: UserWarning: Parsing '30/11/2022' in DD/MM/YYYY format. Provide format or specify infer_datetime_format=True for consistent parsing.\n",
      "  return self._cmp_method(other, operator.le)\n"
     ]
    }
   ],
   "source": [
    "Hayward_drum = Hayward_drum[Hayward_drum['Date'] <= '30/11/2022']"
   ]
  },
  {
   "cell_type": "code",
   "execution_count": 46,
   "id": "bf08073a",
   "metadata": {},
   "outputs": [],
   "source": [
    "Hayward_drum.to_excel('Output\\\\timeseies_Hayward_drum.xlsx', index=False)"
   ]
  },
  {
   "cell_type": "markdown",
   "id": "1de0cecd",
   "metadata": {},
   "source": [
    "### Hayward Fillet "
   ]
  },
  {
   "cell_type": "code",
   "execution_count": 47,
   "id": "110919e0",
   "metadata": {},
   "outputs": [
    {
     "data": {
      "text/html": [
       "<div>\n",
       "<style scoped>\n",
       "    .dataframe tbody tr th:only-of-type {\n",
       "        vertical-align: middle;\n",
       "    }\n",
       "\n",
       "    .dataframe tbody tr th {\n",
       "        vertical-align: top;\n",
       "    }\n",
       "\n",
       "    .dataframe thead th {\n",
       "        text-align: right;\n",
       "    }\n",
       "</style>\n",
       "<table border=\"1\" class=\"dataframe\">\n",
       "  <thead>\n",
       "    <tr style=\"text-align: right;\">\n",
       "      <th></th>\n",
       "      <th>Date</th>\n",
       "      <th>Location</th>\n",
       "      <th>Item</th>\n",
       "      <th>OH Quantity</th>\n",
       "      <th>OH Amount</th>\n",
       "      <th>On Order Quantity</th>\n",
       "      <th>On Order Amount</th>\n",
       "      <th>In Transit Quantity</th>\n",
       "      <th>In Transit Amount</th>\n",
       "      <th>NSI Quantity</th>\n",
       "      <th>NSI Amount</th>\n",
       "    </tr>\n",
       "  </thead>\n",
       "  <tbody>\n",
       "    <tr>\n",
       "      <th>0</th>\n",
       "      <td>2020-06-01</td>\n",
       "      <td>HAYWARD</td>\n",
       "      <td>FILLET QQQQ</td>\n",
       "      <td>1</td>\n",
       "      <td>33.50</td>\n",
       "      <td>0</td>\n",
       "      <td>0.0</td>\n",
       "      <td>0</td>\n",
       "      <td>0.0</td>\n",
       "      <td>0</td>\n",
       "      <td>0</td>\n",
       "    </tr>\n",
       "    <tr>\n",
       "      <th>1</th>\n",
       "      <td>2020-01-06</td>\n",
       "      <td>HAYWARD</td>\n",
       "      <td>FILLET QQQQ</td>\n",
       "      <td>5</td>\n",
       "      <td>23.86</td>\n",
       "      <td>0</td>\n",
       "      <td>0.0</td>\n",
       "      <td>0</td>\n",
       "      <td>0.0</td>\n",
       "      <td>0</td>\n",
       "      <td>0</td>\n",
       "    </tr>\n",
       "    <tr>\n",
       "      <th>2</th>\n",
       "      <td>2020-02-10</td>\n",
       "      <td>HAYWARD</td>\n",
       "      <td>FILLET QQQQ</td>\n",
       "      <td>2</td>\n",
       "      <td>23.97</td>\n",
       "      <td>0</td>\n",
       "      <td>0.0</td>\n",
       "      <td>0</td>\n",
       "      <td>0.0</td>\n",
       "      <td>0</td>\n",
       "      <td>0</td>\n",
       "    </tr>\n",
       "    <tr>\n",
       "      <th>3</th>\n",
       "      <td>2020-07-20</td>\n",
       "      <td>HAYWARD</td>\n",
       "      <td>FILLET QQQQ</td>\n",
       "      <td>6</td>\n",
       "      <td>50.75</td>\n",
       "      <td>0</td>\n",
       "      <td>0.0</td>\n",
       "      <td>0</td>\n",
       "      <td>0.0</td>\n",
       "      <td>0</td>\n",
       "      <td>0</td>\n",
       "    </tr>\n",
       "    <tr>\n",
       "      <th>4</th>\n",
       "      <td>2020-01-06</td>\n",
       "      <td>HAYWARD</td>\n",
       "      <td>FILLET QQQQ</td>\n",
       "      <td>6</td>\n",
       "      <td>35.85</td>\n",
       "      <td>0</td>\n",
       "      <td>0.0</td>\n",
       "      <td>0</td>\n",
       "      <td>0.0</td>\n",
       "      <td>0</td>\n",
       "      <td>0</td>\n",
       "    </tr>\n",
       "  </tbody>\n",
       "</table>\n",
       "</div>"
      ],
      "text/plain": [
       "         Date Location         Item  OH Quantity  OH Amount  \\\n",
       "0  2020-06-01  HAYWARD  FILLET QQQQ            1      33.50   \n",
       "1  2020-01-06  HAYWARD  FILLET QQQQ            5      23.86   \n",
       "2  2020-02-10  HAYWARD  FILLET QQQQ            2      23.97   \n",
       "3  2020-07-20  HAYWARD  FILLET QQQQ            6      50.75   \n",
       "4  2020-01-06  HAYWARD  FILLET QQQQ            6      35.85   \n",
       "\n",
       "   On Order Quantity  On Order Amount  In Transit Quantity  In Transit Amount  \\\n",
       "0                  0              0.0                    0                0.0   \n",
       "1                  0              0.0                    0                0.0   \n",
       "2                  0              0.0                    0                0.0   \n",
       "3                  0              0.0                    0                0.0   \n",
       "4                  0              0.0                    0                0.0   \n",
       "\n",
       "   NSI Quantity  NSI Amount  \n",
       "0             0           0  \n",
       "1             0           0  \n",
       "2             0           0  \n",
       "3             0           0  \n",
       "4             0           0  "
      ]
     },
     "execution_count": 47,
     "metadata": {},
     "output_type": "execute_result"
    }
   ],
   "source": [
    "with gzip.open(loc+ 'low-record-count-Hayward_fillet.csv.gz') as f:\n",
    "    Hayward_fillet = pd.read_csv(f)\n",
    "\n",
    "Hayward_fillet.head()"
   ]
  },
  {
   "cell_type": "code",
   "execution_count": 48,
   "id": "a14ab2bb",
   "metadata": {},
   "outputs": [],
   "source": [
    "Hayward_fillet['Date']=df_date"
   ]
  },
  {
   "cell_type": "code",
   "execution_count": 49,
   "id": "ad476be2",
   "metadata": {},
   "outputs": [
    {
     "name": "stderr",
     "output_type": "stream",
     "text": [
      "C:\\Users\\Ramshankar\\anaconda3\\lib\\site-packages\\pandas\\core\\arraylike.py:52: UserWarning: Parsing '30/11/2022' in DD/MM/YYYY format. Provide format or specify infer_datetime_format=True for consistent parsing.\n",
      "  return self._cmp_method(other, operator.le)\n"
     ]
    }
   ],
   "source": [
    "Hayward_fillet = Hayward_fillet[Hayward_fillet['Date'] <= '30/11/2022']"
   ]
  },
  {
   "cell_type": "code",
   "execution_count": 50,
   "id": "c39c7ddf",
   "metadata": {},
   "outputs": [],
   "source": [
    "Hayward_fillet.to_excel('Output\\\\timeseies_Hayward_fillet.xlsx', index=False)"
   ]
  },
  {
   "cell_type": "markdown",
   "id": "8b86ec3a",
   "metadata": {},
   "source": [
    "### Lakewood chicken"
   ]
  },
  {
   "cell_type": "code",
   "execution_count": 51,
   "id": "c99df206",
   "metadata": {},
   "outputs": [
    {
     "data": {
      "text/html": [
       "<div>\n",
       "<style scoped>\n",
       "    .dataframe tbody tr th:only-of-type {\n",
       "        vertical-align: middle;\n",
       "    }\n",
       "\n",
       "    .dataframe tbody tr th {\n",
       "        vertical-align: top;\n",
       "    }\n",
       "\n",
       "    .dataframe thead th {\n",
       "        text-align: right;\n",
       "    }\n",
       "</style>\n",
       "<table border=\"1\" class=\"dataframe\">\n",
       "  <thead>\n",
       "    <tr style=\"text-align: right;\">\n",
       "      <th></th>\n",
       "      <th>Date</th>\n",
       "      <th>Location</th>\n",
       "      <th>Item</th>\n",
       "      <th>OH Quantity</th>\n",
       "      <th>OH Amount</th>\n",
       "      <th>On Order Quantity</th>\n",
       "      <th>On Order Amount</th>\n",
       "      <th>In Transit Quantity</th>\n",
       "      <th>In Transit Amount</th>\n",
       "      <th>NSI Quantity</th>\n",
       "      <th>NSI Amount</th>\n",
       "      <th>example_id</th>\n",
       "    </tr>\n",
       "  </thead>\n",
       "  <tbody>\n",
       "    <tr>\n",
       "      <th>0</th>\n",
       "      <td>2020-01-01</td>\n",
       "      <td>LAKEWOOD</td>\n",
       "      <td>CHICKEN XXXXX - O</td>\n",
       "      <td>62.426819</td>\n",
       "      <td>384.172333</td>\n",
       "      <td>109.090729</td>\n",
       "      <td>596.823608</td>\n",
       "      <td>79.886948</td>\n",
       "      <td>403.166199</td>\n",
       "      <td>0.0</td>\n",
       "      <td>0.0</td>\n",
       "      <td>0</td>\n",
       "    </tr>\n",
       "    <tr>\n",
       "      <th>1</th>\n",
       "      <td>2020-01-02</td>\n",
       "      <td>LAKEWOOD</td>\n",
       "      <td>CHICKEN XXXXX - O</td>\n",
       "      <td>50.739594</td>\n",
       "      <td>278.784546</td>\n",
       "      <td>103.552017</td>\n",
       "      <td>507.299927</td>\n",
       "      <td>54.153580</td>\n",
       "      <td>250.741440</td>\n",
       "      <td>0.0</td>\n",
       "      <td>0.0</td>\n",
       "      <td>0</td>\n",
       "    </tr>\n",
       "    <tr>\n",
       "      <th>2</th>\n",
       "      <td>2020-01-03</td>\n",
       "      <td>LAKEWOOD</td>\n",
       "      <td>CHICKEN XXXXX - O</td>\n",
       "      <td>58.871498</td>\n",
       "      <td>261.757324</td>\n",
       "      <td>86.444672</td>\n",
       "      <td>431.010254</td>\n",
       "      <td>44.659801</td>\n",
       "      <td>217.967194</td>\n",
       "      <td>0.0</td>\n",
       "      <td>0.0</td>\n",
       "      <td>0</td>\n",
       "    </tr>\n",
       "    <tr>\n",
       "      <th>3</th>\n",
       "      <td>2020-01-04</td>\n",
       "      <td>LAKEWOOD</td>\n",
       "      <td>CHICKEN XXXXX - O</td>\n",
       "      <td>50.747463</td>\n",
       "      <td>193.044830</td>\n",
       "      <td>81.561516</td>\n",
       "      <td>342.820312</td>\n",
       "      <td>21.356668</td>\n",
       "      <td>91.420822</td>\n",
       "      <td>0.0</td>\n",
       "      <td>0.0</td>\n",
       "      <td>0</td>\n",
       "    </tr>\n",
       "    <tr>\n",
       "      <th>4</th>\n",
       "      <td>2020-01-05</td>\n",
       "      <td>LAKEWOOD</td>\n",
       "      <td>CHICKEN XXXXX - O</td>\n",
       "      <td>38.284889</td>\n",
       "      <td>137.546951</td>\n",
       "      <td>56.283554</td>\n",
       "      <td>294.192657</td>\n",
       "      <td>14.038329</td>\n",
       "      <td>58.191750</td>\n",
       "      <td>0.0</td>\n",
       "      <td>0.0</td>\n",
       "      <td>0</td>\n",
       "    </tr>\n",
       "  </tbody>\n",
       "</table>\n",
       "</div>"
      ],
      "text/plain": [
       "         Date  Location               Item  OH Quantity   OH Amount  \\\n",
       "0  2020-01-01  LAKEWOOD  CHICKEN XXXXX - O    62.426819  384.172333   \n",
       "1  2020-01-02  LAKEWOOD  CHICKEN XXXXX - O    50.739594  278.784546   \n",
       "2  2020-01-03  LAKEWOOD  CHICKEN XXXXX - O    58.871498  261.757324   \n",
       "3  2020-01-04  LAKEWOOD  CHICKEN XXXXX - O    50.747463  193.044830   \n",
       "4  2020-01-05  LAKEWOOD  CHICKEN XXXXX - O    38.284889  137.546951   \n",
       "\n",
       "   On Order Quantity  On Order Amount  In Transit Quantity  In Transit Amount  \\\n",
       "0         109.090729       596.823608            79.886948         403.166199   \n",
       "1         103.552017       507.299927            54.153580         250.741440   \n",
       "2          86.444672       431.010254            44.659801         217.967194   \n",
       "3          81.561516       342.820312            21.356668          91.420822   \n",
       "4          56.283554       294.192657            14.038329          58.191750   \n",
       "\n",
       "   NSI Quantity  NSI Amount  example_id  \n",
       "0           0.0         0.0           0  \n",
       "1           0.0         0.0           0  \n",
       "2           0.0         0.0           0  \n",
       "3           0.0         0.0           0  \n",
       "4           0.0         0.0           0  "
      ]
     },
     "execution_count": 51,
     "metadata": {},
     "output_type": "execute_result"
    }
   ],
   "source": [
    "with gzip.open(loc+ 'time-series-dgan-Lakewood_chickencsv.gz') as f:\n",
    "    Lakewd_chkn = pd.read_csv(f)\n",
    "\n",
    "Lakewd_chkn.head()"
   ]
  },
  {
   "cell_type": "code",
   "execution_count": 52,
   "id": "bc8cd690",
   "metadata": {},
   "outputs": [],
   "source": [
    "Lakewd_chkn['Date']=df_date"
   ]
  },
  {
   "cell_type": "code",
   "execution_count": 53,
   "id": "f6822007",
   "metadata": {},
   "outputs": [
    {
     "name": "stderr",
     "output_type": "stream",
     "text": [
      "C:\\Users\\Ramshankar\\anaconda3\\lib\\site-packages\\pandas\\core\\arraylike.py:52: UserWarning: Parsing '30/11/2022' in DD/MM/YYYY format. Provide format or specify infer_datetime_format=True for consistent parsing.\n",
      "  return self._cmp_method(other, operator.le)\n"
     ]
    }
   ],
   "source": [
    "Lakewd_chkn = Lakewd_chkn[Lakewd_chkn['Date'] <= '30/11/2022']"
   ]
  },
  {
   "cell_type": "code",
   "execution_count": 54,
   "id": "7f4a4a74",
   "metadata": {},
   "outputs": [],
   "source": [
    "Lakewd_chkn.to_excel('Output\\\\timeseies_Lakewd_chkn.xlsx', index=False)"
   ]
  },
  {
   "cell_type": "markdown",
   "id": "abe37977",
   "metadata": {},
   "source": [
    "### Lakewood Drumstick "
   ]
  },
  {
   "cell_type": "code",
   "execution_count": 55,
   "id": "93526391",
   "metadata": {},
   "outputs": [
    {
     "data": {
      "text/html": [
       "<div>\n",
       "<style scoped>\n",
       "    .dataframe tbody tr th:only-of-type {\n",
       "        vertical-align: middle;\n",
       "    }\n",
       "\n",
       "    .dataframe tbody tr th {\n",
       "        vertical-align: top;\n",
       "    }\n",
       "\n",
       "    .dataframe thead th {\n",
       "        text-align: right;\n",
       "    }\n",
       "</style>\n",
       "<table border=\"1\" class=\"dataframe\">\n",
       "  <thead>\n",
       "    <tr style=\"text-align: right;\">\n",
       "      <th></th>\n",
       "      <th>Date</th>\n",
       "      <th>Location</th>\n",
       "      <th>Item</th>\n",
       "      <th>OH Quantity</th>\n",
       "      <th>OH Amount</th>\n",
       "      <th>On Order Quantity</th>\n",
       "      <th>On Order Amount</th>\n",
       "      <th>In Transit Quantity</th>\n",
       "      <th>In Transit Amount</th>\n",
       "      <th>NSI Quantity</th>\n",
       "      <th>NSI Amount</th>\n",
       "      <th>example_id</th>\n",
       "    </tr>\n",
       "  </thead>\n",
       "  <tbody>\n",
       "    <tr>\n",
       "      <th>0</th>\n",
       "      <td>2020-01-01</td>\n",
       "      <td>LAKEWOOD</td>\n",
       "      <td>DRUMSTICKS NNNN</td>\n",
       "      <td>837.558777</td>\n",
       "      <td>950.035950</td>\n",
       "      <td>1178.412109</td>\n",
       "      <td>1184.886475</td>\n",
       "      <td>608.283875</td>\n",
       "      <td>571.122498</td>\n",
       "      <td>0.0</td>\n",
       "      <td>0.0</td>\n",
       "      <td>0</td>\n",
       "    </tr>\n",
       "    <tr>\n",
       "      <th>1</th>\n",
       "      <td>2020-01-01</td>\n",
       "      <td>LAKEWOOD</td>\n",
       "      <td>DRUMSTICKS NNNN</td>\n",
       "      <td>735.371643</td>\n",
       "      <td>794.908508</td>\n",
       "      <td>870.279968</td>\n",
       "      <td>1085.487305</td>\n",
       "      <td>490.441315</td>\n",
       "      <td>404.755432</td>\n",
       "      <td>0.0</td>\n",
       "      <td>0.0</td>\n",
       "      <td>0</td>\n",
       "    </tr>\n",
       "    <tr>\n",
       "      <th>2</th>\n",
       "      <td>2020-01-02</td>\n",
       "      <td>LAKEWOOD</td>\n",
       "      <td>DRUMSTICKS NNNN</td>\n",
       "      <td>686.610840</td>\n",
       "      <td>651.337891</td>\n",
       "      <td>777.559509</td>\n",
       "      <td>727.654846</td>\n",
       "      <td>305.412354</td>\n",
       "      <td>254.505417</td>\n",
       "      <td>0.0</td>\n",
       "      <td>0.0</td>\n",
       "      <td>0</td>\n",
       "    </tr>\n",
       "    <tr>\n",
       "      <th>3</th>\n",
       "      <td>2020-01-02</td>\n",
       "      <td>LAKEWOOD</td>\n",
       "      <td>DRUMSTICKS NNNN</td>\n",
       "      <td>537.378906</td>\n",
       "      <td>622.981689</td>\n",
       "      <td>515.342590</td>\n",
       "      <td>512.758057</td>\n",
       "      <td>154.104568</td>\n",
       "      <td>114.705727</td>\n",
       "      <td>0.0</td>\n",
       "      <td>0.0</td>\n",
       "      <td>0</td>\n",
       "    </tr>\n",
       "    <tr>\n",
       "      <th>4</th>\n",
       "      <td>2020-01-03</td>\n",
       "      <td>LAKEWOOD</td>\n",
       "      <td>DRUMSTICKS NNNN</td>\n",
       "      <td>311.941345</td>\n",
       "      <td>447.797180</td>\n",
       "      <td>325.715027</td>\n",
       "      <td>336.045227</td>\n",
       "      <td>60.648663</td>\n",
       "      <td>51.482315</td>\n",
       "      <td>0.0</td>\n",
       "      <td>0.0</td>\n",
       "      <td>0</td>\n",
       "    </tr>\n",
       "  </tbody>\n",
       "</table>\n",
       "</div>"
      ],
      "text/plain": [
       "         Date  Location             Item  OH Quantity   OH Amount  \\\n",
       "0  2020-01-01  LAKEWOOD  DRUMSTICKS NNNN   837.558777  950.035950   \n",
       "1  2020-01-01  LAKEWOOD  DRUMSTICKS NNNN   735.371643  794.908508   \n",
       "2  2020-01-02  LAKEWOOD  DRUMSTICKS NNNN   686.610840  651.337891   \n",
       "3  2020-01-02  LAKEWOOD  DRUMSTICKS NNNN   537.378906  622.981689   \n",
       "4  2020-01-03  LAKEWOOD  DRUMSTICKS NNNN   311.941345  447.797180   \n",
       "\n",
       "   On Order Quantity  On Order Amount  In Transit Quantity  In Transit Amount  \\\n",
       "0        1178.412109      1184.886475           608.283875         571.122498   \n",
       "1         870.279968      1085.487305           490.441315         404.755432   \n",
       "2         777.559509       727.654846           305.412354         254.505417   \n",
       "3         515.342590       512.758057           154.104568         114.705727   \n",
       "4         325.715027       336.045227            60.648663          51.482315   \n",
       "\n",
       "   NSI Quantity  NSI Amount  example_id  \n",
       "0           0.0         0.0           0  \n",
       "1           0.0         0.0           0  \n",
       "2           0.0         0.0           0  \n",
       "3           0.0         0.0           0  \n",
       "4           0.0         0.0           0  "
      ]
     },
     "execution_count": 55,
     "metadata": {},
     "output_type": "execute_result"
    }
   ],
   "source": [
    "with gzip.open(loc+ 'time-series-dgan-Lakewood_drumstick.csv.gz') as f:\n",
    "    Lakewd_drmst = pd.read_csv(f)\n",
    "\n",
    "Lakewd_drmst.head()"
   ]
  },
  {
   "cell_type": "code",
   "execution_count": 56,
   "id": "5c35e147",
   "metadata": {},
   "outputs": [],
   "source": [
    "Lakewd_drmst['Date']=df_date"
   ]
  },
  {
   "cell_type": "code",
   "execution_count": 57,
   "id": "0c5d6abf",
   "metadata": {},
   "outputs": [
    {
     "name": "stderr",
     "output_type": "stream",
     "text": [
      "C:\\Users\\Ramshankar\\anaconda3\\lib\\site-packages\\pandas\\core\\arraylike.py:52: UserWarning: Parsing '30/11/2022' in DD/MM/YYYY format. Provide format or specify infer_datetime_format=True for consistent parsing.\n",
      "  return self._cmp_method(other, operator.le)\n"
     ]
    }
   ],
   "source": [
    "Lakewd_drmst = Lakewd_drmst[Lakewd_drmst['Date'] <= '30/11/2022']"
   ]
  },
  {
   "cell_type": "code",
   "execution_count": 58,
   "id": "658eea68",
   "metadata": {},
   "outputs": [],
   "source": [
    "Lakewd_drmst.to_excel('Output\\\\timeseies_Lakewd_drmst.xlsx', index=False)"
   ]
  },
  {
   "cell_type": "markdown",
   "id": "8ee1a0df",
   "metadata": {},
   "source": [
    "### Lakewood Fillet "
   ]
  },
  {
   "cell_type": "code",
   "execution_count": 81,
   "id": "0e4357df",
   "metadata": {},
   "outputs": [
    {
     "data": {
      "text/html": [
       "<div>\n",
       "<style scoped>\n",
       "    .dataframe tbody tr th:only-of-type {\n",
       "        vertical-align: middle;\n",
       "    }\n",
       "\n",
       "    .dataframe tbody tr th {\n",
       "        vertical-align: top;\n",
       "    }\n",
       "\n",
       "    .dataframe thead th {\n",
       "        text-align: right;\n",
       "    }\n",
       "</style>\n",
       "<table border=\"1\" class=\"dataframe\">\n",
       "  <thead>\n",
       "    <tr style=\"text-align: right;\">\n",
       "      <th></th>\n",
       "      <th>Date</th>\n",
       "      <th>Location</th>\n",
       "      <th>Item</th>\n",
       "      <th>OH Quantity</th>\n",
       "      <th>OH Amount</th>\n",
       "      <th>On Order Quantity</th>\n",
       "      <th>On Order Amount</th>\n",
       "      <th>In Transit Quantity</th>\n",
       "      <th>In Transit Amount</th>\n",
       "      <th>NSI Quantity</th>\n",
       "      <th>NSI Amount</th>\n",
       "    </tr>\n",
       "  </thead>\n",
       "  <tbody>\n",
       "    <tr>\n",
       "      <th>0</th>\n",
       "      <td>2020-06-15</td>\n",
       "      <td>LAKEWOOD</td>\n",
       "      <td>FILLET QQQQ</td>\n",
       "      <td>4</td>\n",
       "      <td>12.63</td>\n",
       "      <td>0</td>\n",
       "      <td>0.0</td>\n",
       "      <td>0</td>\n",
       "      <td>0.0</td>\n",
       "      <td>0</td>\n",
       "      <td>0</td>\n",
       "    </tr>\n",
       "    <tr>\n",
       "      <th>1</th>\n",
       "      <td>2020-06-01</td>\n",
       "      <td>LAKEWOOD</td>\n",
       "      <td>FILLET QQQQ</td>\n",
       "      <td>1</td>\n",
       "      <td>45.16</td>\n",
       "      <td>0</td>\n",
       "      <td>0.0</td>\n",
       "      <td>0</td>\n",
       "      <td>0.0</td>\n",
       "      <td>0</td>\n",
       "      <td>0</td>\n",
       "    </tr>\n",
       "    <tr>\n",
       "      <th>2</th>\n",
       "      <td>2020-01-06</td>\n",
       "      <td>LAKEWOOD</td>\n",
       "      <td>FILLET QQQQ</td>\n",
       "      <td>21</td>\n",
       "      <td>307.09</td>\n",
       "      <td>0</td>\n",
       "      <td>0.0</td>\n",
       "      <td>0</td>\n",
       "      <td>0.0</td>\n",
       "      <td>0</td>\n",
       "      <td>0</td>\n",
       "    </tr>\n",
       "    <tr>\n",
       "      <th>3</th>\n",
       "      <td>2020-08-03</td>\n",
       "      <td>LAKEWOOD</td>\n",
       "      <td>FILLET QQQQ</td>\n",
       "      <td>16</td>\n",
       "      <td>36.14</td>\n",
       "      <td>0</td>\n",
       "      <td>0.0</td>\n",
       "      <td>0</td>\n",
       "      <td>0.0</td>\n",
       "      <td>0</td>\n",
       "      <td>0</td>\n",
       "    </tr>\n",
       "    <tr>\n",
       "      <th>4</th>\n",
       "      <td>2020-01-13</td>\n",
       "      <td>LAKEWOOD</td>\n",
       "      <td>FILLET QQQQ</td>\n",
       "      <td>17</td>\n",
       "      <td>307.09</td>\n",
       "      <td>0</td>\n",
       "      <td>0.0</td>\n",
       "      <td>0</td>\n",
       "      <td>0.0</td>\n",
       "      <td>0</td>\n",
       "      <td>0</td>\n",
       "    </tr>\n",
       "  </tbody>\n",
       "</table>\n",
       "</div>"
      ],
      "text/plain": [
       "         Date  Location         Item  OH Quantity  OH Amount  \\\n",
       "0  2020-06-15  LAKEWOOD  FILLET QQQQ            4      12.63   \n",
       "1  2020-06-01  LAKEWOOD  FILLET QQQQ            1      45.16   \n",
       "2  2020-01-06  LAKEWOOD  FILLET QQQQ           21     307.09   \n",
       "3  2020-08-03  LAKEWOOD  FILLET QQQQ           16      36.14   \n",
       "4  2020-01-13  LAKEWOOD  FILLET QQQQ           17     307.09   \n",
       "\n",
       "   On Order Quantity  On Order Amount  In Transit Quantity  In Transit Amount  \\\n",
       "0                  0              0.0                    0                0.0   \n",
       "1                  0              0.0                    0                0.0   \n",
       "2                  0              0.0                    0                0.0   \n",
       "3                  0              0.0                    0                0.0   \n",
       "4                  0              0.0                    0                0.0   \n",
       "\n",
       "   NSI Quantity  NSI Amount  \n",
       "0             0           0  \n",
       "1             0           0  \n",
       "2             0           0  \n",
       "3             0           0  \n",
       "4             0           0  "
      ]
     },
     "execution_count": 81,
     "metadata": {},
     "output_type": "execute_result"
    }
   ],
   "source": [
    "with gzip.open(loc+ 'low-record-count-Lakewood_fillet.csv.gz') as f:\n",
    "    Lakewd_fillet = pd.read_csv(f)\n",
    "\n",
    "Lakewd_fillet.head()"
   ]
  },
  {
   "cell_type": "code",
   "execution_count": 82,
   "id": "7bdb184b",
   "metadata": {},
   "outputs": [],
   "source": [
    "Lakewd_fillet['Date']=df_date"
   ]
  },
  {
   "cell_type": "code",
   "execution_count": 83,
   "id": "21f561d7",
   "metadata": {},
   "outputs": [
    {
     "name": "stderr",
     "output_type": "stream",
     "text": [
      "C:\\Users\\Ramshankar\\anaconda3\\lib\\site-packages\\pandas\\core\\arraylike.py:52: UserWarning: Parsing '30/11/2022' in DD/MM/YYYY format. Provide format or specify infer_datetime_format=True for consistent parsing.\n",
      "  return self._cmp_method(other, operator.le)\n"
     ]
    }
   ],
   "source": [
    "Lakewd_fillet = Lakewd_fillet[Lakewd_fillet['Date'] <= '30/11/2022']"
   ]
  },
  {
   "cell_type": "code",
   "execution_count": 84,
   "id": "e40c4fac",
   "metadata": {},
   "outputs": [],
   "source": [
    "Lakewd_fillet.to_excel('Output\\\\timeseies_Lakewd_fillet.xlsx', index=False)"
   ]
  },
  {
   "cell_type": "markdown",
   "id": "b604b57c",
   "metadata": {},
   "source": [
    "### Richmond Chicken"
   ]
  },
  {
   "cell_type": "code",
   "execution_count": 59,
   "id": "2b434bde",
   "metadata": {},
   "outputs": [
    {
     "data": {
      "text/html": [
       "<div>\n",
       "<style scoped>\n",
       "    .dataframe tbody tr th:only-of-type {\n",
       "        vertical-align: middle;\n",
       "    }\n",
       "\n",
       "    .dataframe tbody tr th {\n",
       "        vertical-align: top;\n",
       "    }\n",
       "\n",
       "    .dataframe thead th {\n",
       "        text-align: right;\n",
       "    }\n",
       "</style>\n",
       "<table border=\"1\" class=\"dataframe\">\n",
       "  <thead>\n",
       "    <tr style=\"text-align: right;\">\n",
       "      <th></th>\n",
       "      <th>Date</th>\n",
       "      <th>Location</th>\n",
       "      <th>Item</th>\n",
       "      <th>OH Quantity</th>\n",
       "      <th>OH Amount</th>\n",
       "      <th>On Order Quantity</th>\n",
       "      <th>On Order Amount</th>\n",
       "      <th>In Transit Quantity</th>\n",
       "      <th>In Transit Amount</th>\n",
       "      <th>NSI Quantity</th>\n",
       "      <th>NSI Amount</th>\n",
       "      <th>example_id</th>\n",
       "    </tr>\n",
       "  </thead>\n",
       "  <tbody>\n",
       "    <tr>\n",
       "      <th>0</th>\n",
       "      <td>2020-01-01</td>\n",
       "      <td>RICHMOND CA</td>\n",
       "      <td>CHICKEN XXXXX - O</td>\n",
       "      <td>108.164513</td>\n",
       "      <td>606.942871</td>\n",
       "      <td>131.197678</td>\n",
       "      <td>668.304382</td>\n",
       "      <td>171.309052</td>\n",
       "      <td>507.278748</td>\n",
       "      <td>0.0</td>\n",
       "      <td>0.0</td>\n",
       "      <td>0</td>\n",
       "    </tr>\n",
       "    <tr>\n",
       "      <th>1</th>\n",
       "      <td>2020-01-02</td>\n",
       "      <td>RICHMOND CA</td>\n",
       "      <td>CHICKEN XXXXX - O</td>\n",
       "      <td>109.649872</td>\n",
       "      <td>556.226807</td>\n",
       "      <td>75.066635</td>\n",
       "      <td>412.738373</td>\n",
       "      <td>103.751839</td>\n",
       "      <td>296.556335</td>\n",
       "      <td>0.0</td>\n",
       "      <td>0.0</td>\n",
       "      <td>0</td>\n",
       "    </tr>\n",
       "    <tr>\n",
       "      <th>2</th>\n",
       "      <td>2020-01-03</td>\n",
       "      <td>RICHMOND CA</td>\n",
       "      <td>CHICKEN XXXXX - O</td>\n",
       "      <td>106.220406</td>\n",
       "      <td>438.844696</td>\n",
       "      <td>29.317993</td>\n",
       "      <td>145.034454</td>\n",
       "      <td>55.945663</td>\n",
       "      <td>101.511681</td>\n",
       "      <td>0.0</td>\n",
       "      <td>0.0</td>\n",
       "      <td>0</td>\n",
       "    </tr>\n",
       "    <tr>\n",
       "      <th>3</th>\n",
       "      <td>2020-01-04</td>\n",
       "      <td>RICHMOND CA</td>\n",
       "      <td>CHICKEN XXXXX - O</td>\n",
       "      <td>86.247002</td>\n",
       "      <td>300.369598</td>\n",
       "      <td>8.029797</td>\n",
       "      <td>75.420166</td>\n",
       "      <td>19.757767</td>\n",
       "      <td>25.098209</td>\n",
       "      <td>0.0</td>\n",
       "      <td>0.0</td>\n",
       "      <td>0</td>\n",
       "    </tr>\n",
       "    <tr>\n",
       "      <th>4</th>\n",
       "      <td>2020-01-05</td>\n",
       "      <td>RICHMOND CA</td>\n",
       "      <td>CHICKEN XXXXX - O</td>\n",
       "      <td>93.907120</td>\n",
       "      <td>328.830780</td>\n",
       "      <td>2.301054</td>\n",
       "      <td>36.892139</td>\n",
       "      <td>9.881513</td>\n",
       "      <td>6.186396</td>\n",
       "      <td>0.0</td>\n",
       "      <td>0.0</td>\n",
       "      <td>0</td>\n",
       "    </tr>\n",
       "  </tbody>\n",
       "</table>\n",
       "</div>"
      ],
      "text/plain": [
       "         Date     Location               Item  OH Quantity   OH Amount  \\\n",
       "0  2020-01-01  RICHMOND CA  CHICKEN XXXXX - O   108.164513  606.942871   \n",
       "1  2020-01-02  RICHMOND CA  CHICKEN XXXXX - O   109.649872  556.226807   \n",
       "2  2020-01-03  RICHMOND CA  CHICKEN XXXXX - O   106.220406  438.844696   \n",
       "3  2020-01-04  RICHMOND CA  CHICKEN XXXXX - O    86.247002  300.369598   \n",
       "4  2020-01-05  RICHMOND CA  CHICKEN XXXXX - O    93.907120  328.830780   \n",
       "\n",
       "   On Order Quantity  On Order Amount  In Transit Quantity  In Transit Amount  \\\n",
       "0         131.197678       668.304382           171.309052         507.278748   \n",
       "1          75.066635       412.738373           103.751839         296.556335   \n",
       "2          29.317993       145.034454            55.945663         101.511681   \n",
       "3           8.029797        75.420166            19.757767          25.098209   \n",
       "4           2.301054        36.892139             9.881513           6.186396   \n",
       "\n",
       "   NSI Quantity  NSI Amount  example_id  \n",
       "0           0.0         0.0           0  \n",
       "1           0.0         0.0           0  \n",
       "2           0.0         0.0           0  \n",
       "3           0.0         0.0           0  \n",
       "4           0.0         0.0           0  "
      ]
     },
     "execution_count": 59,
     "metadata": {},
     "output_type": "execute_result"
    }
   ],
   "source": [
    "with gzip.open(loc+ 'time-series-dgan-Richmond_Chicken.csv.gz') as f:\n",
    "    Richmd_chkn = pd.read_csv(f)\n",
    "\n",
    "Richmd_chkn.head()"
   ]
  },
  {
   "cell_type": "code",
   "execution_count": 60,
   "id": "0be023de",
   "metadata": {},
   "outputs": [],
   "source": [
    "Richmd_chkn['Date']=df_date"
   ]
  },
  {
   "cell_type": "code",
   "execution_count": 61,
   "id": "0ee35a88",
   "metadata": {},
   "outputs": [
    {
     "name": "stderr",
     "output_type": "stream",
     "text": [
      "C:\\Users\\Ramshankar\\anaconda3\\lib\\site-packages\\pandas\\core\\arraylike.py:52: UserWarning: Parsing '30/11/2022' in DD/MM/YYYY format. Provide format or specify infer_datetime_format=True for consistent parsing.\n",
      "  return self._cmp_method(other, operator.le)\n"
     ]
    }
   ],
   "source": [
    "Richmd_chkn = Richmd_chkn[Richmd_chkn['Date'] <= '30/11/2022']"
   ]
  },
  {
   "cell_type": "code",
   "execution_count": 62,
   "id": "e1a81414",
   "metadata": {},
   "outputs": [],
   "source": [
    "Richmd_chkn.to_excel('Output\\\\timeseies_Richmd_chkn.xlsx', index=False)"
   ]
  },
  {
   "cell_type": "markdown",
   "id": "aa019960",
   "metadata": {},
   "source": [
    "### Richmond Drumstick"
   ]
  },
  {
   "cell_type": "code",
   "execution_count": 63,
   "id": "39c97811",
   "metadata": {},
   "outputs": [
    {
     "data": {
      "text/html": [
       "<div>\n",
       "<style scoped>\n",
       "    .dataframe tbody tr th:only-of-type {\n",
       "        vertical-align: middle;\n",
       "    }\n",
       "\n",
       "    .dataframe tbody tr th {\n",
       "        vertical-align: top;\n",
       "    }\n",
       "\n",
       "    .dataframe thead th {\n",
       "        text-align: right;\n",
       "    }\n",
       "</style>\n",
       "<table border=\"1\" class=\"dataframe\">\n",
       "  <thead>\n",
       "    <tr style=\"text-align: right;\">\n",
       "      <th></th>\n",
       "      <th>Date</th>\n",
       "      <th>Location</th>\n",
       "      <th>Item</th>\n",
       "      <th>OH Quantity</th>\n",
       "      <th>OH Amount</th>\n",
       "      <th>On Order Quantity</th>\n",
       "      <th>On Order Amount</th>\n",
       "      <th>In Transit Quantity</th>\n",
       "      <th>In Transit Amount</th>\n",
       "      <th>NSI Quantity</th>\n",
       "      <th>NSI Amount</th>\n",
       "      <th>example_id</th>\n",
       "    </tr>\n",
       "  </thead>\n",
       "  <tbody>\n",
       "    <tr>\n",
       "      <th>0</th>\n",
       "      <td>2020-01-01</td>\n",
       "      <td>RICHMOND CA</td>\n",
       "      <td>DRUMSTICKS NNNN</td>\n",
       "      <td>2030.698242</td>\n",
       "      <td>2190.430420</td>\n",
       "      <td>1973.664429</td>\n",
       "      <td>1685.422119</td>\n",
       "      <td>1537.759888</td>\n",
       "      <td>939.157043</td>\n",
       "      <td>0.0</td>\n",
       "      <td>0.0</td>\n",
       "      <td>0</td>\n",
       "    </tr>\n",
       "    <tr>\n",
       "      <th>1</th>\n",
       "      <td>2020-01-02</td>\n",
       "      <td>RICHMOND CA</td>\n",
       "      <td>DRUMSTICKS NNNN</td>\n",
       "      <td>1591.421631</td>\n",
       "      <td>1819.833374</td>\n",
       "      <td>1112.233765</td>\n",
       "      <td>1217.166992</td>\n",
       "      <td>822.690796</td>\n",
       "      <td>437.542145</td>\n",
       "      <td>0.0</td>\n",
       "      <td>0.0</td>\n",
       "      <td>0</td>\n",
       "    </tr>\n",
       "    <tr>\n",
       "      <th>2</th>\n",
       "      <td>2020-01-03</td>\n",
       "      <td>RICHMOND CA</td>\n",
       "      <td>DRUMSTICKS NNNN</td>\n",
       "      <td>922.111755</td>\n",
       "      <td>1527.571167</td>\n",
       "      <td>706.600647</td>\n",
       "      <td>778.553467</td>\n",
       "      <td>340.315521</td>\n",
       "      <td>98.933617</td>\n",
       "      <td>0.0</td>\n",
       "      <td>0.0</td>\n",
       "      <td>0</td>\n",
       "    </tr>\n",
       "    <tr>\n",
       "      <th>3</th>\n",
       "      <td>2020-01-04</td>\n",
       "      <td>RICHMOND CA</td>\n",
       "      <td>DRUMSTICKS NNNN</td>\n",
       "      <td>645.933472</td>\n",
       "      <td>804.971924</td>\n",
       "      <td>380.387756</td>\n",
       "      <td>362.017670</td>\n",
       "      <td>76.244492</td>\n",
       "      <td>12.607045</td>\n",
       "      <td>0.0</td>\n",
       "      <td>0.0</td>\n",
       "      <td>0</td>\n",
       "    </tr>\n",
       "    <tr>\n",
       "      <th>4</th>\n",
       "      <td>2020-01-14</td>\n",
       "      <td>RICHMOND CA</td>\n",
       "      <td>DRUMSTICKS NNNN</td>\n",
       "      <td>850.249451</td>\n",
       "      <td>867.670837</td>\n",
       "      <td>311.471283</td>\n",
       "      <td>187.906616</td>\n",
       "      <td>30.486931</td>\n",
       "      <td>4.825705</td>\n",
       "      <td>0.0</td>\n",
       "      <td>0.0</td>\n",
       "      <td>0</td>\n",
       "    </tr>\n",
       "  </tbody>\n",
       "</table>\n",
       "</div>"
      ],
      "text/plain": [
       "         Date     Location             Item  OH Quantity    OH Amount  \\\n",
       "0  2020-01-01  RICHMOND CA  DRUMSTICKS NNNN  2030.698242  2190.430420   \n",
       "1  2020-01-02  RICHMOND CA  DRUMSTICKS NNNN  1591.421631  1819.833374   \n",
       "2  2020-01-03  RICHMOND CA  DRUMSTICKS NNNN   922.111755  1527.571167   \n",
       "3  2020-01-04  RICHMOND CA  DRUMSTICKS NNNN   645.933472   804.971924   \n",
       "4  2020-01-14  RICHMOND CA  DRUMSTICKS NNNN   850.249451   867.670837   \n",
       "\n",
       "   On Order Quantity  On Order Amount  In Transit Quantity  In Transit Amount  \\\n",
       "0        1973.664429      1685.422119          1537.759888         939.157043   \n",
       "1        1112.233765      1217.166992           822.690796         437.542145   \n",
       "2         706.600647       778.553467           340.315521          98.933617   \n",
       "3         380.387756       362.017670            76.244492          12.607045   \n",
       "4         311.471283       187.906616            30.486931           4.825705   \n",
       "\n",
       "   NSI Quantity  NSI Amount  example_id  \n",
       "0           0.0         0.0           0  \n",
       "1           0.0         0.0           0  \n",
       "2           0.0         0.0           0  \n",
       "3           0.0         0.0           0  \n",
       "4           0.0         0.0           0  "
      ]
     },
     "execution_count": 63,
     "metadata": {},
     "output_type": "execute_result"
    }
   ],
   "source": [
    "with gzip.open(loc+ 'time-series-dgan-Richmond_drumstick.csv.gz') as f:\n",
    "    Richmd_drum = pd.read_csv(f)\n",
    "\n",
    "Richmd_drum.head()"
   ]
  },
  {
   "cell_type": "code",
   "execution_count": 64,
   "id": "bf2a895f",
   "metadata": {},
   "outputs": [],
   "source": [
    "Richmd_drum['Date']=df_date"
   ]
  },
  {
   "cell_type": "code",
   "execution_count": 65,
   "id": "5c87061a",
   "metadata": {},
   "outputs": [
    {
     "name": "stderr",
     "output_type": "stream",
     "text": [
      "C:\\Users\\Ramshankar\\anaconda3\\lib\\site-packages\\pandas\\core\\arraylike.py:52: UserWarning: Parsing '30/11/2022' in DD/MM/YYYY format. Provide format or specify infer_datetime_format=True for consistent parsing.\n",
      "  return self._cmp_method(other, operator.le)\n"
     ]
    }
   ],
   "source": [
    "Richmd_drum = Richmd_drum[Richmd_drum['Date'] <= '30/11/2022']"
   ]
  },
  {
   "cell_type": "code",
   "execution_count": 66,
   "id": "3ce3295e",
   "metadata": {},
   "outputs": [],
   "source": [
    "Richmd_drum.to_excel('Output\\\\timeseies_Richmd_drum.xlsx', index=False)"
   ]
  },
  {
   "cell_type": "markdown",
   "id": "e2f965d4",
   "metadata": {},
   "source": [
    "### Richmond fillet "
   ]
  },
  {
   "cell_type": "code",
   "execution_count": 67,
   "id": "24d1fa28",
   "metadata": {},
   "outputs": [
    {
     "data": {
      "text/html": [
       "<div>\n",
       "<style scoped>\n",
       "    .dataframe tbody tr th:only-of-type {\n",
       "        vertical-align: middle;\n",
       "    }\n",
       "\n",
       "    .dataframe tbody tr th {\n",
       "        vertical-align: top;\n",
       "    }\n",
       "\n",
       "    .dataframe thead th {\n",
       "        text-align: right;\n",
       "    }\n",
       "</style>\n",
       "<table border=\"1\" class=\"dataframe\">\n",
       "  <thead>\n",
       "    <tr style=\"text-align: right;\">\n",
       "      <th></th>\n",
       "      <th>Date</th>\n",
       "      <th>Location</th>\n",
       "      <th>Item</th>\n",
       "      <th>OH Quantity</th>\n",
       "      <th>OH Amount</th>\n",
       "      <th>On Order Quantity</th>\n",
       "      <th>On Order Amount</th>\n",
       "      <th>In Transit Quantity</th>\n",
       "      <th>In Transit Amount</th>\n",
       "      <th>NSI Quantity</th>\n",
       "      <th>NSI Amount</th>\n",
       "    </tr>\n",
       "  </thead>\n",
       "  <tbody>\n",
       "    <tr>\n",
       "      <th>0</th>\n",
       "      <td>2020-05-12</td>\n",
       "      <td>RICHMOND CA</td>\n",
       "      <td>FILLET QQQQ</td>\n",
       "      <td>2</td>\n",
       "      <td>7.49</td>\n",
       "      <td>0</td>\n",
       "      <td>0.0</td>\n",
       "      <td>0</td>\n",
       "      <td>0.0</td>\n",
       "      <td>0</td>\n",
       "      <td>0</td>\n",
       "    </tr>\n",
       "    <tr>\n",
       "      <th>1</th>\n",
       "      <td>2020-06-08</td>\n",
       "      <td>RICHMOND CA</td>\n",
       "      <td>FILLET QQQQ</td>\n",
       "      <td>4</td>\n",
       "      <td>7.49</td>\n",
       "      <td>0</td>\n",
       "      <td>0.0</td>\n",
       "      <td>0</td>\n",
       "      <td>0.0</td>\n",
       "      <td>0</td>\n",
       "      <td>0</td>\n",
       "    </tr>\n",
       "    <tr>\n",
       "      <th>2</th>\n",
       "      <td>2020-04-20</td>\n",
       "      <td>RICHMOND CA</td>\n",
       "      <td>FILLET QQQQ</td>\n",
       "      <td>2</td>\n",
       "      <td>40.10</td>\n",
       "      <td>0</td>\n",
       "      <td>0.0</td>\n",
       "      <td>0</td>\n",
       "      <td>0.0</td>\n",
       "      <td>0</td>\n",
       "      <td>0</td>\n",
       "    </tr>\n",
       "    <tr>\n",
       "      <th>3</th>\n",
       "      <td>2020-01-28</td>\n",
       "      <td>RICHMOND CA</td>\n",
       "      <td>FILLET QQQQ</td>\n",
       "      <td>41</td>\n",
       "      <td>314.58</td>\n",
       "      <td>0</td>\n",
       "      <td>0.0</td>\n",
       "      <td>0</td>\n",
       "      <td>0.0</td>\n",
       "      <td>0</td>\n",
       "      <td>0</td>\n",
       "    </tr>\n",
       "    <tr>\n",
       "      <th>4</th>\n",
       "      <td>2020-01-22</td>\n",
       "      <td>RICHMOND CA</td>\n",
       "      <td>FILLET QQQQ</td>\n",
       "      <td>3</td>\n",
       "      <td>28.62</td>\n",
       "      <td>0</td>\n",
       "      <td>0.0</td>\n",
       "      <td>0</td>\n",
       "      <td>0.0</td>\n",
       "      <td>0</td>\n",
       "      <td>0</td>\n",
       "    </tr>\n",
       "  </tbody>\n",
       "</table>\n",
       "</div>"
      ],
      "text/plain": [
       "         Date     Location         Item  OH Quantity  OH Amount  \\\n",
       "0  2020-05-12  RICHMOND CA  FILLET QQQQ            2       7.49   \n",
       "1  2020-06-08  RICHMOND CA  FILLET QQQQ            4       7.49   \n",
       "2  2020-04-20  RICHMOND CA  FILLET QQQQ            2      40.10   \n",
       "3  2020-01-28  RICHMOND CA  FILLET QQQQ           41     314.58   \n",
       "4  2020-01-22  RICHMOND CA  FILLET QQQQ            3      28.62   \n",
       "\n",
       "   On Order Quantity  On Order Amount  In Transit Quantity  In Transit Amount  \\\n",
       "0                  0              0.0                    0                0.0   \n",
       "1                  0              0.0                    0                0.0   \n",
       "2                  0              0.0                    0                0.0   \n",
       "3                  0              0.0                    0                0.0   \n",
       "4                  0              0.0                    0                0.0   \n",
       "\n",
       "   NSI Quantity  NSI Amount  \n",
       "0             0           0  \n",
       "1             0           0  \n",
       "2             0           0  \n",
       "3             0           0  \n",
       "4             0           0  "
      ]
     },
     "execution_count": 67,
     "metadata": {},
     "output_type": "execute_result"
    }
   ],
   "source": [
    "with gzip.open(loc+ 'low-record-count-Richmond_fillet.csv.gz') as f:\n",
    "    Richmd_fillet = pd.read_csv(f)\n",
    "\n",
    "Richmd_fillet.head()"
   ]
  },
  {
   "cell_type": "code",
   "execution_count": 68,
   "id": "c9d244d3",
   "metadata": {},
   "outputs": [],
   "source": [
    "Richmd_fillet['Date']=df_date"
   ]
  },
  {
   "cell_type": "code",
   "execution_count": 69,
   "id": "536e2178",
   "metadata": {},
   "outputs": [
    {
     "name": "stderr",
     "output_type": "stream",
     "text": [
      "C:\\Users\\Ramshankar\\anaconda3\\lib\\site-packages\\pandas\\core\\arraylike.py:52: UserWarning: Parsing '30/11/2022' in DD/MM/YYYY format. Provide format or specify infer_datetime_format=True for consistent parsing.\n",
      "  return self._cmp_method(other, operator.le)\n"
     ]
    }
   ],
   "source": [
    "Richmd_fillet = Richmd_fillet[Richmd_fillet['Date'] <= '30/11/2022']"
   ]
  },
  {
   "cell_type": "code",
   "execution_count": 71,
   "id": "973c0a8b",
   "metadata": {},
   "outputs": [],
   "source": [
    "Richmd_fillet.to_excel('Output\\\\timeseies_Richmd_fillet.xlsx', index=False)"
   ]
  },
  {
   "cell_type": "markdown",
   "id": "cb6e573a",
   "metadata": {},
   "source": [
    "### Sanfrancisco Beef"
   ]
  },
  {
   "cell_type": "code",
   "execution_count": 72,
   "id": "51777e57",
   "metadata": {},
   "outputs": [
    {
     "data": {
      "text/html": [
       "<div>\n",
       "<style scoped>\n",
       "    .dataframe tbody tr th:only-of-type {\n",
       "        vertical-align: middle;\n",
       "    }\n",
       "\n",
       "    .dataframe tbody tr th {\n",
       "        vertical-align: top;\n",
       "    }\n",
       "\n",
       "    .dataframe thead th {\n",
       "        text-align: right;\n",
       "    }\n",
       "</style>\n",
       "<table border=\"1\" class=\"dataframe\">\n",
       "  <thead>\n",
       "    <tr style=\"text-align: right;\">\n",
       "      <th></th>\n",
       "      <th>Date</th>\n",
       "      <th>Location</th>\n",
       "      <th>Item</th>\n",
       "      <th>OH Quantity</th>\n",
       "      <th>OH Amount</th>\n",
       "      <th>On Order Quantity</th>\n",
       "      <th>On Order Amount</th>\n",
       "      <th>In Transit Quantity</th>\n",
       "      <th>In Transit Amount</th>\n",
       "      <th>NSI Quantity</th>\n",
       "      <th>NSI Amount</th>\n",
       "      <th>example_id</th>\n",
       "    </tr>\n",
       "  </thead>\n",
       "  <tbody>\n",
       "    <tr>\n",
       "      <th>0</th>\n",
       "      <td>2020-01-01</td>\n",
       "      <td>S SAN FRANCISCO BUS CTR</td>\n",
       "      <td>BEEF OOOO - GT</td>\n",
       "      <td>976.756287</td>\n",
       "      <td>2306.921143</td>\n",
       "      <td>0.0</td>\n",
       "      <td>0.0</td>\n",
       "      <td>0.0</td>\n",
       "      <td>0.0</td>\n",
       "      <td>0.0</td>\n",
       "      <td>0.0</td>\n",
       "      <td>0</td>\n",
       "    </tr>\n",
       "    <tr>\n",
       "      <th>1</th>\n",
       "      <td>2020-01-02</td>\n",
       "      <td>S SAN FRANCISCO BUS CTR</td>\n",
       "      <td>BEEF OOOO - GT</td>\n",
       "      <td>878.714844</td>\n",
       "      <td>1940.421143</td>\n",
       "      <td>0.0</td>\n",
       "      <td>0.0</td>\n",
       "      <td>0.0</td>\n",
       "      <td>0.0</td>\n",
       "      <td>0.0</td>\n",
       "      <td>0.0</td>\n",
       "      <td>0</td>\n",
       "    </tr>\n",
       "    <tr>\n",
       "      <th>2</th>\n",
       "      <td>2020-01-03</td>\n",
       "      <td>S SAN FRANCISCO BUS CTR</td>\n",
       "      <td>BEEF OOOO - GT</td>\n",
       "      <td>550.931030</td>\n",
       "      <td>1341.071167</td>\n",
       "      <td>0.0</td>\n",
       "      <td>0.0</td>\n",
       "      <td>0.0</td>\n",
       "      <td>0.0</td>\n",
       "      <td>0.0</td>\n",
       "      <td>0.0</td>\n",
       "      <td>0</td>\n",
       "    </tr>\n",
       "    <tr>\n",
       "      <th>3</th>\n",
       "      <td>2020-01-04</td>\n",
       "      <td>S SAN FRANCISCO BUS CTR</td>\n",
       "      <td>BEEF OOOO - GT</td>\n",
       "      <td>415.554901</td>\n",
       "      <td>947.103394</td>\n",
       "      <td>0.0</td>\n",
       "      <td>0.0</td>\n",
       "      <td>0.0</td>\n",
       "      <td>0.0</td>\n",
       "      <td>0.0</td>\n",
       "      <td>0.0</td>\n",
       "      <td>0</td>\n",
       "    </tr>\n",
       "    <tr>\n",
       "      <th>4</th>\n",
       "      <td>2020-01-05</td>\n",
       "      <td>S SAN FRANCISCO BUS CTR</td>\n",
       "      <td>BEEF OOOO - GT</td>\n",
       "      <td>300.575195</td>\n",
       "      <td>844.023987</td>\n",
       "      <td>0.0</td>\n",
       "      <td>0.0</td>\n",
       "      <td>0.0</td>\n",
       "      <td>0.0</td>\n",
       "      <td>0.0</td>\n",
       "      <td>0.0</td>\n",
       "      <td>0</td>\n",
       "    </tr>\n",
       "  </tbody>\n",
       "</table>\n",
       "</div>"
      ],
      "text/plain": [
       "         Date                 Location            Item  OH Quantity  \\\n",
       "0  2020-01-01  S SAN FRANCISCO BUS CTR  BEEF OOOO - GT   976.756287   \n",
       "1  2020-01-02  S SAN FRANCISCO BUS CTR  BEEF OOOO - GT   878.714844   \n",
       "2  2020-01-03  S SAN FRANCISCO BUS CTR  BEEF OOOO - GT   550.931030   \n",
       "3  2020-01-04  S SAN FRANCISCO BUS CTR  BEEF OOOO - GT   415.554901   \n",
       "4  2020-01-05  S SAN FRANCISCO BUS CTR  BEEF OOOO - GT   300.575195   \n",
       "\n",
       "     OH Amount  On Order Quantity  On Order Amount  In Transit Quantity  \\\n",
       "0  2306.921143                0.0              0.0                  0.0   \n",
       "1  1940.421143                0.0              0.0                  0.0   \n",
       "2  1341.071167                0.0              0.0                  0.0   \n",
       "3   947.103394                0.0              0.0                  0.0   \n",
       "4   844.023987                0.0              0.0                  0.0   \n",
       "\n",
       "   In Transit Amount  NSI Quantity  NSI Amount  example_id  \n",
       "0                0.0           0.0         0.0           0  \n",
       "1                0.0           0.0         0.0           0  \n",
       "2                0.0           0.0         0.0           0  \n",
       "3                0.0           0.0         0.0           0  \n",
       "4                0.0           0.0         0.0           0  "
      ]
     },
     "execution_count": 72,
     "metadata": {},
     "output_type": "execute_result"
    }
   ],
   "source": [
    "with gzip.open(loc+ 'time-series-dgan-Sanfrancisco_Beef.csv.gz') as f:\n",
    "    San_Beef = pd.read_csv(f)\n",
    "\n",
    "San_Beef.head()"
   ]
  },
  {
   "cell_type": "code",
   "execution_count": 73,
   "id": "83be1ba5",
   "metadata": {},
   "outputs": [],
   "source": [
    "San_Beef['Date']=df_date"
   ]
  },
  {
   "cell_type": "code",
   "execution_count": 74,
   "id": "23154633",
   "metadata": {},
   "outputs": [
    {
     "name": "stderr",
     "output_type": "stream",
     "text": [
      "C:\\Users\\Ramshankar\\anaconda3\\lib\\site-packages\\pandas\\core\\arraylike.py:52: UserWarning: Parsing '30/11/2022' in DD/MM/YYYY format. Provide format or specify infer_datetime_format=True for consistent parsing.\n",
      "  return self._cmp_method(other, operator.le)\n"
     ]
    }
   ],
   "source": [
    "San_Beef = San_Beef[San_Beef['Date'] <= '30/11/2022']"
   ]
  },
  {
   "cell_type": "code",
   "execution_count": 75,
   "id": "42c1cfc4",
   "metadata": {},
   "outputs": [],
   "source": [
    "San_Beef.to_excel('Output\\\\timeseies_San_Beef.xlsx', index=False)"
   ]
  },
  {
   "cell_type": "markdown",
   "id": "1e7e67bf",
   "metadata": {},
   "source": [
    "### San Francisco Drumstick"
   ]
  },
  {
   "cell_type": "code",
   "execution_count": 76,
   "id": "00c1d61d",
   "metadata": {},
   "outputs": [
    {
     "data": {
      "text/html": [
       "<div>\n",
       "<style scoped>\n",
       "    .dataframe tbody tr th:only-of-type {\n",
       "        vertical-align: middle;\n",
       "    }\n",
       "\n",
       "    .dataframe tbody tr th {\n",
       "        vertical-align: top;\n",
       "    }\n",
       "\n",
       "    .dataframe thead th {\n",
       "        text-align: right;\n",
       "    }\n",
       "</style>\n",
       "<table border=\"1\" class=\"dataframe\">\n",
       "  <thead>\n",
       "    <tr style=\"text-align: right;\">\n",
       "      <th></th>\n",
       "      <th>Date</th>\n",
       "      <th>Location</th>\n",
       "      <th>Item</th>\n",
       "      <th>OH Quantity</th>\n",
       "      <th>OH Amount</th>\n",
       "      <th>On Order Quantity</th>\n",
       "      <th>On Order Amount</th>\n",
       "      <th>In Transit Quantity</th>\n",
       "      <th>In Transit Amount</th>\n",
       "      <th>NSI Quantity</th>\n",
       "      <th>NSI Amount</th>\n",
       "      <th>example_id</th>\n",
       "    </tr>\n",
       "  </thead>\n",
       "  <tbody>\n",
       "    <tr>\n",
       "      <th>0</th>\n",
       "      <td>2020-01-01</td>\n",
       "      <td>S SAN FRANCISCO BUS CTR</td>\n",
       "      <td>DRUMSTICKS NNNN</td>\n",
       "      <td>272.520081</td>\n",
       "      <td>234.250580</td>\n",
       "      <td>279.449432</td>\n",
       "      <td>239.036133</td>\n",
       "      <td>286.070068</td>\n",
       "      <td>251.546204</td>\n",
       "      <td>0.0</td>\n",
       "      <td>0.0</td>\n",
       "      <td>0</td>\n",
       "    </tr>\n",
       "    <tr>\n",
       "      <th>1</th>\n",
       "      <td>2020-01-01</td>\n",
       "      <td>S SAN FRANCISCO BUS CTR</td>\n",
       "      <td>DRUMSTICKS NNNN</td>\n",
       "      <td>151.952469</td>\n",
       "      <td>153.083969</td>\n",
       "      <td>136.001328</td>\n",
       "      <td>107.854362</td>\n",
       "      <td>133.894928</td>\n",
       "      <td>131.390121</td>\n",
       "      <td>0.0</td>\n",
       "      <td>0.0</td>\n",
       "      <td>0</td>\n",
       "    </tr>\n",
       "    <tr>\n",
       "      <th>2</th>\n",
       "      <td>2020-01-02</td>\n",
       "      <td>S SAN FRANCISCO BUS CTR</td>\n",
       "      <td>DRUMSTICKS NNNN</td>\n",
       "      <td>46.899086</td>\n",
       "      <td>48.762711</td>\n",
       "      <td>19.246477</td>\n",
       "      <td>15.902808</td>\n",
       "      <td>22.224028</td>\n",
       "      <td>28.433535</td>\n",
       "      <td>0.0</td>\n",
       "      <td>0.0</td>\n",
       "      <td>0</td>\n",
       "    </tr>\n",
       "    <tr>\n",
       "      <th>3</th>\n",
       "      <td>2020-01-02</td>\n",
       "      <td>S SAN FRANCISCO BUS CTR</td>\n",
       "      <td>DRUMSTICKS NNNN</td>\n",
       "      <td>6.405241</td>\n",
       "      <td>6.266228</td>\n",
       "      <td>1.108576</td>\n",
       "      <td>0.759686</td>\n",
       "      <td>0.760284</td>\n",
       "      <td>1.481281</td>\n",
       "      <td>0.0</td>\n",
       "      <td>0.0</td>\n",
       "      <td>0</td>\n",
       "    </tr>\n",
       "    <tr>\n",
       "      <th>4</th>\n",
       "      <td>2020-01-03</td>\n",
       "      <td>S SAN FRANCISCO BUS CTR</td>\n",
       "      <td>DRUMSTICKS NNNN</td>\n",
       "      <td>1.429529</td>\n",
       "      <td>1.627950</td>\n",
       "      <td>0.054937</td>\n",
       "      <td>0.034762</td>\n",
       "      <td>0.028787</td>\n",
       "      <td>0.101156</td>\n",
       "      <td>0.0</td>\n",
       "      <td>0.0</td>\n",
       "      <td>0</td>\n",
       "    </tr>\n",
       "  </tbody>\n",
       "</table>\n",
       "</div>"
      ],
      "text/plain": [
       "         Date                 Location             Item  OH Quantity  \\\n",
       "0  2020-01-01  S SAN FRANCISCO BUS CTR  DRUMSTICKS NNNN   272.520081   \n",
       "1  2020-01-01  S SAN FRANCISCO BUS CTR  DRUMSTICKS NNNN   151.952469   \n",
       "2  2020-01-02  S SAN FRANCISCO BUS CTR  DRUMSTICKS NNNN    46.899086   \n",
       "3  2020-01-02  S SAN FRANCISCO BUS CTR  DRUMSTICKS NNNN     6.405241   \n",
       "4  2020-01-03  S SAN FRANCISCO BUS CTR  DRUMSTICKS NNNN     1.429529   \n",
       "\n",
       "    OH Amount  On Order Quantity  On Order Amount  In Transit Quantity  \\\n",
       "0  234.250580         279.449432       239.036133           286.070068   \n",
       "1  153.083969         136.001328       107.854362           133.894928   \n",
       "2   48.762711          19.246477        15.902808            22.224028   \n",
       "3    6.266228           1.108576         0.759686             0.760284   \n",
       "4    1.627950           0.054937         0.034762             0.028787   \n",
       "\n",
       "   In Transit Amount  NSI Quantity  NSI Amount  example_id  \n",
       "0         251.546204           0.0         0.0           0  \n",
       "1         131.390121           0.0         0.0           0  \n",
       "2          28.433535           0.0         0.0           0  \n",
       "3           1.481281           0.0         0.0           0  \n",
       "4           0.101156           0.0         0.0           0  "
      ]
     },
     "execution_count": 76,
     "metadata": {},
     "output_type": "execute_result"
    }
   ],
   "source": [
    "with gzip.open(loc+ 'time-series-dgan-Sanfranciso_drumstick.csv.gz') as f:\n",
    "    San_drum = pd.read_csv(f)\n",
    "\n",
    "San_drum.head()"
   ]
  },
  {
   "cell_type": "code",
   "execution_count": 77,
   "id": "e653af90",
   "metadata": {},
   "outputs": [],
   "source": [
    "San_drum['Date']=df_date"
   ]
  },
  {
   "cell_type": "code",
   "execution_count": 78,
   "id": "f506c006",
   "metadata": {},
   "outputs": [
    {
     "name": "stderr",
     "output_type": "stream",
     "text": [
      "C:\\Users\\Ramshankar\\anaconda3\\lib\\site-packages\\pandas\\core\\arraylike.py:52: UserWarning: Parsing '30/11/2022' in DD/MM/YYYY format. Provide format or specify infer_datetime_format=True for consistent parsing.\n",
      "  return self._cmp_method(other, operator.le)\n"
     ]
    }
   ],
   "source": [
    "San_drum = San_drum[San_drum['Date'] <= '30/11/2022']"
   ]
  },
  {
   "cell_type": "code",
   "execution_count": 79,
   "id": "868baf72",
   "metadata": {},
   "outputs": [],
   "source": [
    "San_drum.to_excel('Output\\\\timeseies_San_drum.xlsx', index=False)"
   ]
  },
  {
   "cell_type": "markdown",
   "id": "8ee6e590",
   "metadata": {},
   "source": [
    "### Merging all in one "
   ]
  },
  {
   "cell_type": "code",
   "execution_count": 80,
   "id": "ee94bd61",
   "metadata": {},
   "outputs": [],
   "source": [
    "import pandas as pd\n",
    "import os\n",
    "import glob"
   ]
  },
  {
   "cell_type": "code",
   "execution_count": 85,
   "id": "85638cee",
   "metadata": {},
   "outputs": [],
   "source": [
    "\n",
    "path = 'C:\\\\Users\\\\Ramshankar\\\\OneDrive - iLink Systems Inc\\\\Documents\\\\Costco\\\\Code\\\\Output'\n",
    "out_files = glob.glob(os.path.join(path, \"*.xlsx\"))\n",
    "   \n",
    "dfs= []\n",
    "\n",
    "\n",
    "for f in out_files:\n",
    "    dfs.append(pd.read_excel(f))\n",
    "df_inventory =pd.concat(dfs, ignore_index=True)\n"
   ]
  },
  {
   "cell_type": "code",
   "execution_count": 88,
   "id": "09712093",
   "metadata": {},
   "outputs": [
    {
     "data": {
      "text/plain": [
       "(14910, 12)"
      ]
     },
     "execution_count": 88,
     "metadata": {},
     "output_type": "execute_result"
    }
   ],
   "source": [
    "df_inventory.shape"
   ]
  },
  {
   "cell_type": "code",
   "execution_count": 89,
   "id": "165f440a",
   "metadata": {},
   "outputs": [],
   "source": [
    "df_inventory.to_excel('Combined_Invtry_Genrted_dt_3ys.xlsx', index=False)"
   ]
  },
  {
   "cell_type": "code",
   "execution_count": null,
   "id": "7b85a19d",
   "metadata": {},
   "outputs": [],
   "source": []
  }
 ],
 "metadata": {
  "kernelspec": {
   "display_name": "Python 3 (ipykernel)",
   "language": "python",
   "name": "python3"
  },
  "language_info": {
   "codemirror_mode": {
    "name": "ipython",
    "version": 3
   },
   "file_extension": ".py",
   "mimetype": "text/x-python",
   "name": "python",
   "nbconvert_exporter": "python",
   "pygments_lexer": "ipython3",
   "version": "3.9.12"
  }
 },
 "nbformat": 4,
 "nbformat_minor": 5
}
