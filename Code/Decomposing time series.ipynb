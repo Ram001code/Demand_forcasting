{
 "cells": [
  {
   "cell_type": "code",
   "execution_count": 61,
   "id": "65fa4bb0",
   "metadata": {},
   "outputs": [],
   "source": [
    "import pandas as pd\n",
    "import numpy as np\n",
    "\n"
   ]
  },
  {
   "cell_type": "code",
   "execution_count": 62,
   "id": "0e740353",
   "metadata": {},
   "outputs": [
    {
     "data": {
      "text/html": [
       "<div>\n",
       "<style scoped>\n",
       "    .dataframe tbody tr th:only-of-type {\n",
       "        vertical-align: middle;\n",
       "    }\n",
       "\n",
       "    .dataframe tbody tr th {\n",
       "        vertical-align: top;\n",
       "    }\n",
       "\n",
       "    .dataframe thead th {\n",
       "        text-align: right;\n",
       "    }\n",
       "</style>\n",
       "<table border=\"1\" class=\"dataframe\">\n",
       "  <thead>\n",
       "    <tr style=\"text-align: right;\">\n",
       "      <th></th>\n",
       "      <th>Date</th>\n",
       "      <th>Country</th>\n",
       "      <th>State</th>\n",
       "      <th>Region</th>\n",
       "      <th>District</th>\n",
       "      <th>Location</th>\n",
       "      <th>Major Department</th>\n",
       "      <th>Department</th>\n",
       "      <th>Category</th>\n",
       "      <th>Group</th>\n",
       "      <th>Item Category</th>\n",
       "      <th>Item</th>\n",
       "      <th>Quantity</th>\n",
       "      <th>Amount</th>\n",
       "    </tr>\n",
       "  </thead>\n",
       "  <tbody>\n",
       "    <tr>\n",
       "      <th>0</th>\n",
       "      <td>2020-01-02</td>\n",
       "      <td>US</td>\n",
       "      <td>CA</td>\n",
       "      <td>LA REGION</td>\n",
       "      <td>LA3</td>\n",
       "      <td>LAKEWOOD</td>\n",
       "      <td>FRESH FOOD</td>\n",
       "      <td>61 MEAT</td>\n",
       "      <td>6 MEAT</td>\n",
       "      <td>64 POULTRY</td>\n",
       "      <td>640 CONVENTIONAL CHICKEN</td>\n",
       "      <td>DRUMSTICKS NNNN</td>\n",
       "      <td>172.55461</td>\n",
       "      <td>205.34</td>\n",
       "    </tr>\n",
       "    <tr>\n",
       "      <th>1</th>\n",
       "      <td>2020-01-02</td>\n",
       "      <td>US</td>\n",
       "      <td>CA</td>\n",
       "      <td>LA REGION</td>\n",
       "      <td>LA3</td>\n",
       "      <td>LAKEWOOD</td>\n",
       "      <td>FRESH FOOD</td>\n",
       "      <td>61 MEAT</td>\n",
       "      <td>6 MEAT</td>\n",
       "      <td>64 POULTRY</td>\n",
       "      <td>645 CHICKEN XXXXX - O</td>\n",
       "      <td>CHICKEN XXXXX - O</td>\n",
       "      <td>45.85170</td>\n",
       "      <td>228.80</td>\n",
       "    </tr>\n",
       "    <tr>\n",
       "      <th>2</th>\n",
       "      <td>2020-01-02</td>\n",
       "      <td>US</td>\n",
       "      <td>CA</td>\n",
       "      <td>BAY AREA</td>\n",
       "      <td>BA3</td>\n",
       "      <td>HAYWARD</td>\n",
       "      <td>FRESH FOOD</td>\n",
       "      <td>61 MEAT</td>\n",
       "      <td>6 MEAT</td>\n",
       "      <td>68 SEAFOOD</td>\n",
       "      <td>680 FRESH FISH FILLETS</td>\n",
       "      <td>FILLET QQQQ</td>\n",
       "      <td>60.41915</td>\n",
       "      <td>422.33</td>\n",
       "    </tr>\n",
       "    <tr>\n",
       "      <th>3</th>\n",
       "      <td>2020-01-02</td>\n",
       "      <td>US</td>\n",
       "      <td>CA</td>\n",
       "      <td>LA REGION</td>\n",
       "      <td>LA3</td>\n",
       "      <td>LAKEWOOD</td>\n",
       "      <td>FRESH FOOD</td>\n",
       "      <td>61 MEAT</td>\n",
       "      <td>6 MEAT</td>\n",
       "      <td>68 SEAFOOD</td>\n",
       "      <td>680 FRESH FISH FILLETS</td>\n",
       "      <td>FILLET QQQQ</td>\n",
       "      <td>36.49069</td>\n",
       "      <td>255.07</td>\n",
       "    </tr>\n",
       "    <tr>\n",
       "      <th>4</th>\n",
       "      <td>2020-01-02</td>\n",
       "      <td>US</td>\n",
       "      <td>CA</td>\n",
       "      <td>BAY AREA</td>\n",
       "      <td>BA3</td>\n",
       "      <td>HAYWARD</td>\n",
       "      <td>FRESH FOOD</td>\n",
       "      <td>61 MEAT</td>\n",
       "      <td>6 MEAT</td>\n",
       "      <td>64 POULTRY</td>\n",
       "      <td>645 CHICKEN XXXXX - O</td>\n",
       "      <td>CHICKEN XXXXX - O</td>\n",
       "      <td>90.86774</td>\n",
       "      <td>453.43</td>\n",
       "    </tr>\n",
       "  </tbody>\n",
       "</table>\n",
       "</div>"
      ],
      "text/plain": [
       "        Date Country State     Region District  Location Major Department  \\\n",
       "0 2020-01-02      US    CA  LA REGION      LA3  LAKEWOOD       FRESH FOOD   \n",
       "1 2020-01-02      US    CA  LA REGION      LA3  LAKEWOOD       FRESH FOOD   \n",
       "2 2020-01-02      US    CA   BAY AREA      BA3   HAYWARD       FRESH FOOD   \n",
       "3 2020-01-02      US    CA  LA REGION      LA3  LAKEWOOD       FRESH FOOD   \n",
       "4 2020-01-02      US    CA   BAY AREA      BA3   HAYWARD       FRESH FOOD   \n",
       "\n",
       "  Department Category       Group             Item Category  \\\n",
       "0    61 MEAT   6 MEAT  64 POULTRY  640 CONVENTIONAL CHICKEN   \n",
       "1    61 MEAT   6 MEAT  64 POULTRY     645 CHICKEN XXXXX - O   \n",
       "2    61 MEAT   6 MEAT  68 SEAFOOD    680 FRESH FISH FILLETS   \n",
       "3    61 MEAT   6 MEAT  68 SEAFOOD    680 FRESH FISH FILLETS   \n",
       "4    61 MEAT   6 MEAT  64 POULTRY     645 CHICKEN XXXXX - O   \n",
       "\n",
       "                Item   Quantity  Amount  \n",
       "0    DRUMSTICKS NNNN  172.55461  205.34  \n",
       "1  CHICKEN XXXXX - O   45.85170  228.80  \n",
       "2        FILLET QQQQ   60.41915  422.33  \n",
       "3        FILLET QQQQ   36.49069  255.07  \n",
       "4  CHICKEN XXXXX - O   90.86774  453.43  "
      ]
     },
     "execution_count": 62,
     "metadata": {},
     "output_type": "execute_result"
    }
   ],
   "source": [
    "loc= 'C:\\\\Users\\\\Ramshankar\\\\OneDrive - iLink Systems Inc\\\\Documents\\\\Costco\\\\Dataset\\\\'\n",
    "\n",
    "\n",
    "data= pd.read_excel(loc + 'combine_data20-22.xlsx', index_col=False)\n",
    "data.head()"
   ]
  },
  {
   "cell_type": "code",
   "execution_count": 63,
   "id": "b785d612",
   "metadata": {},
   "outputs": [
    {
     "data": {
      "text/plain": [
       "(12456, 14)"
      ]
     },
     "execution_count": 63,
     "metadata": {},
     "output_type": "execute_result"
    }
   ],
   "source": [
    "data.shape"
   ]
  },
  {
   "cell_type": "code",
   "execution_count": 122,
   "id": "f6e29eda",
   "metadata": {},
   "outputs": [],
   "source": [
    "import copy\n",
    "data_df= copy.deepcopy(data)"
   ]
  },
  {
   "cell_type": "code",
   "execution_count": 123,
   "id": "071f577e",
   "metadata": {},
   "outputs": [],
   "source": [
    "data_df= data_df[['Date', 'Location', 'Item', 'Quantity']]"
   ]
  },
  {
   "cell_type": "code",
   "execution_count": 124,
   "id": "e75bbcd7",
   "metadata": {},
   "outputs": [
    {
     "data": {
      "text/plain": [
       "array(['LAKEWOOD', 'HAYWARD', 'FREMONT', 'S SAN FRANCISCO BUS CTR',\n",
       "       'RICHMOND CA'], dtype=object)"
      ]
     },
     "execution_count": 124,
     "metadata": {},
     "output_type": "execute_result"
    }
   ],
   "source": [
    "data_df['Location'].unique()"
   ]
  },
  {
   "cell_type": "code",
   "execution_count": 125,
   "id": "be2a6979",
   "metadata": {},
   "outputs": [
    {
     "data": {
      "text/plain": [
       "array(['DRUMSTICKS NNNN', 'CHICKEN XXXXX - O', 'FILLET QQQQ',\n",
       "       'BEEF OOOO - GT'], dtype=object)"
      ]
     },
     "execution_count": 125,
     "metadata": {},
     "output_type": "execute_result"
    }
   ],
   "source": [
    "data_df['Item'].unique()"
   ]
  },
  {
   "cell_type": "code",
   "execution_count": 126,
   "id": "bf1e09af",
   "metadata": {},
   "outputs": [],
   "source": [
    "data_df2 = data_df[(data_df['Location']== 'FREMONT') & (data_df['Item']== 'CHICKEN XXXXX - O')]"
   ]
  },
  {
   "cell_type": "code",
   "execution_count": 127,
   "id": "5c53825d",
   "metadata": {},
   "outputs": [
    {
     "data": {
      "text/html": [
       "<div>\n",
       "<style scoped>\n",
       "    .dataframe tbody tr th:only-of-type {\n",
       "        vertical-align: middle;\n",
       "    }\n",
       "\n",
       "    .dataframe tbody tr th {\n",
       "        vertical-align: top;\n",
       "    }\n",
       "\n",
       "    .dataframe thead th {\n",
       "        text-align: right;\n",
       "    }\n",
       "</style>\n",
       "<table border=\"1\" class=\"dataframe\">\n",
       "  <thead>\n",
       "    <tr style=\"text-align: right;\">\n",
       "      <th></th>\n",
       "      <th>Date</th>\n",
       "      <th>Location</th>\n",
       "      <th>Item</th>\n",
       "      <th>Quantity</th>\n",
       "    </tr>\n",
       "  </thead>\n",
       "  <tbody>\n",
       "    <tr>\n",
       "      <th>9</th>\n",
       "      <td>2020-01-02</td>\n",
       "      <td>FREMONT</td>\n",
       "      <td>CHICKEN XXXXX - O</td>\n",
       "      <td>29.42886</td>\n",
       "    </tr>\n",
       "    <tr>\n",
       "      <th>20</th>\n",
       "      <td>2020-01-03</td>\n",
       "      <td>FREMONT</td>\n",
       "      <td>CHICKEN XXXXX - O</td>\n",
       "      <td>22.31062</td>\n",
       "    </tr>\n",
       "    <tr>\n",
       "      <th>44</th>\n",
       "      <td>2020-01-05</td>\n",
       "      <td>FREMONT</td>\n",
       "      <td>CHICKEN XXXXX - O</td>\n",
       "      <td>59.33066</td>\n",
       "    </tr>\n",
       "    <tr>\n",
       "      <th>48</th>\n",
       "      <td>2020-01-06</td>\n",
       "      <td>FREMONT</td>\n",
       "      <td>CHICKEN XXXXX - O</td>\n",
       "      <td>66.10422</td>\n",
       "    </tr>\n",
       "    <tr>\n",
       "      <th>57</th>\n",
       "      <td>2020-01-07</td>\n",
       "      <td>FREMONT</td>\n",
       "      <td>CHICKEN XXXXX - O</td>\n",
       "      <td>10.24048</td>\n",
       "    </tr>\n",
       "    <tr>\n",
       "      <th>...</th>\n",
       "      <td>...</td>\n",
       "      <td>...</td>\n",
       "      <td>...</td>\n",
       "      <td>...</td>\n",
       "    </tr>\n",
       "    <tr>\n",
       "      <th>12403</th>\n",
       "      <td>2022-11-22</td>\n",
       "      <td>FREMONT</td>\n",
       "      <td>CHICKEN XXXXX - O</td>\n",
       "      <td>40.54925</td>\n",
       "    </tr>\n",
       "    <tr>\n",
       "      <th>12413</th>\n",
       "      <td>2022-11-23</td>\n",
       "      <td>FREMONT</td>\n",
       "      <td>CHICKEN XXXXX - O</td>\n",
       "      <td>9.60100</td>\n",
       "    </tr>\n",
       "    <tr>\n",
       "      <th>12425</th>\n",
       "      <td>2022-11-25</td>\n",
       "      <td>FREMONT</td>\n",
       "      <td>CHICKEN XXXXX - O</td>\n",
       "      <td>32.34058</td>\n",
       "    </tr>\n",
       "    <tr>\n",
       "      <th>12440</th>\n",
       "      <td>2022-11-26</td>\n",
       "      <td>FREMONT</td>\n",
       "      <td>CHICKEN XXXXX - O</td>\n",
       "      <td>9.62939</td>\n",
       "    </tr>\n",
       "    <tr>\n",
       "      <th>12448</th>\n",
       "      <td>2022-11-27</td>\n",
       "      <td>FREMONT</td>\n",
       "      <td>CHICKEN XXXXX - O</td>\n",
       "      <td>23.57930</td>\n",
       "    </tr>\n",
       "  </tbody>\n",
       "</table>\n",
       "<p>780 rows × 4 columns</p>\n",
       "</div>"
      ],
      "text/plain": [
       "            Date Location               Item  Quantity\n",
       "9     2020-01-02  FREMONT  CHICKEN XXXXX - O  29.42886\n",
       "20    2020-01-03  FREMONT  CHICKEN XXXXX - O  22.31062\n",
       "44    2020-01-05  FREMONT  CHICKEN XXXXX - O  59.33066\n",
       "48    2020-01-06  FREMONT  CHICKEN XXXXX - O  66.10422\n",
       "57    2020-01-07  FREMONT  CHICKEN XXXXX - O  10.24048\n",
       "...          ...      ...                ...       ...\n",
       "12403 2022-11-22  FREMONT  CHICKEN XXXXX - O  40.54925\n",
       "12413 2022-11-23  FREMONT  CHICKEN XXXXX - O   9.60100\n",
       "12425 2022-11-25  FREMONT  CHICKEN XXXXX - O  32.34058\n",
       "12440 2022-11-26  FREMONT  CHICKEN XXXXX - O   9.62939\n",
       "12448 2022-11-27  FREMONT  CHICKEN XXXXX - O  23.57930\n",
       "\n",
       "[780 rows x 4 columns]"
      ]
     },
     "execution_count": 127,
     "metadata": {},
     "output_type": "execute_result"
    }
   ],
   "source": [
    "data_df2"
   ]
  },
  {
   "cell_type": "code",
   "execution_count": 128,
   "id": "0d5b1f7e",
   "metadata": {},
   "outputs": [],
   "source": [
    "data_df2= data_df2.drop(['Location', 'Item'], axis=1)"
   ]
  },
  {
   "cell_type": "code",
   "execution_count": 129,
   "id": "7f32956f",
   "metadata": {},
   "outputs": [
    {
     "data": {
      "text/html": [
       "<div>\n",
       "<style scoped>\n",
       "    .dataframe tbody tr th:only-of-type {\n",
       "        vertical-align: middle;\n",
       "    }\n",
       "\n",
       "    .dataframe tbody tr th {\n",
       "        vertical-align: top;\n",
       "    }\n",
       "\n",
       "    .dataframe thead th {\n",
       "        text-align: right;\n",
       "    }\n",
       "</style>\n",
       "<table border=\"1\" class=\"dataframe\">\n",
       "  <thead>\n",
       "    <tr style=\"text-align: right;\">\n",
       "      <th></th>\n",
       "      <th>Date</th>\n",
       "      <th>Quantity</th>\n",
       "    </tr>\n",
       "  </thead>\n",
       "  <tbody>\n",
       "    <tr>\n",
       "      <th>9</th>\n",
       "      <td>2020-01-02</td>\n",
       "      <td>29.42886</td>\n",
       "    </tr>\n",
       "    <tr>\n",
       "      <th>20</th>\n",
       "      <td>2020-01-03</td>\n",
       "      <td>22.31062</td>\n",
       "    </tr>\n",
       "    <tr>\n",
       "      <th>44</th>\n",
       "      <td>2020-01-05</td>\n",
       "      <td>59.33066</td>\n",
       "    </tr>\n",
       "    <tr>\n",
       "      <th>48</th>\n",
       "      <td>2020-01-06</td>\n",
       "      <td>66.10422</td>\n",
       "    </tr>\n",
       "    <tr>\n",
       "      <th>57</th>\n",
       "      <td>2020-01-07</td>\n",
       "      <td>10.24048</td>\n",
       "    </tr>\n",
       "  </tbody>\n",
       "</table>\n",
       "</div>"
      ],
      "text/plain": [
       "         Date  Quantity\n",
       "9  2020-01-02  29.42886\n",
       "20 2020-01-03  22.31062\n",
       "44 2020-01-05  59.33066\n",
       "48 2020-01-06  66.10422\n",
       "57 2020-01-07  10.24048"
      ]
     },
     "execution_count": 129,
     "metadata": {},
     "output_type": "execute_result"
    }
   ],
   "source": [
    "data_df2.head()"
   ]
  },
  {
   "cell_type": "code",
   "execution_count": 130,
   "id": "d6243af3",
   "metadata": {},
   "outputs": [],
   "source": [
    "#data_df2.groupby('Date')['Quantity'].sum().reset_index().rename(columns={'Quantity':'Quantity'})"
   ]
  },
  {
   "cell_type": "code",
   "execution_count": 131,
   "id": "b324c5af",
   "metadata": {},
   "outputs": [
    {
     "data": {
      "text/html": [
       "<div>\n",
       "<style scoped>\n",
       "    .dataframe tbody tr th:only-of-type {\n",
       "        vertical-align: middle;\n",
       "    }\n",
       "\n",
       "    .dataframe tbody tr th {\n",
       "        vertical-align: top;\n",
       "    }\n",
       "\n",
       "    .dataframe thead th {\n",
       "        text-align: right;\n",
       "    }\n",
       "</style>\n",
       "<table border=\"1\" class=\"dataframe\">\n",
       "  <thead>\n",
       "    <tr style=\"text-align: right;\">\n",
       "      <th></th>\n",
       "      <th>Quantity</th>\n",
       "    </tr>\n",
       "    <tr>\n",
       "      <th>Date</th>\n",
       "      <th></th>\n",
       "    </tr>\n",
       "  </thead>\n",
       "  <tbody>\n",
       "    <tr>\n",
       "      <th>2020-01-02</th>\n",
       "      <td>29.42886</td>\n",
       "    </tr>\n",
       "    <tr>\n",
       "      <th>2020-01-03</th>\n",
       "      <td>22.31062</td>\n",
       "    </tr>\n",
       "    <tr>\n",
       "      <th>2020-01-05</th>\n",
       "      <td>59.33066</td>\n",
       "    </tr>\n",
       "    <tr>\n",
       "      <th>2020-01-06</th>\n",
       "      <td>66.10422</td>\n",
       "    </tr>\n",
       "    <tr>\n",
       "      <th>2020-01-07</th>\n",
       "      <td>10.24048</td>\n",
       "    </tr>\n",
       "    <tr>\n",
       "      <th>...</th>\n",
       "      <td>...</td>\n",
       "    </tr>\n",
       "    <tr>\n",
       "      <th>2022-11-22</th>\n",
       "      <td>40.54925</td>\n",
       "    </tr>\n",
       "    <tr>\n",
       "      <th>2022-11-23</th>\n",
       "      <td>9.60100</td>\n",
       "    </tr>\n",
       "    <tr>\n",
       "      <th>2022-11-25</th>\n",
       "      <td>32.34058</td>\n",
       "    </tr>\n",
       "    <tr>\n",
       "      <th>2022-11-26</th>\n",
       "      <td>9.62939</td>\n",
       "    </tr>\n",
       "    <tr>\n",
       "      <th>2022-11-27</th>\n",
       "      <td>23.57930</td>\n",
       "    </tr>\n",
       "  </tbody>\n",
       "</table>\n",
       "<p>780 rows × 1 columns</p>\n",
       "</div>"
      ],
      "text/plain": [
       "            Quantity\n",
       "Date                \n",
       "2020-01-02  29.42886\n",
       "2020-01-03  22.31062\n",
       "2020-01-05  59.33066\n",
       "2020-01-06  66.10422\n",
       "2020-01-07  10.24048\n",
       "...              ...\n",
       "2022-11-22  40.54925\n",
       "2022-11-23   9.60100\n",
       "2022-11-25  32.34058\n",
       "2022-11-26   9.62939\n",
       "2022-11-27  23.57930\n",
       "\n",
       "[780 rows x 1 columns]"
      ]
     },
     "execution_count": 131,
     "metadata": {},
     "output_type": "execute_result"
    }
   ],
   "source": [
    "data_df2.set_index('Date')"
   ]
  },
  {
   "cell_type": "code",
   "execution_count": 132,
   "id": "57065056",
   "metadata": {},
   "outputs": [
    {
     "name": "stdout",
     "output_type": "stream",
     "text": [
      "<class 'pandas.core.frame.DataFrame'>\n",
      "Int64Index: 780 entries, 9 to 12448\n",
      "Data columns (total 2 columns):\n",
      " #   Column    Non-Null Count  Dtype         \n",
      "---  ------    --------------  -----         \n",
      " 0   Date      780 non-null    datetime64[ns]\n",
      " 1   Quantity  780 non-null    float64       \n",
      "dtypes: datetime64[ns](1), float64(1)\n",
      "memory usage: 18.3 KB\n"
     ]
    }
   ],
   "source": [
    "data_df2.info()"
   ]
  },
  {
   "cell_type": "code",
   "execution_count": 133,
   "id": "e2cb638c",
   "metadata": {},
   "outputs": [],
   "source": [
    "# data_df2.index=pd.to_datetime(data_df2.index)"
   ]
  },
  {
   "cell_type": "code",
   "execution_count": 134,
   "id": "07adf4e3",
   "metadata": {},
   "outputs": [],
   "source": [
    "# data_df2.plot()"
   ]
  },
  {
   "cell_type": "code",
   "execution_count": 135,
   "id": "22cdc318",
   "metadata": {},
   "outputs": [],
   "source": [
    "# from matplotlib import pyplot as plt\n",
    "# plt.plot(data_df2['Quantity'])"
   ]
  },
  {
   "cell_type": "code",
   "execution_count": 136,
   "id": "2a9ee1b4",
   "metadata": {},
   "outputs": [],
   "source": [
    "# data_df2"
   ]
  },
  {
   "cell_type": "code",
   "execution_count": 137,
   "id": "f2625157",
   "metadata": {},
   "outputs": [],
   "source": [
    "# data_df2.sort_index(inplace= True)"
   ]
  },
  {
   "cell_type": "code",
   "execution_count": 138,
   "id": "15f34ef9",
   "metadata": {},
   "outputs": [
    {
     "data": {
      "text/plain": [
       "pandas.core.frame.DataFrame"
      ]
     },
     "execution_count": 138,
     "metadata": {},
     "output_type": "execute_result"
    }
   ],
   "source": [
    "type(data_df2)"
   ]
  },
  {
   "cell_type": "code",
   "execution_count": 145,
   "id": "9c16f6c1",
   "metadata": {},
   "outputs": [],
   "source": [
    "from statsmodels.tsa.seasonal import seasonal_decompose\n",
    "\n",
    "result=seasonal_decompose(data_df2['Quantity'], model='additive', period= 365, extrapolate_trend= 'freq')\n"
   ]
  },
  {
   "cell_type": "code",
   "execution_count": 146,
   "id": "f224c7a6",
   "metadata": {},
   "outputs": [
    {
     "data": {
      "image/png": "[encoded data removed]",
      "text/plain": [
       "<Figure size 432x288 with 4 Axes>"
      ]
     },
     "execution_count": 146,
     "metadata": {},
     "output_type": "execute_result"
    },
    {
     "data": {
      "image/png": "[encoded data removed]",
      "text/plain": [
       "<Figure size 432x288 with 4 Axes>"
      ]
     },
     "metadata": {
      "needs_background": "light"
     },
     "output_type": "display_data"
    }
   ],
   "source": [
    "result.plot()"
   ]
  },
  {
   "cell_type": "code",
   "execution_count": 147,
   "id": "5a2f8ec9",
   "metadata": {},
   "outputs": [],
   "source": [
    "# result.trend.plot()"
   ]
  },
  {
   "cell_type": "code",
   "execution_count": 148,
   "id": "bfa4712a",
   "metadata": {},
   "outputs": [],
   "source": [
    "# result.resid.plot()"
   ]
  },
  {
   "cell_type": "code",
   "execution_count": 149,
   "id": "0104be97",
   "metadata": {},
   "outputs": [],
   "source": [
    "# plt.title('')\n",
    "# result.plot()"
   ]
  },
  {
   "cell_type": "code",
   "execution_count": 150,
   "id": "fce67bda",
   "metadata": {},
   "outputs": [],
   "source": [
    "se_out1= pd.DataFrame()\n",
    "\n",
    "se_out1['Trend'] = result.trend\n",
    "se_out1['seasonal']  = result.seasonal\n",
    "se_out1['resid']  = result.resid\n"
   ]
  },
  {
   "cell_type": "code",
   "execution_count": 151,
   "id": "f2f77b0f",
   "metadata": {},
   "outputs": [
    {
     "data": {
      "text/html": [
       "<div>\n",
       "<style scoped>\n",
       "    .dataframe tbody tr th:only-of-type {\n",
       "        vertical-align: middle;\n",
       "    }\n",
       "\n",
       "    .dataframe tbody tr th {\n",
       "        vertical-align: top;\n",
       "    }\n",
       "\n",
       "    .dataframe thead th {\n",
       "        text-align: right;\n",
       "    }\n",
       "</style>\n",
       "<table border=\"1\" class=\"dataframe\">\n",
       "  <thead>\n",
       "    <tr style=\"text-align: right;\">\n",
       "      <th></th>\n",
       "      <th>Trend</th>\n",
       "      <th>seasonal</th>\n",
       "      <th>resid</th>\n",
       "    </tr>\n",
       "  </thead>\n",
       "  <tbody>\n",
       "    <tr>\n",
       "      <th>9</th>\n",
       "      <td>111.760622</td>\n",
       "      <td>-19.378970</td>\n",
       "      <td>-62.952792</td>\n",
       "    </tr>\n",
       "    <tr>\n",
       "      <th>20</th>\n",
       "      <td>111.641747</td>\n",
       "      <td>-44.287470</td>\n",
       "      <td>-45.043657</td>\n",
       "    </tr>\n",
       "    <tr>\n",
       "      <th>44</th>\n",
       "      <td>111.522872</td>\n",
       "      <td>-28.785503</td>\n",
       "      <td>-23.406709</td>\n",
       "    </tr>\n",
       "    <tr>\n",
       "      <th>48</th>\n",
       "      <td>111.403997</td>\n",
       "      <td>-14.954004</td>\n",
       "      <td>-30.345773</td>\n",
       "    </tr>\n",
       "    <tr>\n",
       "      <th>57</th>\n",
       "      <td>111.285123</td>\n",
       "      <td>-40.058936</td>\n",
       "      <td>-60.985707</td>\n",
       "    </tr>\n",
       "    <tr>\n",
       "      <th>...</th>\n",
       "      <td>...</td>\n",
       "      <td>...</td>\n",
       "      <td>...</td>\n",
       "    </tr>\n",
       "    <tr>\n",
       "      <th>12403</th>\n",
       "      <td>18.454608</td>\n",
       "      <td>-7.147952</td>\n",
       "      <td>29.242595</td>\n",
       "    </tr>\n",
       "    <tr>\n",
       "      <th>12413</th>\n",
       "      <td>18.330728</td>\n",
       "      <td>-17.153867</td>\n",
       "      <td>8.424139</td>\n",
       "    </tr>\n",
       "    <tr>\n",
       "      <th>12425</th>\n",
       "      <td>18.206847</td>\n",
       "      <td>-7.374545</td>\n",
       "      <td>21.508278</td>\n",
       "    </tr>\n",
       "    <tr>\n",
       "      <th>12440</th>\n",
       "      <td>18.082967</td>\n",
       "      <td>-36.987984</td>\n",
       "      <td>28.534407</td>\n",
       "    </tr>\n",
       "    <tr>\n",
       "      <th>12448</th>\n",
       "      <td>17.959087</td>\n",
       "      <td>-30.295443</td>\n",
       "      <td>35.915656</td>\n",
       "    </tr>\n",
       "  </tbody>\n",
       "</table>\n",
       "<p>780 rows × 3 columns</p>\n",
       "</div>"
      ],
      "text/plain": [
       "            Trend   seasonal      resid\n",
       "9      111.760622 -19.378970 -62.952792\n",
       "20     111.641747 -44.287470 -45.043657\n",
       "44     111.522872 -28.785503 -23.406709\n",
       "48     111.403997 -14.954004 -30.345773\n",
       "57     111.285123 -40.058936 -60.985707\n",
       "...           ...        ...        ...\n",
       "12403   18.454608  -7.147952  29.242595\n",
       "12413   18.330728 -17.153867   8.424139\n",
       "12425   18.206847  -7.374545  21.508278\n",
       "12440   18.082967 -36.987984  28.534407\n",
       "12448   17.959087 -30.295443  35.915656\n",
       "\n",
       "[780 rows x 3 columns]"
      ]
     },
     "execution_count": 151,
     "metadata": {},
     "output_type": "execute_result"
    }
   ],
   "source": [
    "se_out1"
   ]
  },
  {
   "cell_type": "code",
   "execution_count": 152,
   "id": "5c57704b",
   "metadata": {},
   "outputs": [
    {
     "data": {
      "text/html": [
       "<div>\n",
       "<style scoped>\n",
       "    .dataframe tbody tr th:only-of-type {\n",
       "        vertical-align: middle;\n",
       "    }\n",
       "\n",
       "    .dataframe tbody tr th {\n",
       "        vertical-align: top;\n",
       "    }\n",
       "\n",
       "    .dataframe thead th {\n",
       "        text-align: right;\n",
       "    }\n",
       "</style>\n",
       "<table border=\"1\" class=\"dataframe\">\n",
       "  <thead>\n",
       "    <tr style=\"text-align: right;\">\n",
       "      <th></th>\n",
       "      <th>Date</th>\n",
       "      <th>Quantity</th>\n",
       "      <th>Trend</th>\n",
       "      <th>seasonal</th>\n",
       "      <th>resid</th>\n",
       "    </tr>\n",
       "  </thead>\n",
       "  <tbody>\n",
       "    <tr>\n",
       "      <th>9</th>\n",
       "      <td>2020-01-02</td>\n",
       "      <td>29.42886</td>\n",
       "      <td>111.760622</td>\n",
       "      <td>-19.378970</td>\n",
       "      <td>-62.952792</td>\n",
       "    </tr>\n",
       "    <tr>\n",
       "      <th>20</th>\n",
       "      <td>2020-01-03</td>\n",
       "      <td>22.31062</td>\n",
       "      <td>111.641747</td>\n",
       "      <td>-44.287470</td>\n",
       "      <td>-45.043657</td>\n",
       "    </tr>\n",
       "    <tr>\n",
       "      <th>44</th>\n",
       "      <td>2020-01-05</td>\n",
       "      <td>59.33066</td>\n",
       "      <td>111.522872</td>\n",
       "      <td>-28.785503</td>\n",
       "      <td>-23.406709</td>\n",
       "    </tr>\n",
       "    <tr>\n",
       "      <th>48</th>\n",
       "      <td>2020-01-06</td>\n",
       "      <td>66.10422</td>\n",
       "      <td>111.403997</td>\n",
       "      <td>-14.954004</td>\n",
       "      <td>-30.345773</td>\n",
       "    </tr>\n",
       "    <tr>\n",
       "      <th>57</th>\n",
       "      <td>2020-01-07</td>\n",
       "      <td>10.24048</td>\n",
       "      <td>111.285123</td>\n",
       "      <td>-40.058936</td>\n",
       "      <td>-60.985707</td>\n",
       "    </tr>\n",
       "    <tr>\n",
       "      <th>...</th>\n",
       "      <td>...</td>\n",
       "      <td>...</td>\n",
       "      <td>...</td>\n",
       "      <td>...</td>\n",
       "      <td>...</td>\n",
       "    </tr>\n",
       "    <tr>\n",
       "      <th>12403</th>\n",
       "      <td>2022-11-22</td>\n",
       "      <td>40.54925</td>\n",
       "      <td>18.454608</td>\n",
       "      <td>-7.147952</td>\n",
       "      <td>29.242595</td>\n",
       "    </tr>\n",
       "    <tr>\n",
       "      <th>12413</th>\n",
       "      <td>2022-11-23</td>\n",
       "      <td>9.60100</td>\n",
       "      <td>18.330728</td>\n",
       "      <td>-17.153867</td>\n",
       "      <td>8.424139</td>\n",
       "    </tr>\n",
       "    <tr>\n",
       "      <th>12425</th>\n",
       "      <td>2022-11-25</td>\n",
       "      <td>32.34058</td>\n",
       "      <td>18.206847</td>\n",
       "      <td>-7.374545</td>\n",
       "      <td>21.508278</td>\n",
       "    </tr>\n",
       "    <tr>\n",
       "      <th>12440</th>\n",
       "      <td>2022-11-26</td>\n",
       "      <td>9.62939</td>\n",
       "      <td>18.082967</td>\n",
       "      <td>-36.987984</td>\n",
       "      <td>28.534407</td>\n",
       "    </tr>\n",
       "    <tr>\n",
       "      <th>12448</th>\n",
       "      <td>2022-11-27</td>\n",
       "      <td>23.57930</td>\n",
       "      <td>17.959087</td>\n",
       "      <td>-30.295443</td>\n",
       "      <td>35.915656</td>\n",
       "    </tr>\n",
       "  </tbody>\n",
       "</table>\n",
       "<p>780 rows × 5 columns</p>\n",
       "</div>"
      ],
      "text/plain": [
       "            Date  Quantity       Trend   seasonal      resid\n",
       "9     2020-01-02  29.42886  111.760622 -19.378970 -62.952792\n",
       "20    2020-01-03  22.31062  111.641747 -44.287470 -45.043657\n",
       "44    2020-01-05  59.33066  111.522872 -28.785503 -23.406709\n",
       "48    2020-01-06  66.10422  111.403997 -14.954004 -30.345773\n",
       "57    2020-01-07  10.24048  111.285123 -40.058936 -60.985707\n",
       "...          ...       ...         ...        ...        ...\n",
       "12403 2022-11-22  40.54925   18.454608  -7.147952  29.242595\n",
       "12413 2022-11-23   9.60100   18.330728 -17.153867   8.424139\n",
       "12425 2022-11-25  32.34058   18.206847  -7.374545  21.508278\n",
       "12440 2022-11-26   9.62939   18.082967 -36.987984  28.534407\n",
       "12448 2022-11-27  23.57930   17.959087 -30.295443  35.915656\n",
       "\n",
       "[780 rows x 5 columns]"
      ]
     },
     "execution_count": 152,
     "metadata": {},
     "output_type": "execute_result"
    }
   ],
   "source": [
    "df = pd.concat([data_df2,se_out1], axis=1 )\n",
    "df"
   ]
  },
  {
   "cell_type": "code",
   "execution_count": 154,
   "id": "eae9c1ed",
   "metadata": {},
   "outputs": [
    {
     "data": {
      "text/plain": [
       "29.42886"
      ]
     },
     "execution_count": 154,
     "metadata": {},
     "output_type": "execute_result"
    }
   ],
   "source": [
    "111.760622 + (-19.378970) + (-62.952792)"
   ]
  },
  {
   "cell_type": "code",
   "execution_count": 57,
   "id": "67fdaf87",
   "metadata": {},
   "outputs": [],
   "source": [
    "# result1=seasonal_decompose(data_df2['Quantity'], model='Additive', period=1)"
   ]
  },
  {
   "cell_type": "code",
   "execution_count": 58,
   "id": "a4d70ae7",
   "metadata": {},
   "outputs": [],
   "source": [
    "# result1.seasonal.plot()"
   ]
  },
  {
   "cell_type": "code",
   "execution_count": 59,
   "id": "62040559",
   "metadata": {},
   "outputs": [],
   "source": [
    "# result1.trend.plot()"
   ]
  },
  {
   "cell_type": "code",
   "execution_count": 60,
   "id": "15d52e4e",
   "metadata": {},
   "outputs": [],
   "source": [
    "# result1.resid.plot()"
   ]
  },
  {
   "cell_type": "code",
   "execution_count": 62,
   "id": "144da620",
   "metadata": {},
   "outputs": [
    {
     "data": {
      "text/plain": [
       "0.21676896657759687"
      ]
     },
     "execution_count": 62,
     "metadata": {},
     "output_type": "execute_result"
    }
   ],
   "source": [
    "result.resid.var()"
   ]
  },
  {
   "cell_type": "code",
   "execution_count": 64,
   "id": "8488019c",
   "metadata": {},
   "outputs": [
    {
     "data": {
      "text/plain": [
       "0.21676896657759687"
      ]
     },
     "execution_count": 64,
     "metadata": {},
     "output_type": "execute_result"
    }
   ],
   "source": [
    "result.resid.var()"
   ]
  },
  {
   "cell_type": "code",
   "execution_count": 65,
   "id": "6917d46b",
   "metadata": {},
   "outputs": [
    {
     "data": {
      "text/plain": [
       "0.21962591772215567"
      ]
     },
     "execution_count": 65,
     "metadata": {},
     "output_type": "execute_result"
    }
   ],
   "source": [
    "result.seasonal.var()"
   ]
  },
  {
   "cell_type": "code",
   "execution_count": 66,
   "id": "6bdd3aa4",
   "metadata": {},
   "outputs": [
    {
     "data": {
      "text/plain": [
       "0.4363948842997524"
      ]
     },
     "execution_count": 66,
     "metadata": {},
     "output_type": "execute_result"
    }
   ],
   "source": [
    "(result.resid+result.seasonal).var()"
   ]
  },
  {
   "cell_type": "code",
   "execution_count": 75,
   "id": "086f2521",
   "metadata": {},
   "outputs": [
    {
     "data": {
      "text/plain": [
       "0.5032733554486357"
      ]
     },
     "execution_count": 75,
     "metadata": {},
     "output_type": "execute_result"
    }
   ],
   "source": [
    "#strength of seasonality Lakewook, Chicken \n",
    "\n",
    "mn = max(0,(1-result.resid.var()/(result.resid+result.seasonal).var()))\n",
    "mn"
   ]
  },
  {
   "cell_type": "code",
   "execution_count": 68,
   "id": "11089e9c",
   "metadata": {},
   "outputs": [],
   "source": [
    "#Formula for  strength of seasonality\n",
    "\n",
    "# max(0,(1-decomposition.resid.var()/(decomposition.resid+decomposition.seasonal).var())[0])"
   ]
  },
  {
   "cell_type": "code",
   "execution_count": 28,
   "id": "4f9f992e",
   "metadata": {},
   "outputs": [],
   "source": [
    "se_out1= pd.DataFrame()\n",
    "\n",
    "se_out1['Trend'] = result.trend\n",
    "se_out1['seasonal']  = result.seasonal\n",
    "se_out1['resid']  = result.resid"
   ]
  },
  {
   "cell_type": "code",
   "execution_count": 30,
   "id": "5fd79080",
   "metadata": {},
   "outputs": [],
   "source": [
    "# se_out"
   ]
  },
  {
   "cell_type": "code",
   "execution_count": 32,
   "id": "e6b1d472",
   "metadata": {},
   "outputs": [],
   "source": [
    "df = pd.concat([data_df2,se_out1], axis=1 )"
   ]
  },
  {
   "cell_type": "code",
   "execution_count": 33,
   "id": "ffa19b27",
   "metadata": {},
   "outputs": [
    {
     "data": {
      "text/html": [
       "<div>\n",
       "<style scoped>\n",
       "    .dataframe tbody tr th:only-of-type {\n",
       "        vertical-align: middle;\n",
       "    }\n",
       "\n",
       "    .dataframe tbody tr th {\n",
       "        vertical-align: top;\n",
       "    }\n",
       "\n",
       "    .dataframe thead th {\n",
       "        text-align: right;\n",
       "    }\n",
       "</style>\n",
       "<table border=\"1\" class=\"dataframe\">\n",
       "  <thead>\n",
       "    <tr style=\"text-align: right;\">\n",
       "      <th></th>\n",
       "      <th>Date</th>\n",
       "      <th>Quantity</th>\n",
       "      <th>Trend</th>\n",
       "      <th>seasonal</th>\n",
       "      <th>resid</th>\n",
       "    </tr>\n",
       "  </thead>\n",
       "  <tbody>\n",
       "    <tr>\n",
       "      <th>0</th>\n",
       "      <td>2020-01-02</td>\n",
       "      <td>172.55461</td>\n",
       "      <td>172.55461</td>\n",
       "      <td>1.0</td>\n",
       "      <td>1.0</td>\n",
       "    </tr>\n",
       "    <tr>\n",
       "      <th>14</th>\n",
       "      <td>2020-01-03</td>\n",
       "      <td>197.22689</td>\n",
       "      <td>197.22689</td>\n",
       "      <td>1.0</td>\n",
       "      <td>1.0</td>\n",
       "    </tr>\n",
       "    <tr>\n",
       "      <th>31</th>\n",
       "      <td>2020-01-04</td>\n",
       "      <td>257.69748</td>\n",
       "      <td>257.69748</td>\n",
       "      <td>1.0</td>\n",
       "      <td>1.0</td>\n",
       "    </tr>\n",
       "    <tr>\n",
       "      <th>37</th>\n",
       "      <td>2020-01-05</td>\n",
       "      <td>429.74791</td>\n",
       "      <td>429.74791</td>\n",
       "      <td>1.0</td>\n",
       "      <td>1.0</td>\n",
       "    </tr>\n",
       "    <tr>\n",
       "      <th>49</th>\n",
       "      <td>2020-01-06</td>\n",
       "      <td>269.05040</td>\n",
       "      <td>269.05040</td>\n",
       "      <td>1.0</td>\n",
       "      <td>1.0</td>\n",
       "    </tr>\n",
       "    <tr>\n",
       "      <th>...</th>\n",
       "      <td>...</td>\n",
       "      <td>...</td>\n",
       "      <td>...</td>\n",
       "      <td>...</td>\n",
       "      <td>...</td>\n",
       "    </tr>\n",
       "    <tr>\n",
       "      <th>12397</th>\n",
       "      <td>2022-11-22</td>\n",
       "      <td>148.59689</td>\n",
       "      <td>148.59689</td>\n",
       "      <td>1.0</td>\n",
       "      <td>1.0</td>\n",
       "    </tr>\n",
       "    <tr>\n",
       "      <th>12407</th>\n",
       "      <td>2022-11-23</td>\n",
       "      <td>220.40310</td>\n",
       "      <td>220.40310</td>\n",
       "      <td>1.0</td>\n",
       "      <td>1.0</td>\n",
       "    </tr>\n",
       "    <tr>\n",
       "      <th>12421</th>\n",
       "      <td>2022-11-25</td>\n",
       "      <td>116.42635</td>\n",
       "      <td>116.42635</td>\n",
       "      <td>1.0</td>\n",
       "      <td>1.0</td>\n",
       "    </tr>\n",
       "    <tr>\n",
       "      <th>12434</th>\n",
       "      <td>2022-11-26</td>\n",
       "      <td>121.77520</td>\n",
       "      <td>121.77520</td>\n",
       "      <td>1.0</td>\n",
       "      <td>1.0</td>\n",
       "    </tr>\n",
       "    <tr>\n",
       "      <th>12455</th>\n",
       "      <td>2022-11-27</td>\n",
       "      <td>201.62792</td>\n",
       "      <td>201.62792</td>\n",
       "      <td>1.0</td>\n",
       "      <td>1.0</td>\n",
       "    </tr>\n",
       "  </tbody>\n",
       "</table>\n",
       "<p>985 rows × 5 columns</p>\n",
       "</div>"
      ],
      "text/plain": [
       "            Date   Quantity      Trend  seasonal  resid\n",
       "0     2020-01-02  172.55461  172.55461       1.0    1.0\n",
       "14    2020-01-03  197.22689  197.22689       1.0    1.0\n",
       "31    2020-01-04  257.69748  257.69748       1.0    1.0\n",
       "37    2020-01-05  429.74791  429.74791       1.0    1.0\n",
       "49    2020-01-06  269.05040  269.05040       1.0    1.0\n",
       "...          ...        ...        ...       ...    ...\n",
       "12397 2022-11-22  148.59689  148.59689       1.0    1.0\n",
       "12407 2022-11-23  220.40310  220.40310       1.0    1.0\n",
       "12421 2022-11-25  116.42635  116.42635       1.0    1.0\n",
       "12434 2022-11-26  121.77520  121.77520       1.0    1.0\n",
       "12455 2022-11-27  201.62792  201.62792       1.0    1.0\n",
       "\n",
       "[985 rows x 5 columns]"
      ]
     },
     "execution_count": 33,
     "metadata": {},
     "output_type": "execute_result"
    }
   ],
   "source": [
    "df"
   ]
  },
  {
   "cell_type": "markdown",
   "id": "6d326c82",
   "metadata": {},
   "source": [
    "### All in One "
   ]
  },
  {
   "cell_type": "code",
   "execution_count": 155,
   "id": "95ad2eb0",
   "metadata": {},
   "outputs": [
    {
     "data": {
      "text/plain": [
       "array(['LAKEWOOD', 'HAYWARD', 'FREMONT', 'S SAN FRANCISCO BUS CTR',\n",
       "       'RICHMOND CA'], dtype=object)"
      ]
     },
     "execution_count": 155,
     "metadata": {},
     "output_type": "execute_result"
    }
   ],
   "source": [
    "data_df['Location'].unique()"
   ]
  },
  {
   "cell_type": "code",
   "execution_count": 85,
   "id": "6c35b831",
   "metadata": {},
   "outputs": [],
   "source": [
    "# df['Item'].unique()"
   ]
  },
  {
   "cell_type": "code",
   "execution_count": 76,
   "id": "abf1582c",
   "metadata": {},
   "outputs": [],
   "source": [
    "for i in data_df['Location'].unique():\n",
    "    df= data_df[data_df['Location']==i]\n",
    "    for j in df['Item'].unique():\n",
    "        item_data= df[df[\"Item\"]==j]\n",
    "        \n",
    "        item_data= item_data.drop(['Location', 'Item'], axis=1)\n",
    "#         train_dates = pd.to_datetime(item_data['Date']) \n",
    "        item_data.set_index('Date')\n",
    "#         print(item_data)\n",
    "        time_series = item_data.index  #Get dates for test data\n",
    "        \n",
    "        \n",
    "        result=seasonal_decompose(item_data['Quantity'], model='multiplicable', period=365, extrapolate_trend= 'freq')\n",
    "        \n",
    "        #Results\n",
    "#         se_out= pd.DataFrame()\n",
    "#         se_out['Trend'] = result.trend\n",
    "#         se_out['seasonality']  = result.seasonal\n",
    "#         se_out['remainder']  = result.resid\n",
    "# #         se_out['Date']= train_dates.values\n",
    "#         df_out = pd.concat([item_data,se_out], axis=1 )\n",
    "        result_SOS = max(0,(1-result.resid.var()/(result.resid+result.seasonal).var()))\n",
    "        \n",
    "        col_names =  ['Strength_of_Seasonality']\n",
    "        Error_matric= pd.DataFrame(columns = col_names)\n",
    "        \n",
    "        my_out = {'Strength_of_Seasonality': result_SOS}\n",
    "        Error_matric.loc[len(Error_matric)] = my_out \n",
    "        \n",
    "        #Saving Results \n",
    "        Error_matric['Location']= i\n",
    "        Error_matric['Item']=j\n",
    "        \n",
    "        predction_output = \"ModelOut\\seasonality\\SOS\\season_\" +i+\"-\"+j+\".xlsx\"\n",
    "        Error_matric.to_excel(predction_output, index= False)\n",
    "#         print(df_out)\n",
    "  "
   ]
  },
  {
   "cell_type": "code",
   "execution_count": 77,
   "id": "869a72cd",
   "metadata": {},
   "outputs": [],
   "source": [
    "import pandas as pd\n",
    "import os\n",
    "import glob"
   ]
  },
  {
   "cell_type": "code",
   "execution_count": 78,
   "id": "edd9ffae",
   "metadata": {},
   "outputs": [],
   "source": [
    "path = 'C:\\\\Users\\\\Ramshankar\\\\OneDrive - iLink Systems Inc\\\\Documents\\\\Costco\\\\Code\\\\ModelOut\\\\seasonality\\\\SOS\\\\'\n",
    "out_files = glob.glob(os.path.join(path, \"*.xlsx\"))\n",
    "   "
   ]
  },
  {
   "cell_type": "code",
   "execution_count": 79,
   "id": "b3729ce5",
   "metadata": {},
   "outputs": [],
   "source": [
    "dfs= []\n",
    "\n",
    "\n",
    "for f in out_files:\n",
    "    dfs.append(pd.read_excel(f))\n",
    "df=pd.concat(dfs, ignore_index=True)"
   ]
  },
  {
   "cell_type": "code",
   "execution_count": 80,
   "id": "dbabf753",
   "metadata": {},
   "outputs": [
    {
     "name": "stdout",
     "output_type": "stream",
     "text": [
      "<class 'pandas.core.frame.DataFrame'>\n",
      "RangeIndex: 14 entries, 0 to 13\n",
      "Data columns (total 3 columns):\n",
      " #   Column                   Non-Null Count  Dtype  \n",
      "---  ------                   --------------  -----  \n",
      " 0   Strength_of_Seasonality  14 non-null     float64\n",
      " 1   Location                 14 non-null     object \n",
      " 2   Item                     14 non-null     object \n",
      "dtypes: float64(1), object(2)\n",
      "memory usage: 464.0+ bytes\n"
     ]
    }
   ],
   "source": [
    "df.info()"
   ]
  },
  {
   "cell_type": "code",
   "execution_count": 7,
   "id": "56912dcb",
   "metadata": {},
   "outputs": [],
   "source": [
    "# df['Date'] = df['Date'].astype(str)"
   ]
  },
  {
   "cell_type": "code",
   "execution_count": 82,
   "id": "ebb55a59",
   "metadata": {},
   "outputs": [],
   "source": [
    "df= df.reindex(columns= ['Location', 'Item', 'Strength_of_Seasonality'])"
   ]
  },
  {
   "cell_type": "code",
   "execution_count": 83,
   "id": "05b3efab",
   "metadata": {},
   "outputs": [
    {
     "data": {
      "text/html": [
       "<div>\n",
       "<style scoped>\n",
       "    .dataframe tbody tr th:only-of-type {\n",
       "        vertical-align: middle;\n",
       "    }\n",
       "\n",
       "    .dataframe tbody tr th {\n",
       "        vertical-align: top;\n",
       "    }\n",
       "\n",
       "    .dataframe thead th {\n",
       "        text-align: right;\n",
       "    }\n",
       "</style>\n",
       "<table border=\"1\" class=\"dataframe\">\n",
       "  <thead>\n",
       "    <tr style=\"text-align: right;\">\n",
       "      <th></th>\n",
       "      <th>Location</th>\n",
       "      <th>Item</th>\n",
       "      <th>Strength_of_Seasonality</th>\n",
       "    </tr>\n",
       "  </thead>\n",
       "  <tbody>\n",
       "    <tr>\n",
       "      <th>0</th>\n",
       "      <td>FREMONT</td>\n",
       "      <td>CHICKEN XXXXX - O</td>\n",
       "      <td>0.447027</td>\n",
       "    </tr>\n",
       "    <tr>\n",
       "      <th>1</th>\n",
       "      <td>FREMONT</td>\n",
       "      <td>DRUMSTICKS NNNN</td>\n",
       "      <td>0.343056</td>\n",
       "    </tr>\n",
       "    <tr>\n",
       "      <th>2</th>\n",
       "      <td>FREMONT</td>\n",
       "      <td>FILLET QQQQ</td>\n",
       "      <td>0.348952</td>\n",
       "    </tr>\n",
       "    <tr>\n",
       "      <th>3</th>\n",
       "      <td>HAYWARD</td>\n",
       "      <td>CHICKEN XXXXX - O</td>\n",
       "      <td>0.465768</td>\n",
       "    </tr>\n",
       "    <tr>\n",
       "      <th>4</th>\n",
       "      <td>HAYWARD</td>\n",
       "      <td>DRUMSTICKS NNNN</td>\n",
       "      <td>0.338501</td>\n",
       "    </tr>\n",
       "    <tr>\n",
       "      <th>5</th>\n",
       "      <td>HAYWARD</td>\n",
       "      <td>FILLET QQQQ</td>\n",
       "      <td>0.330191</td>\n",
       "    </tr>\n",
       "    <tr>\n",
       "      <th>6</th>\n",
       "      <td>LAKEWOOD</td>\n",
       "      <td>CHICKEN XXXXX - O</td>\n",
       "      <td>0.503273</td>\n",
       "    </tr>\n",
       "    <tr>\n",
       "      <th>7</th>\n",
       "      <td>LAKEWOOD</td>\n",
       "      <td>DRUMSTICKS NNNN</td>\n",
       "      <td>0.338983</td>\n",
       "    </tr>\n",
       "    <tr>\n",
       "      <th>8</th>\n",
       "      <td>LAKEWOOD</td>\n",
       "      <td>FILLET QQQQ</td>\n",
       "      <td>0.365858</td>\n",
       "    </tr>\n",
       "    <tr>\n",
       "      <th>9</th>\n",
       "      <td>RICHMOND CA</td>\n",
       "      <td>CHICKEN XXXXX - O</td>\n",
       "      <td>0.486050</td>\n",
       "    </tr>\n",
       "    <tr>\n",
       "      <th>10</th>\n",
       "      <td>RICHMOND CA</td>\n",
       "      <td>DRUMSTICKS NNNN</td>\n",
       "      <td>0.321630</td>\n",
       "    </tr>\n",
       "    <tr>\n",
       "      <th>11</th>\n",
       "      <td>RICHMOND CA</td>\n",
       "      <td>FILLET QQQQ</td>\n",
       "      <td>0.350682</td>\n",
       "    </tr>\n",
       "    <tr>\n",
       "      <th>12</th>\n",
       "      <td>S SAN FRANCISCO BUS CTR</td>\n",
       "      <td>BEEF OOOO - GT</td>\n",
       "      <td>0.454979</td>\n",
       "    </tr>\n",
       "    <tr>\n",
       "      <th>13</th>\n",
       "      <td>S SAN FRANCISCO BUS CTR</td>\n",
       "      <td>DRUMSTICKS NNNN</td>\n",
       "      <td>0.715128</td>\n",
       "    </tr>\n",
       "  </tbody>\n",
       "</table>\n",
       "</div>"
      ],
      "text/plain": [
       "                   Location               Item  Strength_of_Seasonality\n",
       "0                   FREMONT  CHICKEN XXXXX - O                 0.447027\n",
       "1                   FREMONT    DRUMSTICKS NNNN                 0.343056\n",
       "2                   FREMONT        FILLET QQQQ                 0.348952\n",
       "3                   HAYWARD  CHICKEN XXXXX - O                 0.465768\n",
       "4                   HAYWARD    DRUMSTICKS NNNN                 0.338501\n",
       "5                   HAYWARD        FILLET QQQQ                 0.330191\n",
       "6                  LAKEWOOD  CHICKEN XXXXX - O                 0.503273\n",
       "7                  LAKEWOOD    DRUMSTICKS NNNN                 0.338983\n",
       "8                  LAKEWOOD        FILLET QQQQ                 0.365858\n",
       "9               RICHMOND CA  CHICKEN XXXXX - O                 0.486050\n",
       "10              RICHMOND CA    DRUMSTICKS NNNN                 0.321630\n",
       "11              RICHMOND CA        FILLET QQQQ                 0.350682\n",
       "12  S SAN FRANCISCO BUS CTR     BEEF OOOO - GT                 0.454979\n",
       "13  S SAN FRANCISCO BUS CTR    DRUMSTICKS NNNN                 0.715128"
      ]
     },
     "execution_count": 83,
     "metadata": {},
     "output_type": "execute_result"
    }
   ],
   "source": [
    "df"
   ]
  },
  {
   "cell_type": "code",
   "execution_count": 84,
   "id": "5a07185d",
   "metadata": {},
   "outputs": [],
   "source": [
    "df.to_excel('SOS_all.xlsx', index=False)"
   ]
  },
  {
   "cell_type": "code",
   "execution_count": null,
   "id": "341eb6fc",
   "metadata": {},
   "outputs": [],
   "source": []
  }
 ],
 "metadata": {
  "kernelspec": {
   "display_name": "Python 3 (ipykernel)",
   "language": "python",
   "name": "python3"
  },
  "language_info": {
   "codemirror_mode": {
    "name": "ipython",
    "version": 3
   },
   "file_extension": ".py",
   "mimetype": "text/x-python",
   "name": "python",
   "nbconvert_exporter": "python",
   "pygments_lexer": "ipython3",
   "version": "3.11.5"
  }
 },
 "nbformat": 4,
 "nbformat_minor": 5
}
