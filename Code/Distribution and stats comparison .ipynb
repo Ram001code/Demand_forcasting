{
 "cells": [
  {
   "cell_type": "code",
   "execution_count": 1,
   "id": "5eb27e5e",
   "metadata": {},
   "outputs": [],
   "source": [
    "import pandas as pd\n",
    "import numpy as np"
   ]
  },
  {
   "cell_type": "code",
   "execution_count": 55,
   "id": "28a55060",
   "metadata": {},
   "outputs": [],
   "source": [
    "#Loading generated data\n",
    "\n",
    "data1= pd.read_excel('C:\\\\Users\\\\Ramshankar\\\\OneDrive - iLink Systems Inc\\\\Documents\\\\Costco\\\\Code\\\\timeseies_gene.xlsx')\n"
   ]
  },
  {
   "cell_type": "code",
   "execution_count": 56,
   "id": "913b9116",
   "metadata": {},
   "outputs": [
    {
     "data": {
      "text/plain": [
       "(1065, 12)"
      ]
     },
     "execution_count": 56,
     "metadata": {},
     "output_type": "execute_result"
    }
   ],
   "source": [
    "data1.shape"
   ]
  },
  {
   "cell_type": "code",
   "execution_count": 57,
   "id": "b4e0d786",
   "metadata": {},
   "outputs": [
    {
     "name": "stdout",
     "output_type": "stream",
     "text": [
      "<class 'pandas.core.frame.DataFrame'>\n",
      "RangeIndex: 1065 entries, 0 to 1064\n",
      "Data columns (total 12 columns):\n",
      " #   Column               Non-Null Count  Dtype         \n",
      "---  ------               --------------  -----         \n",
      " 0   Date                 1065 non-null   datetime64[ns]\n",
      " 1   Location             1065 non-null   object        \n",
      " 2   Item                 1065 non-null   object        \n",
      " 3   OH Quantity          1065 non-null   float64       \n",
      " 4   OH Amount            1065 non-null   float64       \n",
      " 5   On Order Quantity    1065 non-null   float64       \n",
      " 6   On Order Amount      1065 non-null   float64       \n",
      " 7   In Transit Quantity  1065 non-null   float64       \n",
      " 8   In Transit Amount    1065 non-null   float64       \n",
      " 9   NSI Quantity         1065 non-null   int64         \n",
      " 10  NSI Amount           1065 non-null   int64         \n",
      " 11  example_id           1065 non-null   int64         \n",
      "dtypes: datetime64[ns](1), float64(6), int64(3), object(2)\n",
      "memory usage: 100.0+ KB\n"
     ]
    }
   ],
   "source": [
    "data1.info()"
   ]
  },
  {
   "cell_type": "code",
   "execution_count": 66,
   "id": "5728ad85",
   "metadata": {},
   "outputs": [],
   "source": [
    "data1.drop(['example_id'], axis=1, inplace= True)"
   ]
  },
  {
   "cell_type": "code",
   "execution_count": 67,
   "id": "226fe7ba",
   "metadata": {},
   "outputs": [
    {
     "data": {
      "text/html": [
       "<div>\n",
       "<style scoped>\n",
       "    .dataframe tbody tr th:only-of-type {\n",
       "        vertical-align: middle;\n",
       "    }\n",
       "\n",
       "    .dataframe tbody tr th {\n",
       "        vertical-align: top;\n",
       "    }\n",
       "\n",
       "    .dataframe thead th {\n",
       "        text-align: right;\n",
       "    }\n",
       "</style>\n",
       "<table border=\"1\" class=\"dataframe\">\n",
       "  <thead>\n",
       "    <tr style=\"text-align: right;\">\n",
       "      <th></th>\n",
       "      <th>OH Quantity</th>\n",
       "      <th>OH Amount</th>\n",
       "      <th>On Order Quantity</th>\n",
       "      <th>On Order Amount</th>\n",
       "      <th>In Transit Quantity</th>\n",
       "      <th>In Transit Amount</th>\n",
       "      <th>NSI Quantity</th>\n",
       "      <th>NSI Amount</th>\n",
       "    </tr>\n",
       "  </thead>\n",
       "  <tbody>\n",
       "    <tr>\n",
       "      <th>count</th>\n",
       "      <td>1065.000000</td>\n",
       "      <td>1065.000000</td>\n",
       "      <td>1065.000000</td>\n",
       "      <td>1065.000000</td>\n",
       "      <td>1065.000000</td>\n",
       "      <td>1065.000000</td>\n",
       "      <td>1065.0</td>\n",
       "      <td>1065.0</td>\n",
       "    </tr>\n",
       "    <tr>\n",
       "      <th>mean</th>\n",
       "      <td>82.624931</td>\n",
       "      <td>410.130526</td>\n",
       "      <td>90.988733</td>\n",
       "      <td>469.311862</td>\n",
       "      <td>36.077075</td>\n",
       "      <td>181.223101</td>\n",
       "      <td>0.0</td>\n",
       "      <td>0.0</td>\n",
       "    </tr>\n",
       "    <tr>\n",
       "      <th>std</th>\n",
       "      <td>26.823442</td>\n",
       "      <td>147.297236</td>\n",
       "      <td>39.512516</td>\n",
       "      <td>224.099530</td>\n",
       "      <td>56.250213</td>\n",
       "      <td>282.858664</td>\n",
       "      <td>0.0</td>\n",
       "      <td>0.0</td>\n",
       "    </tr>\n",
       "    <tr>\n",
       "      <th>min</th>\n",
       "      <td>33.565628</td>\n",
       "      <td>108.600685</td>\n",
       "      <td>34.278095</td>\n",
       "      <td>192.127243</td>\n",
       "      <td>1.062861</td>\n",
       "      <td>4.150276</td>\n",
       "      <td>0.0</td>\n",
       "      <td>0.0</td>\n",
       "    </tr>\n",
       "    <tr>\n",
       "      <th>25%</th>\n",
       "      <td>64.242401</td>\n",
       "      <td>307.915466</td>\n",
       "      <td>65.610588</td>\n",
       "      <td>312.507874</td>\n",
       "      <td>2.172210</td>\n",
       "      <td>8.602903</td>\n",
       "      <td>0.0</td>\n",
       "      <td>0.0</td>\n",
       "    </tr>\n",
       "    <tr>\n",
       "      <th>50%</th>\n",
       "      <td>76.507408</td>\n",
       "      <td>375.635925</td>\n",
       "      <td>77.500153</td>\n",
       "      <td>363.577057</td>\n",
       "      <td>4.537755</td>\n",
       "      <td>21.367592</td>\n",
       "      <td>0.0</td>\n",
       "      <td>0.0</td>\n",
       "    </tr>\n",
       "    <tr>\n",
       "      <th>75%</th>\n",
       "      <td>92.703613</td>\n",
       "      <td>465.987762</td>\n",
       "      <td>98.980087</td>\n",
       "      <td>594.731201</td>\n",
       "      <td>44.500530</td>\n",
       "      <td>229.114761</td>\n",
       "      <td>0.0</td>\n",
       "      <td>0.0</td>\n",
       "    </tr>\n",
       "    <tr>\n",
       "      <th>max</th>\n",
       "      <td>175.183334</td>\n",
       "      <td>906.810730</td>\n",
       "      <td>226.377777</td>\n",
       "      <td>1046.500977</td>\n",
       "      <td>227.455643</td>\n",
       "      <td>1189.213501</td>\n",
       "      <td>0.0</td>\n",
       "      <td>0.0</td>\n",
       "    </tr>\n",
       "  </tbody>\n",
       "</table>\n",
       "</div>"
      ],
      "text/plain": [
       "       OH Quantity    OH Amount  On Order Quantity  On Order Amount  \\\n",
       "count  1065.000000  1065.000000        1065.000000      1065.000000   \n",
       "mean     82.624931   410.130526          90.988733       469.311862   \n",
       "std      26.823442   147.297236          39.512516       224.099530   \n",
       "min      33.565628   108.600685          34.278095       192.127243   \n",
       "25%      64.242401   307.915466          65.610588       312.507874   \n",
       "50%      76.507408   375.635925          77.500153       363.577057   \n",
       "75%      92.703613   465.987762          98.980087       594.731201   \n",
       "max     175.183334   906.810730         226.377777      1046.500977   \n",
       "\n",
       "       In Transit Quantity  In Transit Amount  NSI Quantity  NSI Amount  \n",
       "count          1065.000000        1065.000000        1065.0      1065.0  \n",
       "mean             36.077075         181.223101           0.0         0.0  \n",
       "std              56.250213         282.858664           0.0         0.0  \n",
       "min               1.062861           4.150276           0.0         0.0  \n",
       "25%               2.172210           8.602903           0.0         0.0  \n",
       "50%               4.537755          21.367592           0.0         0.0  \n",
       "75%              44.500530         229.114761           0.0         0.0  \n",
       "max             227.455643        1189.213501           0.0         0.0  "
      ]
     },
     "execution_count": 67,
     "metadata": {},
     "output_type": "execute_result"
    }
   ],
   "source": [
    "data1.describe()   ##Generated data for 3 years "
   ]
  },
  {
   "cell_type": "code",
   "execution_count": 26,
   "id": "81d1eba8",
   "metadata": {},
   "outputs": [],
   "source": [
    "data1= data1[['Date', 'OH Quantity']]"
   ]
  },
  {
   "cell_type": "code",
   "execution_count": 27,
   "id": "eddd7bb9",
   "metadata": {},
   "outputs": [
    {
     "data": {
      "text/html": [
       "<div>\n",
       "<style scoped>\n",
       "    .dataframe tbody tr th:only-of-type {\n",
       "        vertical-align: middle;\n",
       "    }\n",
       "\n",
       "    .dataframe tbody tr th {\n",
       "        vertical-align: top;\n",
       "    }\n",
       "\n",
       "    .dataframe thead th {\n",
       "        text-align: right;\n",
       "    }\n",
       "</style>\n",
       "<table border=\"1\" class=\"dataframe\">\n",
       "  <thead>\n",
       "    <tr style=\"text-align: right;\">\n",
       "      <th></th>\n",
       "      <th>Date</th>\n",
       "      <th>OH Quantity</th>\n",
       "    </tr>\n",
       "  </thead>\n",
       "  <tbody>\n",
       "    <tr>\n",
       "      <th>1060</th>\n",
       "      <td>2022-11-26</td>\n",
       "      <td>157.720306</td>\n",
       "    </tr>\n",
       "    <tr>\n",
       "      <th>1061</th>\n",
       "      <td>2022-11-27</td>\n",
       "      <td>154.884354</td>\n",
       "    </tr>\n",
       "    <tr>\n",
       "      <th>1062</th>\n",
       "      <td>2022-11-28</td>\n",
       "      <td>109.972412</td>\n",
       "    </tr>\n",
       "    <tr>\n",
       "      <th>1063</th>\n",
       "      <td>2022-11-29</td>\n",
       "      <td>81.272797</td>\n",
       "    </tr>\n",
       "    <tr>\n",
       "      <th>1064</th>\n",
       "      <td>2022-11-30</td>\n",
       "      <td>59.182228</td>\n",
       "    </tr>\n",
       "  </tbody>\n",
       "</table>\n",
       "</div>"
      ],
      "text/plain": [
       "           Date  OH Quantity\n",
       "1060 2022-11-26   157.720306\n",
       "1061 2022-11-27   154.884354\n",
       "1062 2022-11-28   109.972412\n",
       "1063 2022-11-29    81.272797\n",
       "1064 2022-11-30    59.182228"
      ]
     },
     "execution_count": 27,
     "metadata": {},
     "output_type": "execute_result"
    }
   ],
   "source": [
    "data1.tail()"
   ]
  },
  {
   "cell_type": "code",
   "execution_count": 34,
   "id": "5f19ac51",
   "metadata": {},
   "outputs": [],
   "source": [
    "data1= data1[data1['Date']<= '2020-08-09']"
   ]
  },
  {
   "cell_type": "code",
   "execution_count": 52,
   "id": "58619947",
   "metadata": {},
   "outputs": [],
   "source": [
    "data1= data1.iloc[:,1]"
   ]
  },
  {
   "cell_type": "code",
   "execution_count": 53,
   "id": "75142c6a",
   "metadata": {},
   "outputs": [
    {
     "data": {
      "text/plain": [
       "0      141.881561\n",
       "1       91.257202\n",
       "2       63.474609\n",
       "3       47.139912\n",
       "4       38.504013\n",
       "          ...    \n",
       "217     65.808006\n",
       "218     64.329597\n",
       "219     76.280418\n",
       "220    149.523392\n",
       "221    102.761070\n",
       "Name: OH Quantity, Length: 222, dtype: float64"
      ]
     },
     "execution_count": 53,
     "metadata": {},
     "output_type": "execute_result"
    }
   ],
   "source": [
    "data1"
   ]
  },
  {
   "cell_type": "code",
   "execution_count": 68,
   "id": "6657eeae",
   "metadata": {},
   "outputs": [],
   "source": [
    "#Loading actual data\n",
    "\n",
    "data2 = pd.read_csv('C:\\\\Users\\\\Ramshankar\\\\OneDrive - iLink Systems Inc\\\\Documents\\\\Costco\\\\Dataset\\\\Inventory data\\\\CSV\\\\FREMONT-CHICKEN XXXXX - O.csv')\n"
   ]
  },
  {
   "cell_type": "code",
   "execution_count": 69,
   "id": "ba21cb3c",
   "metadata": {},
   "outputs": [
    {
     "data": {
      "text/plain": [
       "(157, 11)"
      ]
     },
     "execution_count": 69,
     "metadata": {},
     "output_type": "execute_result"
    }
   ],
   "source": [
    "data2.shape"
   ]
  },
  {
   "cell_type": "code",
   "execution_count": 70,
   "id": "273e69b5",
   "metadata": {},
   "outputs": [
    {
     "data": {
      "text/html": [
       "<div>\n",
       "<style scoped>\n",
       "    .dataframe tbody tr th:only-of-type {\n",
       "        vertical-align: middle;\n",
       "    }\n",
       "\n",
       "    .dataframe tbody tr th {\n",
       "        vertical-align: top;\n",
       "    }\n",
       "\n",
       "    .dataframe thead th {\n",
       "        text-align: right;\n",
       "    }\n",
       "</style>\n",
       "<table border=\"1\" class=\"dataframe\">\n",
       "  <thead>\n",
       "    <tr style=\"text-align: right;\">\n",
       "      <th></th>\n",
       "      <th>OH Quantity</th>\n",
       "      <th>OH Amount</th>\n",
       "      <th>On Order Quantity</th>\n",
       "      <th>On Order Amount</th>\n",
       "      <th>In Transit Quantity</th>\n",
       "      <th>In Transit Amount</th>\n",
       "      <th>NSI Quantity</th>\n",
       "      <th>NSI Amount</th>\n",
       "    </tr>\n",
       "  </thead>\n",
       "  <tbody>\n",
       "    <tr>\n",
       "      <th>count</th>\n",
       "      <td>157.000000</td>\n",
       "      <td>157.000000</td>\n",
       "      <td>157.000000</td>\n",
       "      <td>157.000000</td>\n",
       "      <td>157.000000</td>\n",
       "      <td>157.000000</td>\n",
       "      <td>157.0</td>\n",
       "      <td>157.0</td>\n",
       "    </tr>\n",
       "    <tr>\n",
       "      <th>mean</th>\n",
       "      <td>68.987261</td>\n",
       "      <td>344.246433</td>\n",
       "      <td>64.777070</td>\n",
       "      <td>323.237580</td>\n",
       "      <td>37.573248</td>\n",
       "      <td>187.490510</td>\n",
       "      <td>0.0</td>\n",
       "      <td>0.0</td>\n",
       "    </tr>\n",
       "    <tr>\n",
       "      <th>std</th>\n",
       "      <td>86.597506</td>\n",
       "      <td>432.121555</td>\n",
       "      <td>110.149002</td>\n",
       "      <td>549.643518</td>\n",
       "      <td>82.033936</td>\n",
       "      <td>409.349342</td>\n",
       "      <td>0.0</td>\n",
       "      <td>0.0</td>\n",
       "    </tr>\n",
       "    <tr>\n",
       "      <th>min</th>\n",
       "      <td>1.000000</td>\n",
       "      <td>4.990000</td>\n",
       "      <td>0.000000</td>\n",
       "      <td>0.000000</td>\n",
       "      <td>0.000000</td>\n",
       "      <td>0.000000</td>\n",
       "      <td>0.0</td>\n",
       "      <td>0.0</td>\n",
       "    </tr>\n",
       "    <tr>\n",
       "      <th>25%</th>\n",
       "      <td>5.000000</td>\n",
       "      <td>24.950000</td>\n",
       "      <td>0.000000</td>\n",
       "      <td>0.000000</td>\n",
       "      <td>0.000000</td>\n",
       "      <td>0.000000</td>\n",
       "      <td>0.0</td>\n",
       "      <td>0.0</td>\n",
       "    </tr>\n",
       "    <tr>\n",
       "      <th>50%</th>\n",
       "      <td>29.000000</td>\n",
       "      <td>144.710000</td>\n",
       "      <td>0.000000</td>\n",
       "      <td>0.000000</td>\n",
       "      <td>0.000000</td>\n",
       "      <td>0.000000</td>\n",
       "      <td>0.0</td>\n",
       "      <td>0.0</td>\n",
       "    </tr>\n",
       "    <tr>\n",
       "      <th>75%</th>\n",
       "      <td>101.000000</td>\n",
       "      <td>503.990000</td>\n",
       "      <td>135.000000</td>\n",
       "      <td>673.650000</td>\n",
       "      <td>0.000000</td>\n",
       "      <td>0.000000</td>\n",
       "      <td>0.0</td>\n",
       "      <td>0.0</td>\n",
       "    </tr>\n",
       "    <tr>\n",
       "      <th>max</th>\n",
       "      <td>373.000000</td>\n",
       "      <td>1861.270000</td>\n",
       "      <td>450.000000</td>\n",
       "      <td>2245.500000</td>\n",
       "      <td>469.000000</td>\n",
       "      <td>2340.310000</td>\n",
       "      <td>0.0</td>\n",
       "      <td>0.0</td>\n",
       "    </tr>\n",
       "  </tbody>\n",
       "</table>\n",
       "</div>"
      ],
      "text/plain": [
       "       OH Quantity    OH Amount  On Order Quantity  On Order Amount  \\\n",
       "count   157.000000   157.000000         157.000000       157.000000   \n",
       "mean     68.987261   344.246433          64.777070       323.237580   \n",
       "std      86.597506   432.121555         110.149002       549.643518   \n",
       "min       1.000000     4.990000           0.000000         0.000000   \n",
       "25%       5.000000    24.950000           0.000000         0.000000   \n",
       "50%      29.000000   144.710000           0.000000         0.000000   \n",
       "75%     101.000000   503.990000         135.000000       673.650000   \n",
       "max     373.000000  1861.270000         450.000000      2245.500000   \n",
       "\n",
       "       In Transit Quantity  In Transit Amount  NSI Quantity  NSI Amount  \n",
       "count           157.000000         157.000000         157.0       157.0  \n",
       "mean             37.573248         187.490510           0.0         0.0  \n",
       "std              82.033936         409.349342           0.0         0.0  \n",
       "min               0.000000           0.000000           0.0         0.0  \n",
       "25%               0.000000           0.000000           0.0         0.0  \n",
       "50%               0.000000           0.000000           0.0         0.0  \n",
       "75%               0.000000           0.000000           0.0         0.0  \n",
       "max             469.000000        2340.310000           0.0         0.0  "
      ]
     },
     "execution_count": 70,
     "metadata": {},
     "output_type": "execute_result"
    }
   ],
   "source": [
    "data2.describe()     ## 8 months Actual data "
   ]
  },
  {
   "cell_type": "code",
   "execution_count": 48,
   "id": "fd6554ca",
   "metadata": {},
   "outputs": [],
   "source": [
    "data2= data2[['Date', 'OH Quantity']]"
   ]
  },
  {
   "cell_type": "code",
   "execution_count": 49,
   "id": "cbd7efff",
   "metadata": {},
   "outputs": [],
   "source": [
    "data2= data2.iloc[:,1]"
   ]
  },
  {
   "cell_type": "code",
   "execution_count": 51,
   "id": "99c4b3b3",
   "metadata": {},
   "outputs": [
    {
     "data": {
      "text/plain": [
       "0       13\n",
       "1       29\n",
       "2        7\n",
       "3        7\n",
       "4       85\n",
       "      ... \n",
       "152    224\n",
       "153     16\n",
       "154    209\n",
       "155     21\n",
       "156    131\n",
       "Name: OH Quantity, Length: 157, dtype: int64"
      ]
     },
     "execution_count": 51,
     "metadata": {},
     "output_type": "execute_result"
    }
   ],
   "source": [
    "data2"
   ]
  },
  {
   "cell_type": "code",
   "execution_count": 54,
   "id": "31066965",
   "metadata": {},
   "outputs": [
    {
     "data": {
      "text/plain": [
       "KstestResult(statistic=0.5244735181040914, pvalue=4.248568477553584e-24)"
      ]
     },
     "execution_count": 54,
     "metadata": {},
     "output_type": "execute_result"
    }
   ],
   "source": [
    "from scipy.stats import ks_2samp\n",
    "\n",
    "ks_2samp(data1, data2)"
   ]
  },
  {
   "cell_type": "code",
   "execution_count": null,
   "id": "557e8ed4",
   "metadata": {},
   "outputs": [],
   "source": []
  }
 ],
 "metadata": {
  "kernelspec": {
   "display_name": "Python 3 (ipykernel)",
   "language": "python",
   "name": "python3"
  },
  "language_info": {
   "codemirror_mode": {
    "name": "ipython",
    "version": 3
   },
   "file_extension": ".py",
   "mimetype": "text/x-python",
   "name": "python",
   "nbconvert_exporter": "python",
   "pygments_lexer": "ipython3",
   "version": "3.9.12"
  }
 },
 "nbformat": 4,
 "nbformat_minor": 5
}
