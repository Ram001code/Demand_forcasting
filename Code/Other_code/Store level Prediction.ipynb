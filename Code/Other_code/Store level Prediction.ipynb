{
 "cells": [
  {
   "cell_type": "code",
   "execution_count": 1,
   "id": "01102103",
   "metadata": {},
   "outputs": [],
   "source": [
    "import pandas as pd\n",
    "import numpy as np"
   ]
  },
  {
   "cell_type": "code",
   "execution_count": 2,
   "id": "8b017e69",
   "metadata": {},
   "outputs": [
    {
     "data": {
      "text/html": [
       "<div>\n",
       "<style scoped>\n",
       "    .dataframe tbody tr th:only-of-type {\n",
       "        vertical-align: middle;\n",
       "    }\n",
       "\n",
       "    .dataframe tbody tr th {\n",
       "        vertical-align: top;\n",
       "    }\n",
       "\n",
       "    .dataframe thead th {\n",
       "        text-align: right;\n",
       "    }\n",
       "</style>\n",
       "<table border=\"1\" class=\"dataframe\">\n",
       "  <thead>\n",
       "    <tr style=\"text-align: right;\">\n",
       "      <th></th>\n",
       "      <th>date</th>\n",
       "      <th>product_identifier</th>\n",
       "      <th>department_identifier</th>\n",
       "      <th>category_of_product</th>\n",
       "      <th>outlet</th>\n",
       "      <th>state</th>\n",
       "      <th>sales</th>\n",
       "      <th>week_id</th>\n",
       "      <th>sell_price</th>\n",
       "      <th>year_month</th>\n",
       "      <th>net Sales</th>\n",
       "      <th>Temperature</th>\n",
       "      <th>Holiday</th>\n",
       "    </tr>\n",
       "  </thead>\n",
       "  <tbody>\n",
       "    <tr>\n",
       "      <th>0</th>\n",
       "      <td>2020-01-01</td>\n",
       "      <td>74</td>\n",
       "      <td>11</td>\n",
       "      <td>others</td>\n",
       "      <td>111</td>\n",
       "      <td>Maharashtra</td>\n",
       "      <td>0</td>\n",
       "      <td>49</td>\n",
       "      <td>2.94</td>\n",
       "      <td>2012-01</td>\n",
       "      <td>0.00</td>\n",
       "      <td>26</td>\n",
       "      <td>0</td>\n",
       "    </tr>\n",
       "    <tr>\n",
       "      <th>1</th>\n",
       "      <td>2020-01-01</td>\n",
       "      <td>337</td>\n",
       "      <td>11</td>\n",
       "      <td>others</td>\n",
       "      <td>111</td>\n",
       "      <td>Maharashtra</td>\n",
       "      <td>1</td>\n",
       "      <td>49</td>\n",
       "      <td>7.44</td>\n",
       "      <td>2012-01</td>\n",
       "      <td>7.44</td>\n",
       "      <td>26</td>\n",
       "      <td>0</td>\n",
       "    </tr>\n",
       "    <tr>\n",
       "      <th>2</th>\n",
       "      <td>2020-01-01</td>\n",
       "      <td>423</td>\n",
       "      <td>12</td>\n",
       "      <td>others</td>\n",
       "      <td>111</td>\n",
       "      <td>Maharashtra</td>\n",
       "      <td>0</td>\n",
       "      <td>49</td>\n",
       "      <td>0.97</td>\n",
       "      <td>2012-01</td>\n",
       "      <td>0.00</td>\n",
       "      <td>26</td>\n",
       "      <td>0</td>\n",
       "    </tr>\n",
       "    <tr>\n",
       "      <th>3</th>\n",
       "      <td>2020-01-01</td>\n",
       "      <td>432</td>\n",
       "      <td>12</td>\n",
       "      <td>others</td>\n",
       "      <td>111</td>\n",
       "      <td>Maharashtra</td>\n",
       "      <td>0</td>\n",
       "      <td>49</td>\n",
       "      <td>4.97</td>\n",
       "      <td>2012-01</td>\n",
       "      <td>0.00</td>\n",
       "      <td>26</td>\n",
       "      <td>0</td>\n",
       "    </tr>\n",
       "    <tr>\n",
       "      <th>4</th>\n",
       "      <td>2020-01-01</td>\n",
       "      <td>581</td>\n",
       "      <td>21</td>\n",
       "      <td>fast_moving_consumer_goods</td>\n",
       "      <td>111</td>\n",
       "      <td>Maharashtra</td>\n",
       "      <td>0</td>\n",
       "      <td>49</td>\n",
       "      <td>4.88</td>\n",
       "      <td>2012-01</td>\n",
       "      <td>0.00</td>\n",
       "      <td>26</td>\n",
       "      <td>0</td>\n",
       "    </tr>\n",
       "  </tbody>\n",
       "</table>\n",
       "</div>"
      ],
      "text/plain": [
       "        date  product_identifier  department_identifier  \\\n",
       "0 2020-01-01                  74                     11   \n",
       "1 2020-01-01                 337                     11   \n",
       "2 2020-01-01                 423                     12   \n",
       "3 2020-01-01                 432                     12   \n",
       "4 2020-01-01                 581                     21   \n",
       "\n",
       "          category_of_product  outlet        state  sales  week_id  \\\n",
       "0                      others     111  Maharashtra      0       49   \n",
       "1                      others     111  Maharashtra      1       49   \n",
       "2                      others     111  Maharashtra      0       49   \n",
       "3                      others     111  Maharashtra      0       49   \n",
       "4  fast_moving_consumer_goods     111  Maharashtra      0       49   \n",
       "\n",
       "   sell_price year_month  net Sales  Temperature  Holiday  \n",
       "0        2.94    2012-01       0.00           26        0  \n",
       "1        7.44    2012-01       7.44           26        0  \n",
       "2        0.97    2012-01       0.00           26        0  \n",
       "3        4.97    2012-01       0.00           26        0  \n",
       "4        4.88    2012-01       0.00           26        0  "
      ]
     },
     "execution_count": 2,
     "metadata": {},
     "output_type": "execute_result"
    }
   ],
   "source": [
    "loc= 'C:\\\\Users\\\\Ramshankar\\\\OneDrive - iLink Systems Inc\\\\Documents\\\\Costco\\\\Dataset\\\\Final data\\\\'\n",
    "\n",
    "#Loading Date to week id map\n",
    "\n",
    "data= pd.read_excel(loc + 'Inventory_final.xlsx', index_col=False)\n",
    "data.head()"
   ]
  },
  {
   "cell_type": "code",
   "execution_count": 3,
   "id": "e49f7c8d",
   "metadata": {},
   "outputs": [],
   "source": [
    "import copy\n",
    "data2= copy.deepcopy(data)"
   ]
  },
  {
   "cell_type": "code",
   "execution_count": 4,
   "id": "29d0566b",
   "metadata": {},
   "outputs": [
    {
     "data": {
      "text/html": [
       "<div>\n",
       "<style scoped>\n",
       "    .dataframe tbody tr th:only-of-type {\n",
       "        vertical-align: middle;\n",
       "    }\n",
       "\n",
       "    .dataframe tbody tr th {\n",
       "        vertical-align: top;\n",
       "    }\n",
       "\n",
       "    .dataframe thead th {\n",
       "        text-align: right;\n",
       "    }\n",
       "</style>\n",
       "<table border=\"1\" class=\"dataframe\">\n",
       "  <thead>\n",
       "    <tr style=\"text-align: right;\">\n",
       "      <th></th>\n",
       "      <th>date</th>\n",
       "      <th>Product_ID</th>\n",
       "      <th>Sub_Category</th>\n",
       "      <th>Product_Category</th>\n",
       "      <th>Store</th>\n",
       "      <th>state</th>\n",
       "      <th>Units_Sold</th>\n",
       "      <th>week_id</th>\n",
       "      <th>Unit_Price</th>\n",
       "      <th>year_month</th>\n",
       "      <th>Total_Sales</th>\n",
       "      <th>Temperature</th>\n",
       "      <th>Holiday</th>\n",
       "    </tr>\n",
       "  </thead>\n",
       "  <tbody>\n",
       "    <tr>\n",
       "      <th>0</th>\n",
       "      <td>2020-01-01</td>\n",
       "      <td>74</td>\n",
       "      <td>11</td>\n",
       "      <td>others</td>\n",
       "      <td>111</td>\n",
       "      <td>Maharashtra</td>\n",
       "      <td>0</td>\n",
       "      <td>49</td>\n",
       "      <td>2.94</td>\n",
       "      <td>2012-01</td>\n",
       "      <td>0.00</td>\n",
       "      <td>26</td>\n",
       "      <td>0</td>\n",
       "    </tr>\n",
       "    <tr>\n",
       "      <th>1</th>\n",
       "      <td>2020-01-01</td>\n",
       "      <td>337</td>\n",
       "      <td>11</td>\n",
       "      <td>others</td>\n",
       "      <td>111</td>\n",
       "      <td>Maharashtra</td>\n",
       "      <td>1</td>\n",
       "      <td>49</td>\n",
       "      <td>7.44</td>\n",
       "      <td>2012-01</td>\n",
       "      <td>7.44</td>\n",
       "      <td>26</td>\n",
       "      <td>0</td>\n",
       "    </tr>\n",
       "    <tr>\n",
       "      <th>2</th>\n",
       "      <td>2020-01-01</td>\n",
       "      <td>423</td>\n",
       "      <td>12</td>\n",
       "      <td>others</td>\n",
       "      <td>111</td>\n",
       "      <td>Maharashtra</td>\n",
       "      <td>0</td>\n",
       "      <td>49</td>\n",
       "      <td>0.97</td>\n",
       "      <td>2012-01</td>\n",
       "      <td>0.00</td>\n",
       "      <td>26</td>\n",
       "      <td>0</td>\n",
       "    </tr>\n",
       "    <tr>\n",
       "      <th>3</th>\n",
       "      <td>2020-01-01</td>\n",
       "      <td>432</td>\n",
       "      <td>12</td>\n",
       "      <td>others</td>\n",
       "      <td>111</td>\n",
       "      <td>Maharashtra</td>\n",
       "      <td>0</td>\n",
       "      <td>49</td>\n",
       "      <td>4.97</td>\n",
       "      <td>2012-01</td>\n",
       "      <td>0.00</td>\n",
       "      <td>26</td>\n",
       "      <td>0</td>\n",
       "    </tr>\n",
       "    <tr>\n",
       "      <th>4</th>\n",
       "      <td>2020-01-01</td>\n",
       "      <td>581</td>\n",
       "      <td>21</td>\n",
       "      <td>fast_moving_consumer_goods</td>\n",
       "      <td>111</td>\n",
       "      <td>Maharashtra</td>\n",
       "      <td>0</td>\n",
       "      <td>49</td>\n",
       "      <td>4.88</td>\n",
       "      <td>2012-01</td>\n",
       "      <td>0.00</td>\n",
       "      <td>26</td>\n",
       "      <td>0</td>\n",
       "    </tr>\n",
       "  </tbody>\n",
       "</table>\n",
       "</div>"
      ],
      "text/plain": [
       "        date  Product_ID  Sub_Category            Product_Category  Store  \\\n",
       "0 2020-01-01          74            11                      others    111   \n",
       "1 2020-01-01         337            11                      others    111   \n",
       "2 2020-01-01         423            12                      others    111   \n",
       "3 2020-01-01         432            12                      others    111   \n",
       "4 2020-01-01         581            21  fast_moving_consumer_goods    111   \n",
       "\n",
       "         state  Units_Sold  week_id  Unit_Price year_month  Total_Sales  \\\n",
       "0  Maharashtra           0       49        2.94    2012-01         0.00   \n",
       "1  Maharashtra           1       49        7.44    2012-01         7.44   \n",
       "2  Maharashtra           0       49        0.97    2012-01         0.00   \n",
       "3  Maharashtra           0       49        4.97    2012-01         0.00   \n",
       "4  Maharashtra           0       49        4.88    2012-01         0.00   \n",
       "\n",
       "   Temperature  Holiday  \n",
       "0           26        0  \n",
       "1           26        0  \n",
       "2           26        0  \n",
       "3           26        0  \n",
       "4           26        0  "
      ]
     },
     "execution_count": 4,
     "metadata": {},
     "output_type": "execute_result"
    }
   ],
   "source": [
    "data2= data2.rename(columns={'product_identifier': 'Product_ID','department_identifier': 'Sub_Category',\\\n",
    "                           'category_of_product': 'Product_Category', 'outlet': 'Store', 'net Sales': 'Total_Sales', \\\n",
    "                          'sales': 'Units_Sold', 'sell_price': 'Unit_Price'})\n",
    "data2.head()"
   ]
  },
  {
   "cell_type": "code",
   "execution_count": 5,
   "id": "432b85f2",
   "metadata": {},
   "outputs": [],
   "source": [
    "#!pip install xgboost"
   ]
  },
  {
   "cell_type": "code",
   "execution_count": 6,
   "id": "e1c34253",
   "metadata": {},
   "outputs": [],
   "source": [
    "import matplotlib.pyplot as plt\n",
    "import datetime\n",
    "from sklearn.model_selection import train_test_split, TimeSeriesSplit\n",
    "import xgboost as xgb\n",
    "from sklearn.metrics import mean_absolute_error"
   ]
  },
  {
   "cell_type": "code",
   "execution_count": 7,
   "id": "94124d51",
   "metadata": {},
   "outputs": [
    {
     "data": {
      "image/png": "[encoded data removed]",
      "text/plain": [
       "<Figure size 1152x432 with 3 Axes>"
      ]
     },
     "metadata": {
      "needs_background": "light"
     },
     "output_type": "display_data"
    }
   ],
   "source": [
    "plt.figure(figsize=(16,6))\n",
    "plt.subplot(3, 1, 1)\n",
    "plt.plot(data2.Total_Sales[:365*3])\n",
    "plt.subplot(3, 1, 2)\n",
    "plt.plot(data2.Total_Sales[:365])\n",
    "\n",
    "plt.subplot(3, 1, 3)\n",
    "plt.plot(data2.Total_Sales[:31])\n",
    "plt.show()\n"
   ]
  },
  {
   "cell_type": "code",
   "execution_count": 8,
   "id": "b17c0544",
   "metadata": {},
   "outputs": [
    {
     "name": "stdout",
     "output_type": "stream",
     "text": [
      "(158000,)\n",
      "0          NaN\n",
      "1          NaN\n",
      "2          NaN\n",
      "3          NaN\n",
      "4          NaN\n",
      "5          NaN\n",
      "6     1.062857\n",
      "7     1.062857\n",
      "8     0.000000\n",
      "9     0.000000\n",
      "10    0.910000\n",
      "11    0.910000\n",
      "12    0.910000\n",
      "13    0.910000\n",
      "14    0.910000\n",
      "15    2.182857\n",
      "16    2.182857\n",
      "17    1.272857\n",
      "18    1.272857\n",
      "19    1.272857\n",
      "20    1.272857\n",
      "21    1.272857\n",
      "22    1.134286\n",
      "23    1.134286\n",
      "24    2.130000\n",
      "25    2.130000\n",
      "26    2.130000\n",
      "27    3.125714\n",
      "28    3.697143\n",
      "29    2.562857\n",
      "30    2.562857\n",
      "Name: Total_Sales, dtype: float64\n"
     ]
    }
   ],
   "source": [
    "rolling_mean = data2.Total_Sales.rolling(window=7).mean()\n",
    "print(rolling_mean.shape)\n",
    "print(rolling_mean[:31])"
   ]
  },
  {
   "cell_type": "code",
   "execution_count": 9,
   "id": "5ba699ae",
   "metadata": {},
   "outputs": [
    {
     "data": {
      "image/png": "[encoded data removed]",
      "text/plain": [
       "<Figure size 1152x432 with 3 Axes>"
      ]
     },
     "metadata": {
      "needs_background": "light"
     },
     "output_type": "display_data"
    }
   ],
   "source": [
    "rolling_mean = data2.Total_Sales.rolling(window=7).mean()\n",
    "\n",
    "plt.figure(figsize=(16,6))\n",
    "plt.subplot(3, 1, 1)\n",
    "plt.plot(rolling_mean[:365*4])\n",
    "plt.subplot(3, 1, 2)\n",
    "plt.plot(rolling_mean[:365])\n",
    "\n",
    "plt.subplot(3, 1, 3)\n",
    "plt.plot(rolling_mean[:31])\n",
    "plt.show()"
   ]
  },
  {
   "cell_type": "code",
   "execution_count": 10,
   "id": "265f6e16",
   "metadata": {},
   "outputs": [
    {
     "data": {
      "image/png": "[encoded data removed]",
      "text/plain": [
       "<Figure size 1152x432 with 2 Axes>"
      ]
     },
     "metadata": {
      "needs_background": "light"
     },
     "output_type": "display_data"
    }
   ],
   "source": [
    "rolling_mean2 = data2.Total_Sales.rolling(window=30).mean()\n",
    "\n",
    "plt.figure(figsize=(16,6))\n",
    "plt.subplot(3, 1, 1)\n",
    "plt.plot(rolling_mean2[:365*4])\n",
    "plt.subplot(3, 1, 2)\n",
    "plt.plot(rolling_mean2[:365])\n",
    "\n",
    "plt.show()"
   ]
  },
  {
   "cell_type": "code",
   "execution_count": 11,
   "id": "23a4e694",
   "metadata": {},
   "outputs": [
    {
     "data": {
      "text/plain": [
       "Index(['date', 'Product_ID', 'Sub_Category', 'Product_Category', 'Store',\n",
       "       'state', 'Units_Sold', 'week_id', 'Unit_Price', 'year_month',\n",
       "       'Total_Sales', 'Temperature', 'Holiday'],\n",
       "      dtype='object')"
      ]
     },
     "execution_count": 11,
     "metadata": {},
     "output_type": "execute_result"
    }
   ],
   "source": [
    "data2.columns"
   ]
  },
  {
   "cell_type": "code",
   "execution_count": 12,
   "id": "269620d9",
   "metadata": {},
   "outputs": [],
   "source": [
    "data2= data2[['date', 'Product_ID', 'Sub_Category', 'Product_Category', 'Store',\n",
    "       'state', 'Units_Sold', 'Unit_Price',\n",
    "       'Total_Sales', 'Temperature', 'Holiday']]"
   ]
  },
  {
   "cell_type": "code",
   "execution_count": 13,
   "id": "231c2eef",
   "metadata": {},
   "outputs": [
    {
     "name": "stderr",
     "output_type": "stream",
     "text": [
      "C:\\Users\\Ramshankar\\AppData\\Local\\Temp\\ipykernel_8528\\1871634573.py:8: FutureWarning: Series.dt.weekofyear and Series.dt.week have been deprecated. Please use Series.dt.isocalendar().week instead.\n",
      "  data2['week_of_year']  = data2.date.dt.weekofyear\n"
     ]
    }
   ],
   "source": [
    "data2['date'] = pd.to_datetime(data2['date'],infer_datetime_format=True)\n",
    "\n",
    "\n",
    "data2['month'] = data2['date'].dt.month\n",
    "data2['weekday'] = data2['date'].dt.dayofweek\n",
    "data2['year'] = data2['date'].dt.year\n",
    "# df['date'].dt.\n",
    "data2['week_of_year']  = data2.date.dt.weekofyear"
   ]
  },
  {
   "cell_type": "code",
   "execution_count": 14,
   "id": "41bc1ce7",
   "metadata": {},
   "outputs": [
    {
     "data": {
      "text/html": [
       "<div>\n",
       "<style scoped>\n",
       "    .dataframe tbody tr th:only-of-type {\n",
       "        vertical-align: middle;\n",
       "    }\n",
       "\n",
       "    .dataframe tbody tr th {\n",
       "        vertical-align: top;\n",
       "    }\n",
       "\n",
       "    .dataframe thead th {\n",
       "        text-align: right;\n",
       "    }\n",
       "</style>\n",
       "<table border=\"1\" class=\"dataframe\">\n",
       "  <thead>\n",
       "    <tr style=\"text-align: right;\">\n",
       "      <th></th>\n",
       "      <th>date</th>\n",
       "      <th>Product_ID</th>\n",
       "      <th>Sub_Category</th>\n",
       "      <th>Product_Category</th>\n",
       "      <th>Store</th>\n",
       "      <th>state</th>\n",
       "      <th>Units_Sold</th>\n",
       "      <th>Unit_Price</th>\n",
       "      <th>Total_Sales</th>\n",
       "      <th>Temperature</th>\n",
       "      <th>Holiday</th>\n",
       "      <th>month</th>\n",
       "      <th>weekday</th>\n",
       "      <th>year</th>\n",
       "      <th>week_of_year</th>\n",
       "    </tr>\n",
       "  </thead>\n",
       "  <tbody>\n",
       "    <tr>\n",
       "      <th>0</th>\n",
       "      <td>2020-01-01</td>\n",
       "      <td>74</td>\n",
       "      <td>11</td>\n",
       "      <td>others</td>\n",
       "      <td>111</td>\n",
       "      <td>Maharashtra</td>\n",
       "      <td>0</td>\n",
       "      <td>2.94</td>\n",
       "      <td>0.00</td>\n",
       "      <td>26</td>\n",
       "      <td>0</td>\n",
       "      <td>1</td>\n",
       "      <td>2</td>\n",
       "      <td>2020</td>\n",
       "      <td>1</td>\n",
       "    </tr>\n",
       "    <tr>\n",
       "      <th>1</th>\n",
       "      <td>2020-01-01</td>\n",
       "      <td>337</td>\n",
       "      <td>11</td>\n",
       "      <td>others</td>\n",
       "      <td>111</td>\n",
       "      <td>Maharashtra</td>\n",
       "      <td>1</td>\n",
       "      <td>7.44</td>\n",
       "      <td>7.44</td>\n",
       "      <td>26</td>\n",
       "      <td>0</td>\n",
       "      <td>1</td>\n",
       "      <td>2</td>\n",
       "      <td>2020</td>\n",
       "      <td>1</td>\n",
       "    </tr>\n",
       "    <tr>\n",
       "      <th>2</th>\n",
       "      <td>2020-01-01</td>\n",
       "      <td>423</td>\n",
       "      <td>12</td>\n",
       "      <td>others</td>\n",
       "      <td>111</td>\n",
       "      <td>Maharashtra</td>\n",
       "      <td>0</td>\n",
       "      <td>0.97</td>\n",
       "      <td>0.00</td>\n",
       "      <td>26</td>\n",
       "      <td>0</td>\n",
       "      <td>1</td>\n",
       "      <td>2</td>\n",
       "      <td>2020</td>\n",
       "      <td>1</td>\n",
       "    </tr>\n",
       "    <tr>\n",
       "      <th>3</th>\n",
       "      <td>2020-01-01</td>\n",
       "      <td>432</td>\n",
       "      <td>12</td>\n",
       "      <td>others</td>\n",
       "      <td>111</td>\n",
       "      <td>Maharashtra</td>\n",
       "      <td>0</td>\n",
       "      <td>4.97</td>\n",
       "      <td>0.00</td>\n",
       "      <td>26</td>\n",
       "      <td>0</td>\n",
       "      <td>1</td>\n",
       "      <td>2</td>\n",
       "      <td>2020</td>\n",
       "      <td>1</td>\n",
       "    </tr>\n",
       "    <tr>\n",
       "      <th>4</th>\n",
       "      <td>2020-01-01</td>\n",
       "      <td>581</td>\n",
       "      <td>21</td>\n",
       "      <td>fast_moving_consumer_goods</td>\n",
       "      <td>111</td>\n",
       "      <td>Maharashtra</td>\n",
       "      <td>0</td>\n",
       "      <td>4.88</td>\n",
       "      <td>0.00</td>\n",
       "      <td>26</td>\n",
       "      <td>0</td>\n",
       "      <td>1</td>\n",
       "      <td>2</td>\n",
       "      <td>2020</td>\n",
       "      <td>1</td>\n",
       "    </tr>\n",
       "  </tbody>\n",
       "</table>\n",
       "</div>"
      ],
      "text/plain": [
       "        date  Product_ID  Sub_Category            Product_Category  Store  \\\n",
       "0 2020-01-01          74            11                      others    111   \n",
       "1 2020-01-01         337            11                      others    111   \n",
       "2 2020-01-01         423            12                      others    111   \n",
       "3 2020-01-01         432            12                      others    111   \n",
       "4 2020-01-01         581            21  fast_moving_consumer_goods    111   \n",
       "\n",
       "         state  Units_Sold  Unit_Price  Total_Sales  Temperature  Holiday  \\\n",
       "0  Maharashtra           0        2.94         0.00           26        0   \n",
       "1  Maharashtra           1        7.44         7.44           26        0   \n",
       "2  Maharashtra           0        0.97         0.00           26        0   \n",
       "3  Maharashtra           0        4.97         0.00           26        0   \n",
       "4  Maharashtra           0        4.88         0.00           26        0   \n",
       "\n",
       "   month  weekday  year  week_of_year  \n",
       "0      1        2  2020             1  \n",
       "1      1        2  2020             1  \n",
       "2      1        2  2020             1  \n",
       "3      1        2  2020             1  \n",
       "4      1        2  2020             1  "
      ]
     },
     "execution_count": 14,
     "metadata": {},
     "output_type": "execute_result"
    }
   ],
   "source": [
    "data2.head()"
   ]
  },
  {
   "cell_type": "code",
   "execution_count": 15,
   "id": "0f2de55b",
   "metadata": {},
   "outputs": [
    {
     "data": {
      "text/html": [
       "<div>\n",
       "<style scoped>\n",
       "    .dataframe tbody tr th:only-of-type {\n",
       "        vertical-align: middle;\n",
       "    }\n",
       "\n",
       "    .dataframe tbody tr th {\n",
       "        vertical-align: top;\n",
       "    }\n",
       "\n",
       "    .dataframe thead th {\n",
       "        text-align: right;\n",
       "    }\n",
       "</style>\n",
       "<table border=\"1\" class=\"dataframe\">\n",
       "  <thead>\n",
       "    <tr style=\"text-align: right;\">\n",
       "      <th></th>\n",
       "      <th>date</th>\n",
       "      <th>Product_ID</th>\n",
       "      <th>Sub_Category</th>\n",
       "      <th>Product_Category</th>\n",
       "      <th>Store</th>\n",
       "      <th>state</th>\n",
       "      <th>Units_Sold</th>\n",
       "      <th>Unit_Price</th>\n",
       "      <th>Total_Sales</th>\n",
       "      <th>Temperature</th>\n",
       "      <th>Holiday</th>\n",
       "      <th>month</th>\n",
       "      <th>weekday</th>\n",
       "      <th>year</th>\n",
       "      <th>week_of_year</th>\n",
       "      <th>date_order</th>\n",
       "    </tr>\n",
       "  </thead>\n",
       "  <tbody>\n",
       "    <tr>\n",
       "      <th>0</th>\n",
       "      <td>2020-01-01</td>\n",
       "      <td>74</td>\n",
       "      <td>11</td>\n",
       "      <td>others</td>\n",
       "      <td>111</td>\n",
       "      <td>Maharashtra</td>\n",
       "      <td>0</td>\n",
       "      <td>2.94</td>\n",
       "      <td>0.00</td>\n",
       "      <td>26</td>\n",
       "      <td>0</td>\n",
       "      <td>1</td>\n",
       "      <td>2</td>\n",
       "      <td>2020</td>\n",
       "      <td>1</td>\n",
       "      <td>0</td>\n",
       "    </tr>\n",
       "    <tr>\n",
       "      <th>1</th>\n",
       "      <td>2020-01-01</td>\n",
       "      <td>337</td>\n",
       "      <td>11</td>\n",
       "      <td>others</td>\n",
       "      <td>111</td>\n",
       "      <td>Maharashtra</td>\n",
       "      <td>1</td>\n",
       "      <td>7.44</td>\n",
       "      <td>7.44</td>\n",
       "      <td>26</td>\n",
       "      <td>0</td>\n",
       "      <td>1</td>\n",
       "      <td>2</td>\n",
       "      <td>2020</td>\n",
       "      <td>1</td>\n",
       "      <td>0</td>\n",
       "    </tr>\n",
       "    <tr>\n",
       "      <th>2</th>\n",
       "      <td>2020-01-01</td>\n",
       "      <td>423</td>\n",
       "      <td>12</td>\n",
       "      <td>others</td>\n",
       "      <td>111</td>\n",
       "      <td>Maharashtra</td>\n",
       "      <td>0</td>\n",
       "      <td>0.97</td>\n",
       "      <td>0.00</td>\n",
       "      <td>26</td>\n",
       "      <td>0</td>\n",
       "      <td>1</td>\n",
       "      <td>2</td>\n",
       "      <td>2020</td>\n",
       "      <td>1</td>\n",
       "      <td>0</td>\n",
       "    </tr>\n",
       "    <tr>\n",
       "      <th>3</th>\n",
       "      <td>2020-01-01</td>\n",
       "      <td>432</td>\n",
       "      <td>12</td>\n",
       "      <td>others</td>\n",
       "      <td>111</td>\n",
       "      <td>Maharashtra</td>\n",
       "      <td>0</td>\n",
       "      <td>4.97</td>\n",
       "      <td>0.00</td>\n",
       "      <td>26</td>\n",
       "      <td>0</td>\n",
       "      <td>1</td>\n",
       "      <td>2</td>\n",
       "      <td>2020</td>\n",
       "      <td>1</td>\n",
       "      <td>0</td>\n",
       "    </tr>\n",
       "    <tr>\n",
       "      <th>4</th>\n",
       "      <td>2020-01-01</td>\n",
       "      <td>581</td>\n",
       "      <td>21</td>\n",
       "      <td>fast_moving_consumer_goods</td>\n",
       "      <td>111</td>\n",
       "      <td>Maharashtra</td>\n",
       "      <td>0</td>\n",
       "      <td>4.88</td>\n",
       "      <td>0.00</td>\n",
       "      <td>26</td>\n",
       "      <td>0</td>\n",
       "      <td>1</td>\n",
       "      <td>2</td>\n",
       "      <td>2020</td>\n",
       "      <td>1</td>\n",
       "      <td>0</td>\n",
       "    </tr>\n",
       "    <tr>\n",
       "      <th>...</th>\n",
       "      <td>...</td>\n",
       "      <td>...</td>\n",
       "      <td>...</td>\n",
       "      <td>...</td>\n",
       "      <td>...</td>\n",
       "      <td>...</td>\n",
       "      <td>...</td>\n",
       "      <td>...</td>\n",
       "      <td>...</td>\n",
       "      <td>...</td>\n",
       "      <td>...</td>\n",
       "      <td>...</td>\n",
       "      <td>...</td>\n",
       "      <td>...</td>\n",
       "      <td>...</td>\n",
       "      <td>...</td>\n",
       "    </tr>\n",
       "    <tr>\n",
       "      <th>157995</th>\n",
       "      <td>2022-02-28</td>\n",
       "      <td>2932</td>\n",
       "      <td>33</td>\n",
       "      <td>drinks_and_food</td>\n",
       "      <td>114</td>\n",
       "      <td>Maharashtra</td>\n",
       "      <td>4</td>\n",
       "      <td>2.78</td>\n",
       "      <td>11.12</td>\n",
       "      <td>26</td>\n",
       "      <td>0</td>\n",
       "      <td>2</td>\n",
       "      <td>0</td>\n",
       "      <td>2022</td>\n",
       "      <td>9</td>\n",
       "      <td>789</td>\n",
       "    </tr>\n",
       "    <tr>\n",
       "      <th>157996</th>\n",
       "      <td>2022-02-28</td>\n",
       "      <td>2935</td>\n",
       "      <td>33</td>\n",
       "      <td>drinks_and_food</td>\n",
       "      <td>114</td>\n",
       "      <td>Maharashtra</td>\n",
       "      <td>0</td>\n",
       "      <td>0.20</td>\n",
       "      <td>0.00</td>\n",
       "      <td>26</td>\n",
       "      <td>0</td>\n",
       "      <td>2</td>\n",
       "      <td>0</td>\n",
       "      <td>2022</td>\n",
       "      <td>9</td>\n",
       "      <td>789</td>\n",
       "    </tr>\n",
       "    <tr>\n",
       "      <th>157997</th>\n",
       "      <td>2022-02-28</td>\n",
       "      <td>3004</td>\n",
       "      <td>33</td>\n",
       "      <td>drinks_and_food</td>\n",
       "      <td>114</td>\n",
       "      <td>Maharashtra</td>\n",
       "      <td>0</td>\n",
       "      <td>2.50</td>\n",
       "      <td>0.00</td>\n",
       "      <td>26</td>\n",
       "      <td>0</td>\n",
       "      <td>2</td>\n",
       "      <td>0</td>\n",
       "      <td>2022</td>\n",
       "      <td>9</td>\n",
       "      <td>789</td>\n",
       "    </tr>\n",
       "    <tr>\n",
       "      <th>157998</th>\n",
       "      <td>2022-02-28</td>\n",
       "      <td>3008</td>\n",
       "      <td>33</td>\n",
       "      <td>drinks_and_food</td>\n",
       "      <td>114</td>\n",
       "      <td>Maharashtra</td>\n",
       "      <td>2</td>\n",
       "      <td>1.98</td>\n",
       "      <td>3.96</td>\n",
       "      <td>26</td>\n",
       "      <td>0</td>\n",
       "      <td>2</td>\n",
       "      <td>0</td>\n",
       "      <td>2022</td>\n",
       "      <td>9</td>\n",
       "      <td>789</td>\n",
       "    </tr>\n",
       "    <tr>\n",
       "      <th>157999</th>\n",
       "      <td>2022-02-28</td>\n",
       "      <td>3021</td>\n",
       "      <td>33</td>\n",
       "      <td>drinks_and_food</td>\n",
       "      <td>114</td>\n",
       "      <td>Maharashtra</td>\n",
       "      <td>0</td>\n",
       "      <td>2.08</td>\n",
       "      <td>0.00</td>\n",
       "      <td>26</td>\n",
       "      <td>0</td>\n",
       "      <td>2</td>\n",
       "      <td>0</td>\n",
       "      <td>2022</td>\n",
       "      <td>9</td>\n",
       "      <td>789</td>\n",
       "    </tr>\n",
       "  </tbody>\n",
       "</table>\n",
       "<p>158000 rows × 16 columns</p>\n",
       "</div>"
      ],
      "text/plain": [
       "             date  Product_ID  Sub_Category            Product_Category  \\\n",
       "0      2020-01-01          74            11                      others   \n",
       "1      2020-01-01         337            11                      others   \n",
       "2      2020-01-01         423            12                      others   \n",
       "3      2020-01-01         432            12                      others   \n",
       "4      2020-01-01         581            21  fast_moving_consumer_goods   \n",
       "...           ...         ...           ...                         ...   \n",
       "157995 2022-02-28        2932            33             drinks_and_food   \n",
       "157996 2022-02-28        2935            33             drinks_and_food   \n",
       "157997 2022-02-28        3004            33             drinks_and_food   \n",
       "157998 2022-02-28        3008            33             drinks_and_food   \n",
       "157999 2022-02-28        3021            33             drinks_and_food   \n",
       "\n",
       "        Store        state  Units_Sold  Unit_Price  Total_Sales  Temperature  \\\n",
       "0         111  Maharashtra           0        2.94         0.00           26   \n",
       "1         111  Maharashtra           1        7.44         7.44           26   \n",
       "2         111  Maharashtra           0        0.97         0.00           26   \n",
       "3         111  Maharashtra           0        4.97         0.00           26   \n",
       "4         111  Maharashtra           0        4.88         0.00           26   \n",
       "...       ...          ...         ...         ...          ...          ...   \n",
       "157995    114  Maharashtra           4        2.78        11.12           26   \n",
       "157996    114  Maharashtra           0        0.20         0.00           26   \n",
       "157997    114  Maharashtra           0        2.50         0.00           26   \n",
       "157998    114  Maharashtra           2        1.98         3.96           26   \n",
       "157999    114  Maharashtra           0        2.08         0.00           26   \n",
       "\n",
       "        Holiday  month  weekday  year  week_of_year  date_order  \n",
       "0             0      1        2  2020             1           0  \n",
       "1             0      1        2  2020             1           0  \n",
       "2             0      1        2  2020             1           0  \n",
       "3             0      1        2  2020             1           0  \n",
       "4             0      1        2  2020             1           0  \n",
       "...         ...    ...      ...   ...           ...         ...  \n",
       "157995        0      2        0  2022             9         789  \n",
       "157996        0      2        0  2022             9         789  \n",
       "157997        0      2        0  2022             9         789  \n",
       "157998        0      2        0  2022             9         789  \n",
       "157999        0      2        0  2022             9         789  \n",
       "\n",
       "[158000 rows x 16 columns]"
      ]
     },
     "execution_count": 15,
     "metadata": {},
     "output_type": "execute_result"
    }
   ],
   "source": [
    "data2['date_order'] = (data2['date'] - datetime.datetime(2020, 1, 1)).dt.days\n",
    "data2"
   ]
  },
  {
   "cell_type": "code",
   "execution_count": 16,
   "id": "59434f5e",
   "metadata": {},
   "outputs": [],
   "source": [
    "data2['sale_moving_average_7days']=data2.groupby([\"Product_ID\",\"Store\"])['Total_Sales'].transform(lambda x: x.rolling(window=7,min_periods=1).mean())\n"
   ]
  },
  {
   "cell_type": "code",
   "execution_count": 17,
   "id": "ee11e644",
   "metadata": {},
   "outputs": [],
   "source": [
    "#data2.head(10)"
   ]
  },
  {
   "cell_type": "code",
   "execution_count": 18,
   "id": "ce56d7b2",
   "metadata": {},
   "outputs": [],
   "source": [
    "data2['sale_moving_average_7days_shifted-90']=data2.groupby([\"Product_ID\",\"Store\"])\\\n",
    "['sale_moving_average_7days'].transform(lambda x:x.shift(90))"
   ]
  },
  {
   "cell_type": "code",
   "execution_count": 19,
   "id": "5d3fe076",
   "metadata": {},
   "outputs": [
    {
     "data": {
      "text/html": [
       "<div>\n",
       "<style scoped>\n",
       "    .dataframe tbody tr th:only-of-type {\n",
       "        vertical-align: middle;\n",
       "    }\n",
       "\n",
       "    .dataframe tbody tr th {\n",
       "        vertical-align: top;\n",
       "    }\n",
       "\n",
       "    .dataframe thead th {\n",
       "        text-align: right;\n",
       "    }\n",
       "</style>\n",
       "<table border=\"1\" class=\"dataframe\">\n",
       "  <thead>\n",
       "    <tr style=\"text-align: right;\">\n",
       "      <th></th>\n",
       "      <th>date</th>\n",
       "      <th>Product_ID</th>\n",
       "      <th>Sub_Category</th>\n",
       "      <th>Product_Category</th>\n",
       "      <th>Store</th>\n",
       "      <th>state</th>\n",
       "      <th>Units_Sold</th>\n",
       "      <th>Unit_Price</th>\n",
       "      <th>Total_Sales</th>\n",
       "      <th>Temperature</th>\n",
       "      <th>Holiday</th>\n",
       "      <th>month</th>\n",
       "      <th>weekday</th>\n",
       "      <th>year</th>\n",
       "      <th>week_of_year</th>\n",
       "      <th>date_order</th>\n",
       "      <th>sale_moving_average_7days</th>\n",
       "      <th>sale_moving_average_7days_shifted-90</th>\n",
       "    </tr>\n",
       "  </thead>\n",
       "  <tbody>\n",
       "    <tr>\n",
       "      <th>0</th>\n",
       "      <td>2020-01-01</td>\n",
       "      <td>74</td>\n",
       "      <td>11</td>\n",
       "      <td>others</td>\n",
       "      <td>111</td>\n",
       "      <td>Maharashtra</td>\n",
       "      <td>0</td>\n",
       "      <td>2.94</td>\n",
       "      <td>0.00</td>\n",
       "      <td>26</td>\n",
       "      <td>0</td>\n",
       "      <td>1</td>\n",
       "      <td>2</td>\n",
       "      <td>2020</td>\n",
       "      <td>1</td>\n",
       "      <td>0</td>\n",
       "      <td>0.00</td>\n",
       "      <td>NaN</td>\n",
       "    </tr>\n",
       "    <tr>\n",
       "      <th>1</th>\n",
       "      <td>2020-01-01</td>\n",
       "      <td>337</td>\n",
       "      <td>11</td>\n",
       "      <td>others</td>\n",
       "      <td>111</td>\n",
       "      <td>Maharashtra</td>\n",
       "      <td>1</td>\n",
       "      <td>7.44</td>\n",
       "      <td>7.44</td>\n",
       "      <td>26</td>\n",
       "      <td>0</td>\n",
       "      <td>1</td>\n",
       "      <td>2</td>\n",
       "      <td>2020</td>\n",
       "      <td>1</td>\n",
       "      <td>0</td>\n",
       "      <td>7.44</td>\n",
       "      <td>NaN</td>\n",
       "    </tr>\n",
       "    <tr>\n",
       "      <th>2</th>\n",
       "      <td>2020-01-01</td>\n",
       "      <td>423</td>\n",
       "      <td>12</td>\n",
       "      <td>others</td>\n",
       "      <td>111</td>\n",
       "      <td>Maharashtra</td>\n",
       "      <td>0</td>\n",
       "      <td>0.97</td>\n",
       "      <td>0.00</td>\n",
       "      <td>26</td>\n",
       "      <td>0</td>\n",
       "      <td>1</td>\n",
       "      <td>2</td>\n",
       "      <td>2020</td>\n",
       "      <td>1</td>\n",
       "      <td>0</td>\n",
       "      <td>0.00</td>\n",
       "      <td>NaN</td>\n",
       "    </tr>\n",
       "    <tr>\n",
       "      <th>3</th>\n",
       "      <td>2020-01-01</td>\n",
       "      <td>432</td>\n",
       "      <td>12</td>\n",
       "      <td>others</td>\n",
       "      <td>111</td>\n",
       "      <td>Maharashtra</td>\n",
       "      <td>0</td>\n",
       "      <td>4.97</td>\n",
       "      <td>0.00</td>\n",
       "      <td>26</td>\n",
       "      <td>0</td>\n",
       "      <td>1</td>\n",
       "      <td>2</td>\n",
       "      <td>2020</td>\n",
       "      <td>1</td>\n",
       "      <td>0</td>\n",
       "      <td>0.00</td>\n",
       "      <td>NaN</td>\n",
       "    </tr>\n",
       "    <tr>\n",
       "      <th>4</th>\n",
       "      <td>2020-01-01</td>\n",
       "      <td>581</td>\n",
       "      <td>21</td>\n",
       "      <td>fast_moving_consumer_goods</td>\n",
       "      <td>111</td>\n",
       "      <td>Maharashtra</td>\n",
       "      <td>0</td>\n",
       "      <td>4.88</td>\n",
       "      <td>0.00</td>\n",
       "      <td>26</td>\n",
       "      <td>0</td>\n",
       "      <td>1</td>\n",
       "      <td>2</td>\n",
       "      <td>2020</td>\n",
       "      <td>1</td>\n",
       "      <td>0</td>\n",
       "      <td>0.00</td>\n",
       "      <td>NaN</td>\n",
       "    </tr>\n",
       "  </tbody>\n",
       "</table>\n",
       "</div>"
      ],
      "text/plain": [
       "        date  Product_ID  Sub_Category            Product_Category  Store  \\\n",
       "0 2020-01-01          74            11                      others    111   \n",
       "1 2020-01-01         337            11                      others    111   \n",
       "2 2020-01-01         423            12                      others    111   \n",
       "3 2020-01-01         432            12                      others    111   \n",
       "4 2020-01-01         581            21  fast_moving_consumer_goods    111   \n",
       "\n",
       "         state  Units_Sold  Unit_Price  Total_Sales  Temperature  Holiday  \\\n",
       "0  Maharashtra           0        2.94         0.00           26        0   \n",
       "1  Maharashtra           1        7.44         7.44           26        0   \n",
       "2  Maharashtra           0        0.97         0.00           26        0   \n",
       "3  Maharashtra           0        4.97         0.00           26        0   \n",
       "4  Maharashtra           0        4.88         0.00           26        0   \n",
       "\n",
       "   month  weekday  year  week_of_year  date_order  sale_moving_average_7days  \\\n",
       "0      1        2  2020             1           0                       0.00   \n",
       "1      1        2  2020             1           0                       7.44   \n",
       "2      1        2  2020             1           0                       0.00   \n",
       "3      1        2  2020             1           0                       0.00   \n",
       "4      1        2  2020             1           0                       0.00   \n",
       "\n",
       "   sale_moving_average_7days_shifted-90  \n",
       "0                                   NaN  \n",
       "1                                   NaN  \n",
       "2                                   NaN  \n",
       "3                                   NaN  \n",
       "4                                   NaN  "
      ]
     },
     "execution_count": 19,
     "metadata": {},
     "output_type": "execute_result"
    }
   ],
   "source": [
    "data2.head()"
   ]
  },
  {
   "cell_type": "code",
   "execution_count": 20,
   "id": "9d377150",
   "metadata": {},
   "outputs": [],
   "source": [
    "col = [i for i in data2.columns if i not in ['date','id','Sub_Category', 'Product_Category', 'state','sale_moving_average_7days']]"
   ]
  },
  {
   "cell_type": "code",
   "execution_count": 21,
   "id": "96d7c2f9",
   "metadata": {},
   "outputs": [
    {
     "data": {
      "text/plain": [
       "['Product_ID',\n",
       " 'Store',\n",
       " 'Units_Sold',\n",
       " 'Unit_Price',\n",
       " 'Total_Sales',\n",
       " 'Temperature',\n",
       " 'Holiday',\n",
       " 'month',\n",
       " 'weekday',\n",
       " 'year',\n",
       " 'week_of_year',\n",
       " 'date_order',\n",
       " 'sale_moving_average_7days_shifted-90']"
      ]
     },
     "execution_count": 21,
     "metadata": {},
     "output_type": "execute_result"
    }
   ],
   "source": [
    "col"
   ]
  },
  {
   "cell_type": "code",
   "execution_count": 22,
   "id": "e13a375d",
   "metadata": {},
   "outputs": [],
   "source": [
    "data_filter1 = data2.loc[data2['Units_Sold'] != 0]\n",
    "data_filter2 = data2.loc[data2['Units_Sold']==0]\n"
   ]
  },
  {
   "cell_type": "code",
   "execution_count": 23,
   "id": "b92cf8dc",
   "metadata": {},
   "outputs": [],
   "source": [
    "#data2[data2['Units_Sold'] == 0 ]"
   ]
  },
  {
   "cell_type": "code",
   "execution_count": 24,
   "id": "d4a6c05d",
   "metadata": {},
   "outputs": [
    {
     "data": {
      "text/plain": [
       "((64557, 18), (93443, 18))"
      ]
     },
     "execution_count": 24,
     "metadata": {},
     "output_type": "execute_result"
    }
   ],
   "source": [
    "data_filter1.shape, data_filter2.shape"
   ]
  },
  {
   "cell_type": "code",
   "execution_count": 25,
   "id": "206b6bca",
   "metadata": {},
   "outputs": [
    {
     "data": {
      "text/plain": [
       "1         1\n",
       "10        1\n",
       "15        3\n",
       "22        2\n",
       "24        1\n",
       "         ..\n",
       "157990    1\n",
       "157992    1\n",
       "157994    6\n",
       "157995    4\n",
       "157998    2\n",
       "Name: Units_Sold, Length: 64557, dtype: int64"
      ]
     },
     "execution_count": 25,
     "metadata": {},
     "output_type": "execute_result"
    }
   ],
   "source": [
    "data_filter1['Units_Sold']"
   ]
  },
  {
   "cell_type": "code",
   "execution_count": 26,
   "id": "668ffb5b",
   "metadata": {},
   "outputs": [
    {
     "data": {
      "text/plain": [
       "0         0\n",
       "2         0\n",
       "3         0\n",
       "4         0\n",
       "5         0\n",
       "         ..\n",
       "157991    0\n",
       "157993    0\n",
       "157996    0\n",
       "157997    0\n",
       "157999    0\n",
       "Name: Units_Sold, Length: 93443, dtype: int64"
      ]
     },
     "execution_count": 26,
     "metadata": {},
     "output_type": "execute_result"
    }
   ],
   "source": [
    "data_filter2['Units_Sold']"
   ]
  },
  {
   "cell_type": "code",
   "execution_count": 27,
   "id": "d3d53bcc",
   "metadata": {},
   "outputs": [],
   "source": [
    "train_new = (data_filter1[col]).dropna()"
   ]
  },
  {
   "cell_type": "code",
   "execution_count": 28,
   "id": "4ad7ed1a",
   "metadata": {},
   "outputs": [
    {
     "data": {
      "text/plain": [
       "(57247, 13)"
      ]
     },
     "execution_count": 28,
     "metadata": {},
     "output_type": "execute_result"
    }
   ],
   "source": [
    "train_new.shape"
   ]
  },
  {
   "cell_type": "code",
   "execution_count": 29,
   "id": "7ebd68c9",
   "metadata": {},
   "outputs": [
    {
     "data": {
      "text/plain": [
       "Index(['Product_ID', 'Store', 'Units_Sold', 'Unit_Price', 'Total_Sales',\n",
       "       'Temperature', 'Holiday', 'month', 'weekday', 'year', 'week_of_year',\n",
       "       'date_order', 'sale_moving_average_7days_shifted-90'],\n",
       "      dtype='object')"
      ]
     },
     "execution_count": 29,
     "metadata": {},
     "output_type": "execute_result"
    }
   ],
   "source": [
    "train_new.columns"
   ]
  },
  {
   "cell_type": "code",
   "execution_count": 30,
   "id": "4e939f1c",
   "metadata": {},
   "outputs": [
    {
     "data": {
      "text/plain": [
       "18000     2\n",
       "18004     4\n",
       "18006     4\n",
       "18007     2\n",
       "18009     7\n",
       "         ..\n",
       "157990    1\n",
       "157992    1\n",
       "157994    6\n",
       "157995    4\n",
       "157998    2\n",
       "Name: Units_Sold, Length: 57247, dtype: int64"
      ]
     },
     "execution_count": 30,
     "metadata": {},
     "output_type": "execute_result"
    }
   ],
   "source": [
    "train_new['Units_Sold']"
   ]
  },
  {
   "cell_type": "code",
   "execution_count": 31,
   "id": "12dabd72",
   "metadata": {},
   "outputs": [],
   "source": [
    "y_target = train_new['Units_Sold']\n",
    "col = [i for i in data2.columns if i not in ['date','Product_ID','Units_Sold', 'Sub_Category', 'Product_Category', 'state','sale_moving_average_7days']]"
   ]
  },
  {
   "cell_type": "code",
   "execution_count": 32,
   "id": "3ac1b45e",
   "metadata": {},
   "outputs": [],
   "source": [
    "X_train, X_test, y_train, y_test = train_test_split( train_new[col] ,train_new['Units_Sold'], test_size=0.15, random_state=42)"
   ]
  },
  {
   "cell_type": "code",
   "execution_count": 33,
   "id": "66d1534a",
   "metadata": {},
   "outputs": [
    {
     "data": {
      "text/html": [
       "<div>\n",
       "<style scoped>\n",
       "    .dataframe tbody tr th:only-of-type {\n",
       "        vertical-align: middle;\n",
       "    }\n",
       "\n",
       "    .dataframe tbody tr th {\n",
       "        vertical-align: top;\n",
       "    }\n",
       "\n",
       "    .dataframe thead th {\n",
       "        text-align: right;\n",
       "    }\n",
       "</style>\n",
       "<table border=\"1\" class=\"dataframe\">\n",
       "  <thead>\n",
       "    <tr style=\"text-align: right;\">\n",
       "      <th></th>\n",
       "      <th>Store</th>\n",
       "      <th>Unit_Price</th>\n",
       "      <th>Total_Sales</th>\n",
       "      <th>Temperature</th>\n",
       "      <th>Holiday</th>\n",
       "      <th>month</th>\n",
       "      <th>weekday</th>\n",
       "      <th>year</th>\n",
       "      <th>week_of_year</th>\n",
       "      <th>date_order</th>\n",
       "      <th>sale_moving_average_7days_shifted-90</th>\n",
       "    </tr>\n",
       "  </thead>\n",
       "  <tbody>\n",
       "    <tr>\n",
       "      <th>128233</th>\n",
       "      <td>111</td>\n",
       "      <td>0.98</td>\n",
       "      <td>5.88</td>\n",
       "      <td>27</td>\n",
       "      <td>0</td>\n",
       "      <td>10</td>\n",
       "      <td>6</td>\n",
       "      <td>2021</td>\n",
       "      <td>39</td>\n",
       "      <td>641</td>\n",
       "      <td>1.064000e+01</td>\n",
       "    </tr>\n",
       "    <tr>\n",
       "      <th>123787</th>\n",
       "      <td>114</td>\n",
       "      <td>1.97</td>\n",
       "      <td>1.97</td>\n",
       "      <td>28</td>\n",
       "      <td>0</td>\n",
       "      <td>9</td>\n",
       "      <td>4</td>\n",
       "      <td>2021</td>\n",
       "      <td>36</td>\n",
       "      <td>618</td>\n",
       "      <td>1.688571e+00</td>\n",
       "    </tr>\n",
       "    <tr>\n",
       "      <th>83038</th>\n",
       "      <td>111</td>\n",
       "      <td>2.97</td>\n",
       "      <td>2.97</td>\n",
       "      <td>28</td>\n",
       "      <td>1</td>\n",
       "      <td>2</td>\n",
       "      <td>4</td>\n",
       "      <td>2021</td>\n",
       "      <td>7</td>\n",
       "      <td>415</td>\n",
       "      <td>3.521571e+01</td>\n",
       "    </tr>\n",
       "    <tr>\n",
       "      <th>84996</th>\n",
       "      <td>114</td>\n",
       "      <td>0.20</td>\n",
       "      <td>1.60</td>\n",
       "      <td>30</td>\n",
       "      <td>0</td>\n",
       "      <td>2</td>\n",
       "      <td>6</td>\n",
       "      <td>2021</td>\n",
       "      <td>8</td>\n",
       "      <td>424</td>\n",
       "      <td>6.285714e-01</td>\n",
       "    </tr>\n",
       "    <tr>\n",
       "      <th>106546</th>\n",
       "      <td>113</td>\n",
       "      <td>0.20</td>\n",
       "      <td>2.60</td>\n",
       "      <td>28</td>\n",
       "      <td>0</td>\n",
       "      <td>6</td>\n",
       "      <td>2</td>\n",
       "      <td>2021</td>\n",
       "      <td>24</td>\n",
       "      <td>532</td>\n",
       "      <td>5.075305e-16</td>\n",
       "    </tr>\n",
       "  </tbody>\n",
       "</table>\n",
       "</div>"
      ],
      "text/plain": [
       "        Store  Unit_Price  Total_Sales  Temperature  Holiday  month  weekday  \\\n",
       "128233    111        0.98         5.88           27        0     10        6   \n",
       "123787    114        1.97         1.97           28        0      9        4   \n",
       "83038     111        2.97         2.97           28        1      2        4   \n",
       "84996     114        0.20         1.60           30        0      2        6   \n",
       "106546    113        0.20         2.60           28        0      6        2   \n",
       "\n",
       "        year  week_of_year  date_order  sale_moving_average_7days_shifted-90  \n",
       "128233  2021            39         641                          1.064000e+01  \n",
       "123787  2021            36         618                          1.688571e+00  \n",
       "83038   2021             7         415                          3.521571e+01  \n",
       "84996   2021             8         424                          6.285714e-01  \n",
       "106546  2021            24         532                          5.075305e-16  "
      ]
     },
     "execution_count": 33,
     "metadata": {},
     "output_type": "execute_result"
    }
   ],
   "source": [
    "X_train.head()"
   ]
  },
  {
   "cell_type": "code",
   "execution_count": 34,
   "id": "ed1cf8bc",
   "metadata": {},
   "outputs": [
    {
     "data": {
      "text/plain": [
       "128233     6\n",
       "123787     1\n",
       "83038      1\n",
       "84996      8\n",
       "106546    13\n",
       "Name: Units_Sold, dtype: int64"
      ]
     },
     "execution_count": 34,
     "metadata": {},
     "output_type": "execute_result"
    }
   ],
   "source": [
    "y_train.head()"
   ]
  },
  {
   "cell_type": "code",
   "execution_count": 35,
   "id": "4fb24f3f",
   "metadata": {},
   "outputs": [],
   "source": [
    "def smape(A, F):\n",
    "    return 100/len(A) * np.sum(2 * np.abs(F - A) / (np.abs(A) + np.abs(F)))"
   ]
  },
  {
   "cell_type": "code",
   "execution_count": 36,
   "id": "e21ed211",
   "metadata": {},
   "outputs": [
    {
     "name": "stderr",
     "output_type": "stream",
     "text": [
      "C:\\Users\\Ramshankar\\anaconda3\\lib\\site-packages\\xgboost\\sklearn.py:861: UserWarning: `eval_metric` in `fit` method is deprecated for better compatibility with scikit-learn, use `eval_metric` in constructor or`set_params` instead.\n",
      "  warnings.warn(\n"
     ]
    },
    {
     "name": "stdout",
     "output_type": "stream",
     "text": [
      "smape error: max_depth= 4 ,train: 1.1252187708786394 test: 1.1603542424970839\n",
      "MSE train: 0.007739688364005048 test: 0.008032769798188151\n"
     ]
    },
    {
     "name": "stderr",
     "output_type": "stream",
     "text": [
      "C:\\Users\\Ramshankar\\anaconda3\\lib\\site-packages\\xgboost\\sklearn.py:861: UserWarning: `eval_metric` in `fit` method is deprecated for better compatibility with scikit-learn, use `eval_metric` in constructor or`set_params` instead.\n",
      "  warnings.warn(\n"
     ]
    },
    {
     "name": "stdout",
     "output_type": "stream",
     "text": [
      "smape error: max_depth= 7 ,train: 0.05742828946606632 test: 0.08423568904270955\n",
      "MSE train: 0.000422402253287525 test: 0.0006679485600066302\n"
     ]
    },
    {
     "name": "stderr",
     "output_type": "stream",
     "text": [
      "C:\\Users\\Ramshankar\\anaconda3\\lib\\site-packages\\xgboost\\sklearn.py:861: UserWarning: `eval_metric` in `fit` method is deprecated for better compatibility with scikit-learn, use `eval_metric` in constructor or`set_params` instead.\n",
      "  warnings.warn(\n"
     ]
    },
    {
     "name": "stdout",
     "output_type": "stream",
     "text": [
      "smape error: max_depth= 10 ,train: 0.0028985473959578442 test: 0.02621774357570209\n",
      "MSE train: 2.1447266491987413e-05 test: 0.0002386551233755373\n"
     ]
    },
    {
     "name": "stderr",
     "output_type": "stream",
     "text": [
      "C:\\Users\\Ramshankar\\anaconda3\\lib\\site-packages\\xgboost\\sklearn.py:861: UserWarning: `eval_metric` in `fit` method is deprecated for better compatibility with scikit-learn, use `eval_metric` in constructor or`set_params` instead.\n",
      "  warnings.warn(\n"
     ]
    },
    {
     "name": "stdout",
     "output_type": "stream",
     "text": [
      "smape error: max_depth= 13 ,train: 0.0010213464524606248 test: 0.026171260679922714\n",
      "MSE train: 7.3860278990337955e-06 test: 0.00024116715819950824\n"
     ]
    },
    {
     "name": "stderr",
     "output_type": "stream",
     "text": [
      "C:\\Users\\Ramshankar\\anaconda3\\lib\\site-packages\\xgboost\\sklearn.py:861: UserWarning: `eval_metric` in `fit` method is deprecated for better compatibility with scikit-learn, use `eval_metric` in constructor or`set_params` instead.\n",
      "  warnings.warn(\n"
     ]
    },
    {
     "name": "stdout",
     "output_type": "stream",
     "text": [
      "smape error: max_depth= 16 ,train: 0.0006490111847936735 test: 0.025575424111674516\n",
      "MSE train: 4.395668789204458e-06 test: 0.00023604384796299988\n"
     ]
    }
   ],
   "source": [
    "model_sets=[]\n",
    "\n",
    "for max_depth in range(4,17,3):\n",
    "    xgb_model = xgb.XGBRegressor(max_depth=max_depth ,min_child_weight=1)\n",
    "    #xgb_model.fit(X_train,y_train,eval_metric='mae')\n",
    "    xgb_model.fit(X_train,y_train.values,eval_metric=smape)\n",
    "    model_sets.append(xgb_model)\n",
    "    y_train_pred_xgb=xgb_model.predict(X_train)\n",
    "    y_test_pred_xgb=xgb_model.predict(X_test)\n",
    "    print('smape error: max_depth=', max_depth ,',train:' , smape(y_train.values,y_train_pred_xgb),'test:',smape(y_test.values,y_test_pred_xgb))\n",
    "    print('MSE train:' , mean_absolute_error(np.log1p(y_train),np.log1p(y_train_pred_xgb)),'test:',mean_absolute_error(np.log1p(y_test),np.log1p(y_test_pred_xgb)))"
   ]
  },
  {
   "cell_type": "code",
   "execution_count": 37,
   "id": "3606c3df",
   "metadata": {},
   "outputs": [
    {
     "name": "stderr",
     "output_type": "stream",
     "text": [
      "C:\\Users\\Ramshankar\\anaconda3\\lib\\site-packages\\xgboost\\sklearn.py:861: UserWarning: `eval_metric` in `fit` method is deprecated for better compatibility with scikit-learn, use `eval_metric` in constructor or`set_params` instead.\n",
      "  warnings.warn(\n"
     ]
    },
    {
     "name": "stdout",
     "output_type": "stream",
     "text": [
      "smape error: max_depth= 16 ,train: 0.00288269630370303 test: 0.0029808080502277674\n",
      "MSE train: 2.17177026498074e-05 test: 2.255495646546331e-05\n"
     ]
    }
   ],
   "source": [
    "\n",
    "model_sets[2]\n",
    "model_sets[2].fit(train_new[col],y_target,eval_metric=smape)\n",
    "\n",
    "y_train_pred_xgb=model_sets[2].predict(X_train)\n",
    "y_test_pred_xgb=model_sets[2].predict(X_test)\n",
    "print('smape error: max_depth=', max_depth ,',train:' , smape(y_train.values,y_train_pred_xgb),'test:',smape(y_test.values,y_test_pred_xgb))\n",
    "print('MSE train:' , mean_absolute_error(np.log1p(y_train),np.log1p(y_train_pred_xgb)),'test:',mean_absolute_error(np.log1p(y_test),np.log1p(y_test_pred_xgb)))"
   ]
  },
  {
   "cell_type": "code",
   "execution_count": 39,
   "id": "f32bdd1a",
   "metadata": {},
   "outputs": [],
   "source": [
    "# Choose the model which provides less smape\n",
    "y_submission=np.rint(model_sets[2].predict(data_filter2[col]))\n",
    "#y_submission=xgb_model.predict(test_new[col])"
   ]
  },
  {
   "cell_type": "code",
   "execution_count": 40,
   "id": "fb8ce269",
   "metadata": {},
   "outputs": [
    {
     "data": {
      "text/plain": [
       "array([1., 1., 1., ..., 1., 1., 1.], dtype=float32)"
      ]
     },
     "execution_count": 40,
     "metadata": {},
     "output_type": "execute_result"
    }
   ],
   "source": [
    "y_submission"
   ]
  },
  {
   "cell_type": "code",
   "execution_count": 42,
   "id": "348061ad",
   "metadata": {},
   "outputs": [],
   "source": [
    "final = pd.DataFrame(list(zip(data_filter2['Product_ID'], data_filter2['Store'], y_submission)), \n",
    "               columns =['Product_ID', 'Store', 'Prediction']) "
   ]
  },
  {
   "cell_type": "code",
   "execution_count": 43,
   "id": "725eb119",
   "metadata": {},
   "outputs": [
    {
     "data": {
      "text/html": [
       "<div>\n",
       "<style scoped>\n",
       "    .dataframe tbody tr th:only-of-type {\n",
       "        vertical-align: middle;\n",
       "    }\n",
       "\n",
       "    .dataframe tbody tr th {\n",
       "        vertical-align: top;\n",
       "    }\n",
       "\n",
       "    .dataframe thead th {\n",
       "        text-align: right;\n",
       "    }\n",
       "</style>\n",
       "<table border=\"1\" class=\"dataframe\">\n",
       "  <thead>\n",
       "    <tr style=\"text-align: right;\">\n",
       "      <th></th>\n",
       "      <th>Product_ID</th>\n",
       "      <th>Store</th>\n",
       "      <th>Prediction</th>\n",
       "    </tr>\n",
       "  </thead>\n",
       "  <tbody>\n",
       "    <tr>\n",
       "      <th>0</th>\n",
       "      <td>74</td>\n",
       "      <td>111</td>\n",
       "      <td>1.0</td>\n",
       "    </tr>\n",
       "    <tr>\n",
       "      <th>1</th>\n",
       "      <td>423</td>\n",
       "      <td>111</td>\n",
       "      <td>1.0</td>\n",
       "    </tr>\n",
       "    <tr>\n",
       "      <th>2</th>\n",
       "      <td>432</td>\n",
       "      <td>111</td>\n",
       "      <td>1.0</td>\n",
       "    </tr>\n",
       "    <tr>\n",
       "      <th>3</th>\n",
       "      <td>581</td>\n",
       "      <td>111</td>\n",
       "      <td>1.0</td>\n",
       "    </tr>\n",
       "    <tr>\n",
       "      <th>4</th>\n",
       "      <td>611</td>\n",
       "      <td>111</td>\n",
       "      <td>1.0</td>\n",
       "    </tr>\n",
       "    <tr>\n",
       "      <th>...</th>\n",
       "      <td>...</td>\n",
       "      <td>...</td>\n",
       "      <td>...</td>\n",
       "    </tr>\n",
       "    <tr>\n",
       "      <th>93438</th>\n",
       "      <td>2768</td>\n",
       "      <td>114</td>\n",
       "      <td>1.0</td>\n",
       "    </tr>\n",
       "    <tr>\n",
       "      <th>93439</th>\n",
       "      <td>2818</td>\n",
       "      <td>114</td>\n",
       "      <td>1.0</td>\n",
       "    </tr>\n",
       "    <tr>\n",
       "      <th>93440</th>\n",
       "      <td>2935</td>\n",
       "      <td>114</td>\n",
       "      <td>1.0</td>\n",
       "    </tr>\n",
       "    <tr>\n",
       "      <th>93441</th>\n",
       "      <td>3004</td>\n",
       "      <td>114</td>\n",
       "      <td>1.0</td>\n",
       "    </tr>\n",
       "    <tr>\n",
       "      <th>93442</th>\n",
       "      <td>3021</td>\n",
       "      <td>114</td>\n",
       "      <td>1.0</td>\n",
       "    </tr>\n",
       "  </tbody>\n",
       "</table>\n",
       "<p>93443 rows × 3 columns</p>\n",
       "</div>"
      ],
      "text/plain": [
       "       Product_ID  Store  Prediction\n",
       "0              74    111         1.0\n",
       "1             423    111         1.0\n",
       "2             432    111         1.0\n",
       "3             581    111         1.0\n",
       "4             611    111         1.0\n",
       "...           ...    ...         ...\n",
       "93438        2768    114         1.0\n",
       "93439        2818    114         1.0\n",
       "93440        2935    114         1.0\n",
       "93441        3004    114         1.0\n",
       "93442        3021    114         1.0\n",
       "\n",
       "[93443 rows x 3 columns]"
      ]
     },
     "execution_count": 43,
     "metadata": {},
     "output_type": "execute_result"
    }
   ],
   "source": [
    "final"
   ]
  },
  {
   "cell_type": "code",
   "execution_count": 135,
   "id": "bef724dd",
   "metadata": {},
   "outputs": [],
   "source": [
    "#final.to_excel('Prediction_store.xlsx', index= False)"
   ]
  },
  {
   "cell_type": "code",
   "execution_count": null,
   "id": "35fa53bc",
   "metadata": {},
   "outputs": [],
   "source": []
  }
 ],
 "metadata": {
  "kernelspec": {
   "display_name": "Python 3 (ipykernel)",
   "language": "python",
   "name": "python3"
  },
  "language_info": {
   "codemirror_mode": {
    "name": "ipython",
    "version": 3
   },
   "file_extension": ".py",
   "mimetype": "text/x-python",
   "name": "python",
   "nbconvert_exporter": "python",
   "pygments_lexer": "ipython3",
   "version": "3.9.12"
  }
 },
 "nbformat": 4,
 "nbformat_minor": 5
}
