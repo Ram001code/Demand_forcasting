{
 "cells": [
  {
   "cell_type": "code",
   "execution_count": 1,
   "id": "4f1f9bdb",
   "metadata": {},
   "outputs": [],
   "source": [
    "import pandas as pd\n",
    "import numpy as np"
   ]
  },
  {
   "cell_type": "code",
   "execution_count": 2,
   "id": "a81e59ab",
   "metadata": {},
   "outputs": [
    {
     "data": {
      "text/html": [
       "<div>\n",
       "<style scoped>\n",
       "    .dataframe tbody tr th:only-of-type {\n",
       "        vertical-align: middle;\n",
       "    }\n",
       "\n",
       "    .dataframe tbody tr th {\n",
       "        vertical-align: top;\n",
       "    }\n",
       "\n",
       "    .dataframe thead th {\n",
       "        text-align: right;\n",
       "    }\n",
       "</style>\n",
       "<table border=\"1\" class=\"dataframe\">\n",
       "  <thead>\n",
       "    <tr style=\"text-align: right;\">\n",
       "      <th></th>\n",
       "      <th>Time</th>\n",
       "      <th>Temperature</th>\n",
       "    </tr>\n",
       "  </thead>\n",
       "  <tbody>\n",
       "    <tr>\n",
       "      <th>0</th>\n",
       "      <td>2012-01-01</td>\n",
       "      <td>26</td>\n",
       "    </tr>\n",
       "    <tr>\n",
       "      <th>1</th>\n",
       "      <td>2012-01-02</td>\n",
       "      <td>25</td>\n",
       "    </tr>\n",
       "    <tr>\n",
       "      <th>2</th>\n",
       "      <td>2012-01-03</td>\n",
       "      <td>25</td>\n",
       "    </tr>\n",
       "    <tr>\n",
       "      <th>3</th>\n",
       "      <td>2012-01-04</td>\n",
       "      <td>26</td>\n",
       "    </tr>\n",
       "    <tr>\n",
       "      <th>4</th>\n",
       "      <td>2012-01-05</td>\n",
       "      <td>25</td>\n",
       "    </tr>\n",
       "  </tbody>\n",
       "</table>\n",
       "</div>"
      ],
      "text/plain": [
       "         Time  Temperature\n",
       "0  2012-01-01           26\n",
       "1  2012-01-02           25\n",
       "2  2012-01-03           25\n",
       "3  2012-01-04           26\n",
       "4  2012-01-05           25"
      ]
     },
     "execution_count": 2,
     "metadata": {},
     "output_type": "execute_result"
    }
   ],
   "source": [
    "loc= 'C:\\\\Users\\\\Ramshankar\\\\OneDrive - iLink Systems Inc\\\\Documents\\\\'\n",
    "\n",
    "St1= pd.read_excel(loc + 'Tempdata2012.xlsx', sheet_name= 'jan 2012')\n",
    "St1.head()"
   ]
  },
  {
   "cell_type": "code",
   "execution_count": 3,
   "id": "b375ca8f",
   "metadata": {},
   "outputs": [],
   "source": [
    "St2 = pd.read_excel(loc + 'Tempdata2012.xlsx', sheet_name= 'Feb 2012')"
   ]
  },
  {
   "cell_type": "code",
   "execution_count": 4,
   "id": "898cfa41",
   "metadata": {},
   "outputs": [],
   "source": [
    "St3 = pd.read_excel(loc + 'Tempdata2012.xlsx', sheet_name= 'March')"
   ]
  },
  {
   "cell_type": "code",
   "execution_count": 5,
   "id": "332834e1",
   "metadata": {},
   "outputs": [],
   "source": [
    "St4 = pd.read_excel(loc + 'Tempdata2012.xlsx', sheet_name= 'April')"
   ]
  },
  {
   "cell_type": "code",
   "execution_count": 6,
   "id": "fe9f8efc",
   "metadata": {},
   "outputs": [],
   "source": [
    "St5 = pd.read_excel(loc + 'Tempdata2012.xlsx', sheet_name= 'May')"
   ]
  },
  {
   "cell_type": "code",
   "execution_count": 7,
   "id": "16036454",
   "metadata": {},
   "outputs": [],
   "source": [
    "St6 = pd.read_excel(loc + 'Tempdata2012.xlsx', sheet_name= 'June')"
   ]
  },
  {
   "cell_type": "code",
   "execution_count": 8,
   "id": "c6b90277",
   "metadata": {},
   "outputs": [],
   "source": [
    "St7 = pd.read_excel(loc + 'Tempdata2012.xlsx', sheet_name= 'July')"
   ]
  },
  {
   "cell_type": "code",
   "execution_count": 9,
   "id": "6cc12292",
   "metadata": {},
   "outputs": [],
   "source": [
    "St8 = pd.read_excel(loc + 'Tempdata2012.xlsx', sheet_name= 'Aug')"
   ]
  },
  {
   "cell_type": "code",
   "execution_count": 10,
   "id": "a6f89c2d",
   "metadata": {},
   "outputs": [],
   "source": [
    "St9 = pd.read_excel(loc + 'Tempdata2012.xlsx', sheet_name= 'Sept')"
   ]
  },
  {
   "cell_type": "code",
   "execution_count": 11,
   "id": "1c942b6c",
   "metadata": {},
   "outputs": [],
   "source": [
    "St10 = pd.read_excel(loc + 'Tempdata2012.xlsx', sheet_name= 'Oct')"
   ]
  },
  {
   "cell_type": "code",
   "execution_count": 12,
   "id": "7a519938",
   "metadata": {},
   "outputs": [],
   "source": [
    "St11 = pd.read_excel(loc + 'Tempdata2012.xlsx', sheet_name= 'Nov')"
   ]
  },
  {
   "cell_type": "code",
   "execution_count": 13,
   "id": "fa2f1aa7",
   "metadata": {},
   "outputs": [],
   "source": [
    "St12 = pd.read_excel(loc + 'Tempdata2012.xlsx', sheet_name= 'Dec')"
   ]
  },
  {
   "cell_type": "code",
   "execution_count": 14,
   "id": "a17d7215",
   "metadata": {},
   "outputs": [],
   "source": [
    "from functools import reduce\n",
    "\n",
    "#define list of DataFrames\n",
    "dfs = [St1, St2,St3,St4,St5,St6,St7,St8,St9,St10,St11,St12 ]\n",
    "\n",
    "#merge all DataFrames into one\n",
    "final_df = reduce(lambda  left,right: pd.merge(left,right,on=['Time', 'Temperature'],\n",
    "                                            how='outer'), dfs)"
   ]
  },
  {
   "cell_type": "code",
   "execution_count": 15,
   "id": "1598db0d",
   "metadata": {},
   "outputs": [
    {
     "data": {
      "text/html": [
       "<div>\n",
       "<style scoped>\n",
       "    .dataframe tbody tr th:only-of-type {\n",
       "        vertical-align: middle;\n",
       "    }\n",
       "\n",
       "    .dataframe tbody tr th {\n",
       "        vertical-align: top;\n",
       "    }\n",
       "\n",
       "    .dataframe thead th {\n",
       "        text-align: right;\n",
       "    }\n",
       "</style>\n",
       "<table border=\"1\" class=\"dataframe\">\n",
       "  <thead>\n",
       "    <tr style=\"text-align: right;\">\n",
       "      <th></th>\n",
       "      <th>Time</th>\n",
       "      <th>Temperature</th>\n",
       "    </tr>\n",
       "  </thead>\n",
       "  <tbody>\n",
       "    <tr>\n",
       "      <th>361</th>\n",
       "      <td>2012-12-27</td>\n",
       "      <td>21</td>\n",
       "    </tr>\n",
       "    <tr>\n",
       "      <th>362</th>\n",
       "      <td>2012-12-28</td>\n",
       "      <td>22</td>\n",
       "    </tr>\n",
       "    <tr>\n",
       "      <th>363</th>\n",
       "      <td>2012-12-29</td>\n",
       "      <td>24</td>\n",
       "    </tr>\n",
       "    <tr>\n",
       "      <th>364</th>\n",
       "      <td>2012-12-30</td>\n",
       "      <td>26</td>\n",
       "    </tr>\n",
       "    <tr>\n",
       "      <th>365</th>\n",
       "      <td>2012-12-31</td>\n",
       "      <td>27</td>\n",
       "    </tr>\n",
       "  </tbody>\n",
       "</table>\n",
       "</div>"
      ],
      "text/plain": [
       "           Time  Temperature\n",
       "361  2012-12-27           21\n",
       "362  2012-12-28           22\n",
       "363  2012-12-29           24\n",
       "364  2012-12-30           26\n",
       "365  2012-12-31           27"
      ]
     },
     "execution_count": 15,
     "metadata": {},
     "output_type": "execute_result"
    }
   ],
   "source": [
    "final_df.tail()"
   ]
  },
  {
   "cell_type": "markdown",
   "id": "386ada24",
   "metadata": {},
   "source": [
    "### 2013-2014"
   ]
  },
  {
   "cell_type": "code",
   "execution_count": 16,
   "id": "ad6eba53",
   "metadata": {},
   "outputs": [],
   "source": [
    "St1= pd.read_excel(loc + 'Tempdata2013-14.xlsx', sheet_name= 'Jan 2013')\n",
    "St2 = pd.read_excel(loc + 'Tempdata2013-14.xlsx', sheet_name= 'Feb')\n",
    "St3 = pd.read_excel(loc + 'Tempdata2013-14.xlsx', sheet_name= 'March')\n",
    "St4 = pd.read_excel(loc + 'Tempdata2013-14.xlsx', sheet_name= 'April')\n",
    "St5 = pd.read_excel(loc + 'Tempdata2013-14.xlsx', sheet_name= 'May')\n",
    "St6 = pd.read_excel(loc + 'Tempdata2013-14.xlsx', sheet_name= 'June')\n",
    "St7 = pd.read_excel(loc + 'Tempdata2013-14.xlsx', sheet_name= 'July')\n",
    "St8 = pd.read_excel(loc + 'Tempdata2013-14.xlsx', sheet_name= 'Aug')\n",
    "St9 = pd.read_excel(loc + 'Tempdata2013-14.xlsx', sheet_name= 'Sept')\n",
    "St10 = pd.read_excel(loc + 'Tempdata2013-14.xlsx', sheet_name= 'Oct')\n",
    "St11 = pd.read_excel(loc + 'Tempdata2013-14.xlsx', sheet_name= 'Nov')\n",
    "St12 = pd.read_excel(loc + 'Tempdata2013-14.xlsx', sheet_name= 'Dec')\n",
    "St13 = pd.read_excel(loc + 'Tempdata2013-14.xlsx', sheet_name= 'Jan 2014')\n",
    "St14 = pd.read_excel(loc + 'Tempdata2013-14.xlsx', sheet_name= 'Feb 2014')"
   ]
  },
  {
   "cell_type": "code",
   "execution_count": 17,
   "id": "6aa17d83",
   "metadata": {},
   "outputs": [],
   "source": [
    "from functools import reduce\n",
    "\n",
    "#define list of DataFrames\n",
    "df2 = [St1, St2,St3,St4,St5,St6,St7,St8,St9,St10,St11,St12,St13,St14 ]\n",
    "\n",
    "#merge all DataFrames into one\n",
    "final_df2 = reduce(lambda  left,right: pd.merge(left,right,on=['Time', 'Temperature'],\n",
    "                                            how='outer'), df2)"
   ]
  },
  {
   "cell_type": "code",
   "execution_count": 18,
   "id": "c0352005",
   "metadata": {},
   "outputs": [
    {
     "data": {
      "text/html": [
       "<div>\n",
       "<style scoped>\n",
       "    .dataframe tbody tr th:only-of-type {\n",
       "        vertical-align: middle;\n",
       "    }\n",
       "\n",
       "    .dataframe tbody tr th {\n",
       "        vertical-align: top;\n",
       "    }\n",
       "\n",
       "    .dataframe thead th {\n",
       "        text-align: right;\n",
       "    }\n",
       "</style>\n",
       "<table border=\"1\" class=\"dataframe\">\n",
       "  <thead>\n",
       "    <tr style=\"text-align: right;\">\n",
       "      <th></th>\n",
       "      <th>Time</th>\n",
       "      <th>Temperature</th>\n",
       "    </tr>\n",
       "  </thead>\n",
       "  <tbody>\n",
       "    <tr>\n",
       "      <th>0</th>\n",
       "      <td>2013-01-01</td>\n",
       "      <td>29</td>\n",
       "    </tr>\n",
       "    <tr>\n",
       "      <th>1</th>\n",
       "      <td>2013-01-02</td>\n",
       "      <td>27</td>\n",
       "    </tr>\n",
       "    <tr>\n",
       "      <th>2</th>\n",
       "      <td>2013-01-03</td>\n",
       "      <td>27</td>\n",
       "    </tr>\n",
       "    <tr>\n",
       "      <th>3</th>\n",
       "      <td>2013-01-04</td>\n",
       "      <td>28</td>\n",
       "    </tr>\n",
       "    <tr>\n",
       "      <th>4</th>\n",
       "      <td>2013-01-05</td>\n",
       "      <td>26</td>\n",
       "    </tr>\n",
       "    <tr>\n",
       "      <th>...</th>\n",
       "      <td>...</td>\n",
       "      <td>...</td>\n",
       "    </tr>\n",
       "    <tr>\n",
       "      <th>419</th>\n",
       "      <td>2014-02-24</td>\n",
       "      <td>29</td>\n",
       "    </tr>\n",
       "    <tr>\n",
       "      <th>420</th>\n",
       "      <td>2014-02-25</td>\n",
       "      <td>29</td>\n",
       "    </tr>\n",
       "    <tr>\n",
       "      <th>421</th>\n",
       "      <td>2014-02-26</td>\n",
       "      <td>29</td>\n",
       "    </tr>\n",
       "    <tr>\n",
       "      <th>422</th>\n",
       "      <td>2014-02-27</td>\n",
       "      <td>29</td>\n",
       "    </tr>\n",
       "    <tr>\n",
       "      <th>423</th>\n",
       "      <td>2014-02-28</td>\n",
       "      <td>26</td>\n",
       "    </tr>\n",
       "  </tbody>\n",
       "</table>\n",
       "<p>424 rows × 2 columns</p>\n",
       "</div>"
      ],
      "text/plain": [
       "           Time  Temperature\n",
       "0    2013-01-01           29\n",
       "1    2013-01-02           27\n",
       "2    2013-01-03           27\n",
       "3    2013-01-04           28\n",
       "4    2013-01-05           26\n",
       "..          ...          ...\n",
       "419  2014-02-24           29\n",
       "420  2014-02-25           29\n",
       "421  2014-02-26           29\n",
       "422  2014-02-27           29\n",
       "423  2014-02-28           26\n",
       "\n",
       "[424 rows x 2 columns]"
      ]
     },
     "execution_count": 18,
     "metadata": {},
     "output_type": "execute_result"
    }
   ],
   "source": [
    "final_df2"
   ]
  },
  {
   "cell_type": "code",
   "execution_count": 19,
   "id": "d4854a6e",
   "metadata": {},
   "outputs": [],
   "source": [
    "Temp_data = pd.merge(final_df, final_df2, on=['Time', 'Temperature'], how='outer')"
   ]
  },
  {
   "cell_type": "code",
   "execution_count": 20,
   "id": "270dd087",
   "metadata": {},
   "outputs": [
    {
     "data": {
      "text/html": [
       "<div>\n",
       "<style scoped>\n",
       "    .dataframe tbody tr th:only-of-type {\n",
       "        vertical-align: middle;\n",
       "    }\n",
       "\n",
       "    .dataframe tbody tr th {\n",
       "        vertical-align: top;\n",
       "    }\n",
       "\n",
       "    .dataframe thead th {\n",
       "        text-align: right;\n",
       "    }\n",
       "</style>\n",
       "<table border=\"1\" class=\"dataframe\">\n",
       "  <thead>\n",
       "    <tr style=\"text-align: right;\">\n",
       "      <th></th>\n",
       "      <th>Time</th>\n",
       "      <th>Temperature</th>\n",
       "    </tr>\n",
       "  </thead>\n",
       "  <tbody>\n",
       "    <tr>\n",
       "      <th>0</th>\n",
       "      <td>2012-01-01</td>\n",
       "      <td>26</td>\n",
       "    </tr>\n",
       "    <tr>\n",
       "      <th>1</th>\n",
       "      <td>2012-01-02</td>\n",
       "      <td>25</td>\n",
       "    </tr>\n",
       "    <tr>\n",
       "      <th>2</th>\n",
       "      <td>2012-01-03</td>\n",
       "      <td>25</td>\n",
       "    </tr>\n",
       "    <tr>\n",
       "      <th>3</th>\n",
       "      <td>2012-01-04</td>\n",
       "      <td>26</td>\n",
       "    </tr>\n",
       "    <tr>\n",
       "      <th>4</th>\n",
       "      <td>2012-01-05</td>\n",
       "      <td>25</td>\n",
       "    </tr>\n",
       "    <tr>\n",
       "      <th>...</th>\n",
       "      <td>...</td>\n",
       "      <td>...</td>\n",
       "    </tr>\n",
       "    <tr>\n",
       "      <th>785</th>\n",
       "      <td>2014-02-24</td>\n",
       "      <td>29</td>\n",
       "    </tr>\n",
       "    <tr>\n",
       "      <th>786</th>\n",
       "      <td>2014-02-25</td>\n",
       "      <td>29</td>\n",
       "    </tr>\n",
       "    <tr>\n",
       "      <th>787</th>\n",
       "      <td>2014-02-26</td>\n",
       "      <td>29</td>\n",
       "    </tr>\n",
       "    <tr>\n",
       "      <th>788</th>\n",
       "      <td>2014-02-27</td>\n",
       "      <td>29</td>\n",
       "    </tr>\n",
       "    <tr>\n",
       "      <th>789</th>\n",
       "      <td>2014-02-28</td>\n",
       "      <td>26</td>\n",
       "    </tr>\n",
       "  </tbody>\n",
       "</table>\n",
       "<p>790 rows × 2 columns</p>\n",
       "</div>"
      ],
      "text/plain": [
       "           Time  Temperature\n",
       "0    2012-01-01           26\n",
       "1    2012-01-02           25\n",
       "2    2012-01-03           25\n",
       "3    2012-01-04           26\n",
       "4    2012-01-05           25\n",
       "..          ...          ...\n",
       "785  2014-02-24           29\n",
       "786  2014-02-25           29\n",
       "787  2014-02-26           29\n",
       "788  2014-02-27           29\n",
       "789  2014-02-28           26\n",
       "\n",
       "[790 rows x 2 columns]"
      ]
     },
     "execution_count": 20,
     "metadata": {},
     "output_type": "execute_result"
    }
   ],
   "source": [
    "Temp_data"
   ]
  },
  {
   "cell_type": "code",
   "execution_count": 22,
   "id": "5ab6607d",
   "metadata": {},
   "outputs": [
    {
     "name": "stdout",
     "output_type": "stream",
     "text": [
      "<class 'pandas.core.frame.DataFrame'>\n",
      "Int64Index: 790 entries, 0 to 789\n",
      "Data columns (total 2 columns):\n",
      " #   Column       Non-Null Count  Dtype \n",
      "---  ------       --------------  ----- \n",
      " 0   Time         790 non-null    object\n",
      " 1   Temperature  790 non-null    int64 \n",
      "dtypes: int64(1), object(1)\n",
      "memory usage: 18.5+ KB\n"
     ]
    }
   ],
   "source": [
    "Temp_data.info()"
   ]
  },
  {
   "cell_type": "code",
   "execution_count": 27,
   "id": "491b6aca",
   "metadata": {},
   "outputs": [],
   "source": [
    "Temp_data= Temp_data.rename(columns= {'Time': 'date'})"
   ]
  },
  {
   "cell_type": "code",
   "execution_count": 28,
   "id": "be53f577",
   "metadata": {},
   "outputs": [
    {
     "name": "stdout",
     "output_type": "stream",
     "text": [
      "<class 'pandas.core.frame.DataFrame'>\n",
      "Int64Index: 790 entries, 0 to 789\n",
      "Data columns (total 2 columns):\n",
      " #   Column       Non-Null Count  Dtype \n",
      "---  ------       --------------  ----- \n",
      " 0   date         790 non-null    object\n",
      " 1   Temperature  790 non-null    int64 \n",
      "dtypes: int64(1), object(1)\n",
      "memory usage: 18.5+ KB\n"
     ]
    }
   ],
   "source": [
    "Temp_data.info()"
   ]
  },
  {
   "cell_type": "code",
   "execution_count": null,
   "id": "165978c4",
   "metadata": {},
   "outputs": [],
   "source": [
    "#out= 'C:\\\\Users\\\\Ramshankar\\\\OneDrive - iLink Systems Inc\\\\Documents\\\\Costco\\\\Dataset\\\\'\n",
    "\n",
    "#Temp_data.to_excel( out + 'Temperature_data_daily.xlsx')"
   ]
  },
  {
   "cell_type": "code",
   "execution_count": null,
   "id": "7e7bea89",
   "metadata": {},
   "outputs": [],
   "source": [
    "#Temp_data['Time'] = Temp_data['Time'].astype('datetime64[ns]')"
   ]
  },
  {
   "cell_type": "code",
   "execution_count": null,
   "id": "1597c8b9",
   "metadata": {},
   "outputs": [],
   "source": [
    "#Temp_data.info()"
   ]
  },
  {
   "cell_type": "code",
   "execution_count": null,
   "id": "7048dc8b",
   "metadata": {},
   "outputs": [],
   "source": [
    "##setting \"Date\" column as index.\n",
    "#Temp_data.set_index('Time', inplace=True)\n",
    "\n",
    "##using resample() to convert to weekly data\n",
    "#Temp_data1 =Temp_data.resample('w').mean()"
   ]
  },
  {
   "cell_type": "code",
   "execution_count": null,
   "id": "2db92b29",
   "metadata": {},
   "outputs": [],
   "source": [
    "#Temp_data1.reset_index()"
   ]
  },
  {
   "cell_type": "code",
   "execution_count": null,
   "id": "51409327",
   "metadata": {},
   "outputs": [],
   "source": [
    "#Temp_data1.reset_index(inplace=True)"
   ]
  },
  {
   "cell_type": "code",
   "execution_count": null,
   "id": "857e2122",
   "metadata": {},
   "outputs": [],
   "source": [
    "#Temp_data1.info()"
   ]
  },
  {
   "cell_type": "code",
   "execution_count": null,
   "id": "fed6265e",
   "metadata": {},
   "outputs": [],
   "source": [
    "#Temp_data1['Date']= Temp_data1['Time']"
   ]
  },
  {
   "cell_type": "code",
   "execution_count": null,
   "id": "5f0c39df",
   "metadata": {},
   "outputs": [],
   "source": [
    "#Temp_data1['Time']= pd.to_datetime(Temp_data1['Time'])\n",
    "#Temp_data1['year_month']= Temp_data1['Time'].dt.to_period('M')"
   ]
  },
  {
   "cell_type": "code",
   "execution_count": null,
   "id": "9ccd6f61",
   "metadata": {},
   "outputs": [],
   "source": [
    "#Temp_data1.head(10)"
   ]
  },
  {
   "cell_type": "code",
   "execution_count": null,
   "id": "efa3f4b2",
   "metadata": {},
   "outputs": [],
   "source": [
    "#Temp_data1['Temperature'] = Temp_data1['Temperature'].round(decimals = 2)"
   ]
  },
  {
   "cell_type": "code",
   "execution_count": null,
   "id": "6edcc03b",
   "metadata": {},
   "outputs": [],
   "source": [
    "#Temp_data1"
   ]
  },
  {
   "cell_type": "code",
   "execution_count": null,
   "id": "d3760358",
   "metadata": {},
   "outputs": [],
   "source": [
    "#Temp_data1 = Temp_data1.drop(['Time'], axis=1)\n",
    "#Temp_data1"
   ]
  },
  {
   "cell_type": "code",
   "execution_count": null,
   "id": "7e4a738c",
   "metadata": {},
   "outputs": [],
   "source": [
    "#Temp_data1.info()"
   ]
  },
  {
   "cell_type": "code",
   "execution_count": null,
   "id": "8881a252",
   "metadata": {},
   "outputs": [],
   "source": [
    "#Temp_data1['year_month'] =   Temp_data1['year_month'].astype(str)"
   ]
  },
  {
   "cell_type": "code",
   "execution_count": null,
   "id": "78565e6d",
   "metadata": {},
   "outputs": [],
   "source": [
    "#Temp_data1.info()"
   ]
  },
  {
   "cell_type": "code",
   "execution_count": null,
   "id": "29fa8252",
   "metadata": {},
   "outputs": [],
   "source": [
    "#out= 'C:\\\\Users\\\\Ramshankar\\\\OneDrive - iLink Systems Inc\\\\Documents\\\\Costco\\\\Dataset\\\\'\n",
    "\n",
    "#Temp_data1.to_excel( out + 'Temperature_data.xlsx')"
   ]
  },
  {
   "cell_type": "markdown",
   "id": "2a6c2255",
   "metadata": {},
   "source": [
    "### Loading inventory data"
   ]
  },
  {
   "cell_type": "code",
   "execution_count": 24,
   "id": "b8f04051",
   "metadata": {},
   "outputs": [
    {
     "data": {
      "text/html": [
       "<div>\n",
       "<style scoped>\n",
       "    .dataframe tbody tr th:only-of-type {\n",
       "        vertical-align: middle;\n",
       "    }\n",
       "\n",
       "    .dataframe tbody tr th {\n",
       "        vertical-align: top;\n",
       "    }\n",
       "\n",
       "    .dataframe thead th {\n",
       "        text-align: right;\n",
       "    }\n",
       "</style>\n",
       "<table border=\"1\" class=\"dataframe\">\n",
       "  <thead>\n",
       "    <tr style=\"text-align: right;\">\n",
       "      <th></th>\n",
       "      <th>date</th>\n",
       "      <th>product_identifier</th>\n",
       "      <th>department_identifier</th>\n",
       "      <th>category_of_product</th>\n",
       "      <th>outlet</th>\n",
       "      <th>state</th>\n",
       "      <th>sales</th>\n",
       "      <th>week_id</th>\n",
       "      <th>sell_price</th>\n",
       "      <th>year_month</th>\n",
       "      <th>net Sales</th>\n",
       "    </tr>\n",
       "  </thead>\n",
       "  <tbody>\n",
       "    <tr>\n",
       "      <th>0</th>\n",
       "      <td>2012-01-01</td>\n",
       "      <td>74</td>\n",
       "      <td>11</td>\n",
       "      <td>others</td>\n",
       "      <td>111</td>\n",
       "      <td>Maharashtra</td>\n",
       "      <td>0</td>\n",
       "      <td>49</td>\n",
       "      <td>2.94</td>\n",
       "      <td>2012-01</td>\n",
       "      <td>0.00</td>\n",
       "    </tr>\n",
       "    <tr>\n",
       "      <th>1</th>\n",
       "      <td>2012-01-01</td>\n",
       "      <td>337</td>\n",
       "      <td>11</td>\n",
       "      <td>others</td>\n",
       "      <td>111</td>\n",
       "      <td>Maharashtra</td>\n",
       "      <td>1</td>\n",
       "      <td>49</td>\n",
       "      <td>7.44</td>\n",
       "      <td>2012-01</td>\n",
       "      <td>7.44</td>\n",
       "    </tr>\n",
       "    <tr>\n",
       "      <th>2</th>\n",
       "      <td>2012-01-01</td>\n",
       "      <td>423</td>\n",
       "      <td>12</td>\n",
       "      <td>others</td>\n",
       "      <td>111</td>\n",
       "      <td>Maharashtra</td>\n",
       "      <td>0</td>\n",
       "      <td>49</td>\n",
       "      <td>0.97</td>\n",
       "      <td>2012-01</td>\n",
       "      <td>0.00</td>\n",
       "    </tr>\n",
       "    <tr>\n",
       "      <th>3</th>\n",
       "      <td>2012-01-01</td>\n",
       "      <td>432</td>\n",
       "      <td>12</td>\n",
       "      <td>others</td>\n",
       "      <td>111</td>\n",
       "      <td>Maharashtra</td>\n",
       "      <td>0</td>\n",
       "      <td>49</td>\n",
       "      <td>4.97</td>\n",
       "      <td>2012-01</td>\n",
       "      <td>0.00</td>\n",
       "    </tr>\n",
       "    <tr>\n",
       "      <th>4</th>\n",
       "      <td>2012-01-01</td>\n",
       "      <td>581</td>\n",
       "      <td>21</td>\n",
       "      <td>fast_moving_consumer_goods</td>\n",
       "      <td>111</td>\n",
       "      <td>Maharashtra</td>\n",
       "      <td>0</td>\n",
       "      <td>49</td>\n",
       "      <td>4.88</td>\n",
       "      <td>2012-01</td>\n",
       "      <td>0.00</td>\n",
       "    </tr>\n",
       "  </tbody>\n",
       "</table>\n",
       "</div>"
      ],
      "text/plain": [
       "         date  product_identifier  department_identifier  \\\n",
       "0  2012-01-01                  74                     11   \n",
       "1  2012-01-01                 337                     11   \n",
       "2  2012-01-01                 423                     12   \n",
       "3  2012-01-01                 432                     12   \n",
       "4  2012-01-01                 581                     21   \n",
       "\n",
       "          category_of_product  outlet        state  sales  week_id  \\\n",
       "0                      others     111  Maharashtra      0       49   \n",
       "1                      others     111  Maharashtra      1       49   \n",
       "2                      others     111  Maharashtra      0       49   \n",
       "3                      others     111  Maharashtra      0       49   \n",
       "4  fast_moving_consumer_goods     111  Maharashtra      0       49   \n",
       "\n",
       "   sell_price year_month  net Sales  \n",
       "0        2.94    2012-01       0.00  \n",
       "1        7.44    2012-01       7.44  \n",
       "2        0.97    2012-01       0.00  \n",
       "3        4.97    2012-01       0.00  \n",
       "4        4.88    2012-01       0.00  "
      ]
     },
     "execution_count": 24,
     "metadata": {},
     "output_type": "execute_result"
    }
   ],
   "source": [
    "loc= 'C:\\\\Users\\\\Ramshankar\\\\OneDrive - iLink Systems Inc\\\\Documents\\\\Costco\\\\Dataset\\\\Indian_retail_data\\\\'\n",
    "\n",
    "#Loading Date to week id map\n",
    "\n",
    "df1= pd.read_excel(loc + 'inventory_data_final.xlsx', sheet_name= 'Sheet1')\n",
    "df1.head()"
   ]
  },
  {
   "cell_type": "code",
   "execution_count": 25,
   "id": "e7cddb3f",
   "metadata": {},
   "outputs": [
    {
     "name": "stdout",
     "output_type": "stream",
     "text": [
      "<class 'pandas.core.frame.DataFrame'>\n",
      "RangeIndex: 395000 entries, 0 to 394999\n",
      "Data columns (total 11 columns):\n",
      " #   Column                 Non-Null Count   Dtype  \n",
      "---  ------                 --------------   -----  \n",
      " 0   date                   395000 non-null  object \n",
      " 1   product_identifier     395000 non-null  int64  \n",
      " 2   department_identifier  395000 non-null  int64  \n",
      " 3   category_of_product    395000 non-null  object \n",
      " 4   outlet                 395000 non-null  int64  \n",
      " 5   state                  395000 non-null  object \n",
      " 6   sales                  395000 non-null  int64  \n",
      " 7   week_id                395000 non-null  int64  \n",
      " 8   sell_price             395000 non-null  float64\n",
      " 9   year_month             395000 non-null  object \n",
      " 10  net Sales              395000 non-null  float64\n",
      "dtypes: float64(2), int64(5), object(4)\n",
      "memory usage: 33.1+ MB\n"
     ]
    }
   ],
   "source": [
    "df1.info()"
   ]
  },
  {
   "cell_type": "code",
   "execution_count": null,
   "id": "abeea9c2",
   "metadata": {},
   "outputs": [],
   "source": [
    "#changing year_month to time_period format\n",
    "\n",
    "#df1['year_month'] = pd.to_datetime(df1['year_month'])\n",
    "#df1['year_month'] = df1['year_month'].dt.to_period('M')"
   ]
  },
  {
   "cell_type": "code",
   "execution_count": null,
   "id": "016969bf",
   "metadata": {},
   "outputs": [],
   "source": [
    "#df1.info()"
   ]
  },
  {
   "cell_type": "code",
   "execution_count": null,
   "id": "da85ace9",
   "metadata": {},
   "outputs": [],
   "source": [
    "#df1[['date', 'week_id']]"
   ]
  },
  {
   "cell_type": "code",
   "execution_count": 29,
   "id": "79cd6840",
   "metadata": {},
   "outputs": [],
   "source": [
    "df2= df1[df1['state']=='Maharashtra']"
   ]
  },
  {
   "cell_type": "code",
   "execution_count": 30,
   "id": "2806928b",
   "metadata": {},
   "outputs": [
    {
     "data": {
      "text/html": [
       "<div>\n",
       "<style scoped>\n",
       "    .dataframe tbody tr th:only-of-type {\n",
       "        vertical-align: middle;\n",
       "    }\n",
       "\n",
       "    .dataframe tbody tr th {\n",
       "        vertical-align: top;\n",
       "    }\n",
       "\n",
       "    .dataframe thead th {\n",
       "        text-align: right;\n",
       "    }\n",
       "</style>\n",
       "<table border=\"1\" class=\"dataframe\">\n",
       "  <thead>\n",
       "    <tr style=\"text-align: right;\">\n",
       "      <th></th>\n",
       "      <th>date</th>\n",
       "      <th>product_identifier</th>\n",
       "      <th>department_identifier</th>\n",
       "      <th>category_of_product</th>\n",
       "      <th>outlet</th>\n",
       "      <th>state</th>\n",
       "      <th>sales</th>\n",
       "      <th>week_id</th>\n",
       "      <th>sell_price</th>\n",
       "      <th>year_month</th>\n",
       "      <th>net Sales</th>\n",
       "    </tr>\n",
       "  </thead>\n",
       "  <tbody>\n",
       "    <tr>\n",
       "      <th>0</th>\n",
       "      <td>2012-01-01</td>\n",
       "      <td>74</td>\n",
       "      <td>11</td>\n",
       "      <td>others</td>\n",
       "      <td>111</td>\n",
       "      <td>Maharashtra</td>\n",
       "      <td>0</td>\n",
       "      <td>49</td>\n",
       "      <td>2.94</td>\n",
       "      <td>2012-01</td>\n",
       "      <td>0.00</td>\n",
       "    </tr>\n",
       "    <tr>\n",
       "      <th>1</th>\n",
       "      <td>2012-01-01</td>\n",
       "      <td>337</td>\n",
       "      <td>11</td>\n",
       "      <td>others</td>\n",
       "      <td>111</td>\n",
       "      <td>Maharashtra</td>\n",
       "      <td>1</td>\n",
       "      <td>49</td>\n",
       "      <td>7.44</td>\n",
       "      <td>2012-01</td>\n",
       "      <td>7.44</td>\n",
       "    </tr>\n",
       "    <tr>\n",
       "      <th>2</th>\n",
       "      <td>2012-01-01</td>\n",
       "      <td>423</td>\n",
       "      <td>12</td>\n",
       "      <td>others</td>\n",
       "      <td>111</td>\n",
       "      <td>Maharashtra</td>\n",
       "      <td>0</td>\n",
       "      <td>49</td>\n",
       "      <td>0.97</td>\n",
       "      <td>2012-01</td>\n",
       "      <td>0.00</td>\n",
       "    </tr>\n",
       "    <tr>\n",
       "      <th>3</th>\n",
       "      <td>2012-01-01</td>\n",
       "      <td>432</td>\n",
       "      <td>12</td>\n",
       "      <td>others</td>\n",
       "      <td>111</td>\n",
       "      <td>Maharashtra</td>\n",
       "      <td>0</td>\n",
       "      <td>49</td>\n",
       "      <td>4.97</td>\n",
       "      <td>2012-01</td>\n",
       "      <td>0.00</td>\n",
       "    </tr>\n",
       "    <tr>\n",
       "      <th>4</th>\n",
       "      <td>2012-01-01</td>\n",
       "      <td>581</td>\n",
       "      <td>21</td>\n",
       "      <td>fast_moving_consumer_goods</td>\n",
       "      <td>111</td>\n",
       "      <td>Maharashtra</td>\n",
       "      <td>0</td>\n",
       "      <td>49</td>\n",
       "      <td>4.88</td>\n",
       "      <td>2012-01</td>\n",
       "      <td>0.00</td>\n",
       "    </tr>\n",
       "    <tr>\n",
       "      <th>...</th>\n",
       "      <td>...</td>\n",
       "      <td>...</td>\n",
       "      <td>...</td>\n",
       "      <td>...</td>\n",
       "      <td>...</td>\n",
       "      <td>...</td>\n",
       "      <td>...</td>\n",
       "      <td>...</td>\n",
       "      <td>...</td>\n",
       "      <td>...</td>\n",
       "      <td>...</td>\n",
       "    </tr>\n",
       "    <tr>\n",
       "      <th>394695</th>\n",
       "      <td>2014-02-28</td>\n",
       "      <td>2932</td>\n",
       "      <td>33</td>\n",
       "      <td>drinks_and_food</td>\n",
       "      <td>114</td>\n",
       "      <td>Maharashtra</td>\n",
       "      <td>4</td>\n",
       "      <td>161</td>\n",
       "      <td>2.78</td>\n",
       "      <td>2014-02</td>\n",
       "      <td>11.12</td>\n",
       "    </tr>\n",
       "    <tr>\n",
       "      <th>394696</th>\n",
       "      <td>2014-02-28</td>\n",
       "      <td>2935</td>\n",
       "      <td>33</td>\n",
       "      <td>drinks_and_food</td>\n",
       "      <td>114</td>\n",
       "      <td>Maharashtra</td>\n",
       "      <td>0</td>\n",
       "      <td>161</td>\n",
       "      <td>0.20</td>\n",
       "      <td>2014-02</td>\n",
       "      <td>0.00</td>\n",
       "    </tr>\n",
       "    <tr>\n",
       "      <th>394697</th>\n",
       "      <td>2014-02-28</td>\n",
       "      <td>3004</td>\n",
       "      <td>33</td>\n",
       "      <td>drinks_and_food</td>\n",
       "      <td>114</td>\n",
       "      <td>Maharashtra</td>\n",
       "      <td>0</td>\n",
       "      <td>161</td>\n",
       "      <td>2.50</td>\n",
       "      <td>2014-02</td>\n",
       "      <td>0.00</td>\n",
       "    </tr>\n",
       "    <tr>\n",
       "      <th>394698</th>\n",
       "      <td>2014-02-28</td>\n",
       "      <td>3008</td>\n",
       "      <td>33</td>\n",
       "      <td>drinks_and_food</td>\n",
       "      <td>114</td>\n",
       "      <td>Maharashtra</td>\n",
       "      <td>2</td>\n",
       "      <td>161</td>\n",
       "      <td>1.98</td>\n",
       "      <td>2014-02</td>\n",
       "      <td>3.96</td>\n",
       "    </tr>\n",
       "    <tr>\n",
       "      <th>394699</th>\n",
       "      <td>2014-02-28</td>\n",
       "      <td>3021</td>\n",
       "      <td>33</td>\n",
       "      <td>drinks_and_food</td>\n",
       "      <td>114</td>\n",
       "      <td>Maharashtra</td>\n",
       "      <td>0</td>\n",
       "      <td>161</td>\n",
       "      <td>2.08</td>\n",
       "      <td>2014-02</td>\n",
       "      <td>0.00</td>\n",
       "    </tr>\n",
       "  </tbody>\n",
       "</table>\n",
       "<p>158000 rows × 11 columns</p>\n",
       "</div>"
      ],
      "text/plain": [
       "              date  product_identifier  department_identifier  \\\n",
       "0       2012-01-01                  74                     11   \n",
       "1       2012-01-01                 337                     11   \n",
       "2       2012-01-01                 423                     12   \n",
       "3       2012-01-01                 432                     12   \n",
       "4       2012-01-01                 581                     21   \n",
       "...            ...                 ...                    ...   \n",
       "394695  2014-02-28                2932                     33   \n",
       "394696  2014-02-28                2935                     33   \n",
       "394697  2014-02-28                3004                     33   \n",
       "394698  2014-02-28                3008                     33   \n",
       "394699  2014-02-28                3021                     33   \n",
       "\n",
       "               category_of_product  outlet        state  sales  week_id  \\\n",
       "0                           others     111  Maharashtra      0       49   \n",
       "1                           others     111  Maharashtra      1       49   \n",
       "2                           others     111  Maharashtra      0       49   \n",
       "3                           others     111  Maharashtra      0       49   \n",
       "4       fast_moving_consumer_goods     111  Maharashtra      0       49   \n",
       "...                            ...     ...          ...    ...      ...   \n",
       "394695             drinks_and_food     114  Maharashtra      4      161   \n",
       "394696             drinks_and_food     114  Maharashtra      0      161   \n",
       "394697             drinks_and_food     114  Maharashtra      0      161   \n",
       "394698             drinks_and_food     114  Maharashtra      2      161   \n",
       "394699             drinks_and_food     114  Maharashtra      0      161   \n",
       "\n",
       "        sell_price year_month  net Sales  \n",
       "0             2.94    2012-01       0.00  \n",
       "1             7.44    2012-01       7.44  \n",
       "2             0.97    2012-01       0.00  \n",
       "3             4.97    2012-01       0.00  \n",
       "4             4.88    2012-01       0.00  \n",
       "...            ...        ...        ...  \n",
       "394695        2.78    2014-02      11.12  \n",
       "394696        0.20    2014-02       0.00  \n",
       "394697        2.50    2014-02       0.00  \n",
       "394698        1.98    2014-02       3.96  \n",
       "394699        2.08    2014-02       0.00  \n",
       "\n",
       "[158000 rows x 11 columns]"
      ]
     },
     "execution_count": 30,
     "metadata": {},
     "output_type": "execute_result"
    }
   ],
   "source": [
    "df2"
   ]
  },
  {
   "cell_type": "code",
   "execution_count": 31,
   "id": "bf22b9f6",
   "metadata": {},
   "outputs": [],
   "source": [
    "data= pd.merge(df2,Temp_data, on=['date'], how='inner' )"
   ]
  },
  {
   "cell_type": "code",
   "execution_count": 32,
   "id": "a4942d81",
   "metadata": {},
   "outputs": [
    {
     "data": {
      "text/html": [
       "<div>\n",
       "<style scoped>\n",
       "    .dataframe tbody tr th:only-of-type {\n",
       "        vertical-align: middle;\n",
       "    }\n",
       "\n",
       "    .dataframe tbody tr th {\n",
       "        vertical-align: top;\n",
       "    }\n",
       "\n",
       "    .dataframe thead th {\n",
       "        text-align: right;\n",
       "    }\n",
       "</style>\n",
       "<table border=\"1\" class=\"dataframe\">\n",
       "  <thead>\n",
       "    <tr style=\"text-align: right;\">\n",
       "      <th></th>\n",
       "      <th>date</th>\n",
       "      <th>product_identifier</th>\n",
       "      <th>department_identifier</th>\n",
       "      <th>category_of_product</th>\n",
       "      <th>outlet</th>\n",
       "      <th>state</th>\n",
       "      <th>sales</th>\n",
       "      <th>week_id</th>\n",
       "      <th>sell_price</th>\n",
       "      <th>year_month</th>\n",
       "      <th>net Sales</th>\n",
       "      <th>Temperature</th>\n",
       "    </tr>\n",
       "  </thead>\n",
       "  <tbody>\n",
       "    <tr>\n",
       "      <th>0</th>\n",
       "      <td>2012-01-01</td>\n",
       "      <td>74</td>\n",
       "      <td>11</td>\n",
       "      <td>others</td>\n",
       "      <td>111</td>\n",
       "      <td>Maharashtra</td>\n",
       "      <td>0</td>\n",
       "      <td>49</td>\n",
       "      <td>2.94</td>\n",
       "      <td>2012-01</td>\n",
       "      <td>0.00</td>\n",
       "      <td>26</td>\n",
       "    </tr>\n",
       "    <tr>\n",
       "      <th>1</th>\n",
       "      <td>2012-01-01</td>\n",
       "      <td>337</td>\n",
       "      <td>11</td>\n",
       "      <td>others</td>\n",
       "      <td>111</td>\n",
       "      <td>Maharashtra</td>\n",
       "      <td>1</td>\n",
       "      <td>49</td>\n",
       "      <td>7.44</td>\n",
       "      <td>2012-01</td>\n",
       "      <td>7.44</td>\n",
       "      <td>26</td>\n",
       "    </tr>\n",
       "    <tr>\n",
       "      <th>2</th>\n",
       "      <td>2012-01-01</td>\n",
       "      <td>423</td>\n",
       "      <td>12</td>\n",
       "      <td>others</td>\n",
       "      <td>111</td>\n",
       "      <td>Maharashtra</td>\n",
       "      <td>0</td>\n",
       "      <td>49</td>\n",
       "      <td>0.97</td>\n",
       "      <td>2012-01</td>\n",
       "      <td>0.00</td>\n",
       "      <td>26</td>\n",
       "    </tr>\n",
       "    <tr>\n",
       "      <th>3</th>\n",
       "      <td>2012-01-01</td>\n",
       "      <td>432</td>\n",
       "      <td>12</td>\n",
       "      <td>others</td>\n",
       "      <td>111</td>\n",
       "      <td>Maharashtra</td>\n",
       "      <td>0</td>\n",
       "      <td>49</td>\n",
       "      <td>4.97</td>\n",
       "      <td>2012-01</td>\n",
       "      <td>0.00</td>\n",
       "      <td>26</td>\n",
       "    </tr>\n",
       "    <tr>\n",
       "      <th>4</th>\n",
       "      <td>2012-01-01</td>\n",
       "      <td>581</td>\n",
       "      <td>21</td>\n",
       "      <td>fast_moving_consumer_goods</td>\n",
       "      <td>111</td>\n",
       "      <td>Maharashtra</td>\n",
       "      <td>0</td>\n",
       "      <td>49</td>\n",
       "      <td>4.88</td>\n",
       "      <td>2012-01</td>\n",
       "      <td>0.00</td>\n",
       "      <td>26</td>\n",
       "    </tr>\n",
       "    <tr>\n",
       "      <th>5</th>\n",
       "      <td>2012-01-01</td>\n",
       "      <td>611</td>\n",
       "      <td>21</td>\n",
       "      <td>fast_moving_consumer_goods</td>\n",
       "      <td>111</td>\n",
       "      <td>Maharashtra</td>\n",
       "      <td>0</td>\n",
       "      <td>49</td>\n",
       "      <td>2.84</td>\n",
       "      <td>2012-01</td>\n",
       "      <td>0.00</td>\n",
       "      <td>26</td>\n",
       "    </tr>\n",
       "    <tr>\n",
       "      <th>6</th>\n",
       "      <td>2012-01-01</td>\n",
       "      <td>631</td>\n",
       "      <td>21</td>\n",
       "      <td>fast_moving_consumer_goods</td>\n",
       "      <td>111</td>\n",
       "      <td>Maharashtra</td>\n",
       "      <td>0</td>\n",
       "      <td>49</td>\n",
       "      <td>6.97</td>\n",
       "      <td>2012-01</td>\n",
       "      <td>0.00</td>\n",
       "      <td>26</td>\n",
       "    </tr>\n",
       "    <tr>\n",
       "      <th>7</th>\n",
       "      <td>2012-01-01</td>\n",
       "      <td>659</td>\n",
       "      <td>21</td>\n",
       "      <td>fast_moving_consumer_goods</td>\n",
       "      <td>111</td>\n",
       "      <td>Maharashtra</td>\n",
       "      <td>0</td>\n",
       "      <td>49</td>\n",
       "      <td>3.97</td>\n",
       "      <td>2012-01</td>\n",
       "      <td>0.00</td>\n",
       "      <td>26</td>\n",
       "    </tr>\n",
       "    <tr>\n",
       "      <th>8</th>\n",
       "      <td>2012-01-01</td>\n",
       "      <td>743</td>\n",
       "      <td>21</td>\n",
       "      <td>fast_moving_consumer_goods</td>\n",
       "      <td>111</td>\n",
       "      <td>Maharashtra</td>\n",
       "      <td>0</td>\n",
       "      <td>49</td>\n",
       "      <td>4.47</td>\n",
       "      <td>2012-01</td>\n",
       "      <td>0.00</td>\n",
       "      <td>26</td>\n",
       "    </tr>\n",
       "    <tr>\n",
       "      <th>9</th>\n",
       "      <td>2012-01-01</td>\n",
       "      <td>797</td>\n",
       "      <td>21</td>\n",
       "      <td>fast_moving_consumer_goods</td>\n",
       "      <td>111</td>\n",
       "      <td>Maharashtra</td>\n",
       "      <td>0</td>\n",
       "      <td>49</td>\n",
       "      <td>2.64</td>\n",
       "      <td>2012-01</td>\n",
       "      <td>0.00</td>\n",
       "      <td>26</td>\n",
       "    </tr>\n",
       "  </tbody>\n",
       "</table>\n",
       "</div>"
      ],
      "text/plain": [
       "         date  product_identifier  department_identifier  \\\n",
       "0  2012-01-01                  74                     11   \n",
       "1  2012-01-01                 337                     11   \n",
       "2  2012-01-01                 423                     12   \n",
       "3  2012-01-01                 432                     12   \n",
       "4  2012-01-01                 581                     21   \n",
       "5  2012-01-01                 611                     21   \n",
       "6  2012-01-01                 631                     21   \n",
       "7  2012-01-01                 659                     21   \n",
       "8  2012-01-01                 743                     21   \n",
       "9  2012-01-01                 797                     21   \n",
       "\n",
       "          category_of_product  outlet        state  sales  week_id  \\\n",
       "0                      others     111  Maharashtra      0       49   \n",
       "1                      others     111  Maharashtra      1       49   \n",
       "2                      others     111  Maharashtra      0       49   \n",
       "3                      others     111  Maharashtra      0       49   \n",
       "4  fast_moving_consumer_goods     111  Maharashtra      0       49   \n",
       "5  fast_moving_consumer_goods     111  Maharashtra      0       49   \n",
       "6  fast_moving_consumer_goods     111  Maharashtra      0       49   \n",
       "7  fast_moving_consumer_goods     111  Maharashtra      0       49   \n",
       "8  fast_moving_consumer_goods     111  Maharashtra      0       49   \n",
       "9  fast_moving_consumer_goods     111  Maharashtra      0       49   \n",
       "\n",
       "   sell_price year_month  net Sales  Temperature  \n",
       "0        2.94    2012-01       0.00           26  \n",
       "1        7.44    2012-01       7.44           26  \n",
       "2        0.97    2012-01       0.00           26  \n",
       "3        4.97    2012-01       0.00           26  \n",
       "4        4.88    2012-01       0.00           26  \n",
       "5        2.84    2012-01       0.00           26  \n",
       "6        6.97    2012-01       0.00           26  \n",
       "7        3.97    2012-01       0.00           26  \n",
       "8        4.47    2012-01       0.00           26  \n",
       "9        2.64    2012-01       0.00           26  "
      ]
     },
     "execution_count": 32,
     "metadata": {},
     "output_type": "execute_result"
    }
   ],
   "source": [
    "data.head(10)"
   ]
  },
  {
   "cell_type": "code",
   "execution_count": 33,
   "id": "ebbf40a2",
   "metadata": {},
   "outputs": [
    {
     "data": {
      "text/plain": [
       "(158000, 12)"
      ]
     },
     "execution_count": 33,
     "metadata": {},
     "output_type": "execute_result"
    }
   ],
   "source": [
    "data.shape"
   ]
  },
  {
   "cell_type": "code",
   "execution_count": 35,
   "id": "befc1d23",
   "metadata": {},
   "outputs": [],
   "source": [
    "out= 'C:\\\\Users\\\\Ramshankar\\\\OneDrive - iLink Systems Inc\\\\Documents\\\\Costco\\\\Dataset\\\\'\n",
    "\n",
    "data.to_excel( out + 'Inventory_with_Temp_data.xlsx', index=False)"
   ]
  },
  {
   "cell_type": "code",
   "execution_count": null,
   "id": "907842a1",
   "metadata": {},
   "outputs": [],
   "source": []
  },
  {
   "cell_type": "code",
   "execution_count": null,
   "id": "3f945f2c",
   "metadata": {},
   "outputs": [],
   "source": []
  },
  {
   "cell_type": "code",
   "execution_count": null,
   "id": "eea3fdb9",
   "metadata": {},
   "outputs": [],
   "source": []
  },
  {
   "cell_type": "code",
   "execution_count": null,
   "id": "87f69eff",
   "metadata": {},
   "outputs": [],
   "source": [
    "#out= 'C:\\\\Users\\\\Ramshankar\\\\OneDrive - iLink Systems Inc\\\\Documents\\\\Costco\\\\Dataset\\\\'\n",
    "\n",
    "#Temp_data1.to_excel( out + 'Temp_data_final.xlsx')"
   ]
  },
  {
   "cell_type": "code",
   "execution_count": null,
   "id": "34df39cf",
   "metadata": {},
   "outputs": [],
   "source": []
  },
  {
   "cell_type": "code",
   "execution_count": null,
   "id": "7951828f",
   "metadata": {},
   "outputs": [],
   "source": []
  },
  {
   "cell_type": "code",
   "execution_count": null,
   "id": "d9701013",
   "metadata": {},
   "outputs": [],
   "source": []
  },
  {
   "cell_type": "code",
   "execution_count": null,
   "id": "feea699c",
   "metadata": {},
   "outputs": [],
   "source": [
    "#sample test"
   ]
  },
  {
   "cell_type": "code",
   "execution_count": null,
   "id": "c7f7a21a",
   "metadata": {},
   "outputs": [],
   "source": [
    "#st3= pd.merge(St1, St2, on=['Time', 'Temperature'], how='outer')"
   ]
  },
  {
   "cell_type": "code",
   "execution_count": null,
   "id": "1351b9b1",
   "metadata": {},
   "outputs": [],
   "source": [
    "#st3"
   ]
  },
  {
   "cell_type": "code",
   "execution_count": null,
   "id": "b997fa54",
   "metadata": {},
   "outputs": [],
   "source": [
    "#st3['Time'] = st3['Time'].astype('datetime64[ns]')"
   ]
  },
  {
   "cell_type": "code",
   "execution_count": null,
   "id": "8392de0d",
   "metadata": {},
   "outputs": [],
   "source": [
    "#st3.head()"
   ]
  },
  {
   "cell_type": "code",
   "execution_count": null,
   "id": "299e99eb",
   "metadata": {},
   "outputs": [],
   "source": []
  },
  {
   "cell_type": "code",
   "execution_count": null,
   "id": "dc474eb5",
   "metadata": {},
   "outputs": [],
   "source": [
    "## With function"
   ]
  },
  {
   "cell_type": "code",
   "execution_count": null,
   "id": "985367ad",
   "metadata": {},
   "outputs": [],
   "source": []
  }
 ],
 "metadata": {
  "kernelspec": {
   "display_name": "Python 3 (ipykernel)",
   "language": "python",
   "name": "python3"
  },
  "language_info": {
   "codemirror_mode": {
    "name": "ipython",
    "version": 3
   },
   "file_extension": ".py",
   "mimetype": "text/x-python",
   "name": "python",
   "nbconvert_exporter": "python",
   "pygments_lexer": "ipython3",
   "version": "3.9.12"
  }
 },
 "nbformat": 4,
 "nbformat_minor": 5
}
