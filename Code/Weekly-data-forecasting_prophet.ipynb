{
 "cells": [
  {
   "cell_type": "code",
   "execution_count": 1,
   "id": "0c79a06f",
   "metadata": {},
   "outputs": [],
   "source": [
    "import matplotlib.pyplot as plt\n",
    "import numpy as np\n",
    "import pandas as pd\n",
    "import seaborn as sns\n",
    "# from prophet import Prophet\n",
    "import plotly.express as px\n",
    "import plotly.figure_factory as ff\n",
    "\n",
    "import warnings\n",
    "from soupsieve import select\n",
    "warnings.filterwarnings('ignore')\n",
    "1\n",
    "# Shows all columns \n",
    "pd.set_option(\"display.max_columns\", None)\n",
    "\n",
    "pd.set_option('display.float_format', lambda x: '%.5f' % x)"
   ]
  },
  {
   "cell_type": "code",
   "execution_count": 2,
   "id": "a48a3818",
   "metadata": {},
   "outputs": [],
   "source": [
    "# !python -m pip install prophet\n"
   ]
  },
  {
   "cell_type": "code",
   "execution_count": 3,
   "id": "7efdf400",
   "metadata": {},
   "outputs": [],
   "source": [
    "from prophet import Prophet\n"
   ]
  },
  {
   "cell_type": "code",
   "execution_count": 4,
   "id": "56794d3e",
   "metadata": {},
   "outputs": [],
   "source": [
    "# C:\\Users\\Ramshankar\\OneDrive - iLink Systems Inc\\Documents\\Costco\\Dataset\\Final Output\\Weekly\n",
    "    \n",
    "    \n",
    "    \n",
    "data = pd.read_excel(\"C:\\\\Users\\\\Ramshankar\\\\OneDrive - iLink Systems Inc\\\\Documents\\\\Costco\\\\Dataset\\\\Final Output\\\\Weekly\\\\Data_Weekly.xlsx\")"
   ]
  },
  {
   "cell_type": "code",
   "execution_count": 5,
   "id": "739009aa",
   "metadata": {},
   "outputs": [
    {
     "data": {
      "text/plain": [
       "Index(['Location', 'Item', 'Date', 'Quantity', 'Amount'], dtype='object')"
      ]
     },
     "execution_count": 5,
     "metadata": {},
     "output_type": "execute_result"
    }
   ],
   "source": [
    "data.columns"
   ]
  },
  {
   "cell_type": "code",
   "execution_count": 6,
   "id": "4d70f9e7",
   "metadata": {},
   "outputs": [
    {
     "data": {
      "text/plain": [
       "152"
      ]
     },
     "execution_count": 6,
     "metadata": {},
     "output_type": "execute_result"
    }
   ],
   "source": [
    "data[\"Date\"].nunique()"
   ]
  },
  {
   "cell_type": "code",
   "execution_count": 7,
   "id": "7d0d17d9",
   "metadata": {},
   "outputs": [
    {
     "name": "stdout",
     "output_type": "stream",
     "text": [
      "FREMONT - ['CHICKEN XXXXX - O', 'DRUMSTICKS NNNN', 'FILLET QQQQ']\n",
      "HAYWARD - ['CHICKEN XXXXX - O', 'DRUMSTICKS NNNN', 'FILLET QQQQ']\n",
      "LAKEWOOD - ['CHICKEN XXXXX - O', 'DRUMSTICKS NNNN', 'FILLET QQQQ']\n",
      "RICHMOND CA - ['CHICKEN XXXXX - O', 'DRUMSTICKS NNNN', 'FILLET QQQQ']\n",
      "S SAN FRANCISCO BUS CTR - ['BEEF OOOO - GT', 'DRUMSTICKS NNNN']\n"
     ]
    }
   ],
   "source": [
    "for i in data[\"Location\"].unique():\n",
    "    try_df = data[data[\"Location\"]==i]\n",
    "    print(i , \"-\",list(try_df[\"Item\"].unique()))"
   ]
  },
  {
   "cell_type": "code",
   "execution_count": 8,
   "id": "46699b9f",
   "metadata": {},
   "outputs": [
    {
     "data": {
      "text/html": [
       "<div>\n",
       "<style scoped>\n",
       "    .dataframe tbody tr th:only-of-type {\n",
       "        vertical-align: middle;\n",
       "    }\n",
       "\n",
       "    .dataframe tbody tr th {\n",
       "        vertical-align: top;\n",
       "    }\n",
       "\n",
       "    .dataframe thead th {\n",
       "        text-align: right;\n",
       "    }\n",
       "</style>\n",
       "<table border=\"1\" class=\"dataframe\">\n",
       "  <thead>\n",
       "    <tr style=\"text-align: right;\">\n",
       "      <th></th>\n",
       "      <th>Location</th>\n",
       "      <th>Item</th>\n",
       "      <th>Date</th>\n",
       "      <th>Quantity</th>\n",
       "      <th>Amount</th>\n",
       "    </tr>\n",
       "  </thead>\n",
       "  <tbody>\n",
       "    <tr>\n",
       "      <th>1122</th>\n",
       "      <td>LAKEWOOD</td>\n",
       "      <td>DRUMSTICKS NNNN</td>\n",
       "      <td>2021-02-21</td>\n",
       "      <td>299.83405</td>\n",
       "      <td>296.83571</td>\n",
       "    </tr>\n",
       "    <tr>\n",
       "      <th>615</th>\n",
       "      <td>HAYWARD</td>\n",
       "      <td>DRUMSTICKS NNNN</td>\n",
       "      <td>2020-03-01</td>\n",
       "      <td>252.84849</td>\n",
       "      <td>250.32000</td>\n",
       "    </tr>\n",
       "    <tr>\n",
       "      <th>1889</th>\n",
       "      <td>S SAN FRANCISCO BUS CTR</td>\n",
       "      <td>BEEF OOOO - GT</td>\n",
       "      <td>2021-04-11</td>\n",
       "      <td>175.01755</td>\n",
       "      <td>365.78667</td>\n",
       "    </tr>\n",
       "    <tr>\n",
       "      <th>1488</th>\n",
       "      <td>RICHMOND CA</td>\n",
       "      <td>CHICKEN XXXXX - O</td>\n",
       "      <td>2022-05-01</td>\n",
       "      <td>39.17720</td>\n",
       "      <td>234.67143</td>\n",
       "    </tr>\n",
       "    <tr>\n",
       "      <th>979</th>\n",
       "      <td>LAKEWOOD</td>\n",
       "      <td>CHICKEN XXXXX - O</td>\n",
       "      <td>2021-04-25</td>\n",
       "      <td>62.23998</td>\n",
       "      <td>310.57750</td>\n",
       "    </tr>\n",
       "  </tbody>\n",
       "</table>\n",
       "</div>"
      ],
      "text/plain": [
       "                     Location               Item       Date  Quantity  \\\n",
       "1122                 LAKEWOOD    DRUMSTICKS NNNN 2021-02-21 299.83405   \n",
       "615                   HAYWARD    DRUMSTICKS NNNN 2020-03-01 252.84849   \n",
       "1889  S SAN FRANCISCO BUS CTR     BEEF OOOO - GT 2021-04-11 175.01755   \n",
       "1488              RICHMOND CA  CHICKEN XXXXX - O 2022-05-01  39.17720   \n",
       "979                  LAKEWOOD  CHICKEN XXXXX - O 2021-04-25  62.23998   \n",
       "\n",
       "        Amount  \n",
       "1122 296.83571  \n",
       "615  250.32000  \n",
       "1889 365.78667  \n",
       "1488 234.67143  \n",
       "979  310.57750  "
      ]
     },
     "execution_count": 8,
     "metadata": {},
     "output_type": "execute_result"
    }
   ],
   "source": [
    "data.sample(5)"
   ]
  },
  {
   "cell_type": "code",
   "execution_count": 9,
   "id": "6e0d4191",
   "metadata": {},
   "outputs": [
    {
     "data": {
      "text/html": [
       "<div>\n",
       "<style scoped>\n",
       "    .dataframe tbody tr th:only-of-type {\n",
       "        vertical-align: middle;\n",
       "    }\n",
       "\n",
       "    .dataframe tbody tr th {\n",
       "        vertical-align: top;\n",
       "    }\n",
       "\n",
       "    .dataframe thead th {\n",
       "        text-align: right;\n",
       "    }\n",
       "</style>\n",
       "<table border=\"1\" class=\"dataframe\">\n",
       "  <thead>\n",
       "    <tr style=\"text-align: right;\">\n",
       "      <th></th>\n",
       "      <th>Location</th>\n",
       "      <th>Item</th>\n",
       "      <th>Date</th>\n",
       "      <th>Quantity</th>\n",
       "      <th>Amount</th>\n",
       "    </tr>\n",
       "  </thead>\n",
       "  <tbody>\n",
       "    <tr>\n",
       "      <th>0</th>\n",
       "      <td>FREMONT</td>\n",
       "      <td>CHICKEN XXXXX - O</td>\n",
       "      <td>2020-01-05</td>\n",
       "      <td>37.02338</td>\n",
       "      <td>184.74667</td>\n",
       "    </tr>\n",
       "    <tr>\n",
       "      <th>1</th>\n",
       "      <td>FREMONT</td>\n",
       "      <td>CHICKEN XXXXX - O</td>\n",
       "      <td>2020-01-12</td>\n",
       "      <td>41.88978</td>\n",
       "      <td>209.03000</td>\n",
       "    </tr>\n",
       "    <tr>\n",
       "      <th>2</th>\n",
       "      <td>FREMONT</td>\n",
       "      <td>CHICKEN XXXXX - O</td>\n",
       "      <td>2020-01-19</td>\n",
       "      <td>86.10121</td>\n",
       "      <td>429.64500</td>\n",
       "    </tr>\n",
       "    <tr>\n",
       "      <th>3</th>\n",
       "      <td>FREMONT</td>\n",
       "      <td>CHICKEN XXXXX - O</td>\n",
       "      <td>2020-01-26</td>\n",
       "      <td>63.83407</td>\n",
       "      <td>318.53200</td>\n",
       "    </tr>\n",
       "    <tr>\n",
       "      <th>4</th>\n",
       "      <td>FREMONT</td>\n",
       "      <td>CHICKEN XXXXX - O</td>\n",
       "      <td>2020-02-02</td>\n",
       "      <td>45.32098</td>\n",
       "      <td>226.15167</td>\n",
       "    </tr>\n",
       "    <tr>\n",
       "      <th>...</th>\n",
       "      <td>...</td>\n",
       "      <td>...</td>\n",
       "      <td>...</td>\n",
       "      <td>...</td>\n",
       "      <td>...</td>\n",
       "    </tr>\n",
       "    <tr>\n",
       "      <th>451</th>\n",
       "      <td>FREMONT</td>\n",
       "      <td>FILLET QQQQ</td>\n",
       "      <td>2022-10-30</td>\n",
       "      <td>39.32734</td>\n",
       "      <td>353.55286</td>\n",
       "    </tr>\n",
       "    <tr>\n",
       "      <th>452</th>\n",
       "      <td>FREMONT</td>\n",
       "      <td>FILLET QQQQ</td>\n",
       "      <td>2022-11-06</td>\n",
       "      <td>43.18370</td>\n",
       "      <td>388.22143</td>\n",
       "    </tr>\n",
       "    <tr>\n",
       "      <th>453</th>\n",
       "      <td>FREMONT</td>\n",
       "      <td>FILLET QQQQ</td>\n",
       "      <td>2022-11-13</td>\n",
       "      <td>46.08168</td>\n",
       "      <td>414.27429</td>\n",
       "    </tr>\n",
       "    <tr>\n",
       "      <th>454</th>\n",
       "      <td>FREMONT</td>\n",
       "      <td>FILLET QQQQ</td>\n",
       "      <td>2022-11-20</td>\n",
       "      <td>33.08978</td>\n",
       "      <td>297.47714</td>\n",
       "    </tr>\n",
       "    <tr>\n",
       "      <th>455</th>\n",
       "      <td>FREMONT</td>\n",
       "      <td>FILLET QQQQ</td>\n",
       "      <td>2022-11-27</td>\n",
       "      <td>44.45254</td>\n",
       "      <td>399.62833</td>\n",
       "    </tr>\n",
       "  </tbody>\n",
       "</table>\n",
       "<p>456 rows × 5 columns</p>\n",
       "</div>"
      ],
      "text/plain": [
       "    Location               Item       Date  Quantity    Amount\n",
       "0    FREMONT  CHICKEN XXXXX - O 2020-01-05  37.02338 184.74667\n",
       "1    FREMONT  CHICKEN XXXXX - O 2020-01-12  41.88978 209.03000\n",
       "2    FREMONT  CHICKEN XXXXX - O 2020-01-19  86.10121 429.64500\n",
       "3    FREMONT  CHICKEN XXXXX - O 2020-01-26  63.83407 318.53200\n",
       "4    FREMONT  CHICKEN XXXXX - O 2020-02-02  45.32098 226.15167\n",
       "..       ...                ...        ...       ...       ...\n",
       "451  FREMONT        FILLET QQQQ 2022-10-30  39.32734 353.55286\n",
       "452  FREMONT        FILLET QQQQ 2022-11-06  43.18370 388.22143\n",
       "453  FREMONT        FILLET QQQQ 2022-11-13  46.08168 414.27429\n",
       "454  FREMONT        FILLET QQQQ 2022-11-20  33.08978 297.47714\n",
       "455  FREMONT        FILLET QQQQ 2022-11-27  44.45254 399.62833\n",
       "\n",
       "[456 rows x 5 columns]"
      ]
     },
     "execution_count": 9,
     "metadata": {},
     "output_type": "execute_result"
    }
   ],
   "source": [
    "lakehood = data[data[\"Location\"]==\"FREMONT\"]\n",
    "lakehood"
   ]
  },
  {
   "cell_type": "code",
   "execution_count": 10,
   "id": "b2935fac",
   "metadata": {},
   "outputs": [
    {
     "data": {
      "text/plain": [
       "array(['CHICKEN XXXXX - O', 'DRUMSTICKS NNNN', 'FILLET QQQQ'],\n",
       "      dtype=object)"
      ]
     },
     "execution_count": 10,
     "metadata": {},
     "output_type": "execute_result"
    }
   ],
   "source": [
    "lakehood.Item.unique()"
   ]
  },
  {
   "cell_type": "code",
   "execution_count": 11,
   "id": "c8f63805",
   "metadata": {},
   "outputs": [
    {
     "data": {
      "text/html": [
       "<div>\n",
       "<style scoped>\n",
       "    .dataframe tbody tr th:only-of-type {\n",
       "        vertical-align: middle;\n",
       "    }\n",
       "\n",
       "    .dataframe tbody tr th {\n",
       "        vertical-align: top;\n",
       "    }\n",
       "\n",
       "    .dataframe thead th {\n",
       "        text-align: right;\n",
       "    }\n",
       "</style>\n",
       "<table border=\"1\" class=\"dataframe\">\n",
       "  <thead>\n",
       "    <tr style=\"text-align: right;\">\n",
       "      <th></th>\n",
       "      <th>Location</th>\n",
       "      <th>Item</th>\n",
       "      <th>Date</th>\n",
       "      <th>Quantity</th>\n",
       "      <th>Amount</th>\n",
       "    </tr>\n",
       "  </thead>\n",
       "  <tbody>\n",
       "    <tr>\n",
       "      <th>0</th>\n",
       "      <td>FREMONT</td>\n",
       "      <td>CHICKEN XXXXX - O</td>\n",
       "      <td>2020-01-05</td>\n",
       "      <td>37.02338</td>\n",
       "      <td>184.74667</td>\n",
       "    </tr>\n",
       "    <tr>\n",
       "      <th>1</th>\n",
       "      <td>FREMONT</td>\n",
       "      <td>CHICKEN XXXXX - O</td>\n",
       "      <td>2020-01-12</td>\n",
       "      <td>41.88978</td>\n",
       "      <td>209.03000</td>\n",
       "    </tr>\n",
       "    <tr>\n",
       "      <th>2</th>\n",
       "      <td>FREMONT</td>\n",
       "      <td>CHICKEN XXXXX - O</td>\n",
       "      <td>2020-01-19</td>\n",
       "      <td>86.10121</td>\n",
       "      <td>429.64500</td>\n",
       "    </tr>\n",
       "    <tr>\n",
       "      <th>3</th>\n",
       "      <td>FREMONT</td>\n",
       "      <td>CHICKEN XXXXX - O</td>\n",
       "      <td>2020-01-26</td>\n",
       "      <td>63.83407</td>\n",
       "      <td>318.53200</td>\n",
       "    </tr>\n",
       "    <tr>\n",
       "      <th>4</th>\n",
       "      <td>FREMONT</td>\n",
       "      <td>CHICKEN XXXXX - O</td>\n",
       "      <td>2020-02-02</td>\n",
       "      <td>45.32098</td>\n",
       "      <td>226.15167</td>\n",
       "    </tr>\n",
       "    <tr>\n",
       "      <th>...</th>\n",
       "      <td>...</td>\n",
       "      <td>...</td>\n",
       "      <td>...</td>\n",
       "      <td>...</td>\n",
       "      <td>...</td>\n",
       "    </tr>\n",
       "    <tr>\n",
       "      <th>147</th>\n",
       "      <td>FREMONT</td>\n",
       "      <td>CHICKEN XXXXX - O</td>\n",
       "      <td>2022-10-30</td>\n",
       "      <td>38.62533</td>\n",
       "      <td>231.36571</td>\n",
       "    </tr>\n",
       "    <tr>\n",
       "      <th>148</th>\n",
       "      <td>FREMONT</td>\n",
       "      <td>CHICKEN XXXXX - O</td>\n",
       "      <td>2022-11-06</td>\n",
       "      <td>52.30117</td>\n",
       "      <td>313.28400</td>\n",
       "    </tr>\n",
       "    <tr>\n",
       "      <th>149</th>\n",
       "      <td>FREMONT</td>\n",
       "      <td>CHICKEN XXXXX - O</td>\n",
       "      <td>2022-11-13</td>\n",
       "      <td>41.52302</td>\n",
       "      <td>248.72286</td>\n",
       "    </tr>\n",
       "    <tr>\n",
       "      <th>150</th>\n",
       "      <td>FREMONT</td>\n",
       "      <td>CHICKEN XXXXX - O</td>\n",
       "      <td>2022-11-20</td>\n",
       "      <td>36.94252</td>\n",
       "      <td>221.28571</td>\n",
       "    </tr>\n",
       "    <tr>\n",
       "      <th>151</th>\n",
       "      <td>FREMONT</td>\n",
       "      <td>CHICKEN XXXXX - O</td>\n",
       "      <td>2022-11-27</td>\n",
       "      <td>28.98025</td>\n",
       "      <td>173.59167</td>\n",
       "    </tr>\n",
       "  </tbody>\n",
       "</table>\n",
       "<p>152 rows × 5 columns</p>\n",
       "</div>"
      ],
      "text/plain": [
       "    Location               Item       Date  Quantity    Amount\n",
       "0    FREMONT  CHICKEN XXXXX - O 2020-01-05  37.02338 184.74667\n",
       "1    FREMONT  CHICKEN XXXXX - O 2020-01-12  41.88978 209.03000\n",
       "2    FREMONT  CHICKEN XXXXX - O 2020-01-19  86.10121 429.64500\n",
       "3    FREMONT  CHICKEN XXXXX - O 2020-01-26  63.83407 318.53200\n",
       "4    FREMONT  CHICKEN XXXXX - O 2020-02-02  45.32098 226.15167\n",
       "..       ...                ...        ...       ...       ...\n",
       "147  FREMONT  CHICKEN XXXXX - O 2022-10-30  38.62533 231.36571\n",
       "148  FREMONT  CHICKEN XXXXX - O 2022-11-06  52.30117 313.28400\n",
       "149  FREMONT  CHICKEN XXXXX - O 2022-11-13  41.52302 248.72286\n",
       "150  FREMONT  CHICKEN XXXXX - O 2022-11-20  36.94252 221.28571\n",
       "151  FREMONT  CHICKEN XXXXX - O 2022-11-27  28.98025 173.59167\n",
       "\n",
       "[152 rows x 5 columns]"
      ]
     },
     "execution_count": 11,
     "metadata": {},
     "output_type": "execute_result"
    }
   ],
   "source": [
    "lakehood_chkn = lakehood[lakehood[\"Item\"]==\"CHICKEN XXXXX - O\"]\n",
    "lakehood_chkn"
   ]
  },
  {
   "cell_type": "code",
   "execution_count": 12,
   "id": "184446f9",
   "metadata": {},
   "outputs": [],
   "source": [
    "# gb_chicken = lakehood_chkn.groupby(\"Date\")[\"Quantity\"].sum().reset_index().sort_values(by=\"Date\")\n",
    "# gb_chicken.head()"
   ]
  },
  {
   "cell_type": "code",
   "execution_count": 13,
   "id": "58aa3e80",
   "metadata": {},
   "outputs": [
    {
     "data": {
      "text/plain": [
       "(152, 5)"
      ]
     },
     "execution_count": 13,
     "metadata": {},
     "output_type": "execute_result"
    }
   ],
   "source": [
    "lakehood_chkn.shape"
   ]
  },
  {
   "cell_type": "code",
   "execution_count": 14,
   "id": "f9524277",
   "metadata": {},
   "outputs": [
    {
     "data": {
      "text/html": [
       "<div>\n",
       "<style scoped>\n",
       "    .dataframe tbody tr th:only-of-type {\n",
       "        vertical-align: middle;\n",
       "    }\n",
       "\n",
       "    .dataframe tbody tr th {\n",
       "        vertical-align: top;\n",
       "    }\n",
       "\n",
       "    .dataframe thead th {\n",
       "        text-align: right;\n",
       "    }\n",
       "</style>\n",
       "<table border=\"1\" class=\"dataframe\">\n",
       "  <thead>\n",
       "    <tr style=\"text-align: right;\">\n",
       "      <th></th>\n",
       "      <th>Location</th>\n",
       "      <th>Item</th>\n",
       "      <th>ds</th>\n",
       "      <th>y</th>\n",
       "      <th>Amount</th>\n",
       "    </tr>\n",
       "  </thead>\n",
       "  <tbody>\n",
       "    <tr>\n",
       "      <th>147</th>\n",
       "      <td>FREMONT</td>\n",
       "      <td>CHICKEN XXXXX - O</td>\n",
       "      <td>2022-10-30</td>\n",
       "      <td>38.62533</td>\n",
       "      <td>231.36571</td>\n",
       "    </tr>\n",
       "    <tr>\n",
       "      <th>148</th>\n",
       "      <td>FREMONT</td>\n",
       "      <td>CHICKEN XXXXX - O</td>\n",
       "      <td>2022-11-06</td>\n",
       "      <td>52.30117</td>\n",
       "      <td>313.28400</td>\n",
       "    </tr>\n",
       "    <tr>\n",
       "      <th>149</th>\n",
       "      <td>FREMONT</td>\n",
       "      <td>CHICKEN XXXXX - O</td>\n",
       "      <td>2022-11-13</td>\n",
       "      <td>41.52302</td>\n",
       "      <td>248.72286</td>\n",
       "    </tr>\n",
       "    <tr>\n",
       "      <th>150</th>\n",
       "      <td>FREMONT</td>\n",
       "      <td>CHICKEN XXXXX - O</td>\n",
       "      <td>2022-11-20</td>\n",
       "      <td>36.94252</td>\n",
       "      <td>221.28571</td>\n",
       "    </tr>\n",
       "    <tr>\n",
       "      <th>151</th>\n",
       "      <td>FREMONT</td>\n",
       "      <td>CHICKEN XXXXX - O</td>\n",
       "      <td>2022-11-27</td>\n",
       "      <td>28.98025</td>\n",
       "      <td>173.59167</td>\n",
       "    </tr>\n",
       "  </tbody>\n",
       "</table>\n",
       "</div>"
      ],
      "text/plain": [
       "    Location               Item         ds        y    Amount\n",
       "147  FREMONT  CHICKEN XXXXX - O 2022-10-30 38.62533 231.36571\n",
       "148  FREMONT  CHICKEN XXXXX - O 2022-11-06 52.30117 313.28400\n",
       "149  FREMONT  CHICKEN XXXXX - O 2022-11-13 41.52302 248.72286\n",
       "150  FREMONT  CHICKEN XXXXX - O 2022-11-20 36.94252 221.28571\n",
       "151  FREMONT  CHICKEN XXXXX - O 2022-11-27 28.98025 173.59167"
      ]
     },
     "execution_count": 14,
     "metadata": {},
     "output_type": "execute_result"
    }
   ],
   "source": [
    "lakehood_chkn.rename(columns={\"Date\": \"ds\", \"Quantity\": \"y\"}, inplace=True)\n",
    "lakehood_chkn.tail()"
   ]
  },
  {
   "cell_type": "code",
   "execution_count": 15,
   "id": "006d956a",
   "metadata": {},
   "outputs": [],
   "source": [
    "future = pd.DataFrame(lakehood_chkn.iloc[-30:,:][\"ds\"],columns=[\"ds\"])"
   ]
  },
  {
   "cell_type": "code",
   "execution_count": 16,
   "id": "e7303607",
   "metadata": {},
   "outputs": [
    {
     "data": {
      "text/plain": [
       "(30, 1)"
      ]
     },
     "execution_count": 16,
     "metadata": {},
     "output_type": "execute_result"
    }
   ],
   "source": [
    "future.shape"
   ]
  },
  {
   "cell_type": "code",
   "execution_count": 17,
   "id": "6c6708fc",
   "metadata": {},
   "outputs": [
    {
     "data": {
      "text/plain": [
       "(122, 5)"
      ]
     },
     "execution_count": 17,
     "metadata": {},
     "output_type": "execute_result"
    }
   ],
   "source": [
    "train_data = lakehood_chkn.iloc[:-30,:]\n",
    "train_data.shape"
   ]
  },
  {
   "cell_type": "code",
   "execution_count": 18,
   "id": "4280f8d0",
   "metadata": {},
   "outputs": [
    {
     "data": {
      "text/html": [
       "<div>\n",
       "<style scoped>\n",
       "    .dataframe tbody tr th:only-of-type {\n",
       "        vertical-align: middle;\n",
       "    }\n",
       "\n",
       "    .dataframe tbody tr th {\n",
       "        vertical-align: top;\n",
       "    }\n",
       "\n",
       "    .dataframe thead th {\n",
       "        text-align: right;\n",
       "    }\n",
       "</style>\n",
       "<table border=\"1\" class=\"dataframe\">\n",
       "  <thead>\n",
       "    <tr style=\"text-align: right;\">\n",
       "      <th></th>\n",
       "      <th>Location</th>\n",
       "      <th>Item</th>\n",
       "      <th>ds</th>\n",
       "      <th>y</th>\n",
       "      <th>Amount</th>\n",
       "    </tr>\n",
       "  </thead>\n",
       "  <tbody>\n",
       "    <tr>\n",
       "      <th>117</th>\n",
       "      <td>FREMONT</td>\n",
       "      <td>CHICKEN XXXXX - O</td>\n",
       "      <td>2022-04-03</td>\n",
       "      <td>45.78255</td>\n",
       "      <td>274.23750</td>\n",
       "    </tr>\n",
       "    <tr>\n",
       "      <th>118</th>\n",
       "      <td>FREMONT</td>\n",
       "      <td>CHICKEN XXXXX - O</td>\n",
       "      <td>2022-04-10</td>\n",
       "      <td>71.82971</td>\n",
       "      <td>430.26000</td>\n",
       "    </tr>\n",
       "    <tr>\n",
       "      <th>119</th>\n",
       "      <td>FREMONT</td>\n",
       "      <td>CHICKEN XXXXX - O</td>\n",
       "      <td>2022-04-17</td>\n",
       "      <td>44.06711</td>\n",
       "      <td>263.96200</td>\n",
       "    </tr>\n",
       "    <tr>\n",
       "      <th>120</th>\n",
       "      <td>FREMONT</td>\n",
       "      <td>CHICKEN XXXXX - O</td>\n",
       "      <td>2022-04-24</td>\n",
       "      <td>43.08514</td>\n",
       "      <td>258.08000</td>\n",
       "    </tr>\n",
       "    <tr>\n",
       "      <th>121</th>\n",
       "      <td>FREMONT</td>\n",
       "      <td>CHICKEN XXXXX - O</td>\n",
       "      <td>2022-05-01</td>\n",
       "      <td>55.80034</td>\n",
       "      <td>334.24400</td>\n",
       "    </tr>\n",
       "  </tbody>\n",
       "</table>\n",
       "</div>"
      ],
      "text/plain": [
       "    Location               Item         ds        y    Amount\n",
       "117  FREMONT  CHICKEN XXXXX - O 2022-04-03 45.78255 274.23750\n",
       "118  FREMONT  CHICKEN XXXXX - O 2022-04-10 71.82971 430.26000\n",
       "119  FREMONT  CHICKEN XXXXX - O 2022-04-17 44.06711 263.96200\n",
       "120  FREMONT  CHICKEN XXXXX - O 2022-04-24 43.08514 258.08000\n",
       "121  FREMONT  CHICKEN XXXXX - O 2022-05-01 55.80034 334.24400"
      ]
     },
     "execution_count": 18,
     "metadata": {},
     "output_type": "execute_result"
    }
   ],
   "source": [
    "train_data.tail()"
   ]
  },
  {
   "cell_type": "code",
   "execution_count": 22,
   "id": "a4e1e04a",
   "metadata": {},
   "outputs": [
    {
     "name": "stderr",
     "output_type": "stream",
     "text": [
      "13:20:31 - cmdstanpy - INFO - Chain [1] start processing\n",
      "13:20:32 - cmdstanpy - INFO - Chain [1] done processing\n"
     ]
    }
   ],
   "source": [
    "# Modelling - Prophet\n",
    "m = Prophet().fit(train_data)\n",
    "pred_new = m.predict(future)"
   ]
  },
  {
   "cell_type": "code",
   "execution_count": 23,
   "id": "232ca26e",
   "metadata": {},
   "outputs": [
    {
     "data": {
      "text/html": [
       "<div>\n",
       "<style scoped>\n",
       "    .dataframe tbody tr th:only-of-type {\n",
       "        vertical-align: middle;\n",
       "    }\n",
       "\n",
       "    .dataframe tbody tr th {\n",
       "        vertical-align: top;\n",
       "    }\n",
       "\n",
       "    .dataframe thead th {\n",
       "        text-align: right;\n",
       "    }\n",
       "</style>\n",
       "<table border=\"1\" class=\"dataframe\">\n",
       "  <thead>\n",
       "    <tr style=\"text-align: right;\">\n",
       "      <th></th>\n",
       "      <th>ds</th>\n",
       "      <th>yhat</th>\n",
       "    </tr>\n",
       "  </thead>\n",
       "  <tbody>\n",
       "    <tr>\n",
       "      <th>0</th>\n",
       "      <td>2022-05-08</td>\n",
       "      <td>47.01540</td>\n",
       "    </tr>\n",
       "    <tr>\n",
       "      <th>1</th>\n",
       "      <td>2022-05-15</td>\n",
       "      <td>50.88334</td>\n",
       "    </tr>\n",
       "    <tr>\n",
       "      <th>2</th>\n",
       "      <td>2022-05-22</td>\n",
       "      <td>47.90547</td>\n",
       "    </tr>\n",
       "    <tr>\n",
       "      <th>3</th>\n",
       "      <td>2022-05-29</td>\n",
       "      <td>41.36310</td>\n",
       "    </tr>\n",
       "    <tr>\n",
       "      <th>4</th>\n",
       "      <td>2022-06-05</td>\n",
       "      <td>38.71834</td>\n",
       "    </tr>\n",
       "  </tbody>\n",
       "</table>\n",
       "</div>"
      ],
      "text/plain": [
       "          ds     yhat\n",
       "0 2022-05-08 47.01540\n",
       "1 2022-05-15 50.88334\n",
       "2 2022-05-22 47.90547\n",
       "3 2022-05-29 41.36310\n",
       "4 2022-06-05 38.71834"
      ]
     },
     "execution_count": 23,
     "metadata": {},
     "output_type": "execute_result"
    }
   ],
   "source": [
    "pred_new[[\"ds\",\"yhat\"]].head()"
   ]
  },
  {
   "cell_type": "code",
   "execution_count": 25,
   "id": "b3ae8205",
   "metadata": {},
   "outputs": [],
   "source": [
    "output = lakehood_chkn.iloc[-30:,:].merge(pred_new[[\"ds\",\"yhat\"]],left_on=\"ds\",right_on=\"ds\",how=\"inner\")\n",
    "output[\"ds\"] = pd.to_datetime(output[\"ds\"])\n",
    "# output.to_excel(\"weekly_try_chicken_30.xlsx\",index=False)"
   ]
  },
  {
   "cell_type": "code",
   "execution_count": 26,
   "id": "353b1d05",
   "metadata": {},
   "outputs": [],
   "source": [
    "data_prd= lakehood_chkn.iloc[-30:,:].merge(pred_new[[\"ds\",\"yhat\"]],left_on=\"ds\",right_on=\"ds\",how=\"inner\")"
   ]
  },
  {
   "cell_type": "code",
   "execution_count": 27,
   "id": "f444cc28",
   "metadata": {},
   "outputs": [
    {
     "data": {
      "text/plain": [
       "<AxesSubplot:>"
      ]
     },
     "execution_count": 27,
     "metadata": {},
     "output_type": "execute_result"
    },
    {
     "data": {
      "image/png": "[encoded data removed]",
      "text/plain": [
       "<Figure size 432x288 with 1 Axes>"
      ]
     },
     "metadata": {
      "needs_background": "light"
     },
     "output_type": "display_data"
    }
   ],
   "source": [
    "# data_prd[['yhat', 'y']].plot()"
   ]
  },
  {
   "cell_type": "markdown",
   "id": "c8673f75",
   "metadata": {},
   "source": [
    "### Moving Average:"
   ]
  },
  {
   "cell_type": "code",
   "execution_count": 24,
   "id": "99b9c94d",
   "metadata": {},
   "outputs": [],
   "source": [
    "\n",
    "\n",
    "  \n",
    "data1 = pd.read_excel(\"C:\\\\Users\\\\Ramshankar\\\\OneDrive - iLink Systems Inc\\\\Documents\\\\Costco\\\\Dataset\\\\Final Output\\\\Weekly\\\\Data_Moving_avg.xlsx\")"
   ]
  },
  {
   "cell_type": "code",
   "execution_count": 25,
   "id": "dce13c7a",
   "metadata": {},
   "outputs": [
    {
     "data": {
      "text/html": [
       "<div>\n",
       "<style scoped>\n",
       "    .dataframe tbody tr th:only-of-type {\n",
       "        vertical-align: middle;\n",
       "    }\n",
       "\n",
       "    .dataframe tbody tr th {\n",
       "        vertical-align: top;\n",
       "    }\n",
       "\n",
       "    .dataframe thead th {\n",
       "        text-align: right;\n",
       "    }\n",
       "</style>\n",
       "<table border=\"1\" class=\"dataframe\">\n",
       "  <thead>\n",
       "    <tr style=\"text-align: right;\">\n",
       "      <th></th>\n",
       "      <th>Date</th>\n",
       "      <th>Quantity</th>\n",
       "      <th>Amount</th>\n",
       "      <th>Mv_Qty</th>\n",
       "      <th>Mv_Amt</th>\n",
       "      <th>Location</th>\n",
       "      <th>Item</th>\n",
       "    </tr>\n",
       "  </thead>\n",
       "  <tbody>\n",
       "    <tr>\n",
       "      <th>0</th>\n",
       "      <td>2020-01-19</td>\n",
       "      <td>86.10121</td>\n",
       "      <td>429.64500</td>\n",
       "      <td>55.00479</td>\n",
       "      <td>274.47389</td>\n",
       "      <td>FREMONT</td>\n",
       "      <td>CHICKEN XXXXX - O</td>\n",
       "    </tr>\n",
       "    <tr>\n",
       "      <th>1</th>\n",
       "      <td>2020-01-26</td>\n",
       "      <td>63.83407</td>\n",
       "      <td>318.53200</td>\n",
       "      <td>63.94169</td>\n",
       "      <td>319.06900</td>\n",
       "      <td>FREMONT</td>\n",
       "      <td>CHICKEN XXXXX - O</td>\n",
       "    </tr>\n",
       "    <tr>\n",
       "      <th>2</th>\n",
       "      <td>2020-02-02</td>\n",
       "      <td>45.32098</td>\n",
       "      <td>226.15167</td>\n",
       "      <td>65.08542</td>\n",
       "      <td>324.77622</td>\n",
       "      <td>FREMONT</td>\n",
       "      <td>CHICKEN XXXXX - O</td>\n",
       "    </tr>\n",
       "    <tr>\n",
       "      <th>3</th>\n",
       "      <td>2020-02-09</td>\n",
       "      <td>44.33307</td>\n",
       "      <td>221.22200</td>\n",
       "      <td>51.16270</td>\n",
       "      <td>255.30189</td>\n",
       "      <td>FREMONT</td>\n",
       "      <td>CHICKEN XXXXX - O</td>\n",
       "    </tr>\n",
       "    <tr>\n",
       "      <th>4</th>\n",
       "      <td>2020-02-16</td>\n",
       "      <td>48.16767</td>\n",
       "      <td>240.35667</td>\n",
       "      <td>45.94057</td>\n",
       "      <td>229.24344</td>\n",
       "      <td>FREMONT</td>\n",
       "      <td>CHICKEN XXXXX - O</td>\n",
       "    </tr>\n",
       "    <tr>\n",
       "      <th>...</th>\n",
       "      <td>...</td>\n",
       "      <td>...</td>\n",
       "      <td>...</td>\n",
       "      <td>...</td>\n",
       "      <td>...</td>\n",
       "      <td>...</td>\n",
       "      <td>...</td>\n",
       "    </tr>\n",
       "    <tr>\n",
       "      <th>2094</th>\n",
       "      <td>2022-10-30</td>\n",
       "      <td>113.51292</td>\n",
       "      <td>146.43167</td>\n",
       "      <td>113.89578</td>\n",
       "      <td>146.92556</td>\n",
       "      <td>S SAN FRANCISCO BUS CTR</td>\n",
       "      <td>DRUMSTICKS NNNN</td>\n",
       "    </tr>\n",
       "    <tr>\n",
       "      <th>2095</th>\n",
       "      <td>2022-11-06</td>\n",
       "      <td>97.40439</td>\n",
       "      <td>125.65167</td>\n",
       "      <td>107.07925</td>\n",
       "      <td>138.13222</td>\n",
       "      <td>S SAN FRANCISCO BUS CTR</td>\n",
       "      <td>DRUMSTICKS NNNN</td>\n",
       "    </tr>\n",
       "    <tr>\n",
       "      <th>2096</th>\n",
       "      <td>2022-11-13</td>\n",
       "      <td>93.24030</td>\n",
       "      <td>120.28000</td>\n",
       "      <td>101.38587</td>\n",
       "      <td>130.78778</td>\n",
       "      <td>S SAN FRANCISCO BUS CTR</td>\n",
       "      <td>DRUMSTICKS NNNN</td>\n",
       "    </tr>\n",
       "    <tr>\n",
       "      <th>2097</th>\n",
       "      <td>2022-11-20</td>\n",
       "      <td>94.38113</td>\n",
       "      <td>121.75167</td>\n",
       "      <td>95.00861</td>\n",
       "      <td>122.56111</td>\n",
       "      <td>S SAN FRANCISCO BUS CTR</td>\n",
       "      <td>DRUMSTICKS NNNN</td>\n",
       "    </tr>\n",
       "    <tr>\n",
       "      <th>2098</th>\n",
       "      <td>2022-11-27</td>\n",
       "      <td>88.66085</td>\n",
       "      <td>114.37250</td>\n",
       "      <td>92.09410</td>\n",
       "      <td>118.80139</td>\n",
       "      <td>S SAN FRANCISCO BUS CTR</td>\n",
       "      <td>DRUMSTICKS NNNN</td>\n",
       "    </tr>\n",
       "  </tbody>\n",
       "</table>\n",
       "<p>2099 rows × 7 columns</p>\n",
       "</div>"
      ],
      "text/plain": [
       "           Date  Quantity    Amount    Mv_Qty    Mv_Amt  \\\n",
       "0    2020-01-19  86.10121 429.64500  55.00479 274.47389   \n",
       "1    2020-01-26  63.83407 318.53200  63.94169 319.06900   \n",
       "2    2020-02-02  45.32098 226.15167  65.08542 324.77622   \n",
       "3    2020-02-09  44.33307 221.22200  51.16270 255.30189   \n",
       "4    2020-02-16  48.16767 240.35667  45.94057 229.24344   \n",
       "...         ...       ...       ...       ...       ...   \n",
       "2094 2022-10-30 113.51292 146.43167 113.89578 146.92556   \n",
       "2095 2022-11-06  97.40439 125.65167 107.07925 138.13222   \n",
       "2096 2022-11-13  93.24030 120.28000 101.38587 130.78778   \n",
       "2097 2022-11-20  94.38113 121.75167  95.00861 122.56111   \n",
       "2098 2022-11-27  88.66085 114.37250  92.09410 118.80139   \n",
       "\n",
       "                     Location               Item  \n",
       "0                     FREMONT  CHICKEN XXXXX - O  \n",
       "1                     FREMONT  CHICKEN XXXXX - O  \n",
       "2                     FREMONT  CHICKEN XXXXX - O  \n",
       "3                     FREMONT  CHICKEN XXXXX - O  \n",
       "4                     FREMONT  CHICKEN XXXXX - O  \n",
       "...                       ...                ...  \n",
       "2094  S SAN FRANCISCO BUS CTR    DRUMSTICKS NNNN  \n",
       "2095  S SAN FRANCISCO BUS CTR    DRUMSTICKS NNNN  \n",
       "2096  S SAN FRANCISCO BUS CTR    DRUMSTICKS NNNN  \n",
       "2097  S SAN FRANCISCO BUS CTR    DRUMSTICKS NNNN  \n",
       "2098  S SAN FRANCISCO BUS CTR    DRUMSTICKS NNNN  \n",
       "\n",
       "[2099 rows x 7 columns]"
      ]
     },
     "execution_count": 25,
     "metadata": {},
     "output_type": "execute_result"
    }
   ],
   "source": [
    "data1"
   ]
  },
  {
   "cell_type": "code",
   "execution_count": 26,
   "id": "fce849c0",
   "metadata": {},
   "outputs": [],
   "source": [
    "data2 = data1[['Date', 'Mv_Qty', 'Location', 'Item']]"
   ]
  },
  {
   "cell_type": "code",
   "execution_count": 27,
   "id": "fd2120e5",
   "metadata": {},
   "outputs": [],
   "source": [
    "data3= data2[(data2['Location']== 'FREMONT') & (data2['Item']== 'CHICKEN XXXXX - O') ]"
   ]
  },
  {
   "cell_type": "code",
   "execution_count": 28,
   "id": "0777b93f",
   "metadata": {},
   "outputs": [
    {
     "data": {
      "text/plain": [
       "array(['2020-01-19T00:00:00.000000000', '2020-01-26T00:00:00.000000000',\n",
       "       '2020-02-02T00:00:00.000000000', '2020-02-09T00:00:00.000000000',\n",
       "       '2020-02-16T00:00:00.000000000', '2020-02-23T00:00:00.000000000',\n",
       "       '2020-03-01T00:00:00.000000000', '2020-03-08T00:00:00.000000000',\n",
       "       '2020-03-15T00:00:00.000000000', '2020-03-22T00:00:00.000000000',\n",
       "       '2020-03-29T00:00:00.000000000', '2020-04-05T00:00:00.000000000',\n",
       "       '2020-04-12T00:00:00.000000000', '2020-04-19T00:00:00.000000000',\n",
       "       '2020-04-26T00:00:00.000000000', '2020-05-03T00:00:00.000000000',\n",
       "       '2020-05-10T00:00:00.000000000', '2020-05-17T00:00:00.000000000',\n",
       "       '2020-05-24T00:00:00.000000000', '2020-05-31T00:00:00.000000000',\n",
       "       '2020-06-07T00:00:00.000000000', '2020-06-14T00:00:00.000000000',\n",
       "       '2020-06-21T00:00:00.000000000', '2020-06-28T00:00:00.000000000',\n",
       "       '2020-07-05T00:00:00.000000000', '2020-07-12T00:00:00.000000000',\n",
       "       '2020-07-19T00:00:00.000000000', '2020-07-26T00:00:00.000000000',\n",
       "       '2020-08-02T00:00:00.000000000', '2020-08-09T00:00:00.000000000',\n",
       "       '2020-08-16T00:00:00.000000000', '2020-08-23T00:00:00.000000000',\n",
       "       '2020-08-30T00:00:00.000000000', '2020-09-06T00:00:00.000000000',\n",
       "       '2020-09-13T00:00:00.000000000', '2020-09-20T00:00:00.000000000',\n",
       "       '2020-09-27T00:00:00.000000000', '2020-10-04T00:00:00.000000000',\n",
       "       '2020-10-11T00:00:00.000000000', '2020-10-18T00:00:00.000000000',\n",
       "       '2020-10-25T00:00:00.000000000', '2020-11-01T00:00:00.000000000',\n",
       "       '2020-11-08T00:00:00.000000000', '2020-11-15T00:00:00.000000000',\n",
       "       '2020-11-22T00:00:00.000000000', '2020-11-29T00:00:00.000000000',\n",
       "       '2020-12-06T00:00:00.000000000', '2020-12-13T00:00:00.000000000',\n",
       "       '2020-12-20T00:00:00.000000000', '2020-12-27T00:00:00.000000000',\n",
       "       '2021-01-03T00:00:00.000000000', '2021-01-10T00:00:00.000000000',\n",
       "       '2021-01-17T00:00:00.000000000', '2021-01-24T00:00:00.000000000',\n",
       "       '2021-01-31T00:00:00.000000000', '2021-02-07T00:00:00.000000000',\n",
       "       '2021-02-14T00:00:00.000000000', '2021-02-21T00:00:00.000000000',\n",
       "       '2021-02-28T00:00:00.000000000', '2021-03-07T00:00:00.000000000',\n",
       "       '2021-03-14T00:00:00.000000000', '2021-03-21T00:00:00.000000000',\n",
       "       '2021-03-28T00:00:00.000000000', '2021-04-04T00:00:00.000000000',\n",
       "       '2021-04-11T00:00:00.000000000', '2021-04-18T00:00:00.000000000',\n",
       "       '2021-04-25T00:00:00.000000000', '2021-05-02T00:00:00.000000000',\n",
       "       '2021-05-09T00:00:00.000000000', '2021-05-16T00:00:00.000000000',\n",
       "       '2021-05-23T00:00:00.000000000', '2021-05-30T00:00:00.000000000',\n",
       "       '2021-06-06T00:00:00.000000000', '2021-06-13T00:00:00.000000000',\n",
       "       '2021-06-20T00:00:00.000000000', '2021-06-27T00:00:00.000000000',\n",
       "       '2021-07-04T00:00:00.000000000', '2021-07-11T00:00:00.000000000',\n",
       "       '2021-07-18T00:00:00.000000000', '2021-07-25T00:00:00.000000000',\n",
       "       '2021-08-01T00:00:00.000000000', '2021-08-08T00:00:00.000000000',\n",
       "       '2021-08-15T00:00:00.000000000', '2021-08-22T00:00:00.000000000',\n",
       "       '2021-08-29T00:00:00.000000000', '2021-09-05T00:00:00.000000000',\n",
       "       '2021-09-12T00:00:00.000000000', '2021-09-19T00:00:00.000000000',\n",
       "       '2021-09-26T00:00:00.000000000', '2021-10-03T00:00:00.000000000',\n",
       "       '2021-10-10T00:00:00.000000000', '2021-10-17T00:00:00.000000000',\n",
       "       '2021-10-24T00:00:00.000000000', '2021-10-31T00:00:00.000000000',\n",
       "       '2021-11-07T00:00:00.000000000', '2021-11-14T00:00:00.000000000',\n",
       "       '2021-11-21T00:00:00.000000000', '2021-11-28T00:00:00.000000000',\n",
       "       '2021-12-05T00:00:00.000000000', '2021-12-12T00:00:00.000000000',\n",
       "       '2021-12-19T00:00:00.000000000', '2021-12-26T00:00:00.000000000',\n",
       "       '2022-01-02T00:00:00.000000000', '2022-01-09T00:00:00.000000000',\n",
       "       '2022-01-16T00:00:00.000000000', '2022-01-23T00:00:00.000000000',\n",
       "       '2022-01-30T00:00:00.000000000', '2022-02-06T00:00:00.000000000',\n",
       "       '2022-02-13T00:00:00.000000000', '2022-02-20T00:00:00.000000000',\n",
       "       '2022-02-27T00:00:00.000000000', '2022-03-06T00:00:00.000000000',\n",
       "       '2022-03-13T00:00:00.000000000', '2022-03-20T00:00:00.000000000',\n",
       "       '2022-03-27T00:00:00.000000000', '2022-04-03T00:00:00.000000000',\n",
       "       '2022-04-10T00:00:00.000000000', '2022-04-17T00:00:00.000000000',\n",
       "       '2022-04-24T00:00:00.000000000', '2022-05-01T00:00:00.000000000',\n",
       "       '2022-05-08T00:00:00.000000000', '2022-05-15T00:00:00.000000000',\n",
       "       '2022-05-22T00:00:00.000000000', '2022-05-29T00:00:00.000000000',\n",
       "       '2022-06-05T00:00:00.000000000', '2022-06-12T00:00:00.000000000',\n",
       "       '2022-06-19T00:00:00.000000000', '2022-06-26T00:00:00.000000000',\n",
       "       '2022-07-03T00:00:00.000000000', '2022-07-10T00:00:00.000000000',\n",
       "       '2022-07-17T00:00:00.000000000', '2022-07-24T00:00:00.000000000',\n",
       "       '2022-07-31T00:00:00.000000000', '2022-08-07T00:00:00.000000000',\n",
       "       '2022-08-14T00:00:00.000000000', '2022-08-21T00:00:00.000000000',\n",
       "       '2022-08-28T00:00:00.000000000', '2022-09-04T00:00:00.000000000',\n",
       "       '2022-09-11T00:00:00.000000000', '2022-09-18T00:00:00.000000000',\n",
       "       '2022-09-25T00:00:00.000000000', '2022-10-02T00:00:00.000000000',\n",
       "       '2022-10-09T00:00:00.000000000', '2022-10-16T00:00:00.000000000',\n",
       "       '2022-10-23T00:00:00.000000000', '2022-10-30T00:00:00.000000000',\n",
       "       '2022-11-06T00:00:00.000000000', '2022-11-13T00:00:00.000000000',\n",
       "       '2022-11-20T00:00:00.000000000', '2022-11-27T00:00:00.000000000'],\n",
       "      dtype='datetime64[ns]')"
      ]
     },
     "execution_count": 28,
     "metadata": {},
     "output_type": "execute_result"
    }
   ],
   "source": [
    "data3['Date'].values"
   ]
  },
  {
   "cell_type": "code",
   "execution_count": 29,
   "id": "8aa23c96",
   "metadata": {},
   "outputs": [],
   "source": [
    "train = data3[data3['Date']<= '2022-05-01']\n",
    "test = data3[data3['Date']>= '2022-05-01']"
   ]
  },
  {
   "cell_type": "code",
   "execution_count": 30,
   "id": "02eb6310",
   "metadata": {},
   "outputs": [
    {
     "data": {
      "text/plain": [
       "((120, 4), (31, 4))"
      ]
     },
     "execution_count": 30,
     "metadata": {},
     "output_type": "execute_result"
    }
   ],
   "source": [
    "train.shape, test.shape"
   ]
  },
  {
   "cell_type": "code",
   "execution_count": 31,
   "id": "0901d090",
   "metadata": {},
   "outputs": [],
   "source": [
    "train.drop(['Location', 'Item'], axis=1, inplace=True)"
   ]
  },
  {
   "cell_type": "code",
   "execution_count": 32,
   "id": "73c02abc",
   "metadata": {},
   "outputs": [
    {
     "data": {
      "text/html": [
       "<div>\n",
       "<style scoped>\n",
       "    .dataframe tbody tr th:only-of-type {\n",
       "        vertical-align: middle;\n",
       "    }\n",
       "\n",
       "    .dataframe tbody tr th {\n",
       "        vertical-align: top;\n",
       "    }\n",
       "\n",
       "    .dataframe thead th {\n",
       "        text-align: right;\n",
       "    }\n",
       "</style>\n",
       "<table border=\"1\" class=\"dataframe\">\n",
       "  <thead>\n",
       "    <tr style=\"text-align: right;\">\n",
       "      <th></th>\n",
       "      <th>Date</th>\n",
       "      <th>Mv_Qty</th>\n",
       "    </tr>\n",
       "  </thead>\n",
       "  <tbody>\n",
       "    <tr>\n",
       "      <th>0</th>\n",
       "      <td>2020-01-19</td>\n",
       "      <td>55.00479</td>\n",
       "    </tr>\n",
       "    <tr>\n",
       "      <th>1</th>\n",
       "      <td>2020-01-26</td>\n",
       "      <td>63.94169</td>\n",
       "    </tr>\n",
       "    <tr>\n",
       "      <th>2</th>\n",
       "      <td>2020-02-02</td>\n",
       "      <td>65.08542</td>\n",
       "    </tr>\n",
       "    <tr>\n",
       "      <th>3</th>\n",
       "      <td>2020-02-09</td>\n",
       "      <td>51.16270</td>\n",
       "    </tr>\n",
       "    <tr>\n",
       "      <th>4</th>\n",
       "      <td>2020-02-16</td>\n",
       "      <td>45.94057</td>\n",
       "    </tr>\n",
       "    <tr>\n",
       "      <th>...</th>\n",
       "      <td>...</td>\n",
       "      <td>...</td>\n",
       "    </tr>\n",
       "    <tr>\n",
       "      <th>115</th>\n",
       "      <td>2022-04-03</td>\n",
       "      <td>51.12479</td>\n",
       "    </tr>\n",
       "    <tr>\n",
       "      <th>116</th>\n",
       "      <td>2022-04-10</td>\n",
       "      <td>53.36157</td>\n",
       "    </tr>\n",
       "    <tr>\n",
       "      <th>117</th>\n",
       "      <td>2022-04-17</td>\n",
       "      <td>53.89313</td>\n",
       "    </tr>\n",
       "    <tr>\n",
       "      <th>118</th>\n",
       "      <td>2022-04-24</td>\n",
       "      <td>52.99399</td>\n",
       "    </tr>\n",
       "    <tr>\n",
       "      <th>119</th>\n",
       "      <td>2022-05-01</td>\n",
       "      <td>47.65087</td>\n",
       "    </tr>\n",
       "  </tbody>\n",
       "</table>\n",
       "<p>120 rows × 2 columns</p>\n",
       "</div>"
      ],
      "text/plain": [
       "          Date   Mv_Qty\n",
       "0   2020-01-19 55.00479\n",
       "1   2020-01-26 63.94169\n",
       "2   2020-02-02 65.08542\n",
       "3   2020-02-09 51.16270\n",
       "4   2020-02-16 45.94057\n",
       "..         ...      ...\n",
       "115 2022-04-03 51.12479\n",
       "116 2022-04-10 53.36157\n",
       "117 2022-04-17 53.89313\n",
       "118 2022-04-24 52.99399\n",
       "119 2022-05-01 47.65087\n",
       "\n",
       "[120 rows x 2 columns]"
      ]
     },
     "execution_count": 32,
     "metadata": {},
     "output_type": "execute_result"
    }
   ],
   "source": [
    "train"
   ]
  },
  {
   "cell_type": "code",
   "execution_count": 33,
   "id": "66f3f830",
   "metadata": {},
   "outputs": [],
   "source": [
    "train= train.rename(columns= {'Date': 'ds', 'Mv_Qty': 'y'})"
   ]
  },
  {
   "cell_type": "code",
   "execution_count": 34,
   "id": "214a974a",
   "metadata": {},
   "outputs": [
    {
     "name": "stderr",
     "output_type": "stream",
     "text": [
      "01:28:39 - cmdstanpy - INFO - Chain [1] start processing\n",
      "01:28:39 - cmdstanpy - INFO - Chain [1] done processing\n"
     ]
    },
    {
     "data": {
      "text/plain": [
       "<prophet.forecaster.Prophet at 0x185ba66b310>"
      ]
     },
     "execution_count": 34,
     "metadata": {},
     "output_type": "execute_result"
    }
   ],
   "source": [
    "model = Prophet()\n",
    "model.fit(train)"
   ]
  },
  {
   "cell_type": "code",
   "execution_count": 35,
   "id": "e12896fa",
   "metadata": {},
   "outputs": [
    {
     "data": {
      "text/html": [
       "<div>\n",
       "<style scoped>\n",
       "    .dataframe tbody tr th:only-of-type {\n",
       "        vertical-align: middle;\n",
       "    }\n",
       "\n",
       "    .dataframe tbody tr th {\n",
       "        vertical-align: top;\n",
       "    }\n",
       "\n",
       "    .dataframe thead th {\n",
       "        text-align: right;\n",
       "    }\n",
       "</style>\n",
       "<table border=\"1\" class=\"dataframe\">\n",
       "  <thead>\n",
       "    <tr style=\"text-align: right;\">\n",
       "      <th></th>\n",
       "      <th>ds</th>\n",
       "    </tr>\n",
       "  </thead>\n",
       "  <tbody>\n",
       "    <tr>\n",
       "      <th>119</th>\n",
       "      <td>2022-05-01</td>\n",
       "    </tr>\n",
       "    <tr>\n",
       "      <th>120</th>\n",
       "      <td>2022-05-08</td>\n",
       "    </tr>\n",
       "    <tr>\n",
       "      <th>121</th>\n",
       "      <td>2022-05-15</td>\n",
       "    </tr>\n",
       "    <tr>\n",
       "      <th>122</th>\n",
       "      <td>2022-05-22</td>\n",
       "    </tr>\n",
       "    <tr>\n",
       "      <th>123</th>\n",
       "      <td>2022-05-29</td>\n",
       "    </tr>\n",
       "  </tbody>\n",
       "</table>\n",
       "</div>"
      ],
      "text/plain": [
       "            ds\n",
       "119 2022-05-01\n",
       "120 2022-05-08\n",
       "121 2022-05-15\n",
       "122 2022-05-22\n",
       "123 2022-05-29"
      ]
     },
     "execution_count": 35,
     "metadata": {},
     "output_type": "execute_result"
    }
   ],
   "source": [
    "test1= test.drop(['Mv_Qty', 'Location', 'Item'], axis=1)\n",
    "test1= test1.rename(columns= {'Date': 'ds'})\n",
    "test1.head()"
   ]
  },
  {
   "cell_type": "code",
   "execution_count": 36,
   "id": "7e033f72",
   "metadata": {},
   "outputs": [],
   "source": [
    "forecasted = model.predict(test1)"
   ]
  },
  {
   "cell_type": "code",
   "execution_count": 39,
   "id": "96a2e54f",
   "metadata": {},
   "outputs": [
    {
     "data": {
      "text/html": [
       "<div>\n",
       "<style scoped>\n",
       "    .dataframe tbody tr th:only-of-type {\n",
       "        vertical-align: middle;\n",
       "    }\n",
       "\n",
       "    .dataframe tbody tr th {\n",
       "        vertical-align: top;\n",
       "    }\n",
       "\n",
       "    .dataframe thead th {\n",
       "        text-align: right;\n",
       "    }\n",
       "</style>\n",
       "<table border=\"1\" class=\"dataframe\">\n",
       "  <thead>\n",
       "    <tr style=\"text-align: right;\">\n",
       "      <th></th>\n",
       "      <th>ds</th>\n",
       "      <th>trend</th>\n",
       "      <th>yhat_lower</th>\n",
       "      <th>yhat_upper</th>\n",
       "      <th>trend_lower</th>\n",
       "      <th>trend_upper</th>\n",
       "      <th>additive_terms</th>\n",
       "      <th>additive_terms_lower</th>\n",
       "      <th>additive_terms_upper</th>\n",
       "      <th>yearly</th>\n",
       "      <th>yearly_lower</th>\n",
       "      <th>yearly_upper</th>\n",
       "      <th>multiplicative_terms</th>\n",
       "      <th>multiplicative_terms_lower</th>\n",
       "      <th>multiplicative_terms_upper</th>\n",
       "      <th>yhat</th>\n",
       "    </tr>\n",
       "  </thead>\n",
       "  <tbody>\n",
       "    <tr>\n",
       "      <th>0</th>\n",
       "      <td>2022-05-01</td>\n",
       "      <td>41.63706</td>\n",
       "      <td>16.85100</td>\n",
       "      <td>57.18528</td>\n",
       "      <td>41.63706</td>\n",
       "      <td>41.63706</td>\n",
       "      <td>-6.02240</td>\n",
       "      <td>-6.02240</td>\n",
       "      <td>-6.02240</td>\n",
       "      <td>-6.02240</td>\n",
       "      <td>-6.02240</td>\n",
       "      <td>-6.02240</td>\n",
       "      <td>0.00000</td>\n",
       "      <td>0.00000</td>\n",
       "      <td>0.00000</td>\n",
       "      <td>35.61466</td>\n",
       "    </tr>\n",
       "    <tr>\n",
       "      <th>1</th>\n",
       "      <td>2022-05-08</td>\n",
       "      <td>41.00256</td>\n",
       "      <td>13.71170</td>\n",
       "      <td>57.45114</td>\n",
       "      <td>41.00101</td>\n",
       "      <td>41.00286</td>\n",
       "      <td>-5.94611</td>\n",
       "      <td>-5.94611</td>\n",
       "      <td>-5.94611</td>\n",
       "      <td>-5.94611</td>\n",
       "      <td>-5.94611</td>\n",
       "      <td>-5.94611</td>\n",
       "      <td>0.00000</td>\n",
       "      <td>0.00000</td>\n",
       "      <td>0.00000</td>\n",
       "      <td>35.05644</td>\n",
       "    </tr>\n",
       "    <tr>\n",
       "      <th>2</th>\n",
       "      <td>2022-05-15</td>\n",
       "      <td>40.36806</td>\n",
       "      <td>17.02184</td>\n",
       "      <td>59.73141</td>\n",
       "      <td>40.35469</td>\n",
       "      <td>40.38088</td>\n",
       "      <td>-2.22617</td>\n",
       "      <td>-2.22617</td>\n",
       "      <td>-2.22617</td>\n",
       "      <td>-2.22617</td>\n",
       "      <td>-2.22617</td>\n",
       "      <td>-2.22617</td>\n",
       "      <td>0.00000</td>\n",
       "      <td>0.00000</td>\n",
       "      <td>0.00000</td>\n",
       "      <td>38.14189</td>\n",
       "    </tr>\n",
       "    <tr>\n",
       "      <th>3</th>\n",
       "      <td>2022-05-22</td>\n",
       "      <td>39.73356</td>\n",
       "      <td>19.99877</td>\n",
       "      <td>61.94732</td>\n",
       "      <td>39.70146</td>\n",
       "      <td>39.76711</td>\n",
       "      <td>1.70408</td>\n",
       "      <td>1.70408</td>\n",
       "      <td>1.70408</td>\n",
       "      <td>1.70408</td>\n",
       "      <td>1.70408</td>\n",
       "      <td>1.70408</td>\n",
       "      <td>0.00000</td>\n",
       "      <td>0.00000</td>\n",
       "      <td>0.00000</td>\n",
       "      <td>41.43764</td>\n",
       "    </tr>\n",
       "    <tr>\n",
       "      <th>4</th>\n",
       "      <td>2022-05-29</td>\n",
       "      <td>39.09906</td>\n",
       "      <td>20.63662</td>\n",
       "      <td>62.91185</td>\n",
       "      <td>39.03493</td>\n",
       "      <td>39.15994</td>\n",
       "      <td>2.32396</td>\n",
       "      <td>2.32396</td>\n",
       "      <td>2.32396</td>\n",
       "      <td>2.32396</td>\n",
       "      <td>2.32396</td>\n",
       "      <td>2.32396</td>\n",
       "      <td>0.00000</td>\n",
       "      <td>0.00000</td>\n",
       "      <td>0.00000</td>\n",
       "      <td>41.42302</td>\n",
       "    </tr>\n",
       "  </tbody>\n",
       "</table>\n",
       "</div>"
      ],
      "text/plain": [
       "          ds    trend  yhat_lower  yhat_upper  trend_lower  trend_upper  \\\n",
       "0 2022-05-01 41.63706    16.85100    57.18528     41.63706     41.63706   \n",
       "1 2022-05-08 41.00256    13.71170    57.45114     41.00101     41.00286   \n",
       "2 2022-05-15 40.36806    17.02184    59.73141     40.35469     40.38088   \n",
       "3 2022-05-22 39.73356    19.99877    61.94732     39.70146     39.76711   \n",
       "4 2022-05-29 39.09906    20.63662    62.91185     39.03493     39.15994   \n",
       "\n",
       "   additive_terms  additive_terms_lower  additive_terms_upper   yearly  \\\n",
       "0        -6.02240              -6.02240              -6.02240 -6.02240   \n",
       "1        -5.94611              -5.94611              -5.94611 -5.94611   \n",
       "2        -2.22617              -2.22617              -2.22617 -2.22617   \n",
       "3         1.70408               1.70408               1.70408  1.70408   \n",
       "4         2.32396               2.32396               2.32396  2.32396   \n",
       "\n",
       "   yearly_lower  yearly_upper  multiplicative_terms  \\\n",
       "0      -6.02240      -6.02240               0.00000   \n",
       "1      -5.94611      -5.94611               0.00000   \n",
       "2      -2.22617      -2.22617               0.00000   \n",
       "3       1.70408       1.70408               0.00000   \n",
       "4       2.32396       2.32396               0.00000   \n",
       "\n",
       "   multiplicative_terms_lower  multiplicative_terms_upper     yhat  \n",
       "0                     0.00000                     0.00000 35.61466  \n",
       "1                     0.00000                     0.00000 35.05644  \n",
       "2                     0.00000                     0.00000 38.14189  \n",
       "3                     0.00000                     0.00000 41.43764  \n",
       "4                     0.00000                     0.00000 41.42302  "
      ]
     },
     "execution_count": 39,
     "metadata": {},
     "output_type": "execute_result"
    }
   ],
   "source": [
    "forecasted.head()"
   ]
  },
  {
   "cell_type": "code",
   "execution_count": 40,
   "id": "f277c134",
   "metadata": {},
   "outputs": [],
   "source": [
    "forecasted_df= forecasted[['ds', 'yhat']]"
   ]
  },
  {
   "cell_type": "code",
   "execution_count": 41,
   "id": "47f82802",
   "metadata": {},
   "outputs": [],
   "source": [
    "# forecasted_df[['ds', 'yhat']].plot()"
   ]
  },
  {
   "cell_type": "code",
   "execution_count": 42,
   "id": "a4d34d4a",
   "metadata": {},
   "outputs": [],
   "source": [
    "data4= data3.rename(columns= {'Date':'ds', 'Mv_Qty': 'y'})"
   ]
  },
  {
   "cell_type": "code",
   "execution_count": 43,
   "id": "d11320de",
   "metadata": {},
   "outputs": [],
   "source": [
    "data_merge= pd.merge(data4,forecasted_df, on= ['ds'], how ='inner' )"
   ]
  },
  {
   "cell_type": "code",
   "execution_count": 44,
   "id": "f41bfff0",
   "metadata": {},
   "outputs": [
    {
     "data": {
      "text/html": [
       "<div>\n",
       "<style scoped>\n",
       "    .dataframe tbody tr th:only-of-type {\n",
       "        vertical-align: middle;\n",
       "    }\n",
       "\n",
       "    .dataframe tbody tr th {\n",
       "        vertical-align: top;\n",
       "    }\n",
       "\n",
       "    .dataframe thead th {\n",
       "        text-align: right;\n",
       "    }\n",
       "</style>\n",
       "<table border=\"1\" class=\"dataframe\">\n",
       "  <thead>\n",
       "    <tr style=\"text-align: right;\">\n",
       "      <th></th>\n",
       "      <th>ds</th>\n",
       "      <th>y</th>\n",
       "      <th>Location</th>\n",
       "      <th>Item</th>\n",
       "      <th>yhat</th>\n",
       "    </tr>\n",
       "  </thead>\n",
       "  <tbody>\n",
       "    <tr>\n",
       "      <th>0</th>\n",
       "      <td>2022-05-01</td>\n",
       "      <td>47.65087</td>\n",
       "      <td>FREMONT</td>\n",
       "      <td>CHICKEN XXXXX - O</td>\n",
       "      <td>35.61466</td>\n",
       "    </tr>\n",
       "    <tr>\n",
       "      <th>1</th>\n",
       "      <td>2022-05-08</td>\n",
       "      <td>46.94124</td>\n",
       "      <td>FREMONT</td>\n",
       "      <td>CHICKEN XXXXX - O</td>\n",
       "      <td>35.05644</td>\n",
       "    </tr>\n",
       "    <tr>\n",
       "      <th>2</th>\n",
       "      <td>2022-05-15</td>\n",
       "      <td>54.41286</td>\n",
       "      <td>FREMONT</td>\n",
       "      <td>CHICKEN XXXXX - O</td>\n",
       "      <td>38.14189</td>\n",
       "    </tr>\n",
       "    <tr>\n",
       "      <th>3</th>\n",
       "      <td>2022-05-22</td>\n",
       "      <td>45.05632</td>\n",
       "      <td>FREMONT</td>\n",
       "      <td>CHICKEN XXXXX - O</td>\n",
       "      <td>41.43764</td>\n",
       "    </tr>\n",
       "    <tr>\n",
       "      <th>4</th>\n",
       "      <td>2022-05-29</td>\n",
       "      <td>37.63646</td>\n",
       "      <td>FREMONT</td>\n",
       "      <td>CHICKEN XXXXX - O</td>\n",
       "      <td>41.42302</td>\n",
       "    </tr>\n",
       "    <tr>\n",
       "      <th>5</th>\n",
       "      <td>2022-06-05</td>\n",
       "      <td>26.08838</td>\n",
       "      <td>FREMONT</td>\n",
       "      <td>CHICKEN XXXXX - O</td>\n",
       "      <td>38.35246</td>\n",
       "    </tr>\n",
       "    <tr>\n",
       "      <th>6</th>\n",
       "      <td>2022-06-12</td>\n",
       "      <td>24.01842</td>\n",
       "      <td>FREMONT</td>\n",
       "      <td>CHICKEN XXXXX - O</td>\n",
       "      <td>36.11880</td>\n",
       "    </tr>\n",
       "    <tr>\n",
       "      <th>7</th>\n",
       "      <td>2022-06-19</td>\n",
       "      <td>27.49883</td>\n",
       "      <td>FREMONT</td>\n",
       "      <td>CHICKEN XXXXX - O</td>\n",
       "      <td>37.55903</td>\n",
       "    </tr>\n",
       "    <tr>\n",
       "      <th>8</th>\n",
       "      <td>2022-06-26</td>\n",
       "      <td>24.15693</td>\n",
       "      <td>FREMONT</td>\n",
       "      <td>CHICKEN XXXXX - O</td>\n",
       "      <td>40.57580</td>\n",
       "    </tr>\n",
       "    <tr>\n",
       "      <th>9</th>\n",
       "      <td>2022-07-03</td>\n",
       "      <td>23.22768</td>\n",
       "      <td>FREMONT</td>\n",
       "      <td>CHICKEN XXXXX - O</td>\n",
       "      <td>40.09126</td>\n",
       "    </tr>\n",
       "    <tr>\n",
       "      <th>10</th>\n",
       "      <td>2022-07-10</td>\n",
       "      <td>24.55489</td>\n",
       "      <td>FREMONT</td>\n",
       "      <td>CHICKEN XXXXX - O</td>\n",
       "      <td>33.95259</td>\n",
       "    </tr>\n",
       "    <tr>\n",
       "      <th>11</th>\n",
       "      <td>2022-07-17</td>\n",
       "      <td>28.18416</td>\n",
       "      <td>FREMONT</td>\n",
       "      <td>CHICKEN XXXXX - O</td>\n",
       "      <td>25.84104</td>\n",
       "    </tr>\n",
       "    <tr>\n",
       "      <th>12</th>\n",
       "      <td>2022-07-24</td>\n",
       "      <td>32.41391</td>\n",
       "      <td>FREMONT</td>\n",
       "      <td>CHICKEN XXXXX - O</td>\n",
       "      <td>21.58690</td>\n",
       "    </tr>\n",
       "    <tr>\n",
       "      <th>13</th>\n",
       "      <td>2022-07-31</td>\n",
       "      <td>34.30875</td>\n",
       "      <td>FREMONT</td>\n",
       "      <td>CHICKEN XXXXX - O</td>\n",
       "      <td>23.19358</td>\n",
       "    </tr>\n",
       "    <tr>\n",
       "      <th>14</th>\n",
       "      <td>2022-08-07</td>\n",
       "      <td>34.76994</td>\n",
       "      <td>FREMONT</td>\n",
       "      <td>CHICKEN XXXXX - O</td>\n",
       "      <td>27.54155</td>\n",
       "    </tr>\n",
       "    <tr>\n",
       "      <th>15</th>\n",
       "      <td>2022-08-14</td>\n",
       "      <td>34.99253</td>\n",
       "      <td>FREMONT</td>\n",
       "      <td>CHICKEN XXXXX - O</td>\n",
       "      <td>30.82821</td>\n",
       "    </tr>\n",
       "    <tr>\n",
       "      <th>16</th>\n",
       "      <td>2022-08-21</td>\n",
       "      <td>40.22997</td>\n",
       "      <td>FREMONT</td>\n",
       "      <td>CHICKEN XXXXX - O</td>\n",
       "      <td>32.78683</td>\n",
       "    </tr>\n",
       "    <tr>\n",
       "      <th>17</th>\n",
       "      <td>2022-08-28</td>\n",
       "      <td>44.50517</td>\n",
       "      <td>FREMONT</td>\n",
       "      <td>CHICKEN XXXXX - O</td>\n",
       "      <td>35.47496</td>\n",
       "    </tr>\n",
       "    <tr>\n",
       "      <th>18</th>\n",
       "      <td>2022-09-04</td>\n",
       "      <td>38.51054</td>\n",
       "      <td>FREMONT</td>\n",
       "      <td>CHICKEN XXXXX - O</td>\n",
       "      <td>38.80984</td>\n",
       "    </tr>\n",
       "    <tr>\n",
       "      <th>19</th>\n",
       "      <td>2022-09-11</td>\n",
       "      <td>29.33943</td>\n",
       "      <td>FREMONT</td>\n",
       "      <td>CHICKEN XXXXX - O</td>\n",
       "      <td>39.36053</td>\n",
       "    </tr>\n",
       "    <tr>\n",
       "      <th>20</th>\n",
       "      <td>2022-09-18</td>\n",
       "      <td>30.74005</td>\n",
       "      <td>FREMONT</td>\n",
       "      <td>CHICKEN XXXXX - O</td>\n",
       "      <td>34.46530</td>\n",
       "    </tr>\n",
       "    <tr>\n",
       "      <th>21</th>\n",
       "      <td>2022-09-25</td>\n",
       "      <td>39.04808</td>\n",
       "      <td>FREMONT</td>\n",
       "      <td>CHICKEN XXXXX - O</td>\n",
       "      <td>26.33160</td>\n",
       "    </tr>\n",
       "    <tr>\n",
       "      <th>22</th>\n",
       "      <td>2022-10-02</td>\n",
       "      <td>37.42315</td>\n",
       "      <td>FREMONT</td>\n",
       "      <td>CHICKEN XXXXX - O</td>\n",
       "      <td>20.30461</td>\n",
       "    </tr>\n",
       "    <tr>\n",
       "      <th>23</th>\n",
       "      <td>2022-10-09</td>\n",
       "      <td>27.53791</td>\n",
       "      <td>FREMONT</td>\n",
       "      <td>CHICKEN XXXXX - O</td>\n",
       "      <td>18.95309</td>\n",
       "    </tr>\n",
       "    <tr>\n",
       "      <th>24</th>\n",
       "      <td>2022-10-16</td>\n",
       "      <td>28.04160</td>\n",
       "      <td>FREMONT</td>\n",
       "      <td>CHICKEN XXXXX - O</td>\n",
       "      <td>19.42016</td>\n",
       "    </tr>\n",
       "    <tr>\n",
       "      <th>25</th>\n",
       "      <td>2022-10-23</td>\n",
       "      <td>41.67919</td>\n",
       "      <td>FREMONT</td>\n",
       "      <td>CHICKEN XXXXX - O</td>\n",
       "      <td>17.70127</td>\n",
       "    </tr>\n",
       "    <tr>\n",
       "      <th>26</th>\n",
       "      <td>2022-10-30</td>\n",
       "      <td>47.72991</td>\n",
       "      <td>FREMONT</td>\n",
       "      <td>CHICKEN XXXXX - O</td>\n",
       "      <td>14.52260</td>\n",
       "    </tr>\n",
       "    <tr>\n",
       "      <th>27</th>\n",
       "      <td>2022-11-06</td>\n",
       "      <td>51.64982</td>\n",
       "      <td>FREMONT</td>\n",
       "      <td>CHICKEN XXXXX - O</td>\n",
       "      <td>14.90407</td>\n",
       "    </tr>\n",
       "    <tr>\n",
       "      <th>28</th>\n",
       "      <td>2022-11-13</td>\n",
       "      <td>44.14984</td>\n",
       "      <td>FREMONT</td>\n",
       "      <td>CHICKEN XXXXX - O</td>\n",
       "      <td>21.26696</td>\n",
       "    </tr>\n",
       "    <tr>\n",
       "      <th>29</th>\n",
       "      <td>2022-11-20</td>\n",
       "      <td>43.58890</td>\n",
       "      <td>FREMONT</td>\n",
       "      <td>CHICKEN XXXXX - O</td>\n",
       "      <td>28.68528</td>\n",
       "    </tr>\n",
       "    <tr>\n",
       "      <th>30</th>\n",
       "      <td>2022-11-27</td>\n",
       "      <td>35.81526</td>\n",
       "      <td>FREMONT</td>\n",
       "      <td>CHICKEN XXXXX - O</td>\n",
       "      <td>29.18132</td>\n",
       "    </tr>\n",
       "  </tbody>\n",
       "</table>\n",
       "</div>"
      ],
      "text/plain": [
       "           ds        y Location               Item     yhat\n",
       "0  2022-05-01 47.65087  FREMONT  CHICKEN XXXXX - O 35.61466\n",
       "1  2022-05-08 46.94124  FREMONT  CHICKEN XXXXX - O 35.05644\n",
       "2  2022-05-15 54.41286  FREMONT  CHICKEN XXXXX - O 38.14189\n",
       "3  2022-05-22 45.05632  FREMONT  CHICKEN XXXXX - O 41.43764\n",
       "4  2022-05-29 37.63646  FREMONT  CHICKEN XXXXX - O 41.42302\n",
       "5  2022-06-05 26.08838  FREMONT  CHICKEN XXXXX - O 38.35246\n",
       "6  2022-06-12 24.01842  FREMONT  CHICKEN XXXXX - O 36.11880\n",
       "7  2022-06-19 27.49883  FREMONT  CHICKEN XXXXX - O 37.55903\n",
       "8  2022-06-26 24.15693  FREMONT  CHICKEN XXXXX - O 40.57580\n",
       "9  2022-07-03 23.22768  FREMONT  CHICKEN XXXXX - O 40.09126\n",
       "10 2022-07-10 24.55489  FREMONT  CHICKEN XXXXX - O 33.95259\n",
       "11 2022-07-17 28.18416  FREMONT  CHICKEN XXXXX - O 25.84104\n",
       "12 2022-07-24 32.41391  FREMONT  CHICKEN XXXXX - O 21.58690\n",
       "13 2022-07-31 34.30875  FREMONT  CHICKEN XXXXX - O 23.19358\n",
       "14 2022-08-07 34.76994  FREMONT  CHICKEN XXXXX - O 27.54155\n",
       "15 2022-08-14 34.99253  FREMONT  CHICKEN XXXXX - O 30.82821\n",
       "16 2022-08-21 40.22997  FREMONT  CHICKEN XXXXX - O 32.78683\n",
       "17 2022-08-28 44.50517  FREMONT  CHICKEN XXXXX - O 35.47496\n",
       "18 2022-09-04 38.51054  FREMONT  CHICKEN XXXXX - O 38.80984\n",
       "19 2022-09-11 29.33943  FREMONT  CHICKEN XXXXX - O 39.36053\n",
       "20 2022-09-18 30.74005  FREMONT  CHICKEN XXXXX - O 34.46530\n",
       "21 2022-09-25 39.04808  FREMONT  CHICKEN XXXXX - O 26.33160\n",
       "22 2022-10-02 37.42315  FREMONT  CHICKEN XXXXX - O 20.30461\n",
       "23 2022-10-09 27.53791  FREMONT  CHICKEN XXXXX - O 18.95309\n",
       "24 2022-10-16 28.04160  FREMONT  CHICKEN XXXXX - O 19.42016\n",
       "25 2022-10-23 41.67919  FREMONT  CHICKEN XXXXX - O 17.70127\n",
       "26 2022-10-30 47.72991  FREMONT  CHICKEN XXXXX - O 14.52260\n",
       "27 2022-11-06 51.64982  FREMONT  CHICKEN XXXXX - O 14.90407\n",
       "28 2022-11-13 44.14984  FREMONT  CHICKEN XXXXX - O 21.26696\n",
       "29 2022-11-20 43.58890  FREMONT  CHICKEN XXXXX - O 28.68528\n",
       "30 2022-11-27 35.81526  FREMONT  CHICKEN XXXXX - O 29.18132"
      ]
     },
     "execution_count": 44,
     "metadata": {},
     "output_type": "execute_result"
    }
   ],
   "source": [
    "data_merge"
   ]
  },
  {
   "cell_type": "code",
   "execution_count": 46,
   "id": "ea81cb12",
   "metadata": {},
   "outputs": [
    {
     "data": {
      "text/plain": [
       "<AxesSubplot:>"
      ]
     },
     "execution_count": 46,
     "metadata": {},
     "output_type": "execute_result"
    },
    {
     "data": {
      "image/png": "[encoded data removed]",
      "text/plain": [
       "<Figure size 432x288 with 1 Axes>"
      ]
     },
     "metadata": {
      "needs_background": "light"
     },
     "output_type": "display_data"
    }
   ],
   "source": [
    "data_merge[['y', 'yhat']].plot()"
   ]
  },
  {
   "cell_type": "code",
   "execution_count": 47,
   "id": "5d806370",
   "metadata": {},
   "outputs": [],
   "source": [
    "from sklearn.metrics import mean_squared_error, r2_score, mean_absolute_error"
   ]
  },
  {
   "cell_type": "code",
   "execution_count": 48,
   "id": "e487d18f",
   "metadata": {},
   "outputs": [
    {
     "data": {
      "text/plain": [
       "213.1046918193954"
      ]
     },
     "execution_count": 48,
     "metadata": {},
     "output_type": "execute_result"
    }
   ],
   "source": [
    "mean_squared_error(data_merge.y, data_merge.yhat)"
   ]
  },
  {
   "cell_type": "code",
   "execution_count": 49,
   "id": "00cb72b9",
   "metadata": {},
   "outputs": [
    {
     "data": {
      "text/plain": [
       "14.59810576134436"
      ]
     },
     "execution_count": 49,
     "metadata": {},
     "output_type": "execute_result"
    }
   ],
   "source": [
    "import math \n",
    "\n",
    "math.sqrt(mean_squared_error(data_merge.y, data_merge.yhat))"
   ]
  },
  {
   "cell_type": "markdown",
   "id": "dcf5b93c",
   "metadata": {},
   "source": [
    "### All in one "
   ]
  },
  {
   "cell_type": "code",
   "execution_count": 50,
   "id": "f5e505ea",
   "metadata": {},
   "outputs": [
    {
     "data": {
      "text/html": [
       "<div>\n",
       "<style scoped>\n",
       "    .dataframe tbody tr th:only-of-type {\n",
       "        vertical-align: middle;\n",
       "    }\n",
       "\n",
       "    .dataframe tbody tr th {\n",
       "        vertical-align: top;\n",
       "    }\n",
       "\n",
       "    .dataframe thead th {\n",
       "        text-align: right;\n",
       "    }\n",
       "</style>\n",
       "<table border=\"1\" class=\"dataframe\">\n",
       "  <thead>\n",
       "    <tr style=\"text-align: right;\">\n",
       "      <th></th>\n",
       "      <th>Date</th>\n",
       "      <th>Mv_Qty</th>\n",
       "      <th>Location</th>\n",
       "      <th>Item</th>\n",
       "    </tr>\n",
       "  </thead>\n",
       "  <tbody>\n",
       "    <tr>\n",
       "      <th>0</th>\n",
       "      <td>2020-01-19</td>\n",
       "      <td>55.00479</td>\n",
       "      <td>FREMONT</td>\n",
       "      <td>CHICKEN XXXXX - O</td>\n",
       "    </tr>\n",
       "    <tr>\n",
       "      <th>1</th>\n",
       "      <td>2020-01-26</td>\n",
       "      <td>63.94169</td>\n",
       "      <td>FREMONT</td>\n",
       "      <td>CHICKEN XXXXX - O</td>\n",
       "    </tr>\n",
       "    <tr>\n",
       "      <th>2</th>\n",
       "      <td>2020-02-02</td>\n",
       "      <td>65.08542</td>\n",
       "      <td>FREMONT</td>\n",
       "      <td>CHICKEN XXXXX - O</td>\n",
       "    </tr>\n",
       "    <tr>\n",
       "      <th>3</th>\n",
       "      <td>2020-02-09</td>\n",
       "      <td>51.16270</td>\n",
       "      <td>FREMONT</td>\n",
       "      <td>CHICKEN XXXXX - O</td>\n",
       "    </tr>\n",
       "    <tr>\n",
       "      <th>4</th>\n",
       "      <td>2020-02-16</td>\n",
       "      <td>45.94057</td>\n",
       "      <td>FREMONT</td>\n",
       "      <td>CHICKEN XXXXX - O</td>\n",
       "    </tr>\n",
       "    <tr>\n",
       "      <th>...</th>\n",
       "      <td>...</td>\n",
       "      <td>...</td>\n",
       "      <td>...</td>\n",
       "      <td>...</td>\n",
       "    </tr>\n",
       "    <tr>\n",
       "      <th>2094</th>\n",
       "      <td>2022-10-30</td>\n",
       "      <td>113.89578</td>\n",
       "      <td>S SAN FRANCISCO BUS CTR</td>\n",
       "      <td>DRUMSTICKS NNNN</td>\n",
       "    </tr>\n",
       "    <tr>\n",
       "      <th>2095</th>\n",
       "      <td>2022-11-06</td>\n",
       "      <td>107.07925</td>\n",
       "      <td>S SAN FRANCISCO BUS CTR</td>\n",
       "      <td>DRUMSTICKS NNNN</td>\n",
       "    </tr>\n",
       "    <tr>\n",
       "      <th>2096</th>\n",
       "      <td>2022-11-13</td>\n",
       "      <td>101.38587</td>\n",
       "      <td>S SAN FRANCISCO BUS CTR</td>\n",
       "      <td>DRUMSTICKS NNNN</td>\n",
       "    </tr>\n",
       "    <tr>\n",
       "      <th>2097</th>\n",
       "      <td>2022-11-20</td>\n",
       "      <td>95.00861</td>\n",
       "      <td>S SAN FRANCISCO BUS CTR</td>\n",
       "      <td>DRUMSTICKS NNNN</td>\n",
       "    </tr>\n",
       "    <tr>\n",
       "      <th>2098</th>\n",
       "      <td>2022-11-27</td>\n",
       "      <td>92.09410</td>\n",
       "      <td>S SAN FRANCISCO BUS CTR</td>\n",
       "      <td>DRUMSTICKS NNNN</td>\n",
       "    </tr>\n",
       "  </tbody>\n",
       "</table>\n",
       "<p>2099 rows × 4 columns</p>\n",
       "</div>"
      ],
      "text/plain": [
       "           Date    Mv_Qty                 Location               Item\n",
       "0    2020-01-19  55.00479                  FREMONT  CHICKEN XXXXX - O\n",
       "1    2020-01-26  63.94169                  FREMONT  CHICKEN XXXXX - O\n",
       "2    2020-02-02  65.08542                  FREMONT  CHICKEN XXXXX - O\n",
       "3    2020-02-09  51.16270                  FREMONT  CHICKEN XXXXX - O\n",
       "4    2020-02-16  45.94057                  FREMONT  CHICKEN XXXXX - O\n",
       "...         ...       ...                      ...                ...\n",
       "2094 2022-10-30 113.89578  S SAN FRANCISCO BUS CTR    DRUMSTICKS NNNN\n",
       "2095 2022-11-06 107.07925  S SAN FRANCISCO BUS CTR    DRUMSTICKS NNNN\n",
       "2096 2022-11-13 101.38587  S SAN FRANCISCO BUS CTR    DRUMSTICKS NNNN\n",
       "2097 2022-11-20  95.00861  S SAN FRANCISCO BUS CTR    DRUMSTICKS NNNN\n",
       "2098 2022-11-27  92.09410  S SAN FRANCISCO BUS CTR    DRUMSTICKS NNNN\n",
       "\n",
       "[2099 rows x 4 columns]"
      ]
     },
     "execution_count": 50,
     "metadata": {},
     "output_type": "execute_result"
    }
   ],
   "source": [
    "data2"
   ]
  },
  {
   "cell_type": "code",
   "execution_count": 52,
   "id": "c8e969c6",
   "metadata": {},
   "outputs": [
    {
     "name": "stderr",
     "output_type": "stream",
     "text": [
      "01:42:29 - cmdstanpy - INFO - Chain [1] start processing\n",
      "01:42:29 - cmdstanpy - INFO - Chain [1] done processing\n"
     ]
    },
    {
     "name": "stdout",
     "output_type": "stream",
     "text": [
      "\n",
      "\n",
      "Preparing data for modelling\n",
      "\n",
      "\n",
      "Model Training initiated for FREMONT and CHICKEN XXXXX - O\n",
      "Model forecasting\n"
     ]
    },
    {
     "name": "stderr",
     "output_type": "stream",
     "text": [
      "01:42:29 - cmdstanpy - INFO - Chain [1] start processing\n",
      "01:42:29 - cmdstanpy - INFO - Chain [1] done processing\n"
     ]
    },
    {
     "name": "stdout",
     "output_type": "stream",
     "text": [
      "Merging forecasting and test data\n",
      "\n",
      "\n",
      "Tranining complted for FREMONT and CHICKEN XXXXX - O\n",
      "Train Score FREMONT-CHICKEN XXXXX - O: 213.10 MSE\n",
      "Train Score FREMONT-CHICKEN XXXXX - O: 14.60 RMSE\n",
      "Writing error matrices of FREMONT and CHICKEN XXXXX - O\n",
      "\n",
      "\n",
      "\n",
      "\n",
      "Writing predicted results of FREMONT and CHICKEN XXXXX - O\n",
      "\n",
      "\n",
      "Preparing data for modelling\n",
      "\n",
      "\n",
      "Model Training initiated for FREMONT and DRUMSTICKS NNNN\n",
      "Model forecasting\n"
     ]
    },
    {
     "name": "stderr",
     "output_type": "stream",
     "text": [
      "01:42:29 - cmdstanpy - INFO - Chain [1] start processing\n",
      "01:42:29 - cmdstanpy - INFO - Chain [1] done processing\n"
     ]
    },
    {
     "name": "stdout",
     "output_type": "stream",
     "text": [
      "Merging forecasting and test data\n",
      "\n",
      "\n",
      "Tranining complted for FREMONT and DRUMSTICKS NNNN\n",
      "Train Score FREMONT-DRUMSTICKS NNNN: 8855.97 MSE\n",
      "Train Score FREMONT-DRUMSTICKS NNNN: 94.11 RMSE\n",
      "Writing error matrices of FREMONT and DRUMSTICKS NNNN\n",
      "\n",
      "\n",
      "\n",
      "\n",
      "Writing predicted results of FREMONT and DRUMSTICKS NNNN\n",
      "\n",
      "\n",
      "Preparing data for modelling\n",
      "\n",
      "\n",
      "Model Training initiated for FREMONT and FILLET QQQQ\n",
      "Model forecasting\n"
     ]
    },
    {
     "name": "stderr",
     "output_type": "stream",
     "text": [
      "01:42:30 - cmdstanpy - INFO - Chain [1] start processing\n"
     ]
    },
    {
     "name": "stdout",
     "output_type": "stream",
     "text": [
      "Merging forecasting and test data\n",
      "\n",
      "\n",
      "Tranining complted for FREMONT and FILLET QQQQ\n",
      "Train Score FREMONT-FILLET QQQQ: 33.51 MSE\n",
      "Train Score FREMONT-FILLET QQQQ: 5.79 RMSE\n",
      "Writing error matrices of FREMONT and FILLET QQQQ\n",
      "\n",
      "\n",
      "\n",
      "\n",
      "Writing predicted results of FREMONT and FILLET QQQQ\n",
      "\n",
      "\n",
      "Preparing data for modelling\n",
      "\n",
      "\n",
      "Model Training initiated for HAYWARD and CHICKEN XXXXX - O\n"
     ]
    },
    {
     "name": "stderr",
     "output_type": "stream",
     "text": [
      "01:42:30 - cmdstanpy - INFO - Chain [1] done processing\n"
     ]
    },
    {
     "name": "stdout",
     "output_type": "stream",
     "text": [
      "Model forecasting\n",
      "Merging forecasting and test data\n",
      "\n",
      "\n",
      "Tranining complted for HAYWARD and CHICKEN XXXXX - O\n",
      "Train Score HAYWARD-CHICKEN XXXXX - O: 761.35 MSE\n",
      "Train Score HAYWARD-CHICKEN XXXXX - O: 27.59 RMSE\n",
      "Writing error matrices of HAYWARD and CHICKEN XXXXX - O\n",
      "\n",
      "\n",
      "\n",
      "\n",
      "Writing predicted results of HAYWARD and CHICKEN XXXXX - O\n",
      "\n",
      "\n",
      "Preparing data for modelling\n",
      "\n",
      "\n",
      "Model Training initiated for HAYWARD and DRUMSTICKS NNNN\n"
     ]
    },
    {
     "name": "stderr",
     "output_type": "stream",
     "text": [
      "01:42:30 - cmdstanpy - INFO - Chain [1] start processing\n",
      "01:42:30 - cmdstanpy - INFO - Chain [1] done processing\n"
     ]
    },
    {
     "name": "stdout",
     "output_type": "stream",
     "text": [
      "Model forecasting\n"
     ]
    },
    {
     "name": "stderr",
     "output_type": "stream",
     "text": [
      "01:42:31 - cmdstanpy - INFO - Chain [1] start processing\n"
     ]
    },
    {
     "name": "stdout",
     "output_type": "stream",
     "text": [
      "Merging forecasting and test data\n",
      "\n",
      "\n",
      "Tranining complted for HAYWARD and DRUMSTICKS NNNN\n",
      "Train Score HAYWARD-DRUMSTICKS NNNN: 16839.41 MSE\n",
      "Train Score HAYWARD-DRUMSTICKS NNNN: 129.77 RMSE\n",
      "Writing error matrices of HAYWARD and DRUMSTICKS NNNN\n",
      "\n",
      "\n",
      "\n",
      "\n",
      "Writing predicted results of HAYWARD and DRUMSTICKS NNNN\n",
      "\n",
      "\n",
      "Preparing data for modelling\n",
      "\n",
      "\n",
      "Model Training initiated for HAYWARD and FILLET QQQQ\n"
     ]
    },
    {
     "name": "stderr",
     "output_type": "stream",
     "text": [
      "01:42:31 - cmdstanpy - INFO - Chain [1] done processing\n"
     ]
    },
    {
     "name": "stdout",
     "output_type": "stream",
     "text": [
      "Model forecasting\n"
     ]
    },
    {
     "name": "stderr",
     "output_type": "stream",
     "text": [
      "01:42:31 - cmdstanpy - INFO - Chain [1] start processing\n"
     ]
    },
    {
     "name": "stdout",
     "output_type": "stream",
     "text": [
      "Merging forecasting and test data\n",
      "\n",
      "\n",
      "Tranining complted for HAYWARD and FILLET QQQQ\n",
      "Train Score HAYWARD-FILLET QQQQ: 165.14 MSE\n",
      "Train Score HAYWARD-FILLET QQQQ: 12.85 RMSE\n",
      "Writing error matrices of HAYWARD and FILLET QQQQ\n",
      "\n",
      "\n",
      "\n",
      "\n",
      "Writing predicted results of HAYWARD and FILLET QQQQ\n",
      "\n",
      "\n",
      "Preparing data for modelling\n",
      "\n",
      "\n",
      "Model Training initiated for LAKEWOOD and CHICKEN XXXXX - O\n"
     ]
    },
    {
     "name": "stderr",
     "output_type": "stream",
     "text": [
      "01:42:31 - cmdstanpy - INFO - Chain [1] done processing\n"
     ]
    },
    {
     "name": "stdout",
     "output_type": "stream",
     "text": [
      "Model forecasting\n"
     ]
    },
    {
     "name": "stderr",
     "output_type": "stream",
     "text": [
      "01:42:32 - cmdstanpy - INFO - Chain [1] start processing\n"
     ]
    },
    {
     "name": "stdout",
     "output_type": "stream",
     "text": [
      "Merging forecasting and test data\n",
      "\n",
      "\n",
      "Tranining complted for LAKEWOOD and CHICKEN XXXXX - O\n",
      "Train Score LAKEWOOD-CHICKEN XXXXX - O: 267.52 MSE\n",
      "Train Score LAKEWOOD-CHICKEN XXXXX - O: 16.36 RMSE\n",
      "Writing error matrices of LAKEWOOD and CHICKEN XXXXX - O\n",
      "\n",
      "\n",
      "\n",
      "\n",
      "Writing predicted results of LAKEWOOD and CHICKEN XXXXX - O\n",
      "\n",
      "\n",
      "Preparing data for modelling\n",
      "\n",
      "\n",
      "Model Training initiated for LAKEWOOD and DRUMSTICKS NNNN\n"
     ]
    },
    {
     "name": "stderr",
     "output_type": "stream",
     "text": [
      "01:42:32 - cmdstanpy - INFO - Chain [1] done processing\n"
     ]
    },
    {
     "name": "stdout",
     "output_type": "stream",
     "text": [
      "Model forecasting\n"
     ]
    },
    {
     "name": "stderr",
     "output_type": "stream",
     "text": [
      "01:42:32 - cmdstanpy - INFO - Chain [1] start processing\n",
      "01:42:32 - cmdstanpy - INFO - Chain [1] done processing\n"
     ]
    },
    {
     "name": "stdout",
     "output_type": "stream",
     "text": [
      "Merging forecasting and test data\n",
      "\n",
      "\n",
      "Tranining complted for LAKEWOOD and DRUMSTICKS NNNN\n",
      "Train Score LAKEWOOD-DRUMSTICKS NNNN: 15533.20 MSE\n",
      "Train Score LAKEWOOD-DRUMSTICKS NNNN: 124.63 RMSE\n",
      "Writing error matrices of LAKEWOOD and DRUMSTICKS NNNN\n",
      "\n",
      "\n",
      "\n",
      "\n",
      "Writing predicted results of LAKEWOOD and DRUMSTICKS NNNN\n",
      "\n",
      "\n",
      "Preparing data for modelling\n",
      "\n",
      "\n",
      "Model Training initiated for LAKEWOOD and FILLET QQQQ\n",
      "Model forecasting\n",
      "Merging forecasting and test data\n",
      "\n",
      "\n",
      "Tranining complted for LAKEWOOD and FILLET QQQQ\n",
      "Train Score LAKEWOOD-FILLET QQQQ: 86.52 MSE\n",
      "Train Score LAKEWOOD-FILLET QQQQ: 9.30 RMSE\n",
      "Writing error matrices of LAKEWOOD and FILLET QQQQ\n",
      "\n",
      "\n",
      "\n",
      "\n",
      "Writing predicted results of LAKEWOOD and FILLET QQQQ\n",
      "\n",
      "\n",
      "Preparing data for modelling\n",
      "\n",
      "\n",
      "Model Training initiated for RICHMOND CA and CHICKEN XXXXX - O\n"
     ]
    },
    {
     "name": "stderr",
     "output_type": "stream",
     "text": [
      "01:42:32 - cmdstanpy - INFO - Chain [1] start processing\n",
      "01:42:32 - cmdstanpy - INFO - Chain [1] done processing\n"
     ]
    },
    {
     "name": "stdout",
     "output_type": "stream",
     "text": [
      "Model forecasting\n"
     ]
    },
    {
     "name": "stderr",
     "output_type": "stream",
     "text": [
      "01:42:33 - cmdstanpy - INFO - Chain [1] start processing\n"
     ]
    },
    {
     "name": "stdout",
     "output_type": "stream",
     "text": [
      "Merging forecasting and test data\n",
      "\n",
      "\n",
      "Tranining complted for RICHMOND CA and CHICKEN XXXXX - O\n",
      "Train Score RICHMOND CA-CHICKEN XXXXX - O: 567.75 MSE\n",
      "Train Score RICHMOND CA-CHICKEN XXXXX - O: 23.83 RMSE\n",
      "Writing error matrices of RICHMOND CA and CHICKEN XXXXX - O\n",
      "\n",
      "\n",
      "\n",
      "\n",
      "Writing predicted results of RICHMOND CA and CHICKEN XXXXX - O\n",
      "\n",
      "\n",
      "Preparing data for modelling\n",
      "\n",
      "\n",
      "Model Training initiated for RICHMOND CA and DRUMSTICKS NNNN\n"
     ]
    },
    {
     "name": "stderr",
     "output_type": "stream",
     "text": [
      "01:42:33 - cmdstanpy - INFO - Chain [1] done processing\n"
     ]
    },
    {
     "name": "stdout",
     "output_type": "stream",
     "text": [
      "Model forecasting\n",
      "Merging forecasting and test data\n",
      "\n",
      "\n",
      "Tranining complted for RICHMOND CA and DRUMSTICKS NNNN\n",
      "Train Score RICHMOND CA-DRUMSTICKS NNNN: 17136.14 MSE\n",
      "Train Score RICHMOND CA-DRUMSTICKS NNNN: 130.91 RMSE\n",
      "Writing error matrices of RICHMOND CA and DRUMSTICKS NNNN"
     ]
    },
    {
     "name": "stderr",
     "output_type": "stream",
     "text": [
      "01:42:33 - cmdstanpy - INFO - Chain [1] start processing\n",
      "01:42:33 - cmdstanpy - INFO - Chain [1] done processing\n"
     ]
    },
    {
     "name": "stdout",
     "output_type": "stream",
     "text": [
      "\n",
      "\n",
      "\n",
      "\n",
      "\n",
      "Writing predicted results of RICHMOND CA and DRUMSTICKS NNNN\n",
      "\n",
      "\n",
      "Preparing data for modelling\n",
      "\n",
      "\n",
      "Model Training initiated for RICHMOND CA and FILLET QQQQ\n",
      "Model forecasting\n"
     ]
    },
    {
     "name": "stderr",
     "output_type": "stream",
     "text": [
      "01:42:34 - cmdstanpy - INFO - Chain [1] start processing\n"
     ]
    },
    {
     "name": "stdout",
     "output_type": "stream",
     "text": [
      "Merging forecasting and test data\n",
      "\n",
      "\n",
      "Tranining complted for RICHMOND CA and FILLET QQQQ\n",
      "Train Score RICHMOND CA-FILLET QQQQ: 760.25 MSE\n",
      "Train Score RICHMOND CA-FILLET QQQQ: 27.57 RMSE\n",
      "Writing error matrices of RICHMOND CA and FILLET QQQQ\n",
      "\n",
      "\n",
      "\n",
      "\n",
      "Writing predicted results of RICHMOND CA and FILLET QQQQ\n",
      "\n",
      "\n",
      "Preparing data for modelling\n",
      "\n",
      "\n",
      "Model Training initiated for S SAN FRANCISCO BUS CTR and BEEF OOOO - GT\n"
     ]
    },
    {
     "name": "stderr",
     "output_type": "stream",
     "text": [
      "01:42:34 - cmdstanpy - INFO - Chain [1] done processing\n"
     ]
    },
    {
     "name": "stdout",
     "output_type": "stream",
     "text": [
      "Model forecasting\n",
      "Merging forecasting and test data\n",
      "\n",
      "\n",
      "Tranining complted for S SAN FRANCISCO BUS CTR and BEEF OOOO - GT\n",
      "Train Score S SAN FRANCISCO BUS CTR-BEEF OOOO - GT: 3244.38 MSE\n",
      "Train Score S SAN FRANCISCO BUS CTR-BEEF OOOO - GT: 56.96 RMSE\n",
      "Writing error matrices of S SAN FRANCISCO BUS CTR and BEEF OOOO - GT\n",
      "\n",
      "\n",
      "\n",
      "\n"
     ]
    },
    {
     "name": "stderr",
     "output_type": "stream",
     "text": [
      "01:42:34 - cmdstanpy - INFO - Chain [1] start processing\n",
      "01:42:34 - cmdstanpy - INFO - Chain [1] done processing\n"
     ]
    },
    {
     "name": "stdout",
     "output_type": "stream",
     "text": [
      "Writing predicted results of S SAN FRANCISCO BUS CTR and BEEF OOOO - GT\n",
      "\n",
      "\n",
      "Preparing data for modelling\n",
      "\n",
      "\n",
      "Model Training initiated for S SAN FRANCISCO BUS CTR and DRUMSTICKS NNNN\n",
      "Model forecasting\n",
      "Merging forecasting and test data\n",
      "\n",
      "\n",
      "Tranining complted for S SAN FRANCISCO BUS CTR and DRUMSTICKS NNNN\n",
      "Train Score S SAN FRANCISCO BUS CTR-DRUMSTICKS NNNN: 716.27 MSE\n",
      "Train Score S SAN FRANCISCO BUS CTR-DRUMSTICKS NNNN: 26.76 RMSE\n",
      "Writing error matrices of S SAN FRANCISCO BUS CTR and DRUMSTICKS NNNN\n",
      "\n",
      "\n",
      "\n",
      "\n",
      "Writing predicted results of S SAN FRANCISCO BUS CTR and DRUMSTICKS NNNN\n"
     ]
    }
   ],
   "source": [
    "for i in data2['Location'].unique():\n",
    "    df= data2[data2['Location']==i]\n",
    "#     print(df)\n",
    "    for j in df['Item'].unique():\n",
    "        item_df= df[df['Item']==j]\n",
    "#         print(item_df)\n",
    "        \n",
    "        print(\"\\n\")\n",
    "        print(\"Preparing data for modelling\")\n",
    "        item_df= item_df.drop(['Location', 'Item'], axis=1)\n",
    "        item_df= item_df.rename(columns={'Date':'ds', 'Mv_Qty': 'y'})\n",
    "        \n",
    "        train = item_df[item_df['ds']<= '2022-05-01']\n",
    "        test = item_df[item_df['ds']>= '2022-05-01']\n",
    "        test1= test.drop(['y'], axis=1)\n",
    "        \n",
    "        print(\"\\n\")\n",
    "        print(f\"Model Training initiated for {i} and {j}\")\n",
    "        model = Prophet()\n",
    "        model.fit(train)\n",
    "        \n",
    "        print(\"Model forecasting\")\n",
    "        forecasted = model.predict(test1)\n",
    "        forecasted_df= forecasted[['ds', 'yhat']]\n",
    "        \n",
    "        print(\"Merging forecasting and test data\")\n",
    "        data_merge= pd.merge(test,forecasted_df, on= ['ds'], how ='inner')\n",
    "        \n",
    "#         print(\"\\n\")\n",
    "        print(f\"Tranining complted for {i} and {j}\")\n",
    "        print(\"Finding error matrices MSE and RMSE\")\n",
    "        MSE_Score = mean_squared_error(data_merge.y, data_merge.yhat)\n",
    "        print(f'Train Score {i}-{j}: %.2f MSE' % (MSE_Score))\n",
    "        \n",
    "        RMSE_Score = math.sqrt(mean_squared_error(data_merge.y, data_merge.yhat))\n",
    "        print(f'Train Score {i}-{j}: %.2f RMSE' % (RMSE_Score))\n",
    "        \n",
    "        col_names =  ['MSE_Score', 'RMSE_Score']\n",
    "        Error_matric= pd.DataFrame(columns = col_names)\n",
    "        \n",
    "        my_out = {'MSE_Score': MSE_Score, 'RMSE_Score': RMSE_Score}\n",
    "        Error_matric.loc[len(Error_matric)] = my_out \n",
    "        \n",
    "        Error_matric['Location']=i\n",
    "        Error_matric['Item']=j\n",
    "        \n",
    "        \n",
    "        print(f'Writing error matrices of {i} and {j}')\n",
    "        print(\"\\n\")\n",
    "        Error_output = \"ModelOut\\All_out\\moving_avg\\Error\\Output_Error -\" +i+\"-\"+j+\".xlsx\"\n",
    "        Error_matric.to_excel(Error_output, index= False)\n",
    "        \n",
    "        #Saving Results \n",
    "        forecasted_df['Location']= i\n",
    "        forecasted_df['Item']=j\n",
    "        \n",
    "        print(\"\\n\")\n",
    "        print(f'Writing predicted results of {i} and {j}')\n",
    "        predction_output = \"ModelOut\\All_out\\moving_avg\\Output\\Output -\" +i+\"-\"+j+\".xlsx\"\n",
    "        forecasted_df.to_excel(predction_output, index= False)\n",
    "        \n",
    "        \n",
    "        "
   ]
  },
  {
   "cell_type": "code",
   "execution_count": 53,
   "id": "ee0b1ead",
   "metadata": {},
   "outputs": [],
   "source": [
    "import pandas as pd\n",
    "import os\n",
    "import glob"
   ]
  },
  {
   "cell_type": "code",
   "execution_count": 56,
   "id": "f8263e1c",
   "metadata": {},
   "outputs": [],
   "source": [
    "path = 'C:\\\\Users\\\\Ramshankar\\\\OneDrive - iLink Systems Inc\\\\Documents\\\\Costco\\\\Code\\\\ModelOut\\\\All_out\\\\\\moving_avg\\\\Output\\\\'\n",
    "out_files = glob.glob(os.path.join(path, \"*.xlsx\"))\n",
    "\n",
    "dfs= []\n",
    "\n",
    "\n",
    "for f in out_files:\n",
    "    dfs.append(pd.read_excel(f))\n",
    "df_out=pd.concat(dfs, ignore_index=True)"
   ]
  },
  {
   "cell_type": "code",
   "execution_count": 57,
   "id": "7b79d37f",
   "metadata": {},
   "outputs": [
    {
     "data": {
      "text/html": [
       "<div>\n",
       "<style scoped>\n",
       "    .dataframe tbody tr th:only-of-type {\n",
       "        vertical-align: middle;\n",
       "    }\n",
       "\n",
       "    .dataframe tbody tr th {\n",
       "        vertical-align: top;\n",
       "    }\n",
       "\n",
       "    .dataframe thead th {\n",
       "        text-align: right;\n",
       "    }\n",
       "</style>\n",
       "<table border=\"1\" class=\"dataframe\">\n",
       "  <thead>\n",
       "    <tr style=\"text-align: right;\">\n",
       "      <th></th>\n",
       "      <th>ds</th>\n",
       "      <th>yhat</th>\n",
       "      <th>Location</th>\n",
       "      <th>Item</th>\n",
       "    </tr>\n",
       "  </thead>\n",
       "  <tbody>\n",
       "    <tr>\n",
       "      <th>0</th>\n",
       "      <td>2022-05-01</td>\n",
       "      <td>35.61466</td>\n",
       "      <td>FREMONT</td>\n",
       "      <td>CHICKEN XXXXX - O</td>\n",
       "    </tr>\n",
       "    <tr>\n",
       "      <th>1</th>\n",
       "      <td>2022-05-08</td>\n",
       "      <td>35.05644</td>\n",
       "      <td>FREMONT</td>\n",
       "      <td>CHICKEN XXXXX - O</td>\n",
       "    </tr>\n",
       "    <tr>\n",
       "      <th>2</th>\n",
       "      <td>2022-05-15</td>\n",
       "      <td>38.14189</td>\n",
       "      <td>FREMONT</td>\n",
       "      <td>CHICKEN XXXXX - O</td>\n",
       "    </tr>\n",
       "    <tr>\n",
       "      <th>3</th>\n",
       "      <td>2022-05-22</td>\n",
       "      <td>41.43764</td>\n",
       "      <td>FREMONT</td>\n",
       "      <td>CHICKEN XXXXX - O</td>\n",
       "    </tr>\n",
       "    <tr>\n",
       "      <th>4</th>\n",
       "      <td>2022-05-29</td>\n",
       "      <td>41.42302</td>\n",
       "      <td>FREMONT</td>\n",
       "      <td>CHICKEN XXXXX - O</td>\n",
       "    </tr>\n",
       "    <tr>\n",
       "      <th>...</th>\n",
       "      <td>...</td>\n",
       "      <td>...</td>\n",
       "      <td>...</td>\n",
       "      <td>...</td>\n",
       "    </tr>\n",
       "    <tr>\n",
       "      <th>429</th>\n",
       "      <td>2022-10-30</td>\n",
       "      <td>107.85482</td>\n",
       "      <td>S SAN FRANCISCO BUS CTR</td>\n",
       "      <td>DRUMSTICKS NNNN</td>\n",
       "    </tr>\n",
       "    <tr>\n",
       "      <th>430</th>\n",
       "      <td>2022-11-06</td>\n",
       "      <td>101.69509</td>\n",
       "      <td>S SAN FRANCISCO BUS CTR</td>\n",
       "      <td>DRUMSTICKS NNNN</td>\n",
       "    </tr>\n",
       "    <tr>\n",
       "      <th>431</th>\n",
       "      <td>2022-11-13</td>\n",
       "      <td>94.68202</td>\n",
       "      <td>S SAN FRANCISCO BUS CTR</td>\n",
       "      <td>DRUMSTICKS NNNN</td>\n",
       "    </tr>\n",
       "    <tr>\n",
       "      <th>432</th>\n",
       "      <td>2022-11-20</td>\n",
       "      <td>89.94374</td>\n",
       "      <td>S SAN FRANCISCO BUS CTR</td>\n",
       "      <td>DRUMSTICKS NNNN</td>\n",
       "    </tr>\n",
       "    <tr>\n",
       "      <th>433</th>\n",
       "      <td>2022-11-27</td>\n",
       "      <td>88.37559</td>\n",
       "      <td>S SAN FRANCISCO BUS CTR</td>\n",
       "      <td>DRUMSTICKS NNNN</td>\n",
       "    </tr>\n",
       "  </tbody>\n",
       "</table>\n",
       "<p>434 rows × 4 columns</p>\n",
       "</div>"
      ],
      "text/plain": [
       "            ds      yhat                 Location               Item\n",
       "0   2022-05-01  35.61466                  FREMONT  CHICKEN XXXXX - O\n",
       "1   2022-05-08  35.05644                  FREMONT  CHICKEN XXXXX - O\n",
       "2   2022-05-15  38.14189                  FREMONT  CHICKEN XXXXX - O\n",
       "3   2022-05-22  41.43764                  FREMONT  CHICKEN XXXXX - O\n",
       "4   2022-05-29  41.42302                  FREMONT  CHICKEN XXXXX - O\n",
       "..         ...       ...                      ...                ...\n",
       "429 2022-10-30 107.85482  S SAN FRANCISCO BUS CTR    DRUMSTICKS NNNN\n",
       "430 2022-11-06 101.69509  S SAN FRANCISCO BUS CTR    DRUMSTICKS NNNN\n",
       "431 2022-11-13  94.68202  S SAN FRANCISCO BUS CTR    DRUMSTICKS NNNN\n",
       "432 2022-11-20  89.94374  S SAN FRANCISCO BUS CTR    DRUMSTICKS NNNN\n",
       "433 2022-11-27  88.37559  S SAN FRANCISCO BUS CTR    DRUMSTICKS NNNN\n",
       "\n",
       "[434 rows x 4 columns]"
      ]
     },
     "execution_count": 57,
     "metadata": {},
     "output_type": "execute_result"
    }
   ],
   "source": [
    "df_out"
   ]
  },
  {
   "cell_type": "code",
   "execution_count": 63,
   "id": "4005f369",
   "metadata": {},
   "outputs": [
    {
     "data": {
      "text/plain": [
       "(2099, 4)"
      ]
     },
     "execution_count": 63,
     "metadata": {},
     "output_type": "execute_result"
    }
   ],
   "source": [
    "data2.shape"
   ]
  },
  {
   "cell_type": "code",
   "execution_count": 60,
   "id": "386dc33c",
   "metadata": {},
   "outputs": [],
   "source": [
    "df_out= df_out.rename(columns= {'ds': 'Date', 'yhat': 'Forecasted_Qty'})\n",
    "data2= data2.rename(columns= {'Mv_Qty': 'Moving_Avg_Qty'})"
   ]
  },
  {
   "cell_type": "code",
   "execution_count": 61,
   "id": "d58f5e67",
   "metadata": {},
   "outputs": [],
   "source": [
    "data_merge= pd.merge(data2,df_out, on= ['Date', 'Location', 'Item'], how= 'left')"
   ]
  },
  {
   "cell_type": "code",
   "execution_count": 62,
   "id": "dbc7cace",
   "metadata": {},
   "outputs": [
    {
     "data": {
      "text/html": [
       "<div>\n",
       "<style scoped>\n",
       "    .dataframe tbody tr th:only-of-type {\n",
       "        vertical-align: middle;\n",
       "    }\n",
       "\n",
       "    .dataframe tbody tr th {\n",
       "        vertical-align: top;\n",
       "    }\n",
       "\n",
       "    .dataframe thead th {\n",
       "        text-align: right;\n",
       "    }\n",
       "</style>\n",
       "<table border=\"1\" class=\"dataframe\">\n",
       "  <thead>\n",
       "    <tr style=\"text-align: right;\">\n",
       "      <th></th>\n",
       "      <th>Date</th>\n",
       "      <th>Moving_Avg_Qty</th>\n",
       "      <th>Location</th>\n",
       "      <th>Item</th>\n",
       "      <th>Forecasted_Qty</th>\n",
       "    </tr>\n",
       "  </thead>\n",
       "  <tbody>\n",
       "    <tr>\n",
       "      <th>0</th>\n",
       "      <td>2020-01-19</td>\n",
       "      <td>55.00479</td>\n",
       "      <td>FREMONT</td>\n",
       "      <td>CHICKEN XXXXX - O</td>\n",
       "      <td>NaN</td>\n",
       "    </tr>\n",
       "    <tr>\n",
       "      <th>1</th>\n",
       "      <td>2020-01-26</td>\n",
       "      <td>63.94169</td>\n",
       "      <td>FREMONT</td>\n",
       "      <td>CHICKEN XXXXX - O</td>\n",
       "      <td>NaN</td>\n",
       "    </tr>\n",
       "    <tr>\n",
       "      <th>2</th>\n",
       "      <td>2020-02-02</td>\n",
       "      <td>65.08542</td>\n",
       "      <td>FREMONT</td>\n",
       "      <td>CHICKEN XXXXX - O</td>\n",
       "      <td>NaN</td>\n",
       "    </tr>\n",
       "    <tr>\n",
       "      <th>3</th>\n",
       "      <td>2020-02-09</td>\n",
       "      <td>51.16270</td>\n",
       "      <td>FREMONT</td>\n",
       "      <td>CHICKEN XXXXX - O</td>\n",
       "      <td>NaN</td>\n",
       "    </tr>\n",
       "    <tr>\n",
       "      <th>4</th>\n",
       "      <td>2020-02-16</td>\n",
       "      <td>45.94057</td>\n",
       "      <td>FREMONT</td>\n",
       "      <td>CHICKEN XXXXX - O</td>\n",
       "      <td>NaN</td>\n",
       "    </tr>\n",
       "    <tr>\n",
       "      <th>...</th>\n",
       "      <td>...</td>\n",
       "      <td>...</td>\n",
       "      <td>...</td>\n",
       "      <td>...</td>\n",
       "      <td>...</td>\n",
       "    </tr>\n",
       "    <tr>\n",
       "      <th>2094</th>\n",
       "      <td>2022-10-30</td>\n",
       "      <td>113.89578</td>\n",
       "      <td>S SAN FRANCISCO BUS CTR</td>\n",
       "      <td>DRUMSTICKS NNNN</td>\n",
       "      <td>107.85482</td>\n",
       "    </tr>\n",
       "    <tr>\n",
       "      <th>2095</th>\n",
       "      <td>2022-11-06</td>\n",
       "      <td>107.07925</td>\n",
       "      <td>S SAN FRANCISCO BUS CTR</td>\n",
       "      <td>DRUMSTICKS NNNN</td>\n",
       "      <td>101.69509</td>\n",
       "    </tr>\n",
       "    <tr>\n",
       "      <th>2096</th>\n",
       "      <td>2022-11-13</td>\n",
       "      <td>101.38587</td>\n",
       "      <td>S SAN FRANCISCO BUS CTR</td>\n",
       "      <td>DRUMSTICKS NNNN</td>\n",
       "      <td>94.68202</td>\n",
       "    </tr>\n",
       "    <tr>\n",
       "      <th>2097</th>\n",
       "      <td>2022-11-20</td>\n",
       "      <td>95.00861</td>\n",
       "      <td>S SAN FRANCISCO BUS CTR</td>\n",
       "      <td>DRUMSTICKS NNNN</td>\n",
       "      <td>89.94374</td>\n",
       "    </tr>\n",
       "    <tr>\n",
       "      <th>2098</th>\n",
       "      <td>2022-11-27</td>\n",
       "      <td>92.09410</td>\n",
       "      <td>S SAN FRANCISCO BUS CTR</td>\n",
       "      <td>DRUMSTICKS NNNN</td>\n",
       "      <td>88.37559</td>\n",
       "    </tr>\n",
       "  </tbody>\n",
       "</table>\n",
       "<p>2099 rows × 5 columns</p>\n",
       "</div>"
      ],
      "text/plain": [
       "           Date  Moving_Avg_Qty                 Location               Item  \\\n",
       "0    2020-01-19        55.00479                  FREMONT  CHICKEN XXXXX - O   \n",
       "1    2020-01-26        63.94169                  FREMONT  CHICKEN XXXXX - O   \n",
       "2    2020-02-02        65.08542                  FREMONT  CHICKEN XXXXX - O   \n",
       "3    2020-02-09        51.16270                  FREMONT  CHICKEN XXXXX - O   \n",
       "4    2020-02-16        45.94057                  FREMONT  CHICKEN XXXXX - O   \n",
       "...         ...             ...                      ...                ...   \n",
       "2094 2022-10-30       113.89578  S SAN FRANCISCO BUS CTR    DRUMSTICKS NNNN   \n",
       "2095 2022-11-06       107.07925  S SAN FRANCISCO BUS CTR    DRUMSTICKS NNNN   \n",
       "2096 2022-11-13       101.38587  S SAN FRANCISCO BUS CTR    DRUMSTICKS NNNN   \n",
       "2097 2022-11-20        95.00861  S SAN FRANCISCO BUS CTR    DRUMSTICKS NNNN   \n",
       "2098 2022-11-27        92.09410  S SAN FRANCISCO BUS CTR    DRUMSTICKS NNNN   \n",
       "\n",
       "      Forecasted_Qty  \n",
       "0                NaN  \n",
       "1                NaN  \n",
       "2                NaN  \n",
       "3                NaN  \n",
       "4                NaN  \n",
       "...              ...  \n",
       "2094       107.85482  \n",
       "2095       101.69509  \n",
       "2096        94.68202  \n",
       "2097        89.94374  \n",
       "2098        88.37559  \n",
       "\n",
       "[2099 rows x 5 columns]"
      ]
     },
     "execution_count": 62,
     "metadata": {},
     "output_type": "execute_result"
    }
   ],
   "source": [
    "data_merge"
   ]
  },
  {
   "cell_type": "code",
   "execution_count": 64,
   "id": "dbedb095",
   "metadata": {},
   "outputs": [],
   "source": [
    "data_merge['Forecasted_Qty'] =data_merge['Forecasted_Qty'].fillna(0)"
   ]
  },
  {
   "cell_type": "code",
   "execution_count": 66,
   "id": "0546bd05",
   "metadata": {},
   "outputs": [],
   "source": [
    "data_merge.to_excel('Prophet_Forecast_Weekly_All.xlsx', index=False)"
   ]
  },
  {
   "cell_type": "code",
   "execution_count": 67,
   "id": "2ccfed8e",
   "metadata": {},
   "outputs": [],
   "source": [
    "path = 'C:\\\\Users\\\\Ramshankar\\\\OneDrive - iLink Systems Inc\\\\Documents\\\\Costco\\\\Code\\\\ModelOut\\\\All_out\\\\\\moving_avg\\\\Error\\\\'\n",
    "error_files = glob.glob(os.path.join(path, \"*.xlsx\"))\n",
    "\n",
    "len(error_files)\n",
    "\n",
    "dfs_err= []\n",
    "\n",
    "\n",
    "for f in error_files:\n",
    "    dfs_err.append(pd.read_excel(f))\n",
    "dfs_err=pd.concat(dfs_err, ignore_index=True)\n",
    "\n"
   ]
  },
  {
   "cell_type": "code",
   "execution_count": 68,
   "id": "2812d649",
   "metadata": {},
   "outputs": [],
   "source": [
    "dfs_err.to_excel('Error_Output_all_Prophet_Weekly.xlsx', index=False)"
   ]
  },
  {
   "cell_type": "code",
   "execution_count": null,
   "id": "924f764b",
   "metadata": {},
   "outputs": [],
   "source": []
  }
 ],
 "metadata": {
  "kernelspec": {
   "display_name": "Python 3 (ipykernel)",
   "language": "python",
   "name": "python3"
  },
  "language_info": {
   "codemirror_mode": {
    "name": "ipython",
    "version": 3
   },
   "file_extension": ".py",
   "mimetype": "text/x-python",
   "name": "python",
   "nbconvert_exporter": "python",
   "pygments_lexer": "ipython3",
   "version": "3.11.5"
  }
 },
 "nbformat": 4,
 "nbformat_minor": 5
}
