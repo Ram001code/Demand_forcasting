{
 "cells": [
  {
   "cell_type": "code",
   "execution_count": 1,
   "id": "6272fdb2",
   "metadata": {},
   "outputs": [],
   "source": [
    "import pandas as pd\n",
    "import numpy as np"
   ]
  },
  {
   "cell_type": "code",
   "execution_count": 2,
   "id": "2c50a83e",
   "metadata": {},
   "outputs": [],
   "source": [
    "loc= 'C:\\\\Users\\\\Ramshankar\\\\OneDrive - iLink Systems Inc\\\\Documents\\\\Costco\\\\Dataset\\\\Inventory data\\\\'\n",
    "\n",
    "data1= pd.ExcelFile(loc+ 'Inventory - Beef - 2020,21,22.xlsx')"
   ]
  },
  {
   "cell_type": "code",
   "execution_count": 3,
   "id": "b6eab67a",
   "metadata": {},
   "outputs": [
    {
     "data": {
      "text/plain": [
       "['702921030', '702324378']"
      ]
     },
     "execution_count": 3,
     "metadata": {},
     "output_type": "execute_result"
    }
   ],
   "source": [
    "data1.sheet_names"
   ]
  },
  {
   "cell_type": "code",
   "execution_count": 4,
   "id": "fd387169",
   "metadata": {},
   "outputs": [],
   "source": [
    "# to read just one sheet to dataframe:\n",
    "df1 = pd.read_excel(data1, sheet_name=\"702921030\")"
   ]
  },
  {
   "cell_type": "code",
   "execution_count": 5,
   "id": "a53dbc18",
   "metadata": {},
   "outputs": [
    {
     "data": {
      "text/plain": [
       "(10714, 21)"
      ]
     },
     "execution_count": 5,
     "metadata": {},
     "output_type": "execute_result"
    }
   ],
   "source": [
    "df1.shape"
   ]
  },
  {
   "cell_type": "code",
   "execution_count": 6,
   "id": "58dd4c7e",
   "metadata": {},
   "outputs": [],
   "source": [
    "df2 = pd.read_excel(data1, sheet_name=\"702324378\")"
   ]
  },
  {
   "cell_type": "code",
   "execution_count": 7,
   "id": "3dc15891",
   "metadata": {},
   "outputs": [
    {
     "data": {
      "text/plain": [
       "(12004, 21)"
      ]
     },
     "execution_count": 7,
     "metadata": {},
     "output_type": "execute_result"
    }
   ],
   "source": [
    "df2.shape"
   ]
  },
  {
   "cell_type": "code",
   "execution_count": 8,
   "id": "a3a552b6",
   "metadata": {},
   "outputs": [
    {
     "data": {
      "text/plain": [
       "22718"
      ]
     },
     "execution_count": 8,
     "metadata": {},
     "output_type": "execute_result"
    }
   ],
   "source": [
    "10714+12004"
   ]
  },
  {
   "cell_type": "code",
   "execution_count": 9,
   "id": "e4c64df8",
   "metadata": {},
   "outputs": [],
   "source": [
    "#Beef\n",
    "\n",
    "df3 = pd.concat(pd.read_excel(loc + 'Inventory - Beef - 2020,21,22.xlsx', sheet_name=None), ignore_index=True)"
   ]
  },
  {
   "cell_type": "code",
   "execution_count": 10,
   "id": "27431f5f",
   "metadata": {},
   "outputs": [
    {
     "data": {
      "text/plain": [
       "(22718, 21)"
      ]
     },
     "execution_count": 10,
     "metadata": {},
     "output_type": "execute_result"
    }
   ],
   "source": [
    "df3.shape"
   ]
  },
  {
   "cell_type": "code",
   "execution_count": 11,
   "id": "b1bad3cc",
   "metadata": {},
   "outputs": [],
   "source": [
    "# df3['Location'].unique()"
   ]
  },
  {
   "cell_type": "code",
   "execution_count": 12,
   "id": "3a3ebfe4",
   "metadata": {},
   "outputs": [],
   "source": [
    "# df3['Item'].unique()"
   ]
  },
  {
   "cell_type": "code",
   "execution_count": 13,
   "id": "450ef9f8",
   "metadata": {},
   "outputs": [],
   "source": [
    "# df3.columns"
   ]
  },
  {
   "cell_type": "code",
   "execution_count": 14,
   "id": "d0fa61ae",
   "metadata": {},
   "outputs": [],
   "source": [
    "df3= df3[df3['State']== 'CA']"
   ]
  },
  {
   "cell_type": "code",
   "execution_count": 15,
   "id": "29287fa3",
   "metadata": {},
   "outputs": [],
   "source": [
    "\n",
    "df_beef = df3[df3['Location']== 'S SAN FRANCISCO BUS CTR']\n"
   ]
  },
  {
   "cell_type": "code",
   "execution_count": 16,
   "id": "8ee45fe6",
   "metadata": {},
   "outputs": [
    {
     "data": {
      "text/plain": [
       "(1087, 21)"
      ]
     },
     "execution_count": 16,
     "metadata": {},
     "output_type": "execute_result"
    }
   ],
   "source": [
    "df_beef.shape"
   ]
  },
  {
   "cell_type": "code",
   "execution_count": 17,
   "id": "86150a7f",
   "metadata": {},
   "outputs": [],
   "source": [
    "# Fillets \n",
    "df_fillet = pd.concat(pd.read_excel(loc + 'Inventory - Fillets - 2020,21,22.xlsx', sheet_name=None), ignore_index=True)"
   ]
  },
  {
   "cell_type": "code",
   "execution_count": 18,
   "id": "e79f077d",
   "metadata": {},
   "outputs": [],
   "source": [
    "# df_fillet.shape"
   ]
  },
  {
   "cell_type": "code",
   "execution_count": 19,
   "id": "6c2f237a",
   "metadata": {},
   "outputs": [],
   "source": [
    "# df_fillet['Location'].unique()"
   ]
  },
  {
   "cell_type": "code",
   "execution_count": 20,
   "id": "1818063f",
   "metadata": {},
   "outputs": [],
   "source": [
    "# df_fillet['Item'].unique()"
   ]
  },
  {
   "cell_type": "code",
   "execution_count": 21,
   "id": "c94d042a",
   "metadata": {},
   "outputs": [],
   "source": [
    "df_fillet= df_fillet[df_fillet['State']=='CA']"
   ]
  },
  {
   "cell_type": "code",
   "execution_count": 22,
   "id": "8d7bb00b",
   "metadata": {},
   "outputs": [],
   "source": [
    "#Droping 'S SAN FRANCISCO BUS CTR' from the location\n",
    "\n",
    "loctin= ['HAYWARD', 'FREMONT', 'LAKEWOOD', 'RICHMOND CA']\n",
    "\n",
    "df_fillet2= df_fillet[df_fillet['Location'].isin(loctin)]"
   ]
  },
  {
   "cell_type": "code",
   "execution_count": 23,
   "id": "5093931b",
   "metadata": {},
   "outputs": [],
   "source": [
    "# data_filt2 = data_filt1[(data_filt1['Location'].isin(loc))]"
   ]
  },
  {
   "cell_type": "code",
   "execution_count": 24,
   "id": "f4509100",
   "metadata": {},
   "outputs": [],
   "source": [
    "# data_filt2.shape"
   ]
  },
  {
   "cell_type": "code",
   "execution_count": 25,
   "id": "2ab927d4",
   "metadata": {},
   "outputs": [],
   "source": [
    "# Drumstick \n",
    "df_drumstick = pd.concat(pd.read_excel(loc + 'Inventory - Drumstick- 2020,21,22.xlsx', sheet_name=None), ignore_index=True)"
   ]
  },
  {
   "cell_type": "code",
   "execution_count": 26,
   "id": "42020425",
   "metadata": {},
   "outputs": [],
   "source": [
    "# df_drumstick['Location'].unique()"
   ]
  },
  {
   "cell_type": "code",
   "execution_count": 27,
   "id": "6b855aee",
   "metadata": {},
   "outputs": [],
   "source": [
    "# df_drumstick['Item'].unique()"
   ]
  },
  {
   "cell_type": "code",
   "execution_count": 28,
   "id": "dc9af007",
   "metadata": {},
   "outputs": [],
   "source": [
    "# df_drumstick.shape"
   ]
  },
  {
   "cell_type": "code",
   "execution_count": 29,
   "id": "a9635e28",
   "metadata": {},
   "outputs": [],
   "source": [
    "df_drumstick = df_drumstick[df_drumstick['State']=='CA']"
   ]
  },
  {
   "cell_type": "code",
   "execution_count": 30,
   "id": "dfe8b71e",
   "metadata": {},
   "outputs": [],
   "source": [
    "# df_drumstick['Location'].unique()"
   ]
  },
  {
   "cell_type": "code",
   "execution_count": 31,
   "id": "6c3bed38",
   "metadata": {},
   "outputs": [],
   "source": [
    "#Droping 'S SAN FRANCISCO BUS CTR' from the location\n",
    "\n",
    "loctin= ['HAYWARD', 'FREMONT', 'LAKEWOOD', 'RICHMOND CA', 'S SAN FRANCISCO BUS CTR']\n",
    "\n",
    "df_drumstick2 = df_drumstick[df_drumstick['Location'].isin(loctin)]"
   ]
  },
  {
   "cell_type": "code",
   "execution_count": 32,
   "id": "a053409e",
   "metadata": {},
   "outputs": [
    {
     "data": {
      "text/plain": [
       "(10097, 21)"
      ]
     },
     "execution_count": 32,
     "metadata": {},
     "output_type": "execute_result"
    }
   ],
   "source": [
    "df_drumstick2.shape"
   ]
  },
  {
   "cell_type": "code",
   "execution_count": 33,
   "id": "e1637abf",
   "metadata": {},
   "outputs": [],
   "source": [
    "# df_drumstick2['Item'].unique()"
   ]
  },
  {
   "cell_type": "code",
   "execution_count": 35,
   "id": "faa283bb",
   "metadata": {},
   "outputs": [],
   "source": [
    "# chicken \n",
    "df_chicken = pd.concat(pd.read_excel(loc + 'Inventory - Organice Chicken - 2020,21,22.xlsx', sheet_name=None), ignore_index=True)"
   ]
  },
  {
   "cell_type": "code",
   "execution_count": 36,
   "id": "5054b47c",
   "metadata": {
    "scrolled": true
   },
   "outputs": [],
   "source": [
    "# df_chicken.columns"
   ]
  },
  {
   "cell_type": "code",
   "execution_count": 37,
   "id": "6f5a7f55",
   "metadata": {},
   "outputs": [],
   "source": [
    "# df_chicken['Location'].unique()"
   ]
  },
  {
   "cell_type": "code",
   "execution_count": 38,
   "id": "1402bab5",
   "metadata": {},
   "outputs": [],
   "source": [
    "# df_chicken['Item'].unique()"
   ]
  },
  {
   "cell_type": "code",
   "execution_count": 39,
   "id": "9d18fc40",
   "metadata": {},
   "outputs": [],
   "source": [
    "df_chicken['Item']= 'Chicken XXXXX-O'"
   ]
  },
  {
   "cell_type": "code",
   "execution_count": 40,
   "id": "89f284a1",
   "metadata": {},
   "outputs": [
    {
     "data": {
      "text/plain": [
       "(458722, 21)"
      ]
     },
     "execution_count": 40,
     "metadata": {},
     "output_type": "execute_result"
    }
   ],
   "source": [
    "df_chicken.shape"
   ]
  },
  {
   "cell_type": "code",
   "execution_count": 41,
   "id": "cdb7fcc9",
   "metadata": {},
   "outputs": [],
   "source": [
    "df_chicken = df_chicken[df_chicken['State']=='CA']"
   ]
  },
  {
   "cell_type": "code",
   "execution_count": 42,
   "id": "ca06abbb",
   "metadata": {},
   "outputs": [],
   "source": [
    "# df_chicken['Location'].unique()"
   ]
  },
  {
   "cell_type": "code",
   "execution_count": 43,
   "id": "6da7019c",
   "metadata": {},
   "outputs": [],
   "source": [
    "#Droping 'S SAN FRANCISCO BUS CTR' from the location\n",
    "\n",
    "loctin= ['HAYWARD', 'FREMONT', 'LAKEWOOD', 'RICHMOND CA']\n",
    "\n",
    "df_chicken2 = df_chicken[df_chicken['Location'].isin(loctin)]"
   ]
  },
  {
   "cell_type": "code",
   "execution_count": 44,
   "id": "94842ce8",
   "metadata": {},
   "outputs": [
    {
     "data": {
      "text/plain": [
       "Index(['Date', 'Country', 'State', 'Region', 'District', 'Location',\n",
       "       'Major Department', 'Department', 'Category', 'Group', 'Item Category',\n",
       "       'Item', 'OH Quantity', 'OH Amount', 'On Order Quantity',\n",
       "       'On Order Amount', 'In Transit Quantity', 'In Transit Amount',\n",
       "       'NSI Quantity', 'NSI Amount', 'Item ID'],\n",
       "      dtype='object')"
      ]
     },
     "execution_count": 44,
     "metadata": {},
     "output_type": "execute_result"
    }
   ],
   "source": [
    "df_chicken2.columns"
   ]
  },
  {
   "cell_type": "code",
   "execution_count": 45,
   "id": "98ec24ad",
   "metadata": {},
   "outputs": [],
   "source": [
    "df_chicken2 = df_chicken2[['Date', 'Location', 'Item', 'OH Quantity', 'OH Amount', 'On Order Quantity', 'On Order Amount', \n",
    "            'In Transit Quantity', 'In Transit Amount', 'NSI Quantity', 'NSI Amount']]"
   ]
  },
  {
   "cell_type": "code",
   "execution_count": 46,
   "id": "de5e17df",
   "metadata": {},
   "outputs": [],
   "source": [
    "# df_chicken2['Item'].unique()"
   ]
  },
  {
   "cell_type": "code",
   "execution_count": 47,
   "id": "9f545301",
   "metadata": {},
   "outputs": [],
   "source": [
    "df_drumstick2 = df_drumstick2[['Date', 'Location', 'Item', 'OH Quantity', 'OH Amount', 'On Order Quantity', 'On Order Amount', \n",
    "            'In Transit Quantity', 'In Transit Amount', 'NSI Quantity', 'NSI Amount']]"
   ]
  },
  {
   "cell_type": "code",
   "execution_count": 48,
   "id": "2cdb8721",
   "metadata": {},
   "outputs": [],
   "source": [
    "df_fillet2 =  df_fillet2[['Date', 'Location', 'Item', 'OH Quantity', 'OH Amount', 'On Order Quantity', 'On Order Amount', \n",
    "            'In Transit Quantity', 'In Transit Amount', 'NSI Quantity', 'NSI Amount']]"
   ]
  },
  {
   "cell_type": "code",
   "execution_count": 71,
   "id": "31ea7822",
   "metadata": {},
   "outputs": [],
   "source": [
    "df_beef =  df_beef[['Date', 'Location', 'Item', 'OH Quantity', 'OH Amount', 'On Order Quantity', 'On Order Amount', \n",
    "            'In Transit Quantity', 'In Transit Amount', 'NSI Quantity', 'NSI Amount']]"
   ]
  },
  {
   "cell_type": "code",
   "execution_count": 72,
   "id": "525856f2",
   "metadata": {},
   "outputs": [
    {
     "name": "stderr",
     "output_type": "stream",
     "text": [
      "C:\\Users\\Ramshankar\\anaconda3\\lib\\site-packages\\pandas\\core\\reshape\\merge.py:916: FutureWarning: In a future version, the Index constructor will not infer numeric dtypes when passed object-dtype sequences (matching Series behavior)\n",
      "  key_col = Index(lvals).where(~mask_left, rvals)\n",
      "C:\\Users\\Ramshankar\\anaconda3\\lib\\site-packages\\pandas\\core\\reshape\\merge.py:1205: UserWarning: You are merging on int and float columns where the float values are not equal to their int representation.\n",
      "  warnings.warn(\n",
      "C:\\Users\\Ramshankar\\anaconda3\\lib\\site-packages\\pandas\\core\\reshape\\merge.py:916: FutureWarning: In a future version, the Index constructor will not infer numeric dtypes when passed object-dtype sequences (matching Series behavior)\n",
      "  key_col = Index(lvals).where(~mask_left, rvals)\n",
      "C:\\Users\\Ramshankar\\anaconda3\\lib\\site-packages\\pandas\\core\\reshape\\merge.py:1205: UserWarning: You are merging on int and float columns where the float values are not equal to their int representation.\n",
      "  warnings.warn(\n",
      "C:\\Users\\Ramshankar\\anaconda3\\lib\\site-packages\\pandas\\core\\reshape\\merge.py:916: FutureWarning: In a future version, the Index constructor will not infer numeric dtypes when passed object-dtype sequences (matching Series behavior)\n",
      "  key_col = Index(lvals).where(~mask_left, rvals)\n"
     ]
    }
   ],
   "source": [
    "from functools import reduce\n",
    "\n",
    "#define list of DataFrames\n",
    "dfs = [df_chicken2,df_drumstick2, df_fillet2, df_beef]\n",
    "\n",
    "#merge all DataFrames into one\n",
    "final_df = reduce(lambda  left,right: pd.merge(left,right,on=['Date', 'Location', 'Item', 'OH Quantity', 'OH Amount', 'On Order Quantity', 'On Order Amount', \n",
    "            'In Transit Quantity', 'In Transit Amount', 'NSI Quantity', 'NSI Amount'],\n",
    "                                            how='outer'), dfs)\n",
    "\n"
   ]
  },
  {
   "cell_type": "code",
   "execution_count": 73,
   "id": "d5d61f61",
   "metadata": {},
   "outputs": [
    {
     "data": {
      "text/plain": [
       "(15945, 11)"
      ]
     },
     "execution_count": 73,
     "metadata": {},
     "output_type": "execute_result"
    }
   ],
   "source": [
    "final_df.shape"
   ]
  },
  {
   "cell_type": "code",
   "execution_count": 74,
   "id": "810e1ae0",
   "metadata": {},
   "outputs": [],
   "source": [
    "# for i in final_df['Location'].unique():\n",
    "#     try_df = final_df[final_df[\"Location\"]==i]\n",
    "#     print(i, ':-', try_df['Item'].unique() )"
   ]
  },
  {
   "cell_type": "code",
   "execution_count": 53,
   "id": "3c7d5a00",
   "metadata": {},
   "outputs": [
    {
     "data": {
      "text/plain": [
       "Date                   0\n",
       "Location               0\n",
       "Item                   0\n",
       "OH Quantity            0\n",
       "OH Amount              0\n",
       "On Order Quantity      0\n",
       "On Order Amount        0\n",
       "In Transit Quantity    0\n",
       "In Transit Amount      0\n",
       "NSI Quantity           0\n",
       "NSI Amount             0\n",
       "dtype: int64"
      ]
     },
     "execution_count": 53,
     "metadata": {},
     "output_type": "execute_result"
    }
   ],
   "source": [
    "final_df.isnull().sum()"
   ]
  },
  {
   "cell_type": "code",
   "execution_count": 75,
   "id": "a2f98fca",
   "metadata": {},
   "outputs": [],
   "source": [
    "final_df1= final_df[final_df['Date'] <= '2020-08-09']"
   ]
  },
  {
   "cell_type": "code",
   "execution_count": 78,
   "id": "afbfefcd",
   "metadata": {},
   "outputs": [
    {
     "data": {
      "text/plain": [
       "(3283, 11)"
      ]
     },
     "execution_count": 78,
     "metadata": {},
     "output_type": "execute_result"
    }
   ],
   "source": [
    "final_df1.shape"
   ]
  },
  {
   "cell_type": "code",
   "execution_count": 79,
   "id": "13dc16d8",
   "metadata": {},
   "outputs": [
    {
     "data": {
      "text/html": [
       "<div>\n",
       "<style scoped>\n",
       "    .dataframe tbody tr th:only-of-type {\n",
       "        vertical-align: middle;\n",
       "    }\n",
       "\n",
       "    .dataframe tbody tr th {\n",
       "        vertical-align: top;\n",
       "    }\n",
       "\n",
       "    .dataframe thead th {\n",
       "        text-align: right;\n",
       "    }\n",
       "</style>\n",
       "<table border=\"1\" class=\"dataframe\">\n",
       "  <thead>\n",
       "    <tr style=\"text-align: right;\">\n",
       "      <th></th>\n",
       "      <th>Date</th>\n",
       "      <th>Location</th>\n",
       "      <th>Item</th>\n",
       "      <th>OH Quantity</th>\n",
       "      <th>OH Amount</th>\n",
       "      <th>On Order Quantity</th>\n",
       "      <th>On Order Amount</th>\n",
       "      <th>In Transit Quantity</th>\n",
       "      <th>In Transit Amount</th>\n",
       "      <th>NSI Quantity</th>\n",
       "      <th>NSI Amount</th>\n",
       "    </tr>\n",
       "  </thead>\n",
       "  <tbody>\n",
       "    <tr>\n",
       "      <th>14858</th>\n",
       "      <td>2020-01-01</td>\n",
       "      <td>S SAN FRANCISCO BUS CTR</td>\n",
       "      <td>BEEF OOOO - GT</td>\n",
       "      <td>440.0</td>\n",
       "      <td>1095.60</td>\n",
       "      <td>0.0</td>\n",
       "      <td>0.0</td>\n",
       "      <td>0.0</td>\n",
       "      <td>0.0</td>\n",
       "      <td>0.0</td>\n",
       "      <td>0.0</td>\n",
       "    </tr>\n",
       "    <tr>\n",
       "      <th>14859</th>\n",
       "      <td>2020-01-02</td>\n",
       "      <td>S SAN FRANCISCO BUS CTR</td>\n",
       "      <td>BEEF OOOO - GT</td>\n",
       "      <td>340.0</td>\n",
       "      <td>846.60</td>\n",
       "      <td>0.0</td>\n",
       "      <td>0.0</td>\n",
       "      <td>0.0</td>\n",
       "      <td>0.0</td>\n",
       "      <td>0.0</td>\n",
       "      <td>0.0</td>\n",
       "    </tr>\n",
       "    <tr>\n",
       "      <th>14860</th>\n",
       "      <td>2020-01-03</td>\n",
       "      <td>S SAN FRANCISCO BUS CTR</td>\n",
       "      <td>BEEF OOOO - GT</td>\n",
       "      <td>234.0</td>\n",
       "      <td>582.66</td>\n",
       "      <td>0.0</td>\n",
       "      <td>0.0</td>\n",
       "      <td>0.0</td>\n",
       "      <td>0.0</td>\n",
       "      <td>0.0</td>\n",
       "      <td>0.0</td>\n",
       "    </tr>\n",
       "    <tr>\n",
       "      <th>14861</th>\n",
       "      <td>2020-01-04</td>\n",
       "      <td>S SAN FRANCISCO BUS CTR</td>\n",
       "      <td>BEEF OOOO - GT</td>\n",
       "      <td>174.0</td>\n",
       "      <td>433.26</td>\n",
       "      <td>0.0</td>\n",
       "      <td>0.0</td>\n",
       "      <td>0.0</td>\n",
       "      <td>0.0</td>\n",
       "      <td>0.0</td>\n",
       "      <td>0.0</td>\n",
       "    </tr>\n",
       "    <tr>\n",
       "      <th>14862</th>\n",
       "      <td>2020-01-05</td>\n",
       "      <td>S SAN FRANCISCO BUS CTR</td>\n",
       "      <td>BEEF OOOO - GT</td>\n",
       "      <td>174.0</td>\n",
       "      <td>433.26</td>\n",
       "      <td>0.0</td>\n",
       "      <td>0.0</td>\n",
       "      <td>0.0</td>\n",
       "      <td>0.0</td>\n",
       "      <td>0.0</td>\n",
       "      <td>0.0</td>\n",
       "    </tr>\n",
       "    <tr>\n",
       "      <th>...</th>\n",
       "      <td>...</td>\n",
       "      <td>...</td>\n",
       "      <td>...</td>\n",
       "      <td>...</td>\n",
       "      <td>...</td>\n",
       "      <td>...</td>\n",
       "      <td>...</td>\n",
       "      <td>...</td>\n",
       "      <td>...</td>\n",
       "      <td>...</td>\n",
       "      <td>...</td>\n",
       "    </tr>\n",
       "    <tr>\n",
       "      <th>15064</th>\n",
       "      <td>2020-08-05</td>\n",
       "      <td>S SAN FRANCISCO BUS CTR</td>\n",
       "      <td>BEEF OOOO - GT</td>\n",
       "      <td>1048.0</td>\n",
       "      <td>2609.52</td>\n",
       "      <td>0.0</td>\n",
       "      <td>0.0</td>\n",
       "      <td>0.0</td>\n",
       "      <td>0.0</td>\n",
       "      <td>0.0</td>\n",
       "      <td>0.0</td>\n",
       "    </tr>\n",
       "    <tr>\n",
       "      <th>15065</th>\n",
       "      <td>2020-08-06</td>\n",
       "      <td>S SAN FRANCISCO BUS CTR</td>\n",
       "      <td>BEEF OOOO - GT</td>\n",
       "      <td>981.0</td>\n",
       "      <td>2442.69</td>\n",
       "      <td>0.0</td>\n",
       "      <td>0.0</td>\n",
       "      <td>0.0</td>\n",
       "      <td>0.0</td>\n",
       "      <td>0.0</td>\n",
       "      <td>0.0</td>\n",
       "    </tr>\n",
       "    <tr>\n",
       "      <th>15066</th>\n",
       "      <td>2020-08-07</td>\n",
       "      <td>S SAN FRANCISCO BUS CTR</td>\n",
       "      <td>BEEF OOOO - GT</td>\n",
       "      <td>900.0</td>\n",
       "      <td>2241.00</td>\n",
       "      <td>0.0</td>\n",
       "      <td>0.0</td>\n",
       "      <td>0.0</td>\n",
       "      <td>0.0</td>\n",
       "      <td>0.0</td>\n",
       "      <td>0.0</td>\n",
       "    </tr>\n",
       "    <tr>\n",
       "      <th>15067</th>\n",
       "      <td>2020-08-08</td>\n",
       "      <td>S SAN FRANCISCO BUS CTR</td>\n",
       "      <td>BEEF OOOO - GT</td>\n",
       "      <td>870.0</td>\n",
       "      <td>2166.30</td>\n",
       "      <td>0.0</td>\n",
       "      <td>0.0</td>\n",
       "      <td>0.0</td>\n",
       "      <td>0.0</td>\n",
       "      <td>0.0</td>\n",
       "      <td>0.0</td>\n",
       "    </tr>\n",
       "    <tr>\n",
       "      <th>15068</th>\n",
       "      <td>2020-08-09</td>\n",
       "      <td>S SAN FRANCISCO BUS CTR</td>\n",
       "      <td>BEEF OOOO - GT</td>\n",
       "      <td>870.0</td>\n",
       "      <td>2166.30</td>\n",
       "      <td>0.0</td>\n",
       "      <td>0.0</td>\n",
       "      <td>0.0</td>\n",
       "      <td>0.0</td>\n",
       "      <td>0.0</td>\n",
       "      <td>0.0</td>\n",
       "    </tr>\n",
       "  </tbody>\n",
       "</table>\n",
       "<p>211 rows × 11 columns</p>\n",
       "</div>"
      ],
      "text/plain": [
       "            Date                 Location            Item  OH Quantity  \\\n",
       "14858 2020-01-01  S SAN FRANCISCO BUS CTR  BEEF OOOO - GT        440.0   \n",
       "14859 2020-01-02  S SAN FRANCISCO BUS CTR  BEEF OOOO - GT        340.0   \n",
       "14860 2020-01-03  S SAN FRANCISCO BUS CTR  BEEF OOOO - GT        234.0   \n",
       "14861 2020-01-04  S SAN FRANCISCO BUS CTR  BEEF OOOO - GT        174.0   \n",
       "14862 2020-01-05  S SAN FRANCISCO BUS CTR  BEEF OOOO - GT        174.0   \n",
       "...          ...                      ...             ...          ...   \n",
       "15064 2020-08-05  S SAN FRANCISCO BUS CTR  BEEF OOOO - GT       1048.0   \n",
       "15065 2020-08-06  S SAN FRANCISCO BUS CTR  BEEF OOOO - GT        981.0   \n",
       "15066 2020-08-07  S SAN FRANCISCO BUS CTR  BEEF OOOO - GT        900.0   \n",
       "15067 2020-08-08  S SAN FRANCISCO BUS CTR  BEEF OOOO - GT        870.0   \n",
       "15068 2020-08-09  S SAN FRANCISCO BUS CTR  BEEF OOOO - GT        870.0   \n",
       "\n",
       "       OH Amount  On Order Quantity  On Order Amount  In Transit Quantity  \\\n",
       "14858    1095.60                0.0              0.0                  0.0   \n",
       "14859     846.60                0.0              0.0                  0.0   \n",
       "14860     582.66                0.0              0.0                  0.0   \n",
       "14861     433.26                0.0              0.0                  0.0   \n",
       "14862     433.26                0.0              0.0                  0.0   \n",
       "...          ...                ...              ...                  ...   \n",
       "15064    2609.52                0.0              0.0                  0.0   \n",
       "15065    2442.69                0.0              0.0                  0.0   \n",
       "15066    2241.00                0.0              0.0                  0.0   \n",
       "15067    2166.30                0.0              0.0                  0.0   \n",
       "15068    2166.30                0.0              0.0                  0.0   \n",
       "\n",
       "       In Transit Amount  NSI Quantity NSI Amount  \n",
       "14858                0.0           0.0        0.0  \n",
       "14859                0.0           0.0        0.0  \n",
       "14860                0.0           0.0        0.0  \n",
       "14861                0.0           0.0        0.0  \n",
       "14862                0.0           0.0        0.0  \n",
       "...                  ...           ...        ...  \n",
       "15064                0.0           0.0        0.0  \n",
       "15065                0.0           0.0        0.0  \n",
       "15066                0.0           0.0        0.0  \n",
       "15067                0.0           0.0        0.0  \n",
       "15068                0.0           0.0        0.0  \n",
       "\n",
       "[211 rows x 11 columns]"
      ]
     },
     "execution_count": 79,
     "metadata": {},
     "output_type": "execute_result"
    }
   ],
   "source": [
    "final_df1[final_df1['Item']== 'BEEF OOOO - GT']"
   ]
  },
  {
   "cell_type": "code",
   "execution_count": 80,
   "id": "24ebffb3",
   "metadata": {},
   "outputs": [],
   "source": [
    "final_df2 = final_df1[final_df1['OH Quantity'] >= 0]"
   ]
  },
  {
   "cell_type": "code",
   "execution_count": 81,
   "id": "468178fc",
   "metadata": {},
   "outputs": [
    {
     "data": {
      "text/plain": [
       "(1780, 11)"
      ]
     },
     "execution_count": 81,
     "metadata": {},
     "output_type": "execute_result"
    }
   ],
   "source": [
    "final_df2.shape"
   ]
  },
  {
   "cell_type": "code",
   "execution_count": 83,
   "id": "6c8e1743",
   "metadata": {},
   "outputs": [],
   "source": [
    "# final_df2.to_excel('combined_inventory_data20.xlsx', index= False)"
   ]
  },
  {
   "cell_type": "markdown",
   "id": "64174dd4",
   "metadata": {},
   "source": [
    "## OR"
   ]
  },
  {
   "cell_type": "code",
   "execution_count": 54,
   "id": "19944397",
   "metadata": {},
   "outputs": [],
   "source": [
    "# data= [df_chicken2, df_drumstick2,df_fillet2, df_beef ]\n",
    "\n",
    "# df_conct = pd.concat(data, axis=0, ignore_index=True)"
   ]
  },
  {
   "cell_type": "code",
   "execution_count": 55,
   "id": "fb34aed7",
   "metadata": {},
   "outputs": [
    {
     "name": "stdout",
     "output_type": "stream",
     "text": [
      "RICHMOND CA :- ['Chicken XXXXX-O' 'DRUMSTICKS NNNN' 'FILLET QQQQ']\n",
      "HAYWARD :- ['Chicken XXXXX-O' 'DRUMSTICKS NNNN' 'FILLET QQQQ']\n",
      "LAKEWOOD :- ['Chicken XXXXX-O' 'DRUMSTICKS NNNN' 'FILLET QQQQ']\n",
      "FREMONT :- ['Chicken XXXXX-O' 'DRUMSTICKS NNNN' 'FILLET QQQQ']\n",
      "S SAN FRANCISCO BUS CTR :- ['DRUMSTICKS NNNN' 'BEEF OOOO - GT']\n"
     ]
    }
   ],
   "source": [
    "# for i in df_conct['Location'].unique():\n",
    "#     try_df = final_df[final_df[\"Location\"]==i]\n",
    "#     print(i, ':-', try_df['Item'].unique() )"
   ]
  },
  {
   "cell_type": "code",
   "execution_count": 56,
   "id": "afdf78e9",
   "metadata": {},
   "outputs": [
    {
     "data": {
      "text/plain": [
       "(15945, 11)"
      ]
     },
     "execution_count": 56,
     "metadata": {},
     "output_type": "execute_result"
    }
   ],
   "source": [
    "# df_conct.shape"
   ]
  },
  {
   "cell_type": "code",
   "execution_count": 57,
   "id": "fcbb8a2d",
   "metadata": {},
   "outputs": [
    {
     "data": {
      "text/plain": [
       "Date                   0\n",
       "Location               0\n",
       "Item                   0\n",
       "OH Quantity            0\n",
       "OH Amount              0\n",
       "On Order Quantity      0\n",
       "On Order Amount        0\n",
       "In Transit Quantity    0\n",
       "In Transit Amount      0\n",
       "NSI Quantity           0\n",
       "NSI Amount             0\n",
       "dtype: int64"
      ]
     },
     "execution_count": 57,
     "metadata": {},
     "output_type": "execute_result"
    }
   ],
   "source": [
    "# df_conct.isnull().sum()"
   ]
  },
  {
   "cell_type": "code",
   "execution_count": 64,
   "id": "02b2a8a8",
   "metadata": {},
   "outputs": [],
   "source": [
    "df_conct1= df_conct[df_conct['Date'] <= '2020-08-09']"
   ]
  },
  {
   "cell_type": "code",
   "execution_count": 70,
   "id": "5eab4752",
   "metadata": {},
   "outputs": [
    {
     "data": {
      "text/html": [
       "<div>\n",
       "<style scoped>\n",
       "    .dataframe tbody tr th:only-of-type {\n",
       "        vertical-align: middle;\n",
       "    }\n",
       "\n",
       "    .dataframe tbody tr th {\n",
       "        vertical-align: top;\n",
       "    }\n",
       "\n",
       "    .dataframe thead th {\n",
       "        text-align: right;\n",
       "    }\n",
       "</style>\n",
       "<table border=\"1\" class=\"dataframe\">\n",
       "  <thead>\n",
       "    <tr style=\"text-align: right;\">\n",
       "      <th></th>\n",
       "      <th>Date</th>\n",
       "      <th>Location</th>\n",
       "      <th>Item</th>\n",
       "      <th>OH Quantity</th>\n",
       "      <th>OH Amount</th>\n",
       "      <th>On Order Quantity</th>\n",
       "      <th>On Order Amount</th>\n",
       "      <th>In Transit Quantity</th>\n",
       "      <th>In Transit Amount</th>\n",
       "      <th>NSI Quantity</th>\n",
       "      <th>NSI Amount</th>\n",
       "    </tr>\n",
       "  </thead>\n",
       "  <tbody>\n",
       "    <tr>\n",
       "      <th>1074</th>\n",
       "      <td>2022-05-13</td>\n",
       "      <td>S SAN FRANCISCO BUS CTR</td>\n",
       "      <td>DRUMSTICKS NNNN</td>\n",
       "      <td>38.0</td>\n",
       "      <td>37.62</td>\n",
       "      <td>0.0</td>\n",
       "      <td>0.00</td>\n",
       "      <td>0.0</td>\n",
       "      <td>0.0</td>\n",
       "      <td>0.0</td>\n",
       "      <td>0.0</td>\n",
       "    </tr>\n",
       "    <tr>\n",
       "      <th>1078</th>\n",
       "      <td>2022-05-14</td>\n",
       "      <td>S SAN FRANCISCO BUS CTR</td>\n",
       "      <td>DRUMSTICKS NNNN</td>\n",
       "      <td>38.0</td>\n",
       "      <td>37.62</td>\n",
       "      <td>0.0</td>\n",
       "      <td>0.00</td>\n",
       "      <td>0.0</td>\n",
       "      <td>0.0</td>\n",
       "      <td>0.0</td>\n",
       "      <td>0.0</td>\n",
       "    </tr>\n",
       "    <tr>\n",
       "      <th>1080</th>\n",
       "      <td>2022-05-15</td>\n",
       "      <td>S SAN FRANCISCO BUS CTR</td>\n",
       "      <td>DRUMSTICKS NNNN</td>\n",
       "      <td>38.0</td>\n",
       "      <td>37.62</td>\n",
       "      <td>0.0</td>\n",
       "      <td>0.00</td>\n",
       "      <td>0.0</td>\n",
       "      <td>0.0</td>\n",
       "      <td>0.0</td>\n",
       "      <td>0.0</td>\n",
       "    </tr>\n",
       "    <tr>\n",
       "      <th>1083</th>\n",
       "      <td>2022-05-16</td>\n",
       "      <td>S SAN FRANCISCO BUS CTR</td>\n",
       "      <td>DRUMSTICKS NNNN</td>\n",
       "      <td>38.0</td>\n",
       "      <td>37.62</td>\n",
       "      <td>0.0</td>\n",
       "      <td>0.00</td>\n",
       "      <td>0.0</td>\n",
       "      <td>0.0</td>\n",
       "      <td>0.0</td>\n",
       "      <td>0.0</td>\n",
       "    </tr>\n",
       "    <tr>\n",
       "      <th>1084</th>\n",
       "      <td>2022-05-17</td>\n",
       "      <td>S SAN FRANCISCO BUS CTR</td>\n",
       "      <td>DRUMSTICKS NNNN</td>\n",
       "      <td>38.0</td>\n",
       "      <td>37.62</td>\n",
       "      <td>0.0</td>\n",
       "      <td>0.00</td>\n",
       "      <td>0.0</td>\n",
       "      <td>0.0</td>\n",
       "      <td>0.0</td>\n",
       "      <td>0.0</td>\n",
       "    </tr>\n",
       "    <tr>\n",
       "      <th>...</th>\n",
       "      <td>...</td>\n",
       "      <td>...</td>\n",
       "      <td>...</td>\n",
       "      <td>...</td>\n",
       "      <td>...</td>\n",
       "      <td>...</td>\n",
       "      <td>...</td>\n",
       "      <td>...</td>\n",
       "      <td>...</td>\n",
       "      <td>...</td>\n",
       "      <td>...</td>\n",
       "    </tr>\n",
       "    <tr>\n",
       "      <th>11136</th>\n",
       "      <td>2022-12-09</td>\n",
       "      <td>S SAN FRANCISCO BUS CTR</td>\n",
       "      <td>DRUMSTICKS NNNN</td>\n",
       "      <td>17.0</td>\n",
       "      <td>21.93</td>\n",
       "      <td>49.0</td>\n",
       "      <td>63.21</td>\n",
       "      <td>0.0</td>\n",
       "      <td>0.0</td>\n",
       "      <td>0.0</td>\n",
       "      <td>0.0</td>\n",
       "    </tr>\n",
       "    <tr>\n",
       "      <th>11138</th>\n",
       "      <td>2022-12-08</td>\n",
       "      <td>S SAN FRANCISCO BUS CTR</td>\n",
       "      <td>DRUMSTICKS NNNN</td>\n",
       "      <td>34.0</td>\n",
       "      <td>43.86</td>\n",
       "      <td>98.0</td>\n",
       "      <td>126.42</td>\n",
       "      <td>0.0</td>\n",
       "      <td>0.0</td>\n",
       "      <td>0.0</td>\n",
       "      <td>0.0</td>\n",
       "    </tr>\n",
       "    <tr>\n",
       "      <th>11141</th>\n",
       "      <td>2022-12-20</td>\n",
       "      <td>S SAN FRANCISCO BUS CTR</td>\n",
       "      <td>DRUMSTICKS NNNN</td>\n",
       "      <td>10.0</td>\n",
       "      <td>12.90</td>\n",
       "      <td>147.0</td>\n",
       "      <td>189.63</td>\n",
       "      <td>0.0</td>\n",
       "      <td>0.0</td>\n",
       "      <td>0.0</td>\n",
       "      <td>0.0</td>\n",
       "    </tr>\n",
       "    <tr>\n",
       "      <th>11146</th>\n",
       "      <td>2022-12-28</td>\n",
       "      <td>S SAN FRANCISCO BUS CTR</td>\n",
       "      <td>DRUMSTICKS NNNN</td>\n",
       "      <td>10.0</td>\n",
       "      <td>9.90</td>\n",
       "      <td>0.0</td>\n",
       "      <td>0.00</td>\n",
       "      <td>0.0</td>\n",
       "      <td>0.0</td>\n",
       "      <td>0.0</td>\n",
       "      <td>0.0</td>\n",
       "    </tr>\n",
       "    <tr>\n",
       "      <th>11149</th>\n",
       "      <td>2022-12-05</td>\n",
       "      <td>S SAN FRANCISCO BUS CTR</td>\n",
       "      <td>DRUMSTICKS NNNN</td>\n",
       "      <td>129.0</td>\n",
       "      <td>166.41</td>\n",
       "      <td>0.0</td>\n",
       "      <td>0.00</td>\n",
       "      <td>0.0</td>\n",
       "      <td>0.0</td>\n",
       "      <td>0.0</td>\n",
       "      <td>0.0</td>\n",
       "    </tr>\n",
       "  </tbody>\n",
       "</table>\n",
       "<p>5957 rows × 11 columns</p>\n",
       "</div>"
      ],
      "text/plain": [
       "            Date                 Location             Item  OH Quantity  \\\n",
       "1074  2022-05-13  S SAN FRANCISCO BUS CTR  DRUMSTICKS NNNN         38.0   \n",
       "1078  2022-05-14  S SAN FRANCISCO BUS CTR  DRUMSTICKS NNNN         38.0   \n",
       "1080  2022-05-15  S SAN FRANCISCO BUS CTR  DRUMSTICKS NNNN         38.0   \n",
       "1083  2022-05-16  S SAN FRANCISCO BUS CTR  DRUMSTICKS NNNN         38.0   \n",
       "1084  2022-05-17  S SAN FRANCISCO BUS CTR  DRUMSTICKS NNNN         38.0   \n",
       "...          ...                      ...              ...          ...   \n",
       "11136 2022-12-09  S SAN FRANCISCO BUS CTR  DRUMSTICKS NNNN         17.0   \n",
       "11138 2022-12-08  S SAN FRANCISCO BUS CTR  DRUMSTICKS NNNN         34.0   \n",
       "11141 2022-12-20  S SAN FRANCISCO BUS CTR  DRUMSTICKS NNNN         10.0   \n",
       "11146 2022-12-28  S SAN FRANCISCO BUS CTR  DRUMSTICKS NNNN         10.0   \n",
       "11149 2022-12-05  S SAN FRANCISCO BUS CTR  DRUMSTICKS NNNN        129.0   \n",
       "\n",
       "       OH Amount  On Order Quantity  On Order Amount  In Transit Quantity  \\\n",
       "1074       37.62                0.0             0.00                  0.0   \n",
       "1078       37.62                0.0             0.00                  0.0   \n",
       "1080       37.62                0.0             0.00                  0.0   \n",
       "1083       37.62                0.0             0.00                  0.0   \n",
       "1084       37.62                0.0             0.00                  0.0   \n",
       "...          ...                ...              ...                  ...   \n",
       "11136      21.93               49.0            63.21                  0.0   \n",
       "11138      43.86               98.0           126.42                  0.0   \n",
       "11141      12.90              147.0           189.63                  0.0   \n",
       "11146       9.90                0.0             0.00                  0.0   \n",
       "11149     166.41                0.0             0.00                  0.0   \n",
       "\n",
       "       In Transit Amount  NSI Quantity NSI Amount  \n",
       "1074                 0.0           0.0        0.0  \n",
       "1078                 0.0           0.0        0.0  \n",
       "1080                 0.0           0.0        0.0  \n",
       "1083                 0.0           0.0        0.0  \n",
       "1084                 0.0           0.0        0.0  \n",
       "...                  ...           ...        ...  \n",
       "11136                0.0           0.0        0.0  \n",
       "11138                0.0           0.0        0.0  \n",
       "11141                0.0           0.0        0.0  \n",
       "11146                0.0           0.0        0.0  \n",
       "11149                0.0           0.0        0.0  \n",
       "\n",
       "[5957 rows x 11 columns]"
      ]
     },
     "execution_count": 70,
     "metadata": {},
     "output_type": "execute_result"
    }
   ],
   "source": [
    "df_conct1[df_conct1['Item']== 'DRUMSTICKS NNNN']"
   ]
  },
  {
   "cell_type": "code",
   "execution_count": 66,
   "id": "574b2567",
   "metadata": {},
   "outputs": [],
   "source": [
    "df_conct1= df_conct[df_conct['OH Quantity'] >= 0]"
   ]
  },
  {
   "cell_type": "code",
   "execution_count": 67,
   "id": "bc141be6",
   "metadata": {},
   "outputs": [
    {
     "data": {
      "text/plain": [
       "0        164.0\n",
       "1         26.0\n",
       "2         56.0\n",
       "3         31.0\n",
       "4        120.0\n",
       "         ...  \n",
       "15930      3.0\n",
       "15931      3.0\n",
       "15932      3.0\n",
       "15933      3.0\n",
       "15934      3.0\n",
       "Name: OH Quantity, Length: 7709, dtype: float64"
      ]
     },
     "execution_count": 67,
     "metadata": {},
     "output_type": "execute_result"
    }
   ],
   "source": [
    "# df_conct1['OH Quantity']"
   ]
  },
  {
   "cell_type": "code",
   "execution_count": 68,
   "id": "db55eeab",
   "metadata": {},
   "outputs": [],
   "source": [
    "df_conct1.to_excel('combined_inventory_data20.xlsx', index= False)"
   ]
  },
  {
   "cell_type": "code",
   "execution_count": null,
   "id": "18cb2d36",
   "metadata": {},
   "outputs": [],
   "source": []
  },
  {
   "cell_type": "code",
   "execution_count": null,
   "id": "37df33ea",
   "metadata": {},
   "outputs": [],
   "source": []
  },
  {
   "cell_type": "code",
   "execution_count": null,
   "id": "c38eebd9",
   "metadata": {},
   "outputs": [],
   "source": []
  },
  {
   "cell_type": "code",
   "execution_count": null,
   "id": "363d4679",
   "metadata": {},
   "outputs": [],
   "source": []
  },
  {
   "cell_type": "code",
   "execution_count": null,
   "id": "c0234cae",
   "metadata": {},
   "outputs": [],
   "source": []
  },
  {
   "cell_type": "code",
   "execution_count": null,
   "id": "e523d0e7",
   "metadata": {},
   "outputs": [],
   "source": []
  },
  {
   "cell_type": "code",
   "execution_count": null,
   "id": "e202929d",
   "metadata": {},
   "outputs": [],
   "source": []
  },
  {
   "cell_type": "code",
   "execution_count": null,
   "id": "210bd8c6",
   "metadata": {},
   "outputs": [],
   "source": []
  },
  {
   "cell_type": "code",
   "execution_count": null,
   "id": "3313141f",
   "metadata": {},
   "outputs": [],
   "source": []
  },
  {
   "cell_type": "code",
   "execution_count": null,
   "id": "eff6aefd",
   "metadata": {},
   "outputs": [],
   "source": [
    "data= [df3, df_fillet,df_drumstick, df_chicken ]\n",
    "\n",
    "data_final= pd.concat(data, axis=0, ignore_index=True)"
   ]
  },
  {
   "cell_type": "code",
   "execution_count": null,
   "id": "54ebf395",
   "metadata": {},
   "outputs": [],
   "source": [
    "data_final.shape"
   ]
  },
  {
   "cell_type": "code",
   "execution_count": null,
   "id": "e1af3aaa",
   "metadata": {},
   "outputs": [],
   "source": [
    "data_filt1 = data_final[data_final['State']=='CA' ]"
   ]
  },
  {
   "cell_type": "code",
   "execution_count": null,
   "id": "ef057be2",
   "metadata": {},
   "outputs": [],
   "source": [
    "loc= ['HAYWARD', 'FREMONT', 'LAKEWOOD', 'RICHMOND CA', 'S SAN FRANCISCO BUS CTR']\n",
    "\n",
    "data_filt2 = data_filt1[(data_filt1['Location'].isin(loc))]"
   ]
  },
  {
   "cell_type": "code",
   "execution_count": null,
   "id": "11d67a62",
   "metadata": {},
   "outputs": [],
   "source": [
    "data_filt2"
   ]
  },
  {
   "cell_type": "code",
   "execution_count": null,
   "id": "0221bdbe",
   "metadata": {},
   "outputs": [],
   "source": [
    "data_filt2['Location'].unique()"
   ]
  },
  {
   "cell_type": "code",
   "execution_count": null,
   "id": "a4a651b7",
   "metadata": {},
   "outputs": [],
   "source": [
    "data_filt2['Item'].unique()"
   ]
  },
  {
   "cell_type": "code",
   "execution_count": null,
   "id": "256e1b9c",
   "metadata": {},
   "outputs": [],
   "source": [
    "for i in data_filt2['Location'].unique():\n",
    "#     df= data_filt2[data_filt2['Location']\n",
    "    print(i, \":-\", list(data_filt2['Item'].unique()))"
   ]
  },
  {
   "cell_type": "code",
   "execution_count": null,
   "id": "69223c66",
   "metadata": {},
   "outputs": [],
   "source": []
  },
  {
   "cell_type": "code",
   "execution_count": null,
   "id": "a8a1175c",
   "metadata": {},
   "outputs": [],
   "source": []
  }
 ],
 "metadata": {
  "kernelspec": {
   "display_name": "Python 3 (ipykernel)",
   "language": "python",
   "name": "python3"
  },
  "language_info": {
   "codemirror_mode": {
    "name": "ipython",
    "version": 3
   },
   "file_extension": ".py",
   "mimetype": "text/x-python",
   "name": "python",
   "nbconvert_exporter": "python",
   "pygments_lexer": "ipython3",
   "version": "3.9.12"
  }
 },
 "nbformat": 4,
 "nbformat_minor": 5
}
