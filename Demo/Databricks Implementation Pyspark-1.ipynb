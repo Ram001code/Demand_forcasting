{
 "cells": [
  {
   "cell_type": "code",
   "execution_count": 1,
   "id": "f01f7a76",
   "metadata": {},
   "outputs": [],
   "source": [
    "#!pip install pyspark"
   ]
  },
  {
   "cell_type": "code",
   "execution_count": 1,
   "id": "605593a7",
   "metadata": {},
   "outputs": [],
   "source": [
    "from pyspark.sql import SparkSession"
   ]
  },
  {
   "cell_type": "code",
   "execution_count": 2,
   "id": "bda2e2bb",
   "metadata": {},
   "outputs": [],
   "source": [
    "spark=SparkSession.builder.appName('myapp').getOrCreate()"
   ]
  },
  {
   "cell_type": "code",
   "execution_count": 3,
   "id": "c57bf281",
   "metadata": {},
   "outputs": [
    {
     "data": {
      "text/html": [
       "\n",
       "            <div>\n",
       "                <p><b>SparkSession - in-memory</b></p>\n",
       "                \n",
       "        <div>\n",
       "            <p><b>SparkContext</b></p>\n",
       "\n",
       "            <p><a href=\"http://192.168.0.101:4040\">Spark UI</a></p>\n",
       "\n",
       "            <dl>\n",
       "              <dt>Version</dt>\n",
       "                <dd><code>v3.3.2</code></dd>\n",
       "              <dt>Master</dt>\n",
       "                <dd><code>local[*]</code></dd>\n",
       "              <dt>AppName</dt>\n",
       "                <dd><code>myapp</code></dd>\n",
       "            </dl>\n",
       "        </div>\n",
       "        \n",
       "            </div>\n",
       "        "
      ],
      "text/plain": [
       "<pyspark.sql.session.SparkSession at 0x24d9b784c10>"
      ]
     },
     "execution_count": 3,
     "metadata": {},
     "output_type": "execute_result"
    }
   ],
   "source": [
    "spark"
   ]
  },
  {
   "cell_type": "code",
   "execution_count": 4,
   "id": "2e14fd5b",
   "metadata": {},
   "outputs": [],
   "source": [
    "# !conda install -c cyclus java-jdk"
   ]
  },
  {
   "cell_type": "code",
   "execution_count": 5,
   "id": "3ddf99db",
   "metadata": {},
   "outputs": [],
   "source": [
    "import pandas as pd"
   ]
  },
  {
   "cell_type": "markdown",
   "id": "b6d4bdc7",
   "metadata": {},
   "source": [
    "#Method-1 to load the data "
   ]
  },
  {
   "cell_type": "code",
   "execution_count": 6,
   "id": "d2659132",
   "metadata": {},
   "outputs": [
    {
     "data": {
      "text/html": [
       "<div>\n",
       "<style scoped>\n",
       "    .dataframe tbody tr th:only-of-type {\n",
       "        vertical-align: middle;\n",
       "    }\n",
       "\n",
       "    .dataframe tbody tr th {\n",
       "        vertical-align: top;\n",
       "    }\n",
       "\n",
       "    .dataframe thead th {\n",
       "        text-align: right;\n",
       "    }\n",
       "</style>\n",
       "<table border=\"1\" class=\"dataframe\">\n",
       "  <thead>\n",
       "    <tr style=\"text-align: right;\">\n",
       "      <th></th>\n",
       "      <th>date</th>\n",
       "      <th>store_id</th>\n",
       "      <th>sku</th>\n",
       "      <th>product_category</th>\n",
       "      <th>total_sales_units</th>\n",
       "      <th>on_hand_inventory_units</th>\n",
       "      <th>replenishment_units</th>\n",
       "      <th>inventory_pipeline</th>\n",
       "      <th>units_in_transit</th>\n",
       "      <th>units_in_dc</th>\n",
       "      <th>units_on_order</th>\n",
       "      <th>units_under_promotion</th>\n",
       "      <th>shelf_capacity</th>\n",
       "    </tr>\n",
       "  </thead>\n",
       "  <tbody>\n",
       "    <tr>\n",
       "      <th>0</th>\n",
       "      <td>2019-01-02</td>\n",
       "      <td>63</td>\n",
       "      <td>57</td>\n",
       "      <td>Category 04</td>\n",
       "      <td>0</td>\n",
       "      <td>8</td>\n",
       "      <td>0</td>\n",
       "      <td>16</td>\n",
       "      <td>0</td>\n",
       "      <td>0</td>\n",
       "      <td>8</td>\n",
       "      <td>0</td>\n",
       "      <td>32</td>\n",
       "    </tr>\n",
       "    <tr>\n",
       "      <th>1</th>\n",
       "      <td>2019-01-04</td>\n",
       "      <td>63</td>\n",
       "      <td>57</td>\n",
       "      <td>Category 04</td>\n",
       "      <td>0</td>\n",
       "      <td>7</td>\n",
       "      <td>0</td>\n",
       "      <td>14</td>\n",
       "      <td>0</td>\n",
       "      <td>8</td>\n",
       "      <td>0</td>\n",
       "      <td>0</td>\n",
       "      <td>32</td>\n",
       "    </tr>\n",
       "    <tr>\n",
       "      <th>2</th>\n",
       "      <td>2019-01-05</td>\n",
       "      <td>63</td>\n",
       "      <td>57</td>\n",
       "      <td>Category 04</td>\n",
       "      <td>3</td>\n",
       "      <td>5</td>\n",
       "      <td>8</td>\n",
       "      <td>12</td>\n",
       "      <td>8</td>\n",
       "      <td>0</td>\n",
       "      <td>0</td>\n",
       "      <td>0</td>\n",
       "      <td>32</td>\n",
       "    </tr>\n",
       "    <tr>\n",
       "      <th>3</th>\n",
       "      <td>2019-01-06</td>\n",
       "      <td>63</td>\n",
       "      <td>57</td>\n",
       "      <td>Category 04</td>\n",
       "      <td>2</td>\n",
       "      <td>11</td>\n",
       "      <td>0</td>\n",
       "      <td>11</td>\n",
       "      <td>0</td>\n",
       "      <td>0</td>\n",
       "      <td>0</td>\n",
       "      <td>0</td>\n",
       "      <td>32</td>\n",
       "    </tr>\n",
       "    <tr>\n",
       "      <th>4</th>\n",
       "      <td>2019-01-09</td>\n",
       "      <td>63</td>\n",
       "      <td>57</td>\n",
       "      <td>Category 04</td>\n",
       "      <td>3</td>\n",
       "      <td>7</td>\n",
       "      <td>0</td>\n",
       "      <td>14</td>\n",
       "      <td>0</td>\n",
       "      <td>0</td>\n",
       "      <td>8</td>\n",
       "      <td>0</td>\n",
       "      <td>32</td>\n",
       "    </tr>\n",
       "  </tbody>\n",
       "</table>\n",
       "</div>"
      ],
      "text/plain": [
       "         date  store_id  sku product_category  total_sales_units  \\\n",
       "0  2019-01-02        63   57      Category 04                  0   \n",
       "1  2019-01-04        63   57      Category 04                  0   \n",
       "2  2019-01-05        63   57      Category 04                  3   \n",
       "3  2019-01-06        63   57      Category 04                  2   \n",
       "4  2019-01-09        63   57      Category 04                  3   \n",
       "\n",
       "   on_hand_inventory_units  replenishment_units  inventory_pipeline  \\\n",
       "0                        8                    0                  16   \n",
       "1                        7                    0                  14   \n",
       "2                        5                    8                  12   \n",
       "3                       11                    0                  11   \n",
       "4                        7                    0                  14   \n",
       "\n",
       "   units_in_transit  units_in_dc  units_on_order  units_under_promotion  \\\n",
       "0                 0            0               8                      0   \n",
       "1                 0            8               0                      0   \n",
       "2                 8            0               0                      0   \n",
       "3                 0            0               0                      0   \n",
       "4                 0            0               8                      0   \n",
       "\n",
       "   shelf_capacity  \n",
       "0              32  \n",
       "1              32  \n",
       "2              32  \n",
       "3              32  \n",
       "4              32  "
      ]
     },
     "execution_count": 6,
     "metadata": {},
     "output_type": "execute_result"
    }
   ],
   "source": [
    "data= pd.read_csv('C://Users//Ramshankar//OneDrive - iLink Systems Inc//Documents//Costco//Demo//Dataset/raw_data.csv')\n",
    "data.head()"
   ]
  },
  {
   "cell_type": "code",
   "execution_count": 7,
   "id": "2fcc9b2e",
   "metadata": {},
   "outputs": [],
   "source": [
    "# df_raw = spark.createDataFrame(data)"
   ]
  },
  {
   "cell_type": "code",
   "execution_count": 8,
   "id": "0910907a",
   "metadata": {},
   "outputs": [],
   "source": [
    "# df_raw.printSchema()"
   ]
  },
  {
   "cell_type": "code",
   "execution_count": 10,
   "id": "8eef31d2",
   "metadata": {},
   "outputs": [],
   "source": [
    "# type(df_raw)"
   ]
  },
  {
   "cell_type": "code",
   "execution_count": null,
   "id": "92961bd6",
   "metadata": {},
   "outputs": [],
   "source": []
  },
  {
   "cell_type": "markdown",
   "id": "9518a7ee",
   "metadata": {},
   "source": [
    "### Method-2 to load the data"
   ]
  },
  {
   "cell_type": "code",
   "execution_count": 11,
   "id": "2817e3a3",
   "metadata": {},
   "outputs": [],
   "source": [
    "df_py =spark.read.option('header','true').csv('Dataset//raw_data.csv',inferSchema=True)"
   ]
  },
  {
   "cell_type": "code",
   "execution_count": 12,
   "id": "9b2665c3",
   "metadata": {},
   "outputs": [
    {
     "name": "stdout",
     "output_type": "stream",
     "text": [
      "+-------------------+--------+---+----------------+-----------------+-----------------------+-------------------+------------------+----------------+-----------+--------------+---------------------+--------------+\n",
      "|               date|store_id|sku|product_category|total_sales_units|on_hand_inventory_units|replenishment_units|inventory_pipeline|units_in_transit|units_in_dc|units_on_order|units_under_promotion|shelf_capacity|\n",
      "+-------------------+--------+---+----------------+-----------------+-----------------------+-------------------+------------------+----------------+-----------+--------------+---------------------+--------------+\n",
      "|2019-01-02 00:00:00|      63| 57|     Category 04|                0|                      8|                  0|                16|               0|          0|             8|                    0|            32|\n",
      "|2019-01-04 00:00:00|      63| 57|     Category 04|                0|                      7|                  0|                14|               0|          8|             0|                    0|            32|\n",
      "|2019-01-05 00:00:00|      63| 57|     Category 04|                3|                      5|                  8|                12|               8|          0|             0|                    0|            32|\n",
      "|2019-01-06 00:00:00|      63| 57|     Category 04|                2|                     11|                  0|                11|               0|          0|             0|                    0|            32|\n",
      "|2019-01-09 00:00:00|      63| 57|     Category 04|                3|                      7|                  0|                14|               0|          0|             8|                    0|            32|\n",
      "|2019-01-10 00:00:00|      63| 57|     Category 04|                2|                      5|                  0|                13|               0|          0|             8|                    0|            32|\n",
      "|2019-01-13 00:00:00|      63| 57|     Category 04|                0|                     13|                  0|                21|               0|          8|             0|                    0|            32|\n",
      "|2019-01-15 00:00:00|      63| 57|     Category 04|                0|                     13|                  0|                13|               0|          0|             0|                    0|            32|\n",
      "|2019-01-16 00:00:00|      63| 57|     Category 04|                0|                     14|                  0|                13|               0|          0|             0|                    0|            32|\n",
      "|2019-01-20 00:00:00|      63| 57|     Category 04|                2|                      6|                  0|                14|               0|          0|             8|                    0|            32|\n",
      "|2019-01-24 00:00:00|      63| 57|     Category 04|                0|                     11|                  0|                10|               0|          0|             0|                    0|            32|\n",
      "|2019-01-25 00:00:00|      63| 57|     Category 04|                3|                      9|                  0|                 8|               0|          0|             0|                    0|            32|\n",
      "|2019-01-30 00:00:00|      63| 57|     Category 04|                4|                      8|                  0|                16|               0|          0|             8|                    0|            32|\n",
      "|2019-01-31 00:00:00|      63| 57|     Category 04|                0|                      9|                  0|                16|               0|          0|             8|                    0|            32|\n",
      "|2019-02-01 00:00:00|      63| 57|     Category 04|                2|                      7|                  0|                15|               0|          0|             8|                    0|            32|\n",
      "|2019-02-02 00:00:00|      63| 57|     Category 04|                0|                      8|                  0|                15|               0|          0|             8|                    0|            32|\n",
      "|2019-02-03 00:00:00|      63| 57|     Category 04|                3|                      5|                  8|                13|               8|          0|             0|                    0|            32|\n",
      "|2019-02-08 00:00:00|      63| 57|     Category 04|                0|                     19|                  8|                19|               0|          0|             0|                    0|            32|\n",
      "|2019-02-09 00:00:00|      63| 57|     Category 04|                5|                     15|                  0|                15|               0|          0|             0|                    0|            32|\n",
      "|2019-02-11 00:00:00|      63| 57|     Category 04|                0|                     13|                  0|                13|               0|          0|             0|                    0|            32|\n",
      "+-------------------+--------+---+----------------+-----------------+-----------------------+-------------------+------------------+----------------+-----------+--------------+---------------------+--------------+\n",
      "only showing top 20 rows\n",
      "\n"
     ]
    }
   ],
   "source": [
    "df_py.show()"
   ]
  },
  {
   "cell_type": "code",
   "execution_count": 13,
   "id": "71aaf51a",
   "metadata": {},
   "outputs": [
    {
     "name": "stdout",
     "output_type": "stream",
     "text": [
      "root\n",
      " |-- date: timestamp (nullable = true)\n",
      " |-- store_id: integer (nullable = true)\n",
      " |-- sku: integer (nullable = true)\n",
      " |-- product_category: string (nullable = true)\n",
      " |-- total_sales_units: integer (nullable = true)\n",
      " |-- on_hand_inventory_units: integer (nullable = true)\n",
      " |-- replenishment_units: integer (nullable = true)\n",
      " |-- inventory_pipeline: integer (nullable = true)\n",
      " |-- units_in_transit: integer (nullable = true)\n",
      " |-- units_in_dc: integer (nullable = true)\n",
      " |-- units_on_order: integer (nullable = true)\n",
      " |-- units_under_promotion: integer (nullable = true)\n",
      " |-- shelf_capacity: integer (nullable = true)\n",
      "\n"
     ]
    }
   ],
   "source": [
    "df_py.printSchema()"
   ]
  },
  {
   "cell_type": "code",
   "execution_count": 14,
   "id": "8e03d9a4",
   "metadata": {},
   "outputs": [],
   "source": [
    "from pyspark.sql.functions import col, to_date\n",
    "\n",
    "df_py = df_py.withColumn('date', to_date(col('date')))"
   ]
  },
  {
   "cell_type": "code",
   "execution_count": 15,
   "id": "130e0dfe",
   "metadata": {},
   "outputs": [
    {
     "name": "stdout",
     "output_type": "stream",
     "text": [
      "+----------+--------+---+----------------+-----------------+-----------------------+-------------------+------------------+----------------+-----------+--------------+---------------------+--------------+\n",
      "|      date|store_id|sku|product_category|total_sales_units|on_hand_inventory_units|replenishment_units|inventory_pipeline|units_in_transit|units_in_dc|units_on_order|units_under_promotion|shelf_capacity|\n",
      "+----------+--------+---+----------------+-----------------+-----------------------+-------------------+------------------+----------------+-----------+--------------+---------------------+--------------+\n",
      "|2019-01-02|      63| 57|     Category 04|                0|                      8|                  0|                16|               0|          0|             8|                    0|            32|\n",
      "|2019-01-04|      63| 57|     Category 04|                0|                      7|                  0|                14|               0|          8|             0|                    0|            32|\n",
      "|2019-01-05|      63| 57|     Category 04|                3|                      5|                  8|                12|               8|          0|             0|                    0|            32|\n",
      "|2019-01-06|      63| 57|     Category 04|                2|                     11|                  0|                11|               0|          0|             0|                    0|            32|\n",
      "|2019-01-09|      63| 57|     Category 04|                3|                      7|                  0|                14|               0|          0|             8|                    0|            32|\n",
      "|2019-01-10|      63| 57|     Category 04|                2|                      5|                  0|                13|               0|          0|             8|                    0|            32|\n",
      "|2019-01-13|      63| 57|     Category 04|                0|                     13|                  0|                21|               0|          8|             0|                    0|            32|\n",
      "|2019-01-15|      63| 57|     Category 04|                0|                     13|                  0|                13|               0|          0|             0|                    0|            32|\n",
      "|2019-01-16|      63| 57|     Category 04|                0|                     14|                  0|                13|               0|          0|             0|                    0|            32|\n",
      "|2019-01-20|      63| 57|     Category 04|                2|                      6|                  0|                14|               0|          0|             8|                    0|            32|\n",
      "|2019-01-24|      63| 57|     Category 04|                0|                     11|                  0|                10|               0|          0|             0|                    0|            32|\n",
      "|2019-01-25|      63| 57|     Category 04|                3|                      9|                  0|                 8|               0|          0|             0|                    0|            32|\n",
      "|2019-01-30|      63| 57|     Category 04|                4|                      8|                  0|                16|               0|          0|             8|                    0|            32|\n",
      "|2019-01-31|      63| 57|     Category 04|                0|                      9|                  0|                16|               0|          0|             8|                    0|            32|\n",
      "|2019-02-01|      63| 57|     Category 04|                2|                      7|                  0|                15|               0|          0|             8|                    0|            32|\n",
      "|2019-02-02|      63| 57|     Category 04|                0|                      8|                  0|                15|               0|          0|             8|                    0|            32|\n",
      "|2019-02-03|      63| 57|     Category 04|                3|                      5|                  8|                13|               8|          0|             0|                    0|            32|\n",
      "|2019-02-08|      63| 57|     Category 04|                0|                     19|                  8|                19|               0|          0|             0|                    0|            32|\n",
      "|2019-02-09|      63| 57|     Category 04|                5|                     15|                  0|                15|               0|          0|             0|                    0|            32|\n",
      "|2019-02-11|      63| 57|     Category 04|                0|                     13|                  0|                13|               0|          0|             0|                    0|            32|\n",
      "+----------+--------+---+----------------+-----------------+-----------------------+-------------------+------------------+----------------+-----------+--------------+---------------------+--------------+\n",
      "only showing top 20 rows\n",
      "\n"
     ]
    }
   ],
   "source": [
    "df_py.show()"
   ]
  },
  {
   "cell_type": "code",
   "execution_count": 17,
   "id": "5c8540a8",
   "metadata": {},
   "outputs": [
    {
     "name": "stdout",
     "output_type": "stream",
     "text": [
      "root\n",
      " |-- date: date (nullable = true)\n",
      " |-- store_id: integer (nullable = true)\n",
      " |-- sku: integer (nullable = true)\n",
      " |-- product_category: string (nullable = true)\n",
      " |-- total_sales_units: integer (nullable = true)\n",
      " |-- on_hand_inventory_units: integer (nullable = true)\n",
      " |-- replenishment_units: integer (nullable = true)\n",
      " |-- inventory_pipeline: integer (nullable = true)\n",
      " |-- units_in_transit: integer (nullable = true)\n",
      " |-- units_in_dc: integer (nullable = true)\n",
      " |-- units_on_order: integer (nullable = true)\n",
      " |-- units_under_promotion: integer (nullable = true)\n",
      " |-- shelf_capacity: integer (nullable = true)\n",
      "\n"
     ]
    }
   ],
   "source": [
    "df_py.printSchema()"
   ]
  },
  {
   "cell_type": "code",
   "execution_count": 18,
   "id": "6c0145fa",
   "metadata": {},
   "outputs": [
    {
     "data": {
      "text/plain": [
       "['date',\n",
       " 'store_id',\n",
       " 'sku',\n",
       " 'product_category',\n",
       " 'total_sales_units',\n",
       " 'on_hand_inventory_units',\n",
       " 'replenishment_units',\n",
       " 'inventory_pipeline',\n",
       " 'units_in_transit',\n",
       " 'units_in_dc',\n",
       " 'units_on_order',\n",
       " 'units_under_promotion',\n",
       " 'shelf_capacity']"
      ]
     },
     "execution_count": 18,
     "metadata": {},
     "output_type": "execute_result"
    }
   ],
   "source": [
    "df_py.columns"
   ]
  },
  {
   "cell_type": "code",
   "execution_count": 19,
   "id": "8e90eb70",
   "metadata": {},
   "outputs": [
    {
     "data": {
      "text/plain": [
       "[Row(date=datetime.date(2019, 1, 2), store_id=63, sku=57, product_category='Category 04', total_sales_units=0, on_hand_inventory_units=8, replenishment_units=0, inventory_pipeline=16, units_in_transit=0, units_in_dc=0, units_on_order=8, units_under_promotion=0, shelf_capacity=32),\n",
       " Row(date=datetime.date(2019, 1, 4), store_id=63, sku=57, product_category='Category 04', total_sales_units=0, on_hand_inventory_units=7, replenishment_units=0, inventory_pipeline=14, units_in_transit=0, units_in_dc=8, units_on_order=0, units_under_promotion=0, shelf_capacity=32),\n",
       " Row(date=datetime.date(2019, 1, 5), store_id=63, sku=57, product_category='Category 04', total_sales_units=3, on_hand_inventory_units=5, replenishment_units=8, inventory_pipeline=12, units_in_transit=8, units_in_dc=0, units_on_order=0, units_under_promotion=0, shelf_capacity=32),\n",
       " Row(date=datetime.date(2019, 1, 6), store_id=63, sku=57, product_category='Category 04', total_sales_units=2, on_hand_inventory_units=11, replenishment_units=0, inventory_pipeline=11, units_in_transit=0, units_in_dc=0, units_on_order=0, units_under_promotion=0, shelf_capacity=32),\n",
       " Row(date=datetime.date(2019, 1, 9), store_id=63, sku=57, product_category='Category 04', total_sales_units=3, on_hand_inventory_units=7, replenishment_units=0, inventory_pipeline=14, units_in_transit=0, units_in_dc=0, units_on_order=8, units_under_promotion=0, shelf_capacity=32)]"
      ]
     },
     "execution_count": 19,
     "metadata": {},
     "output_type": "execute_result"
    }
   ],
   "source": [
    "df_py.head(5)"
   ]
  },
  {
   "cell_type": "code",
   "execution_count": 20,
   "id": "c9be4d3b",
   "metadata": {},
   "outputs": [
    {
     "name": "stdout",
     "output_type": "stream",
     "text": [
      "+-------+------------------+-----------------+----------------+-----------------+-----------------------+-------------------+------------------+------------------+------------------+------------------+---------------------+------------------+\n",
      "|summary|          store_id|              sku|product_category|total_sales_units|on_hand_inventory_units|replenishment_units|inventory_pipeline|  units_in_transit|       units_in_dc|    units_on_order|units_under_promotion|    shelf_capacity|\n",
      "+-------+------------------+-----------------+----------------+-----------------+-----------------------+-------------------+------------------+------------------+------------------+------------------+---------------------+------------------+\n",
      "|  count|             40590|            40590|           40590|            40590|                  40590|              40590|             40590|             40590|             40590|             40590|                40590|             40590|\n",
      "|   mean|1008.5005666420301|72.42663217541266|            null|5.043828529194383|      55.36040896772604|  3.485858585858586| 74.21978319783197|3.1397634885439762| 5.251810790835181|11.708844542990885|                  0.0|43.920867208672085|\n",
      "| stddev| 564.6958448261672|33.71171694436134|            null|10.06183918459504|      85.19068998016822|   16.8970819820305|103.69555295874301|15.695134189458177|26.455813264398337| 38.70674558975932|                  0.0| 42.79805605222744|\n",
      "|    min|                63|                1|     Category 01|                0|                   -153|                  0|              -153|                 0|                 0|                 0|                    0|                 0|\n",
      "|    max|              1937|              155|     Category 10|              579|                   2008|               1140|              2425|               684|              2400|              1152|                    0|               220|\n",
      "+-------+------------------+-----------------+----------------+-----------------+-----------------------+-------------------+------------------+------------------+------------------+------------------+---------------------+------------------+\n",
      "\n"
     ]
    }
   ],
   "source": [
    "df_py.describe().show()"
   ]
  },
  {
   "cell_type": "code",
   "execution_count": 21,
   "id": "af6bee98",
   "metadata": {},
   "outputs": [
    {
     "data": {
      "text/plain": [
       "40590"
      ]
     },
     "execution_count": 21,
     "metadata": {},
     "output_type": "execute_result"
    }
   ],
   "source": [
    "df_py.count()"
   ]
  },
  {
   "cell_type": "markdown",
   "id": "8cd0b3a0",
   "metadata": {},
   "source": [
    "#### Leading Vendor data"
   ]
  },
  {
   "cell_type": "code",
   "execution_count": 22,
   "id": "48e01a59",
   "metadata": {},
   "outputs": [],
   "source": [
    "df_vendor =spark.read.csv('Dataset//Vendor_data.csv' ,header=True,inferSchema=True)"
   ]
  },
  {
   "cell_type": "code",
   "execution_count": 23,
   "id": "b07291f1",
   "metadata": {},
   "outputs": [
    {
     "name": "stdout",
     "output_type": "stream",
     "text": [
      "+---+---------+-------------+--------+-------+---------------+--------------------+------------------+\n",
      "|key|vendor_id|sub_vendor_id|store_id|item_id|LEAD_TIME_IN_DC|LEAD_TIME_IN_TRANSIT|LEAD_TIME_ON_ORDER|\n",
      "+---+---------+-------------+--------+-------+---------------+--------------------+------------------+\n",
      "|  1|        1|         1001|    1763|      1|              4|                   3|                 7|\n",
      "|  2|        1|         1001|    1763|      2|              2|                   1|                 7|\n",
      "|  3|        1|         1002|    1843|      2|              2|                   1|                 7|\n",
      "|  4|        1|         1001|    1763|      3|              4|                   3|                 7|\n",
      "|  5|        2|         2016|     486|      6|              2|                   1|                 8|\n",
      "|  6|        2|         2073|    1587|      7|              3|                   2|                 9|\n",
      "|  7|        2|         2087|    1556|      8|              4|                   3|                 7|\n",
      "|  8|        8|         8010|    1283|     39|              3|                   2|                 6|\n",
      "|  9|       10|        10001|    1763|     46|              2|                   1|                 5|\n",
      "| 10|       11|        11001|     334|     52|              4|                   3|                 8|\n",
      "| 11|       12|        12006|      63|     57|              4|                   3|                10|\n",
      "| 12|       13|        13091|      98|     64|              3|                   2|                 9|\n",
      "| 13|       13|       130153|     171|     64|              3|                   2|                 7|\n",
      "| 14|       13|       130160|     178|     64|              2|                   1|                 6|\n",
      "| 15|       13|       130185|     206|     64|              4|                   3|                 8|\n",
      "| 16|       13|       130188|     209|     64|              2|                   1|                 5|\n",
      "| 17|       13|       130208|     232|     64|              2|                   1|                 5|\n",
      "| 18|       13|       130223|     249|     64|              4|                   3|                 9|\n",
      "| 19|       13|       130244|     274|     64|              4|                   3|                10|\n",
      "| 20|       13|       130297|     337|     64|              3|                   2|                 8|\n",
      "+---+---------+-------------+--------+-------+---------------+--------------------+------------------+\n",
      "only showing top 20 rows\n",
      "\n"
     ]
    }
   ],
   "source": [
    "df_vendor.show()"
   ]
  },
  {
   "cell_type": "code",
   "execution_count": 24,
   "id": "686f61ab",
   "metadata": {},
   "outputs": [
    {
     "data": {
      "text/plain": [
       "100"
      ]
     },
     "execution_count": 24,
     "metadata": {},
     "output_type": "execute_result"
    }
   ],
   "source": [
    "df_vendor.count()"
   ]
  },
  {
   "cell_type": "markdown",
   "id": "68bdfd2a",
   "metadata": {},
   "source": [
    "### Address Missing Records\n",
    "\n",
    "'''\n",
    "The inventory data contains records for products in specific stores when an inventory-related transaction occurs. Since not every product moves on every date, there will be days for which there is no data for certain store and product SKU combinations.\n",
    "\n",
    "Time series analysis techniques used in our framework require a complete set of records for products within a given location. To address the missing entries, we will generate a list of all dates for which we expect records. A cross-join with store-SKU combinations will provide the base set of records for which we expect data.\n",
    "\n",
    "In the real world, not all products are intended to be sold at each location at all times. In an analysis of non-simulated data, we may require additional information to determine the complete set of dates for a given store-SKU combination for which we should have data:\n",
    "'''\n",
    "\n",
    "Cross-Join: The CROSS JOIN keyword returns all records from both tables (table1 and table2).\n",
    "\n",
    "![title](Dataset/sql-cross-join-working-principle.png)"
   ]
  },
  {
   "cell_type": "code",
   "execution_count": 25,
   "id": "02cbe785",
   "metadata": {},
   "outputs": [
    {
     "data": {
      "text/plain": [
       "DataFrame[date: date, store_id: int, sku: int, product_category: string, total_sales_units: int, on_hand_inventory_units: int, replenishment_units: int, inventory_pipeline: int, units_in_transit: int, units_in_dc: int, units_on_order: int, units_under_promotion: int, shelf_capacity: int]"
      ]
     },
     "metadata": {},
     "output_type": "display_data"
    }
   ],
   "source": [
    "display(df_py)"
   ]
  },
  {
   "cell_type": "code",
   "execution_count": 26,
   "id": "efc69759",
   "metadata": {},
   "outputs": [],
   "source": [
    "from pyspark.sql.types import *\n",
    "import pyspark.sql.functions as f\n",
    " \n",
    "import pandas as pd"
   ]
  },
  {
   "cell_type": "code",
   "execution_count": 42,
   "id": "debd4198",
   "metadata": {},
   "outputs": [],
   "source": [
    "## Assemble Complete Set of Dates\n",
    "# calculate start and end of inventory dataset\n",
    "\n",
    "start_date, end_date = df_py.groupby().agg(f.min('date').alias('start_date'), f.max('date').alias('end_date')).collect()[0]\n"
   ]
  },
  {
   "cell_type": "code",
   "execution_count": 43,
   "id": "140fce3e",
   "metadata": {},
   "outputs": [
    {
     "data": {
      "text/plain": [
       "(datetime.date(2019, 1, 1), datetime.date(2021, 5, 3))"
      ]
     },
     "execution_count": 43,
     "metadata": {},
     "output_type": "execute_result"
    }
   ],
   "source": [
    "start_date, end_date"
   ]
  },
  {
   "cell_type": "code",
   "execution_count": 44,
   "id": "caa0c8ce",
   "metadata": {},
   "outputs": [],
   "source": [
    "# from datetime import timedelta\n",
    "\n",
    "# start_date, end_date\n",
    "\n",
    "# # generate contiguous set of dates within start and end range. \n",
    "\n",
    "# days = (end_date - start_date).days + 1  # Calculate number of days in range\n",
    "# date_range = [start_date + timedelta(days=i) for i in range(days)]  # Generate date range\n",
    "# # dates = spark.createDataFrame(date_range, ['date'])  # Convert list of dates to PySpark DataFrame\n"
   ]
  },
  {
   "cell_type": "code",
   "execution_count": 45,
   "id": "fd47fee1",
   "metadata": {},
   "outputs": [
    {
     "data": {
      "text/plain": [
       "[datetime.date(2019, 1, 1),\n",
       " datetime.date(2019, 1, 2),\n",
       " datetime.date(2019, 1, 3),\n",
       " datetime.date(2019, 1, 4),\n",
       " datetime.date(2019, 1, 5),\n",
       " datetime.date(2019, 1, 6),\n",
       " datetime.date(2019, 1, 7),\n",
       " datetime.date(2019, 1, 8),\n",
       " datetime.date(2019, 1, 9),\n",
       " datetime.date(2019, 1, 10),\n",
       " datetime.date(2019, 1, 11),\n",
       " datetime.date(2019, 1, 12),\n",
       " datetime.date(2019, 1, 13),\n",
       " datetime.date(2019, 1, 14),\n",
       " datetime.date(2019, 1, 15),\n",
       " datetime.date(2019, 1, 16),\n",
       " datetime.date(2019, 1, 17),\n",
       " datetime.date(2019, 1, 18),\n",
       " datetime.date(2019, 1, 19),\n",
       " datetime.date(2019, 1, 20),\n",
       " datetime.date(2019, 1, 21),\n",
       " datetime.date(2019, 1, 22),\n",
       " datetime.date(2019, 1, 23),\n",
       " datetime.date(2019, 1, 24),\n",
       " datetime.date(2019, 1, 25),\n",
       " datetime.date(2019, 1, 26),\n",
       " datetime.date(2019, 1, 27),\n",
       " datetime.date(2019, 1, 28),\n",
       " datetime.date(2019, 1, 29),\n",
       " datetime.date(2019, 1, 30),\n",
       " datetime.date(2019, 1, 31),\n",
       " datetime.date(2019, 2, 1),\n",
       " datetime.date(2019, 2, 2),\n",
       " datetime.date(2019, 2, 3),\n",
       " datetime.date(2019, 2, 4),\n",
       " datetime.date(2019, 2, 5),\n",
       " datetime.date(2019, 2, 6),\n",
       " datetime.date(2019, 2, 7),\n",
       " datetime.date(2019, 2, 8),\n",
       " datetime.date(2019, 2, 9),\n",
       " datetime.date(2019, 2, 10),\n",
       " datetime.date(2019, 2, 11),\n",
       " datetime.date(2019, 2, 12),\n",
       " datetime.date(2019, 2, 13),\n",
       " datetime.date(2019, 2, 14),\n",
       " datetime.date(2019, 2, 15),\n",
       " datetime.date(2019, 2, 16),\n",
       " datetime.date(2019, 2, 17),\n",
       " datetime.date(2019, 2, 18),\n",
       " datetime.date(2019, 2, 19),\n",
       " datetime.date(2019, 2, 20),\n",
       " datetime.date(2019, 2, 21),\n",
       " datetime.date(2019, 2, 22),\n",
       " datetime.date(2019, 2, 23),\n",
       " datetime.date(2019, 2, 24),\n",
       " datetime.date(2019, 2, 25),\n",
       " datetime.date(2019, 2, 26),\n",
       " datetime.date(2019, 2, 27),\n",
       " datetime.date(2019, 2, 28),\n",
       " datetime.date(2019, 3, 1),\n",
       " datetime.date(2019, 3, 2),\n",
       " datetime.date(2019, 3, 3),\n",
       " datetime.date(2019, 3, 4),\n",
       " datetime.date(2019, 3, 5),\n",
       " datetime.date(2019, 3, 6),\n",
       " datetime.date(2019, 3, 7),\n",
       " datetime.date(2019, 3, 8),\n",
       " datetime.date(2019, 3, 9),\n",
       " datetime.date(2019, 3, 10),\n",
       " datetime.date(2019, 3, 11),\n",
       " datetime.date(2019, 3, 12),\n",
       " datetime.date(2019, 3, 13),\n",
       " datetime.date(2019, 3, 14),\n",
       " datetime.date(2019, 3, 15),\n",
       " datetime.date(2019, 3, 16),\n",
       " datetime.date(2019, 3, 17),\n",
       " datetime.date(2019, 3, 18),\n",
       " datetime.date(2019, 3, 19),\n",
       " datetime.date(2019, 3, 20),\n",
       " datetime.date(2019, 3, 21),\n",
       " datetime.date(2019, 3, 22),\n",
       " datetime.date(2019, 3, 23),\n",
       " datetime.date(2019, 3, 24),\n",
       " datetime.date(2019, 3, 25),\n",
       " datetime.date(2019, 3, 26),\n",
       " datetime.date(2019, 3, 27),\n",
       " datetime.date(2019, 3, 28),\n",
       " datetime.date(2019, 3, 29),\n",
       " datetime.date(2019, 3, 30),\n",
       " datetime.date(2019, 3, 31),\n",
       " datetime.date(2019, 4, 1),\n",
       " datetime.date(2019, 4, 2),\n",
       " datetime.date(2019, 4, 3),\n",
       " datetime.date(2019, 4, 4),\n",
       " datetime.date(2019, 4, 5),\n",
       " datetime.date(2019, 4, 6),\n",
       " datetime.date(2019, 4, 7),\n",
       " datetime.date(2019, 4, 8),\n",
       " datetime.date(2019, 4, 9),\n",
       " datetime.date(2019, 4, 10),\n",
       " datetime.date(2019, 4, 11),\n",
       " datetime.date(2019, 4, 12),\n",
       " datetime.date(2019, 4, 13),\n",
       " datetime.date(2019, 4, 14),\n",
       " datetime.date(2019, 4, 15),\n",
       " datetime.date(2019, 4, 16),\n",
       " datetime.date(2019, 4, 17),\n",
       " datetime.date(2019, 4, 18),\n",
       " datetime.date(2019, 4, 19),\n",
       " datetime.date(2019, 4, 20),\n",
       " datetime.date(2019, 4, 21),\n",
       " datetime.date(2019, 4, 22),\n",
       " datetime.date(2019, 4, 23),\n",
       " datetime.date(2019, 4, 24),\n",
       " datetime.date(2019, 4, 25),\n",
       " datetime.date(2019, 4, 26),\n",
       " datetime.date(2019, 4, 27),\n",
       " datetime.date(2019, 4, 28),\n",
       " datetime.date(2019, 4, 29),\n",
       " datetime.date(2019, 4, 30),\n",
       " datetime.date(2019, 5, 1),\n",
       " datetime.date(2019, 5, 2),\n",
       " datetime.date(2019, 5, 3),\n",
       " datetime.date(2019, 5, 4),\n",
       " datetime.date(2019, 5, 5),\n",
       " datetime.date(2019, 5, 6),\n",
       " datetime.date(2019, 5, 7),\n",
       " datetime.date(2019, 5, 8),\n",
       " datetime.date(2019, 5, 9),\n",
       " datetime.date(2019, 5, 10),\n",
       " datetime.date(2019, 5, 11),\n",
       " datetime.date(2019, 5, 12),\n",
       " datetime.date(2019, 5, 13),\n",
       " datetime.date(2019, 5, 14),\n",
       " datetime.date(2019, 5, 15),\n",
       " datetime.date(2019, 5, 16),\n",
       " datetime.date(2019, 5, 17),\n",
       " datetime.date(2019, 5, 18),\n",
       " datetime.date(2019, 5, 19),\n",
       " datetime.date(2019, 5, 20),\n",
       " datetime.date(2019, 5, 21),\n",
       " datetime.date(2019, 5, 22),\n",
       " datetime.date(2019, 5, 23),\n",
       " datetime.date(2019, 5, 24),\n",
       " datetime.date(2019, 5, 25),\n",
       " datetime.date(2019, 5, 26),\n",
       " datetime.date(2019, 5, 27),\n",
       " datetime.date(2019, 5, 28),\n",
       " datetime.date(2019, 5, 29),\n",
       " datetime.date(2019, 5, 30),\n",
       " datetime.date(2019, 5, 31),\n",
       " datetime.date(2019, 6, 1),\n",
       " datetime.date(2019, 6, 2),\n",
       " datetime.date(2019, 6, 3),\n",
       " datetime.date(2019, 6, 4),\n",
       " datetime.date(2019, 6, 5),\n",
       " datetime.date(2019, 6, 6),\n",
       " datetime.date(2019, 6, 7),\n",
       " datetime.date(2019, 6, 8),\n",
       " datetime.date(2019, 6, 9),\n",
       " datetime.date(2019, 6, 10),\n",
       " datetime.date(2019, 6, 11),\n",
       " datetime.date(2019, 6, 12),\n",
       " datetime.date(2019, 6, 13),\n",
       " datetime.date(2019, 6, 14),\n",
       " datetime.date(2019, 6, 15),\n",
       " datetime.date(2019, 6, 16),\n",
       " datetime.date(2019, 6, 17),\n",
       " datetime.date(2019, 6, 18),\n",
       " datetime.date(2019, 6, 19),\n",
       " datetime.date(2019, 6, 20),\n",
       " datetime.date(2019, 6, 21),\n",
       " datetime.date(2019, 6, 22),\n",
       " datetime.date(2019, 6, 23),\n",
       " datetime.date(2019, 6, 24),\n",
       " datetime.date(2019, 6, 25),\n",
       " datetime.date(2019, 6, 26),\n",
       " datetime.date(2019, 6, 27),\n",
       " datetime.date(2019, 6, 28),\n",
       " datetime.date(2019, 6, 29),\n",
       " datetime.date(2019, 6, 30),\n",
       " datetime.date(2019, 7, 1),\n",
       " datetime.date(2019, 7, 2),\n",
       " datetime.date(2019, 7, 3),\n",
       " datetime.date(2019, 7, 4),\n",
       " datetime.date(2019, 7, 5),\n",
       " datetime.date(2019, 7, 6),\n",
       " datetime.date(2019, 7, 7),\n",
       " datetime.date(2019, 7, 8),\n",
       " datetime.date(2019, 7, 9),\n",
       " datetime.date(2019, 7, 10),\n",
       " datetime.date(2019, 7, 11),\n",
       " datetime.date(2019, 7, 12),\n",
       " datetime.date(2019, 7, 13),\n",
       " datetime.date(2019, 7, 14),\n",
       " datetime.date(2019, 7, 15),\n",
       " datetime.date(2019, 7, 16),\n",
       " datetime.date(2019, 7, 17),\n",
       " datetime.date(2019, 7, 18),\n",
       " datetime.date(2019, 7, 19),\n",
       " datetime.date(2019, 7, 20),\n",
       " datetime.date(2019, 7, 21),\n",
       " datetime.date(2019, 7, 22),\n",
       " datetime.date(2019, 7, 23),\n",
       " datetime.date(2019, 7, 24),\n",
       " datetime.date(2019, 7, 25),\n",
       " datetime.date(2019, 7, 26),\n",
       " datetime.date(2019, 7, 27),\n",
       " datetime.date(2019, 7, 28),\n",
       " datetime.date(2019, 7, 29),\n",
       " datetime.date(2019, 7, 30),\n",
       " datetime.date(2019, 7, 31),\n",
       " datetime.date(2019, 8, 1),\n",
       " datetime.date(2019, 8, 2),\n",
       " datetime.date(2019, 8, 3),\n",
       " datetime.date(2019, 8, 4),\n",
       " datetime.date(2019, 8, 5),\n",
       " datetime.date(2019, 8, 6),\n",
       " datetime.date(2019, 8, 7),\n",
       " datetime.date(2019, 8, 8),\n",
       " datetime.date(2019, 8, 9),\n",
       " datetime.date(2019, 8, 10),\n",
       " datetime.date(2019, 8, 11),\n",
       " datetime.date(2019, 8, 12),\n",
       " datetime.date(2019, 8, 13),\n",
       " datetime.date(2019, 8, 14),\n",
       " datetime.date(2019, 8, 15),\n",
       " datetime.date(2019, 8, 16),\n",
       " datetime.date(2019, 8, 17),\n",
       " datetime.date(2019, 8, 18),\n",
       " datetime.date(2019, 8, 19),\n",
       " datetime.date(2019, 8, 20),\n",
       " datetime.date(2019, 8, 21),\n",
       " datetime.date(2019, 8, 22),\n",
       " datetime.date(2019, 8, 23),\n",
       " datetime.date(2019, 8, 24),\n",
       " datetime.date(2019, 8, 25),\n",
       " datetime.date(2019, 8, 26),\n",
       " datetime.date(2019, 8, 27),\n",
       " datetime.date(2019, 8, 28),\n",
       " datetime.date(2019, 8, 29),\n",
       " datetime.date(2019, 8, 30),\n",
       " datetime.date(2019, 8, 31),\n",
       " datetime.date(2019, 9, 1),\n",
       " datetime.date(2019, 9, 2),\n",
       " datetime.date(2019, 9, 3),\n",
       " datetime.date(2019, 9, 4),\n",
       " datetime.date(2019, 9, 5),\n",
       " datetime.date(2019, 9, 6),\n",
       " datetime.date(2019, 9, 7),\n",
       " datetime.date(2019, 9, 8),\n",
       " datetime.date(2019, 9, 9),\n",
       " datetime.date(2019, 9, 10),\n",
       " datetime.date(2019, 9, 11),\n",
       " datetime.date(2019, 9, 12),\n",
       " datetime.date(2019, 9, 13),\n",
       " datetime.date(2019, 9, 14),\n",
       " datetime.date(2019, 9, 15),\n",
       " datetime.date(2019, 9, 16),\n",
       " datetime.date(2019, 9, 17),\n",
       " datetime.date(2019, 9, 18),\n",
       " datetime.date(2019, 9, 19),\n",
       " datetime.date(2019, 9, 20),\n",
       " datetime.date(2019, 9, 21),\n",
       " datetime.date(2019, 9, 22),\n",
       " datetime.date(2019, 9, 23),\n",
       " datetime.date(2019, 9, 24),\n",
       " datetime.date(2019, 9, 25),\n",
       " datetime.date(2019, 9, 26),\n",
       " datetime.date(2019, 9, 27),\n",
       " datetime.date(2019, 9, 28),\n",
       " datetime.date(2019, 9, 29),\n",
       " datetime.date(2019, 9, 30),\n",
       " datetime.date(2019, 10, 1),\n",
       " datetime.date(2019, 10, 2),\n",
       " datetime.date(2019, 10, 3),\n",
       " datetime.date(2019, 10, 4),\n",
       " datetime.date(2019, 10, 5),\n",
       " datetime.date(2019, 10, 6),\n",
       " datetime.date(2019, 10, 7),\n",
       " datetime.date(2019, 10, 8),\n",
       " datetime.date(2019, 10, 9),\n",
       " datetime.date(2019, 10, 10),\n",
       " datetime.date(2019, 10, 11),\n",
       " datetime.date(2019, 10, 12),\n",
       " datetime.date(2019, 10, 13),\n",
       " datetime.date(2019, 10, 14),\n",
       " datetime.date(2019, 10, 15),\n",
       " datetime.date(2019, 10, 16),\n",
       " datetime.date(2019, 10, 17),\n",
       " datetime.date(2019, 10, 18),\n",
       " datetime.date(2019, 10, 19),\n",
       " datetime.date(2019, 10, 20),\n",
       " datetime.date(2019, 10, 21),\n",
       " datetime.date(2019, 10, 22),\n",
       " datetime.date(2019, 10, 23),\n",
       " datetime.date(2019, 10, 24),\n",
       " datetime.date(2019, 10, 25),\n",
       " datetime.date(2019, 10, 26),\n",
       " datetime.date(2019, 10, 27),\n",
       " datetime.date(2019, 10, 28),\n",
       " datetime.date(2019, 10, 29),\n",
       " datetime.date(2019, 10, 30),\n",
       " datetime.date(2019, 10, 31),\n",
       " datetime.date(2019, 11, 1),\n",
       " datetime.date(2019, 11, 2),\n",
       " datetime.date(2019, 11, 3),\n",
       " datetime.date(2019, 11, 4),\n",
       " datetime.date(2019, 11, 5),\n",
       " datetime.date(2019, 11, 6),\n",
       " datetime.date(2019, 11, 7),\n",
       " datetime.date(2019, 11, 8),\n",
       " datetime.date(2019, 11, 9),\n",
       " datetime.date(2019, 11, 10),\n",
       " datetime.date(2019, 11, 11),\n",
       " datetime.date(2019, 11, 12),\n",
       " datetime.date(2019, 11, 13),\n",
       " datetime.date(2019, 11, 14),\n",
       " datetime.date(2019, 11, 15),\n",
       " datetime.date(2019, 11, 16),\n",
       " datetime.date(2019, 11, 17),\n",
       " datetime.date(2019, 11, 18),\n",
       " datetime.date(2019, 11, 19),\n",
       " datetime.date(2019, 11, 20),\n",
       " datetime.date(2019, 11, 21),\n",
       " datetime.date(2019, 11, 22),\n",
       " datetime.date(2019, 11, 23),\n",
       " datetime.date(2019, 11, 24),\n",
       " datetime.date(2019, 11, 25),\n",
       " datetime.date(2019, 11, 26),\n",
       " datetime.date(2019, 11, 27),\n",
       " datetime.date(2019, 11, 28),\n",
       " datetime.date(2019, 11, 29),\n",
       " datetime.date(2019, 11, 30),\n",
       " datetime.date(2019, 12, 1),\n",
       " datetime.date(2019, 12, 2),\n",
       " datetime.date(2019, 12, 3),\n",
       " datetime.date(2019, 12, 4),\n",
       " datetime.date(2019, 12, 5),\n",
       " datetime.date(2019, 12, 6),\n",
       " datetime.date(2019, 12, 7),\n",
       " datetime.date(2019, 12, 8),\n",
       " datetime.date(2019, 12, 9),\n",
       " datetime.date(2019, 12, 10),\n",
       " datetime.date(2019, 12, 11),\n",
       " datetime.date(2019, 12, 12),\n",
       " datetime.date(2019, 12, 13),\n",
       " datetime.date(2019, 12, 14),\n",
       " datetime.date(2019, 12, 15),\n",
       " datetime.date(2019, 12, 16),\n",
       " datetime.date(2019, 12, 17),\n",
       " datetime.date(2019, 12, 18),\n",
       " datetime.date(2019, 12, 19),\n",
       " datetime.date(2019, 12, 20),\n",
       " datetime.date(2019, 12, 21),\n",
       " datetime.date(2019, 12, 22),\n",
       " datetime.date(2019, 12, 23),\n",
       " datetime.date(2019, 12, 24),\n",
       " datetime.date(2019, 12, 25),\n",
       " datetime.date(2019, 12, 26),\n",
       " datetime.date(2019, 12, 27),\n",
       " datetime.date(2019, 12, 28),\n",
       " datetime.date(2019, 12, 29),\n",
       " datetime.date(2019, 12, 30),\n",
       " datetime.date(2019, 12, 31),\n",
       " datetime.date(2020, 1, 1),\n",
       " datetime.date(2020, 1, 2),\n",
       " datetime.date(2020, 1, 3),\n",
       " datetime.date(2020, 1, 4),\n",
       " datetime.date(2020, 1, 5),\n",
       " datetime.date(2020, 1, 6),\n",
       " datetime.date(2020, 1, 7),\n",
       " datetime.date(2020, 1, 8),\n",
       " datetime.date(2020, 1, 9),\n",
       " datetime.date(2020, 1, 10),\n",
       " datetime.date(2020, 1, 11),\n",
       " datetime.date(2020, 1, 12),\n",
       " datetime.date(2020, 1, 13),\n",
       " datetime.date(2020, 1, 14),\n",
       " datetime.date(2020, 1, 15),\n",
       " datetime.date(2020, 1, 16),\n",
       " datetime.date(2020, 1, 17),\n",
       " datetime.date(2020, 1, 18),\n",
       " datetime.date(2020, 1, 19),\n",
       " datetime.date(2020, 1, 20),\n",
       " datetime.date(2020, 1, 21),\n",
       " datetime.date(2020, 1, 22),\n",
       " datetime.date(2020, 1, 23),\n",
       " datetime.date(2020, 1, 24),\n",
       " datetime.date(2020, 1, 25),\n",
       " datetime.date(2020, 1, 26),\n",
       " datetime.date(2020, 1, 27),\n",
       " datetime.date(2020, 1, 28),\n",
       " datetime.date(2020, 1, 29),\n",
       " datetime.date(2020, 1, 30),\n",
       " datetime.date(2020, 1, 31),\n",
       " datetime.date(2020, 2, 1),\n",
       " datetime.date(2020, 2, 2),\n",
       " datetime.date(2020, 2, 3),\n",
       " datetime.date(2020, 2, 4),\n",
       " datetime.date(2020, 2, 5),\n",
       " datetime.date(2020, 2, 6),\n",
       " datetime.date(2020, 2, 7),\n",
       " datetime.date(2020, 2, 8),\n",
       " datetime.date(2020, 2, 9),\n",
       " datetime.date(2020, 2, 10),\n",
       " datetime.date(2020, 2, 11),\n",
       " datetime.date(2020, 2, 12),\n",
       " datetime.date(2020, 2, 13),\n",
       " datetime.date(2020, 2, 14),\n",
       " datetime.date(2020, 2, 15),\n",
       " datetime.date(2020, 2, 16),\n",
       " datetime.date(2020, 2, 17),\n",
       " datetime.date(2020, 2, 18),\n",
       " datetime.date(2020, 2, 19),\n",
       " datetime.date(2020, 2, 20),\n",
       " datetime.date(2020, 2, 21),\n",
       " datetime.date(2020, 2, 22),\n",
       " datetime.date(2020, 2, 23),\n",
       " datetime.date(2020, 2, 24),\n",
       " datetime.date(2020, 2, 25),\n",
       " datetime.date(2020, 2, 26),\n",
       " datetime.date(2020, 2, 27),\n",
       " datetime.date(2020, 2, 28),\n",
       " datetime.date(2020, 2, 29),\n",
       " datetime.date(2020, 3, 1),\n",
       " datetime.date(2020, 3, 2),\n",
       " datetime.date(2020, 3, 3),\n",
       " datetime.date(2020, 3, 4),\n",
       " datetime.date(2020, 3, 5),\n",
       " datetime.date(2020, 3, 6),\n",
       " datetime.date(2020, 3, 7),\n",
       " datetime.date(2020, 3, 8),\n",
       " datetime.date(2020, 3, 9),\n",
       " datetime.date(2020, 3, 10),\n",
       " datetime.date(2020, 3, 11),\n",
       " datetime.date(2020, 3, 12),\n",
       " datetime.date(2020, 3, 13),\n",
       " datetime.date(2020, 3, 14),\n",
       " datetime.date(2020, 3, 15),\n",
       " datetime.date(2020, 3, 16),\n",
       " datetime.date(2020, 3, 17),\n",
       " datetime.date(2020, 3, 18),\n",
       " datetime.date(2020, 3, 19),\n",
       " datetime.date(2020, 3, 20),\n",
       " datetime.date(2020, 3, 21),\n",
       " datetime.date(2020, 3, 22),\n",
       " datetime.date(2020, 3, 23),\n",
       " datetime.date(2020, 3, 24),\n",
       " datetime.date(2020, 3, 25),\n",
       " datetime.date(2020, 3, 26),\n",
       " datetime.date(2020, 3, 27),\n",
       " datetime.date(2020, 3, 28),\n",
       " datetime.date(2020, 3, 29),\n",
       " datetime.date(2020, 3, 30),\n",
       " datetime.date(2020, 3, 31),\n",
       " datetime.date(2020, 4, 1),\n",
       " datetime.date(2020, 4, 2),\n",
       " datetime.date(2020, 4, 3),\n",
       " datetime.date(2020, 4, 4),\n",
       " datetime.date(2020, 4, 5),\n",
       " datetime.date(2020, 4, 6),\n",
       " datetime.date(2020, 4, 7),\n",
       " datetime.date(2020, 4, 8),\n",
       " datetime.date(2020, 4, 9),\n",
       " datetime.date(2020, 4, 10),\n",
       " datetime.date(2020, 4, 11),\n",
       " datetime.date(2020, 4, 12),\n",
       " datetime.date(2020, 4, 13),\n",
       " datetime.date(2020, 4, 14),\n",
       " datetime.date(2020, 4, 15),\n",
       " datetime.date(2020, 4, 16),\n",
       " datetime.date(2020, 4, 17),\n",
       " datetime.date(2020, 4, 18),\n",
       " datetime.date(2020, 4, 19),\n",
       " datetime.date(2020, 4, 20),\n",
       " datetime.date(2020, 4, 21),\n",
       " datetime.date(2020, 4, 22),\n",
       " datetime.date(2020, 4, 23),\n",
       " datetime.date(2020, 4, 24),\n",
       " datetime.date(2020, 4, 25),\n",
       " datetime.date(2020, 4, 26),\n",
       " datetime.date(2020, 4, 27),\n",
       " datetime.date(2020, 4, 28),\n",
       " datetime.date(2020, 4, 29),\n",
       " datetime.date(2020, 4, 30),\n",
       " datetime.date(2020, 5, 1),\n",
       " datetime.date(2020, 5, 2),\n",
       " datetime.date(2020, 5, 3),\n",
       " datetime.date(2020, 5, 4),\n",
       " datetime.date(2020, 5, 5),\n",
       " datetime.date(2020, 5, 6),\n",
       " datetime.date(2020, 5, 7),\n",
       " datetime.date(2020, 5, 8),\n",
       " datetime.date(2020, 5, 9),\n",
       " datetime.date(2020, 5, 10),\n",
       " datetime.date(2020, 5, 11),\n",
       " datetime.date(2020, 5, 12),\n",
       " datetime.date(2020, 5, 13),\n",
       " datetime.date(2020, 5, 14),\n",
       " datetime.date(2020, 5, 15),\n",
       " datetime.date(2020, 5, 16),\n",
       " datetime.date(2020, 5, 17),\n",
       " datetime.date(2020, 5, 18),\n",
       " datetime.date(2020, 5, 19),\n",
       " datetime.date(2020, 5, 20),\n",
       " datetime.date(2020, 5, 21),\n",
       " datetime.date(2020, 5, 22),\n",
       " datetime.date(2020, 5, 23),\n",
       " datetime.date(2020, 5, 24),\n",
       " datetime.date(2020, 5, 25),\n",
       " datetime.date(2020, 5, 26),\n",
       " datetime.date(2020, 5, 27),\n",
       " datetime.date(2020, 5, 28),\n",
       " datetime.date(2020, 5, 29),\n",
       " datetime.date(2020, 5, 30),\n",
       " datetime.date(2020, 5, 31),\n",
       " datetime.date(2020, 6, 1),\n",
       " datetime.date(2020, 6, 2),\n",
       " datetime.date(2020, 6, 3),\n",
       " datetime.date(2020, 6, 4),\n",
       " datetime.date(2020, 6, 5),\n",
       " datetime.date(2020, 6, 6),\n",
       " datetime.date(2020, 6, 7),\n",
       " datetime.date(2020, 6, 8),\n",
       " datetime.date(2020, 6, 9),\n",
       " datetime.date(2020, 6, 10),\n",
       " datetime.date(2020, 6, 11),\n",
       " datetime.date(2020, 6, 12),\n",
       " datetime.date(2020, 6, 13),\n",
       " datetime.date(2020, 6, 14),\n",
       " datetime.date(2020, 6, 15),\n",
       " datetime.date(2020, 6, 16),\n",
       " datetime.date(2020, 6, 17),\n",
       " datetime.date(2020, 6, 18),\n",
       " datetime.date(2020, 6, 19),\n",
       " datetime.date(2020, 6, 20),\n",
       " datetime.date(2020, 6, 21),\n",
       " datetime.date(2020, 6, 22),\n",
       " datetime.date(2020, 6, 23),\n",
       " datetime.date(2020, 6, 24),\n",
       " datetime.date(2020, 6, 25),\n",
       " datetime.date(2020, 6, 26),\n",
       " datetime.date(2020, 6, 27),\n",
       " datetime.date(2020, 6, 28),\n",
       " datetime.date(2020, 6, 29),\n",
       " datetime.date(2020, 6, 30),\n",
       " datetime.date(2020, 7, 1),\n",
       " datetime.date(2020, 7, 2),\n",
       " datetime.date(2020, 7, 3),\n",
       " datetime.date(2020, 7, 4),\n",
       " datetime.date(2020, 7, 5),\n",
       " datetime.date(2020, 7, 6),\n",
       " datetime.date(2020, 7, 7),\n",
       " datetime.date(2020, 7, 8),\n",
       " datetime.date(2020, 7, 9),\n",
       " datetime.date(2020, 7, 10),\n",
       " datetime.date(2020, 7, 11),\n",
       " datetime.date(2020, 7, 12),\n",
       " datetime.date(2020, 7, 13),\n",
       " datetime.date(2020, 7, 14),\n",
       " datetime.date(2020, 7, 15),\n",
       " datetime.date(2020, 7, 16),\n",
       " datetime.date(2020, 7, 17),\n",
       " datetime.date(2020, 7, 18),\n",
       " datetime.date(2020, 7, 19),\n",
       " datetime.date(2020, 7, 20),\n",
       " datetime.date(2020, 7, 21),\n",
       " datetime.date(2020, 7, 22),\n",
       " datetime.date(2020, 7, 23),\n",
       " datetime.date(2020, 7, 24),\n",
       " datetime.date(2020, 7, 25),\n",
       " datetime.date(2020, 7, 26),\n",
       " datetime.date(2020, 7, 27),\n",
       " datetime.date(2020, 7, 28),\n",
       " datetime.date(2020, 7, 29),\n",
       " datetime.date(2020, 7, 30),\n",
       " datetime.date(2020, 7, 31),\n",
       " datetime.date(2020, 8, 1),\n",
       " datetime.date(2020, 8, 2),\n",
       " datetime.date(2020, 8, 3),\n",
       " datetime.date(2020, 8, 4),\n",
       " datetime.date(2020, 8, 5),\n",
       " datetime.date(2020, 8, 6),\n",
       " datetime.date(2020, 8, 7),\n",
       " datetime.date(2020, 8, 8),\n",
       " datetime.date(2020, 8, 9),\n",
       " datetime.date(2020, 8, 10),\n",
       " datetime.date(2020, 8, 11),\n",
       " datetime.date(2020, 8, 12),\n",
       " datetime.date(2020, 8, 13),\n",
       " datetime.date(2020, 8, 14),\n",
       " datetime.date(2020, 8, 15),\n",
       " datetime.date(2020, 8, 16),\n",
       " datetime.date(2020, 8, 17),\n",
       " datetime.date(2020, 8, 18),\n",
       " datetime.date(2020, 8, 19),\n",
       " datetime.date(2020, 8, 20),\n",
       " datetime.date(2020, 8, 21),\n",
       " datetime.date(2020, 8, 22),\n",
       " datetime.date(2020, 8, 23),\n",
       " datetime.date(2020, 8, 24),\n",
       " datetime.date(2020, 8, 25),\n",
       " datetime.date(2020, 8, 26),\n",
       " datetime.date(2020, 8, 27),\n",
       " datetime.date(2020, 8, 28),\n",
       " datetime.date(2020, 8, 29),\n",
       " datetime.date(2020, 8, 30),\n",
       " datetime.date(2020, 8, 31),\n",
       " datetime.date(2020, 9, 1),\n",
       " datetime.date(2020, 9, 2),\n",
       " datetime.date(2020, 9, 3),\n",
       " datetime.date(2020, 9, 4),\n",
       " datetime.date(2020, 9, 5),\n",
       " datetime.date(2020, 9, 6),\n",
       " datetime.date(2020, 9, 7),\n",
       " datetime.date(2020, 9, 8),\n",
       " datetime.date(2020, 9, 9),\n",
       " datetime.date(2020, 9, 10),\n",
       " datetime.date(2020, 9, 11),\n",
       " datetime.date(2020, 9, 12),\n",
       " datetime.date(2020, 9, 13),\n",
       " datetime.date(2020, 9, 14),\n",
       " datetime.date(2020, 9, 15),\n",
       " datetime.date(2020, 9, 16),\n",
       " datetime.date(2020, 9, 17),\n",
       " datetime.date(2020, 9, 18),\n",
       " datetime.date(2020, 9, 19),\n",
       " datetime.date(2020, 9, 20),\n",
       " datetime.date(2020, 9, 21),\n",
       " datetime.date(2020, 9, 22),\n",
       " datetime.date(2020, 9, 23),\n",
       " datetime.date(2020, 9, 24),\n",
       " datetime.date(2020, 9, 25),\n",
       " datetime.date(2020, 9, 26),\n",
       " datetime.date(2020, 9, 27),\n",
       " datetime.date(2020, 9, 28),\n",
       " datetime.date(2020, 9, 29),\n",
       " datetime.date(2020, 9, 30),\n",
       " datetime.date(2020, 10, 1),\n",
       " datetime.date(2020, 10, 2),\n",
       " datetime.date(2020, 10, 3),\n",
       " datetime.date(2020, 10, 4),\n",
       " datetime.date(2020, 10, 5),\n",
       " datetime.date(2020, 10, 6),\n",
       " datetime.date(2020, 10, 7),\n",
       " datetime.date(2020, 10, 8),\n",
       " datetime.date(2020, 10, 9),\n",
       " datetime.date(2020, 10, 10),\n",
       " datetime.date(2020, 10, 11),\n",
       " datetime.date(2020, 10, 12),\n",
       " datetime.date(2020, 10, 13),\n",
       " datetime.date(2020, 10, 14),\n",
       " datetime.date(2020, 10, 15),\n",
       " datetime.date(2020, 10, 16),\n",
       " datetime.date(2020, 10, 17),\n",
       " datetime.date(2020, 10, 18),\n",
       " datetime.date(2020, 10, 19),\n",
       " datetime.date(2020, 10, 20),\n",
       " datetime.date(2020, 10, 21),\n",
       " datetime.date(2020, 10, 22),\n",
       " datetime.date(2020, 10, 23),\n",
       " datetime.date(2020, 10, 24),\n",
       " datetime.date(2020, 10, 25),\n",
       " datetime.date(2020, 10, 26),\n",
       " datetime.date(2020, 10, 27),\n",
       " datetime.date(2020, 10, 28),\n",
       " datetime.date(2020, 10, 29),\n",
       " datetime.date(2020, 10, 30),\n",
       " datetime.date(2020, 10, 31),\n",
       " datetime.date(2020, 11, 1),\n",
       " datetime.date(2020, 11, 2),\n",
       " datetime.date(2020, 11, 3),\n",
       " datetime.date(2020, 11, 4),\n",
       " datetime.date(2020, 11, 5),\n",
       " datetime.date(2020, 11, 6),\n",
       " datetime.date(2020, 11, 7),\n",
       " datetime.date(2020, 11, 8),\n",
       " datetime.date(2020, 11, 9),\n",
       " datetime.date(2020, 11, 10),\n",
       " datetime.date(2020, 11, 11),\n",
       " datetime.date(2020, 11, 12),\n",
       " datetime.date(2020, 11, 13),\n",
       " datetime.date(2020, 11, 14),\n",
       " datetime.date(2020, 11, 15),\n",
       " datetime.date(2020, 11, 16),\n",
       " datetime.date(2020, 11, 17),\n",
       " datetime.date(2020, 11, 18),\n",
       " datetime.date(2020, 11, 19),\n",
       " datetime.date(2020, 11, 20),\n",
       " datetime.date(2020, 11, 21),\n",
       " datetime.date(2020, 11, 22),\n",
       " datetime.date(2020, 11, 23),\n",
       " datetime.date(2020, 11, 24),\n",
       " datetime.date(2020, 11, 25),\n",
       " datetime.date(2020, 11, 26),\n",
       " datetime.date(2020, 11, 27),\n",
       " datetime.date(2020, 11, 28),\n",
       " datetime.date(2020, 11, 29),\n",
       " datetime.date(2020, 11, 30),\n",
       " datetime.date(2020, 12, 1),\n",
       " datetime.date(2020, 12, 2),\n",
       " datetime.date(2020, 12, 3),\n",
       " datetime.date(2020, 12, 4),\n",
       " datetime.date(2020, 12, 5),\n",
       " datetime.date(2020, 12, 6),\n",
       " datetime.date(2020, 12, 7),\n",
       " datetime.date(2020, 12, 8),\n",
       " datetime.date(2020, 12, 9),\n",
       " datetime.date(2020, 12, 10),\n",
       " datetime.date(2020, 12, 11),\n",
       " datetime.date(2020, 12, 12),\n",
       " datetime.date(2020, 12, 13),\n",
       " datetime.date(2020, 12, 14),\n",
       " datetime.date(2020, 12, 15),\n",
       " datetime.date(2020, 12, 16),\n",
       " datetime.date(2020, 12, 17),\n",
       " datetime.date(2020, 12, 18),\n",
       " datetime.date(2020, 12, 19),\n",
       " datetime.date(2020, 12, 20),\n",
       " datetime.date(2020, 12, 21),\n",
       " datetime.date(2020, 12, 22),\n",
       " datetime.date(2020, 12, 23),\n",
       " datetime.date(2020, 12, 24),\n",
       " datetime.date(2020, 12, 25),\n",
       " datetime.date(2020, 12, 26),\n",
       " datetime.date(2020, 12, 27),\n",
       " datetime.date(2020, 12, 28),\n",
       " datetime.date(2020, 12, 29),\n",
       " datetime.date(2020, 12, 30),\n",
       " datetime.date(2020, 12, 31),\n",
       " datetime.date(2021, 1, 1),\n",
       " datetime.date(2021, 1, 2),\n",
       " datetime.date(2021, 1, 3),\n",
       " datetime.date(2021, 1, 4),\n",
       " datetime.date(2021, 1, 5),\n",
       " datetime.date(2021, 1, 6),\n",
       " datetime.date(2021, 1, 7),\n",
       " datetime.date(2021, 1, 8),\n",
       " datetime.date(2021, 1, 9),\n",
       " datetime.date(2021, 1, 10),\n",
       " datetime.date(2021, 1, 11),\n",
       " datetime.date(2021, 1, 12),\n",
       " datetime.date(2021, 1, 13),\n",
       " datetime.date(2021, 1, 14),\n",
       " datetime.date(2021, 1, 15),\n",
       " datetime.date(2021, 1, 16),\n",
       " datetime.date(2021, 1, 17),\n",
       " datetime.date(2021, 1, 18),\n",
       " datetime.date(2021, 1, 19),\n",
       " datetime.date(2021, 1, 20),\n",
       " datetime.date(2021, 1, 21),\n",
       " datetime.date(2021, 1, 22),\n",
       " datetime.date(2021, 1, 23),\n",
       " datetime.date(2021, 1, 24),\n",
       " datetime.date(2021, 1, 25),\n",
       " datetime.date(2021, 1, 26),\n",
       " datetime.date(2021, 1, 27),\n",
       " datetime.date(2021, 1, 28),\n",
       " datetime.date(2021, 1, 29),\n",
       " datetime.date(2021, 1, 30),\n",
       " datetime.date(2021, 1, 31),\n",
       " datetime.date(2021, 2, 1),\n",
       " datetime.date(2021, 2, 2),\n",
       " datetime.date(2021, 2, 3),\n",
       " datetime.date(2021, 2, 4),\n",
       " datetime.date(2021, 2, 5),\n",
       " datetime.date(2021, 2, 6),\n",
       " datetime.date(2021, 2, 7),\n",
       " datetime.date(2021, 2, 8),\n",
       " datetime.date(2021, 2, 9),\n",
       " datetime.date(2021, 2, 10),\n",
       " datetime.date(2021, 2, 11),\n",
       " datetime.date(2021, 2, 12),\n",
       " datetime.date(2021, 2, 13),\n",
       " datetime.date(2021, 2, 14),\n",
       " datetime.date(2021, 2, 15),\n",
       " datetime.date(2021, 2, 16),\n",
       " datetime.date(2021, 2, 17),\n",
       " datetime.date(2021, 2, 18),\n",
       " datetime.date(2021, 2, 19),\n",
       " datetime.date(2021, 2, 20),\n",
       " datetime.date(2021, 2, 21),\n",
       " datetime.date(2021, 2, 22),\n",
       " datetime.date(2021, 2, 23),\n",
       " datetime.date(2021, 2, 24),\n",
       " datetime.date(2021, 2, 25),\n",
       " datetime.date(2021, 2, 26),\n",
       " datetime.date(2021, 2, 27),\n",
       " datetime.date(2021, 2, 28),\n",
       " datetime.date(2021, 3, 1),\n",
       " datetime.date(2021, 3, 2),\n",
       " datetime.date(2021, 3, 3),\n",
       " datetime.date(2021, 3, 4),\n",
       " datetime.date(2021, 3, 5),\n",
       " datetime.date(2021, 3, 6),\n",
       " datetime.date(2021, 3, 7),\n",
       " datetime.date(2021, 3, 8),\n",
       " datetime.date(2021, 3, 9),\n",
       " datetime.date(2021, 3, 10),\n",
       " datetime.date(2021, 3, 11),\n",
       " datetime.date(2021, 3, 12),\n",
       " datetime.date(2021, 3, 13),\n",
       " datetime.date(2021, 3, 14),\n",
       " datetime.date(2021, 3, 15),\n",
       " datetime.date(2021, 3, 16),\n",
       " datetime.date(2021, 3, 17),\n",
       " datetime.date(2021, 3, 18),\n",
       " datetime.date(2021, 3, 19),\n",
       " datetime.date(2021, 3, 20),\n",
       " datetime.date(2021, 3, 21),\n",
       " datetime.date(2021, 3, 22),\n",
       " datetime.date(2021, 3, 23),\n",
       " datetime.date(2021, 3, 24),\n",
       " datetime.date(2021, 3, 25),\n",
       " datetime.date(2021, 3, 26),\n",
       " datetime.date(2021, 3, 27),\n",
       " datetime.date(2021, 3, 28),\n",
       " datetime.date(2021, 3, 29),\n",
       " datetime.date(2021, 3, 30),\n",
       " datetime.date(2021, 3, 31),\n",
       " datetime.date(2021, 4, 1),\n",
       " datetime.date(2021, 4, 2),\n",
       " datetime.date(2021, 4, 3),\n",
       " datetime.date(2021, 4, 4),\n",
       " datetime.date(2021, 4, 5),\n",
       " datetime.date(2021, 4, 6),\n",
       " datetime.date(2021, 4, 7),\n",
       " datetime.date(2021, 4, 8),\n",
       " datetime.date(2021, 4, 9),\n",
       " datetime.date(2021, 4, 10),\n",
       " datetime.date(2021, 4, 11),\n",
       " datetime.date(2021, 4, 12),\n",
       " datetime.date(2021, 4, 13),\n",
       " datetime.date(2021, 4, 14),\n",
       " datetime.date(2021, 4, 15),\n",
       " datetime.date(2021, 4, 16),\n",
       " datetime.date(2021, 4, 17),\n",
       " datetime.date(2021, 4, 18),\n",
       " datetime.date(2021, 4, 19),\n",
       " datetime.date(2021, 4, 20),\n",
       " datetime.date(2021, 4, 21),\n",
       " datetime.date(2021, 4, 22),\n",
       " datetime.date(2021, 4, 23),\n",
       " datetime.date(2021, 4, 24),\n",
       " datetime.date(2021, 4, 25),\n",
       " datetime.date(2021, 4, 26),\n",
       " datetime.date(2021, 4, 27),\n",
       " datetime.date(2021, 4, 28),\n",
       " datetime.date(2021, 4, 29),\n",
       " datetime.date(2021, 4, 30),\n",
       " datetime.date(2021, 5, 1),\n",
       " datetime.date(2021, 5, 2),\n",
       " datetime.date(2021, 5, 3)]"
      ]
     },
     "execution_count": 45,
     "metadata": {},
     "output_type": "execute_result"
    }
   ],
   "source": [
    "# date_range"
   ]
  },
  {
   "cell_type": "code",
   "execution_count": 52,
   "id": "c3f92ccd",
   "metadata": {},
   "outputs": [],
   "source": [
    "# generate contiguous set of dates within start and end range\n",
    "dates = (\n",
    "  spark\n",
    "    .range( (end_date - start_date).days + 1 )  # days in range\n",
    "    .withColumn('id', f.expr('cast(id as integer)')) # range value from long (bigint) to integer\n",
    "    .withColumn('date', f.lit(start_date) + f.col('id'))  # add range value to start date to generate contiguous date range\n",
    "    .select('date')\n",
    "  )"
   ]
  },
  {
   "cell_type": "code",
   "execution_count": 53,
   "id": "1c2f44f4",
   "metadata": {},
   "outputs": [
    {
     "name": "stdout",
     "output_type": "stream",
     "text": [
      "+----------+\n",
      "|      date|\n",
      "+----------+\n",
      "|2019-01-01|\n",
      "|2019-01-02|\n",
      "|2019-01-03|\n",
      "|2019-01-04|\n",
      "|2019-01-05|\n",
      "|2019-01-06|\n",
      "|2019-01-07|\n",
      "|2019-01-08|\n",
      "|2019-01-09|\n",
      "|2019-01-10|\n",
      "|2019-01-11|\n",
      "|2019-01-12|\n",
      "|2019-01-13|\n",
      "|2019-01-14|\n",
      "|2019-01-15|\n",
      "|2019-01-16|\n",
      "|2019-01-17|\n",
      "|2019-01-18|\n",
      "|2019-01-19|\n",
      "|2019-01-20|\n",
      "+----------+\n",
      "only showing top 20 rows\n",
      "\n"
     ]
    }
   ],
   "source": [
    "# display dates\n",
    "dates.orderBy('date').show()"
   ]
  },
  {
   "cell_type": "code",
   "execution_count": 70,
   "id": "4bf96d53",
   "metadata": {},
   "outputs": [
    {
     "name": "stdout",
     "output_type": "stream",
     "text": [
      "root\n",
      " |-- date: date (nullable = false)\n",
      "\n"
     ]
    }
   ],
   "source": [
    "dates.printSchema()"
   ]
  },
  {
   "cell_type": "markdown",
   "id": "0123818e",
   "metadata": {},
   "source": [
    "## Assemble Complete Set of Stores-SKUs\n",
    "#### extract unique store-sku combinations in inventory records"
   ]
  },
  {
   "cell_type": "code",
   "execution_count": 58,
   "id": "71ae83ee",
   "metadata": {},
   "outputs": [],
   "source": [
    "store_skus = (df_py\n",
    "    .select('store_id','sku','product_category')\n",
    "    .groupBy('store_id','sku')\n",
    "      .agg(f.last('product_category').alias('product_category')) # just a hack to get last category assigned to each store-sku combination\n",
    "  )"
   ]
  },
  {
   "cell_type": "code",
   "execution_count": 60,
   "id": "5a0f9fb9",
   "metadata": {},
   "outputs": [
    {
     "name": "stdout",
     "output_type": "stream",
     "text": [
      "+--------+---+----------------+\n",
      "|store_id|sku|product_category|\n",
      "+--------+---+----------------+\n",
      "|      63| 57|     Category 04|\n",
      "|      98| 64|     Category 01|\n",
      "|     164| 76|     Category 05|\n",
      "|     171| 64|     Category 01|\n",
      "|     178| 64|     Category 01|\n",
      "|     206| 64|     Category 01|\n",
      "|     209| 64|     Category 01|\n",
      "|     210|148|     Category 03|\n",
      "|     232| 64|     Category 01|\n",
      "|     249| 64|     Category 01|\n",
      "|     273|110|     Category 02|\n",
      "|     274| 64|     Category 01|\n",
      "|     303| 83|     Category 05|\n",
      "|     334| 52|     Category 06|\n",
      "|     337| 64|     Category 01|\n",
      "|     338| 64|     Category 01|\n",
      "|     339| 64|     Category 01|\n",
      "|     371| 64|     Category 01|\n",
      "|     373| 64|     Category 01|\n",
      "|     377| 64|     Category 01|\n",
      "+--------+---+----------------+\n",
      "only showing top 20 rows\n",
      "\n"
     ]
    }
   ],
   "source": [
    "store_skus.show()"
   ]
  },
  {
   "cell_type": "code",
   "execution_count": 61,
   "id": "6ccd126b",
   "metadata": {},
   "outputs": [
    {
     "data": {
      "text/plain": [
       "100"
      ]
     },
     "execution_count": 61,
     "metadata": {},
     "output_type": "execute_result"
    }
   ],
   "source": [
    "store_skus.count()"
   ]
  },
  {
   "cell_type": "code",
   "execution_count": 62,
   "id": "3e886db9",
   "metadata": {},
   "outputs": [
    {
     "data": {
      "text/plain": [
       "[Row(store_id=1925, sku=64, product_category='Category 01'),\n",
       " Row(store_id=1936, sku=153, product_category='Category 02'),\n",
       " Row(store_id=1937, sku=153, product_category='Category 02')]"
      ]
     },
     "execution_count": 62,
     "metadata": {},
     "output_type": "execute_result"
    }
   ],
   "source": [
    "store_skus.tail(3)"
   ]
  },
  {
   "cell_type": "markdown",
   "id": "26e6037a",
   "metadata": {},
   "source": [
    "\n",
    "__We can now cross-join the contiguous dates with each unique store-SKU found in the inventory dataset to \n",
    "create the expected records in our complete dataset__. Left outer joining these data to our actual inventory data, \n",
    "we will now have a complete set of records though there will be missing values in many fields which we will\n",
    "need to address in our next step:\n",
    "\n",
    "__Left Outer Join__: The LEFT JOIN keyword returns all records from the left table (table1), and the matching records from the right table (table2). The result is 0 records from the right side, if there is no match.\n",
    "\n",
    "![title](Dataset/sql-outer-joins.png)"
   ]
  },
  {
   "cell_type": "markdown",
   "id": "885af767",
   "metadata": {},
   "source": [
    "### Generate Complete Set of Inventory Records"
   ]
  },
  {
   "cell_type": "code",
   "execution_count": 71,
   "id": "30b081a4",
   "metadata": {},
   "outputs": [
    {
     "name": "stdout",
     "output_type": "stream",
     "text": [
      "root\n",
      " |-- date: date (nullable = true)\n",
      " |-- store_id: integer (nullable = true)\n",
      " |-- sku: integer (nullable = true)\n",
      " |-- product_category: string (nullable = true)\n",
      " |-- total_sales_units: integer (nullable = true)\n",
      " |-- on_hand_inventory_units: integer (nullable = true)\n",
      " |-- replenishment_units: integer (nullable = true)\n",
      " |-- inventory_pipeline: integer (nullable = true)\n",
      " |-- units_in_transit: integer (nullable = true)\n",
      " |-- units_in_dc: integer (nullable = true)\n",
      " |-- units_on_order: integer (nullable = true)\n",
      " |-- units_under_promotion: integer (nullable = true)\n",
      " |-- shelf_capacity: integer (nullable = true)\n",
      "\n"
     ]
    }
   ],
   "source": [
    "df_py.printSchema()"
   ]
  },
  {
   "cell_type": "code",
   "execution_count": 72,
   "id": "01408a86",
   "metadata": {},
   "outputs": [
    {
     "name": "stdout",
     "output_type": "stream",
     "text": [
      "root\n",
      " |-- store_id: integer (nullable = true)\n",
      " |-- sku: integer (nullable = true)\n",
      " |-- product_category: string (nullable = true)\n",
      "\n"
     ]
    }
   ],
   "source": [
    "store_skus.printSchema()"
   ]
  },
  {
   "cell_type": "code",
   "execution_count": 68,
   "id": "bcaa838a",
   "metadata": {},
   "outputs": [],
   "source": [
    "# generate one record for each store-sku for each date in range\n",
    "\n",
    "inventory_with_gaps = (\n",
    "                      dates\n",
    "                            .crossJoin(store_skus)\n",
    "                            .join(df_py.drop('product_category'), \n",
    "                              on=['date','store_id','sku'], \n",
    "                              how='leftouter'\n",
    "                              )\n",
    "                      )"
   ]
  },
  {
   "cell_type": "code",
   "execution_count": 69,
   "id": "e7a94802",
   "metadata": {},
   "outputs": [
    {
     "name": "stdout",
     "output_type": "stream",
     "text": [
      "+----------+--------+---+----------------+-----------------+-----------------------+-------------------+------------------+----------------+-----------+--------------+---------------------+--------------+\n",
      "|      date|store_id|sku|product_category|total_sales_units|on_hand_inventory_units|replenishment_units|inventory_pipeline|units_in_transit|units_in_dc|units_on_order|units_under_promotion|shelf_capacity|\n",
      "+----------+--------+---+----------------+-----------------+-----------------------+-------------------+------------------+----------------+-----------+--------------+---------------------+--------------+\n",
      "|2019-01-01|      63| 57|     Category 04|             null|                   null|               null|              null|            null|       null|          null|                 null|          null|\n",
      "|2019-01-02|      63| 57|     Category 04|                0|                      8|                  0|                16|               0|          0|             8|                    0|            32|\n",
      "|2019-01-03|      63| 57|     Category 04|             null|                   null|               null|              null|            null|       null|          null|                 null|          null|\n",
      "|2019-01-04|      63| 57|     Category 04|                0|                      7|                  0|                14|               0|          8|             0|                    0|            32|\n",
      "|2019-01-05|      63| 57|     Category 04|                3|                      5|                  8|                12|               8|          0|             0|                    0|            32|\n",
      "|2019-01-06|      63| 57|     Category 04|                2|                     11|                  0|                11|               0|          0|             0|                    0|            32|\n",
      "|2019-01-07|      63| 57|     Category 04|             null|                   null|               null|              null|            null|       null|          null|                 null|          null|\n",
      "|2019-01-08|      63| 57|     Category 04|             null|                   null|               null|              null|            null|       null|          null|                 null|          null|\n",
      "|2019-01-09|      63| 57|     Category 04|                3|                      7|                  0|                14|               0|          0|             8|                    0|            32|\n",
      "|2019-01-10|      63| 57|     Category 04|                2|                      5|                  0|                13|               0|          0|             8|                    0|            32|\n",
      "|2019-01-11|      63| 57|     Category 04|             null|                   null|               null|              null|            null|       null|          null|                 null|          null|\n",
      "|2019-01-12|      63| 57|     Category 04|             null|                   null|               null|              null|            null|       null|          null|                 null|          null|\n",
      "|2019-01-13|      63| 57|     Category 04|                0|                     13|                  0|                21|               0|          8|             0|                    0|            32|\n",
      "|2019-01-14|      63| 57|     Category 04|             null|                   null|               null|              null|            null|       null|          null|                 null|          null|\n",
      "|2019-01-15|      63| 57|     Category 04|                0|                     13|                  0|                13|               0|          0|             0|                    0|            32|\n",
      "|2019-01-16|      63| 57|     Category 04|                0|                     14|                  0|                13|               0|          0|             0|                    0|            32|\n",
      "|2019-01-17|      63| 57|     Category 04|             null|                   null|               null|              null|            null|       null|          null|                 null|          null|\n",
      "|2019-01-18|      63| 57|     Category 04|             null|                   null|               null|              null|            null|       null|          null|                 null|          null|\n",
      "|2019-01-19|      63| 57|     Category 04|             null|                   null|               null|              null|            null|       null|          null|                 null|          null|\n",
      "|2019-01-20|      63| 57|     Category 04|                2|                      6|                  0|                14|               0|          0|             8|                    0|            32|\n",
      "+----------+--------+---+----------------+-----------------+-----------------------+-------------------+------------------+----------------+-----------+--------------+---------------------+--------------+\n",
      "only showing top 20 rows\n",
      "\n"
     ]
    }
   ],
   "source": [
    "# display inventory records\n",
    "inventory_with_gaps.show()"
   ]
  },
  {
   "cell_type": "code",
   "execution_count": 67,
   "id": "99b4927a",
   "metadata": {},
   "outputs": [
    {
     "data": {
      "text/plain": [
       "85400"
      ]
     },
     "execution_count": 67,
     "metadata": {},
     "output_type": "execute_result"
    }
   ],
   "source": [
    "inventory_with_gaps.count()"
   ]
  },
  {
   "cell_type": "code",
   "execution_count": 74,
   "id": "a97803c9",
   "metadata": {},
   "outputs": [
    {
     "data": {
      "text/plain": [
       "[Row(date=datetime.date(2019, 1, 1), store_id=63, sku=57, product_category='Category 04', total_sales_units=None, on_hand_inventory_units=None, replenishment_units=None, inventory_pipeline=None, units_in_transit=None, units_in_dc=None, units_on_order=None, units_under_promotion=None, shelf_capacity=None),\n",
       " Row(date=datetime.date(2019, 1, 2), store_id=63, sku=57, product_category='Category 04', total_sales_units=0, on_hand_inventory_units=8, replenishment_units=0, inventory_pipeline=16, units_in_transit=0, units_in_dc=0, units_on_order=8, units_under_promotion=0, shelf_capacity=32),\n",
       " Row(date=datetime.date(2019, 1, 3), store_id=63, sku=57, product_category='Category 04', total_sales_units=None, on_hand_inventory_units=None, replenishment_units=None, inventory_pipeline=None, units_in_transit=None, units_in_dc=None, units_on_order=None, units_under_promotion=None, shelf_capacity=None)]"
      ]
     },
     "execution_count": 74,
     "metadata": {},
     "output_type": "execute_result"
    }
   ],
   "source": [
    "inventory_with_gaps.head(3)"
   ]
  },
  {
   "cell_type": "markdown",
   "id": "96f422d7",
   "metadata": {},
   "source": [
    "We now have one record for each date-store-SKU combination in our dataset.__However, on those dates for\n",
    "which there were no inventory changes, we are currently missing information about the inventory status \n",
    "of those stores and SKUs. To address this, we will employ a combination of forward filling, i.e. \n",
    "applying the last valid record to subsequent records until a new value is encountered, and defaults__. \n",
    "For the forward fill, we will make use of the last() function, providing a value of True for the \n",
    "ignorenulls argument which will force it to retrieve the last non-null value in a sequence:"
   ]
  },
  {
   "cell_type": "markdown",
   "id": "7e56ede7",
   "metadata": {},
   "source": [
    "## Impute Missing Values"
   ]
  },
  {
   "cell_type": "code",
   "execution_count": 75,
   "id": "6572694b",
   "metadata": {},
   "outputs": [],
   "source": [
    "# copy dataframe to enable manipulations in loop\n",
    "inventory_cleansed = inventory_with_gaps\n",
    " \n",
    "# apply forward fill to appropriate columns\n",
    "for c in ['shelf_capacity', 'on_hand_inventory_units']:\n",
    "    inventory_cleansed = (\n",
    "        inventory_cleansed\n",
    "          .withColumn(\n",
    "              c, \n",
    "              f.expr('LAST({0}, True) OVER(PARTITION BY store_id, sku ORDER BY date)'.format(c)) # get last non-null prior value (aka forward-fill)\n",
    "           )\n",
    "        )"
   ]
  },
  {
   "cell_type": "code",
   "execution_count": 76,
   "id": "6c52be43",
   "metadata": {},
   "outputs": [],
   "source": [
    "# apply default value of 0 to appropriate columns\n",
    "\n",
    "inventory_cleansed = (\n",
    "  inventory_cleansed\n",
    "    .fillna(\n",
    "      0, \n",
    "      [ 'total_sales_units',\n",
    "        'units_under_promotion',\n",
    "        'units_in_transit',\n",
    "        'units_in_dc',\n",
    "        'units_on_order',\n",
    "        'replenishment_units',\n",
    "        'inventory_pipeline'\n",
    "        ]\n",
    "      )\n",
    "  )"
   ]
  },
  {
   "cell_type": "code",
   "execution_count": 77,
   "id": "9011ee06",
   "metadata": {},
   "outputs": [
    {
     "name": "stdout",
     "output_type": "stream",
     "text": [
      "+----------+--------+---+----------------+-----------------+-----------------------+-------------------+------------------+----------------+-----------+--------------+---------------------+--------------+\n",
      "|      date|store_id|sku|product_category|total_sales_units|on_hand_inventory_units|replenishment_units|inventory_pipeline|units_in_transit|units_in_dc|units_on_order|units_under_promotion|shelf_capacity|\n",
      "+----------+--------+---+----------------+-----------------+-----------------------+-------------------+------------------+----------------+-----------+--------------+---------------------+--------------+\n",
      "|2019-01-01|      63| 57|     Category 04|                0|                   null|                  0|                 0|               0|          0|             0|                    0|          null|\n",
      "|2019-01-02|      63| 57|     Category 04|                0|                      8|                  0|                16|               0|          0|             8|                    0|            32|\n",
      "|2019-01-03|      63| 57|     Category 04|                0|                      8|                  0|                 0|               0|          0|             0|                    0|            32|\n",
      "|2019-01-04|      63| 57|     Category 04|                0|                      7|                  0|                14|               0|          8|             0|                    0|            32|\n",
      "|2019-01-05|      63| 57|     Category 04|                3|                      5|                  8|                12|               8|          0|             0|                    0|            32|\n",
      "|2019-01-06|      63| 57|     Category 04|                2|                     11|                  0|                11|               0|          0|             0|                    0|            32|\n",
      "|2019-01-07|      63| 57|     Category 04|                0|                     11|                  0|                 0|               0|          0|             0|                    0|            32|\n",
      "|2019-01-08|      63| 57|     Category 04|                0|                     11|                  0|                 0|               0|          0|             0|                    0|            32|\n",
      "|2019-01-09|      63| 57|     Category 04|                3|                      7|                  0|                14|               0|          0|             8|                    0|            32|\n",
      "|2019-01-10|      63| 57|     Category 04|                2|                      5|                  0|                13|               0|          0|             8|                    0|            32|\n",
      "|2019-01-11|      63| 57|     Category 04|                0|                      5|                  0|                 0|               0|          0|             0|                    0|            32|\n",
      "|2019-01-12|      63| 57|     Category 04|                0|                      5|                  0|                 0|               0|          0|             0|                    0|            32|\n",
      "|2019-01-13|      63| 57|     Category 04|                0|                     13|                  0|                21|               0|          8|             0|                    0|            32|\n",
      "|2019-01-14|      63| 57|     Category 04|                0|                     13|                  0|                 0|               0|          0|             0|                    0|            32|\n",
      "|2019-01-15|      63| 57|     Category 04|                0|                     13|                  0|                13|               0|          0|             0|                    0|            32|\n",
      "|2019-01-16|      63| 57|     Category 04|                0|                     14|                  0|                13|               0|          0|             0|                    0|            32|\n",
      "|2019-01-17|      63| 57|     Category 04|                0|                     14|                  0|                 0|               0|          0|             0|                    0|            32|\n",
      "|2019-01-18|      63| 57|     Category 04|                0|                     14|                  0|                 0|               0|          0|             0|                    0|            32|\n",
      "|2019-01-19|      63| 57|     Category 04|                0|                     14|                  0|                 0|               0|          0|             0|                    0|            32|\n",
      "|2019-01-20|      63| 57|     Category 04|                2|                      6|                  0|                14|               0|          0|             8|                    0|            32|\n",
      "+----------+--------+---+----------------+-----------------+-----------------------+-------------------+------------------+----------------+-----------+--------------+---------------------+--------------+\n",
      "only showing top 20 rows\n",
      "\n"
     ]
    }
   ],
   "source": [
    "# display data with imputed values\n",
    "\n",
    "inventory_cleansed.show()"
   ]
  },
  {
   "cell_type": "code",
   "execution_count": 78,
   "id": "c319075b",
   "metadata": {},
   "outputs": [
    {
     "data": {
      "text/plain": [
       "85400"
      ]
     },
     "execution_count": 78,
     "metadata": {},
     "output_type": "execute_result"
    }
   ],
   "source": [
    "inventory_cleansed.count()"
   ]
  },
  {
   "cell_type": "markdown",
   "id": "fd5b16d0",
   "metadata": {},
   "source": [
    "### Step 3: Identify Key Inventory Events"
   ]
  },
  {
   "cell_type": "markdown",
   "id": "c2cee078",
   "metadata": {},
   "source": [
    "With our complete inventory dataset in-hand, we can now identify key inventory-related events within the data. \n",
    "These include the __occurrence of promotions__ intended to drive product sales and __replenishment events__ during which new units are added to inventory:"
   ]
  },
  {
   "cell_type": "markdown",
   "id": "c80acfbc",
   "metadata": {},
   "source": [
    "#### Calculate Inventory Flags"
   ]
  },
  {
   "cell_type": "code",
   "execution_count": 79,
   "id": "297faf72",
   "metadata": {},
   "outputs": [],
   "source": [
    "\n",
    "# derive inventory flags\n",
    "\n",
    "\n",
    "inventory_final = (\n",
    "  inventory_cleansed\n",
    "    .withColumn('promotion_flag', f.expr('CASE WHEN units_under_promotion > 0 THEN 1 ELSE 0 END'))\n",
    "    .withColumn('replenishment_flag', f.expr('CASE WHEN replenishment_units > 0 THEN 1 ELSE 0 END'))\n",
    "    )\n",
    " \n"
   ]
  },
  {
   "cell_type": "code",
   "execution_count": 80,
   "id": "83ef75e2",
   "metadata": {},
   "outputs": [
    {
     "name": "stdout",
     "output_type": "stream",
     "text": [
      "+----------+--------+---+----------------+-----------------+-----------------------+-------------------+------------------+----------------+-----------+--------------+---------------------+--------------+--------------+------------------+\n",
      "|      date|store_id|sku|product_category|total_sales_units|on_hand_inventory_units|replenishment_units|inventory_pipeline|units_in_transit|units_in_dc|units_on_order|units_under_promotion|shelf_capacity|promotion_flag|replenishment_flag|\n",
      "+----------+--------+---+----------------+-----------------+-----------------------+-------------------+------------------+----------------+-----------+--------------+---------------------+--------------+--------------+------------------+\n",
      "|2019-01-01|      63| 57|     Category 04|                0|                   null|                  0|                 0|               0|          0|             0|                    0|          null|             0|                 0|\n",
      "|2019-01-02|      63| 57|     Category 04|                0|                      8|                  0|                16|               0|          0|             8|                    0|            32|             0|                 0|\n",
      "|2019-01-03|      63| 57|     Category 04|                0|                      8|                  0|                 0|               0|          0|             0|                    0|            32|             0|                 0|\n",
      "|2019-01-04|      63| 57|     Category 04|                0|                      7|                  0|                14|               0|          8|             0|                    0|            32|             0|                 0|\n",
      "|2019-01-05|      63| 57|     Category 04|                3|                      5|                  8|                12|               8|          0|             0|                    0|            32|             0|                 1|\n",
      "|2019-01-06|      63| 57|     Category 04|                2|                     11|                  0|                11|               0|          0|             0|                    0|            32|             0|                 0|\n",
      "|2019-01-07|      63| 57|     Category 04|                0|                     11|                  0|                 0|               0|          0|             0|                    0|            32|             0|                 0|\n",
      "|2019-01-08|      63| 57|     Category 04|                0|                     11|                  0|                 0|               0|          0|             0|                    0|            32|             0|                 0|\n",
      "|2019-01-09|      63| 57|     Category 04|                3|                      7|                  0|                14|               0|          0|             8|                    0|            32|             0|                 0|\n",
      "|2019-01-10|      63| 57|     Category 04|                2|                      5|                  0|                13|               0|          0|             8|                    0|            32|             0|                 0|\n",
      "|2019-01-11|      63| 57|     Category 04|                0|                      5|                  0|                 0|               0|          0|             0|                    0|            32|             0|                 0|\n",
      "|2019-01-12|      63| 57|     Category 04|                0|                      5|                  0|                 0|               0|          0|             0|                    0|            32|             0|                 0|\n",
      "|2019-01-13|      63| 57|     Category 04|                0|                     13|                  0|                21|               0|          8|             0|                    0|            32|             0|                 0|\n",
      "|2019-01-14|      63| 57|     Category 04|                0|                     13|                  0|                 0|               0|          0|             0|                    0|            32|             0|                 0|\n",
      "|2019-01-15|      63| 57|     Category 04|                0|                     13|                  0|                13|               0|          0|             0|                    0|            32|             0|                 0|\n",
      "|2019-01-16|      63| 57|     Category 04|                0|                     14|                  0|                13|               0|          0|             0|                    0|            32|             0|                 0|\n",
      "|2019-01-17|      63| 57|     Category 04|                0|                     14|                  0|                 0|               0|          0|             0|                    0|            32|             0|                 0|\n",
      "|2019-01-18|      63| 57|     Category 04|                0|                     14|                  0|                 0|               0|          0|             0|                    0|            32|             0|                 0|\n",
      "|2019-01-19|      63| 57|     Category 04|                0|                     14|                  0|                 0|               0|          0|             0|                    0|            32|             0|                 0|\n",
      "|2019-01-20|      63| 57|     Category 04|                2|                      6|                  0|                14|               0|          0|             8|                    0|            32|             0|                 0|\n",
      "+----------+--------+---+----------------+-----------------+-----------------------+-------------------+------------------+----------------+-----------+--------------+---------------------+--------------+--------------+------------------+\n",
      "only showing top 20 rows\n",
      "\n"
     ]
    }
   ],
   "source": [
    "inventory_final.show()"
   ]
  },
  {
   "cell_type": "code",
   "execution_count": 83,
   "id": "e6c51326",
   "metadata": {},
   "outputs": [
    {
     "name": "stdout",
     "output_type": "stream",
     "text": [
      "+--------------+------------------+\n",
      "|promotion_flag|replenishment_flag|\n",
      "+--------------+------------------+\n",
      "|             0|                 0|\n",
      "|             0|                 0|\n",
      "|             0|                 0|\n",
      "|             0|                 0|\n",
      "|             0|                 0|\n",
      "|             0|                 0|\n",
      "|             0|                 0|\n",
      "|             0|                 1|\n",
      "|             0|                 0|\n",
      "|             0|                 0|\n",
      "|             0|                 0|\n",
      "|             0|                 0|\n",
      "|             0|                 0|\n",
      "|             0|                 0|\n",
      "|             0|                 1|\n",
      "|             0|                 0|\n",
      "|             0|                 1|\n",
      "|             0|                 0|\n",
      "|             0|                 0|\n",
      "|             0|                 0|\n",
      "+--------------+------------------+\n",
      "only showing top 20 rows\n",
      "\n"
     ]
    }
   ],
   "source": [
    "inventory_final.select('promotion_flag', 'replenishment_flag').show()"
   ]
  },
  {
   "cell_type": "code",
   "execution_count": 84,
   "id": "ed3e7e11",
   "metadata": {},
   "outputs": [
    {
     "data": {
      "text/plain": [
       "85400"
      ]
     },
     "execution_count": 84,
     "metadata": {},
     "output_type": "execute_result"
    }
   ],
   "source": [
    "inventory_final.count()"
   ]
  },
  {
   "cell_type": "markdown",
   "id": "47ed09c2",
   "metadata": {},
   "source": [
    "### Saving the data"
   ]
  },
  {
   "cell_type": "code",
   "execution_count": 90,
   "id": "0ca918b7",
   "metadata": {},
   "outputs": [],
   "source": [
    "# inventory_final.write.mode('overwrite').csv('Dataset//inventory_final_data')"
   ]
  },
  {
   "cell_type": "code",
   "execution_count": 100,
   "id": "e220ce87",
   "metadata": {},
   "outputs": [],
   "source": [
    "inventory_final.toPandas().to_csv(\"Dataset//inventory_final_data.csv\", index=False)"
   ]
  },
  {
   "cell_type": "code",
   "execution_count": null,
   "id": "c2319734",
   "metadata": {},
   "outputs": [],
   "source": []
  },
  {
   "cell_type": "code",
   "execution_count": null,
   "id": "1cd297f3",
   "metadata": {},
   "outputs": [],
   "source": []
  },
  {
   "cell_type": "code",
   "execution_count": null,
   "id": "fd2778c7",
   "metadata": {},
   "outputs": [],
   "source": []
  }
 ],
 "metadata": {
  "kernelspec": {
   "display_name": "Python 3 (ipykernel)",
   "language": "python",
   "name": "python3"
  },
  "language_info": {
   "codemirror_mode": {
    "name": "ipython",
    "version": 3
   },
   "file_extension": ".py",
   "mimetype": "text/x-python",
   "name": "python",
   "nbconvert_exporter": "python",
   "pygments_lexer": "ipython3",
   "version": "3.9.12"
  }
 },
 "nbformat": 4,
 "nbformat_minor": 5
}
