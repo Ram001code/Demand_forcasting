{
 "cells": [
  {
   "cell_type": "code",
   "execution_count": 1,
   "id": "7dca8ec9",
   "metadata": {},
   "outputs": [],
   "source": [
    "import pandas as pd\n",
    "import numpy as np"
   ]
  },
  {
   "cell_type": "markdown",
   "id": "38cc85bd",
   "metadata": {},
   "source": [
    "### Raw Data"
   ]
  },
  {
   "cell_type": "code",
   "execution_count": 2,
   "id": "220d7ed3",
   "metadata": {},
   "outputs": [
    {
     "data": {
      "text/html": [
       "<div>\n",
       "<style scoped>\n",
       "    .dataframe tbody tr th:only-of-type {\n",
       "        vertical-align: middle;\n",
       "    }\n",
       "\n",
       "    .dataframe tbody tr th {\n",
       "        vertical-align: top;\n",
       "    }\n",
       "\n",
       "    .dataframe thead th {\n",
       "        text-align: right;\n",
       "    }\n",
       "</style>\n",
       "<table border=\"1\" class=\"dataframe\">\n",
       "  <thead>\n",
       "    <tr style=\"text-align: right;\">\n",
       "      <th></th>\n",
       "      <th>date</th>\n",
       "      <th>store_id</th>\n",
       "      <th>sku</th>\n",
       "      <th>product_category</th>\n",
       "      <th>total_sales_units</th>\n",
       "      <th>on_hand_inventory_units</th>\n",
       "      <th>replenishment_units</th>\n",
       "      <th>inventory_pipeline</th>\n",
       "      <th>units_in_transit</th>\n",
       "      <th>units_in_dc</th>\n",
       "      <th>units_on_order</th>\n",
       "      <th>units_under_promotion</th>\n",
       "      <th>shelf_capacity</th>\n",
       "    </tr>\n",
       "  </thead>\n",
       "  <tbody>\n",
       "    <tr>\n",
       "      <th>0</th>\n",
       "      <td>20190102</td>\n",
       "      <td>63</td>\n",
       "      <td>57</td>\n",
       "      <td>Category 04</td>\n",
       "      <td>0</td>\n",
       "      <td>8</td>\n",
       "      <td>0</td>\n",
       "      <td>16</td>\n",
       "      <td>0</td>\n",
       "      <td>0</td>\n",
       "      <td>8</td>\n",
       "      <td>0</td>\n",
       "      <td>32</td>\n",
       "    </tr>\n",
       "    <tr>\n",
       "      <th>1</th>\n",
       "      <td>20190104</td>\n",
       "      <td>63</td>\n",
       "      <td>57</td>\n",
       "      <td>Category 04</td>\n",
       "      <td>0</td>\n",
       "      <td>7</td>\n",
       "      <td>0</td>\n",
       "      <td>14</td>\n",
       "      <td>0</td>\n",
       "      <td>8</td>\n",
       "      <td>0</td>\n",
       "      <td>0</td>\n",
       "      <td>32</td>\n",
       "    </tr>\n",
       "    <tr>\n",
       "      <th>2</th>\n",
       "      <td>20190105</td>\n",
       "      <td>63</td>\n",
       "      <td>57</td>\n",
       "      <td>Category 04</td>\n",
       "      <td>3</td>\n",
       "      <td>5</td>\n",
       "      <td>8</td>\n",
       "      <td>12</td>\n",
       "      <td>8</td>\n",
       "      <td>0</td>\n",
       "      <td>0</td>\n",
       "      <td>0</td>\n",
       "      <td>32</td>\n",
       "    </tr>\n",
       "    <tr>\n",
       "      <th>3</th>\n",
       "      <td>20190106</td>\n",
       "      <td>63</td>\n",
       "      <td>57</td>\n",
       "      <td>Category 04</td>\n",
       "      <td>2</td>\n",
       "      <td>11</td>\n",
       "      <td>0</td>\n",
       "      <td>11</td>\n",
       "      <td>0</td>\n",
       "      <td>0</td>\n",
       "      <td>0</td>\n",
       "      <td>0</td>\n",
       "      <td>32</td>\n",
       "    </tr>\n",
       "    <tr>\n",
       "      <th>4</th>\n",
       "      <td>20190109</td>\n",
       "      <td>63</td>\n",
       "      <td>57</td>\n",
       "      <td>Category 04</td>\n",
       "      <td>3</td>\n",
       "      <td>7</td>\n",
       "      <td>0</td>\n",
       "      <td>14</td>\n",
       "      <td>0</td>\n",
       "      <td>0</td>\n",
       "      <td>8</td>\n",
       "      <td>0</td>\n",
       "      <td>32</td>\n",
       "    </tr>\n",
       "  </tbody>\n",
       "</table>\n",
       "</div>"
      ],
      "text/plain": [
       "       date  store_id  sku product_category  total_sales_units  \\\n",
       "0  20190102        63   57      Category 04                  0   \n",
       "1  20190104        63   57      Category 04                  0   \n",
       "2  20190105        63   57      Category 04                  3   \n",
       "3  20190106        63   57      Category 04                  2   \n",
       "4  20190109        63   57      Category 04                  3   \n",
       "\n",
       "   on_hand_inventory_units  replenishment_units  inventory_pipeline  \\\n",
       "0                        8                    0                  16   \n",
       "1                        7                    0                  14   \n",
       "2                        5                    8                  12   \n",
       "3                       11                    0                  11   \n",
       "4                        7                    0                  14   \n",
       "\n",
       "   units_in_transit  units_in_dc  units_on_order  units_under_promotion  \\\n",
       "0                 0            0               8                      0   \n",
       "1                 0            8               0                      0   \n",
       "2                 8            0               0                      0   \n",
       "3                 0            0               0                      0   \n",
       "4                 0            0               8                      0   \n",
       "\n",
       "   shelf_capacity  \n",
       "0              32  \n",
       "1              32  \n",
       "2              32  \n",
       "3              32  \n",
       "4              32  "
      ]
     },
     "execution_count": 2,
     "metadata": {},
     "output_type": "execute_result"
    }
   ],
   "source": [
    "data = pd.read_csv(\"https://raw.githubusercontent.com/tredenceofficial/OSA-Data/main/osa_raw_data.csv\")\n",
    "data.head()"
   ]
  },
  {
   "cell_type": "code",
   "execution_count": 3,
   "id": "9dc4ee6f",
   "metadata": {},
   "outputs": [
    {
     "data": {
      "text/plain": [
       "(40590, 13)"
      ]
     },
     "execution_count": 3,
     "metadata": {},
     "output_type": "execute_result"
    }
   ],
   "source": [
    "data.shape"
   ]
  },
  {
   "cell_type": "code",
   "execution_count": 4,
   "id": "a56fe7ce",
   "metadata": {},
   "outputs": [],
   "source": [
    "import copy\n",
    "\n",
    "raw_dt= copy.deepcopy(data)"
   ]
  },
  {
   "cell_type": "code",
   "execution_count": 5,
   "id": "986428bc",
   "metadata": {},
   "outputs": [
    {
     "data": {
      "text/html": [
       "<div>\n",
       "<style scoped>\n",
       "    .dataframe tbody tr th:only-of-type {\n",
       "        vertical-align: middle;\n",
       "    }\n",
       "\n",
       "    .dataframe tbody tr th {\n",
       "        vertical-align: top;\n",
       "    }\n",
       "\n",
       "    .dataframe thead th {\n",
       "        text-align: right;\n",
       "    }\n",
       "</style>\n",
       "<table border=\"1\" class=\"dataframe\">\n",
       "  <thead>\n",
       "    <tr style=\"text-align: right;\">\n",
       "      <th></th>\n",
       "      <th>date</th>\n",
       "      <th>store_id</th>\n",
       "      <th>sku</th>\n",
       "      <th>product_category</th>\n",
       "      <th>total_sales_units</th>\n",
       "      <th>on_hand_inventory_units</th>\n",
       "      <th>replenishment_units</th>\n",
       "      <th>inventory_pipeline</th>\n",
       "      <th>units_in_transit</th>\n",
       "      <th>units_in_dc</th>\n",
       "      <th>units_on_order</th>\n",
       "      <th>units_under_promotion</th>\n",
       "      <th>shelf_capacity</th>\n",
       "    </tr>\n",
       "  </thead>\n",
       "  <tbody>\n",
       "    <tr>\n",
       "      <th>0</th>\n",
       "      <td>20190102</td>\n",
       "      <td>63</td>\n",
       "      <td>57</td>\n",
       "      <td>Category 04</td>\n",
       "      <td>0</td>\n",
       "      <td>8</td>\n",
       "      <td>0</td>\n",
       "      <td>16</td>\n",
       "      <td>0</td>\n",
       "      <td>0</td>\n",
       "      <td>8</td>\n",
       "      <td>0</td>\n",
       "      <td>32</td>\n",
       "    </tr>\n",
       "    <tr>\n",
       "      <th>1</th>\n",
       "      <td>20190104</td>\n",
       "      <td>63</td>\n",
       "      <td>57</td>\n",
       "      <td>Category 04</td>\n",
       "      <td>0</td>\n",
       "      <td>7</td>\n",
       "      <td>0</td>\n",
       "      <td>14</td>\n",
       "      <td>0</td>\n",
       "      <td>8</td>\n",
       "      <td>0</td>\n",
       "      <td>0</td>\n",
       "      <td>32</td>\n",
       "    </tr>\n",
       "    <tr>\n",
       "      <th>2</th>\n",
       "      <td>20190105</td>\n",
       "      <td>63</td>\n",
       "      <td>57</td>\n",
       "      <td>Category 04</td>\n",
       "      <td>3</td>\n",
       "      <td>5</td>\n",
       "      <td>8</td>\n",
       "      <td>12</td>\n",
       "      <td>8</td>\n",
       "      <td>0</td>\n",
       "      <td>0</td>\n",
       "      <td>0</td>\n",
       "      <td>32</td>\n",
       "    </tr>\n",
       "    <tr>\n",
       "      <th>3</th>\n",
       "      <td>20190106</td>\n",
       "      <td>63</td>\n",
       "      <td>57</td>\n",
       "      <td>Category 04</td>\n",
       "      <td>2</td>\n",
       "      <td>11</td>\n",
       "      <td>0</td>\n",
       "      <td>11</td>\n",
       "      <td>0</td>\n",
       "      <td>0</td>\n",
       "      <td>0</td>\n",
       "      <td>0</td>\n",
       "      <td>32</td>\n",
       "    </tr>\n",
       "    <tr>\n",
       "      <th>4</th>\n",
       "      <td>20190109</td>\n",
       "      <td>63</td>\n",
       "      <td>57</td>\n",
       "      <td>Category 04</td>\n",
       "      <td>3</td>\n",
       "      <td>7</td>\n",
       "      <td>0</td>\n",
       "      <td>14</td>\n",
       "      <td>0</td>\n",
       "      <td>0</td>\n",
       "      <td>8</td>\n",
       "      <td>0</td>\n",
       "      <td>32</td>\n",
       "    </tr>\n",
       "    <tr>\n",
       "      <th>...</th>\n",
       "      <td>...</td>\n",
       "      <td>...</td>\n",
       "      <td>...</td>\n",
       "      <td>...</td>\n",
       "      <td>...</td>\n",
       "      <td>...</td>\n",
       "      <td>...</td>\n",
       "      <td>...</td>\n",
       "      <td>...</td>\n",
       "      <td>...</td>\n",
       "      <td>...</td>\n",
       "      <td>...</td>\n",
       "      <td>...</td>\n",
       "    </tr>\n",
       "    <tr>\n",
       "      <th>40585</th>\n",
       "      <td>20210427</td>\n",
       "      <td>1937</td>\n",
       "      <td>153</td>\n",
       "      <td>Category 02</td>\n",
       "      <td>0</td>\n",
       "      <td>5</td>\n",
       "      <td>0</td>\n",
       "      <td>5</td>\n",
       "      <td>0</td>\n",
       "      <td>0</td>\n",
       "      <td>0</td>\n",
       "      <td>0</td>\n",
       "      <td>48</td>\n",
       "    </tr>\n",
       "    <tr>\n",
       "      <th>40586</th>\n",
       "      <td>20210428</td>\n",
       "      <td>1937</td>\n",
       "      <td>153</td>\n",
       "      <td>Category 02</td>\n",
       "      <td>0</td>\n",
       "      <td>5</td>\n",
       "      <td>0</td>\n",
       "      <td>5</td>\n",
       "      <td>0</td>\n",
       "      <td>0</td>\n",
       "      <td>0</td>\n",
       "      <td>0</td>\n",
       "      <td>48</td>\n",
       "    </tr>\n",
       "    <tr>\n",
       "      <th>40587</th>\n",
       "      <td>20210429</td>\n",
       "      <td>1937</td>\n",
       "      <td>153</td>\n",
       "      <td>Category 02</td>\n",
       "      <td>0</td>\n",
       "      <td>5</td>\n",
       "      <td>0</td>\n",
       "      <td>5</td>\n",
       "      <td>0</td>\n",
       "      <td>0</td>\n",
       "      <td>0</td>\n",
       "      <td>0</td>\n",
       "      <td>48</td>\n",
       "    </tr>\n",
       "    <tr>\n",
       "      <th>40588</th>\n",
       "      <td>20210430</td>\n",
       "      <td>1937</td>\n",
       "      <td>153</td>\n",
       "      <td>Category 02</td>\n",
       "      <td>0</td>\n",
       "      <td>5</td>\n",
       "      <td>0</td>\n",
       "      <td>5</td>\n",
       "      <td>0</td>\n",
       "      <td>0</td>\n",
       "      <td>0</td>\n",
       "      <td>0</td>\n",
       "      <td>0</td>\n",
       "    </tr>\n",
       "    <tr>\n",
       "      <th>40589</th>\n",
       "      <td>20210503</td>\n",
       "      <td>1937</td>\n",
       "      <td>153</td>\n",
       "      <td>Category 02</td>\n",
       "      <td>0</td>\n",
       "      <td>0</td>\n",
       "      <td>0</td>\n",
       "      <td>0</td>\n",
       "      <td>0</td>\n",
       "      <td>0</td>\n",
       "      <td>0</td>\n",
       "      <td>0</td>\n",
       "      <td>48</td>\n",
       "    </tr>\n",
       "  </tbody>\n",
       "</table>\n",
       "<p>40590 rows × 13 columns</p>\n",
       "</div>"
      ],
      "text/plain": [
       "           date  store_id  sku product_category  total_sales_units  \\\n",
       "0      20190102        63   57      Category 04                  0   \n",
       "1      20190104        63   57      Category 04                  0   \n",
       "2      20190105        63   57      Category 04                  3   \n",
       "3      20190106        63   57      Category 04                  2   \n",
       "4      20190109        63   57      Category 04                  3   \n",
       "...         ...       ...  ...              ...                ...   \n",
       "40585  20210427      1937  153      Category 02                  0   \n",
       "40586  20210428      1937  153      Category 02                  0   \n",
       "40587  20210429      1937  153      Category 02                  0   \n",
       "40588  20210430      1937  153      Category 02                  0   \n",
       "40589  20210503      1937  153      Category 02                  0   \n",
       "\n",
       "       on_hand_inventory_units  replenishment_units  inventory_pipeline  \\\n",
       "0                            8                    0                  16   \n",
       "1                            7                    0                  14   \n",
       "2                            5                    8                  12   \n",
       "3                           11                    0                  11   \n",
       "4                            7                    0                  14   \n",
       "...                        ...                  ...                 ...   \n",
       "40585                        5                    0                   5   \n",
       "40586                        5                    0                   5   \n",
       "40587                        5                    0                   5   \n",
       "40588                        5                    0                   5   \n",
       "40589                        0                    0                   0   \n",
       "\n",
       "       units_in_transit  units_in_dc  units_on_order  units_under_promotion  \\\n",
       "0                     0            0               8                      0   \n",
       "1                     0            8               0                      0   \n",
       "2                     8            0               0                      0   \n",
       "3                     0            0               0                      0   \n",
       "4                     0            0               8                      0   \n",
       "...                 ...          ...             ...                    ...   \n",
       "40585                 0            0               0                      0   \n",
       "40586                 0            0               0                      0   \n",
       "40587                 0            0               0                      0   \n",
       "40588                 0            0               0                      0   \n",
       "40589                 0            0               0                      0   \n",
       "\n",
       "       shelf_capacity  \n",
       "0                  32  \n",
       "1                  32  \n",
       "2                  32  \n",
       "3                  32  \n",
       "4                  32  \n",
       "...               ...  \n",
       "40585              48  \n",
       "40586              48  \n",
       "40587              48  \n",
       "40588               0  \n",
       "40589              48  \n",
       "\n",
       "[40590 rows x 13 columns]"
      ]
     },
     "execution_count": 5,
     "metadata": {},
     "output_type": "execute_result"
    }
   ],
   "source": [
    "raw_dt"
   ]
  },
  {
   "cell_type": "code",
   "execution_count": 6,
   "id": "52ef7e68",
   "metadata": {},
   "outputs": [
    {
     "data": {
      "text/plain": [
       "dtype('int64')"
      ]
     },
     "execution_count": 6,
     "metadata": {},
     "output_type": "execute_result"
    }
   ],
   "source": [
    "raw_dt['date'].dtypes"
   ]
  },
  {
   "cell_type": "code",
   "execution_count": 7,
   "id": "5e17e9ac",
   "metadata": {},
   "outputs": [],
   "source": [
    "raw_dt['date'] = pd.to_datetime(raw_dt['date'], format= '%Y%m%d')"
   ]
  },
  {
   "cell_type": "code",
   "execution_count": 8,
   "id": "a880ea97",
   "metadata": {},
   "outputs": [
    {
     "data": {
      "text/plain": [
       "0       2019-01-02\n",
       "1       2019-01-04\n",
       "2       2019-01-05\n",
       "3       2019-01-06\n",
       "4       2019-01-09\n",
       "           ...    \n",
       "40585   2021-04-27\n",
       "40586   2021-04-28\n",
       "40587   2021-04-29\n",
       "40588   2021-04-30\n",
       "40589   2021-05-03\n",
       "Name: date, Length: 40590, dtype: datetime64[ns]"
      ]
     },
     "execution_count": 8,
     "metadata": {},
     "output_type": "execute_result"
    }
   ],
   "source": [
    "raw_dt['date']"
   ]
  },
  {
   "cell_type": "code",
   "execution_count": 9,
   "id": "cb5c3ff2",
   "metadata": {},
   "outputs": [],
   "source": [
    "# raw_dt.to_csv('Dataset/raw_data.csv', index= False)"
   ]
  },
  {
   "cell_type": "code",
   "execution_count": 10,
   "id": "ceb1a02e",
   "metadata": {},
   "outputs": [
    {
     "data": {
      "text/plain": [
       "96"
      ]
     },
     "execution_count": 10,
     "metadata": {},
     "output_type": "execute_result"
    }
   ],
   "source": [
    "raw_dt['store_id'].nunique()"
   ]
  },
  {
   "cell_type": "code",
   "execution_count": 11,
   "id": "d81236e4",
   "metadata": {},
   "outputs": [
    {
     "data": {
      "text/plain": [
       "22"
      ]
     },
     "execution_count": 11,
     "metadata": {},
     "output_type": "execute_result"
    }
   ],
   "source": [
    "raw_dt['sku'].nunique()"
   ]
  },
  {
   "cell_type": "code",
   "execution_count": 12,
   "id": "44febcdc",
   "metadata": {},
   "outputs": [
    {
     "data": {
      "text/plain": [
       "8"
      ]
     },
     "execution_count": 12,
     "metadata": {},
     "output_type": "execute_result"
    }
   ],
   "source": [
    "raw_dt['product_category'].nunique()"
   ]
  },
  {
   "cell_type": "code",
   "execution_count": 16,
   "id": "92586450",
   "metadata": {},
   "outputs": [
    {
     "name": "stdout",
     "output_type": "stream",
     "text": [
      "store_id :-  96\n",
      "sku :-  22\n",
      "product_category :-  8\n"
     ]
    }
   ],
   "source": [
    "columns= ['store_id', 'sku', 'product_category']\n",
    "\n",
    "for col in columns:\n",
    "    print(col, \":- \", raw_dt[col].nunique())"
   ]
  },
  {
   "cell_type": "code",
   "execution_count": 19,
   "id": "bbfd3bf4",
   "metadata": {},
   "outputs": [
    {
     "data": {
      "text/plain": [
       "Index(['date', 'store_id', 'sku', 'product_category', 'total_sales_units',\n",
       "       'on_hand_inventory_units', 'replenishment_units', 'inventory_pipeline',\n",
       "       'units_in_transit', 'units_in_dc', 'units_on_order',\n",
       "       'units_under_promotion', 'shelf_capacity'],\n",
       "      dtype='object')"
      ]
     },
     "execution_count": 19,
     "metadata": {},
     "output_type": "execute_result"
    }
   ],
   "source": [
    "raw_dt.columns"
   ]
  },
  {
   "cell_type": "code",
   "execution_count": 29,
   "id": "f3382879",
   "metadata": {},
   "outputs": [
    {
     "data": {
      "text/plain": [
       "(40590, 13)"
      ]
     },
     "execution_count": 29,
     "metadata": {},
     "output_type": "execute_result"
    }
   ],
   "source": [
    "raw_dt.shape"
   ]
  },
  {
   "cell_type": "markdown",
   "id": "96828cfc",
   "metadata": {},
   "source": [
    "### Vendor data"
   ]
  },
  {
   "cell_type": "code",
   "execution_count": 20,
   "id": "f5222b3f",
   "metadata": {},
   "outputs": [
    {
     "data": {
      "text/html": [
       "<div>\n",
       "<style scoped>\n",
       "    .dataframe tbody tr th:only-of-type {\n",
       "        vertical-align: middle;\n",
       "    }\n",
       "\n",
       "    .dataframe tbody tr th {\n",
       "        vertical-align: top;\n",
       "    }\n",
       "\n",
       "    .dataframe thead th {\n",
       "        text-align: right;\n",
       "    }\n",
       "</style>\n",
       "<table border=\"1\" class=\"dataframe\">\n",
       "  <thead>\n",
       "    <tr style=\"text-align: right;\">\n",
       "      <th></th>\n",
       "      <th>key</th>\n",
       "      <th>vendor_id</th>\n",
       "      <th>sub_vendor_id</th>\n",
       "      <th>store_id</th>\n",
       "      <th>item_id</th>\n",
       "      <th>LEAD_TIME_IN_DC</th>\n",
       "      <th>LEAD_TIME_IN_TRANSIT</th>\n",
       "      <th>LEAD_TIME_ON_ORDER</th>\n",
       "    </tr>\n",
       "  </thead>\n",
       "  <tbody>\n",
       "    <tr>\n",
       "      <th>0</th>\n",
       "      <td>1</td>\n",
       "      <td>1</td>\n",
       "      <td>1001</td>\n",
       "      <td>1763</td>\n",
       "      <td>1</td>\n",
       "      <td>4</td>\n",
       "      <td>3</td>\n",
       "      <td>7</td>\n",
       "    </tr>\n",
       "    <tr>\n",
       "      <th>1</th>\n",
       "      <td>2</td>\n",
       "      <td>1</td>\n",
       "      <td>1001</td>\n",
       "      <td>1763</td>\n",
       "      <td>2</td>\n",
       "      <td>2</td>\n",
       "      <td>1</td>\n",
       "      <td>7</td>\n",
       "    </tr>\n",
       "    <tr>\n",
       "      <th>2</th>\n",
       "      <td>3</td>\n",
       "      <td>1</td>\n",
       "      <td>1002</td>\n",
       "      <td>1843</td>\n",
       "      <td>2</td>\n",
       "      <td>2</td>\n",
       "      <td>1</td>\n",
       "      <td>7</td>\n",
       "    </tr>\n",
       "    <tr>\n",
       "      <th>3</th>\n",
       "      <td>4</td>\n",
       "      <td>1</td>\n",
       "      <td>1001</td>\n",
       "      <td>1763</td>\n",
       "      <td>3</td>\n",
       "      <td>4</td>\n",
       "      <td>3</td>\n",
       "      <td>7</td>\n",
       "    </tr>\n",
       "    <tr>\n",
       "      <th>4</th>\n",
       "      <td>5</td>\n",
       "      <td>2</td>\n",
       "      <td>2016</td>\n",
       "      <td>486</td>\n",
       "      <td>6</td>\n",
       "      <td>2</td>\n",
       "      <td>1</td>\n",
       "      <td>8</td>\n",
       "    </tr>\n",
       "  </tbody>\n",
       "</table>\n",
       "</div>"
      ],
      "text/plain": [
       "   key  vendor_id  sub_vendor_id  store_id  item_id  LEAD_TIME_IN_DC  \\\n",
       "0    1          1           1001      1763        1                4   \n",
       "1    2          1           1001      1763        2                2   \n",
       "2    3          1           1002      1843        2                2   \n",
       "3    4          1           1001      1763        3                4   \n",
       "4    5          2           2016       486        6                2   \n",
       "\n",
       "   LEAD_TIME_IN_TRANSIT  LEAD_TIME_ON_ORDER  \n",
       "0                     3                   7  \n",
       "1                     1                   7  \n",
       "2                     1                   7  \n",
       "3                     3                   7  \n",
       "4                     1                   8  "
      ]
     },
     "execution_count": 20,
     "metadata": {},
     "output_type": "execute_result"
    }
   ],
   "source": [
    "data_vendr = pd.read_csv(\"https://raw.githubusercontent.com/tredenceofficial/OSA-Data/main/vendor_leadtime_info.csv\")\n",
    "data_vendr.head()"
   ]
  },
  {
   "cell_type": "code",
   "execution_count": 21,
   "id": "99105a74",
   "metadata": {},
   "outputs": [],
   "source": [
    "import copy\n",
    "\n",
    "vendor_dt= copy.deepcopy(data_vendr)"
   ]
  },
  {
   "cell_type": "code",
   "execution_count": 22,
   "id": "c3c383ea",
   "metadata": {},
   "outputs": [
    {
     "data": {
      "text/plain": [
       "(100, 8)"
      ]
     },
     "execution_count": 22,
     "metadata": {},
     "output_type": "execute_result"
    }
   ],
   "source": [
    "vendor_dt.shape"
   ]
  },
  {
   "cell_type": "code",
   "execution_count": 23,
   "id": "820964a0",
   "metadata": {},
   "outputs": [],
   "source": [
    "# vendor_dt.to_csv('Dataset/Vendor_data.csv', index= False)"
   ]
  },
  {
   "cell_type": "code",
   "execution_count": 24,
   "id": "6a5f6546",
   "metadata": {},
   "outputs": [
    {
     "data": {
      "text/plain": [
       "100"
      ]
     },
     "execution_count": 24,
     "metadata": {},
     "output_type": "execute_result"
    }
   ],
   "source": [
    "data_vendr['key'].nunique()    ## Key is just index "
   ]
  },
  {
   "cell_type": "code",
   "execution_count": 25,
   "id": "741310ee",
   "metadata": {},
   "outputs": [
    {
     "data": {
      "text/plain": [
       "15"
      ]
     },
     "execution_count": 25,
     "metadata": {},
     "output_type": "execute_result"
    }
   ],
   "source": [
    "data_vendr['vendor_id'].nunique()"
   ]
  },
  {
   "cell_type": "code",
   "execution_count": 26,
   "id": "c36aac3e",
   "metadata": {},
   "outputs": [
    {
     "data": {
      "text/plain": [
       "98"
      ]
     },
     "execution_count": 26,
     "metadata": {},
     "output_type": "execute_result"
    }
   ],
   "source": [
    "data_vendr['sub_vendor_id'].nunique()"
   ]
  },
  {
   "cell_type": "code",
   "execution_count": 27,
   "id": "93daf034",
   "metadata": {},
   "outputs": [
    {
     "data": {
      "text/plain": [
       "96"
      ]
     },
     "execution_count": 27,
     "metadata": {},
     "output_type": "execute_result"
    }
   ],
   "source": [
    "data_vendr['store_id'].nunique()"
   ]
  },
  {
   "cell_type": "code",
   "execution_count": 28,
   "id": "be837bb4",
   "metadata": {},
   "outputs": [
    {
     "data": {
      "text/plain": [
       "22"
      ]
     },
     "execution_count": 28,
     "metadata": {},
     "output_type": "execute_result"
    }
   ],
   "source": [
    "data_vendr['item_id'].nunique()"
   ]
  },
  {
   "cell_type": "code",
   "execution_count": 33,
   "id": "c9835b21",
   "metadata": {},
   "outputs": [
    {
     "data": {
      "text/plain": [
       "Index(['key', 'vendor_id', 'sub_vendor_id', 'store_id', 'item_id',\n",
       "       'LEAD_TIME_IN_DC', 'LEAD_TIME_IN_TRANSIT', 'LEAD_TIME_ON_ORDER'],\n",
       "      dtype='object')"
      ]
     },
     "execution_count": 33,
     "metadata": {},
     "output_type": "execute_result"
    }
   ],
   "source": [
    "data_vendr.columns"
   ]
  },
  {
   "cell_type": "code",
   "execution_count": 31,
   "id": "6d69cfe4",
   "metadata": {},
   "outputs": [
    {
     "name": "stdout",
     "output_type": "stream",
     "text": [
      "key :  100\n",
      "vendor_id :  15\n",
      "sub_vendor_id :  98\n",
      "store_id :  96\n",
      "item_id :  22\n"
     ]
    }
   ],
   "source": [
    "columns= ['key', 'vendor_id', 'sub_vendor_id', 'store_id', 'item_id']\n",
    "\n",
    "for col in columns:\n",
    "    print(col, \": \", vendor_dt[col].nunique())"
   ]
  },
  {
   "cell_type": "code",
   "execution_count": null,
   "id": "26fe43c5",
   "metadata": {},
   "outputs": [],
   "source": []
  },
  {
   "cell_type": "code",
   "execution_count": null,
   "id": "723b8647",
   "metadata": {},
   "outputs": [],
   "source": []
  },
  {
   "cell_type": "code",
   "execution_count": null,
   "id": "e7b6a1c3",
   "metadata": {},
   "outputs": [],
   "source": []
  },
  {
   "cell_type": "markdown",
   "id": "af647c31",
   "metadata": {},
   "source": [
    "### Address Missing Records"
   ]
  },
  {
   "cell_type": "code",
   "execution_count": 23,
   "id": "d57bc503",
   "metadata": {},
   "outputs": [],
   "source": [
    "start_date = raw_dt['date'].min()\n",
    "end_date = raw_dt['date'].max()"
   ]
  },
  {
   "cell_type": "code",
   "execution_count": 23,
   "id": "e847c5a9",
   "metadata": {},
   "outputs": [
    {
     "data": {
      "text/html": [
       "<div>\n",
       "<style scoped>\n",
       "    .dataframe tbody tr th:only-of-type {\n",
       "        vertical-align: middle;\n",
       "    }\n",
       "\n",
       "    .dataframe tbody tr th {\n",
       "        vertical-align: top;\n",
       "    }\n",
       "\n",
       "    .dataframe thead th {\n",
       "        text-align: right;\n",
       "    }\n",
       "</style>\n",
       "<table border=\"1\" class=\"dataframe\">\n",
       "  <thead>\n",
       "    <tr style=\"text-align: right;\">\n",
       "      <th></th>\n",
       "      <th>date</th>\n",
       "      <th>store_id</th>\n",
       "      <th>sku</th>\n",
       "      <th>product_category</th>\n",
       "      <th>total_sales_units</th>\n",
       "      <th>on_hand_inventory_units</th>\n",
       "      <th>replenishment_units</th>\n",
       "      <th>inventory_pipeline</th>\n",
       "      <th>units_in_transit</th>\n",
       "      <th>units_in_dc</th>\n",
       "      <th>units_on_order</th>\n",
       "      <th>units_under_promotion</th>\n",
       "      <th>shelf_capacity</th>\n",
       "    </tr>\n",
       "  </thead>\n",
       "  <tbody>\n",
       "    <tr>\n",
       "      <th>0</th>\n",
       "      <td>2019-01-02</td>\n",
       "      <td>63</td>\n",
       "      <td>57</td>\n",
       "      <td>Category 04</td>\n",
       "      <td>0</td>\n",
       "      <td>8</td>\n",
       "      <td>0</td>\n",
       "      <td>16</td>\n",
       "      <td>0</td>\n",
       "      <td>0</td>\n",
       "      <td>8</td>\n",
       "      <td>0</td>\n",
       "      <td>32</td>\n",
       "    </tr>\n",
       "    <tr>\n",
       "      <th>1</th>\n",
       "      <td>2019-01-04</td>\n",
       "      <td>63</td>\n",
       "      <td>57</td>\n",
       "      <td>Category 04</td>\n",
       "      <td>0</td>\n",
       "      <td>7</td>\n",
       "      <td>0</td>\n",
       "      <td>14</td>\n",
       "      <td>0</td>\n",
       "      <td>8</td>\n",
       "      <td>0</td>\n",
       "      <td>0</td>\n",
       "      <td>32</td>\n",
       "    </tr>\n",
       "    <tr>\n",
       "      <th>2</th>\n",
       "      <td>2019-01-05</td>\n",
       "      <td>63</td>\n",
       "      <td>57</td>\n",
       "      <td>Category 04</td>\n",
       "      <td>3</td>\n",
       "      <td>5</td>\n",
       "      <td>8</td>\n",
       "      <td>12</td>\n",
       "      <td>8</td>\n",
       "      <td>0</td>\n",
       "      <td>0</td>\n",
       "      <td>0</td>\n",
       "      <td>32</td>\n",
       "    </tr>\n",
       "    <tr>\n",
       "      <th>3</th>\n",
       "      <td>2019-01-06</td>\n",
       "      <td>63</td>\n",
       "      <td>57</td>\n",
       "      <td>Category 04</td>\n",
       "      <td>2</td>\n",
       "      <td>11</td>\n",
       "      <td>0</td>\n",
       "      <td>11</td>\n",
       "      <td>0</td>\n",
       "      <td>0</td>\n",
       "      <td>0</td>\n",
       "      <td>0</td>\n",
       "      <td>32</td>\n",
       "    </tr>\n",
       "    <tr>\n",
       "      <th>4</th>\n",
       "      <td>2019-01-09</td>\n",
       "      <td>63</td>\n",
       "      <td>57</td>\n",
       "      <td>Category 04</td>\n",
       "      <td>3</td>\n",
       "      <td>7</td>\n",
       "      <td>0</td>\n",
       "      <td>14</td>\n",
       "      <td>0</td>\n",
       "      <td>0</td>\n",
       "      <td>8</td>\n",
       "      <td>0</td>\n",
       "      <td>32</td>\n",
       "    </tr>\n",
       "    <tr>\n",
       "      <th>...</th>\n",
       "      <td>...</td>\n",
       "      <td>...</td>\n",
       "      <td>...</td>\n",
       "      <td>...</td>\n",
       "      <td>...</td>\n",
       "      <td>...</td>\n",
       "      <td>...</td>\n",
       "      <td>...</td>\n",
       "      <td>...</td>\n",
       "      <td>...</td>\n",
       "      <td>...</td>\n",
       "      <td>...</td>\n",
       "      <td>...</td>\n",
       "    </tr>\n",
       "    <tr>\n",
       "      <th>40585</th>\n",
       "      <td>2021-04-27</td>\n",
       "      <td>1937</td>\n",
       "      <td>153</td>\n",
       "      <td>Category 02</td>\n",
       "      <td>0</td>\n",
       "      <td>5</td>\n",
       "      <td>0</td>\n",
       "      <td>5</td>\n",
       "      <td>0</td>\n",
       "      <td>0</td>\n",
       "      <td>0</td>\n",
       "      <td>0</td>\n",
       "      <td>48</td>\n",
       "    </tr>\n",
       "    <tr>\n",
       "      <th>40586</th>\n",
       "      <td>2021-04-28</td>\n",
       "      <td>1937</td>\n",
       "      <td>153</td>\n",
       "      <td>Category 02</td>\n",
       "      <td>0</td>\n",
       "      <td>5</td>\n",
       "      <td>0</td>\n",
       "      <td>5</td>\n",
       "      <td>0</td>\n",
       "      <td>0</td>\n",
       "      <td>0</td>\n",
       "      <td>0</td>\n",
       "      <td>48</td>\n",
       "    </tr>\n",
       "    <tr>\n",
       "      <th>40587</th>\n",
       "      <td>2021-04-29</td>\n",
       "      <td>1937</td>\n",
       "      <td>153</td>\n",
       "      <td>Category 02</td>\n",
       "      <td>0</td>\n",
       "      <td>5</td>\n",
       "      <td>0</td>\n",
       "      <td>5</td>\n",
       "      <td>0</td>\n",
       "      <td>0</td>\n",
       "      <td>0</td>\n",
       "      <td>0</td>\n",
       "      <td>48</td>\n",
       "    </tr>\n",
       "    <tr>\n",
       "      <th>40588</th>\n",
       "      <td>2021-04-30</td>\n",
       "      <td>1937</td>\n",
       "      <td>153</td>\n",
       "      <td>Category 02</td>\n",
       "      <td>0</td>\n",
       "      <td>5</td>\n",
       "      <td>0</td>\n",
       "      <td>5</td>\n",
       "      <td>0</td>\n",
       "      <td>0</td>\n",
       "      <td>0</td>\n",
       "      <td>0</td>\n",
       "      <td>0</td>\n",
       "    </tr>\n",
       "    <tr>\n",
       "      <th>40589</th>\n",
       "      <td>2021-05-03</td>\n",
       "      <td>1937</td>\n",
       "      <td>153</td>\n",
       "      <td>Category 02</td>\n",
       "      <td>0</td>\n",
       "      <td>0</td>\n",
       "      <td>0</td>\n",
       "      <td>0</td>\n",
       "      <td>0</td>\n",
       "      <td>0</td>\n",
       "      <td>0</td>\n",
       "      <td>0</td>\n",
       "      <td>48</td>\n",
       "    </tr>\n",
       "  </tbody>\n",
       "</table>\n",
       "<p>40590 rows × 13 columns</p>\n",
       "</div>"
      ],
      "text/plain": [
       "            date  store_id  sku product_category  total_sales_units  \\\n",
       "0     2019-01-02        63   57      Category 04                  0   \n",
       "1     2019-01-04        63   57      Category 04                  0   \n",
       "2     2019-01-05        63   57      Category 04                  3   \n",
       "3     2019-01-06        63   57      Category 04                  2   \n",
       "4     2019-01-09        63   57      Category 04                  3   \n",
       "...          ...       ...  ...              ...                ...   \n",
       "40585 2021-04-27      1937  153      Category 02                  0   \n",
       "40586 2021-04-28      1937  153      Category 02                  0   \n",
       "40587 2021-04-29      1937  153      Category 02                  0   \n",
       "40588 2021-04-30      1937  153      Category 02                  0   \n",
       "40589 2021-05-03      1937  153      Category 02                  0   \n",
       "\n",
       "       on_hand_inventory_units  replenishment_units  inventory_pipeline  \\\n",
       "0                            8                    0                  16   \n",
       "1                            7                    0                  14   \n",
       "2                            5                    8                  12   \n",
       "3                           11                    0                  11   \n",
       "4                            7                    0                  14   \n",
       "...                        ...                  ...                 ...   \n",
       "40585                        5                    0                   5   \n",
       "40586                        5                    0                   5   \n",
       "40587                        5                    0                   5   \n",
       "40588                        5                    0                   5   \n",
       "40589                        0                    0                   0   \n",
       "\n",
       "       units_in_transit  units_in_dc  units_on_order  units_under_promotion  \\\n",
       "0                     0            0               8                      0   \n",
       "1                     0            8               0                      0   \n",
       "2                     8            0               0                      0   \n",
       "3                     0            0               0                      0   \n",
       "4                     0            0               8                      0   \n",
       "...                 ...          ...             ...                    ...   \n",
       "40585                 0            0               0                      0   \n",
       "40586                 0            0               0                      0   \n",
       "40587                 0            0               0                      0   \n",
       "40588                 0            0               0                      0   \n",
       "40589                 0            0               0                      0   \n",
       "\n",
       "       shelf_capacity  \n",
       "0                  32  \n",
       "1                  32  \n",
       "2                  32  \n",
       "3                  32  \n",
       "4                  32  \n",
       "...               ...  \n",
       "40585              48  \n",
       "40586              48  \n",
       "40587              48  \n",
       "40588               0  \n",
       "40589              48  \n",
       "\n",
       "[40590 rows x 13 columns]"
      ]
     },
     "execution_count": 23,
     "metadata": {},
     "output_type": "execute_result"
    }
   ],
   "source": [
    "raw_dt"
   ]
  },
  {
   "cell_type": "code",
   "execution_count": 24,
   "id": "b8f1daf1",
   "metadata": {},
   "outputs": [
    {
     "ename": "KeyError",
     "evalue": "'start_date'",
     "output_type": "error",
     "traceback": [
      "\u001b[1;31m---------------------------------------------------------------------------\u001b[0m",
      "\u001b[1;31mKeyError\u001b[0m                                  Traceback (most recent call last)",
      "File \u001b[1;32m~\\anaconda3\\lib\\site-packages\\pandas\\core\\indexes\\base.py:3621\u001b[0m, in \u001b[0;36mIndex.get_loc\u001b[1;34m(self, key, method, tolerance)\u001b[0m\n\u001b[0;32m   3620\u001b[0m \u001b[38;5;28;01mtry\u001b[39;00m:\n\u001b[1;32m-> 3621\u001b[0m     \u001b[38;5;28;01mreturn\u001b[39;00m \u001b[38;5;28;43mself\u001b[39;49m\u001b[38;5;241;43m.\u001b[39;49m\u001b[43m_engine\u001b[49m\u001b[38;5;241;43m.\u001b[39;49m\u001b[43mget_loc\u001b[49m\u001b[43m(\u001b[49m\u001b[43mcasted_key\u001b[49m\u001b[43m)\u001b[49m\n\u001b[0;32m   3622\u001b[0m \u001b[38;5;28;01mexcept\u001b[39;00m \u001b[38;5;167;01mKeyError\u001b[39;00m \u001b[38;5;28;01mas\u001b[39;00m err:\n",
      "File \u001b[1;32m~\\anaconda3\\lib\\site-packages\\pandas\\_libs\\index.pyx:136\u001b[0m, in \u001b[0;36mpandas._libs.index.IndexEngine.get_loc\u001b[1;34m()\u001b[0m\n",
      "File \u001b[1;32m~\\anaconda3\\lib\\site-packages\\pandas\\_libs\\index.pyx:163\u001b[0m, in \u001b[0;36mpandas._libs.index.IndexEngine.get_loc\u001b[1;34m()\u001b[0m\n",
      "File \u001b[1;32mpandas\\_libs\\hashtable_class_helper.pxi:5198\u001b[0m, in \u001b[0;36mpandas._libs.hashtable.PyObjectHashTable.get_item\u001b[1;34m()\u001b[0m\n",
      "File \u001b[1;32mpandas\\_libs\\hashtable_class_helper.pxi:5206\u001b[0m, in \u001b[0;36mpandas._libs.hashtable.PyObjectHashTable.get_item\u001b[1;34m()\u001b[0m\n",
      "\u001b[1;31mKeyError\u001b[0m: 'start_date'",
      "\nThe above exception was the direct cause of the following exception:\n",
      "\u001b[1;31mKeyError\u001b[0m                                  Traceback (most recent call last)",
      "Input \u001b[1;32mIn [24]\u001b[0m, in \u001b[0;36m<cell line: 1>\u001b[1;34m()\u001b[0m\n\u001b[1;32m----> 1\u001b[0m start_date \u001b[38;5;241m=\u001b[39m \u001b[43mraw_dt\u001b[49m\u001b[38;5;241;43m.\u001b[39;49m\u001b[43miloc\u001b[49m\u001b[43m[\u001b[49m\u001b[38;5;241;43m0\u001b[39;49m\u001b[43m]\u001b[49m\u001b[43m[\u001b[49m\u001b[38;5;124;43m'\u001b[39;49m\u001b[38;5;124;43mstart_date\u001b[39;49m\u001b[38;5;124;43m'\u001b[39;49m\u001b[43m]\u001b[49m\n\u001b[0;32m      2\u001b[0m end_date \u001b[38;5;241m=\u001b[39m raw_dt\u001b[38;5;241m.\u001b[39miloc[\u001b[38;5;241m0\u001b[39m][\u001b[38;5;124m'\u001b[39m\u001b[38;5;124mend_date\u001b[39m\u001b[38;5;124m'\u001b[39m]\n",
      "File \u001b[1;32m~\\anaconda3\\lib\\site-packages\\pandas\\core\\series.py:958\u001b[0m, in \u001b[0;36mSeries.__getitem__\u001b[1;34m(self, key)\u001b[0m\n\u001b[0;32m    955\u001b[0m     \u001b[38;5;28;01mreturn\u001b[39;00m \u001b[38;5;28mself\u001b[39m\u001b[38;5;241m.\u001b[39m_values[key]\n\u001b[0;32m    957\u001b[0m \u001b[38;5;28;01melif\u001b[39;00m key_is_scalar:\n\u001b[1;32m--> 958\u001b[0m     \u001b[38;5;28;01mreturn\u001b[39;00m \u001b[38;5;28;43mself\u001b[39;49m\u001b[38;5;241;43m.\u001b[39;49m\u001b[43m_get_value\u001b[49m\u001b[43m(\u001b[49m\u001b[43mkey\u001b[49m\u001b[43m)\u001b[49m\n\u001b[0;32m    960\u001b[0m \u001b[38;5;28;01mif\u001b[39;00m is_hashable(key):\n\u001b[0;32m    961\u001b[0m     \u001b[38;5;66;03m# Otherwise index.get_value will raise InvalidIndexError\u001b[39;00m\n\u001b[0;32m    962\u001b[0m     \u001b[38;5;28;01mtry\u001b[39;00m:\n\u001b[0;32m    963\u001b[0m         \u001b[38;5;66;03m# For labels that don't resolve as scalars like tuples and frozensets\u001b[39;00m\n",
      "File \u001b[1;32m~\\anaconda3\\lib\\site-packages\\pandas\\core\\series.py:1069\u001b[0m, in \u001b[0;36mSeries._get_value\u001b[1;34m(self, label, takeable)\u001b[0m\n\u001b[0;32m   1066\u001b[0m     \u001b[38;5;28;01mreturn\u001b[39;00m \u001b[38;5;28mself\u001b[39m\u001b[38;5;241m.\u001b[39m_values[label]\n\u001b[0;32m   1068\u001b[0m \u001b[38;5;66;03m# Similar to Index.get_value, but we do not fall back to positional\u001b[39;00m\n\u001b[1;32m-> 1069\u001b[0m loc \u001b[38;5;241m=\u001b[39m \u001b[38;5;28;43mself\u001b[39;49m\u001b[38;5;241;43m.\u001b[39;49m\u001b[43mindex\u001b[49m\u001b[38;5;241;43m.\u001b[39;49m\u001b[43mget_loc\u001b[49m\u001b[43m(\u001b[49m\u001b[43mlabel\u001b[49m\u001b[43m)\u001b[49m\n\u001b[0;32m   1070\u001b[0m \u001b[38;5;28;01mreturn\u001b[39;00m \u001b[38;5;28mself\u001b[39m\u001b[38;5;241m.\u001b[39mindex\u001b[38;5;241m.\u001b[39m_get_values_for_loc(\u001b[38;5;28mself\u001b[39m, loc, label)\n",
      "File \u001b[1;32m~\\anaconda3\\lib\\site-packages\\pandas\\core\\indexes\\base.py:3623\u001b[0m, in \u001b[0;36mIndex.get_loc\u001b[1;34m(self, key, method, tolerance)\u001b[0m\n\u001b[0;32m   3621\u001b[0m     \u001b[38;5;28;01mreturn\u001b[39;00m \u001b[38;5;28mself\u001b[39m\u001b[38;5;241m.\u001b[39m_engine\u001b[38;5;241m.\u001b[39mget_loc(casted_key)\n\u001b[0;32m   3622\u001b[0m \u001b[38;5;28;01mexcept\u001b[39;00m \u001b[38;5;167;01mKeyError\u001b[39;00m \u001b[38;5;28;01mas\u001b[39;00m err:\n\u001b[1;32m-> 3623\u001b[0m     \u001b[38;5;28;01mraise\u001b[39;00m \u001b[38;5;167;01mKeyError\u001b[39;00m(key) \u001b[38;5;28;01mfrom\u001b[39;00m \u001b[38;5;21;01merr\u001b[39;00m\n\u001b[0;32m   3624\u001b[0m \u001b[38;5;28;01mexcept\u001b[39;00m \u001b[38;5;167;01mTypeError\u001b[39;00m:\n\u001b[0;32m   3625\u001b[0m     \u001b[38;5;66;03m# If we have a listlike key, _check_indexing_error will raise\u001b[39;00m\n\u001b[0;32m   3626\u001b[0m     \u001b[38;5;66;03m#  InvalidIndexError. Otherwise we fall through and re-raise\u001b[39;00m\n\u001b[0;32m   3627\u001b[0m     \u001b[38;5;66;03m#  the TypeError.\u001b[39;00m\n\u001b[0;32m   3628\u001b[0m     \u001b[38;5;28mself\u001b[39m\u001b[38;5;241m.\u001b[39m_check_indexing_error(key)\n",
      "\u001b[1;31mKeyError\u001b[0m: 'start_date'"
     ]
    }
   ],
   "source": [
    "start_date = raw_dt.iloc[0]['start_date']\n",
    "end_date = raw_dt.iloc[0]['end_date']"
   ]
  },
  {
   "cell_type": "code",
   "execution_count": null,
   "id": "06725b4c",
   "metadata": {},
   "outputs": [],
   "source": []
  }
 ],
 "metadata": {
  "kernelspec": {
   "display_name": "Python 3 (ipykernel)",
   "language": "python",
   "name": "python3"
  },
  "language_info": {
   "codemirror_mode": {
    "name": "ipython",
    "version": 3
   },
   "file_extension": ".py",
   "mimetype": "text/x-python",
   "name": "python",
   "nbconvert_exporter": "python",
   "pygments_lexer": "ipython3",
   "version": "3.9.12"
  }
 },
 "nbformat": 4,
 "nbformat_minor": 5
}
