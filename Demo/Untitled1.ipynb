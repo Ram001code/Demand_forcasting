{
 "cells": [
  {
   "cell_type": "code",
   "execution_count": 1,
   "id": "7b59562e",
   "metadata": {},
   "outputs": [],
   "source": [
    "import pandas as pd\n",
    "import numpy as np"
   ]
  },
  {
   "cell_type": "code",
   "execution_count": 3,
   "id": "8141c502",
   "metadata": {},
   "outputs": [],
   "source": [
    "#Loading sales data\n",
    "\n",
    "sales_df= pd.read_excel('C://Users//Ramshankar//OneDrive - iLink Systems Inc//Documents//Costco//Dataset//combine_Sales_data20-22.xlsx')"
   ]
  },
  {
   "cell_type": "code",
   "execution_count": 4,
   "id": "5c55cb15",
   "metadata": {},
   "outputs": [
    {
     "data": {
      "text/plain": [
       "(12456, 14)"
      ]
     },
     "execution_count": 4,
     "metadata": {},
     "output_type": "execute_result"
    }
   ],
   "source": [
    "sales_df.shape"
   ]
  },
  {
   "cell_type": "code",
   "execution_count": 6,
   "id": "dffe9a9b",
   "metadata": {},
   "outputs": [],
   "source": [
    "#Loading Inventory data\n",
    "\n",
    "\n",
    "#Loading sales data\n",
    "\n",
    "Invnt_df= pd.read_excel('C://Users//Ramshankar//OneDrive - iLink Systems Inc//Documents//Costco//Dataset//inventory data//combined_inventory_data20-22.xlsx')"
   ]
  },
  {
   "cell_type": "code",
   "execution_count": 7,
   "id": "9692c2d1",
   "metadata": {},
   "outputs": [
    {
     "data": {
      "text/plain": [
       "(15945, 11)"
      ]
     },
     "execution_count": 7,
     "metadata": {},
     "output_type": "execute_result"
    }
   ],
   "source": [
    "Invnt_df.shape"
   ]
  },
  {
   "cell_type": "code",
   "execution_count": 12,
   "id": "d7820d00",
   "metadata": {},
   "outputs": [],
   "source": [
    "path= 'C://Users//Ramshankar//OneDrive - iLink Systems Inc//Documents//Costco//Demo//Dataset//costco_csv//'\n",
    "\n",
    "sales_df.to_csv(path + 'sales.csv', index=False)\n",
    "Invnt_df.to_csv(path + 'Inventory.csv', index=False)"
   ]
  },
  {
   "cell_type": "code",
   "execution_count": 1,
   "id": "3f41cd92",
   "metadata": {},
   "outputs": [],
   "source": [
    "from pyspark.sql import SparkSession"
   ]
  },
  {
   "cell_type": "code",
   "execution_count": 2,
   "id": "1279f1ce",
   "metadata": {},
   "outputs": [],
   "source": [
    "spark=SparkSession.builder.appName('myapp').getOrCreate()"
   ]
  },
  {
   "cell_type": "code",
   "execution_count": 3,
   "id": "5f895408",
   "metadata": {},
   "outputs": [
    {
     "data": {
      "text/html": [
       "\n",
       "            <div>\n",
       "                <p><b>SparkSession - in-memory</b></p>\n",
       "                \n",
       "        <div>\n",
       "            <p><b>SparkContext</b></p>\n",
       "\n",
       "            <p><a href=\"http://192.168.0.101:4040\">Spark UI</a></p>\n",
       "\n",
       "            <dl>\n",
       "              <dt>Version</dt>\n",
       "                <dd><code>v3.3.2</code></dd>\n",
       "              <dt>Master</dt>\n",
       "                <dd><code>local[*]</code></dd>\n",
       "              <dt>AppName</dt>\n",
       "                <dd><code>myapp</code></dd>\n",
       "            </dl>\n",
       "        </div>\n",
       "        \n",
       "            </div>\n",
       "        "
      ],
      "text/plain": [
       "<pyspark.sql.session.SparkSession at 0x19660283220>"
      ]
     },
     "execution_count": 3,
     "metadata": {},
     "output_type": "execute_result"
    }
   ],
   "source": [
    "spark"
   ]
  },
  {
   "cell_type": "code",
   "execution_count": 4,
   "id": "03544ce7",
   "metadata": {},
   "outputs": [],
   "source": [
    "import pandas as pd\n",
    "import numpy as np"
   ]
  },
  {
   "cell_type": "code",
   "execution_count": 6,
   "id": "6ceed82c",
   "metadata": {},
   "outputs": [],
   "source": [
    "df_py =spark.read.option('header','true').csv('Dataset//costco_csv//sales.csv',inferSchema=True)"
   ]
  },
  {
   "cell_type": "code",
   "execution_count": 22,
   "id": "af346f0f",
   "metadata": {},
   "outputs": [
    {
     "name": "stdout",
     "output_type": "stream",
     "text": [
      "root\n",
      " |-- date: date (nullable = true)\n",
      " |-- Country: string (nullable = true)\n",
      " |-- State: string (nullable = true)\n",
      " |-- Region: string (nullable = true)\n",
      " |-- District: string (nullable = true)\n",
      " |-- Location: string (nullable = true)\n",
      " |-- Major Department: string (nullable = true)\n",
      " |-- Department: string (nullable = true)\n",
      " |-- Category: string (nullable = true)\n",
      " |-- Group: string (nullable = true)\n",
      " |-- Item Category: string (nullable = true)\n",
      " |-- Item: string (nullable = true)\n",
      " |-- Quantity: double (nullable = true)\n",
      " |-- Amount: double (nullable = true)\n",
      "\n"
     ]
    }
   ],
   "source": [
    "df_py.printSchema()"
   ]
  },
  {
   "cell_type": "code",
   "execution_count": 8,
   "id": "fe1b46b6",
   "metadata": {},
   "outputs": [
    {
     "name": "stdout",
     "output_type": "stream",
     "text": [
      "+-------------------+-------+-----+----------------+--------+--------------------+----------------+----------+--------+--------------------+--------------------+-----------------+---------+------+\n",
      "|               Date|Country|State|          Region|District|            Location|Major Department|Department|Category|               Group|       Item Category|             Item| Quantity|Amount|\n",
      "+-------------------+-------+-----+----------------+--------+--------------------+----------------+----------+--------+--------------------+--------------------+-----------------+---------+------+\n",
      "|2020-01-02 00:00:00|     US|   CA|       LA REGION|     LA3|            LAKEWOOD|      FRESH FOOD|   61 MEAT|  6 MEAT|          64 POULTRY|640 CONVENTIONAL ...|  DRUMSTICKS NNNN|172.55461|205.34|\n",
      "|2020-01-02 00:00:00|     US|   CA|       LA REGION|     LA3|            LAKEWOOD|      FRESH FOOD|   61 MEAT|  6 MEAT|          64 POULTRY|645 CHICKEN XXXXX...|CHICKEN XXXXX - O|  45.8517| 228.8|\n",
      "|2020-01-02 00:00:00|     US|   CA|        BAY AREA|     BA3|             HAYWARD|      FRESH FOOD|   61 MEAT|  6 MEAT|          68 SEAFOOD|680 FRESH FISH FI...|      FILLET QQQQ| 60.41915|422.33|\n",
      "|2020-01-02 00:00:00|     US|   CA|       LA REGION|     LA3|            LAKEWOOD|      FRESH FOOD|   61 MEAT|  6 MEAT|          68 SEAFOOD|680 FRESH FISH FI...|      FILLET QQQQ| 36.49069|255.07|\n",
      "|2020-01-02 00:00:00|     US|   CA|        BAY AREA|     BA3|             HAYWARD|      FRESH FOOD|   61 MEAT|  6 MEAT|          64 POULTRY|645 CHICKEN XXXXX...|CHICKEN XXXXX - O| 90.86774|453.43|\n",
      "|2020-01-02 00:00:00|     US|   CA|        BAY AREA|     BA3|             FREMONT|      FRESH FOOD|   61 MEAT|  6 MEAT|          68 SEAFOOD|680 FRESH FISH FI...|      FILLET QQQQ|  36.8698|257.72|\n",
      "|2020-01-02 00:00:00|     US|   CA|BUSINESS CENTERS|     BD2|S SAN FRANCISCO B...|      FRESH FOOD|   61 MEAT|  6 MEAT|62 GROUND BEEF PR...|     620 GROUND BEEF|   BEEF OOOO - GT|  99.8233|248.56|\n",
      "|2020-01-02 00:00:00|     US|   CA|        BAY AREA|     BA2|         RICHMOND CA|      FRESH FOOD|   61 MEAT|  6 MEAT|          64 POULTRY|645 CHICKEN XXXXX...|CHICKEN XXXXX - O| 43.83768|218.75|\n",
      "|2020-01-02 00:00:00|     US|   CA|        BAY AREA|     BA2|         RICHMOND CA|      FRESH FOOD|   61 MEAT|  6 MEAT|          64 POULTRY|640 CONVENTIONAL ...|  DRUMSTICKS NNNN|696.48739|828.82|\n",
      "|2020-01-02 00:00:00|     US|   CA|        BAY AREA|     BA3|             FREMONT|      FRESH FOOD|   61 MEAT|  6 MEAT|          64 POULTRY|645 CHICKEN XXXXX...|CHICKEN XXXXX - O| 29.42886|146.85|\n",
      "|2020-01-02 00:00:00|     US|   CA|        BAY AREA|     BA3|             FREMONT|      FRESH FOOD|   61 MEAT|  6 MEAT|          64 POULTRY|640 CONVENTIONAL ...|  DRUMSTICKS NNNN| 502.2269|597.65|\n",
      "|2020-01-02 00:00:00|     US|   CA|        BAY AREA|     BA2|         RICHMOND CA|      FRESH FOOD|   61 MEAT|  6 MEAT|          68 SEAFOOD|680 FRESH FISH FI...|      FILLET QQQQ| 59.57081| 416.4|\n",
      "|2020-01-03 00:00:00|     US|   CA|        BAY AREA|     BA3|             HAYWARD|      FRESH FOOD|   61 MEAT|  6 MEAT|          64 POULTRY|645 CHICKEN XXXXX...|CHICKEN XXXXX - O|  5.46092| 27.25|\n",
      "|2020-01-03 00:00:00|     US|   CA|       LA REGION|     LA3|            LAKEWOOD|      FRESH FOOD|   61 MEAT|  6 MEAT|          68 SEAFOOD|680 FRESH FISH FI...|      FILLET QQQQ|  2.95994| 20.69|\n",
      "|2020-01-03 00:00:00|     US|   CA|       LA REGION|     LA3|            LAKEWOOD|      FRESH FOOD|   61 MEAT|  6 MEAT|          64 POULTRY|640 CONVENTIONAL ...|  DRUMSTICKS NNNN|197.22689| 234.7|\n",
      "|2020-01-03 00:00:00|     US|   CA|        BAY AREA|     BA2|         RICHMOND CA|      FRESH FOOD|   61 MEAT|  6 MEAT|          68 SEAFOOD|680 FRESH FISH FI...|      FILLET QQQQ|106.25322|742.71|\n",
      "|2020-01-03 00:00:00|     US|   CA|        BAY AREA|     BA3|             HAYWARD|      FRESH FOOD|   61 MEAT|  6 MEAT|          64 POULTRY|640 CONVENTIONAL ...|  DRUMSTICKS NNNN|490.31931|583.48|\n",
      "|2020-01-03 00:00:00|     US|   CA|        BAY AREA|     BA3|             HAYWARD|      FRESH FOOD|   61 MEAT|  6 MEAT|          68 SEAFOOD|680 FRESH FISH FI...|      FILLET QQQQ| 58.27754|407.36|\n",
      "|2020-01-03 00:00:00|     US|   CA|        BAY AREA|     BA2|         RICHMOND CA|      FRESH FOOD|   61 MEAT|  6 MEAT|          64 POULTRY|640 CONVENTIONAL ...|  DRUMSTICKS NNNN| 569.8151|678.08|\n",
      "|2020-01-03 00:00:00|     US|   CA|        BAY AREA|     BA3|             FREMONT|      FRESH FOOD|   61 MEAT|  6 MEAT|          64 POULTRY|640 CONVENTIONAL ...|  DRUMSTICKS NNNN|440.05885|523.67|\n",
      "+-------------------+-------+-----+----------------+--------+--------------------+----------------+----------+--------+--------------------+--------------------+-----------------+---------+------+\n",
      "only showing top 20 rows\n",
      "\n"
     ]
    }
   ],
   "source": [
    "df_py.show()"
   ]
  },
  {
   "cell_type": "code",
   "execution_count": 9,
   "id": "647993ce",
   "metadata": {},
   "outputs": [],
   "source": [
    "from pyspark.sql.functions import col, to_date\n",
    "\n",
    "df_py = df_py.withColumn('date', to_date(col('date')))"
   ]
  },
  {
   "cell_type": "code",
   "execution_count": 10,
   "id": "391a780b",
   "metadata": {},
   "outputs": [
    {
     "name": "stdout",
     "output_type": "stream",
     "text": [
      "+----------+-------+-----+----------------+--------+--------------------+----------------+----------+--------+--------------------+--------------------+-----------------+---------+------+\n",
      "|      date|Country|State|          Region|District|            Location|Major Department|Department|Category|               Group|       Item Category|             Item| Quantity|Amount|\n",
      "+----------+-------+-----+----------------+--------+--------------------+----------------+----------+--------+--------------------+--------------------+-----------------+---------+------+\n",
      "|2020-01-02|     US|   CA|       LA REGION|     LA3|            LAKEWOOD|      FRESH FOOD|   61 MEAT|  6 MEAT|          64 POULTRY|640 CONVENTIONAL ...|  DRUMSTICKS NNNN|172.55461|205.34|\n",
      "|2020-01-02|     US|   CA|       LA REGION|     LA3|            LAKEWOOD|      FRESH FOOD|   61 MEAT|  6 MEAT|          64 POULTRY|645 CHICKEN XXXXX...|CHICKEN XXXXX - O|  45.8517| 228.8|\n",
      "|2020-01-02|     US|   CA|        BAY AREA|     BA3|             HAYWARD|      FRESH FOOD|   61 MEAT|  6 MEAT|          68 SEAFOOD|680 FRESH FISH FI...|      FILLET QQQQ| 60.41915|422.33|\n",
      "|2020-01-02|     US|   CA|       LA REGION|     LA3|            LAKEWOOD|      FRESH FOOD|   61 MEAT|  6 MEAT|          68 SEAFOOD|680 FRESH FISH FI...|      FILLET QQQQ| 36.49069|255.07|\n",
      "|2020-01-02|     US|   CA|        BAY AREA|     BA3|             HAYWARD|      FRESH FOOD|   61 MEAT|  6 MEAT|          64 POULTRY|645 CHICKEN XXXXX...|CHICKEN XXXXX - O| 90.86774|453.43|\n",
      "|2020-01-02|     US|   CA|        BAY AREA|     BA3|             FREMONT|      FRESH FOOD|   61 MEAT|  6 MEAT|          68 SEAFOOD|680 FRESH FISH FI...|      FILLET QQQQ|  36.8698|257.72|\n",
      "|2020-01-02|     US|   CA|BUSINESS CENTERS|     BD2|S SAN FRANCISCO B...|      FRESH FOOD|   61 MEAT|  6 MEAT|62 GROUND BEEF PR...|     620 GROUND BEEF|   BEEF OOOO - GT|  99.8233|248.56|\n",
      "|2020-01-02|     US|   CA|        BAY AREA|     BA2|         RICHMOND CA|      FRESH FOOD|   61 MEAT|  6 MEAT|          64 POULTRY|645 CHICKEN XXXXX...|CHICKEN XXXXX - O| 43.83768|218.75|\n",
      "|2020-01-02|     US|   CA|        BAY AREA|     BA2|         RICHMOND CA|      FRESH FOOD|   61 MEAT|  6 MEAT|          64 POULTRY|640 CONVENTIONAL ...|  DRUMSTICKS NNNN|696.48739|828.82|\n",
      "|2020-01-02|     US|   CA|        BAY AREA|     BA3|             FREMONT|      FRESH FOOD|   61 MEAT|  6 MEAT|          64 POULTRY|645 CHICKEN XXXXX...|CHICKEN XXXXX - O| 29.42886|146.85|\n",
      "|2020-01-02|     US|   CA|        BAY AREA|     BA3|             FREMONT|      FRESH FOOD|   61 MEAT|  6 MEAT|          64 POULTRY|640 CONVENTIONAL ...|  DRUMSTICKS NNNN| 502.2269|597.65|\n",
      "|2020-01-02|     US|   CA|        BAY AREA|     BA2|         RICHMOND CA|      FRESH FOOD|   61 MEAT|  6 MEAT|          68 SEAFOOD|680 FRESH FISH FI...|      FILLET QQQQ| 59.57081| 416.4|\n",
      "|2020-01-03|     US|   CA|        BAY AREA|     BA3|             HAYWARD|      FRESH FOOD|   61 MEAT|  6 MEAT|          64 POULTRY|645 CHICKEN XXXXX...|CHICKEN XXXXX - O|  5.46092| 27.25|\n",
      "|2020-01-03|     US|   CA|       LA REGION|     LA3|            LAKEWOOD|      FRESH FOOD|   61 MEAT|  6 MEAT|          68 SEAFOOD|680 FRESH FISH FI...|      FILLET QQQQ|  2.95994| 20.69|\n",
      "|2020-01-03|     US|   CA|       LA REGION|     LA3|            LAKEWOOD|      FRESH FOOD|   61 MEAT|  6 MEAT|          64 POULTRY|640 CONVENTIONAL ...|  DRUMSTICKS NNNN|197.22689| 234.7|\n",
      "|2020-01-03|     US|   CA|        BAY AREA|     BA2|         RICHMOND CA|      FRESH FOOD|   61 MEAT|  6 MEAT|          68 SEAFOOD|680 FRESH FISH FI...|      FILLET QQQQ|106.25322|742.71|\n",
      "|2020-01-03|     US|   CA|        BAY AREA|     BA3|             HAYWARD|      FRESH FOOD|   61 MEAT|  6 MEAT|          64 POULTRY|640 CONVENTIONAL ...|  DRUMSTICKS NNNN|490.31931|583.48|\n",
      "|2020-01-03|     US|   CA|        BAY AREA|     BA3|             HAYWARD|      FRESH FOOD|   61 MEAT|  6 MEAT|          68 SEAFOOD|680 FRESH FISH FI...|      FILLET QQQQ| 58.27754|407.36|\n",
      "|2020-01-03|     US|   CA|        BAY AREA|     BA2|         RICHMOND CA|      FRESH FOOD|   61 MEAT|  6 MEAT|          64 POULTRY|640 CONVENTIONAL ...|  DRUMSTICKS NNNN| 569.8151|678.08|\n",
      "|2020-01-03|     US|   CA|        BAY AREA|     BA3|             FREMONT|      FRESH FOOD|   61 MEAT|  6 MEAT|          64 POULTRY|640 CONVENTIONAL ...|  DRUMSTICKS NNNN|440.05885|523.67|\n",
      "+----------+-------+-----+----------------+--------+--------------------+----------------+----------+--------+--------------------+--------------------+-----------------+---------+------+\n",
      "only showing top 20 rows\n",
      "\n"
     ]
    }
   ],
   "source": [
    "df_py.show()"
   ]
  },
  {
   "cell_type": "code",
   "execution_count": 17,
   "id": "7a726607",
   "metadata": {},
   "outputs": [],
   "source": [
    "df_sales= df_py.select('date', 'State', 'Location', 'Major Department', 'Item', 'Quantity', 'Amount')"
   ]
  },
  {
   "cell_type": "code",
   "execution_count": 18,
   "id": "c819dbdb",
   "metadata": {},
   "outputs": [
    {
     "name": "stdout",
     "output_type": "stream",
     "text": [
      "+----------+-----+--------------------+----------------+-----------------+---------+------+\n",
      "|      date|State|            Location|Major Department|             Item| Quantity|Amount|\n",
      "+----------+-----+--------------------+----------------+-----------------+---------+------+\n",
      "|2020-01-02|   CA|            LAKEWOOD|      FRESH FOOD|  DRUMSTICKS NNNN|172.55461|205.34|\n",
      "|2020-01-02|   CA|            LAKEWOOD|      FRESH FOOD|CHICKEN XXXXX - O|  45.8517| 228.8|\n",
      "|2020-01-02|   CA|             HAYWARD|      FRESH FOOD|      FILLET QQQQ| 60.41915|422.33|\n",
      "|2020-01-02|   CA|            LAKEWOOD|      FRESH FOOD|      FILLET QQQQ| 36.49069|255.07|\n",
      "|2020-01-02|   CA|             HAYWARD|      FRESH FOOD|CHICKEN XXXXX - O| 90.86774|453.43|\n",
      "|2020-01-02|   CA|             FREMONT|      FRESH FOOD|      FILLET QQQQ|  36.8698|257.72|\n",
      "|2020-01-02|   CA|S SAN FRANCISCO B...|      FRESH FOOD|   BEEF OOOO - GT|  99.8233|248.56|\n",
      "|2020-01-02|   CA|         RICHMOND CA|      FRESH FOOD|CHICKEN XXXXX - O| 43.83768|218.75|\n",
      "|2020-01-02|   CA|         RICHMOND CA|      FRESH FOOD|  DRUMSTICKS NNNN|696.48739|828.82|\n",
      "|2020-01-02|   CA|             FREMONT|      FRESH FOOD|CHICKEN XXXXX - O| 29.42886|146.85|\n",
      "|2020-01-02|   CA|             FREMONT|      FRESH FOOD|  DRUMSTICKS NNNN| 502.2269|597.65|\n",
      "|2020-01-02|   CA|         RICHMOND CA|      FRESH FOOD|      FILLET QQQQ| 59.57081| 416.4|\n",
      "|2020-01-03|   CA|             HAYWARD|      FRESH FOOD|CHICKEN XXXXX - O|  5.46092| 27.25|\n",
      "|2020-01-03|   CA|            LAKEWOOD|      FRESH FOOD|      FILLET QQQQ|  2.95994| 20.69|\n",
      "|2020-01-03|   CA|            LAKEWOOD|      FRESH FOOD|  DRUMSTICKS NNNN|197.22689| 234.7|\n",
      "|2020-01-03|   CA|         RICHMOND CA|      FRESH FOOD|      FILLET QQQQ|106.25322|742.71|\n",
      "|2020-01-03|   CA|             HAYWARD|      FRESH FOOD|  DRUMSTICKS NNNN|490.31931|583.48|\n",
      "|2020-01-03|   CA|             HAYWARD|      FRESH FOOD|      FILLET QQQQ| 58.27754|407.36|\n",
      "|2020-01-03|   CA|         RICHMOND CA|      FRESH FOOD|  DRUMSTICKS NNNN| 569.8151|678.08|\n",
      "|2020-01-03|   CA|             FREMONT|      FRESH FOOD|  DRUMSTICKS NNNN|440.05885|523.67|\n",
      "+----------+-----+--------------------+----------------+-----------------+---------+------+\n",
      "only showing top 20 rows\n",
      "\n"
     ]
    }
   ],
   "source": [
    "df_sales.show()"
   ]
  },
  {
   "cell_type": "markdown",
   "id": "1c37b69f",
   "metadata": {},
   "source": [
    "## Loading Inventory data"
   ]
  },
  {
   "cell_type": "code",
   "execution_count": 19,
   "id": "8b0770cd",
   "metadata": {},
   "outputs": [],
   "source": [
    "df_invtry =spark.read.csv('Dataset//costco_csv//Inventory.csv' ,header=True,inferSchema=True)"
   ]
  },
  {
   "cell_type": "code",
   "execution_count": 21,
   "id": "e9dbb12f",
   "metadata": {},
   "outputs": [
    {
     "name": "stdout",
     "output_type": "stream",
     "text": [
      "root\n",
      " |-- Date: timestamp (nullable = true)\n",
      " |-- Location: string (nullable = true)\n",
      " |-- Item: string (nullable = true)\n",
      " |-- OH Quantity: integer (nullable = true)\n",
      " |-- OH Amount: double (nullable = true)\n",
      " |-- On Order Quantity: integer (nullable = true)\n",
      " |-- On Order Amount: double (nullable = true)\n",
      " |-- In Transit Quantity: integer (nullable = true)\n",
      " |-- In Transit Amount: double (nullable = true)\n",
      " |-- NSI Quantity: integer (nullable = true)\n",
      " |-- NSI Amount: integer (nullable = true)\n",
      "\n"
     ]
    }
   ],
   "source": [
    "df_invtry.printSchema()"
   ]
  },
  {
   "cell_type": "code",
   "execution_count": 23,
   "id": "dd317138",
   "metadata": {},
   "outputs": [],
   "source": [
    "from pyspark.sql.functions import col, to_date\n",
    "\n",
    "df_invtry = df_invtry.withColumn('date', to_date(col('Date')))"
   ]
  },
  {
   "cell_type": "code",
   "execution_count": 24,
   "id": "0193943f",
   "metadata": {},
   "outputs": [
    {
     "name": "stdout",
     "output_type": "stream",
     "text": [
      "+----------+-----------+---------------+-----------+---------+-----------------+---------------+-------------------+-----------------+------------+----------+\n",
      "|      date|   Location|           Item|OH Quantity|OH Amount|On Order Quantity|On Order Amount|In Transit Quantity|In Transit Amount|NSI Quantity|NSI Amount|\n",
      "+----------+-----------+---------------+-----------+---------+-----------------+---------------+-------------------+-----------------+------------+----------+\n",
      "|2020-01-01|RICHMOND CA|Chicken XXXXX-O|        164|   818.36|                0|            0.0|                  0|              0.0|           0|         0|\n",
      "|2020-01-01|    HAYWARD|Chicken XXXXX-O|         26|   129.74|                0|            0.0|                 96|           479.04|           0|         0|\n",
      "|2020-01-01|   LAKEWOOD|Chicken XXXXX-O|         56|   279.44|               45|         224.55|                 46|           229.54|           0|         0|\n",
      "|2020-01-02|    HAYWARD|Chicken XXXXX-O|         31|   154.69|                0|            0.0|                  0|              0.0|           0|         0|\n",
      "|2020-01-02|RICHMOND CA|Chicken XXXXX-O|        120|    598.8|                0|            0.0|                  0|              0.0|           0|         0|\n",
      "|2020-01-02|   LAKEWOOD|Chicken XXXXX-O|         57|   284.43|               45|         224.55|                  0|              0.0|           0|         0|\n",
      "|2020-01-03|    HAYWARD|Chicken XXXXX-O|         21|   104.79|               90|          449.1|                  0|              0.0|           0|         0|\n",
      "|2020-01-04|    HAYWARD|Chicken XXXXX-O|         16|    79.84|                0|            0.0|                 88|           439.12|           0|         0|\n",
      "|2020-01-03|RICHMOND CA|Chicken XXXXX-O|        120|    598.8|               45|         224.55|                  0|              0.0|           0|         0|\n",
      "|2020-01-03|   LAKEWOOD|Chicken XXXXX-O|         57|   284.43|               45|         224.55|                 45|           224.55|           0|         0|\n",
      "|2020-01-05|    HAYWARD|Chicken XXXXX-O|         16|    79.84|                0|            0.0|                  0|              0.0|           0|         0|\n",
      "|2020-01-06|    HAYWARD|Chicken XXXXX-O|         16|    79.84|              135|         673.65|                  0|              0.0|           0|         0|\n",
      "|2020-01-04|RICHMOND CA|Chicken XXXXX-O|        120|    598.8|                0|            0.0|                 46|           229.54|           0|         0|\n",
      "|2020-01-04|   LAKEWOOD|Chicken XXXXX-O|         57|   284.43|               45|         224.55|                  0|              0.0|           0|         0|\n",
      "|2020-01-01|    FREMONT|Chicken XXXXX-O|         13|    64.87|                0|            0.0|                 46|           229.54|           0|         0|\n",
      "|2020-01-07|    HAYWARD|Chicken XXXXX-O|         16|    79.84|                0|            0.0|                141|           703.59|           0|         0|\n",
      "|2020-01-05|RICHMOND CA|Chicken XXXXX-O|        121|   603.79|                0|            0.0|                  0|              0.0|           0|         0|\n",
      "|2020-01-05|   LAKEWOOD|Chicken XXXXX-O|         57|   284.43|               45|         224.55|                  0|              0.0|           0|         0|\n",
      "|2020-01-08|    HAYWARD|Chicken XXXXX-O|        102|   508.98|                0|            0.0|                  0|              0.0|           0|         0|\n",
      "|2020-01-02|    FREMONT|Chicken XXXXX-O|         29|   144.71|                0|            0.0|                  0|              0.0|           0|         0|\n",
      "+----------+-----------+---------------+-----------+---------+-----------------+---------------+-------------------+-----------------+------------+----------+\n",
      "only showing top 20 rows\n",
      "\n"
     ]
    }
   ],
   "source": [
    "df_invtry.show()"
   ]
  },
  {
   "cell_type": "code",
   "execution_count": null,
   "id": "56192376",
   "metadata": {},
   "outputs": [],
   "source": []
  },
  {
   "cell_type": "code",
   "execution_count": null,
   "id": "b7d388bb",
   "metadata": {},
   "outputs": [],
   "source": []
  },
  {
   "cell_type": "code",
   "execution_count": null,
   "id": "16402fce",
   "metadata": {},
   "outputs": [],
   "source": []
  },
  {
   "cell_type": "code",
   "execution_count": null,
   "id": "cdef0acd",
   "metadata": {},
   "outputs": [],
   "source": []
  },
  {
   "cell_type": "code",
   "execution_count": null,
   "id": "81e20513",
   "metadata": {},
   "outputs": [],
   "source": []
  }
 ],
 "metadata": {
  "kernelspec": {
   "display_name": "Python 3 (ipykernel)",
   "language": "python",
   "name": "python3"
  },
  "language_info": {
   "codemirror_mode": {
    "name": "ipython",
    "version": 3
   },
   "file_extension": ".py",
   "mimetype": "text/x-python",
   "name": "python",
   "nbconvert_exporter": "python",
   "pygments_lexer": "ipython3",
   "version": "3.9.12"
  }
 },
 "nbformat": 4,
 "nbformat_minor": 5
}
