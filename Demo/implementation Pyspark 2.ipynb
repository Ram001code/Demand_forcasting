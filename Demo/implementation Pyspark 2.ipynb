{
 "cells": [
  {
   "cell_type": "code",
   "execution_count": 1,
   "id": "53fc6e38",
   "metadata": {},
   "outputs": [],
   "source": [
    "#!pip install pyspark"
   ]
  },
  {
   "cell_type": "code",
   "execution_count": 2,
   "id": "944871e5",
   "metadata": {},
   "outputs": [],
   "source": [
    "import findspark\n",
    "\n",
    "findspark.init()"
   ]
  },
  {
   "cell_type": "code",
   "execution_count": 3,
   "id": "6148fb21",
   "metadata": {},
   "outputs": [],
   "source": [
    "import pyspark\n",
    "from pyspark.sql import SparkSession"
   ]
  },
  {
   "cell_type": "code",
   "execution_count": 4,
   "id": "5b58327b",
   "metadata": {},
   "outputs": [],
   "source": [
    "#Successfully installed py4j-0.10.9.5 pyspark-3.3.2"
   ]
  },
  {
   "cell_type": "code",
   "execution_count": 5,
   "id": "73a1cb29",
   "metadata": {},
   "outputs": [],
   "source": [
    "# HADOOP_HOME = C:\\Hadoop\n",
    "# JAVA_HOME = C:\\Java\\jdk-11.0.6\n",
    "# PYSPARK_DRIVER_PYTHON = jupyter\n",
    "# PYSPARK_DRIVER_PYTHON_OPTS = notebook\n",
    "# PYSPARK_PYTHON = python"
   ]
  },
  {
   "cell_type": "code",
   "execution_count": 6,
   "id": "93f71b90",
   "metadata": {},
   "outputs": [],
   "source": [
    "spark=SparkSession.builder.getOrCreate()"
   ]
  },
  {
   "cell_type": "code",
   "execution_count": 7,
   "id": "408e21db",
   "metadata": {},
   "outputs": [
    {
     "data": {
      "text/html": [
       "\n",
       "            <div>\n",
       "                <p><b>SparkSession - in-memory</b></p>\n",
       "                \n",
       "        <div>\n",
       "            <p><b>SparkContext</b></p>\n",
       "\n",
       "            <p><a href=\"http://192.168.0.101:4040\">Spark UI</a></p>\n",
       "\n",
       "            <dl>\n",
       "              <dt>Version</dt>\n",
       "                <dd><code>v3.3.2</code></dd>\n",
       "              <dt>Master</dt>\n",
       "                <dd><code>local[*]</code></dd>\n",
       "              <dt>AppName</dt>\n",
       "                <dd><code>pyspark-shell</code></dd>\n",
       "            </dl>\n",
       "        </div>\n",
       "        \n",
       "            </div>\n",
       "        "
      ],
      "text/plain": [
       "<pyspark.sql.session.SparkSession at 0x1981d920100>"
      ]
     },
     "execution_count": 7,
     "metadata": {},
     "output_type": "execute_result"
    }
   ],
   "source": [
    "spark"
   ]
  },
  {
   "cell_type": "code",
   "execution_count": 8,
   "id": "b3449f78",
   "metadata": {},
   "outputs": [],
   "source": [
    "df_rw =spark.read.option('header','true').csv('Dataset//inventory_final_data.csv',inferSchema=True)"
   ]
  },
  {
   "cell_type": "code",
   "execution_count": 9,
   "id": "2a568f7e",
   "metadata": {},
   "outputs": [
    {
     "name": "stdout",
     "output_type": "stream",
     "text": [
      "root\n",
      " |-- date: timestamp (nullable = true)\n",
      " |-- store_id: integer (nullable = true)\n",
      " |-- sku: integer (nullable = true)\n",
      " |-- product_category: string (nullable = true)\n",
      " |-- total_sales_units: integer (nullable = true)\n",
      " |-- on_hand_inventory_units: double (nullable = true)\n",
      " |-- replenishment_units: integer (nullable = true)\n",
      " |-- inventory_pipeline: integer (nullable = true)\n",
      " |-- units_in_transit: integer (nullable = true)\n",
      " |-- units_in_dc: integer (nullable = true)\n",
      " |-- units_on_order: integer (nullable = true)\n",
      " |-- units_under_promotion: integer (nullable = true)\n",
      " |-- shelf_capacity: double (nullable = true)\n",
      " |-- promotion_flag: integer (nullable = true)\n",
      " |-- replenishment_flag: integer (nullable = true)\n",
      "\n"
     ]
    }
   ],
   "source": [
    "df_rw.printSchema()"
   ]
  },
  {
   "cell_type": "code",
   "execution_count": 10,
   "id": "9c6cc622",
   "metadata": {},
   "outputs": [],
   "source": [
    "from pyspark.sql.functions import col, to_date\n",
    "\n",
    "df_rw = df_rw.withColumn('date', to_date(col('Date')))"
   ]
  },
  {
   "cell_type": "code",
   "execution_count": 11,
   "id": "bc2da8d5",
   "metadata": {},
   "outputs": [
    {
     "name": "stdout",
     "output_type": "stream",
     "text": [
      "root\n",
      " |-- date: date (nullable = true)\n",
      " |-- store_id: integer (nullable = true)\n",
      " |-- sku: integer (nullable = true)\n",
      " |-- product_category: string (nullable = true)\n",
      " |-- total_sales_units: integer (nullable = true)\n",
      " |-- on_hand_inventory_units: double (nullable = true)\n",
      " |-- replenishment_units: integer (nullable = true)\n",
      " |-- inventory_pipeline: integer (nullable = true)\n",
      " |-- units_in_transit: integer (nullable = true)\n",
      " |-- units_in_dc: integer (nullable = true)\n",
      " |-- units_on_order: integer (nullable = true)\n",
      " |-- units_under_promotion: integer (nullable = true)\n",
      " |-- shelf_capacity: double (nullable = true)\n",
      " |-- promotion_flag: integer (nullable = true)\n",
      " |-- replenishment_flag: integer (nullable = true)\n",
      "\n"
     ]
    }
   ],
   "source": [
    "df_rw.printSchema()"
   ]
  },
  {
   "cell_type": "code",
   "execution_count": 12,
   "id": "1589bd9d",
   "metadata": {},
   "outputs": [],
   "source": [
    "df_vendor =spark.read.csv('Dataset//Vendor_data.csv' ,header=True,inferSchema=True)"
   ]
  },
  {
   "cell_type": "code",
   "execution_count": 13,
   "id": "8e25b4ac",
   "metadata": {},
   "outputs": [
    {
     "name": "stdout",
     "output_type": "stream",
     "text": [
      "+---+---------+-------------+--------+-------+---------------+--------------------+------------------+\n",
      "|key|vendor_id|sub_vendor_id|store_id|item_id|LEAD_TIME_IN_DC|LEAD_TIME_IN_TRANSIT|LEAD_TIME_ON_ORDER|\n",
      "+---+---------+-------------+--------+-------+---------------+--------------------+------------------+\n",
      "|  1|        1|         1001|    1763|      1|              4|                   3|                 7|\n",
      "|  2|        1|         1001|    1763|      2|              2|                   1|                 7|\n",
      "|  3|        1|         1002|    1843|      2|              2|                   1|                 7|\n",
      "|  4|        1|         1001|    1763|      3|              4|                   3|                 7|\n",
      "|  5|        2|         2016|     486|      6|              2|                   1|                 8|\n",
      "|  6|        2|         2073|    1587|      7|              3|                   2|                 9|\n",
      "|  7|        2|         2087|    1556|      8|              4|                   3|                 7|\n",
      "|  8|        8|         8010|    1283|     39|              3|                   2|                 6|\n",
      "|  9|       10|        10001|    1763|     46|              2|                   1|                 5|\n",
      "| 10|       11|        11001|     334|     52|              4|                   3|                 8|\n",
      "| 11|       12|        12006|      63|     57|              4|                   3|                10|\n",
      "| 12|       13|        13091|      98|     64|              3|                   2|                 9|\n",
      "| 13|       13|       130153|     171|     64|              3|                   2|                 7|\n",
      "| 14|       13|       130160|     178|     64|              2|                   1|                 6|\n",
      "| 15|       13|       130185|     206|     64|              4|                   3|                 8|\n",
      "| 16|       13|       130188|     209|     64|              2|                   1|                 5|\n",
      "| 17|       13|       130208|     232|     64|              2|                   1|                 5|\n",
      "| 18|       13|       130223|     249|     64|              4|                   3|                 9|\n",
      "| 19|       13|       130244|     274|     64|              4|                   3|                10|\n",
      "| 20|       13|       130297|     337|     64|              3|                   2|                 8|\n",
      "+---+---------+-------------+--------+-------+---------------+--------------------+------------------+\n",
      "only showing top 20 rows\n",
      "\n"
     ]
    }
   ],
   "source": [
    "df_vendor.show()"
   ]
  },
  {
   "cell_type": "markdown",
   "id": "160b1e21",
   "metadata": {},
   "source": [
    "# Step-2: Identify Phantom Inventory\n",
    "#### Calculate Phantom Inventory"
   ]
  },
  {
   "cell_type": "code",
   "execution_count": 14,
   "id": "d72b8ab1",
   "metadata": {},
   "outputs": [],
   "source": [
    "# !pip install pandas"
   ]
  },
  {
   "cell_type": "code",
   "execution_count": 15,
   "id": "6295d901",
   "metadata": {},
   "outputs": [],
   "source": [
    "import pyspark.sql.functions as f\n",
    "from pyspark.sql.types import *\n",
    " \n",
    "import pandas as pd"
   ]
  },
  {
   "cell_type": "code",
   "execution_count": 16,
   "id": "01521fc8",
   "metadata": {},
   "outputs": [],
   "source": [
    "\n",
    "# phantom inventory calculations\n",
    "phantom_inventory = (\n",
    "  df_rw\n",
    "    \n",
    "    # average daily sales\n",
    "    .withColumn('daily_sales_units', f.expr('AVG(total_sales_units) OVER(PARTITION BY store_id, sku ORDER BY date)')) \n",
    "    \n",
    "    # on-hand inventory units at the end of previous day\n",
    "    # for dates with no prior day inventory units, provide alt calculation\n",
    "    .withColumn('start_on_hand_units', f.expr('''\n",
    "      COALESCE( \n",
    "        LAG(on_hand_inventory_units, 1) OVER(PARTITION BY store_id, sku ORDER BY date), \n",
    "        on_hand_inventory_units + total_sales_units - replenishment_units\n",
    "        )\n",
    "        ''')) \n",
    "    \n",
    "    # on-hand inventory units at end of day\n",
    "    .withColumn('end_on_hand_units', f.expr('COALESCE(on_hand_inventory_units, 0)')) \n",
    "    \n",
    "    # calculate phantom inventory as difference in:\n",
    "    # (previous day's on-hand inventory + current day's replenished units - current day's sales units) and current day's end-of-day inventory \n",
    "    .withColumn('phantom_inventory', f.expr('start_on_hand_units + replenishment_units - total_sales_units - end_on_hand_units')) \n",
    "    \n",
    "    # flag only when phantom inventory is at least 5 times average daily sales\n",
    "    .withColumn('phantom_inventory_ind', f.expr('''\n",
    "      CASE\n",
    "        WHEN phantom_inventory <> 0 AND ABS(phantom_inventory) > 5 * daily_sales_units THEN 1 \n",
    "        ELSE 0 \n",
    "        END'''))  \n",
    "  \n",
    "    .select(\n",
    "      'date',\n",
    "      'store_id',\n",
    "      'sku',\n",
    "      'daily_sales_units',\n",
    "      'start_on_hand_units',\n",
    "      'replenishment_units',\n",
    "      'total_sales_units',\n",
    "      'end_on_hand_units',\n",
    "      'phantom_inventory',\n",
    "      'phantom_inventory_ind'\n",
    "      )\n",
    "    )\n",
    " "
   ]
  },
  {
   "cell_type": "code",
   "execution_count": 17,
   "id": "e80f119a",
   "metadata": {},
   "outputs": [
    {
     "name": "stdout",
     "output_type": "stream",
     "text": [
      "+----------+--------+---+------------------+-------------------+-------------------+-----------------+-----------------+-----------------+---------------------+\n",
      "|      date|store_id|sku| daily_sales_units|start_on_hand_units|replenishment_units|total_sales_units|end_on_hand_units|phantom_inventory|phantom_inventory_ind|\n",
      "+----------+--------+---+------------------+-------------------+-------------------+-----------------+-----------------+-----------------+---------------------+\n",
      "|2019-01-01|      63| 57|               0.0|               null|                  0|                0|              0.0|             null|                    0|\n",
      "|2019-01-02|      63| 57|               0.0|                8.0|                  0|                0|              8.0|              0.0|                    0|\n",
      "|2019-01-03|      63| 57|               0.0|                8.0|                  0|                0|              8.0|              0.0|                    0|\n",
      "|2019-01-04|      63| 57|               0.0|                8.0|                  0|                0|              7.0|              1.0|                    1|\n",
      "|2019-01-05|      63| 57|               0.6|                7.0|                  8|                3|              5.0|              7.0|                    1|\n",
      "|2019-01-06|      63| 57|0.8333333333333334|                5.0|                  0|                2|             11.0|             -8.0|                    1|\n",
      "|2019-01-07|      63| 57|0.7142857142857143|               11.0|                  0|                0|             11.0|              0.0|                    0|\n",
      "|2019-01-08|      63| 57|             0.625|               11.0|                  0|                0|             11.0|              0.0|                    0|\n",
      "|2019-01-09|      63| 57|0.8888888888888888|               11.0|                  0|                3|              7.0|              1.0|                    0|\n",
      "|2019-01-10|      63| 57|               1.0|                7.0|                  0|                2|              5.0|              0.0|                    0|\n",
      "|2019-01-11|      63| 57|0.9090909090909091|                5.0|                  0|                0|              5.0|              0.0|                    0|\n",
      "|2019-01-12|      63| 57|0.8333333333333334|                5.0|                  0|                0|              5.0|              0.0|                    0|\n",
      "|2019-01-13|      63| 57|0.7692307692307693|                5.0|                  0|                0|             13.0|             -8.0|                    1|\n",
      "|2019-01-14|      63| 57|0.7142857142857143|               13.0|                  0|                0|             13.0|              0.0|                    0|\n",
      "|2019-01-15|      63| 57|0.6666666666666666|               13.0|                  0|                0|             13.0|              0.0|                    0|\n",
      "|2019-01-16|      63| 57|             0.625|               13.0|                  0|                0|             14.0|             -1.0|                    0|\n",
      "|2019-01-17|      63| 57|0.5882352941176471|               14.0|                  0|                0|             14.0|              0.0|                    0|\n",
      "|2019-01-18|      63| 57|0.5555555555555556|               14.0|                  0|                0|             14.0|              0.0|                    0|\n",
      "|2019-01-19|      63| 57|0.5263157894736842|               14.0|                  0|                0|             14.0|              0.0|                    0|\n",
      "|2019-01-20|      63| 57|               0.6|               14.0|                  0|                2|              6.0|              6.0|                    1|\n",
      "+----------+--------+---+------------------+-------------------+-------------------+-----------------+-----------------+-----------------+---------------------+\n",
      "only showing top 20 rows\n",
      "\n"
     ]
    }
   ],
   "source": [
    "phantom_inventory.show()"
   ]
  },
  {
   "cell_type": "markdown",
   "id": "261c1c87",
   "metadata": {},
   "source": [
    "## Step 3: Identify Out of Stocks\n",
    "#### Join Inventory to Phantom Inventory"
   ]
  },
  {
   "cell_type": "code",
   "execution_count": 18,
   "id": "384e13d8",
   "metadata": {},
   "outputs": [],
   "source": [
    "\n",
    "# combine inventory with phantom inventory and min lead times\n",
    "inventory_with_pi = (\n",
    "  df_rw.alias('inv')\n",
    "    .join(phantom_inventory.alias('pi'), on=['store_id','sku','date'])\n",
    "  \n",
    "    # limit fields to use moving forward\n",
    "    .selectExpr(\n",
    "      'inv.store_id',\n",
    "      'inv.sku',\n",
    "      'inv.date',\n",
    "      'inv.product_category',\n",
    "      'inv.on_hand_inventory_units',\n",
    "      'inv.total_sales_units',\n",
    "      'inv.replenishment_units',\n",
    "      'inv.replenishment_flag',\n",
    "      'inv.units_on_order',\n",
    "      'inv.units_in_transit',\n",
    "      'inv.units_in_dc',\n",
    "      'pi.phantom_inventory'\n",
    "      )\n",
    "  \n",
    "  # correct inventory values to enable calculations\n",
    "  .withColumn('phantom_inventory', f.expr('COALESCE(phantom_inventory, 0)')) \n",
    "  .withColumn('on_hand_inventory_units', f.expr('''\n",
    "              CASE \n",
    "                WHEN on_hand_inventory_units < 0 THEN 0 \n",
    "                ELSE on_hand_inventory_units \n",
    "                END''')\n",
    "             )\n",
    "   .withColumn('replenishment_units', f.expr('''\n",
    "              CASE \n",
    "                WHEN replenishment_flag = 1 THEN replenishment_units\n",
    "                ELSE 0 \n",
    "                END''')\n",
    "             )\n",
    "  \n",
    "  # initialize estimated on-hand inventory field\n",
    "   .withColumn('estimated_on_hand_inventory', f.lit(0)) \n",
    "  )\n",
    " \n"
   ]
  },
  {
   "cell_type": "code",
   "execution_count": 19,
   "id": "856876e6",
   "metadata": {},
   "outputs": [
    {
     "name": "stdout",
     "output_type": "stream",
     "text": [
      "+--------+---+----------+----------------+-----------------------+-----------------+-------------------+------------------+--------------+----------------+-----------+-----------------+---------------------------+\n",
      "|store_id|sku|      date|product_category|on_hand_inventory_units|total_sales_units|replenishment_units|replenishment_flag|units_on_order|units_in_transit|units_in_dc|phantom_inventory|estimated_on_hand_inventory|\n",
      "+--------+---+----------+----------------+-----------------------+-----------------+-------------------+------------------+--------------+----------------+-----------+-----------------+---------------------------+\n",
      "|      63| 57|2019-01-01|     Category 04|                   null|                0|                  0|                 0|             0|               0|          0|              0.0|                          0|\n",
      "|      63| 57|2019-01-02|     Category 04|                    8.0|                0|                  0|                 0|             8|               0|          0|              0.0|                          0|\n",
      "|      63| 57|2019-01-03|     Category 04|                    8.0|                0|                  0|                 0|             0|               0|          0|              0.0|                          0|\n",
      "|      63| 57|2019-01-04|     Category 04|                    7.0|                0|                  0|                 0|             0|               0|          8|              1.0|                          0|\n",
      "|      63| 57|2019-01-05|     Category 04|                    5.0|                3|                  8|                 1|             0|               8|          0|              7.0|                          0|\n",
      "|      63| 57|2019-01-06|     Category 04|                   11.0|                2|                  0|                 0|             0|               0|          0|             -8.0|                          0|\n",
      "|      63| 57|2019-01-07|     Category 04|                   11.0|                0|                  0|                 0|             0|               0|          0|              0.0|                          0|\n",
      "|      63| 57|2019-01-08|     Category 04|                   11.0|                0|                  0|                 0|             0|               0|          0|              0.0|                          0|\n",
      "|      63| 57|2019-01-09|     Category 04|                    7.0|                3|                  0|                 0|             8|               0|          0|              1.0|                          0|\n",
      "|      63| 57|2019-01-10|     Category 04|                    5.0|                2|                  0|                 0|             8|               0|          0|              0.0|                          0|\n",
      "|      63| 57|2019-01-11|     Category 04|                    5.0|                0|                  0|                 0|             0|               0|          0|              0.0|                          0|\n",
      "|      63| 57|2019-01-12|     Category 04|                    5.0|                0|                  0|                 0|             0|               0|          0|              0.0|                          0|\n",
      "|      63| 57|2019-01-13|     Category 04|                   13.0|                0|                  0|                 0|             0|               0|          8|             -8.0|                          0|\n",
      "|      63| 57|2019-01-14|     Category 04|                   13.0|                0|                  0|                 0|             0|               0|          0|              0.0|                          0|\n",
      "|      63| 57|2019-01-15|     Category 04|                   13.0|                0|                  0|                 0|             0|               0|          0|              0.0|                          0|\n",
      "|      63| 57|2019-01-16|     Category 04|                   14.0|                0|                  0|                 0|             0|               0|          0|             -1.0|                          0|\n",
      "|      63| 57|2019-01-17|     Category 04|                   14.0|                0|                  0|                 0|             0|               0|          0|              0.0|                          0|\n",
      "|      63| 57|2019-01-18|     Category 04|                   14.0|                0|                  0|                 0|             0|               0|          0|              0.0|                          0|\n",
      "|      63| 57|2019-01-19|     Category 04|                   14.0|                0|                  0|                 0|             0|               0|          0|              0.0|                          0|\n",
      "|      63| 57|2019-01-20|     Category 04|                    6.0|                2|                  0|                 0|             8|               0|          0|              6.0|                          0|\n",
      "+--------+---+----------+----------------+-----------------------+-----------------+-------------------+------------------+--------------+----------------+-----------+-----------------+---------------------------+\n",
      "only showing top 20 rows\n",
      "\n"
     ]
    }
   ],
   "source": [
    "inventory_with_pi.show()"
   ]
  },
  {
   "cell_type": "code",
   "execution_count": 20,
   "id": "9887b2b5",
   "metadata": {},
   "outputs": [
    {
     "data": {
      "text/plain": [
       "[Row(store_id=63, sku=57, date=datetime.date(2019, 1, 1), product_category='Category 04', on_hand_inventory_units=None, total_sales_units=0, replenishment_units=0, replenishment_flag=0, units_on_order=0, units_in_transit=0, units_in_dc=0, phantom_inventory=0.0, estimated_on_hand_inventory=0),\n",
       " Row(store_id=63, sku=57, date=datetime.date(2019, 1, 2), product_category='Category 04', on_hand_inventory_units=8.0, total_sales_units=0, replenishment_units=0, replenishment_flag=0, units_on_order=8, units_in_transit=0, units_in_dc=0, phantom_inventory=0.0, estimated_on_hand_inventory=0),\n",
       " Row(store_id=63, sku=57, date=datetime.date(2019, 1, 3), product_category='Category 04', on_hand_inventory_units=8.0, total_sales_units=0, replenishment_units=0, replenishment_flag=0, units_on_order=0, units_in_transit=0, units_in_dc=0, phantom_inventory=0.0, estimated_on_hand_inventory=0),\n",
       " Row(store_id=63, sku=57, date=datetime.date(2019, 1, 4), product_category='Category 04', on_hand_inventory_units=7.0, total_sales_units=0, replenishment_units=0, replenishment_flag=0, units_on_order=0, units_in_transit=0, units_in_dc=8, phantom_inventory=1.0, estimated_on_hand_inventory=0),\n",
       " Row(store_id=63, sku=57, date=datetime.date(2019, 1, 5), product_category='Category 04', on_hand_inventory_units=5.0, total_sales_units=3, replenishment_units=8, replenishment_flag=1, units_on_order=0, units_in_transit=8, units_in_dc=0, phantom_inventory=7.0, estimated_on_hand_inventory=0)]"
      ]
     },
     "execution_count": 20,
     "metadata": {},
     "output_type": "execute_result"
    }
   ],
   "source": [
    "inventory_with_pi.head(5)"
   ]
  },
  {
   "cell_type": "markdown",
   "id": "30e2a703",
   "metadata": {},
   "source": [
    "## Estimate On-Hand Inventory"
   ]
  },
  {
   "cell_type": "code",
   "execution_count": 21,
   "id": "06e116a7",
   "metadata": {},
   "outputs": [],
   "source": [
    "#!pip install pyarrow"
   ]
  },
  {
   "cell_type": "code",
   "execution_count": 22,
   "id": "24e77697",
   "metadata": {},
   "outputs": [],
   "source": [
    "#!conda install -c cyclus java-jdk"
   ]
  },
  {
   "cell_type": "code",
   "execution_count": 23,
   "id": "c336c12b",
   "metadata": {},
   "outputs": [],
   "source": [
    "\n",
    "# iterate over inventory to calculate current inventory levels\n",
    "def get_estimated_inventory(inventory_pd: pd.DataFrame) -> pd.DataFrame:\n",
    "    inventory_pd.sort_values('date', inplace=True)\n",
    "    # iterate over records in inventory data\n",
    "    for i in range(1,len(inventory_pd)):\n",
    "    \n",
    "        # get component values\n",
    "        previous_inv = inventory_pd.estimated_on_hand_inventory.iloc[i-1]\n",
    "        if previous_inv < 0: previous_inv = 0\n",
    "\n",
    "        replenishment_units = inventory_pd.replenishment_units.iloc[i]\n",
    "        total_sales_units = inventory_pd.total_sales_units.iloc[i]\n",
    "        phantom_inventory_units = inventory_pd.phantom_inventory.iloc[i]\n",
    "        on_hand_inventory_units = inventory_pd.on_hand_inventory_units.iloc[i]\n",
    "\n",
    "        # calculate estimated on-hand inventory\n",
    "        estimated_on_hand_inventory = previous_inv + replenishment_units - total_sales_units - phantom_inventory_units\n",
    "        if estimated_on_hand_inventory < 0: estimated_on_hand_inventory = 0\n",
    "        if estimated_on_hand_inventory > on_hand_inventory_units: estimated_on_hand_inventory = on_hand_inventory_units\n",
    "\n",
    "        inventory_pd.estimated_on_hand_inventory.iloc[i] = estimated_on_hand_inventory\n",
    "    \n",
    "    return inventory_pd\n",
    "\n",
    " \n"
   ]
  },
  {
   "cell_type": "markdown",
   "id": "0eae52f0",
   "metadata": {},
   "source": [
    "#### calculate estimated on-hand inventory"
   ]
  },
  {
   "cell_type": "code",
   "execution_count": 24,
   "id": "71883526",
   "metadata": {},
   "outputs": [],
   "source": [
    "#!pip install pyarrow"
   ]
  },
  {
   "cell_type": "code",
   "execution_count": 25,
   "id": "f4e5b6bb",
   "metadata": {},
   "outputs": [],
   "source": [
    "\n",
    "inventory_on_hand = (\n",
    "  inventory_with_pi\n",
    "  .groupby('store_id', 'sku')\n",
    "    .applyInPandas( get_estimated_inventory, schema=inventory_with_pi.schema )\n",
    "  )\n",
    " \n"
   ]
  },
  {
   "cell_type": "code",
   "execution_count": 26,
   "id": "5405609f",
   "metadata": {},
   "outputs": [
    {
     "data": {
      "text/plain": [
       "DataFrame[store_id: int, sku: int, date: date, product_category: string, on_hand_inventory_units: double, total_sales_units: int, replenishment_units: int, replenishment_flag: int, units_on_order: int, units_in_transit: int, units_in_dc: int, phantom_inventory: double, estimated_on_hand_inventory: int]"
      ]
     },
     "metadata": {},
     "output_type": "display_data"
    }
   ],
   "source": [
    "display(inventory_on_hand)"
   ]
  },
  {
   "cell_type": "code",
   "execution_count": 27,
   "id": "cb8c90ae",
   "metadata": {},
   "outputs": [],
   "source": [
    "#-*- coding: utf-8 -*-"
   ]
  },
  {
   "cell_type": "code",
   "execution_count": 28,
   "id": "da45f817",
   "metadata": {},
   "outputs": [
    {
     "name": "stdout",
     "output_type": "stream",
     "text": [
      "+--------+---+----------+----------------+-----------------------+-----------------+-------------------+------------------+--------------+----------------+-----------+-----------------+---------------------------+\n",
      "|store_id|sku|      date|product_category|on_hand_inventory_units|total_sales_units|replenishment_units|replenishment_flag|units_on_order|units_in_transit|units_in_dc|phantom_inventory|estimated_on_hand_inventory|\n",
      "+--------+---+----------+----------------+-----------------------+-----------------+-------------------+------------------+--------------+----------------+-----------+-----------------+---------------------------+\n",
      "|      63| 57|2019-01-01|     Category 04|                   null|                0|                  0|                 0|             0|               0|          0|              0.0|                          0|\n",
      "|      63| 57|2019-01-02|     Category 04|                    8.0|                0|                  0|                 0|             8|               0|          0|              0.0|                          0|\n",
      "|      63| 57|2019-01-03|     Category 04|                    8.0|                0|                  0|                 0|             0|               0|          0|              0.0|                          0|\n",
      "|      63| 57|2019-01-04|     Category 04|                    7.0|                0|                  0|                 0|             0|               0|          8|              1.0|                          0|\n",
      "|      63| 57|2019-01-05|     Category 04|                    5.0|                3|                  8|                 1|             0|               8|          0|              7.0|                          0|\n",
      "|      63| 57|2019-01-06|     Category 04|                   11.0|                2|                  0|                 0|             0|               0|          0|             -8.0|                          6|\n",
      "|      63| 57|2019-01-07|     Category 04|                   11.0|                0|                  0|                 0|             0|               0|          0|              0.0|                          6|\n",
      "|      63| 57|2019-01-08|     Category 04|                   11.0|                0|                  0|                 0|             0|               0|          0|              0.0|                          6|\n",
      "|      63| 57|2019-01-09|     Category 04|                    7.0|                3|                  0|                 0|             8|               0|          0|              1.0|                          2|\n",
      "|      63| 57|2019-01-10|     Category 04|                    5.0|                2|                  0|                 0|             8|               0|          0|              0.0|                          0|\n",
      "|      63| 57|2019-01-11|     Category 04|                    5.0|                0|                  0|                 0|             0|               0|          0|              0.0|                          0|\n",
      "|      63| 57|2019-01-12|     Category 04|                    5.0|                0|                  0|                 0|             0|               0|          0|              0.0|                          0|\n",
      "|      63| 57|2019-01-13|     Category 04|                   13.0|                0|                  0|                 0|             0|               0|          8|             -8.0|                          8|\n",
      "|      63| 57|2019-01-14|     Category 04|                   13.0|                0|                  0|                 0|             0|               0|          0|              0.0|                          8|\n",
      "|      63| 57|2019-01-15|     Category 04|                   13.0|                0|                  0|                 0|             0|               0|          0|              0.0|                          8|\n",
      "|      63| 57|2019-01-16|     Category 04|                   14.0|                0|                  0|                 0|             0|               0|          0|             -1.0|                          9|\n",
      "|      63| 57|2019-01-17|     Category 04|                   14.0|                0|                  0|                 0|             0|               0|          0|              0.0|                          9|\n",
      "|      63| 57|2019-01-18|     Category 04|                   14.0|                0|                  0|                 0|             0|               0|          0|              0.0|                          9|\n",
      "|      63| 57|2019-01-19|     Category 04|                   14.0|                0|                  0|                 0|             0|               0|          0|              0.0|                          9|\n",
      "|      63| 57|2019-01-20|     Category 04|                    6.0|                2|                  0|                 0|             8|               0|          0|              6.0|                          1|\n",
      "+--------+---+----------+----------------+-----------------------+-----------------+-------------------+------------------+--------------+----------------+-----------+-----------------+---------------------------+\n",
      "only showing top 20 rows\n",
      "\n"
     ]
    }
   ],
   "source": [
    "inventory_on_hand.show()"
   ]
  },
  {
   "cell_type": "markdown",
   "id": "b2622e99",
   "metadata": {},
   "source": [
    "### Calculate Average On-Hand and Average Daily Sales Metrics"
   ]
  },
  {
   "cell_type": "code",
   "execution_count": 30,
   "id": "4c5c7c09",
   "metadata": {},
   "outputs": [
    {
     "data": {
      "text/plain": [
       "\"\\ninventory_with_metrics = (\\n  inventory_on_hand\\n    \\n    # AVERAGE ON-HAND UNITS PRIOR TO REPLENISHMENT\\n    # ------------------------------------------------------------------------------------\\n    # getting prior day's on-hand inventory only for the days with replenishment\\n    .withColumn('prior_inventory', f.expr('LAG(estimated_on_hand_inventory, 1) OVER(PARTITION BY store_id, sku ORDER BY date)'))\\n    .withColumn('prior_inventory', f.expr('COALESCE(prior_inventory,0)'))\\n    .withColumn('prior_inventory', f.expr('CASE WHEN replenishment_flag=1 THEN prior_inventory ELSE 0 END'))\\n  \\n    # calculating rolling average of prior day's on-hand inventory for days with replenishment (over last 90 days)\\n    .withColumn('rolling_stock_onhand', f.expr('''\\n      SUM(prior_inventory) OVER(PARTITION BY store_id, sku ORDER BY date ROWS BETWEEN 90 PRECEDING AND CURRENT ROW) /\\n      (SUM(replenishment_flag) OVER(PARTITION BY store_id, sku ORDER BY date ROWS BETWEEN 90 PRECEDING AND CURRENT ROW) + 1)\\n      '''\\n      ))\\n    .withColumn('rolling_min_expected_stock', f.expr('CASE WHEN replenishment_flag != 1 THEN 0 ELSE rolling_stock_onhand END'))\\n    .withColumn('rolling_min_expected_stock', f.expr('COALESCE(rolling_min_expected_stock,0)'))\\n    \\n    # fixing the inventory values for all dates through forward fill\\n    .withColumn('min_expected_stock', f.expr('NULLIF(rolling_min_expected_stock,0)'))\\n    .withColumn('min_expected_stock', f.expr('LAST(min_expected_stock, True) OVER(PARTITION BY store_id, sku ORDER BY date)'))\\n    .withColumn('min_expected_stock', f.expr('COALESCE(min_expected_stock, 0)'))\\n    # ------------------------------------------------------------------------------------\\n  \\n    # AVERAGE DAILY SALES\\n    # ------------------------------------------------------------------------------------\\n    # getting daily sales velocity\\n    .withColumn('daily_sales_units', f.expr('AVG(total_sales_units) OVER(PARTITION BY store_id, sku ORDER BY date ROWS BETWEEN 90 PRECEDING AND CURRENT ROW)'))\\n    .withColumn('daily_sales_units', f.expr('LAST(daily_sales_units, True) OVER(PARTITION BY store_id, sku ORDER BY date)'))\\n    .withColumn('daily_sales_units', f.expr('COALESCE(daily_sales_units, 0)'))\\n    # ------------------------------------------------------------------------------------\\n  )\\n\""
      ]
     },
     "execution_count": 30,
     "metadata": {},
     "output_type": "execute_result"
    }
   ],
   "source": [
    "\"\"\"\n",
    "inventory_with_metrics = (\n",
    "  inventory_on_hand\n",
    "    \n",
    "    # AVERAGE ON-HAND UNITS PRIOR TO REPLENISHMENT\n",
    "    # ------------------------------------------------------------------------------------\n",
    "    # getting prior day's on-hand inventory only for the days with replenishment\n",
    "    .withColumn('prior_inventory', f.expr('LAG(estimated_on_hand_inventory, 1) OVER(PARTITION BY store_id, sku ORDER BY date)'))\n",
    "    .withColumn('prior_inventory', f.expr('COALESCE(prior_inventory,0)'))\n",
    "    .withColumn('prior_inventory', f.expr('CASE WHEN replenishment_flag=1 THEN prior_inventory ELSE 0 END'))\n",
    "  \n",
    "    # calculating rolling average of prior day's on-hand inventory for days with replenishment (over last 90 days)\n",
    "    .withColumn('rolling_stock_onhand', f.expr('''\n",
    "      SUM(prior_inventory) OVER(PARTITION BY store_id, sku ORDER BY date ROWS BETWEEN 90 PRECEDING AND CURRENT ROW) /\n",
    "      (SUM(replenishment_flag) OVER(PARTITION BY store_id, sku ORDER BY date ROWS BETWEEN 90 PRECEDING AND CURRENT ROW) + 1)\n",
    "      '''\n",
    "      ))\n",
    "    .withColumn('rolling_min_expected_stock', f.expr('CASE WHEN replenishment_flag != 1 THEN 0 ELSE rolling_stock_onhand END'))\n",
    "    .withColumn('rolling_min_expected_stock', f.expr('COALESCE(rolling_min_expected_stock,0)'))\n",
    "    \n",
    "    # fixing the inventory values for all dates through forward fill\n",
    "    .withColumn('min_expected_stock', f.expr('NULLIF(rolling_min_expected_stock,0)'))\n",
    "    .withColumn('min_expected_stock', f.expr('LAST(min_expected_stock, True) OVER(PARTITION BY store_id, sku ORDER BY date)'))\n",
    "    .withColumn('min_expected_stock', f.expr('COALESCE(min_expected_stock, 0)'))\n",
    "    # ------------------------------------------------------------------------------------\n",
    "  \n",
    "    # AVERAGE DAILY SALES\n",
    "    # ------------------------------------------------------------------------------------\n",
    "    # getting daily sales velocity\n",
    "    .withColumn('daily_sales_units', f.expr('AVG(total_sales_units) OVER(PARTITION BY store_id, sku ORDER BY date ROWS BETWEEN 90 PRECEDING AND CURRENT ROW)'))\n",
    "    .withColumn('daily_sales_units', f.expr('LAST(daily_sales_units, True) OVER(PARTITION BY store_id, sku ORDER BY date)'))\n",
    "    .withColumn('daily_sales_units', f.expr('COALESCE(daily_sales_units, 0)'))\n",
    "    # ------------------------------------------------------------------------------------\n",
    "  )\n",
    "\"\"\"\n"
   ]
  },
  {
   "cell_type": "code",
   "execution_count": 31,
   "id": "be1b9423",
   "metadata": {},
   "outputs": [],
   "source": [
    "inventory_with_metrics = (\n",
    "  inventory_on_hand\n",
    "    \n",
    "    # AVERAGE ON-HAND UNITS PRIOR TO REPLENISHMENT\n",
    "    # ------------------------------------------------------------------------------------\n",
    "    # getting prior day's on-hand inventory only for the days with replenishment\n",
    "    .withColumn('prior_inventory', f.expr('LAG(estimated_on_hand_inventory, 1) OVER(PARTITION BY store_id, sku ORDER BY date)'))\n",
    "    .withColumn('prior_inventory', f.expr('COALESCE(prior_inventory,0)'))\n",
    "    .withColumn('prior_inventory', f.expr('CASE WHEN replenishment_flag=1 THEN prior_inventory ELSE 0 END'))\n",
    ")"
   ]
  },
  {
   "cell_type": "code",
   "execution_count": 33,
   "id": "ca6a937e",
   "metadata": {},
   "outputs": [],
   "source": [
    "inventory_with_metrics = (\n",
    "  inventory_with_metrics\n",
    "    \n",
    "    # calculating rolling average of prior day's on-hand inventory for days with replenishment (over last 90 days)\n",
    "    .withColumn('rolling_stock_onhand', f.expr('''\n",
    "      SUM(prior_inventory) OVER(PARTITION BY store_id, sku ORDER BY date ROWS BETWEEN 90 PRECEDING AND CURRENT ROW) /\n",
    "      (SUM(replenishment_flag) OVER(PARTITION BY store_id, sku ORDER BY date ROWS BETWEEN 90 PRECEDING AND CURRENT ROW) + 1)\n",
    "      '''\n",
    "      ))\n",
    "    .withColumn('rolling_min_expected_stock', f.expr('CASE WHEN replenishment_flag != 1 THEN 0 ELSE rolling_stock_onhand END'))\n",
    "    .withColumn('rolling_min_expected_stock', f.expr('COALESCE(rolling_min_expected_stock,0)'))\n",
    ")"
   ]
  },
  {
   "cell_type": "code",
   "execution_count": 34,
   "id": "456a55a8",
   "metadata": {},
   "outputs": [],
   "source": [
    "inventory_with_metrics = (\n",
    "  inventory_with_metrics\n",
    "    \n",
    "    # fixing the inventory values for all dates through forward fill\n",
    "    .withColumn('min_expected_stock', f.expr('NULLIF(rolling_min_expected_stock,0)'))\n",
    "    .withColumn('min_expected_stock', f.expr('LAST(min_expected_stock, True) OVER(PARTITION BY store_id, sku ORDER BY date)'))\n",
    "    .withColumn('min_expected_stock', f.expr('COALESCE(min_expected_stock, 0)'))\n",
    "    # ------------------------------------------------------------------------------------\n",
    "  \n",
    ")"
   ]
  },
  {
   "cell_type": "code",
   "execution_count": 35,
   "id": "35a5c9f0",
   "metadata": {},
   "outputs": [],
   "source": [
    "inventory_with_metrics = (\n",
    "  inventory_with_metrics\n",
    "    \n",
    "    # AVERAGE DAILY SALES\n",
    "    # ------------------------------------------------------------------------------------\n",
    "    # getting daily sales velocity\n",
    "    .withColumn('daily_sales_units', f.expr('AVG(total_sales_units) OVER(PARTITION BY store_id, sku ORDER BY date ROWS BETWEEN 90 PRECEDING AND CURRENT ROW)'))\n",
    "    .withColumn('daily_sales_units', f.expr('LAST(daily_sales_units, True) OVER(PARTITION BY store_id, sku ORDER BY date)'))\n",
    "    .withColumn('daily_sales_units', f.expr('COALESCE(daily_sales_units, 0)'))\n",
    "    # ------------------------------------------------------------------------------------\n",
    "  \n",
    ")"
   ]
  },
  {
   "cell_type": "code",
   "execution_count": 36,
   "id": "ea7756bd",
   "metadata": {},
   "outputs": [
    {
     "name": "stdout",
     "output_type": "stream",
     "text": [
      "+--------+---+----------+----------------+-----------------------+-----------------+-------------------+------------------+--------------+----------------+-----------+-----------------+---------------------------+---------------+--------------------+--------------------------+------------------+------------------+\n",
      "|store_id|sku|      date|product_category|on_hand_inventory_units|total_sales_units|replenishment_units|replenishment_flag|units_on_order|units_in_transit|units_in_dc|phantom_inventory|estimated_on_hand_inventory|prior_inventory|rolling_stock_onhand|rolling_min_expected_stock|min_expected_stock| daily_sales_units|\n",
      "+--------+---+----------+----------------+-----------------------+-----------------+-------------------+------------------+--------------+----------------+-----------+-----------------+---------------------------+---------------+--------------------+--------------------------+------------------+------------------+\n",
      "|      63| 57|2019-01-01|     Category 04|                   null|                0|                  0|                 0|             0|               0|          0|              0.0|                          0|              0|                 0.0|                       0.0|               0.0|               0.0|\n",
      "|      63| 57|2019-01-02|     Category 04|                    8.0|                0|                  0|                 0|             8|               0|          0|              0.0|                          0|              0|                 0.0|                       0.0|               0.0|               0.0|\n",
      "|      63| 57|2019-01-03|     Category 04|                    8.0|                0|                  0|                 0|             0|               0|          0|              0.0|                          0|              0|                 0.0|                       0.0|               0.0|               0.0|\n",
      "|      63| 57|2019-01-04|     Category 04|                    7.0|                0|                  0|                 0|             0|               0|          8|              1.0|                          0|              0|                 0.0|                       0.0|               0.0|               0.0|\n",
      "|      63| 57|2019-01-05|     Category 04|                    5.0|                3|                  8|                 1|             0|               8|          0|              7.0|                          0|              0|                 0.0|                       0.0|               0.0|               0.6|\n",
      "|      63| 57|2019-01-06|     Category 04|                   11.0|                2|                  0|                 0|             0|               0|          0|             -8.0|                          6|              0|                 0.0|                       0.0|               0.0|0.8333333333333334|\n",
      "|      63| 57|2019-01-07|     Category 04|                   11.0|                0|                  0|                 0|             0|               0|          0|              0.0|                          6|              0|                 0.0|                       0.0|               0.0|0.7142857142857143|\n",
      "|      63| 57|2019-01-08|     Category 04|                   11.0|                0|                  0|                 0|             0|               0|          0|              0.0|                          6|              0|                 0.0|                       0.0|               0.0|             0.625|\n",
      "|      63| 57|2019-01-09|     Category 04|                    7.0|                3|                  0|                 0|             8|               0|          0|              1.0|                          2|              0|                 0.0|                       0.0|               0.0|0.8888888888888888|\n",
      "|      63| 57|2019-01-10|     Category 04|                    5.0|                2|                  0|                 0|             8|               0|          0|              0.0|                          0|              0|                 0.0|                       0.0|               0.0|               1.0|\n",
      "|      63| 57|2019-01-11|     Category 04|                    5.0|                0|                  0|                 0|             0|               0|          0|              0.0|                          0|              0|                 0.0|                       0.0|               0.0|0.9090909090909091|\n",
      "|      63| 57|2019-01-12|     Category 04|                    5.0|                0|                  0|                 0|             0|               0|          0|              0.0|                          0|              0|                 0.0|                       0.0|               0.0|0.8333333333333334|\n",
      "|      63| 57|2019-01-13|     Category 04|                   13.0|                0|                  0|                 0|             0|               0|          8|             -8.0|                          8|              0|                 0.0|                       0.0|               0.0|0.7692307692307693|\n",
      "|      63| 57|2019-01-14|     Category 04|                   13.0|                0|                  0|                 0|             0|               0|          0|              0.0|                          8|              0|                 0.0|                       0.0|               0.0|0.7142857142857143|\n",
      "|      63| 57|2019-01-15|     Category 04|                   13.0|                0|                  0|                 0|             0|               0|          0|              0.0|                          8|              0|                 0.0|                       0.0|               0.0|0.6666666666666666|\n",
      "|      63| 57|2019-01-16|     Category 04|                   14.0|                0|                  0|                 0|             0|               0|          0|             -1.0|                          9|              0|                 0.0|                       0.0|               0.0|             0.625|\n",
      "|      63| 57|2019-01-17|     Category 04|                   14.0|                0|                  0|                 0|             0|               0|          0|              0.0|                          9|              0|                 0.0|                       0.0|               0.0|0.5882352941176471|\n",
      "|      63| 57|2019-01-18|     Category 04|                   14.0|                0|                  0|                 0|             0|               0|          0|              0.0|                          9|              0|                 0.0|                       0.0|               0.0|0.5555555555555556|\n",
      "|      63| 57|2019-01-19|     Category 04|                   14.0|                0|                  0|                 0|             0|               0|          0|              0.0|                          9|              0|                 0.0|                       0.0|               0.0|0.5263157894736842|\n",
      "|      63| 57|2019-01-20|     Category 04|                    6.0|                2|                  0|                 0|             8|               0|          0|              6.0|                          1|              0|                 0.0|                       0.0|               0.0|               0.6|\n",
      "+--------+---+----------+----------------+-----------------------+-----------------+-------------------+------------------+--------------+----------------+-----------+-----------------+---------------------------+---------------+--------------------+--------------------------+------------------+------------------+\n",
      "only showing top 20 rows\n",
      "\n"
     ]
    }
   ],
   "source": [
    "inventory_with_metrics.show()"
   ]
  },
  {
   "cell_type": "code",
   "execution_count": 38,
   "id": "d47887f4",
   "metadata": {},
   "outputs": [],
   "source": [
    "# inventory_with_metrics.toPandas().to_csv(\"Dataset//inventory_with_metrics_data.csv\", index=False)"
   ]
  },
  {
   "cell_type": "markdown",
   "id": "f23aa1d1",
   "metadata": {},
   "source": [
    "## Calculate Shortest Lead Time for Each Store-SKU"
   ]
  },
  {
   "cell_type": "code",
   "execution_count": 40,
   "id": "06135469",
   "metadata": {},
   "outputs": [],
   "source": [
    "df_vendor= df_vendor.withColumnRenamed('item_id','sku')"
   ]
  },
  {
   "cell_type": "code",
   "execution_count": 42,
   "id": "0aa4f50c",
   "metadata": {},
   "outputs": [
    {
     "data": {
      "text/plain": [
       "[Row(key=1, vendor_id=1, sub_vendor_id=1001, store_id=1763, sku=1, LEAD_TIME_IN_DC=4, LEAD_TIME_IN_TRANSIT=3, LEAD_TIME_ON_ORDER=7),\n",
       " Row(key=2, vendor_id=1, sub_vendor_id=1001, store_id=1763, sku=2, LEAD_TIME_IN_DC=2, LEAD_TIME_IN_TRANSIT=1, LEAD_TIME_ON_ORDER=7),\n",
       " Row(key=3, vendor_id=1, sub_vendor_id=1002, store_id=1843, sku=2, LEAD_TIME_IN_DC=2, LEAD_TIME_IN_TRANSIT=1, LEAD_TIME_ON_ORDER=7)]"
      ]
     },
     "execution_count": 42,
     "metadata": {},
     "output_type": "execute_result"
    }
   ],
   "source": [
    "df_vendor.head(3)"
   ]
  },
  {
   "cell_type": "code",
   "execution_count": 43,
   "id": "d1e4755d",
   "metadata": {},
   "outputs": [],
   "source": [
    "\n",
    "# calculate shortest lead time for each store-sku combination\n",
    "\n",
    "lead_time = (\n",
    "  df_vendor\n",
    "    .withColumn('min_lead_time', f.expr('LEAST(lead_time_in_dc, lead_time_in_transit, lead_time_on_order)'))\n",
    "    .select('store_id', 'sku', 'min_lead_time', 'lead_time_in_dc', 'lead_time_in_transit', 'lead_time_on_order')\n",
    "    )\n",
    " \n"
   ]
  },
  {
   "cell_type": "code",
   "execution_count": 44,
   "id": "34f06aef",
   "metadata": {},
   "outputs": [
    {
     "name": "stdout",
     "output_type": "stream",
     "text": [
      "+--------+---+-------------+---------------+--------------------+------------------+\n",
      "|store_id|sku|min_lead_time|lead_time_in_dc|lead_time_in_transit|lead_time_on_order|\n",
      "+--------+---+-------------+---------------+--------------------+------------------+\n",
      "|    1763|  1|            3|              4|                   3|                 7|\n",
      "|    1763|  2|            1|              2|                   1|                 7|\n",
      "|    1843|  2|            1|              2|                   1|                 7|\n",
      "|    1763|  3|            3|              4|                   3|                 7|\n",
      "|     486|  6|            1|              2|                   1|                 8|\n",
      "|    1587|  7|            2|              3|                   2|                 9|\n",
      "|    1556|  8|            3|              4|                   3|                 7|\n",
      "|    1283| 39|            2|              3|                   2|                 6|\n",
      "|    1763| 46|            1|              2|                   1|                 5|\n",
      "|     334| 52|            3|              4|                   3|                 8|\n",
      "|      63| 57|            3|              4|                   3|                10|\n",
      "|      98| 64|            2|              3|                   2|                 9|\n",
      "|     171| 64|            2|              3|                   2|                 7|\n",
      "|     178| 64|            1|              2|                   1|                 6|\n",
      "|     206| 64|            3|              4|                   3|                 8|\n",
      "|     209| 64|            1|              2|                   1|                 5|\n",
      "|     232| 64|            1|              2|                   1|                 5|\n",
      "|     249| 64|            3|              4|                   3|                 9|\n",
      "|     274| 64|            3|              4|                   3|                10|\n",
      "|     337| 64|            2|              3|                   2|                 8|\n",
      "+--------+---+-------------+---------------+--------------------+------------------+\n",
      "only showing top 20 rows\n",
      "\n"
     ]
    }
   ],
   "source": [
    "lead_time.show()"
   ]
  },
  {
   "cell_type": "markdown",
   "id": "368055b5",
   "metadata": {},
   "source": [
    "__We can now calculate the safety stock requirements using the lower of the two values calculated from the data:__\n",
    "\n",
    "## Determine Safety Stock"
   ]
  },
  {
   "cell_type": "code",
   "execution_count": 45,
   "id": "3537b79e",
   "metadata": {},
   "outputs": [],
   "source": [
    "\n",
    "inventory_safety_stock = (\n",
    "  inventory_with_metrics\n",
    "    .join(lead_time, on=['store_id','sku'], how='leftouter')\n",
    "  \n",
    "    # safety stock for sales velocity is avg daily sales units * min_lead_time\n",
    "    .withColumn('ss_sales_velocity', f.expr('daily_sales_units * min_lead_time'))\n",
    "  \n",
    "    # use the lower of the min_expected_stock at replenishment or sales_velocity-derived stock requirement as safety stock\n",
    "    .withColumn('safety_stock', f.expr('CASE WHEN min_expected_stock < ss_sales_velocity THEN min_expected_stock ELSE ss_sales_velocity END'))\n",
    "    .withColumn('safety_stock', f.expr('CASE WHEN replenishment_flag != 1 THEN 0 ELSE safety_stock END'))\n",
    "    .withColumn('safety_stock', f.expr('COALESCE(safety_stock,0)'))\n",
    "    .withColumn('safety_stock', f.expr('CASE WHEN safety_stock=0 THEN min_expected_stock ELSE safety_stock END'))\n",
    "  \n",
    "    .select(\n",
    "      'date',\n",
    "      'store_id',\n",
    "      'sku',\n",
    "      'product_category',\n",
    "      'total_sales_units', \n",
    "      'on_hand_inventory_units',\n",
    "      'replenishment_units', \n",
    "      'replenishment_flag',\n",
    "      'phantom_inventory',\n",
    "      'estimated_on_hand_inventory',  \n",
    "      'prior_inventory',\n",
    "      'rolling_min_expected_stock', \n",
    "      'min_expected_stock',\n",
    "      'daily_sales_units', \n",
    "      'safety_stock', \n",
    "      'units_on_order',\n",
    "      'units_in_transit',\n",
    "      'units_in_dc',\n",
    "      'lead_time_in_transit',\n",
    "      'lead_time_in_dc',\n",
    "      'lead_time_on_order'\n",
    "      )\n",
    "  )\n",
    " \n"
   ]
  },
  {
   "cell_type": "code",
   "execution_count": 46,
   "id": "55804024",
   "metadata": {},
   "outputs": [
    {
     "name": "stdout",
     "output_type": "stream",
     "text": [
      "+----------+--------+---+----------------+-----------------+-----------------------+-------------------+------------------+-----------------+---------------------------+---------------+--------------------------+------------------+------------------+------------+--------------+----------------+-----------+--------------------+---------------+------------------+\n",
      "|      date|store_id|sku|product_category|total_sales_units|on_hand_inventory_units|replenishment_units|replenishment_flag|phantom_inventory|estimated_on_hand_inventory|prior_inventory|rolling_min_expected_stock|min_expected_stock| daily_sales_units|safety_stock|units_on_order|units_in_transit|units_in_dc|lead_time_in_transit|lead_time_in_dc|lead_time_on_order|\n",
      "+----------+--------+---+----------------+-----------------+-----------------------+-------------------+------------------+-----------------+---------------------------+---------------+--------------------------+------------------+------------------+------------+--------------+----------------+-----------+--------------------+---------------+------------------+\n",
      "|2019-01-01|      63| 57|     Category 04|                0|                   null|                  0|                 0|              0.0|                          0|              0|                       0.0|               0.0|               0.0|         0.0|             0|               0|          0|                   3|              4|                10|\n",
      "|2019-01-02|      63| 57|     Category 04|                0|                    8.0|                  0|                 0|              0.0|                          0|              0|                       0.0|               0.0|               0.0|         0.0|             8|               0|          0|                   3|              4|                10|\n",
      "|2019-01-03|      63| 57|     Category 04|                0|                    8.0|                  0|                 0|              0.0|                          0|              0|                       0.0|               0.0|               0.0|         0.0|             0|               0|          0|                   3|              4|                10|\n",
      "|2019-01-04|      63| 57|     Category 04|                0|                    7.0|                  0|                 0|              1.0|                          0|              0|                       0.0|               0.0|               0.0|         0.0|             0|               0|          8|                   3|              4|                10|\n",
      "|2019-01-05|      63| 57|     Category 04|                3|                    5.0|                  8|                 1|              7.0|                          0|              0|                       0.0|               0.0|               0.6|         0.0|             0|               8|          0|                   3|              4|                10|\n",
      "|2019-01-06|      63| 57|     Category 04|                2|                   11.0|                  0|                 0|             -8.0|                          6|              0|                       0.0|               0.0|0.8333333333333334|         0.0|             0|               0|          0|                   3|              4|                10|\n",
      "|2019-01-07|      63| 57|     Category 04|                0|                   11.0|                  0|                 0|              0.0|                          6|              0|                       0.0|               0.0|0.7142857142857143|         0.0|             0|               0|          0|                   3|              4|                10|\n",
      "|2019-01-08|      63| 57|     Category 04|                0|                   11.0|                  0|                 0|              0.0|                          6|              0|                       0.0|               0.0|             0.625|         0.0|             0|               0|          0|                   3|              4|                10|\n",
      "|2019-01-09|      63| 57|     Category 04|                3|                    7.0|                  0|                 0|              1.0|                          2|              0|                       0.0|               0.0|0.8888888888888888|         0.0|             8|               0|          0|                   3|              4|                10|\n",
      "|2019-01-10|      63| 57|     Category 04|                2|                    5.0|                  0|                 0|              0.0|                          0|              0|                       0.0|               0.0|               1.0|         0.0|             8|               0|          0|                   3|              4|                10|\n",
      "|2019-01-11|      63| 57|     Category 04|                0|                    5.0|                  0|                 0|              0.0|                          0|              0|                       0.0|               0.0|0.9090909090909091|         0.0|             0|               0|          0|                   3|              4|                10|\n",
      "|2019-01-12|      63| 57|     Category 04|                0|                    5.0|                  0|                 0|              0.0|                          0|              0|                       0.0|               0.0|0.8333333333333334|         0.0|             0|               0|          0|                   3|              4|                10|\n",
      "|2019-01-13|      63| 57|     Category 04|                0|                   13.0|                  0|                 0|             -8.0|                          8|              0|                       0.0|               0.0|0.7692307692307693|         0.0|             0|               0|          8|                   3|              4|                10|\n",
      "|2019-01-14|      63| 57|     Category 04|                0|                   13.0|                  0|                 0|              0.0|                          8|              0|                       0.0|               0.0|0.7142857142857143|         0.0|             0|               0|          0|                   3|              4|                10|\n",
      "|2019-01-15|      63| 57|     Category 04|                0|                   13.0|                  0|                 0|              0.0|                          8|              0|                       0.0|               0.0|0.6666666666666666|         0.0|             0|               0|          0|                   3|              4|                10|\n",
      "|2019-01-16|      63| 57|     Category 04|                0|                   14.0|                  0|                 0|             -1.0|                          9|              0|                       0.0|               0.0|             0.625|         0.0|             0|               0|          0|                   3|              4|                10|\n",
      "|2019-01-17|      63| 57|     Category 04|                0|                   14.0|                  0|                 0|              0.0|                          9|              0|                       0.0|               0.0|0.5882352941176471|         0.0|             0|               0|          0|                   3|              4|                10|\n",
      "|2019-01-18|      63| 57|     Category 04|                0|                   14.0|                  0|                 0|              0.0|                          9|              0|                       0.0|               0.0|0.5555555555555556|         0.0|             0|               0|          0|                   3|              4|                10|\n",
      "|2019-01-19|      63| 57|     Category 04|                0|                   14.0|                  0|                 0|              0.0|                          9|              0|                       0.0|               0.0|0.5263157894736842|         0.0|             0|               0|          0|                   3|              4|                10|\n",
      "|2019-01-20|      63| 57|     Category 04|                2|                    6.0|                  0|                 0|              6.0|                          1|              0|                       0.0|               0.0|               0.6|         0.0|             8|               0|          0|                   3|              4|                10|\n",
      "+----------+--------+---+----------------+-----------------+-----------------------+-------------------+------------------+-----------------+---------------------------+---------------+--------------------------+------------------+------------------+------------+--------------+----------------+-----------+--------------------+---------------+------------------+\n",
      "only showing top 20 rows\n",
      "\n"
     ]
    }
   ],
   "source": [
    "inventory_safety_stock.show()"
   ]
  },
  {
   "cell_type": "markdown",
   "id": "5ac92086",
   "metadata": {},
   "source": [
    "With a __safety stock level defined for each store-SKU__, we can now identify dates where:\n",
    "\n",
    "The on-hand inventory is less than the safety stock level (on_hand_less_than_safety_stock)\n",
    "\n",
    "The requested replenishment units are not sufficient to meet safety stock requirements (insufficient_inventory_pipeline_units)\n",
    "\n",
    "The inventory pipeline is one day away from not being able to fulfill stocking requirements (insufficient_lead_time)\n",
    "\n",
    "Each of these conditions represents an inventory management problem which requires addressing. The first two of these conditions may be calculated as follows:"
   ]
  },
  {
   "cell_type": "markdown",
   "id": "b42797ab",
   "metadata": {},
   "source": [
    "### Identify Insufficient Inventory On-Hand & In-Pipeline Events"
   ]
  },
  {
   "cell_type": "code",
   "execution_count": 47,
   "id": "49c56092",
   "metadata": {},
   "outputs": [],
   "source": [
    "\n",
    "inventory_safety_stock_alert = (\n",
    "  inventory_safety_stock\n",
    "  \n",
    "  # alert 1 - estimated on-hand inventory is less than safety stock\n",
    "  .withColumn('on_hand_less_than_safety_stock', f.expr('CASE WHEN estimated_on_hand_inventory <= safety_stock THEN 1 ELSE 0 END'))\n",
    "  \n",
    "  # alert 2 - inventory in pipeline is not sufficient to reach the safety stock levels\n",
    "  .withColumn('insufficient_inventory_pipeline_units', f.expr('''\n",
    "    CASE\n",
    "      WHEN  (on_hand_less_than_safety_stock = 1) AND \n",
    "            (units_on_order + units_in_transit + units_in_dc != 0) AND\n",
    "            ((units_on_order + units_in_transit + units_in_dc) < (safety_stock - estimated_on_hand_inventory))\n",
    "         THEN 1\n",
    "      ELSE 0\n",
    "      END'''))\n",
    "  )\n",
    " \n"
   ]
  },
  {
   "cell_type": "code",
   "execution_count": 48,
   "id": "d1dc1e00",
   "metadata": {},
   "outputs": [
    {
     "name": "stdout",
     "output_type": "stream",
     "text": [
      "+----------+--------+---+----------------+-----------------+-----------------------+-------------------+------------------+-----------------+---------------------------+---------------+--------------------------+------------------+------------------+------------+--------------+----------------+-----------+--------------------+---------------+------------------+------------------------------+-------------------------------------+\n",
      "|      date|store_id|sku|product_category|total_sales_units|on_hand_inventory_units|replenishment_units|replenishment_flag|phantom_inventory|estimated_on_hand_inventory|prior_inventory|rolling_min_expected_stock|min_expected_stock| daily_sales_units|safety_stock|units_on_order|units_in_transit|units_in_dc|lead_time_in_transit|lead_time_in_dc|lead_time_on_order|on_hand_less_than_safety_stock|insufficient_inventory_pipeline_units|\n",
      "+----------+--------+---+----------------+-----------------+-----------------------+-------------------+------------------+-----------------+---------------------------+---------------+--------------------------+------------------+------------------+------------+--------------+----------------+-----------+--------------------+---------------+------------------+------------------------------+-------------------------------------+\n",
      "|2019-01-01|      63| 57|     Category 04|                0|                   null|                  0|                 0|              0.0|                          0|              0|                       0.0|               0.0|               0.0|         0.0|             0|               0|          0|                   3|              4|                10|                             1|                                    0|\n",
      "|2019-01-02|      63| 57|     Category 04|                0|                    8.0|                  0|                 0|              0.0|                          0|              0|                       0.0|               0.0|               0.0|         0.0|             8|               0|          0|                   3|              4|                10|                             1|                                    0|\n",
      "|2019-01-03|      63| 57|     Category 04|                0|                    8.0|                  0|                 0|              0.0|                          0|              0|                       0.0|               0.0|               0.0|         0.0|             0|               0|          0|                   3|              4|                10|                             1|                                    0|\n",
      "|2019-01-04|      63| 57|     Category 04|                0|                    7.0|                  0|                 0|              1.0|                          0|              0|                       0.0|               0.0|               0.0|         0.0|             0|               0|          8|                   3|              4|                10|                             1|                                    0|\n",
      "|2019-01-05|      63| 57|     Category 04|                3|                    5.0|                  8|                 1|              7.0|                          0|              0|                       0.0|               0.0|               0.6|         0.0|             0|               8|          0|                   3|              4|                10|                             1|                                    0|\n",
      "|2019-01-06|      63| 57|     Category 04|                2|                   11.0|                  0|                 0|             -8.0|                          6|              0|                       0.0|               0.0|0.8333333333333334|         0.0|             0|               0|          0|                   3|              4|                10|                             0|                                    0|\n",
      "|2019-01-07|      63| 57|     Category 04|                0|                   11.0|                  0|                 0|              0.0|                          6|              0|                       0.0|               0.0|0.7142857142857143|         0.0|             0|               0|          0|                   3|              4|                10|                             0|                                    0|\n",
      "|2019-01-08|      63| 57|     Category 04|                0|                   11.0|                  0|                 0|              0.0|                          6|              0|                       0.0|               0.0|             0.625|         0.0|             0|               0|          0|                   3|              4|                10|                             0|                                    0|\n",
      "|2019-01-09|      63| 57|     Category 04|                3|                    7.0|                  0|                 0|              1.0|                          2|              0|                       0.0|               0.0|0.8888888888888888|         0.0|             8|               0|          0|                   3|              4|                10|                             0|                                    0|\n",
      "|2019-01-10|      63| 57|     Category 04|                2|                    5.0|                  0|                 0|              0.0|                          0|              0|                       0.0|               0.0|               1.0|         0.0|             8|               0|          0|                   3|              4|                10|                             1|                                    0|\n",
      "|2019-01-11|      63| 57|     Category 04|                0|                    5.0|                  0|                 0|              0.0|                          0|              0|                       0.0|               0.0|0.9090909090909091|         0.0|             0|               0|          0|                   3|              4|                10|                             1|                                    0|\n",
      "|2019-01-12|      63| 57|     Category 04|                0|                    5.0|                  0|                 0|              0.0|                          0|              0|                       0.0|               0.0|0.8333333333333334|         0.0|             0|               0|          0|                   3|              4|                10|                             1|                                    0|\n",
      "|2019-01-13|      63| 57|     Category 04|                0|                   13.0|                  0|                 0|             -8.0|                          8|              0|                       0.0|               0.0|0.7692307692307693|         0.0|             0|               0|          8|                   3|              4|                10|                             0|                                    0|\n",
      "|2019-01-14|      63| 57|     Category 04|                0|                   13.0|                  0|                 0|              0.0|                          8|              0|                       0.0|               0.0|0.7142857142857143|         0.0|             0|               0|          0|                   3|              4|                10|                             0|                                    0|\n",
      "|2019-01-15|      63| 57|     Category 04|                0|                   13.0|                  0|                 0|              0.0|                          8|              0|                       0.0|               0.0|0.6666666666666666|         0.0|             0|               0|          0|                   3|              4|                10|                             0|                                    0|\n",
      "|2019-01-16|      63| 57|     Category 04|                0|                   14.0|                  0|                 0|             -1.0|                          9|              0|                       0.0|               0.0|             0.625|         0.0|             0|               0|          0|                   3|              4|                10|                             0|                                    0|\n",
      "|2019-01-17|      63| 57|     Category 04|                0|                   14.0|                  0|                 0|              0.0|                          9|              0|                       0.0|               0.0|0.5882352941176471|         0.0|             0|               0|          0|                   3|              4|                10|                             0|                                    0|\n",
      "|2019-01-18|      63| 57|     Category 04|                0|                   14.0|                  0|                 0|              0.0|                          9|              0|                       0.0|               0.0|0.5555555555555556|         0.0|             0|               0|          0|                   3|              4|                10|                             0|                                    0|\n",
      "|2019-01-19|      63| 57|     Category 04|                0|                   14.0|                  0|                 0|              0.0|                          9|              0|                       0.0|               0.0|0.5263157894736842|         0.0|             0|               0|          0|                   3|              4|                10|                             0|                                    0|\n",
      "|2019-01-20|      63| 57|     Category 04|                2|                    6.0|                  0|                 0|              6.0|                          1|              0|                       0.0|               0.0|               0.6|         0.0|             8|               0|          0|                   3|              4|                10|                             0|                                    0|\n",
      "+----------+--------+---+----------------+-----------------+-----------------------+-------------------+------------------+-----------------+---------------------------+---------------+--------------------------+------------------+------------------+------------+--------------+----------------+-----------+--------------------+---------------+------------------+------------------------------+-------------------------------------+\n",
      "only showing top 20 rows\n",
      "\n"
     ]
    }
   ],
   "source": [
    "inventory_safety_stock_alert.show()"
   ]
  },
  {
   "cell_type": "markdown",
   "id": "dcd7b9ac",
   "metadata": {},
   "source": [
    "## Identify Insufficient Lead Time Events"
   ]
  },
  {
   "cell_type": "code",
   "execution_count": 49,
   "id": "241ac2ee",
   "metadata": {},
   "outputs": [],
   "source": [
    "# calculate lead times associated with inventory records\n",
    "inventory_safety_stock_with_lead_times = (\n",
    "  \n",
    "  inventory_safety_stock_alert\n",
    "  \n",
    "    # lead time values at store-sku level for various stages \n",
    "    .withColumn('lead_time_in_transit', f.expr('COALESCE(lead_time_in_transit,0)'))\n",
    "    .withColumn('lead_time_on_order', f.expr('COALESCE(lead_time_on_order,0)'))\n",
    "    .withColumn('lead_time_in_dc', f.expr('COALESCE(lead_time_in_dc,0)'))\n",
    " \n",
    "    # considering lead time only if estimated on-hand inventory and inventory in pipeline meet the safety stock levels\n",
    "    .withColumn('lead_time', f.expr('''\n",
    "       CASE\n",
    "         WHEN on_hand_less_than_safety_stock = 1 AND\n",
    "              (units_on_order + units_in_transit + units_in_dc != 0) AND\n",
    "              ((units_on_order + units_in_transit + units_in_dc) >= (safety_stock - estimated_on_hand_inventory)) \n",
    "           THEN GREATEST(\n",
    "                 COALESCE(lead_time_in_transit,0),\n",
    "                 COALESCE(lead_time_on_order,0),\n",
    "                 COALESCE(lead_time_in_dc,0)\n",
    "                 )+1\n",
    "         ELSE null \n",
    "         END'''))\n",
    "  )"
   ]
  },
  {
   "cell_type": "code",
   "execution_count": 51,
   "id": "a5349f0f",
   "metadata": {},
   "outputs": [],
   "source": [
    " \n",
    "# identify lead time problems\n",
    "lead_time_alerts = (\n",
    "  \n",
    "  inventory_safety_stock_with_lead_times.alias('a')\n",
    "  \n",
    "    # self join to get the previous lead time (most recent one) for the inventory pipeline\n",
    "    .join(\n",
    "      (inventory_safety_stock_with_lead_times\n",
    "          .filter(\n",
    "            f.expr('lead_time Is Not Null') # considering only non-null records\n",
    "             ).alias('b')\n",
    "        ), \n",
    "      on=f.expr('a.store_id=b.store_id AND a.sku=b.sku AND a.date > b.date'), \n",
    "      how='leftouter'\n",
    "      )\n",
    "    .groupBy('a.store_id','a.sku','a.date')\n",
    "      .agg(\n",
    "          f.max('a.lead_time').alias('lead_time'),\n",
    "          f.max('b.date').alias('lead_date'), # day on which the lead time was assigned to the inventory pipeline\n",
    "          f.max('b.lead_time').alias('prev_lead_time') # lead time assigned to the inventory pipeline\n",
    "        ))"
   ]
  },
  {
   "cell_type": "code",
   "execution_count": 52,
   "id": "220de494",
   "metadata": {},
   "outputs": [],
   "source": [
    "\n",
    "lead_time_alerts = (\n",
    "  \n",
    "  lead_time_alerts\n",
    "  \n",
    "    # flag is raised if difference in current date and lead date (from above) is greater than the lead time assigned (prev_lead_time)\n",
    "    .withColumn('date_diff', f.expr('DATEDIFF(date, lead_date)'))\n",
    "    .withColumn('insufficient_lead_time', f.expr('''\n",
    "      CASE\n",
    "        WHEN lead_time IS NULL AND (prev_lead_time - date_diff) <= 0 THEN 1\n",
    "        ELSE 0\n",
    "        END\n",
    "      '''))\n",
    "    .select(\n",
    "      'date',\n",
    "      'store_id',\n",
    "      'sku',\n",
    "      'insufficient_lead_time'\n",
    "      )\n",
    "  .join(\n",
    "    inventory_safety_stock_alert,\n",
    "    on=['store_id','sku','date']\n",
    "    )\n",
    "  )\n",
    " \n",
    " \n"
   ]
  },
  {
   "cell_type": "code",
   "execution_count": 53,
   "id": "a8117c77",
   "metadata": {},
   "outputs": [
    {
     "name": "stdout",
     "output_type": "stream",
     "text": [
      "+--------+---+----------+----------------------+----------------+-----------------+-----------------------+-------------------+------------------+-----------------+---------------------------+---------------+--------------------------+------------------+-------------------+------------------+--------------+----------------+-----------+--------------------+---------------+------------------+------------------------------+-------------------------------------+\n",
      "|store_id|sku|      date|insufficient_lead_time|product_category|total_sales_units|on_hand_inventory_units|replenishment_units|replenishment_flag|phantom_inventory|estimated_on_hand_inventory|prior_inventory|rolling_min_expected_stock|min_expected_stock|  daily_sales_units|      safety_stock|units_on_order|units_in_transit|units_in_dc|lead_time_in_transit|lead_time_in_dc|lead_time_on_order|on_hand_less_than_safety_stock|insufficient_inventory_pipeline_units|\n",
      "+--------+---+----------+----------------------+----------------+-----------------+-----------------------+-------------------+------------------+-----------------+---------------------------+---------------+--------------------------+------------------+-------------------+------------------+--------------+----------------+-----------+--------------------+---------------+------------------+------------------------------+-------------------------------------+\n",
      "|      63| 57|2019-05-11|                     1|     Category 04|                0|                    1.0|                  0|                 0|              0.0|                          0|              0|                       0.0|              5.25| 0.8681318681318682|              5.25|             0|               0|          0|                   3|              4|                10|                             1|                                    0|\n",
      "|      63| 57|2019-09-12|                     0|     Category 04|                0|                   23.0|                  0|                 0|              0.0|                         22|              0|                       0.0|            15.125| 0.7032967032967034|            15.125|             0|               0|          0|                   3|              4|                10|                             0|                                    0|\n",
      "|      63| 57|2020-02-24|                     1|     Category 04|                3|                   23.0|                  0|                 0|             -1.0|                         23|              0|                       0.0|             15.75| 0.9560439560439561|             15.75|             0|               0|          0|                   3|              4|                10|                             0|                                    0|\n",
      "|      63| 57|2020-10-25|                     1|     Category 04|                2|                   35.0|                  0|                 0|            -37.0|                         35|              0|                       0.0| 8.333333333333334| 0.4945054945054945| 8.333333333333334|            24|               0|          0|                   3|              4|                10|                             0|                                    0|\n",
      "|      98| 64|2019-04-20|                     1|     Category 01|                8|                   21.0|                  0|                 0|            -18.0|                         17|              0|                       0.0| 7.666666666666667| 1.4945054945054945| 7.666666666666667|             0|               0|          0|                   2|              3|                 9|                             0|                                    0|\n",
      "|      98| 64|2020-07-16|                     1|     Category 01|                0|                    0.0|                  0|                 0|              0.0|                          0|              0|                       0.0|            10.375|                0.0|            10.375|             0|               0|          0|                   2|              3|                 9|                             1|                                    0|\n",
      "|      98| 64|2020-09-23|                     1|     Category 01|                0|                    0.0|                  0|                 0|              0.0|                          0|              0|                       0.0|            10.375|                0.0|            10.375|             0|               0|          0|                   2|              3|                 9|                             1|                                    0|\n",
      "|      98| 64|2020-12-05|                     0|     Category 01|                0|                   13.0|                  0|                 0|              0.0|                         13|              0|                       0.0|              18.5| 0.9120879120879121|              18.5|             0|               0|          0|                   2|              3|                 9|                             1|                                    0|\n",
      "|     164| 76|2019-04-06|                     1|     Category 05|                0|                    7.0|                  0|                 0|              0.0|                          6|              0|                       0.0|0.7142857142857143|0.23076923076923078|0.7142857142857143|             0|               0|          0|                   3|              4|                10|                             0|                                    0|\n",
      "|     164| 76|2019-05-19|                     1|     Category 05|                0|                   10.0|                  0|                 0|              0.0|                         10|              0|                       0.0|1.5714285714285714| 0.3076923076923077|1.5714285714285714|             0|               0|          0|                   3|              4|                10|                             0|                                    0|\n",
      "|     164| 76|2020-03-25|                     1|     Category 05|                0|                    0.0|                  0|                 0|              0.0|                          0|              0|                       0.0| 3.111111111111111|                0.0| 3.111111111111111|             0|               0|          0|                   3|              4|                10|                             1|                                    0|\n",
      "|     164| 76|2020-09-13|                     1|     Category 05|                0|                    0.0|                  0|                 0|              0.0|                          0|              0|                       0.0| 3.111111111111111|                0.0| 3.111111111111111|             0|               0|          0|                   3|              4|                10|                             1|                                    0|\n",
      "|     164| 76|2020-11-21|                     1|     Category 05|                0|                    0.0|                  0|                 0|              0.0|                          0|              0|                       0.0| 3.111111111111111|                0.0| 3.111111111111111|             0|               0|          0|                   3|              4|                10|                             1|                                    0|\n",
      "|     171| 64|2019-08-24|                     1|     Category 01|                0|                  130.0|                  0|                 0|              0.0|                        130|              0|                       0.0|             138.5| 0.6923076923076923|             138.5|             0|               0|          0|                   2|              3|                 7|                             1|                                    0|\n",
      "|     171| 64|2020-01-08|                     1|     Category 01|                0|                   22.0|                  0|                 0|              0.0|                         22|              0|                       0.0|              12.4| 1.2197802197802199|              12.4|             0|               0|          0|                   2|              3|                 7|                             0|                                    0|\n",
      "|     178| 64|2019-10-15|                     1|     Category 01|                0|                    3.0|                  0|                 0|              0.0|                          0|              0|                       0.0|126.33333333333333|  2.681318681318681|126.33333333333333|             0|               0|          0|                   1|              2|                 6|                             1|                                    0|\n",
      "|     178| 64|2019-12-26|                     1|     Category 01|                5|                   18.0|                  0|                 0|              6.0|                         18|              0|                       0.0|              10.5|   3.10989010989011|              10.5|            96|               0|          0|                   1|              2|                 6|                             0|                                    0|\n",
      "|     178| 64|2021-03-29|                     1|     Category 01|                6|                   49.0|                  0|                 0|             -1.0|                         49|              0|                       0.0|30.833333333333332| 2.9450549450549453|30.833333333333332|            96|               0|          0|                   1|              2|                 6|                             0|                                    0|\n",
      "|     206| 64|2019-03-05|                     1|     Category 01|                0|                  126.0|                  0|                 0|              0.0|                        124|              0|                       0.0|             73.25|            7.21875|             73.25|             0|               0|          0|                   3|              4|                 8|                             0|                                    0|\n",
      "|     206| 64|2019-03-20|                     1|     Category 01|               25|                  116.0|                 24|                 1|             21.0|                        114|            136|                    89.625|            89.625|  7.974683544303797|23.924050632911392|             0|               0|         48|                   3|              4|                 8|                             0|                                    0|\n",
      "+--------+---+----------+----------------------+----------------+-----------------+-----------------------+-------------------+------------------+-----------------+---------------------------+---------------+--------------------------+------------------+-------------------+------------------+--------------+----------------+-----------+--------------------+---------------+------------------+------------------------------+-------------------------------------+\n",
      "only showing top 20 rows\n",
      "\n"
     ]
    }
   ],
   "source": [
    "lead_time_alerts.show()"
   ]
  },
  {
   "cell_type": "markdown",
   "id": "6797633c",
   "metadata": {},
   "source": [
    "Combining these conditions, we might flag out of stock situations that require attention as follows:"
   ]
  },
  {
   "cell_type": "markdown",
   "id": "29803ee2",
   "metadata": {},
   "source": [
    "## Consolidated Events"
   ]
  },
  {
   "cell_type": "code",
   "execution_count": 54,
   "id": "3c6df8e9",
   "metadata": {},
   "outputs": [],
   "source": [
    "\n",
    "consolidated_oos_alerts = (\n",
    "  lead_time_alerts\n",
    "    .withColumn('alert_indicator', f.expr('''\n",
    "      CASE\n",
    "        WHEN on_hand_less_than_safety_stock = 1 AND insufficient_inventory_pipeline_units = 1 THEN 1 \n",
    "        WHEN on_hand_less_than_safety_stock = 1 AND insufficient_inventory_pipeline_units != 1 AND insufficient_lead_time = 1 THEN 1\n",
    "        ELSE 0\n",
    "        END'''))\n",
    "    .select(\n",
    "      'date',\n",
    "      'store_id',\n",
    "      'sku',\n",
    "      'product_category',\n",
    "      'total_sales_units',\n",
    "      'daily_sales_units',\n",
    "      'alert_indicator'\n",
    "      )\n",
    "  )\n",
    " \n"
   ]
  },
  {
   "cell_type": "code",
   "execution_count": 55,
   "id": "bbacf408",
   "metadata": {},
   "outputs": [
    {
     "name": "stdout",
     "output_type": "stream",
     "text": [
      "+----------+--------+---+----------------+-----------------+-------------------+---------------+\n",
      "|      date|store_id|sku|product_category|total_sales_units|  daily_sales_units|alert_indicator|\n",
      "+----------+--------+---+----------------+-----------------+-------------------+---------------+\n",
      "|2019-05-11|      63| 57|     Category 04|                0| 0.8681318681318682|              1|\n",
      "|2019-09-12|      63| 57|     Category 04|                0| 0.7032967032967034|              0|\n",
      "|2020-02-24|      63| 57|     Category 04|                3| 0.9560439560439561|              0|\n",
      "|2020-10-25|      63| 57|     Category 04|                2| 0.4945054945054945|              0|\n",
      "|2019-04-20|      98| 64|     Category 01|                8| 1.4945054945054945|              0|\n",
      "|2020-07-16|      98| 64|     Category 01|                0|                0.0|              1|\n",
      "|2020-09-23|      98| 64|     Category 01|                0|                0.0|              1|\n",
      "|2020-12-05|      98| 64|     Category 01|                0| 0.9120879120879121|              0|\n",
      "|2019-04-06|     164| 76|     Category 05|                0|0.23076923076923078|              0|\n",
      "|2019-05-19|     164| 76|     Category 05|                0| 0.3076923076923077|              0|\n",
      "|2020-03-25|     164| 76|     Category 05|                0|                0.0|              1|\n",
      "|2020-09-13|     164| 76|     Category 05|                0|                0.0|              1|\n",
      "|2020-11-21|     164| 76|     Category 05|                0|                0.0|              1|\n",
      "|2019-08-24|     171| 64|     Category 01|                0| 0.6923076923076923|              1|\n",
      "|2020-01-08|     171| 64|     Category 01|                0| 1.2197802197802199|              0|\n",
      "|2019-10-15|     178| 64|     Category 01|                0|  2.681318681318681|              1|\n",
      "|2019-12-26|     178| 64|     Category 01|                5|   3.10989010989011|              0|\n",
      "|2021-03-29|     178| 64|     Category 01|                6| 2.9450549450549453|              0|\n",
      "|2019-03-05|     206| 64|     Category 01|                0|            7.21875|              0|\n",
      "|2019-03-20|     206| 64|     Category 01|               25|  7.974683544303797|              0|\n",
      "+----------+--------+---+----------------+-----------------+-------------------+---------------+\n",
      "only showing top 20 rows\n",
      "\n"
     ]
    }
   ],
   "source": [
    "consolidated_oos_alerts.show()"
   ]
  },
  {
   "cell_type": "markdown",
   "id": "83defe2c",
   "metadata": {},
   "source": [
    "# Step 4: Identify Zero Sales Issues"
   ]
  },
  {
   "cell_type": "markdown",
   "id": "bb4dbad6",
   "metadata": {},
   "source": [
    "### Calculate Ratio of Zero Sales Days to Total Sales Days by Store-SKU"
   ]
  },
  {
   "cell_type": "code",
   "execution_count": 57,
   "id": "3851e956",
   "metadata": {},
   "outputs": [],
   "source": [
    "\n",
    "# calculate ratio of total days of zero sales and total days on shelf across observed period\n",
    "zero_sales_totals = ( \n",
    "  df_rw\n",
    "    .withColumn('total_zero_sales_days', f.expr('CASE WHEN total_sales_units == 0 THEN 1 ELSE 0 END'))\n",
    "    .withColumn('total_days', f.expr('1'))\n",
    "    .groupBy(['store_id', 'sku'])\n",
    "      .agg(\n",
    "        f.sum('total_days').alias('total_days'),\n",
    "        f.sum('total_zero_sales_days').alias('total_zero_sales_days')\n",
    "        )\n",
    "    .withColumn('zero_sales_day_probability', f.expr('total_zero_sales_days / total_days'))\n",
    "    )\n",
    " \n"
   ]
  },
  {
   "cell_type": "code",
   "execution_count": 58,
   "id": "c9b077ff",
   "metadata": {},
   "outputs": [
    {
     "name": "stdout",
     "output_type": "stream",
     "text": [
      "+--------+---+----------+---------------------+--------------------------+\n",
      "|store_id|sku|total_days|total_zero_sales_days|zero_sales_day_probability|\n",
      "+--------+---+----------+---------------------+--------------------------+\n",
      "|    1540|155|       854|                  654|         0.765807962529274|\n",
      "|    1283| 39|       854|                  794|        0.9297423887587822|\n",
      "|     339| 64|       854|                  550|        0.6440281030444965|\n",
      "|     397| 64|       854|                  584|        0.6838407494145199|\n",
      "|    1634|110|       854|                  572|        0.6697892271662763|\n",
      "|     334| 52|       854|                  794|        0.9297423887587822|\n",
      "|     171| 64|       854|                  656|        0.7681498829039812|\n",
      "|     373| 64|       854|                  569|        0.6662763466042154|\n",
      "|    1616| 64|       854|                  794|        0.9297423887587822|\n",
      "|     679| 64|       854|                  655|        0.7669789227166276|\n",
      "|     999| 64|       854|                  793|        0.9285714285714286|\n",
      "|    1232|154|       854|                  575|        0.6733021077283372|\n",
      "|    1452| 64|       854|                  562|          0.65807962529274|\n",
      "|     567| 64|       854|                  583|        0.6826697892271663|\n",
      "|    1328| 64|       854|                  655|        0.7669789227166276|\n",
      "|     639|110|       854|                  577|        0.6756440281030445|\n",
      "|     721|110|       854|                  654|         0.765807962529274|\n",
      "|    1068| 64|       854|                  794|        0.9297423887587822|\n",
      "|     337| 64|       854|                  585|        0.6850117096018735|\n",
      "|    1327| 64|       854|                  655|        0.7669789227166276|\n",
      "+--------+---+----------+---------------------+--------------------------+\n",
      "only showing top 20 rows\n",
      "\n"
     ]
    }
   ],
   "source": [
    "zero_sales_totals.show()"
   ]
  },
  {
   "cell_type": "markdown",
   "id": "a0044b9a",
   "metadata": {},
   "source": [
    "### Calculate Consecutive Zero Sales Days"
   ]
  },
  {
   "cell_type": "code",
   "execution_count": 59,
   "id": "893bc751",
   "metadata": {},
   "outputs": [],
   "source": [
    "\n",
    "zero_sales_days = (\n",
    "  \n",
    "  df_rw \n",
    "  \n",
    "    # flag the occurrence of first zero sales day in a series\n",
    "    .withColumn('sales_change_flag', f.expr('''\n",
    "        CASE \n",
    "          WHEN total_sales_units=0 AND LAG(total_sales_units,1) OVER(PARTITION BY store_id, sku ORDER BY date) != 0 THEN 1 \n",
    "          ELSE 0 \n",
    "          END''')) \n",
    "  \n",
    "    # count number of zero sales day series to date (associates records with a given series)\n",
    "    .withColumn('zero_sales_flag_rank', f.expr('SUM(sales_change_flag) OVER(PARTITION BY store_id, sku ORDER BY date)')) \n",
    "  \n",
    "    # flag all zero sales days\n",
    "    .withColumn('sales_change_flag_inv', f.expr('CASE WHEN total_sales_units = 0 THEN 1 ELSE 0 END')) \n",
    "  \n",
    "    # count consecutive zero sales days (counter resets with a non-zero sales instance)\n",
    "    .withColumn('total_days_wo_sales', f.expr('SUM(sales_change_flag_inv) OVER(PARTITION BY store_id, sku, zero_sales_flag_rank ORDER BY date)'))\n",
    "    .withColumn('total_days_wo_sales', f.expr('CASE WHEN total_sales_units != 0 THEN 0 ELSE total_days_wo_sales END'))\n",
    "    \n",
    "    .select(\n",
    "      'date',\n",
    "      'store_id',\n",
    "      'sku',\n",
    "      'total_sales_units',\n",
    "      'zero_sales_flag_rank',\n",
    "      'sales_change_flag_inv',\n",
    "      'total_days_wo_sales'\n",
    "      )\n",
    "  )\n",
    " \n"
   ]
  },
  {
   "cell_type": "code",
   "execution_count": 60,
   "id": "da22c2ba",
   "metadata": {},
   "outputs": [
    {
     "name": "stdout",
     "output_type": "stream",
     "text": [
      "+----------+--------+---+-----------------+--------------------+---------------------+-------------------+\n",
      "|      date|store_id|sku|total_sales_units|zero_sales_flag_rank|sales_change_flag_inv|total_days_wo_sales|\n",
      "+----------+--------+---+-----------------+--------------------+---------------------+-------------------+\n",
      "|2019-01-01|      63| 57|                0|                   0|                    1|                  1|\n",
      "|2019-01-02|      63| 57|                0|                   0|                    1|                  2|\n",
      "|2019-01-03|      63| 57|                0|                   0|                    1|                  3|\n",
      "|2019-01-04|      63| 57|                0|                   0|                    1|                  4|\n",
      "|2019-01-05|      63| 57|                3|                   0|                    0|                  0|\n",
      "|2019-01-06|      63| 57|                2|                   0|                    0|                  0|\n",
      "|2019-01-07|      63| 57|                0|                   1|                    1|                  1|\n",
      "|2019-01-08|      63| 57|                0|                   1|                    1|                  2|\n",
      "|2019-01-09|      63| 57|                3|                   1|                    0|                  0|\n",
      "|2019-01-10|      63| 57|                2|                   1|                    0|                  0|\n",
      "|2019-01-11|      63| 57|                0|                   2|                    1|                  1|\n",
      "|2019-01-12|      63| 57|                0|                   2|                    1|                  2|\n",
      "|2019-01-13|      63| 57|                0|                   2|                    1|                  3|\n",
      "|2019-01-14|      63| 57|                0|                   2|                    1|                  4|\n",
      "|2019-01-15|      63| 57|                0|                   2|                    1|                  5|\n",
      "|2019-01-16|      63| 57|                0|                   2|                    1|                  6|\n",
      "|2019-01-17|      63| 57|                0|                   2|                    1|                  7|\n",
      "|2019-01-18|      63| 57|                0|                   2|                    1|                  8|\n",
      "|2019-01-19|      63| 57|                0|                   2|                    1|                  9|\n",
      "|2019-01-20|      63| 57|                2|                   2|                    0|                  0|\n",
      "+----------+--------+---+-----------------+--------------------+---------------------+-------------------+\n",
      "only showing top 20 rows\n",
      "\n"
     ]
    }
   ],
   "source": [
    "zero_sales_days.orderBy('store_id','sku','date').show()"
   ]
  },
  {
   "cell_type": "markdown",
   "id": "f2050c0a",
   "metadata": {},
   "source": [
    "## Calculate Cumulative Probability of Zero Sales Event"
   ]
  },
  {
   "cell_type": "code",
   "execution_count": 61,
   "id": "81743615",
   "metadata": {},
   "outputs": [],
   "source": [
    "\n",
    "zero_sales_inventory = (\n",
    "  zero_sales_days\n",
    "    .join(zero_sales_totals.alias('prob'), on=['store_id', 'sku'], how = 'leftouter')\n",
    "    .withColumn('zero_sales_probability', f.expr('pow(zero_sales_day_probability, total_days_wo_sales)'))\n",
    "    .withColumn('no_sales_flag', f.expr('CASE WHEN zero_sales_probability < 0.05 THEN 1 ELSE 0 END'))\n",
    "  )\n",
    " \n"
   ]
  },
  {
   "cell_type": "code",
   "execution_count": 62,
   "id": "648e00bd",
   "metadata": {},
   "outputs": [
    {
     "name": "stdout",
     "output_type": "stream",
     "text": [
      "+--------+---+----------+-----------------+--------------------+---------------------+-------------------+----------+---------------------+--------------------------+----------------------+-------------+\n",
      "|store_id|sku|      date|total_sales_units|zero_sales_flag_rank|sales_change_flag_inv|total_days_wo_sales|total_days|total_zero_sales_days|zero_sales_day_probability|zero_sales_probability|no_sales_flag|\n",
      "+--------+---+----------+-----------------+--------------------+---------------------+-------------------+----------+---------------------+--------------------------+----------------------+-------------+\n",
      "|      63| 57|2019-01-01|                0|                   0|                    1|                  1|       854|                  654|         0.765807962529274|     0.765807962529274|            0|\n",
      "|      63| 57|2019-01-02|                0|                   0|                    1|                  2|       854|                  654|         0.765807962529274|    0.5864618354732378|            0|\n",
      "|      63| 57|2019-01-03|                0|                   0|                    1|                  3|       854|                  654|         0.765807962529274|    0.4491171433249386|            0|\n",
      "|      63| 57|2019-01-04|                0|                   0|                    1|                  4|       854|                  654|         0.765807962529274|   0.34393748446663913|            0|\n",
      "|      63| 57|2019-01-05|                3|                   0|                    0|                  0|       854|                  654|         0.765807962529274|                   1.0|            0|\n",
      "|      63| 57|2019-01-06|                2|                   0|                    0|                  0|       854|                  654|         0.765807962529274|                   1.0|            0|\n",
      "|      63| 57|2019-01-07|                0|                   1|                    1|                  1|       854|                  654|         0.765807962529274|     0.765807962529274|            0|\n",
      "|      63| 57|2019-01-08|                0|                   1|                    1|                  2|       854|                  654|         0.765807962529274|    0.5864618354732378|            0|\n",
      "|      63| 57|2019-01-09|                3|                   1|                    0|                  0|       854|                  654|         0.765807962529274|                   1.0|            0|\n",
      "|      63| 57|2019-01-10|                2|                   1|                    0|                  0|       854|                  654|         0.765807962529274|                   1.0|            0|\n",
      "|      63| 57|2019-01-11|                0|                   2|                    1|                  1|       854|                  654|         0.765807962529274|     0.765807962529274|            0|\n",
      "|      63| 57|2019-01-12|                0|                   2|                    1|                  2|       854|                  654|         0.765807962529274|    0.5864618354732378|            0|\n",
      "|      63| 57|2019-01-13|                0|                   2|                    1|                  3|       854|                  654|         0.765807962529274|    0.4491171433249386|            0|\n",
      "|      63| 57|2019-01-14|                0|                   2|                    1|                  4|       854|                  654|         0.765807962529274|   0.34393748446663913|            0|\n",
      "|      63| 57|2019-01-15|                0|                   2|                    1|                  5|       854|                  654|         0.765807962529274|   0.26339006421684075|            0|\n",
      "|      63| 57|2019-01-16|                0|                   2|                    1|                  6|       854|                  654|         0.765807962529274|   0.20170620842835343|            0|\n",
      "|      63| 57|2019-01-17|                0|                   2|                    1|                  7|       854|                  654|         0.765807962529274|    0.1544682205060224|            0|\n",
      "|      63| 57|2019-01-18|                0|                   2|                    1|                  8|       854|                  654|         0.765807962529274|   0.11829299322123964|            0|\n",
      "|      63| 57|2019-01-19|                0|                   2|                    1|                  9|       854|                  654|         0.765807962529274|   0.09058971612024674|            0|\n",
      "|      63| 57|2019-01-20|                2|                   2|                    0|                  0|       854|                  654|         0.765807962529274|                   1.0|            0|\n",
      "+--------+---+----------+-----------------+--------------------+---------------------+-------------------+----------+---------------------+--------------------------+----------------------+-------------+\n",
      "only showing top 20 rows\n",
      "\n"
     ]
    }
   ],
   "source": [
    "zero_sales_inventory.orderBy('store_id','sku','date').show()"
   ]
  },
  {
   "cell_type": "markdown",
   "id": "89f265e4",
   "metadata": {},
   "source": [
    "# Step 5: Identify Alert Conditions"
   ]
  },
  {
   "cell_type": "markdown",
   "id": "6d94d542",
   "metadata": {},
   "source": [
    "## Combining all flags"
   ]
  },
  {
   "cell_type": "code",
   "execution_count": 63,
   "id": "5e7069b2",
   "metadata": {},
   "outputs": [],
   "source": [
    "\n",
    "all_alerts = (\n",
    "  consolidated_oos_alerts.alias('oos') # OOS alert\n",
    "    .join(phantom_inventory.alias('pi'), on=['store_id','sku','date'], how='leftouter') # phantom inventory indicator\n",
    "    .join(zero_sales_inventory, on=['store_id','sku','date'], how='leftouter') # zero sales alert\n",
    "    .selectExpr(\n",
    "      'date',\n",
    "      'store_id',\n",
    "      'sku',\n",
    "      'product_category',\n",
    "      'oos.total_sales_units',\n",
    "      'oos.alert_indicator as oos_alert',\n",
    "      'oos.daily_sales_units',\n",
    "      'no_sales_flag as zero_sales_flag',\n",
    "      'phantom_inventory',\n",
    "      'phantom_inventory_ind'\n",
    "      )\n",
    "  )\n",
    " \n"
   ]
  },
  {
   "cell_type": "code",
   "execution_count": null,
   "id": "e7226c99",
   "metadata": {},
   "outputs": [],
   "source": [
    "# all_alerts.show()"
   ]
  },
  {
   "cell_type": "markdown",
   "id": "7bac58a0",
   "metadata": {},
   "source": [
    "### SavingFlagged Inventory Data for Future Use"
   ]
  },
  {
   "cell_type": "code",
   "execution_count": 64,
   "id": "2c70f187",
   "metadata": {},
   "outputs": [],
   "source": [
    "all_alerts.toPandas().to_csv(\"Dataset//inventory_flagged_data.csv\", index=False)"
   ]
  },
  {
   "cell_type": "code",
   "execution_count": null,
   "id": "747c27ff",
   "metadata": {},
   "outputs": [],
   "source": []
  },
  {
   "cell_type": "code",
   "execution_count": null,
   "id": "eb4ca7e7",
   "metadata": {},
   "outputs": [],
   "source": []
  }
 ],
 "metadata": {
  "kernelspec": {
   "display_name": "Python 3 (ipykernel)",
   "language": "python",
   "name": "python3"
  },
  "language_info": {
   "codemirror_mode": {
    "name": "ipython",
    "version": 3
   },
   "file_extension": ".py",
   "mimetype": "text/x-python",
   "name": "python",
   "nbconvert_exporter": "python",
   "pygments_lexer": "ipython3",
   "version": "3.9.12"
  }
 },
 "nbformat": 4,
 "nbformat_minor": 5
}
